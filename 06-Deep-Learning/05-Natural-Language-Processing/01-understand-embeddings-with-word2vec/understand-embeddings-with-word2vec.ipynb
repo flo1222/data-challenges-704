{
 "cells": [
  {
   "cell_type": "markdown",
   "metadata": {},
   "source": [
    "# Deep Learning - Day 5 - Understand embeddings with Word2Vec\n",
    "\n",
    "### Exercise objectives:\n",
    "- Convert words to vector representations thanks to embeddings\n",
    "- Discover the powerful Word2Vec algorithm\n",
    "\n",
    "<hr>\n",
    "<hr>\n",
    "\n",
    "Natural Language Processing corresponds to the automated study of language. To deal with texts, we have to convert them into meaningful representations that can be handled by computers. \n",
    "\n",
    "Usually, the first step consists of cleaning the data. As you have already done it during the past weeks, we won't emphasize this part today. However, if you have finished an exercise and you feel confortable with what you have, you are welcome to improve the data cleaning to achieve better performances.\n",
    "\n",
    "✅ **Good Practice** ✅ Never spend too much time on data cleaning! First, build the entire pipeline to have a baseline evaluation of your task. **Then, and only then, improve your data cleaning and _watch_ if it is really improving your score**. Otherwise, if you work on your data cleaning without baseline evaluation of your performances, you don't know whether your fancy data cleaning is improving the entire pipeline or not. And sometimes, it can get super counterintuitive ;)\n",
    "\n",
    "In this exercise, a large part of the data cleaning is already done. The next step is to convert each word of our vocabulary to a vector that can be fed to a Recurrent Neural Network. To do that, you will use the powerful and well-known Word2Vec algorithm.\n",
    "\n",
    "\n",
    "# The data\n",
    "\n",
    "Keras provides many datasets, among which the ÌMDB dataset: it corresponds to sentences that are movie reviews. Each of them is related to a score given by the review writer.\n",
    "\n",
    "❓ **Question** ❓ Let's first load the data. You don't have to understand what is going on in the function, it does not matter here.\n",
    "\n",
    "\n",
    "⚠️ **Warning** ⚠️ The `load_data` function has a `percentage_of_sentences` argument. Depending on your computer, there are chances that a too large number of sentences will make your compute slow down, or even freeze - your RAM can even overflow. For that reason, you can start with 20% of the sentences and see if your computer handles it. Otherwise, rerun with a lower number. On the other hand, you can increase the number if you feel like it. "
   ]
  },
  {
   "cell_type": "code",
   "execution_count": 1,
   "metadata": {
    "ExecuteTime": {
     "end_time": "2020-11-20T11:55:26.245107Z",
     "start_time": "2020-11-20T11:55:15.518643Z"
    }
   },
   "outputs": [],
   "source": [
    "from tensorflow.keras.datasets import imdb\n",
    "\n",
    "def load_data(percentage_of_sentences=None):\n",
    "    # Load the data\n",
    "    (sentences_train, y_train), (sentences_test, y_test) = imdb.load_data()\n",
    "    \n",
    "    # Take only a given percentage of the entire data\n",
    "    if percentage_of_sentences is not None:\n",
    "        assert(percentage_of_sentences> 0 and percentage_of_sentences<=100)\n",
    "        \n",
    "        len_train = int(percentage_of_sentences/100*len(sentences_train))\n",
    "        sentences_train = sentences_train[:len_train]\n",
    "        y_train = y_train[:len_train]\n",
    "        \n",
    "        len_test = int(percentage_of_sentences/100*len(sentences_test))\n",
    "        sentences_test = sentences_test[:len_test]\n",
    "        y_test = y_test[:len_test]\n",
    "            \n",
    "    # Load the {interger: word} representation\n",
    "    word_to_id = imdb.get_word_index()\n",
    "    word_to_id = {k:(v+3) for k,v in word_to_id.items()}\n",
    "    for i, w in enumerate(['<PAD>', '<START>', '<UNK>', '<UNUSED>']):\n",
    "        word_to_id[w] = i\n",
    "\n",
    "    id_to_word = {v:k for k, v in word_to_id.items()}\n",
    "\n",
    "    # Convert the list of integers to list of words (str)\n",
    "    X_train = [' '.join([id_to_word[_] for _ in sentence[1:]]) for sentence in sentences_train]\n",
    "    X_test = [' '.join([id_to_word[_] for _ in sentence[1:]]) for sentence in sentences_test]\n",
    "    \n",
    "    return X_train, y_train, X_test, y_test\n",
    "\n",
    "\n",
    "\n",
    "### Just run this cell to load the data\n",
    "X_train, y_train, X_test, y_test = load_data(percentage_of_sentences=20)"
   ]
  },
  {
   "cell_type": "markdown",
   "metadata": {},
   "source": [
    "Now that you have loaded the data, let's look at it!\n",
    "\n",
    "❓ **Question** ❓ `X_train` and `X_test` are lists of sentences. For each of them, let's plot some of the sentences with their respective scores stored in `y_train` and `y_test."
   ]
  },
  {
   "cell_type": "code",
   "execution_count": 2,
   "metadata": {
    "ExecuteTime": {
     "end_time": "2020-11-20T11:55:26.264321Z",
     "start_time": "2020-11-20T11:55:26.248966Z"
    }
   },
   "outputs": [
    {
     "data": {
      "text/plain": [
       "5000"
      ]
     },
     "execution_count": 2,
     "metadata": {},
     "output_type": "execute_result"
    }
   ],
   "source": [
    "len(y_train)"
   ]
  },
  {
   "cell_type": "markdown",
   "metadata": {},
   "source": [
    "You probaly see that the data have already been cleaned a little. \n",
    "\n",
    "Moreover, the task corresponds to a binary classification problem:\n",
    "- label 0 corresponds to a negative review\n",
    "- label 1 corresponds to a positive review\n",
    "\n",
    "As for now, your sentences correspond to only a long string, but your neural network does not know that this string is composed of different words. For that reason, you must convert each sentence (the full string) into a list words, i.e. a list of separated strings.\n",
    "\n",
    "For instance, 'this is a good movie' should become ['this', 'is', 'a', 'good', 'movie'].\n",
    "\n",
    "❓ **Question** ❓ Write a function to convert `X_train` and `X_test` from list of strings (sentences) to list of list of strings (words)."
   ]
  },
  {
   "cell_type": "code",
   "execution_count": 3,
   "metadata": {
    "ExecuteTime": {
     "end_time": "2020-11-20T11:55:27.598318Z",
     "start_time": "2020-11-20T11:55:26.267003Z"
    }
   },
   "outputs": [],
   "source": [
    "from nltk.tokenize import word_tokenize\n",
    "def convert_string(x):\n",
    "    word_tokens = word_tokenize(x) \n",
    "    text = [w for w in word_tokens ]\n",
    "    return text"
   ]
  },
  {
   "cell_type": "code",
   "execution_count": 4,
   "metadata": {
    "ExecuteTime": {
     "end_time": "2020-11-20T11:55:27.604691Z",
     "start_time": "2020-11-20T11:55:27.600686Z"
    }
   },
   "outputs": [],
   "source": [
    "import pandas as pd\n",
    "def convert(X):\n",
    "    df = pd.DataFrame(X)\n",
    "    df = df[0].map(convert_string)\n",
    "    return df[0]"
   ]
  },
  {
   "cell_type": "code",
   "execution_count": 5,
   "metadata": {
    "ExecuteTime": {
     "end_time": "2020-11-20T11:55:27.620760Z",
     "start_time": "2020-11-20T11:55:27.607202Z"
    }
   },
   "outputs": [],
   "source": [
    "def convert(X):\n",
    "    output = []\n",
    "    for x in X:\n",
    "        output.append(convert_string(x))\n",
    "    return output"
   ]
  },
  {
   "cell_type": "code",
   "execution_count": 6,
   "metadata": {
    "ExecuteTime": {
     "end_time": "2020-11-20T11:55:31.372421Z",
     "start_time": "2020-11-20T11:55:27.623115Z"
    }
   },
   "outputs": [],
   "source": [
    "sentences_train = convert(X_train)"
   ]
  },
  {
   "cell_type": "code",
   "execution_count": 7,
   "metadata": {
    "ExecuteTime": {
     "end_time": "2020-11-20T11:55:34.924752Z",
     "start_time": "2020-11-20T11:55:31.374833Z"
    }
   },
   "outputs": [],
   "source": [
    "sentences_train = convert(X_train)"
   ]
  },
  {
   "cell_type": "code",
   "execution_count": 8,
   "metadata": {
    "ExecuteTime": {
     "end_time": "2020-11-20T11:55:34.935313Z",
     "start_time": "2020-11-20T11:55:34.929013Z"
    }
   },
   "outputs": [
    {
     "data": {
      "text/plain": [
       "5000"
      ]
     },
     "execution_count": 8,
     "metadata": {},
     "output_type": "execute_result"
    }
   ],
   "source": [
    "len(sentences_train)"
   ]
  },
  {
   "cell_type": "code",
   "execution_count": 9,
   "metadata": {
    "ExecuteTime": {
     "end_time": "2020-11-20T11:55:34.953967Z",
     "start_time": "2020-11-20T11:55:34.939530Z"
    }
   },
   "outputs": [
    {
     "data": {
      "text/plain": [
       "5000"
      ]
     },
     "execution_count": 9,
     "metadata": {},
     "output_type": "execute_result"
    }
   ],
   "source": [
    "len(sentences_test)"
   ]
  },
  {
   "cell_type": "markdown",
   "metadata": {},
   "source": [
    "It is impossible to use strings into Neural Networks. Therefore, we have to convert each word into a mathematical representation, namely a vector. By the way, if a word is represented by a vector of size N, then a sentence of M words is represented by a vector of size M x N.\n",
    "\n",
    "All your words will then be vector (or points) in an N-dimensional space. This space is called the embedding space. And there are many ways to create this embedding space. Let's discover it.\n",
    "\n",
    "\n",
    "# Embedding with Word2Vec\n",
    "\n",
    "Now, let's use Word2Vec to embed the words of our sentences. Word2Vec will be able to convert each word to a fixed-size vectorial representation.\n",
    "\n",
    "For instance, we will have:\n",
    "- 'dog' --> [0.1, -0.3, 0.8]\n",
    "- 'cat' --> [-1.1, 2.3, 0.7]\n",
    "- 'apple' --> [3.1, 0.9, -4.7]\n",
    "\n",
    "Here, your embedding space is of size 3.\n",
    "\n",
    "What you expect is to have representation such as words with close meanings are close in this embedding space. As on this example:\n",
    "\n",
    "![Embedding](word_embedding.png)\n",
    "\n",
    "❓ **Question** ❓ Let's run Word2Vec! The following code imports word2vec from gensim, a great python package that makes the use of the word2vec algorithm easy, fast and accurate - which is not an easy task. The second line learns the embedding representation of the words thanks to the sentences in `X_train`."
   ]
  },
  {
   "cell_type": "code",
   "execution_count": 10,
   "metadata": {
    "ExecuteTime": {
     "end_time": "2020-11-20T11:55:40.678774Z",
     "start_time": "2020-11-20T11:55:34.957451Z"
    }
   },
   "outputs": [],
   "source": [
    "from gensim.models import Word2Vec\n",
    "\n",
    "word2vec = Word2Vec(sentences=sentences_train)"
   ]
  },
  {
   "cell_type": "markdown",
   "metadata": {},
   "source": [
    "Let's look at the embedded representation of some words.\n",
    "\n",
    "You can use `word2vec.wv` as a dictionnary.\n",
    "For instance, `word2vec.wv['dog']` will return a representation of `dog` in the embedding space.\n",
    "\n",
    "❓ **Question** ❓ Try different words - especially, try non-existing words to see that they don't have any representation (which is perfectly normal as their representation were not learn). "
   ]
  },
  {
   "cell_type": "code",
   "execution_count": 11,
   "metadata": {
    "ExecuteTime": {
     "end_time": "2020-11-20T11:55:40.686897Z",
     "start_time": "2020-11-20T11:55:40.680780Z"
    }
   },
   "outputs": [
    {
     "data": {
      "text/plain": [
       "array([ 0.11685441, -0.6367126 ,  0.59559625, -0.00354526,  0.04973419,\n",
       "       -0.31094006,  0.44199395, -0.43093494,  0.24989484, -0.45509326,\n",
       "       -0.32546085,  1.1615807 , -0.6846268 ,  0.07455268, -0.02679734,\n",
       "        0.2778562 , -0.17957568,  0.1464139 ,  0.23461102,  0.46855772,\n",
       "        0.06970315, -0.17492391, -0.2537847 ,  0.07909741, -0.565033  ,\n",
       "       -0.49535325, -0.26201484,  0.05681009, -0.03810886, -0.4440115 ,\n",
       "        0.01918341,  0.11030421,  0.02232978, -0.04947407, -0.08781505,\n",
       "       -0.12950088,  0.05062   ,  0.150914  , -0.09544436,  0.02153973,\n",
       "        0.1420245 , -0.31931892, -0.28491482, -0.15023689,  0.08363003,\n",
       "       -0.11006202, -0.18268937,  0.0402266 , -0.17265171,  0.3501789 ,\n",
       "        0.09998059, -0.02818276, -0.03364259, -0.3022367 , -0.32682505,\n",
       "       -0.14020601, -0.5903838 ,  0.43769118, -0.07113822, -0.23931849,\n",
       "        0.26175138,  0.16136634, -0.23350726,  0.41339937,  0.12596036,\n",
       "        0.02559268, -0.16367981, -0.26086348, -0.17697363, -0.30292132,\n",
       "       -0.09006216,  0.228499  , -0.0114287 , -0.21287075,  0.03545744,\n",
       "       -0.22523394, -0.12646574, -0.16629656, -0.29146856,  0.12603988,\n",
       "       -0.11927365, -0.25881436,  0.05530469, -0.39302856, -0.17199886,\n",
       "       -0.11019258,  0.4035047 ,  0.05686739, -0.31813774,  0.01319282,\n",
       "        0.0809656 , -0.07057556, -0.07807601,  0.10409856, -0.06459286,\n",
       "       -0.0443319 , -0.2808688 ,  0.05202787,  0.3228208 ,  0.432384  ],\n",
       "      dtype=float32)"
      ]
     },
     "execution_count": 11,
     "metadata": {},
     "output_type": "execute_result"
    }
   ],
   "source": [
    "word2vec.wv['dog']"
   ]
  },
  {
   "cell_type": "markdown",
   "metadata": {},
   "source": [
    "❓ **Question** ❓ What is the size of each word representation, and therefore, what is the size of the embedding space?"
   ]
  },
  {
   "cell_type": "code",
   "execution_count": 12,
   "metadata": {
    "ExecuteTime": {
     "end_time": "2020-11-20T11:55:40.711550Z",
     "start_time": "2020-11-20T11:55:40.689544Z"
    }
   },
   "outputs": [
    {
     "data": {
      "text/plain": [
       "100"
      ]
     },
     "execution_count": 12,
     "metadata": {},
     "output_type": "execute_result"
    }
   ],
   "source": [
    "len(word2vec.wv['dog'])"
   ]
  },
  {
   "cell_type": "markdown",
   "metadata": {},
   "source": [
    "How to know if this embedding make any sense? To do that, we will check that words with a close meaning have close representations. \n",
    "\n",
    "Let's use the `most_similar` method that, given an input word, display the \"closest\" words in the embedding space. If the embedding is well done, then words that have close meanings will have close representation in the embedding space.\n",
    "\n",
    "❓ **Question** ❓ Test the `most_similar` method on different words. \n",
    "\n",
    "❗ **Remark** ❗ Indeed, the quality of the closeness will depend on the quality of your embedding, and thus, depend on the number of sentences that you have loaded and from which you create your embedding."
   ]
  },
  {
   "cell_type": "code",
   "execution_count": 13,
   "metadata": {
    "ExecuteTime": {
     "end_time": "2020-11-20T11:55:40.762534Z",
     "start_time": "2020-11-20T11:55:40.713743Z"
    }
   },
   "outputs": [
    {
     "data": {
      "text/plain": [
       "[('designer', 0.9374794363975525),\n",
       " ('turtle', 0.9368194937705994),\n",
       " ('psychopath', 0.9344761371612549),\n",
       " ('bible', 0.9342087507247925),\n",
       " ('newspaper', 0.9341691732406616),\n",
       " ('strip', 0.932461142539978),\n",
       " ('celtic', 0.9313684105873108),\n",
       " ('mysterious', 0.9311025142669678),\n",
       " ('deranged', 0.9308477640151978),\n",
       " ('deserts', 0.9292114973068237)]"
      ]
     },
     "execution_count": 13,
     "metadata": {},
     "output_type": "execute_result"
    }
   ],
   "source": [
    "word2vec.wv.most_similar(\"ghost\")\n",
    "\n",
    "### TRY OTHER WORDS"
   ]
  },
  {
   "cell_type": "markdown",
   "metadata": {},
   "source": [
    "Similarly to `most_similar` used on words directly, we can use `similar_by_vector` on vectors to do the same thing :"
   ]
  },
  {
   "cell_type": "code",
   "execution_count": 14,
   "metadata": {
    "ExecuteTime": {
     "end_time": "2020-11-20T11:55:40.780178Z",
     "start_time": "2020-11-20T11:55:40.764520Z"
    }
   },
   "outputs": [
    {
     "data": {
      "text/plain": [
       "[('car', 0.9999999403953552),\n",
       " ('room', 0.9153921604156494),\n",
       " ('door', 0.9060153365135193),\n",
       " ('party', 0.902745246887207),\n",
       " ('bus', 0.8971437215805054),\n",
       " ('bed', 0.8936883807182312),\n",
       " ('truck', 0.8851297497749329),\n",
       " ('apartment', 0.8848811984062195),\n",
       " ('hospital', 0.8844089508056641),\n",
       " ('phone', 0.8839812874794006)]"
      ]
     },
     "execution_count": 14,
     "metadata": {},
     "output_type": "execute_result"
    }
   ],
   "source": [
    "word_embedding = word2vec.wv['car']\n",
    "word2vec.wv.similar_by_vector(word_embedding)"
   ]
  },
  {
   "cell_type": "markdown",
   "metadata": {},
   "source": [
    "# Arithmetic on words\n",
    "\n",
    "Now, let's do mathematical operations on words - meaning on their vector representations!\n",
    "\n",
    "As any word is represented as a vector, you can do basic arithmetic as\n",
    "\n",
    "W2V(good) - W2V(bad)\n",
    "\n",
    "❓ **Question** ❓ Do this mathematical operation and print the result"
   ]
  },
  {
   "cell_type": "code",
   "execution_count": 15,
   "metadata": {
    "ExecuteTime": {
     "end_time": "2020-11-20T11:55:40.821742Z",
     "start_time": "2020-11-20T11:55:40.792601Z"
    }
   },
   "outputs": [
    {
     "data": {
      "text/plain": [
       "array([-0.04390335, -0.6431211 , -0.19625473, -0.22282434,  0.67580837,\n",
       "        0.76538694,  0.23050857,  0.2974978 , -0.13932914,  1.2587726 ,\n",
       "        1.2114176 ,  0.56923723,  0.6077064 , -0.09835765, -0.21127532,\n",
       "       -0.5037682 , -0.05725896, -0.6611893 ,  1.3718266 , -0.5934688 ,\n",
       "        0.8135761 , -1.6234751 , -0.6097795 ,  0.16662914, -0.05636299,\n",
       "        0.1444493 , -0.40118307,  0.2126447 , -0.47307128,  0.2137022 ,\n",
       "        0.11255717, -0.21725217,  0.7535103 ,  0.50492793,  0.770488  ,\n",
       "       -0.3990624 , -0.48623765, -0.47431776,  0.4846716 , -0.9258467 ,\n",
       "       -0.7133251 , -0.74756014,  0.54881936,  0.8603411 , -1.1913621 ,\n",
       "       -0.05587924,  0.35516354, -0.8539561 ,  0.5595292 ,  0.19905552,\n",
       "       -0.51661867,  0.38598478, -0.07118998, -0.48684645,  0.05007751,\n",
       "        0.1369791 , -0.51251066,  0.5140549 , -0.12566435,  0.5334508 ,\n",
       "        0.33302197,  0.06901717,  0.9084401 ,  1.019923  ,  0.30005187,\n",
       "       -0.06801552,  0.842     ,  0.60516953, -0.8070967 ,  0.82219815,\n",
       "       -0.31073803,  0.7436086 , -0.07437837, -0.57015216, -0.29235864,\n",
       "       -0.6502379 ,  0.05356175, -0.10277641, -0.63469696,  0.47211933,\n",
       "        0.3662579 , -0.2544521 , -0.2526386 ,  0.30740494,  1.2528589 ,\n",
       "       -1.1388402 , -0.07678795,  0.4706874 , -0.3580585 , -0.4778996 ,\n",
       "       -0.05260383,  1.4319115 ,  0.22791697,  0.8086703 ,  0.48120576,\n",
       "        0.26874113, -0.43363976, -0.00303993,  0.38667607, -0.43320334],\n",
       "      dtype=float32)"
      ]
     },
     "execution_count": 15,
     "metadata": {},
     "output_type": "execute_result"
    }
   ],
   "source": [
    "word2vec.wv['good'] - word2vec.wv['bad']"
   ]
  },
  {
   "cell_type": "markdown",
   "metadata": {},
   "source": [
    "Now, image for a second that, somehow, the following equality holds true - just for a second\n",
    "\n",
    "    W2V(good) - W2V(bad) = W2V(nice) - W2V(unpleasant)\n",
    "\n",
    "which is equivalent to \n",
    "\n",
    "    W2V(good) - W2V(bad) + W2V(unpleasant) = W2V(nice).\n",
    "\n",
    "❓ **Question** ❓ Let's, just for fun (as it would be foolish of us to think that this equality holds true ...), do the operation W2V(good) - W2V(bad) + W2V(unpleasant) and store it in a `res` variable (which will be a vector of size 100 that you can print)."
   ]
  },
  {
   "cell_type": "code",
   "execution_count": 16,
   "metadata": {
    "ExecuteTime": {
     "end_time": "2020-11-20T11:55:40.859043Z",
     "start_time": "2020-11-20T11:55:40.832252Z"
    }
   },
   "outputs": [],
   "source": [
    "res = word2vec.wv['good'] - word2vec.wv['bad'] + word2vec.wv['unpleasant']"
   ]
  },
  {
   "cell_type": "markdown",
   "metadata": {},
   "source": [
    "We earlier said that, for any vector, it is possible to see the closest vectors in the embedding space.\n",
    "\n",
    "❓ **Question** ❓ Look at the closest vector (thanks to the `word2vec.wv.similar_by_vecto` function) of `res`"
   ]
  },
  {
   "cell_type": "code",
   "execution_count": 17,
   "metadata": {
    "ExecuteTime": {
     "end_time": "2020-11-20T11:55:40.914598Z",
     "start_time": "2020-11-20T11:55:40.860754Z"
    }
   },
   "outputs": [
    {
     "data": {
      "text/plain": [
       "[('decent', 0.43868982791900635),\n",
       " ('nice', 0.43384623527526855),\n",
       " ('good', 0.421086847782135),\n",
       " ('pleasant', 0.4203096926212311),\n",
       " ('gymkata', 0.41282597184181213),\n",
       " ('fine', 0.40869617462158203),\n",
       " ('for', 0.39671579003334045),\n",
       " ('atypical', 0.3904555141925812),\n",
       " ('uneasy', 0.3838363587856293),\n",
       " ('slot', 0.38013628125190735)]"
      ]
     },
     "execution_count": 17,
     "metadata": {},
     "output_type": "execute_result"
    }
   ],
   "source": [
    "word2vec.wv.similar_by_vector(res)"
   ]
  },
  {
   "cell_type": "markdown",
   "metadata": {},
   "source": [
    "Incredible right! You can do arithmetical operations on words!\n",
    "\n",
    "❓ **Question** ❓ You can try on arithmetic such as \n",
    "\n",
    "W2V(Boy) - W2V(Girl) = W2V(Man) - W2V(Woman)\n",
    "\n",
    "or \n",
    "\n",
    "W2V(Queen) - W2V(King) = W2V(actress) - W2V(actor)\n",
    "\n",
    "❗ **Remark** ❗ You will probably see that the results are not perfect. But don't forget that you trained your model on a very small corpus."
   ]
  },
  {
   "cell_type": "code",
   "execution_count": 18,
   "metadata": {
    "ExecuteTime": {
     "end_time": "2020-11-20T11:55:40.967151Z",
     "start_time": "2020-11-20T11:55:40.920834Z"
    }
   },
   "outputs": [],
   "source": [
    "### YOUR CODE HERE"
   ]
  },
  {
   "cell_type": "markdown",
   "metadata": {},
   "source": [
    "You might wonder where does this magic comes from (at quite a low price, you just run a line of code on a very small corpus and it was trained within few minutes). The magic comes from the way Word2Vec is trained. The details are quite complex, but you can remembed that Word2vec, in `word2vec = Word2Vec(sentences=X_train)` , actually trains a internal neural network (that you don't see).  \n",
    "\n",
    "In a nutshell, this internal NN predicts a word from the surroundings words in a sentences. So it chooses many splits in the different sentences, choose some words as inputs $X$  and a word as output $y$ which it tries to predict, in the embedding space.\n",
    "\n",
    "And as any neural network, Word2Vec has some hyperparameters. Let's check some. \n",
    "\n",
    "\n",
    "# Word2Vec hyperparameters\n",
    "\n",
    "\n",
    "❓ **Question** ❓ The first important hyperparameter is the `size` argument. It corresponds to the size of the embedding space. Learn a new `word2vec_2` model, still trained on the `X_train`, but with a smaller or higher `size`.\n",
    "\n",
    "Verify on some words that the corresponding embedding is of your selected size."
   ]
  },
  {
   "cell_type": "code",
   "execution_count": 19,
   "metadata": {
    "ExecuteTime": {
     "end_time": "2020-11-20T11:55:46.786003Z",
     "start_time": "2020-11-20T11:55:40.968817Z"
    }
   },
   "outputs": [],
   "source": [
    "word2vec_2 = Word2Vec(sentences=sentences_train, size=50)"
   ]
  },
  {
   "cell_type": "markdown",
   "metadata": {},
   "source": [
    "❓ **Question** ❓ Use the `word2vec.wv.vocab` attribute to display the size of the learnt vocabulary. On the other hand, compare it to the number of different words in `X_train`."
   ]
  },
  {
   "cell_type": "code",
   "execution_count": 20,
   "metadata": {
    "ExecuteTime": {
     "end_time": "2020-11-20T11:55:46.793759Z",
     "start_time": "2020-11-20T11:55:46.788967Z"
    }
   },
   "outputs": [
    {
     "data": {
      "text/plain": [
       "12799"
      ]
     },
     "execution_count": 20,
     "metadata": {},
     "output_type": "execute_result"
    }
   ],
   "source": [
    "len(word2vec.wv.vocab)"
   ]
  },
  {
   "cell_type": "code",
   "execution_count": 21,
   "metadata": {
    "ExecuteTime": {
     "end_time": "2020-11-20T11:55:46.826257Z",
     "start_time": "2020-11-20T11:55:46.795788Z"
    }
   },
   "outputs": [
    {
     "data": {
      "text/plain": [
       "12799"
      ]
     },
     "execution_count": 21,
     "metadata": {},
     "output_type": "execute_result"
    }
   ],
   "source": [
    "len(word2vec_2.wv.vocab)"
   ]
  },
  {
   "cell_type": "code",
   "execution_count": 22,
   "metadata": {
    "ExecuteTime": {
     "end_time": "2020-11-20T11:55:46.892014Z",
     "start_time": "2020-11-20T11:55:46.828128Z"
    }
   },
   "outputs": [],
   "source": [
    "words = [item for sublist in sentences_train for item in sublist]"
   ]
  },
  {
   "cell_type": "code",
   "execution_count": 23,
   "metadata": {
    "ExecuteTime": {
     "end_time": "2020-11-20T11:55:46.982005Z",
     "start_time": "2020-11-20T11:55:46.916988Z"
    }
   },
   "outputs": [
    {
     "data": {
      "text/plain": [
       "40374"
      ]
     },
     "execution_count": 23,
     "metadata": {},
     "output_type": "execute_result"
    }
   ],
   "source": [
    "len(set(words))"
   ]
  },
  {
   "cell_type": "markdown",
   "metadata": {},
   "source": [
    "There is an important difference between the number of words in the train sentences and in the Word2Vec vocabulary, even though it has been train on the train sentence set. The reasons comes from the second important hyperparameter of Word2Vec :  `min_count`. \n",
    "\n",
    "`min_count` is a integer that tells you how many occurences a given word should have to be learn in the embedding space. For instance, let's say that the word \"movie\" appears 1000 times in the corpus and \"simba\" only 2 times. If `min_count=3`, the word \"simba\" will be skipped during the training.\n",
    "\n",
    "The intention is to have only words that are sufficiently present in the corpus to have a robust embedded representation\n",
    "\n",
    "❓ **Question** ❓ Learn a new `word2vec_3` model with a `min_count` higher than 5 (which is the default value) and a `word2vec_4` with a `min_count` smaller than 5, and then, compare the size of the vocabulary for all the different word2vec that you have trained (you can choose any `size` you want)."
   ]
  },
  {
   "cell_type": "code",
   "execution_count": 24,
   "metadata": {
    "ExecuteTime": {
     "end_time": "2020-11-20T11:55:58.184102Z",
     "start_time": "2020-11-20T11:55:46.985708Z"
    }
   },
   "outputs": [],
   "source": [
    "word2vec_3 = Word2Vec(sentences=sentences_train, size=50, min_count = 10)\n",
    "word2vec_4 = Word2Vec(sentences=sentences_train, size=50, min_count = 3)"
   ]
  },
  {
   "cell_type": "code",
   "execution_count": 25,
   "metadata": {
    "ExecuteTime": {
     "end_time": "2020-11-20T11:55:58.191110Z",
     "start_time": "2020-11-20T11:55:58.186067Z"
    }
   },
   "outputs": [
    {
     "data": {
      "text/plain": [
       "7783"
      ]
     },
     "execution_count": 25,
     "metadata": {},
     "output_type": "execute_result"
    }
   ],
   "source": [
    "len(word2vec_3.wv.vocab)"
   ]
  },
  {
   "cell_type": "code",
   "execution_count": 26,
   "metadata": {
    "ExecuteTime": {
     "end_time": "2020-11-20T11:55:58.217379Z",
     "start_time": "2020-11-20T11:55:58.193802Z"
    }
   },
   "outputs": [
    {
     "data": {
      "text/plain": [
       "18227"
      ]
     },
     "execution_count": 26,
     "metadata": {},
     "output_type": "execute_result"
    }
   ],
   "source": [
    "len(word2vec_4.wv.vocab)"
   ]
  },
  {
   "cell_type": "markdown",
   "metadata": {},
   "source": [
    "Remember that we say that word2vec has an internal neural network that it optimizes based on some predictions? These predictions actually correspond to predicting a word based on surrounding words. The surroundings words are in a `window` which corresponds to the number of words taken into account. And you can train the word2vec with different `window` sizes.\n",
    "\n",
    "❓ **Question** ❓ Learn a new `word2vec_5` model with a `window` different than previously (default is 5)."
   ]
  },
  {
   "cell_type": "code",
   "execution_count": 27,
   "metadata": {
    "ExecuteTime": {
     "end_time": "2020-11-20T11:56:02.911089Z",
     "start_time": "2020-11-20T11:55:58.220013Z"
    }
   },
   "outputs": [],
   "source": [
    "word2vec_5 = Word2Vec(sentences=sentences_train, size=50, min_count = 10, window = 2)"
   ]
  },
  {
   "cell_type": "markdown",
   "metadata": {},
   "source": [
    "The arguments you have seen (`size`, `min_count` and `window`) are usually the one that you should start changing to get a better performance for your model.\n",
    "\n",
    "But you can also look at other arguments in the [documentation](https://radimrehurek.com/gensim/models/word2vec.html#gensim.models.word2vec.Text8Corpus)\n",
    "\n",
    "\n",
    "# Convert our train and test set to RNN ready data\n",
    "\n",
    "Now, let's convert the training and test data into their vector representation to be ready to be feed in RNNs.\n",
    "\n",
    "❓ **Question** ❓ Now, write a function that, given a sentence, returns a matrix that corresponds to the embedding of the full sentence, which means that you have to embeed each word one after the other and concatenate the result to output a 2D matrix (be sure that your output is a numpy array)\n",
    "\n",
    "❗ **Remark** ❗ You will probably notice that some words you are trying to convert throw errors as they are said not to belong to the dictionnary:\n",
    "\n",
    "- for the test set, this is understandable: some words were not in the train set and thus their embedded representation is unknwon\n",
    "- for the train set, due to `min_count` hyperparameter, not all the words have a vector representation\n",
    "\n",
    "In any case, just skip the missing words here."
   ]
  },
  {
   "cell_type": "code",
   "execution_count": 29,
   "metadata": {
    "ExecuteTime": {
     "end_time": "2020-11-20T11:56:31.738339Z",
     "start_time": "2020-11-20T11:56:31.727620Z"
    }
   },
   "outputs": [],
   "source": [
    "import numpy as np\n",
    "example = ['this', 'movie', 'is', 'the', 'worst', 'action', 'movie', 'ever']\n",
    "example_missing_words = ['this', 'movie', 'is', 'laaaaaaaaaame']\n",
    "\n",
    "def embed_sentence(word2vec, sentence):\n",
    "    output = []\n",
    "    for word in sentence:\n",
    "        if word in word2vec_3.wv.vocab:\n",
    "            output.append(word2vec.wv[word])\n",
    "        else:\n",
    "            continue\n",
    "    return np.array(output)  \n",
    "    \n",
    "### Checks\n",
    "embedded_sentence = embed_sentence(word2vec, example)\n",
    "assert(type(embedded_sentence) == np.ndarray)\n",
    "assert(embedded_sentence.shape == (8, 100))\n",
    "\n",
    "embedded_sentence_missing_words = embed_sentence(word2vec, example_missing_words)  \n",
    "assert(type(embedded_sentence_missing_words) == np.ndarray)\n",
    "assert(embedded_sentence_missing_words.shape == (3, 100))"
   ]
  },
  {
   "cell_type": "markdown",
   "metadata": {},
   "source": [
    "❓ **Question** ❓ Write a function that, given a list of sentence (each sentence being a list of words/strings), returns a list of embedded sentences (each sentence is a matrix). Apply this function to the train and test sentences\n",
    "\n",
    "Hint: Use the previous function `embed_sentence`"
   ]
  },
  {
   "cell_type": "code",
   "execution_count": 30,
   "metadata": {
    "ExecuteTime": {
     "end_time": "2020-11-20T11:56:34.940052Z",
     "start_time": "2020-11-20T11:56:34.921251Z"
    }
   },
   "outputs": [],
   "source": [
    "del words"
   ]
  },
  {
   "cell_type": "code",
   "execution_count": 31,
   "metadata": {
    "ExecuteTime": {
     "end_time": "2020-11-20T11:56:35.893348Z",
     "start_time": "2020-11-20T11:56:35.888502Z"
    }
   },
   "outputs": [],
   "source": [
    "del X_test\n",
    "del X_train"
   ]
  },
  {
   "cell_type": "code",
   "execution_count": 32,
   "metadata": {
    "ExecuteTime": {
     "end_time": "2020-11-20T11:56:41.234607Z",
     "start_time": "2020-11-20T11:56:36.584823Z"
    }
   },
   "outputs": [],
   "source": [
    "def embedding(word2vec, sentences):\n",
    "    output = []\n",
    "    for sentence in sentences:\n",
    "        output.append(embed_sentence(word2vec, sentence))\n",
    "    return np.array(output)  \n",
    "    \n",
    "X_trainf = embedding(word2vec, sentences_train)\n",
    "X_testf = embedding(word2vec, sentences_test)"
   ]
  },
  {
   "cell_type": "markdown",
   "metadata": {},
   "source": [
    "❓ **Question** ❓ In order to have ready-to-use adta, do not forget to pad them, as yesterday, in order to have tensors that can be divided in batch sizes during the optimization. Store the padedd values in `X_train_pad` and `X_test_pad`. Do not forget the important arguments of the padding ;)"
   ]
  },
  {
   "cell_type": "code",
   "execution_count": 33,
   "metadata": {
    "ExecuteTime": {
     "end_time": "2020-11-20T11:57:47.822773Z",
     "start_time": "2020-11-20T11:56:41.994897Z"
    }
   },
   "outputs": [],
   "source": [
    "from tensorflow.keras.preprocessing.sequence import pad_sequences\n",
    "X_train_pad = pad_sequences(X_trainf)\n",
    "X_test_pad = pad_sequences(X_testf)"
   ]
  },
  {
   "cell_type": "code",
   "execution_count": 34,
   "metadata": {
    "ExecuteTime": {
     "end_time": "2020-11-20T11:57:57.958614Z",
     "start_time": "2020-11-20T11:57:57.866279Z"
    }
   },
   "outputs": [
    {
     "data": {
      "text/plain": [
       "(5000, 1777, 100)"
      ]
     },
     "execution_count": 34,
     "metadata": {},
     "output_type": "execute_result"
    }
   ],
   "source": [
    "X_train_pad.shape"
   ]
  },
  {
   "cell_type": "code",
   "execution_count": 35,
   "metadata": {
    "ExecuteTime": {
     "end_time": "2020-11-20T11:57:58.760745Z",
     "start_time": "2020-11-20T11:57:58.746691Z"
    }
   },
   "outputs": [],
   "source": [
    "### YOUR CODE HERE\n",
    "\n",
    "assert(len(X_train_pad.shape) == 3)\n",
    "assert(len(X_test_pad.shape) == 3)\n",
    "assert(X_train_pad.shape[2] == 100)\n",
    "assert(X_test_pad.shape[2] == 100)"
   ]
  },
  {
   "cell_type": "markdown",
   "metadata": {},
   "source": [
    "# Load existing models: transfer learning\n",
    "\n",
    "There is a possibility that your computer cannot train Word2Vec on large corpus (or just takes too much time, or just that you want a word2vec trained on a very large corpus). In that case, you can directly load word2Vec embedding that have been preprained on other corpuses. This is another example of transfer learning.\n",
    "\n",
    "❓ **Question** ❓ To do that, look at available corpuses thanks to the following command: "
   ]
  },
  {
   "cell_type": "code",
   "execution_count": 36,
   "metadata": {
    "ExecuteTime": {
     "end_time": "2020-11-20T11:58:00.618313Z",
     "start_time": "2020-11-20T11:57:59.608386Z"
    }
   },
   "outputs": [
    {
     "name": "stdout",
     "output_type": "stream",
     "text": [
      "['fasttext-wiki-news-subwords-300', 'conceptnet-numberbatch-17-06-300', 'word2vec-ruscorpora-300', 'word2vec-google-news-300', 'glove-wiki-gigaword-50', 'glove-wiki-gigaword-100', 'glove-wiki-gigaword-200', 'glove-wiki-gigaword-300', 'glove-twitter-25', 'glove-twitter-50', 'glove-twitter-100', 'glove-twitter-200', '__testing_word2vec-matrix-synopsis']\n"
     ]
    }
   ],
   "source": [
    "import gensim.downloader as api\n",
    "print(list(api.info()['models'].keys()))"
   ]
  },
  {
   "cell_type": "markdown",
   "metadata": {},
   "source": [
    "❓ **Question** ❓ Load a pretrained model thanks to `api.load(name_of_your_corpus)` and check the size of the vocabulary, but also the size of the embedding space."
   ]
  },
  {
   "cell_type": "code",
   "execution_count": 39,
   "metadata": {
    "ExecuteTime": {
     "end_time": "2020-11-20T12:00:45.437973Z",
     "start_time": "2020-11-20T11:59:39.596173Z"
    }
   },
   "outputs": [
    {
     "name": "stdout",
     "output_type": "stream",
     "text": [
      "[==================================================] 100.0% 104.8/104.8MB downloaded\n"
     ]
    }
   ],
   "source": [
    "pretrained = api.load('glove-twitter-25')"
   ]
  },
  {
   "cell_type": "code",
   "execution_count": 41,
   "metadata": {
    "ExecuteTime": {
     "end_time": "2020-11-20T12:00:57.015797Z",
     "start_time": "2020-11-20T12:00:57.008178Z"
    }
   },
   "outputs": [
    {
     "name": "stderr",
     "output_type": "stream",
     "text": [
      "<ipython-input-41-b64d0c6d8f06>:1: DeprecationWarning: Call to deprecated `wv` (Attribute will be removed in 4.0.0, use self instead).\n",
      "  len(pretrained.wv.vocab)\n"
     ]
    },
    {
     "data": {
      "text/plain": [
       "1193514"
      ]
     },
     "execution_count": 41,
     "metadata": {},
     "output_type": "execute_result"
    }
   ],
   "source": [
    "len(pretrained.wv.vocab)"
   ]
  },
  {
   "cell_type": "code",
   "execution_count": null,
   "metadata": {},
   "outputs": [],
   "source": []
  }
 ],
 "metadata": {
  "kernelspec": {
   "display_name": "Python 3",
   "language": "python",
   "name": "python3"
  },
  "language_info": {
   "codemirror_mode": {
    "name": "ipython",
    "version": 3
   },
   "file_extension": ".py",
   "mimetype": "text/x-python",
   "name": "python",
   "nbconvert_exporter": "python",
   "pygments_lexer": "ipython3",
   "version": "3.8.5"
  },
  "toc": {
   "base_numbering": 1,
   "nav_menu": {},
   "number_sections": false,
   "sideBar": true,
   "skip_h1_title": false,
   "title_cell": "Table of Contents",
   "title_sidebar": "Contents",
   "toc_cell": false,
   "toc_position": {},
   "toc_section_display": true,
   "toc_window_display": false
  },
  "varInspector": {
   "cols": {
    "lenName": 16,
    "lenType": 16,
    "lenVar": 40
   },
   "kernels_config": {
    "python": {
     "delete_cmd_postfix": "",
     "delete_cmd_prefix": "del ",
     "library": "var_list.py",
     "varRefreshCmd": "print(var_dic_list())"
    },
    "r": {
     "delete_cmd_postfix": ") ",
     "delete_cmd_prefix": "rm(",
     "library": "var_list.r",
     "varRefreshCmd": "cat(var_dic_list()) "
    }
   },
   "position": {
    "height": "325.4px",
    "left": "1135px",
    "right": "20px",
    "top": "119px",
    "width": "350px"
   },
   "types_to_exclude": [
    "module",
    "function",
    "builtin_function_or_method",
    "instance",
    "_Feature"
   ],
   "window_display": false
  }
 },
 "nbformat": 4,
 "nbformat_minor": 2
}

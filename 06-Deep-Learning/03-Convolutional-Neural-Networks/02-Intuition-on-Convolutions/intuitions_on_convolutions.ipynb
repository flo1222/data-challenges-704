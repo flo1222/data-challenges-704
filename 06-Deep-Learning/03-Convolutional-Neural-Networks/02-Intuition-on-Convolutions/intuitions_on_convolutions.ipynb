{
 "cells": [
  {
   "cell_type": "markdown",
   "metadata": {},
   "source": [
    "# Deep Learning week - Day 3 - Intuition on Convolutions\n",
    "\n",
    "### Exercise objectives\n",
    "- Compute convolution operations\n",
    "- Visualize a convolution kernel\n",
    "- VIsualize the effect of a convolution on images\n",
    "\n",
    "<hr>\n",
    "<hr>\n",
    "\n",
    "\n",
    "**Convolutional Neural Networks** correspond the Neural Networks that are specially designed to work on images. \n",
    "\n",
    "This is made possible thanks to _convolutions_. This specific mathematical operations applies a _kernel_ to an input image and creates an output representation. The name of this output can change depending on the community. Here, let's talk about the output as it corresponds to the output of a layer, as in standard DL neurons. But it can also be \"convoluted representation/feature\", \"convolution\", or also \"activation\" as it corresponds to the activation of a given layer.\n",
    "\n",
    "<img src=\"convolution.png\" width=\"300\">\n",
    "\n",
    "⚠️ It is important to get that the same kernel, i.e. the same weights, are applied to different zones of the images. This is very different from standard DL operations where each weight of each neuron is related to only one input coordinate (which in this case would be each pixel). Here, the weight of a kernel is not applied to only one input, i.e. one pixel, but to different pixels, \"step by step\".\n",
    "\n",
    "You can think of each kernel (or each filter in case of color image) as a magnifying glass through which you see the image. Similarly to your eyes which have to do not capture everything at once, but that have to look at different parts before to capture the whole thing you are looking at.\n",
    "\n",
    "So let's see a bit deeper at convolutions in general, and their impact in Convolutional Neural Networks.\n",
    "\n",
    "\n",
    "# Data\n",
    "\n",
    "❓ First use the following function to load the data. \n",
    "\n",
    "⚠️ Restrict any desire to change the shapes or types of the outputs, this can arm further questions."
   ]
  },
  {
   "cell_type": "code",
   "execution_count": 1,
   "metadata": {
    "ExecuteTime": {
     "end_time": "2020-11-18T13:08:55.851042Z",
     "start_time": "2020-11-18T13:08:55.013711Z"
    }
   },
   "outputs": [],
   "source": [
    "import os\n",
    "import numpy as np\n",
    "\n",
    "from matplotlib.pyplot import imread\n",
    "\n",
    "import matplotlib.pyplot as plt\n",
    "%matplotlib inline\n",
    "\n",
    "def load_data(path):\n",
    "    nb_circles = 100\n",
    "    nb_triangles = 100\n",
    "    \n",
    "    X, y = [], []\n",
    "    \n",
    "    for i in range(nb_circles):\n",
    "        c_path = os.path.join(path, 'circles', f'circle_{i}.png')\n",
    "        X.append(imread(c_path)[:, :, :1])\n",
    "        y.append(0)\n",
    "    \n",
    "    for i in range(nb_triangles):\n",
    "        t_path = os.path.join(path, 'triangles', f'triangle_{i}.png')\n",
    "        X.append(imread(t_path)[:, :, :1])\n",
    "        y.append(1)\n",
    "        \n",
    "    c = list(zip(X, y))\n",
    "    np.random.shuffle(c)\n",
    "    X, y = zip(*c)\n",
    "        \n",
    "    return np.array(X), np.array(y)\n",
    "        \n",
    "X, y = load_data('data')"
   ]
  },
  {
   "cell_type": "markdown",
   "metadata": {},
   "source": [
    "Let's inspect the data. \n",
    "\n",
    "❓ Check the shape of your data. Especially, why an additional dimension of size 1 for `X`? "
   ]
  },
  {
   "cell_type": "code",
   "execution_count": 2,
   "metadata": {
    "ExecuteTime": {
     "end_time": "2020-11-18T13:08:55.860513Z",
     "start_time": "2020-11-18T13:08:55.853098Z"
    }
   },
   "outputs": [
    {
     "data": {
      "text/plain": [
       "(200, 76, 78, 1)"
      ]
     },
     "execution_count": 2,
     "metadata": {},
     "output_type": "execute_result"
    }
   ],
   "source": [
    "X.shape"
   ]
  },
  {
   "cell_type": "code",
   "execution_count": 3,
   "metadata": {
    "ExecuteTime": {
     "end_time": "2020-11-18T13:08:56.068403Z",
     "start_time": "2020-11-18T13:08:55.863663Z"
    }
   },
   "outputs": [
    {
     "data": {
      "text/plain": [
       "<matplotlib.image.AxesImage at 0x7fed68f9acd0>"
      ]
     },
     "execution_count": 3,
     "metadata": {},
     "output_type": "execute_result"
    },
    {
     "data": {
      "image/png": "[encoded data removed]",
      "text/plain": [
       "<Figure size 432x288 with 1 Axes>"
      ]
     },
     "metadata": {
      "needs_background": "light"
     },
     "output_type": "display_data"
    }
   ],
   "source": [
    "import matplotlib.pyplot as plt\n",
    "%matplotlib inline\n",
    "plt.imshow(X[2], cmap='gray')"
   ]
  },
  {
   "cell_type": "markdown",
   "metadata": {},
   "source": [
    "❓ Do the input images need some normalization? If so, do it with Keras utils or by yourself."
   ]
  },
  {
   "cell_type": "code",
   "execution_count": 4,
   "metadata": {
    "ExecuteTime": {
     "end_time": "2020-11-18T13:08:56.074578Z",
     "start_time": "2020-11-18T13:08:56.071018Z"
    }
   },
   "outputs": [],
   "source": [
    "# NO"
   ]
  },
  {
   "cell_type": "markdown",
   "metadata": {},
   "source": [
    "❓ Display some images and their respective label (the images are black and white, therefore use `cmap=gray` in the dedicated matplotlib function - otherwise, you will get unrelevant and weird colors)."
   ]
  },
  {
   "cell_type": "code",
   "execution_count": 5,
   "metadata": {
    "ExecuteTime": {
     "end_time": "2020-11-18T13:08:56.231369Z",
     "start_time": "2020-11-18T13:08:56.077154Z"
    },
    "scrolled": true
   },
   "outputs": [
    {
     "data": {
      "text/plain": [
       "<matplotlib.image.AxesImage at 0x7fed66e84970>"
      ]
     },
     "execution_count": 5,
     "metadata": {},
     "output_type": "execute_result"
    },
    {
     "data": {
      "image/png": "[encoded data removed]",
      "text/plain": [
       "<Figure size 432x288 with 1 Axes>"
      ]
     },
     "metadata": {
      "needs_background": "light"
     },
     "output_type": "display_data"
    }
   ],
   "source": [
    "plt.imshow(X[0], cmap='gray')"
   ]
  },
  {
   "cell_type": "markdown",
   "metadata": {},
   "source": [
    "❓ How many classes to predict are there? It should already give you an information on the last layer of your CNN."
   ]
  },
  {
   "cell_type": "code",
   "execution_count": 6,
   "metadata": {
    "ExecuteTime": {
     "end_time": "2020-11-18T13:08:56.237625Z",
     "start_time": "2020-11-18T13:08:56.234016Z"
    }
   },
   "outputs": [],
   "source": [
    "# there are 2 classes"
   ]
  },
  {
   "cell_type": "markdown",
   "metadata": {},
   "source": [
    "# Convolutions\n",
    "\n",
    "The following function allows to apply a kernel to an image => a convolution. \n",
    "\n",
    "⚠️ Be careful though as _convolution_ operation are slighlty different in signal processing. For instance, the numpy.convolve function does not compute the convolution in the Deep Learning sense.\n",
    "\n",
    "⚠️ Keras convolutions are a bit more complex as they deal with padding and slide. This is a simplified example.\n",
    "\n",
    "⚠️ Be careful: convolution sometimes refers to _one_ operation. Sometimes to the operations repeated on the entire image.\n",
    "\n",
    "❓ Load the function and go through the lines to understand what it is doing."
   ]
  },
  {
   "cell_type": "code",
   "execution_count": 7,
   "metadata": {
    "ExecuteTime": {
     "end_time": "2020-11-18T13:08:56.258049Z",
     "start_time": "2020-11-18T13:08:56.239885Z"
    }
   },
   "outputs": [],
   "source": [
    "def compute_convolution(img, kernel):\n",
    "    # Parameters\n",
    "    kernel = np.array(kernel)\n",
    "    kernel_height, kernel_width = kernel.shape\n",
    "\n",
    "    img = np.squeeze(img) # Removes dimensions of size 1\n",
    "    img_height, img_width = img.shape\n",
    "    \n",
    "    array = []\n",
    "\n",
    "    for x in range(img_height-kernel_height):\n",
    "        arr = []\n",
    "        \n",
    "        for y in range(img_width - kernel_width):\n",
    "            \n",
    "            a = np.multiply(img[x:x+kernel_height, y:y+kernel_width], kernel)\n",
    "            arr.append(a.sum())\n",
    "            \n",
    "        array.append(arr)\n",
    "        \n",
    "    return array"
   ]
  },
  {
   "cell_type": "markdown",
   "metadata": {
    "scrolled": false
   },
   "source": [
    "❓ Apply the convolution with the following kernel to any image from the input dataset. Display the input and output image to see the difference"
   ]
  },
  {
   "cell_type": "code",
   "execution_count": 8,
   "metadata": {
    "ExecuteTime": {
     "end_time": "2020-11-18T13:08:56.317545Z",
     "start_time": "2020-11-18T13:08:56.260970Z"
    }
   },
   "outputs": [],
   "source": [
    "identity_kernel = [\n",
    "    [0, 0, 0],\n",
    "    [0, 1, 0],\n",
    "    [0, 0, 0]\n",
    "]\n",
    "\n",
    "test = compute_convolution(X[0], identity_kernel)"
   ]
  },
  {
   "cell_type": "code",
   "execution_count": 9,
   "metadata": {
    "ExecuteTime": {
     "end_time": "2020-11-18T13:08:56.453915Z",
     "start_time": "2020-11-18T13:08:56.320381Z"
    }
   },
   "outputs": [
    {
     "data": {
      "text/plain": [
       "<matplotlib.image.AxesImage at 0x7fed66e26220>"
      ]
     },
     "execution_count": 9,
     "metadata": {},
     "output_type": "execute_result"
    },
    {
     "data": {
      "image/png": "[encoded data removed]",
      "text/plain": [
       "<Figure size 432x288 with 1 Axes>"
      ]
     },
     "metadata": {
      "needs_background": "light"
     },
     "output_type": "display_data"
    }
   ],
   "source": [
    "plt.imshow(test, cmap='gray')"
   ]
  },
  {
   "cell_type": "markdown",
   "metadata": {},
   "source": [
    "The previous kernel corresponds to the _identity_ kernel, meaning that the output is equal to the output... It basically does nothing. You can easily figure this out by thinking about the operation it does on the image : only one pixel per convolution operation is kept as the other are multiplied by 0.\n",
    "\n",
    "❓ Repeat the operation with the following function with the following kernel, once on an triangle and once on a rectangle. \n",
    "\n",
    "The following printing function ease the visualization. (let activation to `False`)"
   ]
  },
  {
   "cell_type": "code",
   "execution_count": 10,
   "metadata": {
    "ExecuteTime": {
     "end_time": "2020-11-18T13:08:56.634137Z",
     "start_time": "2020-11-18T13:08:56.456781Z"
    }
   },
   "outputs": [
    {
     "data": {
      "image/png": "[encoded data removed]",
      "text/plain": [
       "<Figure size 720x360 with 3 Axes>"
      ]
     },
     "metadata": {
      "needs_background": "light"
     },
     "output_type": "display_data"
    }
   ],
   "source": [
    "kernel_1 = [\n",
    "    [1, 1, 1],\n",
    "    [0, 0, 0],\n",
    "    [-1, -1, -1]\n",
    "]\n",
    "\n",
    "def plot_convolution(img, kernel, activation=False):\n",
    "    img = np.squeeze(img)\n",
    "    output_img = compute_convolution(img, kernel)\n",
    "    if activation:\n",
    "        output_img = np.maximum(output_img, 0)\n",
    "    \n",
    "    plt.figure(figsize=(10, 5))\n",
    "    \n",
    "    ax1 = plt.subplot2grid((3,3),(0,0), rowspan=3)\n",
    "    ax1.imshow(img, cmap='gray')\n",
    "    ax1.title.set_text('Input image')\n",
    "    \n",
    "    ax2 = plt.subplot2grid((3,3),(1, 1))\n",
    "    ax2.imshow(kernel, cmap='gray')\n",
    "    ax2.title.set_text('Kernel')    \n",
    "    \n",
    "    ax3 = plt.subplot2grid((3,3),(0, 2), rowspan=3)\n",
    "    ax3.imshow(output_img, cmap='gray')\n",
    "    ax3.title.set_text('Output image')    \n",
    "\n",
    "    for ax in [ax1, ax2, ax3]:\n",
    "        ax.axes.get_xaxis().set_visible(False)\n",
    "        ax.axes.get_yaxis().set_visible(False)\n",
    "    \n",
    "plot_convolution(X[0], kernel_1)"
   ]
  },
  {
   "cell_type": "markdown",
   "metadata": {},
   "source": [
    "❓ Let's try to understand why this is meaningful. First, white colors correspond to high values and black to low values. In a neural network, just after a regular neuron or a convolution, there is an activation function. When the activation function is a `relu`, it just correponds to setting the negative values to 0.\n",
    "\n",
    "Well, let's see what it means in the case of a CNN. Rerun the previous functions with `activation` set to `True` (in this case, the activation fuction _is_ the relu)."
   ]
  },
  {
   "cell_type": "code",
   "execution_count": 11,
   "metadata": {
    "ExecuteTime": {
     "end_time": "2020-11-18T13:08:56.807151Z",
     "start_time": "2020-11-18T13:08:56.637377Z"
    }
   },
   "outputs": [
    {
     "data": {
      "image/png": "[encoded data removed]",
      "text/plain": [
       "<Figure size 720x360 with 3 Axes>"
      ]
     },
     "metadata": {
      "needs_background": "light"
     },
     "output_type": "display_data"
    }
   ],
   "source": [
    "plot_convolution(X[0], kernel_1, activation = True)"
   ]
  },
  {
   "cell_type": "markdown",
   "metadata": {},
   "source": [
    "❓ This kernel is actually highlithing the edges in a given direction. Try the next following kernels to check the different edges it can detect."
   ]
  },
  {
   "cell_type": "code",
   "execution_count": 12,
   "metadata": {
    "ExecuteTime": {
     "end_time": "2020-11-18T13:08:56.982556Z",
     "start_time": "2020-11-18T13:08:56.809908Z"
    }
   },
   "outputs": [
    {
     "data": {
      "image/png": "[encoded data removed]",
      "text/plain": [
       "<Figure size 720x360 with 3 Axes>"
      ]
     },
     "metadata": {
      "needs_background": "light"
     },
     "output_type": "display_data"
    }
   ],
   "source": [
    "kernel_2 = [\n",
    "    [-1, -1, -1],\n",
    "    [0, 0, 0],   \n",
    "    [1, 1, 1],\n",
    "]\n",
    "\n",
    "kernel_3 = [\n",
    "    [-1, 0, 1],\n",
    "    [-1, 0, 1],\n",
    "    [-1, 0, 1]\n",
    "]\n",
    "\n",
    "kernel_4 = [\n",
    "    [1, 0, -1],\n",
    "    [1, 0, -1],\n",
    "    [1, 0, -1]\n",
    "]\n",
    "\n",
    "plot_convolution(X[0], kernel_4, activation = True)"
   ]
  },
  {
   "cell_type": "markdown",
   "metadata": {},
   "source": [
    "❓ This is not always easy to understand what the kernel is going to do. Nonetheless, try different kernels to see their effect on the image. Moreover, the size of kernel before was arbitrary. You should also try to change it.\n",
    "\n",
    "Tip: you can use the `numpy.random.uniform` function to try kernels at random."
   ]
  },
  {
   "cell_type": "code",
   "execution_count": 13,
   "metadata": {
    "ExecuteTime": {
     "end_time": "2020-11-18T13:08:57.151039Z",
     "start_time": "2020-11-18T13:08:56.984833Z"
    }
   },
   "outputs": [
    {
     "data": {
      "image/png": "[encoded data removed]",
      "text/plain": [
       "<Figure size 720x360 with 3 Axes>"
      ]
     },
     "metadata": {
      "needs_background": "light"
     },
     "output_type": "display_data"
    }
   ],
   "source": [
    "ker = np.random.random((3,3))\n",
    "plot_convolution(X[0], ker, activation = True)"
   ]
  },
  {
   "cell_type": "markdown",
   "metadata": {},
   "source": [
    "Now that you got the idea of what the convolution is doing, let's see how it goes in a real Convolutional Neural Network.\n",
    "\n",
    "# Convolutional Neural Network\n",
    "\n",
    "\n",
    "❓ Write a convolutional network that has \n",
    "- a convolutional layer with 32 filters with (5, 5) kernels.\n",
    "- a convolutional layer with 64 filters with (3, 3) kernels.\n",
    "\n",
    "After the flattening and before the last layer, you can add a Dense layer of the size of your choice - be reasonable.\n",
    "And do not forget to add a max-pooling layer (with (2, 2) pool sizes) after each convolution.\n",
    "\n",
    "Also, be sure to compile your model with the adequate parameters"
   ]
  },
  {
   "cell_type": "code",
   "execution_count": 73,
   "metadata": {
    "ExecuteTime": {
     "end_time": "2020-11-18T13:25:56.279165Z",
     "start_time": "2020-11-18T13:25:56.269551Z"
    }
   },
   "outputs": [],
   "source": [
    "from tensorflow.keras import layers\n",
    "from tensorflow.keras import models\n",
    "\n",
    "def initialize_model():\n",
    "    model = models.Sequential()\n",
    "\n",
    "    model.add(layers.Conv2D(32, kernel_size=(5,5), activation='relu', input_shape=(76, 78, 1)))\n",
    "    model.add(layers.MaxPooling2D(pool_size=(2,2)))\n",
    "    model.add(layers.Conv2D(54, kernel_size=(3,3), activation='relu'))\n",
    "    model.add(layers.MaxPooling2D(pool_size=(2,2)))\n",
    "    model.add(layers.Flatten())\n",
    "    model.add(layers.Dense(10, activation='relu'))\n",
    "    model.add(layers.Dense(1, activation='sigmoid'))\n",
    "    \n",
    "    ### Model compilation\n",
    "    model.compile(loss='binary_crossentropy', optimizer='adam', metrics=['accuracy'])\n",
    "    \n",
    "    return model"
   ]
  },
  {
   "cell_type": "markdown",
   "metadata": {},
   "source": [
    "❓ Fit the model. You should achieve a accuracy of at least 90. Here, the point is not to bother with overfitting, so do not worry much as you would have to if you have a high score. "
   ]
  },
  {
   "cell_type": "code",
   "execution_count": 74,
   "metadata": {
    "ExecuteTime": {
     "end_time": "2020-11-18T13:25:56.618937Z",
     "start_time": "2020-11-18T13:25:56.611571Z"
    }
   },
   "outputs": [],
   "source": [
    "from sklearn.model_selection import train_test_split\n",
    "X_train, X_test, y_train, y_test = train_test_split(X, y, test_size = 0.3)"
   ]
  },
  {
   "cell_type": "code",
   "execution_count": 77,
   "metadata": {
    "ExecuteTime": {
     "end_time": "2020-11-18T13:27:16.141443Z",
     "start_time": "2020-11-18T13:27:03.096054Z"
    }
   },
   "outputs": [
    {
     "name": "stdout",
     "output_type": "stream",
     "text": [
      "Epoch 1/30\n",
      "9/9 [==============================] - 0s 45ms/step - loss: 0.7253 - accuracy: 0.5214\n",
      "Epoch 2/30\n",
      "9/9 [==============================] - 0s 42ms/step - loss: 0.6931 - accuracy: 0.5214\n",
      "Epoch 3/30\n",
      "9/9 [==============================] - 0s 40ms/step - loss: 0.6926 - accuracy: 0.5500\n",
      "Epoch 4/30\n",
      "9/9 [==============================] - 0s 45ms/step - loss: 0.6973 - accuracy: 0.5786\n",
      "Epoch 5/30\n",
      "9/9 [==============================] - 0s 42ms/step - loss: 0.6684 - accuracy: 0.5429\n",
      "Epoch 6/30\n",
      "9/9 [==============================] - 0s 42ms/step - loss: 0.6054 - accuracy: 0.6143\n",
      "Epoch 7/30\n",
      "9/9 [==============================] - 0s 40ms/step - loss: 0.5225 - accuracy: 0.7357\n",
      "Epoch 8/30\n",
      "9/9 [==============================] - 0s 42ms/step - loss: 0.4561 - accuracy: 0.8571\n",
      "Epoch 9/30\n",
      "9/9 [==============================] - 0s 42ms/step - loss: 0.4123 - accuracy: 0.8571\n",
      "Epoch 10/30\n",
      "9/9 [==============================] - 0s 41ms/step - loss: 0.3939 - accuracy: 0.9429\n",
      "Epoch 11/30\n",
      "9/9 [==============================] - 0s 40ms/step - loss: 0.3757 - accuracy: 0.9357\n",
      "Epoch 12/30\n",
      "9/9 [==============================] - 0s 42ms/step - loss: 0.3632 - accuracy: 0.9714\n",
      "Epoch 13/30\n",
      "9/9 [==============================] - 0s 41ms/step - loss: 0.3566 - accuracy: 0.9929\n",
      "Epoch 14/30\n",
      "9/9 [==============================] - 0s 41ms/step - loss: 0.3474 - accuracy: 0.9929\n",
      "Epoch 15/30\n",
      "9/9 [==============================] - 0s 40ms/step - loss: 0.3424 - accuracy: 0.9929\n",
      "Epoch 16/30\n",
      "9/9 [==============================] - 0s 41ms/step - loss: 0.3385 - accuracy: 1.0000\n",
      "Epoch 17/30\n",
      "9/9 [==============================] - 0s 40ms/step - loss: 0.3340 - accuracy: 0.9929\n",
      "Epoch 18/30\n",
      "9/9 [==============================] - 0s 41ms/step - loss: 0.3309 - accuracy: 1.0000\n",
      "Epoch 19/30\n",
      "9/9 [==============================] - 0s 40ms/step - loss: 0.3271 - accuracy: 1.0000\n",
      "Epoch 20/30\n",
      "9/9 [==============================] - 0s 41ms/step - loss: 0.3247 - accuracy: 1.0000\n",
      "Epoch 21/30\n",
      "9/9 [==============================] - 0s 42ms/step - loss: 0.3230 - accuracy: 1.0000\n",
      "Epoch 22/30\n",
      "9/9 [==============================] - 0s 40ms/step - loss: 0.3196 - accuracy: 1.0000\n",
      "Epoch 23/30\n",
      "9/9 [==============================] - 0s 40ms/step - loss: 0.3162 - accuracy: 1.0000\n",
      "Epoch 24/30\n",
      "9/9 [==============================] - 0s 40ms/step - loss: 0.3138 - accuracy: 1.0000\n",
      "Epoch 25/30\n",
      "9/9 [==============================] - 0s 42ms/step - loss: 0.3110 - accuracy: 1.0000\n",
      "Epoch 26/30\n",
      "9/9 [==============================] - 0s 41ms/step - loss: 0.3155 - accuracy: 1.0000\n",
      "Epoch 27/30\n",
      "9/9 [==============================] - 0s 40ms/step - loss: 0.3085 - accuracy: 1.0000\n",
      "Epoch 28/30\n",
      "9/9 [==============================] - 0s 41ms/step - loss: 0.3050 - accuracy: 1.0000\n",
      "Epoch 29/30\n",
      "9/9 [==============================] - 0s 40ms/step - loss: 0.3029 - accuracy: 1.0000\n",
      "Epoch 30/30\n",
      "9/9 [==============================] - 0s 41ms/step - loss: 0.3011 - accuracy: 1.0000\n"
     ]
    }
   ],
   "source": [
    "from tensorflow.keras.callbacks import EarlyStopping\n",
    "\n",
    "es = EarlyStopping(patience=10)\n",
    "\n",
    "model = initialize_model()\n",
    "\n",
    "history = model.fit(\n",
    "    X_train, y_train,  \n",
    "    batch_size = 16, \n",
    "    epochs = 30,\n",
    "    verbose = 1,\n",
    "    callbacks=[es]\n",
    "    )"
   ]
  },
  {
   "cell_type": "code",
   "execution_count": 78,
   "metadata": {
    "ExecuteTime": {
     "end_time": "2020-11-18T13:27:16.493635Z",
     "start_time": "2020-11-18T13:27:16.340120Z"
    }
   },
   "outputs": [
    {
     "name": "stdout",
     "output_type": "stream",
     "text": [
      "2/2 [==============================] - 0s 9ms/step - loss: 0.3364 - accuracy: 0.9000\n"
     ]
    }
   ],
   "source": [
    "results = model.evaluate(X_test, y_test)"
   ]
  },
  {
   "cell_type": "markdown",
   "metadata": {},
   "source": [
    "Note about the number of kernels per filters:\n",
    "- if an image has three colors, therefore three channels, the filters of the first layer will have 3 kernels. if the image has one color, the filters of the first layer will have 1 kernel only. In each case, as many kernels as channels.\n",
    "- each filter of the first layer output a output which _becomes_ a channel for the next layer.\n",
    "\n",
    "Therefore: \n",
    "- as the first layer has 32 filters, there will be 32 outputs, i.e. 32 channels\n",
    "- thus, each filter of the second layer will have 32 kernels, each for a given channel of the output of the first layer\n",
    "\n",
    "It is possible to retrieve the values of the different kernels in the CNN. Look at the following question that will return the value of a kernel depending on:\n",
    "- the layer number, which can be only `0 `or `2`, as the convolution layers correspond to the first and third layer of the CNN\n",
    "- the filter number, where there is 32 filters in the first convolution, and 64 filters in the second convolution\n",
    "- the channel number, where there is 1 channel in the first convolution, and 32 channels in the second convolution\n",
    "\n",
    "\n",
    "❓ Get some kernels and display them to see what the CNN has learnt. "
   ]
  },
  {
   "cell_type": "code",
   "execution_count": 28,
   "metadata": {
    "ExecuteTime": {
     "end_time": "2020-11-18T13:13:43.166993Z",
     "start_time": "2020-11-18T13:13:43.160238Z"
    }
   },
   "outputs": [],
   "source": [
    "def get_kernel(layer_number, filter_number, channel_number):\n",
    "\n",
    "    weight_or_bias = 0\n",
    "    k = model.layers[layer_number].weights[0].numpy()[:, :, channel_number, filter_number]\n",
    "\n",
    "    return k\n",
    "\n",
    "kernel = get_kernel(0, 2, 0)"
   ]
  },
  {
   "cell_type": "code",
   "execution_count": 29,
   "metadata": {
    "ExecuteTime": {
     "end_time": "2020-11-18T13:14:00.462427Z",
     "start_time": "2020-11-18T13:14:00.288241Z"
    }
   },
   "outputs": [
    {
     "data": {
      "image/png": "[encoded data removed]",
      "text/plain": [
       "<Figure size 720x360 with 3 Axes>"
      ]
     },
     "metadata": {
      "needs_background": "light"
     },
     "output_type": "display_data"
    }
   ],
   "source": [
    "plot_convolution(X[0], kernel, activation = True)"
   ]
  },
  {
   "cell_type": "markdown",
   "metadata": {},
   "source": [
    "❓ Display some kernels from the second convolutional layer."
   ]
  },
  {
   "cell_type": "code",
   "execution_count": 30,
   "metadata": {
    "ExecuteTime": {
     "end_time": "2020-11-18T13:14:14.358531Z",
     "start_time": "2020-11-18T13:14:14.186619Z"
    }
   },
   "outputs": [
    {
     "data": {
      "image/png": "[encoded data removed]",
      "text/plain": [
       "<Figure size 720x360 with 3 Axes>"
      ]
     },
     "metadata": {
      "needs_background": "light"
     },
     "output_type": "display_data"
    }
   ],
   "source": [
    "kernel = get_kernel(2, 3, 1)\n",
    "plot_convolution(X[0], kernel, activation = True)"
   ]
  },
  {
   "cell_type": "markdown",
   "metadata": {},
   "source": [
    "You can visualize the activation of the CNN after the second convolution. However, you would need to compute the activations after the first layer, then compute the MaxPooling, etc.\n",
    "\n",
    "For these reason, we will use a function which computes the different activation through the entire network. This will ease the representation. \n",
    "\n",
    "⚠️ The following lines and function are using specific Keras functions and attributes. There are out of the scope of today's exercises, therefore do not spend much time trying to understand them. On the other hand, these functions might be very useful during the project weeks as there happens to be projects related to imaging data. In such situation, you can come back to the following code to better understand it ;)\n",
    "\n",
    "❓ Run the following cell. The function allows to directly print the activation after the second layer"
   ]
  },
  {
   "cell_type": "code",
   "execution_count": 31,
   "metadata": {
    "ExecuteTime": {
     "end_time": "2020-11-18T13:14:55.819481Z",
     "start_time": "2020-11-18T13:14:53.239805Z"
    }
   },
   "outputs": [],
   "source": [
    "layer_outputs = [layer.output for layer in model.layers]\n",
    "activation_model = models.Model(inputs=model.input, outputs=layer_outputs)\n",
    "activations = activation_model.predict(X) \n",
    "\n",
    "\n",
    "def get_activation(activations, image_number, layer_number, filter_number):\n",
    "    return activations[layer_number][image_number][:, :, filter_number]"
   ]
  },
  {
   "cell_type": "markdown",
   "metadata": {},
   "source": [
    "❓ Display the output after the second convolution layer - choose any image and filter number. You can play around to see how the information of an image _flows_ within the network."
   ]
  },
  {
   "cell_type": "code",
   "execution_count": 65,
   "metadata": {
    "ExecuteTime": {
     "end_time": "2020-11-18T13:21:41.230988Z",
     "start_time": "2020-11-18T13:21:41.088194Z"
    }
   },
   "outputs": [
    {
     "data": {
      "text/plain": [
       "<matplotlib.image.AxesImage at 0x7fec83d104c0>"
      ]
     },
     "execution_count": 65,
     "metadata": {},
     "output_type": "execute_result"
    },
    {
     "data": {
      "image/png": "[encoded data removed]",
      "text/plain": [
       "<Figure size 432x288 with 1 Axes>"
      ]
     },
     "metadata": {
      "needs_background": "light"
     },
     "output_type": "display_data"
    }
   ],
   "source": [
    "plt.imshow(get_activation(activations, 0, 3, 0), cmap = 'gray')"
   ]
  },
  {
   "cell_type": "markdown",
   "metadata": {},
   "source": [
    "❓ Now, you have all the tools to go a step further. Here, re-initialize a new CNN but with 4 convolution layers. The different parameters are up to you to choose. Once fit on your data, observe the activation throughout the network to see how the input images are transformed after the convolutions."
   ]
  },
  {
   "cell_type": "code",
   "execution_count": 81,
   "metadata": {
    "ExecuteTime": {
     "end_time": "2020-11-18T13:27:43.266022Z",
     "start_time": "2020-11-18T13:27:43.260353Z"
    }
   },
   "outputs": [],
   "source": [
    "def initialize_model():\n",
    "    model = models.Sequential()\n",
    "\n",
    "    model.add(layers.Conv2D(8, kernel_size=(5,5), activation='relu', input_shape=(76, 78, 1)))\n",
    "    model.add(layers.MaxPooling2D(pool_size=(2,2)))\n",
    "    model.add(layers.Conv2D(12, kernel_size=(4,4), activation='relu'))\n",
    "    model.add(layers.MaxPooling2D(pool_size=(2,2)))\n",
    "    model.add(layers.Conv2D(16, kernel_size=(3,3), activation='relu'))\n",
    "    model.add(layers.MaxPooling2D(pool_size=(2,2)))\n",
    "    model.add(layers.Conv2D(10, kernel_size=(2,2), activation='relu'))\n",
    "    model.add(layers.MaxPooling2D(pool_size=(2,2)))\n",
    "    model.add(layers.Flatten())\n",
    "    model.add(layers.Dense(10, activation='relu'))\n",
    "    model.add(layers.Dense(1, activation='sigmoid'))\n",
    "    \n",
    "    ### Model compilation\n",
    "    model.compile(loss='binary_crossentropy', optimizer='adam', metrics=['accuracy'])\n",
    "    \n",
    "    return model"
   ]
  },
  {
   "cell_type": "code",
   "execution_count": 82,
   "metadata": {
    "ExecuteTime": {
     "end_time": "2020-11-18T13:28:05.473838Z",
     "start_time": "2020-11-18T13:27:43.524434Z"
    }
   },
   "outputs": [
    {
     "name": "stdout",
     "output_type": "stream",
     "text": [
      "Epoch 1/100\n",
      "9/9 [==============================] - 0s 23ms/step - loss: 0.7047 - accuracy: 0.5000\n",
      "Epoch 2/100\n",
      "9/9 [==============================] - 0s 24ms/step - loss: 0.6912 - accuracy: 0.5000\n",
      "Epoch 3/100\n",
      "9/9 [==============================] - 0s 25ms/step - loss: 0.6679 - accuracy: 0.7714\n",
      "Epoch 4/100\n",
      "9/9 [==============================] - 0s 19ms/step - loss: 0.6356 - accuracy: 0.7857\n",
      "Epoch 5/100\n",
      "9/9 [==============================] - 0s 24ms/step - loss: 0.5838 - accuracy: 0.7714\n",
      "Epoch 6/100\n",
      "9/9 [==============================] - 0s 22ms/step - loss: 0.4670 - accuracy: 0.8714\n",
      "Epoch 7/100\n",
      "9/9 [==============================] - 0s 23ms/step - loss: 0.3545 - accuracy: 0.8857\n",
      "Epoch 8/100\n",
      "9/9 [==============================] - 0s 20ms/step - loss: 0.2671 - accuracy: 0.9286\n",
      "Epoch 9/100\n",
      "9/9 [==============================] - 0s 23ms/step - loss: 0.2064 - accuracy: 0.9286\n",
      "Epoch 10/100\n",
      "9/9 [==============================] - 0s 20ms/step - loss: 0.1458 - accuracy: 0.9429\n",
      "Epoch 11/100\n",
      "9/9 [==============================] - 0s 19ms/step - loss: 0.1235 - accuracy: 0.9571\n",
      "Epoch 12/100\n",
      "9/9 [==============================] - 0s 20ms/step - loss: 0.1209 - accuracy: 0.9643\n",
      "Epoch 13/100\n",
      "9/9 [==============================] - 0s 21ms/step - loss: 0.0890 - accuracy: 0.9714\n",
      "Epoch 14/100\n",
      "9/9 [==============================] - 0s 20ms/step - loss: 0.0683 - accuracy: 0.9786\n",
      "Epoch 15/100\n",
      "9/9 [==============================] - 0s 21ms/step - loss: 0.0518 - accuracy: 0.9857\n",
      "Epoch 16/100\n",
      "9/9 [==============================] - 0s 21ms/step - loss: 0.0437 - accuracy: 0.9857\n",
      "Epoch 17/100\n",
      "9/9 [==============================] - 0s 19ms/step - loss: 0.0328 - accuracy: 0.9857\n",
      "Epoch 18/100\n",
      "9/9 [==============================] - 0s 19ms/step - loss: 0.0255 - accuracy: 1.0000\n",
      "Epoch 19/100\n",
      "9/9 [==============================] - 0s 19ms/step - loss: 0.0186 - accuracy: 1.0000\n",
      "Epoch 20/100\n",
      "9/9 [==============================] - 0s 20ms/step - loss: 0.0155 - accuracy: 1.0000\n",
      "Epoch 21/100\n",
      "9/9 [==============================] - 0s 20ms/step - loss: 0.0116 - accuracy: 1.0000\n",
      "Epoch 22/100\n",
      "9/9 [==============================] - 0s 23ms/step - loss: 0.0091 - accuracy: 1.0000\n",
      "Epoch 23/100\n",
      "9/9 [==============================] - 0s 23ms/step - loss: 0.0075 - accuracy: 1.0000\n",
      "Epoch 24/100\n",
      "9/9 [==============================] - 0s 25ms/step - loss: 0.0065 - accuracy: 1.0000\n",
      "Epoch 25/100\n",
      "9/9 [==============================] - 0s 22ms/step - loss: 0.0066 - accuracy: 1.0000\n",
      "Epoch 26/100\n",
      "9/9 [==============================] - 0s 24ms/step - loss: 0.0071 - accuracy: 1.0000\n",
      "Epoch 27/100\n",
      "9/9 [==============================] - 0s 19ms/step - loss: 0.0041 - accuracy: 1.0000\n",
      "Epoch 28/100\n",
      "9/9 [==============================] - 0s 19ms/step - loss: 0.0040 - accuracy: 1.0000\n",
      "Epoch 29/100\n",
      "9/9 [==============================] - 0s 19ms/step - loss: 0.0036 - accuracy: 1.0000\n",
      "Epoch 30/100\n",
      "9/9 [==============================] - 0s 24ms/step - loss: 0.0028 - accuracy: 1.0000\n",
      "Epoch 31/100\n",
      "9/9 [==============================] - 0s 19ms/step - loss: 0.0023 - accuracy: 1.0000\n",
      "Epoch 32/100\n",
      "9/9 [==============================] - 0s 19ms/step - loss: 0.0020 - accuracy: 1.0000\n",
      "Epoch 33/100\n",
      "9/9 [==============================] - 0s 20ms/step - loss: 0.0018 - accuracy: 1.0000\n",
      "Epoch 34/100\n",
      "9/9 [==============================] - 0s 23ms/step - loss: 0.0017 - accuracy: 1.0000\n",
      "Epoch 35/100\n",
      "9/9 [==============================] - 0s 20ms/step - loss: 0.0015 - accuracy: 1.0000\n",
      "Epoch 36/100\n",
      "9/9 [==============================] - 0s 20ms/step - loss: 0.0014 - accuracy: 1.0000\n",
      "Epoch 37/100\n",
      "9/9 [==============================] - 0s 21ms/step - loss: 0.0014 - accuracy: 1.0000\n",
      "Epoch 38/100\n",
      "9/9 [==============================] - 0s 21ms/step - loss: 0.0012 - accuracy: 1.0000\n",
      "Epoch 39/100\n",
      "9/9 [==============================] - 0s 24ms/step - loss: 0.0011 - accuracy: 1.0000\n",
      "Epoch 40/100\n",
      "9/9 [==============================] - 0s 22ms/step - loss: 0.0010 - accuracy: 1.0000\n",
      "Epoch 41/100\n",
      "9/9 [==============================] - 0s 30ms/step - loss: 9.8162e-04 - accuracy: 1.0000\n",
      "Epoch 42/100\n",
      "9/9 [==============================] - 0s 28ms/step - loss: 9.0578e-04 - accuracy: 1.0000\n",
      "Epoch 43/100\n",
      "9/9 [==============================] - 0s 24ms/step - loss: 8.9877e-04 - accuracy: 1.0000\n",
      "Epoch 44/100\n",
      "9/9 [==============================] - 0s 22ms/step - loss: 8.3972e-04 - accuracy: 1.0000\n",
      "Epoch 45/100\n",
      "9/9 [==============================] - 0s 27ms/step - loss: 7.6847e-04 - accuracy: 1.0000\n",
      "Epoch 46/100\n",
      "9/9 [==============================] - 0s 21ms/step - loss: 7.1752e-04 - accuracy: 1.0000\n",
      "Epoch 47/100\n",
      "9/9 [==============================] - 0s 19ms/step - loss: 6.8021e-04 - accuracy: 1.0000\n",
      "Epoch 48/100\n",
      "9/9 [==============================] - 0s 19ms/step - loss: 6.4201e-04 - accuracy: 1.0000\n",
      "Epoch 49/100\n",
      "9/9 [==============================] - 0s 24ms/step - loss: 6.3739e-04 - accuracy: 1.0000\n",
      "Epoch 50/100\n",
      "9/9 [==============================] - 0s 20ms/step - loss: 6.0164e-04 - accuracy: 1.0000\n",
      "Epoch 51/100\n",
      "9/9 [==============================] - 0s 20ms/step - loss: 5.6088e-04 - accuracy: 1.0000\n",
      "Epoch 52/100\n",
      "9/9 [==============================] - 0s 20ms/step - loss: 5.2323e-04 - accuracy: 1.0000\n",
      "Epoch 53/100\n",
      "9/9 [==============================] - 0s 19ms/step - loss: 5.0610e-04 - accuracy: 1.0000\n",
      "Epoch 54/100\n",
      "9/9 [==============================] - 0s 20ms/step - loss: 4.8853e-04 - accuracy: 1.0000\n",
      "Epoch 55/100\n",
      "9/9 [==============================] - 0s 22ms/step - loss: 4.7343e-04 - accuracy: 1.0000\n",
      "Epoch 56/100\n",
      "9/9 [==============================] - 0s 19ms/step - loss: 4.4074e-04 - accuracy: 1.0000\n",
      "Epoch 57/100\n",
      "9/9 [==============================] - 0s 20ms/step - loss: 4.2674e-04 - accuracy: 1.0000\n",
      "Epoch 58/100\n",
      "9/9 [==============================] - 0s 19ms/step - loss: 4.0429e-04 - accuracy: 1.0000\n",
      "Epoch 59/100\n",
      "9/9 [==============================] - 0s 20ms/step - loss: 4.0495e-04 - accuracy: 1.0000\n",
      "Epoch 60/100\n",
      "9/9 [==============================] - 0s 20ms/step - loss: 3.7204e-04 - accuracy: 1.0000\n",
      "Epoch 61/100\n",
      "9/9 [==============================] - 0s 19ms/step - loss: 3.5900e-04 - accuracy: 1.0000\n",
      "Epoch 62/100\n",
      "9/9 [==============================] - 0s 21ms/step - loss: 3.4429e-04 - accuracy: 1.0000\n",
      "Epoch 63/100\n",
      "9/9 [==============================] - 0s 19ms/step - loss: 3.3570e-04 - accuracy: 1.0000\n",
      "Epoch 64/100\n",
      "9/9 [==============================] - 0s 21ms/step - loss: 3.2157e-04 - accuracy: 1.0000\n",
      "Epoch 65/100\n",
      "9/9 [==============================] - 0s 20ms/step - loss: 3.1130e-04 - accuracy: 1.0000\n",
      "Epoch 66/100\n",
      "9/9 [==============================] - 0s 21ms/step - loss: 3.0500e-04 - accuracy: 1.0000\n",
      "Epoch 67/100\n",
      "9/9 [==============================] - 0s 20ms/step - loss: 3.0347e-04 - accuracy: 1.0000\n",
      "Epoch 68/100\n",
      "9/9 [==============================] - 0s 21ms/step - loss: 2.8686e-04 - accuracy: 1.0000\n",
      "Epoch 69/100\n",
      "9/9 [==============================] - 0s 20ms/step - loss: 2.7446e-04 - accuracy: 1.0000\n",
      "Epoch 70/100\n",
      "9/9 [==============================] - 0s 19ms/step - loss: 2.7145e-04 - accuracy: 1.0000\n",
      "Epoch 71/100\n",
      "9/9 [==============================] - 0s 21ms/step - loss: 2.5199e-04 - accuracy: 1.0000\n",
      "Epoch 72/100\n",
      "9/9 [==============================] - 0s 21ms/step - loss: 2.5108e-04 - accuracy: 1.0000\n",
      "Epoch 73/100\n",
      "9/9 [==============================] - 0s 22ms/step - loss: 2.3795e-04 - accuracy: 1.0000\n",
      "Epoch 74/100\n",
      "9/9 [==============================] - 0s 23ms/step - loss: 2.2744e-04 - accuracy: 1.0000\n",
      "Epoch 75/100\n",
      "9/9 [==============================] - 0s 19ms/step - loss: 2.1869e-04 - accuracy: 1.0000\n",
      "Epoch 76/100\n",
      "9/9 [==============================] - 0s 20ms/step - loss: 2.1330e-04 - accuracy: 1.0000\n",
      "Epoch 77/100\n",
      "9/9 [==============================] - 0s 21ms/step - loss: 2.0747e-04 - accuracy: 1.0000\n",
      "Epoch 78/100\n",
      "9/9 [==============================] - 0s 20ms/step - loss: 2.0185e-04 - accuracy: 1.0000\n",
      "Epoch 79/100\n",
      "9/9 [==============================] - 0s 20ms/step - loss: 1.9883e-04 - accuracy: 1.0000\n",
      "Epoch 80/100\n",
      "9/9 [==============================] - 0s 20ms/step - loss: 1.8898e-04 - accuracy: 1.0000\n",
      "Epoch 81/100\n",
      "9/9 [==============================] - 0s 19ms/step - loss: 1.8371e-04 - accuracy: 1.0000\n",
      "Epoch 82/100\n",
      "9/9 [==============================] - 0s 19ms/step - loss: 1.8133e-04 - accuracy: 1.0000\n",
      "Epoch 83/100\n",
      "9/9 [==============================] - 0s 19ms/step - loss: 1.7411e-04 - accuracy: 1.0000\n",
      "Epoch 84/100\n",
      "9/9 [==============================] - 0s 19ms/step - loss: 1.7037e-04 - accuracy: 1.0000\n",
      "Epoch 85/100\n",
      "9/9 [==============================] - 0s 21ms/step - loss: 1.6534e-04 - accuracy: 1.0000\n",
      "Epoch 86/100\n",
      "9/9 [==============================] - 0s 21ms/step - loss: 1.5994e-04 - accuracy: 1.0000\n",
      "Epoch 87/100\n",
      "9/9 [==============================] - 0s 18ms/step - loss: 1.5557e-04 - accuracy: 1.0000\n",
      "Epoch 88/100\n",
      "9/9 [==============================] - 0s 20ms/step - loss: 1.4995e-04 - accuracy: 1.0000\n",
      "Epoch 89/100\n",
      "9/9 [==============================] - 0s 20ms/step - loss: 1.4794e-04 - accuracy: 1.0000\n",
      "Epoch 90/100\n",
      "9/9 [==============================] - 0s 21ms/step - loss: 1.4250e-04 - accuracy: 1.0000\n",
      "Epoch 91/100\n",
      "9/9 [==============================] - 0s 20ms/step - loss: 1.3738e-04 - accuracy: 1.0000\n",
      "Epoch 92/100\n",
      "9/9 [==============================] - 0s 21ms/step - loss: 1.3329e-04 - accuracy: 1.0000\n",
      "Epoch 93/100\n",
      "9/9 [==============================] - 0s 19ms/step - loss: 1.2988e-04 - accuracy: 1.0000\n",
      "Epoch 94/100\n",
      "9/9 [==============================] - 0s 19ms/step - loss: 1.2809e-04 - accuracy: 1.0000\n",
      "Epoch 95/100\n",
      "9/9 [==============================] - 0s 19ms/step - loss: 1.2311e-04 - accuracy: 1.0000\n",
      "Epoch 96/100\n",
      "9/9 [==============================] - 0s 20ms/step - loss: 1.2405e-04 - accuracy: 1.0000\n",
      "Epoch 97/100\n",
      "9/9 [==============================] - 0s 20ms/step - loss: 1.1873e-04 - accuracy: 1.0000\n",
      "Epoch 98/100\n",
      "9/9 [==============================] - 0s 20ms/step - loss: 1.1377e-04 - accuracy: 1.0000\n",
      "Epoch 99/100\n",
      "9/9 [==============================] - 0s 21ms/step - loss: 1.0998e-04 - accuracy: 1.0000\n",
      "Epoch 100/100\n",
      "9/9 [==============================] - 0s 20ms/step - loss: 1.0789e-04 - accuracy: 1.0000\n"
     ]
    }
   ],
   "source": [
    "es = EarlyStopping(patience=10)\n",
    "\n",
    "model = initialize_model()\n",
    "\n",
    "history = model.fit(\n",
    "    X_train, y_train,  \n",
    "    batch_size = 16, \n",
    "    epochs = 100,\n",
    "    verbose = 1\n",
    "    )"
   ]
  },
  {
   "cell_type": "code",
   "execution_count": 83,
   "metadata": {
    "ExecuteTime": {
     "end_time": "2020-11-18T13:28:05.816950Z",
     "start_time": "2020-11-18T13:28:05.672684Z"
    }
   },
   "outputs": [
    {
     "name": "stdout",
     "output_type": "stream",
     "text": [
      "2/2 [==============================] - 0s 6ms/step - loss: 0.4442 - accuracy: 0.8833\n"
     ]
    }
   ],
   "source": [
    "results = model.evaluate(X_test, y_test)"
   ]
  },
  {
   "cell_type": "markdown",
   "metadata": {},
   "source": [
    "Now, you should get a better understanding of what the convolutions are doing and how the related information thus flows within the neural network in order to obtain accurate prediction. \n",
    "\n",
    "# Miscellaneous\n",
    "\n",
    "The following simply presents the functions that created the dataset you are working with.\n",
    "\n",
    "They were left at the end of the notebook in case you want to further prototype and get better understanding of what is going on. But do not prototype yet => you can go to the next exercise as for now, and come back to it any time later."
   ]
  },
  {
   "cell_type": "code",
   "execution_count": 21,
   "metadata": {
    "ExecuteTime": {
     "end_time": "2020-11-18T13:09:23.788733Z",
     "start_time": "2020-11-18T13:09:23.771910Z"
    }
   },
   "outputs": [],
   "source": [
    "def draw_triangle():\n",
    "    dx = np.random.uniform(0.1, 0.3)\n",
    "    dy = np.random.uniform(0.1, 0.3)\n",
    "    noise_x = np.random.uniform(0.0, 0.1)\n",
    "    noise_y = np.random.uniform(0.0, 0.1)    \n",
    "    \n",
    "    x = np.random.uniform(0, 1-dx-noise_x)\n",
    "    y = np.random.uniform(0, 1-dy)\n",
    "    X = np.array([[x,y], [x+dx+noise_x,y], [x+dx/2, y+dy+noise_y]])\n",
    "\n",
    "    t1 = plt.Polygon(X, color='black')\n",
    "    plt.gca().add_patch(t1)\n",
    "    \n",
    "def draw_circle():\n",
    "    r = np.random.uniform(0.1, 0.25)\n",
    "    x = np.random.uniform(0+r, 1-r)\n",
    "    y = np.random.uniform(0+r, 1-r)\n",
    "\n",
    "    circle1 = plt.Circle((x, y), r, color='black')\n",
    "    plt.gcf().gca().add_artist(circle1)\n",
    "    \n",
    "def create_image(form, path):\n",
    "    plt.figure(figsize=(1, 1))\n",
    "    if form == 'circle':\n",
    "        draw_circle()\n",
    "    elif form == 'triangle':\n",
    "        draw_triangle()\n",
    "    plt.axis('off')\n",
    "    plt.savefig(path, dpi=80, bbox_inches='tight')\n",
    "    plt.close()\n",
    "\n",
    "    \n",
    "def create_images(path):\n",
    "    nb_circles = 100\n",
    "    nb_triangles = 100\n",
    "    \n",
    "    for i in range(nb_circles):\n",
    "        c_path = os.path.join(path, 'circles', f'circle_{i}.png')\n",
    "        create_image('circle', c_path)\n",
    "        \n",
    "    for i in range(nb_triangles):\n",
    "        t_path = os.path.join(path, 'triangles', f'triangle_{i}.png')\n",
    "        create_image('triangle', t_path)"
   ]
  },
  {
   "cell_type": "code",
   "execution_count": null,
   "metadata": {},
   "outputs": [],
   "source": []
  }
 ],
 "metadata": {
  "kernelspec": {
   "display_name": "Python 3",
   "language": "python",
   "name": "python3"
  },
  "language_info": {
   "codemirror_mode": {
    "name": "ipython",
    "version": 3
   },
   "file_extension": ".py",
   "mimetype": "text/x-python",
   "name": "python",
   "nbconvert_exporter": "python",
   "pygments_lexer": "ipython3",
   "version": "3.8.5"
  },
  "toc": {
   "base_numbering": 1,
   "nav_menu": {},
   "number_sections": true,
   "sideBar": true,
   "skip_h1_title": false,
   "title_cell": "Table of Contents",
   "title_sidebar": "Contents",
   "toc_cell": false,
   "toc_position": {},
   "toc_section_display": true,
   "toc_window_display": false
  },
  "varInspector": {
   "cols": {
    "lenName": 16,
    "lenType": 16,
    "lenVar": 40
   },
   "kernels_config": {
    "python": {
     "delete_cmd_postfix": "",
     "delete_cmd_prefix": "del ",
     "library": "var_list.py",
     "varRefreshCmd": "print(var_dic_list())"
    },
    "r": {
     "delete_cmd_postfix": ") ",
     "delete_cmd_prefix": "rm(",
     "library": "var_list.r",
     "varRefreshCmd": "cat(var_dic_list()) "
    }
   },
   "types_to_exclude": [
    "module",
    "function",
    "builtin_function_or_method",
    "instance",
    "_Feature"
   ],
   "window_display": false
  }
 },
 "nbformat": 4,
 "nbformat_minor": 4
}

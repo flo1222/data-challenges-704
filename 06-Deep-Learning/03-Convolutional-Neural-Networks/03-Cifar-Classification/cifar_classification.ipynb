{
 "cells": [
  {
   "cell_type": "markdown",
   "metadata": {
    "collapsed": true
   },
   "source": [
    "# Deep Learning week - Day 3 - CIFAR Classification\n",
    "\n",
    "### Exercise objectives\n",
    "- Implement a CNN for a 10-class classification problem\n",
    "- Enhance the CNN performance with data augmentation techniques\n",
    "- Experiment the limitations of training network with large images on your computer (more especially on your CPU)\n",
    "\n",
    "<hr>\n",
    "<hr>\n",
    "\n",
    "You should now have a better feeling of how a CNN is working, and especially how the convolutions are affecting the image to detect specific features. Therefore, let's now play with a bit more complex images. The CIFAR-10 dataset is a dataset that contains images of 10 different classes : \n",
    "- airplane \t\t\t\t\t\t\t\t\t\t\n",
    "- automobile \t\t\t\t\t\t\t\t\t\t\n",
    "- bird \t\t\t\t\t\t\t\t\t\t\n",
    "- cat \t\t\t\t\t\t\t\t\t\t\n",
    "- deer \t\t\t\t\t\t\t\t\t\t\n",
    "- dog \t\t\t\t\t\t\t\t\t\t\n",
    "- frog \t\t\t\t\t\t\t\t\t\t\n",
    "- horse \t\t\t\t\t\t\t\t\t\t\n",
    "- ship \t\t\t\t\t\t\t\t\t\t\n",
    "- truck\n",
    "\n",
    "This dataset is emblematic in the research community as many enhancements for image problems have been achieved on this dataset, and later on the CIFAR-100 dataset once the performance got too high. You can check the [wikipedia](https://en.wikipedia.org/wiki/CIFAR-10) page of the dataset if you want to know more about it.\n",
    "\n",
    "In this notebook, we propose to implement a CNN to distinguish the 10 categories from the CIFAR-10 dataset. Again, remember that until 10 years ago, this problem was very challenging to the entire research community and is now for you to tackle.\n",
    "\n",
    "\n",
    "⚠️ **Warning** ⚠️ In this exercise, computations are done on your computer, and most probably on your CPU. Therefore, bear in mind that a model training will take ~10 minutes on the entire dataset. You will here experiment the fact that these computations are heavy and requires a lot of computational power. We will see in the next exercise how to overcome this problem. Until then, there is a trick that you can use in any ML problem if you are still in the experimental / design part but face long waiting times : select a subset of your data (for instance `X_train = X_train[:100]`) to code all the different parts without taking care of the performance. Once the code is ready, you can seek for performance by taking the entire dataset.\n",
    "\n",
    "\n",
    "\n",
    "# Data\n",
    "\n",
    "❓ **Question** ❓ To load the CIFAR-10 dataset you can use `keras` package directly (see [documentation](https://www.tensorflow.org/api_docs/python/tf/keras/datasets/cifar10)). What is the shape of the images? How many images do you have per class?"
   ]
  },
  {
   "cell_type": "code",
   "execution_count": 17,
   "metadata": {
    "ExecuteTime": {
     "end_time": "2020-11-18T14:06:59.998098Z",
     "start_time": "2020-11-18T14:06:59.370676Z"
    }
   },
   "outputs": [],
   "source": [
    "from tensorflow.keras.datasets import cifar10\n",
    "import numpy as np\n",
    "\n",
    "(X_train, labels_train), (X_test, labels_test) = cifar10.load_data()\n",
    "\n",
    "labels = ['airplane', 'automobile', 'bird', 'cat', 'deer', 'dog', 'frog', 'horse', 'ship', 'truck']\n",
    "\n"
   ]
  },
  {
   "cell_type": "code",
   "execution_count": 18,
   "metadata": {
    "ExecuteTime": {
     "end_time": "2020-11-18T14:07:00.078918Z",
     "start_time": "2020-11-18T14:07:00.072107Z"
    }
   },
   "outputs": [
    {
     "data": {
      "text/plain": [
       "(50000, 32, 32, 3)"
      ]
     },
     "execution_count": 18,
     "metadata": {},
     "output_type": "execute_result"
    }
   ],
   "source": [
    "X_train.shape"
   ]
  },
  {
   "cell_type": "code",
   "execution_count": 19,
   "metadata": {
    "ExecuteTime": {
     "end_time": "2020-11-18T14:07:03.565654Z",
     "start_time": "2020-11-18T14:07:03.561729Z"
    }
   },
   "outputs": [],
   "source": [
    "import pandas as pd\n",
    "labels = pd.DataFrame(labels_train)"
   ]
  },
  {
   "cell_type": "code",
   "execution_count": 20,
   "metadata": {
    "ExecuteTime": {
     "end_time": "2020-11-18T14:07:03.727455Z",
     "start_time": "2020-11-18T14:07:03.720007Z"
    }
   },
   "outputs": [
    {
     "data": {
      "text/plain": [
       "9    5000\n",
       "8    5000\n",
       "7    5000\n",
       "6    5000\n",
       "5    5000\n",
       "4    5000\n",
       "3    5000\n",
       "2    5000\n",
       "1    5000\n",
       "0    5000\n",
       "Name: 0, dtype: int64"
      ]
     },
     "execution_count": 20,
     "metadata": {},
     "output_type": "execute_result"
    }
   ],
   "source": [
    "labels[0].value_counts()"
   ]
  },
  {
   "cell_type": "code",
   "execution_count": 5,
   "metadata": {
    "ExecuteTime": {
     "end_time": "2020-11-18T14:05:04.025578Z",
     "start_time": "2020-11-18T14:05:04.016015Z"
    }
   },
   "outputs": [],
   "source": [
    "# X_train = X_train[:300]"
   ]
  },
  {
   "cell_type": "markdown",
   "metadata": {},
   "source": [
    "❓ **Question** ❓ To ease the convergence of the algorithm, it is usefull to normalize the data. See here what are the maximum and minimum values in your data, and normalize it accordingly (the resulting image intensities should be between 0 and 1)."
   ]
  },
  {
   "cell_type": "code",
   "execution_count": 21,
   "metadata": {
    "ExecuteTime": {
     "end_time": "2020-11-18T14:07:25.893277Z",
     "start_time": "2020-11-18T14:07:06.277031Z"
    }
   },
   "outputs": [],
   "source": [
    "X_train = X_train/255"
   ]
  },
  {
   "cell_type": "markdown",
   "metadata": {},
   "source": [
    "❓ **Question** ❓ Display some of the images and their relative class. You can use the `imshow` function from matplotlib."
   ]
  },
  {
   "cell_type": "code",
   "execution_count": 22,
   "metadata": {
    "ExecuteTime": {
     "end_time": "2020-11-18T14:07:26.147056Z",
     "start_time": "2020-11-18T14:07:25.998374Z"
    }
   },
   "outputs": [
    {
     "data": {
      "text/plain": [
       "<matplotlib.image.AxesImage at 0x7f7b3c263e50>"
      ]
     },
     "execution_count": 22,
     "metadata": {},
     "output_type": "execute_result"
    },
    {
     "data": {
      "image/png": "[encoded data removed]",
      "text/plain": [
       "<Figure size 432x288 with 1 Axes>"
      ]
     },
     "metadata": {
      "needs_background": "light"
     },
     "output_type": "display_data"
    }
   ],
   "source": [
    "import matplotlib.pyplot as plt\n",
    "plt.imshow(X_train[17])"
   ]
  },
  {
   "cell_type": "code",
   "execution_count": 23,
   "metadata": {
    "ExecuteTime": {
     "end_time": "2020-11-18T14:07:26.437113Z",
     "start_time": "2020-11-18T14:07:26.249490Z"
    },
    "collapsed": true
   },
   "outputs": [
    {
     "ename": "KeyError",
     "evalue": "6",
     "output_type": "error",
     "traceback": [
      "\u001b[0;31m---------------------------------------------------------------------------\u001b[0m",
      "\u001b[0;31mValueError\u001b[0m                                Traceback (most recent call last)",
      "\u001b[0;32m~/.pyenv/versions/3.8.5/envs/lewagon/lib/python3.8/site-packages/pandas/core/indexes/range.py\u001b[0m in \u001b[0;36mget_loc\u001b[0;34m(self, key, method, tolerance)\u001b[0m\n\u001b[1;32m    354\u001b[0m                 \u001b[0;32mtry\u001b[0m\u001b[0;34m:\u001b[0m\u001b[0;34m\u001b[0m\u001b[0;34m\u001b[0m\u001b[0m\n\u001b[0;32m--> 355\u001b[0;31m                     \u001b[0;32mreturn\u001b[0m \u001b[0mself\u001b[0m\u001b[0;34m.\u001b[0m\u001b[0m_range\u001b[0m\u001b[0;34m.\u001b[0m\u001b[0mindex\u001b[0m\u001b[0;34m(\u001b[0m\u001b[0mnew_key\u001b[0m\u001b[0;34m)\u001b[0m\u001b[0;34m\u001b[0m\u001b[0;34m\u001b[0m\u001b[0m\n\u001b[0m\u001b[1;32m    356\u001b[0m                 \u001b[0;32mexcept\u001b[0m \u001b[0mValueError\u001b[0m \u001b[0;32mas\u001b[0m \u001b[0merr\u001b[0m\u001b[0;34m:\u001b[0m\u001b[0;34m\u001b[0m\u001b[0;34m\u001b[0m\u001b[0m\n",
      "\u001b[0;31mValueError\u001b[0m: 6 is not in range",
      "\nThe above exception was the direct cause of the following exception:\n",
      "\u001b[0;31mKeyError\u001b[0m                                  Traceback (most recent call last)",
      "\u001b[0;32m<ipython-input-23-efff0ad3180e>\u001b[0m in \u001b[0;36m<module>\u001b[0;34m\u001b[0m\n\u001b[1;32m     12\u001b[0m     \u001b[0mplt\u001b[0m\u001b[0;34m.\u001b[0m\u001b[0mfigure\u001b[0m\u001b[0;34m(\u001b[0m\u001b[0mfigsize\u001b[0m\u001b[0;34m=\u001b[0m\u001b[0;34m(\u001b[0m\u001b[0;36m2\u001b[0m\u001b[0;34m,\u001b[0m\u001b[0;36m2\u001b[0m\u001b[0;34m)\u001b[0m\u001b[0;34m)\u001b[0m\u001b[0;34m\u001b[0m\u001b[0;34m\u001b[0m\u001b[0m\n\u001b[1;32m     13\u001b[0m     \u001b[0mplt\u001b[0m\u001b[0;34m.\u001b[0m\u001b[0mimshow\u001b[0m\u001b[0;34m(\u001b[0m\u001b[0mimg\u001b[0m\u001b[0;34m)\u001b[0m\u001b[0;34m\u001b[0m\u001b[0;34m\u001b[0m\u001b[0m\n\u001b[0;32m---> 14\u001b[0;31m     \u001b[0mplt\u001b[0m\u001b[0;34m.\u001b[0m\u001b[0mtitle\u001b[0m\u001b[0;34m(\u001b[0m\u001b[0mlabels\u001b[0m\u001b[0;34m[\u001b[0m\u001b[0mlabel\u001b[0m\u001b[0;34m]\u001b[0m\u001b[0;34m)\u001b[0m\u001b[0;34m\u001b[0m\u001b[0;34m\u001b[0m\u001b[0m\n\u001b[0m\u001b[1;32m     15\u001b[0m     \u001b[0mplt\u001b[0m\u001b[0;34m.\u001b[0m\u001b[0mshow\u001b[0m\u001b[0;34m(\u001b[0m\u001b[0;34m)\u001b[0m\u001b[0;34m\u001b[0m\u001b[0;34m\u001b[0m\u001b[0m\n",
      "\u001b[0;32m~/.pyenv/versions/3.8.5/envs/lewagon/lib/python3.8/site-packages/pandas/core/frame.py\u001b[0m in \u001b[0;36m__getitem__\u001b[0;34m(self, key)\u001b[0m\n\u001b[1;32m   2900\u001b[0m             \u001b[0;32mif\u001b[0m \u001b[0mself\u001b[0m\u001b[0;34m.\u001b[0m\u001b[0mcolumns\u001b[0m\u001b[0;34m.\u001b[0m\u001b[0mnlevels\u001b[0m \u001b[0;34m>\u001b[0m \u001b[0;36m1\u001b[0m\u001b[0;34m:\u001b[0m\u001b[0;34m\u001b[0m\u001b[0;34m\u001b[0m\u001b[0m\n\u001b[1;32m   2901\u001b[0m                 \u001b[0;32mreturn\u001b[0m \u001b[0mself\u001b[0m\u001b[0;34m.\u001b[0m\u001b[0m_getitem_multilevel\u001b[0m\u001b[0;34m(\u001b[0m\u001b[0mkey\u001b[0m\u001b[0;34m)\u001b[0m\u001b[0;34m\u001b[0m\u001b[0;34m\u001b[0m\u001b[0m\n\u001b[0;32m-> 2902\u001b[0;31m             \u001b[0mindexer\u001b[0m \u001b[0;34m=\u001b[0m \u001b[0mself\u001b[0m\u001b[0;34m.\u001b[0m\u001b[0mcolumns\u001b[0m\u001b[0;34m.\u001b[0m\u001b[0mget_loc\u001b[0m\u001b[0;34m(\u001b[0m\u001b[0mkey\u001b[0m\u001b[0;34m)\u001b[0m\u001b[0;34m\u001b[0m\u001b[0;34m\u001b[0m\u001b[0m\n\u001b[0m\u001b[1;32m   2903\u001b[0m             \u001b[0;32mif\u001b[0m \u001b[0mis_integer\u001b[0m\u001b[0;34m(\u001b[0m\u001b[0mindexer\u001b[0m\u001b[0;34m)\u001b[0m\u001b[0;34m:\u001b[0m\u001b[0;34m\u001b[0m\u001b[0;34m\u001b[0m\u001b[0m\n\u001b[1;32m   2904\u001b[0m                 \u001b[0mindexer\u001b[0m \u001b[0;34m=\u001b[0m \u001b[0;34m[\u001b[0m\u001b[0mindexer\u001b[0m\u001b[0;34m]\u001b[0m\u001b[0;34m\u001b[0m\u001b[0;34m\u001b[0m\u001b[0m\n",
      "\u001b[0;32m~/.pyenv/versions/3.8.5/envs/lewagon/lib/python3.8/site-packages/pandas/core/indexes/range.py\u001b[0m in \u001b[0;36mget_loc\u001b[0;34m(self, key, method, tolerance)\u001b[0m\n\u001b[1;32m    355\u001b[0m                     \u001b[0;32mreturn\u001b[0m \u001b[0mself\u001b[0m\u001b[0;34m.\u001b[0m\u001b[0m_range\u001b[0m\u001b[0;34m.\u001b[0m\u001b[0mindex\u001b[0m\u001b[0;34m(\u001b[0m\u001b[0mnew_key\u001b[0m\u001b[0;34m)\u001b[0m\u001b[0;34m\u001b[0m\u001b[0;34m\u001b[0m\u001b[0m\n\u001b[1;32m    356\u001b[0m                 \u001b[0;32mexcept\u001b[0m \u001b[0mValueError\u001b[0m \u001b[0;32mas\u001b[0m \u001b[0merr\u001b[0m\u001b[0;34m:\u001b[0m\u001b[0;34m\u001b[0m\u001b[0;34m\u001b[0m\u001b[0m\n\u001b[0;32m--> 357\u001b[0;31m                     \u001b[0;32mraise\u001b[0m \u001b[0mKeyError\u001b[0m\u001b[0;34m(\u001b[0m\u001b[0mkey\u001b[0m\u001b[0;34m)\u001b[0m \u001b[0;32mfrom\u001b[0m \u001b[0merr\u001b[0m\u001b[0;34m\u001b[0m\u001b[0;34m\u001b[0m\u001b[0m\n\u001b[0m\u001b[1;32m    358\u001b[0m             \u001b[0;32mraise\u001b[0m \u001b[0mKeyError\u001b[0m\u001b[0;34m(\u001b[0m\u001b[0mkey\u001b[0m\u001b[0;34m)\u001b[0m\u001b[0;34m\u001b[0m\u001b[0;34m\u001b[0m\u001b[0m\n\u001b[1;32m    359\u001b[0m         \u001b[0;32mreturn\u001b[0m \u001b[0msuper\u001b[0m\u001b[0;34m(\u001b[0m\u001b[0;34m)\u001b[0m\u001b[0;34m.\u001b[0m\u001b[0mget_loc\u001b[0m\u001b[0;34m(\u001b[0m\u001b[0mkey\u001b[0m\u001b[0;34m,\u001b[0m \u001b[0mmethod\u001b[0m\u001b[0;34m=\u001b[0m\u001b[0mmethod\u001b[0m\u001b[0;34m,\u001b[0m \u001b[0mtolerance\u001b[0m\u001b[0;34m=\u001b[0m\u001b[0mtolerance\u001b[0m\u001b[0;34m)\u001b[0m\u001b[0;34m\u001b[0m\u001b[0;34m\u001b[0m\u001b[0m\n",
      "\u001b[0;31mKeyError\u001b[0m: 6"
     ]
    },
    {
     "data": {
      "image/png": "[encoded data removed]",
      "text/plain": [
       "<Figure size 144x144 with 1 Axes>"
      ]
     },
     "metadata": {
      "needs_background": "light"
     },
     "output_type": "display_data"
    }
   ],
   "source": [
    "##############\n",
    "### Answer ###\n",
    "##############\n",
    "\n",
    "import matplotlib.pyplot as plt\n",
    "%matplotlib inline\n",
    "\n",
    "for i in range(5):\n",
    "    img = X_train[i]\n",
    "    label = labels_train[i][0]\n",
    "    \n",
    "    plt.figure(figsize=(2,2))\n",
    "    plt.imshow(img)\n",
    "    plt.title(labels[label])\n",
    "    plt.show()"
   ]
  },
  {
   "cell_type": "markdown",
   "metadata": {},
   "source": [
    "❓ **Question** ❓ The labels (`labels_train` and `labels_test`) are stored as list of integers. Convert it to one-hot encoded labels so that they can be used to train a classification neural network. You can use the `to_categorical` function from Keras. Store the the categories in `y_train` and `y_test`."
   ]
  },
  {
   "cell_type": "code",
   "execution_count": 24,
   "metadata": {
    "ExecuteTime": {
     "end_time": "2020-11-18T14:07:44.658800Z",
     "start_time": "2020-11-18T14:07:44.653140Z"
    }
   },
   "outputs": [],
   "source": [
    "from tensorflow.keras.utils import to_categorical\n",
    "\n",
    "y_train = to_categorical(labels_train)\n",
    "y_test = to_categorical(labels_test)"
   ]
  },
  {
   "cell_type": "markdown",
   "metadata": {},
   "source": [
    "# Convolutional Neural Network\n",
    "\n",
    "Now, let's define the Convolutional Neural Network. \n",
    "\n",
    "❓ **Question** ❓ Define a CNN that is composed of:\n",
    "- a Conv2D layer with 32 filters, a kernel size of (3, 3), the relu activation function, and a padding equal to `same`\n",
    "- a MaxPooling2D layer with a pool size of (2, 2)\n",
    "- a Conv2D layer with 64 filters, a kernel size of (3, 3), the relu activation function, and a padding equal to `same`\n",
    "- a MaxPooling2D layer with a pool size of (2, 2)\n",
    "- a Conv2D layer with 128 filters, a kernel size of (3, 3), the relu activation function, and a padding equal to `same`\n",
    "- a MaxPooling2D layer with a pool size of (3, 3)\n",
    "- a Flatten layer\n",
    "- a dense function with 120 neurons with the `relu` activation function\n",
    "- a dense function with 60 neurons with the `relu` activation function\n",
    "- a dropout layer (with a rate of 0.5), to regularize the network\n",
    "- a dense function related to your task\n",
    " \n",
    " ⚠️ **Warning** ⚠️  Do not include the compilation in the function.\n",
    " \n",
    " ⚠️ **Warning** ⚠️ Do not forget to add the input shape of your data to the first layer. And do not forget that it has three colors ;)"
   ]
  },
  {
   "cell_type": "code",
   "execution_count": 25,
   "metadata": {
    "ExecuteTime": {
     "end_time": "2020-11-18T14:07:46.991420Z",
     "start_time": "2020-11-18T14:07:46.984890Z"
    }
   },
   "outputs": [],
   "source": [
    "from tensorflow.keras import layers\n",
    "from tensorflow.keras import models\n",
    "\n",
    "def initialize_model():\n",
    "    model = models.Sequential()\n",
    "\n",
    "    model.add(layers.Conv2D(32, kernel_size=(3,3), activation='relu', input_shape=(32, 32, 3), padding='same'))\n",
    "    model.add(layers.MaxPooling2D(pool_size=(2,2)))\n",
    "    model.add(layers.Conv2D(64, kernel_size=(3,3), activation='relu', padding='same'))\n",
    "    model.add(layers.MaxPooling2D(pool_size=(3,3)))\n",
    "    model.add(layers.Conv2D(128, kernel_size=(3,3), activation='relu', padding='same'))\n",
    "    model.add(layers.MaxPooling2D(pool_size=(3,3)))\n",
    "    model.add(layers.Flatten())\n",
    "    model.add(layers.Dense(120, activation='relu'))\n",
    "    model.add(layers.Dense(60, activation='relu'))\n",
    "    model.add(layers.Dropout(rate=0.2))\n",
    "    model.add(layers.Dense(10, activation='softmax'))\n",
    "    \n",
    "    return model"
   ]
  },
  {
   "cell_type": "markdown",
   "metadata": {},
   "source": [
    "❓ **Question** ❓ What is the number of parameters of your model? \n",
    "\n",
    "<details>\n",
    "   <summary>If you don't remember how to check the number of parameters, click >>here<<</summary>\n",
    "    `model.summary()`\n",
    "</details>\n",
    "\n",
    "\n"
   ]
  },
  {
   "cell_type": "code",
   "execution_count": 26,
   "metadata": {
    "ExecuteTime": {
     "end_time": "2020-11-18T14:07:48.734288Z",
     "start_time": "2020-11-18T14:07:48.660449Z"
    }
   },
   "outputs": [
    {
     "name": "stdout",
     "output_type": "stream",
     "text": [
      "Model: \"sequential_4\"\n",
      "_________________________________________________________________\n",
      "Layer (type)                 Output Shape              Param #   \n",
      "=================================================================\n",
      "conv2d_12 (Conv2D)           (None, 32, 32, 32)        896       \n",
      "_________________________________________________________________\n",
      "max_pooling2d_12 (MaxPooling (None, 16, 16, 32)        0         \n",
      "_________________________________________________________________\n",
      "conv2d_13 (Conv2D)           (None, 16, 16, 64)        18496     \n",
      "_________________________________________________________________\n",
      "max_pooling2d_13 (MaxPooling (None, 5, 5, 64)          0         \n",
      "_________________________________________________________________\n",
      "conv2d_14 (Conv2D)           (None, 5, 5, 128)         73856     \n",
      "_________________________________________________________________\n",
      "max_pooling2d_14 (MaxPooling (None, 1, 1, 128)         0         \n",
      "_________________________________________________________________\n",
      "flatten_4 (Flatten)          (None, 128)               0         \n",
      "_________________________________________________________________\n",
      "dense_12 (Dense)             (None, 120)               15480     \n",
      "_________________________________________________________________\n",
      "dense_13 (Dense)             (None, 60)                7260      \n",
      "_________________________________________________________________\n",
      "dropout_4 (Dropout)          (None, 60)                0         \n",
      "_________________________________________________________________\n",
      "dense_14 (Dense)             (None, 10)                610       \n",
      "=================================================================\n",
      "Total params: 116,598\n",
      "Trainable params: 116,598\n",
      "Non-trainable params: 0\n",
      "_________________________________________________________________\n"
     ]
    }
   ],
   "source": [
    "model = initialize_model()\n",
    "model.summary()"
   ]
  },
  {
   "cell_type": "markdown",
   "metadata": {},
   "source": [
    "❓ **Question** ❓ Write a function to compile your model. "
   ]
  },
  {
   "cell_type": "code",
   "execution_count": 27,
   "metadata": {
    "ExecuteTime": {
     "end_time": "2020-11-18T14:07:50.773817Z",
     "start_time": "2020-11-18T14:07:50.770172Z"
    }
   },
   "outputs": [],
   "source": [
    "def compile_model(model):\n",
    "    model.compile(loss='categorical_crossentropy', optimizer='adam', metrics=['accuracy'])\n",
    "    return model"
   ]
  },
  {
   "cell_type": "markdown",
   "metadata": {},
   "source": [
    "❓ **Question** ❓ Compile your model and fit it on your training data, with an early stopping (patience to 5 to keep fast computations).\n",
    "\n",
    "Store the output of the fit in an `history` variable."
   ]
  },
  {
   "cell_type": "code",
   "execution_count": 16,
   "metadata": {
    "ExecuteTime": {
     "end_time": "2020-11-18T14:06:44.234392Z",
     "start_time": "2020-11-18T14:06:17.695226Z"
    },
    "collapsed": true
   },
   "outputs": [
    {
     "name": "stdout",
     "output_type": "stream",
     "text": [
      "Epoch 1/100\n",
      "21/21 [==============================] - 0s 16ms/step - loss: 2.3053 - accuracy: 0.1190 - val_loss: 2.2952 - val_accuracy: 0.1333\n",
      "Epoch 2/100\n",
      "21/21 [==============================] - 0s 12ms/step - loss: 2.2724 - accuracy: 0.1429 - val_loss: 2.2894 - val_accuracy: 0.1333\n",
      "Epoch 3/100\n",
      "21/21 [==============================] - 0s 11ms/step - loss: 2.2700 - accuracy: 0.1238 - val_loss: 2.2644 - val_accuracy: 0.1556\n",
      "Epoch 4/100\n",
      "21/21 [==============================] - 0s 11ms/step - loss: 2.2426 - accuracy: 0.1524 - val_loss: 2.2428 - val_accuracy: 0.1444\n",
      "Epoch 5/100\n",
      "21/21 [==============================] - 0s 11ms/step - loss: 2.2067 - accuracy: 0.1667 - val_loss: 2.1647 - val_accuracy: 0.1444\n",
      "Epoch 6/100\n",
      "21/21 [==============================] - 0s 12ms/step - loss: 2.1517 - accuracy: 0.1952 - val_loss: 2.1863 - val_accuracy: 0.2333\n",
      "Epoch 7/100\n",
      "21/21 [==============================] - 0s 12ms/step - loss: 2.1534 - accuracy: 0.2048 - val_loss: 2.0504 - val_accuracy: 0.3444\n",
      "Epoch 8/100\n",
      "21/21 [==============================] - 0s 12ms/step - loss: 2.0512 - accuracy: 0.2333 - val_loss: 1.9701 - val_accuracy: 0.3889\n",
      "Epoch 9/100\n",
      "21/21 [==============================] - 0s 15ms/step - loss: 2.0324 - accuracy: 0.2000 - val_loss: 1.9800 - val_accuracy: 0.2889\n",
      "Epoch 10/100\n",
      "21/21 [==============================] - 0s 14ms/step - loss: 1.9365 - accuracy: 0.2762 - val_loss: 1.8523 - val_accuracy: 0.3778\n",
      "Epoch 11/100\n",
      "21/21 [==============================] - 0s 11ms/step - loss: 1.9136 - accuracy: 0.3000 - val_loss: 1.8303 - val_accuracy: 0.3556\n",
      "Epoch 12/100\n",
      "21/21 [==============================] - 0s 12ms/step - loss: 1.8887 - accuracy: 0.3048 - val_loss: 1.8883 - val_accuracy: 0.3556\n",
      "Epoch 13/100\n",
      "21/21 [==============================] - 0s 11ms/step - loss: 1.8212 - accuracy: 0.3429 - val_loss: 1.8604 - val_accuracy: 0.4111\n",
      "Epoch 14/100\n",
      "21/21 [==============================] - 0s 13ms/step - loss: 1.7009 - accuracy: 0.3667 - val_loss: 1.8385 - val_accuracy: 0.3889\n",
      "Epoch 15/100\n",
      "21/21 [==============================] - 0s 11ms/step - loss: 1.6081 - accuracy: 0.4238 - val_loss: 1.8302 - val_accuracy: 0.3111\n",
      "Epoch 16/100\n",
      "21/21 [==============================] - 0s 14ms/step - loss: 1.4618 - accuracy: 0.5000 - val_loss: 1.8447 - val_accuracy: 0.3667\n",
      "Epoch 17/100\n",
      "21/21 [==============================] - 0s 11ms/step - loss: 1.4106 - accuracy: 0.5048 - val_loss: 1.8322 - val_accuracy: 0.3444\n",
      "Epoch 18/100\n",
      "21/21 [==============================] - 0s 11ms/step - loss: 1.2685 - accuracy: 0.5286 - val_loss: 1.8653 - val_accuracy: 0.3111\n",
      "Epoch 19/100\n",
      "21/21 [==============================] - 0s 11ms/step - loss: 1.1860 - accuracy: 0.5619 - val_loss: 1.9873 - val_accuracy: 0.3778\n",
      "Epoch 20/100\n",
      "21/21 [==============================] - 0s 12ms/step - loss: 1.0643 - accuracy: 0.6286 - val_loss: 1.9890 - val_accuracy: 0.3222\n",
      "Epoch 21/100\n",
      "21/21 [==============================] - 0s 14ms/step - loss: 0.8724 - accuracy: 0.7381 - val_loss: 2.3372 - val_accuracy: 0.3000\n",
      "Epoch 22/100\n",
      "21/21 [==============================] - 0s 11ms/step - loss: 0.9152 - accuracy: 0.6571 - val_loss: 2.2267 - val_accuracy: 0.2333\n",
      "Epoch 23/100\n",
      "21/21 [==============================] - 0s 12ms/step - loss: 0.7742 - accuracy: 0.7238 - val_loss: 2.1507 - val_accuracy: 0.3333\n",
      "Epoch 24/100\n",
      "21/21 [==============================] - 0s 12ms/step - loss: 0.6873 - accuracy: 0.7429 - val_loss: 2.2964 - val_accuracy: 0.3111\n",
      "Epoch 25/100\n",
      "21/21 [==============================] - 0s 13ms/step - loss: 0.6368 - accuracy: 0.7714 - val_loss: 2.6384 - val_accuracy: 0.2889\n",
      "Epoch 26/100\n",
      "21/21 [==============================] - 0s 11ms/step - loss: 0.4536 - accuracy: 0.8476 - val_loss: 2.6237 - val_accuracy: 0.2667\n",
      "Epoch 27/100\n",
      "21/21 [==============================] - 0s 12ms/step - loss: 0.5788 - accuracy: 0.8286 - val_loss: 2.4483 - val_accuracy: 0.3000\n",
      "Epoch 28/100\n",
      "21/21 [==============================] - 0s 13ms/step - loss: 0.5361 - accuracy: 0.7905 - val_loss: 3.0627 - val_accuracy: 0.2889\n",
      "Epoch 29/100\n",
      "21/21 [==============================] - 0s 15ms/step - loss: 0.3637 - accuracy: 0.8905 - val_loss: 2.9038 - val_accuracy: 0.3000\n",
      "Epoch 30/100\n",
      "21/21 [==============================] - 0s 11ms/step - loss: 0.3004 - accuracy: 0.9048 - val_loss: 3.2720 - val_accuracy: 0.3444\n",
      "Epoch 31/100\n",
      "21/21 [==============================] - 0s 12ms/step - loss: 0.2496 - accuracy: 0.9143 - val_loss: 3.1111 - val_accuracy: 0.3222\n",
      "Epoch 32/100\n",
      "21/21 [==============================] - 0s 11ms/step - loss: 0.3479 - accuracy: 0.8714 - val_loss: 3.3714 - val_accuracy: 0.2778\n",
      "Epoch 33/100\n",
      "21/21 [==============================] - 0s 11ms/step - loss: 0.2149 - accuracy: 0.9333 - val_loss: 3.2170 - val_accuracy: 0.3111\n",
      "Epoch 34/100\n",
      "21/21 [==============================] - 0s 12ms/step - loss: 0.1845 - accuracy: 0.9476 - val_loss: 3.7082 - val_accuracy: 0.3111\n",
      "Epoch 35/100\n",
      "21/21 [==============================] - 0s 12ms/step - loss: 0.1074 - accuracy: 0.9810 - val_loss: 3.6894 - val_accuracy: 0.3111\n",
      "Epoch 36/100\n",
      "21/21 [==============================] - 0s 12ms/step - loss: 0.0846 - accuracy: 0.9952 - val_loss: 3.4915 - val_accuracy: 0.3333\n",
      "Epoch 37/100\n",
      "21/21 [==============================] - 0s 10ms/step - loss: 0.1183 - accuracy: 0.9762 - val_loss: 3.5982 - val_accuracy: 0.2889\n",
      "Epoch 38/100\n",
      "21/21 [==============================] - 0s 11ms/step - loss: 0.1250 - accuracy: 0.9714 - val_loss: 3.7527 - val_accuracy: 0.3667\n",
      "Epoch 39/100\n",
      "21/21 [==============================] - 0s 11ms/step - loss: 0.0969 - accuracy: 0.9762 - val_loss: 3.7116 - val_accuracy: 0.3000\n",
      "Epoch 40/100\n",
      "21/21 [==============================] - 0s 14ms/step - loss: 0.0788 - accuracy: 0.9905 - val_loss: 3.8832 - val_accuracy: 0.3000\n",
      "Epoch 41/100\n",
      "21/21 [==============================] - 0s 11ms/step - loss: 0.0520 - accuracy: 0.9952 - val_loss: 3.9525 - val_accuracy: 0.3000\n",
      "Epoch 42/100\n",
      "21/21 [==============================] - 0s 11ms/step - loss: 0.0638 - accuracy: 0.9905 - val_loss: 4.1949 - val_accuracy: 0.2778\n",
      "Epoch 43/100\n",
      "21/21 [==============================] - 0s 11ms/step - loss: 0.0607 - accuracy: 0.9905 - val_loss: 4.5357 - val_accuracy: 0.2778\n",
      "Epoch 44/100\n",
      "21/21 [==============================] - 0s 11ms/step - loss: 0.0738 - accuracy: 0.9762 - val_loss: 4.4348 - val_accuracy: 0.3444\n",
      "Epoch 45/100\n",
      "21/21 [==============================] - 0s 11ms/step - loss: 0.0669 - accuracy: 0.9810 - val_loss: 4.0236 - val_accuracy: 0.2556\n",
      "Epoch 46/100\n",
      "21/21 [==============================] - 0s 11ms/step - loss: 0.0300 - accuracy: 0.9905 - val_loss: 4.5951 - val_accuracy: 0.2889\n",
      "Epoch 47/100\n",
      "21/21 [==============================] - 0s 11ms/step - loss: 0.0669 - accuracy: 0.9810 - val_loss: 5.1246 - val_accuracy: 0.3111\n",
      "Epoch 48/100\n",
      "21/21 [==============================] - 0s 13ms/step - loss: 0.0932 - accuracy: 0.9619 - val_loss: 3.9657 - val_accuracy: 0.3000\n",
      "Epoch 49/100\n",
      "21/21 [==============================] - 0s 11ms/step - loss: 0.1335 - accuracy: 0.9714 - val_loss: 4.4832 - val_accuracy: 0.3111\n",
      "Epoch 50/100\n",
      "21/21 [==============================] - 0s 11ms/step - loss: 0.1109 - accuracy: 0.9810 - val_loss: 4.0931 - val_accuracy: 0.3000\n",
      "Epoch 51/100\n",
      "21/21 [==============================] - 0s 12ms/step - loss: 0.0592 - accuracy: 0.9905 - val_loss: 4.0177 - val_accuracy: 0.3111\n",
      "Epoch 52/100\n",
      "21/21 [==============================] - 0s 13ms/step - loss: 0.0225 - accuracy: 0.9952 - val_loss: 4.4737 - val_accuracy: 0.2778\n",
      "Epoch 53/100\n",
      "21/21 [==============================] - 0s 13ms/step - loss: 0.0165 - accuracy: 1.0000 - val_loss: 4.5706 - val_accuracy: 0.3111\n",
      "Epoch 54/100\n",
      "21/21 [==============================] - 0s 13ms/step - loss: 0.0103 - accuracy: 1.0000 - val_loss: 4.7598 - val_accuracy: 0.3000\n",
      "Epoch 55/100\n",
      "21/21 [==============================] - 0s 14ms/step - loss: 0.0112 - accuracy: 1.0000 - val_loss: 4.6994 - val_accuracy: 0.3111\n",
      "Epoch 56/100\n",
      "21/21 [==============================] - 0s 12ms/step - loss: 0.0129 - accuracy: 1.0000 - val_loss: 4.8123 - val_accuracy: 0.3333\n",
      "Epoch 57/100\n",
      "21/21 [==============================] - 0s 12ms/step - loss: 0.0102 - accuracy: 1.0000 - val_loss: 4.8541 - val_accuracy: 0.3444\n",
      "Epoch 58/100\n",
      "21/21 [==============================] - 0s 11ms/step - loss: 0.0090 - accuracy: 1.0000 - val_loss: 4.8677 - val_accuracy: 0.2889\n",
      "Epoch 59/100\n",
      "21/21 [==============================] - 0s 11ms/step - loss: 0.0137 - accuracy: 1.0000 - val_loss: 5.0218 - val_accuracy: 0.3333\n",
      "Epoch 60/100\n",
      "21/21 [==============================] - 0s 11ms/step - loss: 0.0150 - accuracy: 0.9952 - val_loss: 5.0557 - val_accuracy: 0.3333\n",
      "Epoch 61/100\n",
      "21/21 [==============================] - 0s 11ms/step - loss: 0.0248 - accuracy: 0.9952 - val_loss: 4.9985 - val_accuracy: 0.3444\n",
      "Epoch 62/100\n",
      "21/21 [==============================] - 0s 11ms/step - loss: 0.0393 - accuracy: 0.9857 - val_loss: 5.0971 - val_accuracy: 0.3111\n",
      "Epoch 63/100\n",
      "21/21 [==============================] - 0s 11ms/step - loss: 0.0650 - accuracy: 0.9857 - val_loss: 4.6357 - val_accuracy: 0.3444\n",
      "Epoch 64/100\n",
      "21/21 [==============================] - 0s 11ms/step - loss: 0.0920 - accuracy: 0.9619 - val_loss: 5.4936 - val_accuracy: 0.3000\n",
      "Epoch 65/100\n",
      "21/21 [==============================] - 0s 13ms/step - loss: 0.1520 - accuracy: 0.9524 - val_loss: 4.7261 - val_accuracy: 0.3000\n",
      "Epoch 66/100\n",
      "21/21 [==============================] - 0s 12ms/step - loss: 0.2937 - accuracy: 0.8952 - val_loss: 4.2343 - val_accuracy: 0.3333\n",
      "Epoch 67/100\n",
      "21/21 [==============================] - 0s 11ms/step - loss: 0.2331 - accuracy: 0.9238 - val_loss: 3.8809 - val_accuracy: 0.3222\n",
      "Epoch 68/100\n",
      "21/21 [==============================] - 0s 12ms/step - loss: 0.0856 - accuracy: 0.9762 - val_loss: 3.9483 - val_accuracy: 0.2889\n",
      "Epoch 69/100\n",
      "21/21 [==============================] - 0s 12ms/step - loss: 0.0781 - accuracy: 0.9762 - val_loss: 4.0843 - val_accuracy: 0.3333\n",
      "Epoch 70/100\n",
      "21/21 [==============================] - 0s 11ms/step - loss: 0.0257 - accuracy: 0.9952 - val_loss: 4.5002 - val_accuracy: 0.3333\n",
      "Epoch 71/100\n",
      "21/21 [==============================] - 0s 12ms/step - loss: 0.0363 - accuracy: 0.9857 - val_loss: 4.8266 - val_accuracy: 0.2444\n",
      "Epoch 72/100\n",
      "21/21 [==============================] - 0s 11ms/step - loss: 0.0138 - accuracy: 1.0000 - val_loss: 4.8537 - val_accuracy: 0.3000\n",
      "Epoch 73/100\n",
      "21/21 [==============================] - 0s 11ms/step - loss: 0.0068 - accuracy: 1.0000 - val_loss: 4.8269 - val_accuracy: 0.2889\n",
      "Epoch 74/100\n",
      "21/21 [==============================] - 0s 11ms/step - loss: 0.0094 - accuracy: 1.0000 - val_loss: 5.1893 - val_accuracy: 0.3444\n",
      "Epoch 75/100\n",
      "21/21 [==============================] - 0s 11ms/step - loss: 0.0041 - accuracy: 1.0000 - val_loss: 5.2054 - val_accuracy: 0.3333\n",
      "Epoch 76/100\n",
      "21/21 [==============================] - 0s 12ms/step - loss: 0.0038 - accuracy: 1.0000 - val_loss: 5.2581 - val_accuracy: 0.3444\n",
      "Epoch 77/100\n",
      "21/21 [==============================] - 0s 11ms/step - loss: 0.0031 - accuracy: 1.0000 - val_loss: 5.4788 - val_accuracy: 0.3333\n",
      "Epoch 78/100\n",
      "21/21 [==============================] - 0s 11ms/step - loss: 0.0016 - accuracy: 1.0000 - val_loss: 5.4935 - val_accuracy: 0.3444\n",
      "Epoch 79/100\n",
      "21/21 [==============================] - 0s 11ms/step - loss: 0.0038 - accuracy: 1.0000 - val_loss: 5.3907 - val_accuracy: 0.3333\n",
      "Epoch 80/100\n",
      "21/21 [==============================] - 0s 11ms/step - loss: 0.0018 - accuracy: 1.0000 - val_loss: 5.5556 - val_accuracy: 0.3444\n",
      "Epoch 81/100\n",
      "21/21 [==============================] - 0s 12ms/step - loss: 0.0042 - accuracy: 1.0000 - val_loss: 6.0332 - val_accuracy: 0.3556\n",
      "Epoch 82/100\n",
      "21/21 [==============================] - 0s 12ms/step - loss: 0.0068 - accuracy: 1.0000 - val_loss: 5.7842 - val_accuracy: 0.3222\n",
      "Epoch 83/100\n",
      "21/21 [==============================] - 0s 11ms/step - loss: 0.0037 - accuracy: 1.0000 - val_loss: 5.5866 - val_accuracy: 0.3444\n",
      "Epoch 84/100\n",
      "21/21 [==============================] - 0s 11ms/step - loss: 0.0042 - accuracy: 1.0000 - val_loss: 5.4868 - val_accuracy: 0.3222\n",
      "Epoch 85/100\n",
      "21/21 [==============================] - 0s 12ms/step - loss: 0.0036 - accuracy: 1.0000 - val_loss: 5.5262 - val_accuracy: 0.3222\n",
      "Epoch 86/100\n",
      "21/21 [==============================] - 0s 11ms/step - loss: 0.0074 - accuracy: 0.9952 - val_loss: 6.1516 - val_accuracy: 0.3222\n",
      "Epoch 87/100\n",
      "21/21 [==============================] - 0s 11ms/step - loss: 0.0102 - accuracy: 1.0000 - val_loss: 5.5037 - val_accuracy: 0.3333\n",
      "Epoch 88/100\n",
      "21/21 [==============================] - 0s 12ms/step - loss: 0.0058 - accuracy: 1.0000 - val_loss: 5.6342 - val_accuracy: 0.3000\n",
      "Epoch 89/100\n",
      "21/21 [==============================] - 0s 11ms/step - loss: 0.0047 - accuracy: 1.0000 - val_loss: 5.9549 - val_accuracy: 0.3222\n",
      "Epoch 90/100\n",
      "21/21 [==============================] - 0s 11ms/step - loss: 0.0025 - accuracy: 1.0000 - val_loss: 5.9416 - val_accuracy: 0.3333\n",
      "Epoch 91/100\n",
      "21/21 [==============================] - 0s 11ms/step - loss: 0.0013 - accuracy: 1.0000 - val_loss: 5.8644 - val_accuracy: 0.3333\n",
      "Epoch 92/100\n",
      "21/21 [==============================] - 0s 12ms/step - loss: 0.0062 - accuracy: 1.0000 - val_loss: 5.7286 - val_accuracy: 0.3111\n",
      "Epoch 93/100\n",
      "21/21 [==============================] - 0s 11ms/step - loss: 0.0047 - accuracy: 1.0000 - val_loss: 5.8939 - val_accuracy: 0.3333\n",
      "Epoch 94/100\n",
      "21/21 [==============================] - 0s 12ms/step - loss: 0.0052 - accuracy: 1.0000 - val_loss: 5.5013 - val_accuracy: 0.3000\n",
      "Epoch 95/100\n",
      "21/21 [==============================] - 0s 11ms/step - loss: 0.0055 - accuracy: 1.0000 - val_loss: 5.7230 - val_accuracy: 0.3333\n",
      "Epoch 96/100\n",
      "21/21 [==============================] - 0s 12ms/step - loss: 0.0021 - accuracy: 1.0000 - val_loss: 5.6456 - val_accuracy: 0.3444\n",
      "Epoch 97/100\n",
      "21/21 [==============================] - 0s 12ms/step - loss: 0.0015 - accuracy: 1.0000 - val_loss: 5.6563 - val_accuracy: 0.3333\n",
      "Epoch 98/100\n",
      "21/21 [==============================] - 0s 11ms/step - loss: 0.0054 - accuracy: 1.0000 - val_loss: 5.5996 - val_accuracy: 0.3444\n",
      "Epoch 99/100\n",
      "21/21 [==============================] - 0s 11ms/step - loss: 0.0064 - accuracy: 1.0000 - val_loss: 5.8404 - val_accuracy: 0.2889\n",
      "Epoch 100/100\n",
      "21/21 [==============================] - 0s 12ms/step - loss: 0.0074 - accuracy: 1.0000 - val_loss: 5.9197 - val_accuracy: 0.3222\n"
     ]
    }
   ],
   "source": [
    "from tensorflow.keras.callbacks import EarlyStopping\n",
    "\n",
    "es = EarlyStopping(patience=20)\n",
    "\n",
    "model = initialize_model()\n",
    "compile_model(model)\n",
    "\n",
    "history = model.fit(\n",
    "    X_train, y_train[:300],\n",
    "    validation_split=0.3,\n",
    "    batch_size = 10, \n",
    "    epochs = 100,\n",
    "    verbose = 1,\n",
    "    callbacks=[es]\n",
    "    )"
   ]
  },
  {
   "cell_type": "markdown",
   "metadata": {},
   "source": [
    "❓ **Question** ❓ Run the following function on the previous history (keep the default arguments, these are intended for future plots in the notebook)."
   ]
  },
  {
   "cell_type": "code",
   "execution_count": 31,
   "metadata": {
    "ExecuteTime": {
     "end_time": "2020-11-18T14:48:20.922119Z",
     "start_time": "2020-11-18T14:48:20.535940Z"
    }
   },
   "outputs": [
    {
     "data": {
      "text/plain": [
       "(<AxesSubplot:title={'center':'loss'}>,\n",
       " <AxesSubplot:title={'center':'Accuracy'}>)"
      ]
     },
     "execution_count": 31,
     "metadata": {},
     "output_type": "execute_result"
    },
    {
     "data": {
      "image/png": "[encoded data removed]",
      "text/plain": [
       "<Figure size 864x288 with 2 Axes>"
      ]
     },
     "metadata": {
      "needs_background": "light"
     },
     "output_type": "display_data"
    }
   ],
   "source": [
    "def plot_history(history, title='', axs=None, exp_name=\"\"):\n",
    "    if axs is not None:\n",
    "        ax1, ax2 = axs\n",
    "    else:\n",
    "        f, (ax1, ax2) = plt.subplots(1, 2, figsize=(12, 4))\n",
    "    \n",
    "    if len(exp_name) > 0 and exp_name[0] != '_':\n",
    "        exp_name = '_' + exp_name\n",
    "    ax1.plot(history.history['loss'], label='train' + exp_name)\n",
    "    ax1.plot(history.history['val_loss'], label='val' + exp_name)\n",
    "    ax1.set_ylim(0., 2.2)\n",
    "    ax1.set_title('loss')\n",
    "    ax1.legend()\n",
    "\n",
    "    ax2.plot(history.history['accuracy'], label='train accuracy'  + exp_name)\n",
    "    ax2.plot(history.history['val_accuracy'], label='val accuracy'  + exp_name)\n",
    "    ax2.set_ylim(0.25, 1.)\n",
    "    ax2.set_title('Accuracy')\n",
    "    ax2.legend()\n",
    "    return (ax1, ax2)\n",
    "\n",
    "plot_history(history)"
   ]
  },
  {
   "cell_type": "markdown",
   "metadata": {},
   "source": [
    "❓ **Question** ❓ Evaluate your model on the test data. Are you satisfied with these performances ? What is the chance level on this task ?"
   ]
  },
  {
   "cell_type": "code",
   "execution_count": null,
   "metadata": {
    "ExecuteTime": {
     "end_time": "2020-11-18T14:05:04.836725Z",
     "start_time": "2020-11-18T14:05:01.065Z"
    }
   },
   "outputs": [],
   "source": [
    "result = model.evaluate(X_test, y_test)\n",
    "#21% accuracy, the baseline would be 10%. But we trained on 100 images only."
   ]
  },
  {
   "cell_type": "markdown",
   "metadata": {},
   "source": [
    "# Data augmentation\n",
    "\n",
    "To easily improve the accuracy of a model without much work, we can generate new data: the _data augmentation_. This widely used technique consists in applying little transformation to input images without changing its label, as mirroring, cropping, intensity changes, etc. The improved performance simply results from the Neural network training with more different data.\n",
    "\n",
    "The natural way to generate these new images is to apply some transformations and train the model on the original and new images. However, such procedure requires to keep all these images in memory : it can be very intensive, to the point that your computer memory cannot hold any new image (your computer might even crash).\n",
    "\n",
    "For this reason, we will augment the data _on the fly_, meaning that we will create new data, use them to fit the model, then delete them. Here, Keras is our friend as it provides the utils to do all this job for us. Look at the following code : the general writing can seem odd but don't be panicked: just look at the function arguments that defines the augmentation techniques that we will use and that you can check in the  [documentation](https://www.tensorflow.org/api_docs/python/tf/keras/preprocessing/image/ImageDataGenerator)."
   ]
  },
  {
   "cell_type": "code",
   "execution_count": 28,
   "metadata": {
    "ExecuteTime": {
     "end_time": "2020-11-18T14:08:22.298101Z",
     "start_time": "2020-11-18T14:07:57.154732Z"
    },
    "scrolled": false
   },
   "outputs": [],
   "source": [
    "from tensorflow.keras.preprocessing.image import ImageDataGenerator\n",
    "\n",
    "datagen = ImageDataGenerator(\n",
    "    featurewise_center=False,\n",
    "    featurewise_std_normalization=False,\n",
    "    rotation_range=10,\n",
    "    width_shift_range=0.2,\n",
    "    height_shift_range=0.2,\n",
    "    horizontal_flip=True,\n",
    "    zoom_range=(0.8, 1.2),) \n",
    "\n",
    "datagen.fit(X_train)"
   ]
  },
  {
   "cell_type": "markdown",
   "metadata": {},
   "source": [
    "You can vizualize the input image and the transformed one with the following code:"
   ]
  },
  {
   "cell_type": "code",
   "execution_count": null,
   "metadata": {
    "ExecuteTime": {
     "end_time": "2020-11-18T14:05:04.839147Z",
     "start_time": "2020-11-18T14:05:01.071Z"
    },
    "scrolled": false
   },
   "outputs": [],
   "source": [
    "import numpy as np\n",
    "\n",
    "X_augmented = datagen.flow(X_train, shuffle=False, batch_size=1)\n",
    "\n",
    "for i, (raw_image, augmented_image) in enumerate(zip(X_train, X_augmented)):\n",
    "    _, (ax1, ax2) = plt.subplots(1, 2, figsize=(6, 2))\n",
    "    ax1.imshow(raw_image)\n",
    "    ax2.imshow(augmented_image[0])\n",
    "    plt.show()\n",
    "    \n",
    "    if i > 10:\n",
    "        break"
   ]
  },
  {
   "cell_type": "markdown",
   "metadata": {},
   "source": [
    "❗ **Remark** ❗ In this example, there is one augmented image per initial image. In fact, it is possible to have many augmented images per initial image.\n",
    "\n",
    "❓ **Question** ❓ Previously, we used the `validation_split` argument to let the model separate a training set from the validation one. It is not possible here as using an image in the training set and its transformation in the validation set is considered as a data leakage. Therefore, we have to manually define the `validation_data` with the following commands:"
   ]
  },
  {
   "cell_type": "code",
   "execution_count": 29,
   "metadata": {
    "ExecuteTime": {
     "end_time": "2020-11-18T14:27:44.001828Z",
     "start_time": "2020-11-18T14:08:49.917250Z"
    },
    "scrolled": true
   },
   "outputs": [
    {
     "name": "stdout",
     "output_type": "stream",
     "text": [
      "Epoch 1/100\n",
      "1250/1250 [==============================] - 41s 33ms/step - loss: 1.8535 - accuracy: 0.3030 - val_loss: 1.5334 - val_accuracy: 0.4272\n",
      "Epoch 2/100\n",
      "1250/1250 [==============================] - 41s 33ms/step - loss: 1.5871 - accuracy: 0.4176 - val_loss: 1.3915 - val_accuracy: 0.5037\n",
      "Epoch 3/100\n",
      "1250/1250 [==============================] - 40s 32ms/step - loss: 1.4636 - accuracy: 0.4727 - val_loss: 1.3259 - val_accuracy: 0.5392\n",
      "Epoch 4/100\n",
      "1250/1250 [==============================] - 41s 33ms/step - loss: 1.3830 - accuracy: 0.5085 - val_loss: 1.1864 - val_accuracy: 0.5826\n",
      "Epoch 5/100\n",
      "1250/1250 [==============================] - 39s 31ms/step - loss: 1.3269 - accuracy: 0.5294 - val_loss: 1.2199 - val_accuracy: 0.5638\n",
      "Epoch 6/100\n",
      "1250/1250 [==============================] - 41s 33ms/step - loss: 1.2843 - accuracy: 0.5488 - val_loss: 1.2599 - val_accuracy: 0.5636\n",
      "Epoch 7/100\n",
      "1250/1250 [==============================] - 41s 33ms/step - loss: 1.2444 - accuracy: 0.5622 - val_loss: 1.1552 - val_accuracy: 0.5905\n",
      "Epoch 8/100\n",
      "1250/1250 [==============================] - 37s 30ms/step - loss: 1.2085 - accuracy: 0.5809 - val_loss: 1.1291 - val_accuracy: 0.6155\n",
      "Epoch 9/100\n",
      "1250/1250 [==============================] - 39s 31ms/step - loss: 1.1831 - accuracy: 0.5900 - val_loss: 1.0392 - val_accuracy: 0.6317\n",
      "Epoch 10/100\n",
      "1250/1250 [==============================] - 38s 31ms/step - loss: 1.1503 - accuracy: 0.5989 - val_loss: 1.0315 - val_accuracy: 0.6393\n",
      "Epoch 11/100\n",
      "1250/1250 [==============================] - 39s 31ms/step - loss: 1.1315 - accuracy: 0.6062 - val_loss: 0.9896 - val_accuracy: 0.6561\n",
      "Epoch 12/100\n",
      "1250/1250 [==============================] - 39s 31ms/step - loss: 1.1168 - accuracy: 0.6121 - val_loss: 1.0577 - val_accuracy: 0.6313\n",
      "Epoch 13/100\n",
      "1250/1250 [==============================] - 40s 32ms/step - loss: 1.0928 - accuracy: 0.6207 - val_loss: 0.9615 - val_accuracy: 0.6754\n",
      "Epoch 14/100\n",
      "1250/1250 [==============================] - 38s 31ms/step - loss: 1.0793 - accuracy: 0.6262 - val_loss: 0.9855 - val_accuracy: 0.6647\n",
      "Epoch 15/100\n",
      "1250/1250 [==============================] - 42s 34ms/step - loss: 1.0717 - accuracy: 0.6282 - val_loss: 0.9492 - val_accuracy: 0.6723\n",
      "Epoch 16/100\n",
      "1250/1250 [==============================] - 39s 31ms/step - loss: 1.0624 - accuracy: 0.6347 - val_loss: 0.9107 - val_accuracy: 0.6896\n",
      "Epoch 17/100\n",
      "1250/1250 [==============================] - 41s 33ms/step - loss: 1.0449 - accuracy: 0.6367 - val_loss: 0.8961 - val_accuracy: 0.6857\n",
      "Epoch 18/100\n",
      "1250/1250 [==============================] - 39s 31ms/step - loss: 1.0298 - accuracy: 0.6473 - val_loss: 0.9604 - val_accuracy: 0.6772\n",
      "Epoch 19/100\n",
      "1250/1250 [==============================] - 38s 31ms/step - loss: 1.0203 - accuracy: 0.6507 - val_loss: 0.9139 - val_accuracy: 0.6838\n",
      "Epoch 20/100\n",
      "1250/1250 [==============================] - 40s 32ms/step - loss: 1.0198 - accuracy: 0.6488 - val_loss: 0.8371 - val_accuracy: 0.7151\n",
      "Epoch 21/100\n",
      "1250/1250 [==============================] - 38s 30ms/step - loss: 1.0059 - accuracy: 0.6549 - val_loss: 0.9151 - val_accuracy: 0.6920\n",
      "Epoch 22/100\n",
      "1250/1250 [==============================] - 42s 33ms/step - loss: 0.9967 - accuracy: 0.6572 - val_loss: 0.8696 - val_accuracy: 0.6985\n",
      "Epoch 23/100\n",
      "1250/1250 [==============================] - 36s 29ms/step - loss: 0.9892 - accuracy: 0.6568 - val_loss: 0.9233 - val_accuracy: 0.6762\n",
      "Epoch 24/100\n",
      "1250/1250 [==============================] - 39s 31ms/step - loss: 0.9825 - accuracy: 0.6629 - val_loss: 0.8249 - val_accuracy: 0.7218\n",
      "Epoch 25/100\n",
      "1250/1250 [==============================] - 36s 29ms/step - loss: 0.9745 - accuracy: 0.6655 - val_loss: 0.8254 - val_accuracy: 0.7124\n",
      "Epoch 26/100\n",
      "1250/1250 [==============================] - 37s 30ms/step - loss: 0.9686 - accuracy: 0.6671 - val_loss: 0.9045 - val_accuracy: 0.6865\n",
      "Epoch 27/100\n",
      "1250/1250 [==============================] - 37s 29ms/step - loss: 0.9619 - accuracy: 0.6680 - val_loss: 0.8283 - val_accuracy: 0.7114\n",
      "Epoch 28/100\n",
      "1250/1250 [==============================] - 37s 29ms/step - loss: 0.9570 - accuracy: 0.6714 - val_loss: 0.8617 - val_accuracy: 0.7055\n",
      "Epoch 29/100\n",
      "1250/1250 [==============================] - 36s 29ms/step - loss: 0.9528 - accuracy: 0.6733 - val_loss: 0.8456 - val_accuracy: 0.7084\n"
     ]
    }
   ],
   "source": [
    "# The model\n",
    "model_2 = initialize_model()\n",
    "model_2 = compile_model(model_2)\n",
    "\n",
    "# The data generator\n",
    "X_tr = X_train[:40000]\n",
    "y_tr = y_train[:40000]\n",
    "X_val = X_train[40000:]\n",
    "y_val = y_train[40000:]\n",
    "train_flow = datagen.flow(X_tr, y_tr, batch_size=32)\n",
    "\n",
    "# The early stopping criterion\n",
    "es = EarlyStopping(patience=5)\n",
    "\n",
    "# The fit\n",
    "history_2 = model_2.fit(train_flow, \n",
    "                        epochs=100, \n",
    "                        callbacks=[es], \n",
    "                        validation_data=(X_val, y_val),\n",
    "                       verbose=1)\n"
   ]
  },
  {
   "cell_type": "markdown",
   "metadata": {},
   "source": [
    "### Remark: The training can be quite long here. You can go to the next exercise and gome back once in a while to finish the last questions\n",
    "\n",
    "❓ **Question** ❓ Now, let's plot the previous and current run histories. What do you think of the data augmentation?"
   ]
  },
  {
   "cell_type": "code",
   "execution_count": 32,
   "metadata": {
    "ExecuteTime": {
     "end_time": "2020-11-18T14:48:27.355640Z",
     "start_time": "2020-11-18T14:48:27.047343Z"
    }
   },
   "outputs": [
    {
     "data": {
      "image/png": "[encoded data removed]",
      "text/plain": [
       "<Figure size 864x288 with 2 Axes>"
      ]
     },
     "metadata": {
      "needs_background": "light"
     },
     "output_type": "display_data"
    }
   ],
   "source": [
    "axs = plot_history(history_2, exp_name='data_augmentation')\n",
    "plot_history(history ,axs=axs, exp_name='baseline')\n",
    "plt.show()"
   ]
  },
  {
   "cell_type": "markdown",
   "metadata": {},
   "source": [
    "❓ **Question** ❓ Evaluate the model on the test data. Do you see an improvement ?"
   ]
  },
  {
   "cell_type": "code",
   "execution_count": 34,
   "metadata": {
    "ExecuteTime": {
     "end_time": "2020-11-18T14:50:08.087276Z",
     "start_time": "2020-11-18T14:50:05.241460Z"
    }
   },
   "outputs": [
    {
     "name": "stdout",
     "output_type": "stream",
     "text": [
      "313/313 [==============================] - 2s 7ms/step - loss: 191.4298 - accuracy: 0.3699\n"
     ]
    }
   ],
   "source": [
    "result2 = model_2.evaluate(X_test, y_test)\n",
    "#37% accuracy, the baseline would be 10%. It's not that great..."
   ]
  },
  {
   "cell_type": "markdown",
   "metadata": {},
   "source": [
    "##  Remark\n",
    "\n",
    "One thing you have probably noticed in this notebook is that the training is quite long. This is the reason why we stopped training quickly to still have somehow fast experiments. However, in practice, training must be allowed to last longer, with a a stopping criterion that has a lower delta and higher patience!\n",
    "\n",
    "How can we do that?  Actually, when you run the notebook on your compute, you train the neural network on your CPU. However, training neural network on images (in each batch) can be parallelized, and this parallelization procedure can be done on GPU.\n",
    "\n",
    "First, you might face the fact that you don't have a GPU on your computer. Bur more importantly, it can be hard to set up the training on the GPU as it requires special hardware, software and sometimes OS. Therefore, we will look at another way to train our CNN on GPU (for free): Google Colab!"
   ]
  },
  {
   "cell_type": "code",
   "execution_count": null,
   "metadata": {},
   "outputs": [],
   "source": []
  }
 ],
 "metadata": {
  "kernelspec": {
   "display_name": "Python 3",
   "language": "python",
   "name": "python3"
  },
  "language_info": {
   "codemirror_mode": {
    "name": "ipython",
    "version": 3
   },
   "file_extension": ".py",
   "mimetype": "text/x-python",
   "name": "python",
   "nbconvert_exporter": "python",
   "pygments_lexer": "ipython3",
   "version": "3.8.5"
  },
  "toc": {
   "base_numbering": 1,
   "nav_menu": {},
   "number_sections": false,
   "sideBar": true,
   "skip_h1_title": false,
   "title_cell": "Table of Contents",
   "title_sidebar": "Contents",
   "toc_cell": false,
   "toc_position": {},
   "toc_section_display": true,
   "toc_window_display": false
  },
  "varInspector": {
   "cols": {
    "lenName": 16,
    "lenType": 16,
    "lenVar": 40
   },
   "kernels_config": {
    "python": {
     "delete_cmd_postfix": "",
     "delete_cmd_prefix": "del ",
     "library": "var_list.py",
     "varRefreshCmd": "print(var_dic_list())"
    },
    "r": {
     "delete_cmd_postfix": ") ",
     "delete_cmd_prefix": "rm(",
     "library": "var_list.r",
     "varRefreshCmd": "cat(var_dic_list()) "
    }
   },
   "types_to_exclude": [
    "module",
    "function",
    "builtin_function_or_method",
    "instance",
    "_Feature"
   ],
   "window_display": false
  }
 },
 "nbformat": 4,
 "nbformat_minor": 2
}

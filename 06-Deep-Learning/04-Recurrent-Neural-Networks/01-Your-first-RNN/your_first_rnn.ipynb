{
 "cells": [
  {
   "cell_type": "markdown",
   "metadata": {},
   "source": [
    "# Deep Learning - Day 4 - Your First RNN\n",
    "\n",
    "### Exercise objectives:\n",
    "\n",
    "- Better understand temporal data\n",
    "- Build your first Recurrent Neural Network\n",
    "\n",
    "\n",
    "<hr>\n",
    "<hr>\n",
    "\n",
    "You will see along the different exercises that temporal data can be of very different type - and thus of different complexity. For that reason, let's start with simple sequences of observations.\n",
    "\n",
    "\n",
    "# The data\n",
    "\n",
    "\n",
    "The data describes the evolution of the employment status of a person, year after year: each sequence corresponds to 6 consecutive years, where each year describes a job (let's say for the sake of simplicity that it corresponds to the job on the 1st of January). And each job is described by\n",
    "- the salary,\n",
    "- the number of persons under one's responsability,\n",
    "- the size of the company. \n",
    "\n",
    "For instance, if at a given year, you earn 2500 ($, €, ¥, ...), you have 4 persons under your responsibility and the company has 200 employes, then it corresponds to the vector (2.5, 4, 200) - note here that the salary is devided by 1000 to have something normalized. And you have this observation for 10 consecutive years.\n",
    "\n",
    "So, from this 25000 sequences, each of 10 consecutive observations, the goal is to predict the salary on the 11th year based on the past observations. \n",
    "\n",
    "❓ **Question** ❓ Load the data"
   ]
  },
  {
   "cell_type": "code",
   "execution_count": 2,
   "metadata": {
    "ExecuteTime": {
     "end_time": "2020-11-19T10:40:58.299108Z",
     "start_time": "2020-11-19T10:40:58.154819Z"
    }
   },
   "outputs": [],
   "source": [
    "import numpy as np\n",
    "\n",
    "X = np.load('X.npy')\n",
    "y = np.load('y.npy')"
   ]
  },
  {
   "cell_type": "code",
   "execution_count": 3,
   "metadata": {
    "ExecuteTime": {
     "end_time": "2020-11-19T10:40:58.313270Z",
     "start_time": "2020-11-19T10:40:58.301840Z"
    }
   },
   "outputs": [
    {
     "data": {
      "text/plain": [
       "(25000, 10, 3)"
      ]
     },
     "execution_count": 3,
     "metadata": {},
     "output_type": "execute_result"
    }
   ],
   "source": [
    "X.shape"
   ]
  },
  {
   "cell_type": "code",
   "execution_count": 4,
   "metadata": {
    "ExecuteTime": {
     "end_time": "2020-11-19T10:40:58.343138Z",
     "start_time": "2020-11-19T10:40:58.315369Z"
    }
   },
   "outputs": [
    {
     "data": {
      "text/plain": [
       "array([[ 1.53 , 15.   , 48.   ],\n",
       "       [ 1.682, 16.   , 48.   ],\n",
       "       [ 1.88 , 28.   , 48.   ],\n",
       "       [ 4.169, 41.   , 48.   ],\n",
       "       [ 5.027, 41.   , 48.   ],\n",
       "       [ 5.17 , 47.   , 48.   ],\n",
       "       [ 6.291, 47.   , 48.   ],\n",
       "       [ 6.433, 47.   , 48.   ],\n",
       "       [ 6.562, 47.   , 48.   ],\n",
       "       [ 6.729, 47.   , 48.   ]], dtype=float32)"
      ]
     },
     "execution_count": 4,
     "metadata": {},
     "output_type": "execute_result"
    }
   ],
   "source": [
    "X[1]"
   ]
  },
  {
   "cell_type": "markdown",
   "metadata": {},
   "source": [
    "Let's check the data here.\n",
    "\n",
    "❓ **Question** ❓ Take some sequences and plot the evolution of their salaries, of the persons under their responsibility and of the company sizes. You might see some correlation between the three variables."
   ]
  },
  {
   "cell_type": "code",
   "execution_count": 5,
   "metadata": {
    "ExecuteTime": {
     "end_time": "2020-11-19T10:40:58.903603Z",
     "start_time": "2020-11-19T10:40:58.347137Z"
    }
   },
   "outputs": [
    {
     "data": {
      "text/plain": [
       "<matplotlib.legend.Legend at 0x7fa589cdf850>"
      ]
     },
     "execution_count": 5,
     "metadata": {},
     "output_type": "execute_result"
    },
    {
     "data": {
      "image/png": "[encoded data removed]",
      "text/plain": [
       "<Figure size 864x360 with 3 Axes>"
      ]
     },
     "metadata": {
      "needs_background": "light"
     },
     "output_type": "display_data"
    }
   ],
   "source": [
    "import matplotlib.pyplot as plt\n",
    "fig, (ax1, ax2, ax3) = plt.subplots(1,3, figsize = (12, 5))\n",
    "ax1.plot(X[1][:,0], label ='salary')\n",
    "ax2.plot(X[1][:, 1], label ='reports')\n",
    "ax3.plot(X[1][:, 2], label ='company_size')\n",
    "plt.legend()"
   ]
  },
  {
   "cell_type": "markdown",
   "metadata": {},
   "source": [
    "❓ **Question** ❓ Plot the distribution of all the salaries, persons under one's responsibility, and company sizes to get a better understanding of the variability of observations."
   ]
  },
  {
   "cell_type": "code",
   "execution_count": 6,
   "metadata": {
    "ExecuteTime": {
     "end_time": "2020-11-19T10:40:59.053452Z",
     "start_time": "2020-11-19T10:40:58.907298Z"
    }
   },
   "outputs": [
    {
     "data": {
      "text/plain": [
       "{'whiskers': [<matplotlib.lines.Line2D at 0x7fa589c02e80>,\n",
       "  <matplotlib.lines.Line2D at 0x7fa589c11220>],\n",
       " 'caps': [<matplotlib.lines.Line2D at 0x7fa589c11580>,\n",
       "  <matplotlib.lines.Line2D at 0x7fa589c118e0>],\n",
       " 'boxes': [<matplotlib.lines.Line2D at 0x7fa589c02b20>],\n",
       " 'medians': [<matplotlib.lines.Line2D at 0x7fa589c11c40>],\n",
       " 'fliers': [<matplotlib.lines.Line2D at 0x7fa589c11fa0>],\n",
       " 'means': []}"
      ]
     },
     "execution_count": 6,
     "metadata": {},
     "output_type": "execute_result"
    },
    {
     "data": {
      "image/png": "[encoded data removed]",
      "text/plain": [
       "<Figure size 432x288 with 1 Axes>"
      ]
     },
     "metadata": {
      "needs_background": "light"
     },
     "output_type": "display_data"
    }
   ],
   "source": [
    "reports = np.unique(X[:,:, 1])\n",
    "plt.boxplot(reports)"
   ]
  },
  {
   "cell_type": "code",
   "execution_count": 7,
   "metadata": {
    "ExecuteTime": {
     "end_time": "2020-11-19T10:40:59.165237Z",
     "start_time": "2020-11-19T10:40:59.056670Z"
    }
   },
   "outputs": [
    {
     "data": {
      "text/plain": [
       "{'whiskers': [<matplotlib.lines.Line2D at 0x7fa589b68c10>,\n",
       "  <matplotlib.lines.Line2D at 0x7fa589b68f70>],\n",
       " 'caps': [<matplotlib.lines.Line2D at 0x7fa589b75310>,\n",
       "  <matplotlib.lines.Line2D at 0x7fa589b75670>],\n",
       " 'boxes': [<matplotlib.lines.Line2D at 0x7fa589b688b0>],\n",
       " 'medians': [<matplotlib.lines.Line2D at 0x7fa589b759d0>],\n",
       " 'fliers': [<matplotlib.lines.Line2D at 0x7fa589b75d30>],\n",
       " 'means': []}"
      ]
     },
     "execution_count": 7,
     "metadata": {},
     "output_type": "execute_result"
    },
    {
     "data": {
      "image/png": "[encoded data removed]",
      "text/plain": [
       "<Figure size 432x288 with 1 Axes>"
      ]
     },
     "metadata": {
      "needs_background": "light"
     },
     "output_type": "display_data"
    }
   ],
   "source": [
    "salaries = np.unique(X[:,:, 0])\n",
    "plt.boxplot(salaries)"
   ]
  },
  {
   "cell_type": "markdown",
   "metadata": {},
   "source": [
    "❓ **Question** ❓  Split your dataset between a train and test set (80/20%)"
   ]
  },
  {
   "cell_type": "code",
   "execution_count": 18,
   "metadata": {
    "ExecuteTime": {
     "end_time": "2020-11-19T10:42:18.219455Z",
     "start_time": "2020-11-19T10:42:18.205650Z"
    }
   },
   "outputs": [],
   "source": [
    "from sklearn.model_selection import train_test_split\n",
    "X_train, X_test, y_train, y_test = train_test_split(X, y, test_size = 0.2)"
   ]
  },
  {
   "cell_type": "code",
   "execution_count": 9,
   "metadata": {
    "ExecuteTime": {
     "end_time": "2020-11-19T10:40:59.640053Z",
     "start_time": "2020-11-19T10:40:59.633503Z"
    }
   },
   "outputs": [
    {
     "data": {
      "text/plain": [
       "(25000,)"
      ]
     },
     "execution_count": 9,
     "metadata": {},
     "output_type": "execute_result"
    }
   ],
   "source": [
    "y.shape"
   ]
  },
  {
   "cell_type": "markdown",
   "metadata": {},
   "source": [
    "# The model\n",
    "\n",
    "Now, you will create your first Recurrent Neural Network.\n",
    "\n",
    "❓ **Question** ❓ Write a model that has: \n",
    "- a `SimpleRNN` layer with 20 `units` - don't forget to choose the `tanh` activation function\n",
    "- a Dense layer with 10 neurons\n",
    "- a last Dense layer specific to your task (predict a salary)"
   ]
  },
  {
   "cell_type": "code",
   "execution_count": 31,
   "metadata": {
    "ExecuteTime": {
     "end_time": "2020-11-19T10:49:13.872189Z",
     "start_time": "2020-11-19T10:49:13.847921Z"
    }
   },
   "outputs": [],
   "source": [
    "from tensorflow.keras.models import Sequential\n",
    "from tensorflow.keras import layers\n",
    "\n",
    "model = Sequential()\n",
    "model.add(layers.SimpleRNN(units=20, activation='tanh'))\n",
    "model.add(layers.Dense(10, activation = 'relu'))\n",
    "model.add(layers.Dense(1, activation='linear'))\n"
   ]
  },
  {
   "cell_type": "markdown",
   "metadata": {},
   "source": [
    "❓ **Question** ❓ Compile your model. Remember to first use the `rmsprop` optimizer (instead of Adam)."
   ]
  },
  {
   "cell_type": "code",
   "execution_count": 32,
   "metadata": {
    "ExecuteTime": {
     "end_time": "2020-11-19T10:49:14.219684Z",
     "start_time": "2020-11-19T10:49:14.203176Z"
    }
   },
   "outputs": [],
   "source": [
    "model.compile(loss='mse', optimizer='rmsprop', metrics='mae')"
   ]
  },
  {
   "cell_type": "markdown",
   "metadata": {},
   "source": [
    "❓ **Question** ❓ Run your model on your data. Use a validation split of 20% and an early stopping criterion (patience=5)."
   ]
  },
  {
   "cell_type": "code",
   "execution_count": 33,
   "metadata": {
    "ExecuteTime": {
     "end_time": "2020-11-19T10:49:24.060106Z",
     "start_time": "2020-11-19T10:49:14.568331Z"
    },
    "scrolled": true
   },
   "outputs": [
    {
     "name": "stdout",
     "output_type": "stream",
     "text": [
      "Epoch 1/4\n",
      "625/625 [==============================] - 2s 4ms/step - loss: 16.3190 - mae: 1.9071\n",
      "Epoch 2/4\n",
      "625/625 [==============================] - 2s 4ms/step - loss: 4.4122 - mae: 0.9683\n",
      "Epoch 3/4\n",
      "625/625 [==============================] - 2s 3ms/step - loss: 3.1406 - mae: 0.7995\n",
      "Epoch 4/4\n",
      "625/625 [==============================] - 2s 3ms/step - loss: 2.5695 - mae: 0.7516\n"
     ]
    },
    {
     "data": {
      "text/plain": [
       "<tensorflow.python.keras.callbacks.History at 0x7fa4d81de2e0>"
      ]
     },
     "execution_count": 33,
     "metadata": {},
     "output_type": "execute_result"
    }
   ],
   "source": [
    "model.fit(X_train, y_train, batch_size=32, epochs = 4)"
   ]
  },
  {
   "cell_type": "markdown",
   "metadata": {},
   "source": [
    "❓ **Question** ❓ Evaluate your model on the test set"
   ]
  },
  {
   "cell_type": "code",
   "execution_count": 34,
   "metadata": {
    "ExecuteTime": {
     "end_time": "2020-11-19T10:49:24.764119Z",
     "start_time": "2020-11-19T10:49:24.113901Z"
    }
   },
   "outputs": [
    {
     "name": "stdout",
     "output_type": "stream",
     "text": [
      "157/157 [==============================] - 0s 3ms/step - loss: 2.5694 - mae: 0.6972\n"
     ]
    },
    {
     "data": {
      "text/plain": [
       "[2.569394111633301, 0.6971721649169922]"
      ]
     },
     "execution_count": 34,
     "metadata": {},
     "output_type": "execute_result"
    }
   ],
   "source": [
    "model.evaluate(X_test, y_test)"
   ]
  },
  {
   "cell_type": "markdown",
   "metadata": {},
   "source": [
    "# Baseline model\n",
    "\n",
    "\n",
    "### Standard problems\n",
    "\n",
    "As for any model, you should quickly get an idea of the performance of your model. For instance, in case of a 2-class equally-balanced classification, the worst accuracy is of 50%. If the classe is unbalanced, your worst classification consists in always predicting the most present class. Similar ideas go for multiclass classification.\n",
    "\n",
    "In the case of a regression model, a baseline prediction for `y_test` could be to predict the average of `y_train`.\n",
    "\n",
    "### Temporal problems\n",
    "\n",
    "With temporal data, it often happens that you try to predict a value that you have already seen in the past: here, the salary. In that case, a baseline model could be to predict a value based on these past occurencies. For instance, here, you could predict that the 11-th salary is equal to the 10-th salary.\n",
    "\n",
    "❓ **Question** ❓ Compute the Mean Absolute Error of a model that would predict that the salary remains constant between the 10-th and 11-th year and compare it to your RNN."
   ]
  },
  {
   "cell_type": "code",
   "execution_count": 14,
   "metadata": {
    "ExecuteTime": {
     "end_time": "2020-11-19T10:41:22.901213Z",
     "start_time": "2020-11-19T10:41:22.894541Z"
    }
   },
   "outputs": [
    {
     "data": {
      "text/plain": [
       "0.5951943998979569"
      ]
     },
     "execution_count": 14,
     "metadata": {},
     "output_type": "execute_result"
    }
   ],
   "source": [
    "y_pred = X[:, 9, 0]\n",
    "from sklearn.metrics import mean_absolute_error\n",
    "mean_absolute_error(y, y_pred)"
   ]
  },
  {
   "cell_type": "markdown",
   "metadata": {},
   "source": [
    "You have probably seen that your prediction is a little bit better than the baseline model\n",
    "\n",
    "# A bit more complex model\n",
    "\n",
    "❓ **Question** ❓ Write the exact same model, but with a `LSTM` instead of a `SimpleRNN` and evaluate your performance on the test set"
   ]
  },
  {
   "cell_type": "code",
   "execution_count": 35,
   "metadata": {
    "ExecuteTime": {
     "end_time": "2020-11-19T10:49:44.029661Z",
     "start_time": "2020-11-19T10:49:24.820636Z"
    }
   },
   "outputs": [
    {
     "name": "stdout",
     "output_type": "stream",
     "text": [
      "Epoch 1/5\n",
      "625/625 [==============================] - 4s 6ms/step - loss: 20.5721 - mae: 1.9389\n",
      "Epoch 2/5\n",
      "625/625 [==============================] - 3s 5ms/step - loss: 4.0022 - mae: 0.7603\n",
      "Epoch 3/5\n",
      "625/625 [==============================] - 3s 5ms/step - loss: 2.5431 - mae: 0.6615\n",
      "Epoch 4/5\n",
      "625/625 [==============================] - 3s 5ms/step - loss: 2.1502 - mae: 0.6153\n",
      "Epoch 5/5\n",
      "625/625 [==============================] - 3s 6ms/step - loss: 1.8788 - mae: 0.5914\n"
     ]
    },
    {
     "data": {
      "text/plain": [
       "<tensorflow.python.keras.callbacks.History at 0x7fa4b86db7c0>"
      ]
     },
     "execution_count": 35,
     "metadata": {},
     "output_type": "execute_result"
    }
   ],
   "source": [
    "model = Sequential()\n",
    "model.add(layers.LSTM(units=20, activation='tanh'))\n",
    "model.add(layers.Dense(10, activation = 'relu'))\n",
    "model.add(layers.Dense(1, activation='linear'))\n",
    "model.compile(loss='mse', optimizer='rmsprop', metrics='mae')\n",
    "model.fit(X_train, y_train, batch_size=32, epochs = 5)"
   ]
  },
  {
   "cell_type": "code",
   "execution_count": 36,
   "metadata": {
    "ExecuteTime": {
     "end_time": "2020-11-19T10:49:45.120734Z",
     "start_time": "2020-11-19T10:49:44.079757Z"
    }
   },
   "outputs": [
    {
     "name": "stdout",
     "output_type": "stream",
     "text": [
      "157/157 [==============================] - 0s 3ms/step - loss: 1.8279 - mae: 0.5830\n"
     ]
    },
    {
     "data": {
      "text/plain": [
       "[1.8278906345367432, 0.5829674601554871]"
      ]
     },
     "execution_count": 36,
     "metadata": {},
     "output_type": "execute_result"
    }
   ],
   "source": [
    "model.evaluate(X_test, y_test)"
   ]
  },
  {
   "cell_type": "markdown",
   "metadata": {},
   "source": [
    "# Well done!\n",
    "\n",
    "## You now know how to run RNN on sequence data!\n",
    "\n",
    "Note: The sequences you worked with are totally fake. In case you need to train and reproduce similar data, you can find bellow the functions that have been used to simulate this data."
   ]
  },
  {
   "cell_type": "code",
   "execution_count": 37,
   "metadata": {
    "ExecuteTime": {
     "end_time": "2020-11-19T10:49:45.189018Z",
     "start_time": "2020-11-19T10:49:45.177891Z"
    }
   },
   "outputs": [],
   "source": [
    "def create_sequences(number):\n",
    "    X, y = [], []\n",
    "    \n",
    "    for i in range(number):\n",
    "        x_i, y_i = create_individual_sequence(10)\n",
    "        X.append(x_i)\n",
    "        y.append(y_i)\n",
    "        \n",
    "    return np.array(X), np.array(y)\n",
    "            \n",
    "def create_individual_sequence(length):\n",
    "    company_sizes = []\n",
    "    nb_persons = []\n",
    "    salaries = []\n",
    "    \n",
    "    \n",
    "    # Education level\n",
    "    educ_level = [max(0, int(np.random.normal(10, 2)))]*length\n",
    "    \n",
    "    # Company size\n",
    "    current_size = int(1 + np.random.beta(.4, 4)*500)\n",
    "    for i in range(length):\n",
    "        if not np.random.randint(4): # Change 1 out of 3 possibilities \n",
    "            current_size = int(max(1, np.random.normal(current_size, 50)))\n",
    "        company_sizes.append(current_size)\n",
    "    \n",
    "    # Number of persons\n",
    "    nb_iter = np.random.beta(.15, 4)*300\n",
    "    for i in range(length):\n",
    "        if not np.random.randint(2): # Change 1 out of 2 possibilities\n",
    "            R_1 = np.random.beta(0.5, 8)*3\n",
    "            nb_iter = nb_iter + max(-2, R_1*company_sizes[i] + np.random.randint(-2, 2))\n",
    "            nb_iter = max(0, nb_iter)\n",
    "            nb_iter = int(min(company_sizes[i]-1, nb_iter))\n",
    "        nb_persons.append(nb_iter)\n",
    "        \n",
    "    \n",
    "    # Salary\n",
    "    salary_iter = max(800, int(np.random.normal(1200, 300)+ 0.05*company_sizes[0] +  np.random.normal(40, 400)))\n",
    "    salaries.append(salary_iter)\n",
    "    for i in range(1, length + 1):\n",
    "        R_1 = np.random.normal(100, 50)\n",
    "        change_person = nb_persons[i-1] - nb_persons[i-2]\n",
    "        change_company = max(0, company_sizes[i-1] - company_sizes[i-2])\n",
    "        salary_iter = salary_iter + 0.05*change_company + change_person*R_1 + np.random.normal(100, 50)\n",
    "        salary_iter = max(int(salary_iter), 500)\n",
    "        \n",
    "        salaries.append(salary_iter)\n",
    "\n",
    "    y = salaries[-1]/1000\n",
    "    salaries = [_/1000 for _ in salaries[:-1]]\n",
    "    \n",
    "    return np.array([salaries, nb_persons, company_sizes]).T, y"
   ]
  },
  {
   "cell_type": "code",
   "execution_count": 38,
   "metadata": {
    "ExecuteTime": {
     "end_time": "2020-11-19T10:49:45.256495Z",
     "start_time": "2020-11-19T10:49:45.253122Z"
    }
   },
   "outputs": [],
   "source": [
    "#X, y = create_sequences(25000)\n",
    "\n",
    "#np.save('X', X.astype(np.float32))\n",
    "#np.save('y', y)"
   ]
  },
  {
   "cell_type": "code",
   "execution_count": null,
   "metadata": {},
   "outputs": [],
   "source": []
  }
 ],
 "metadata": {
  "kernelspec": {
   "display_name": "Python 3",
   "language": "python",
   "name": "python3"
  },
  "toc": {
   "base_numbering": 1,
   "nav_menu": {},
   "number_sections": false,
   "sideBar": true,
   "skip_h1_title": false,
   "title_cell": "Table of Contents",
   "title_sidebar": "Contents",
   "toc_cell": false,
   "toc_position": {},
   "toc_section_display": true,
   "toc_window_display": false
  },
  "varInspector": {
   "cols": {
    "lenName": 16,
    "lenType": 16,
    "lenVar": 40
   },
   "kernels_config": {
    "python": {
     "delete_cmd_postfix": "",
     "delete_cmd_prefix": "del ",
     "library": "var_list.py",
     "varRefreshCmd": "print(var_dic_list())"
    },
    "r": {
     "delete_cmd_postfix": ") ",
     "delete_cmd_prefix": "rm(",
     "library": "var_list.r",
     "varRefreshCmd": "cat(var_dic_list()) "
    }
   },
   "types_to_exclude": [
    "module",
    "function",
    "builtin_function_or_method",
    "instance",
    "_Feature"
   ],
   "window_display": false
  }
 },
 "nbformat": 4,
 "nbformat_minor": 2
}

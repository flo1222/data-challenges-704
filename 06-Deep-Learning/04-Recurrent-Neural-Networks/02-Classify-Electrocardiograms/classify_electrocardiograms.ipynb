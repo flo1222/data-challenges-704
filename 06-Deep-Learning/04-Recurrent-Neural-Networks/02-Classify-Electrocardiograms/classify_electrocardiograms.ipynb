{
  "nbformat": 4,
  "nbformat_minor": 0,
  "metadata": {
    "kernelspec": {
      "display_name": "Python 3",
      "language": "python",
      "name": "python3"
    },
    "language_info": {
      "codemirror_mode": {
        "name": "ipython",
        "version": 3
      },
      "file_extension": ".py",
      "mimetype": "text/x-python",
      "name": "python",
      "nbconvert_exporter": "python",
      "pygments_lexer": "ipython3",
      "version": "3.8.5"
    },
    "toc": {
      "base_numbering": 1,
      "nav_menu": {},
      "number_sections": true,
      "sideBar": true,
      "skip_h1_title": false,
      "title_cell": "Table of Contents",
      "title_sidebar": "Contents",
      "toc_cell": false,
      "toc_position": {},
      "toc_section_display": true,
      "toc_window_display": false
    },
    "varInspector": {
      "cols": {
        "lenName": 16,
        "lenType": 16,
        "lenVar": 40
      },
      "kernels_config": {
        "python": {
          "delete_cmd_postfix": "",
          "delete_cmd_prefix": "del ",
          "library": "var_list.py",
          "varRefreshCmd": "print(var_dic_list())"
        },
        "r": {
          "delete_cmd_postfix": ") ",
          "delete_cmd_prefix": "rm(",
          "library": "var_list.r",
          "varRefreshCmd": "cat(var_dic_list()) "
        }
      },
      "types_to_exclude": [
        "module",
        "function",
        "builtin_function_or_method",
        "instance",
        "_Feature"
      ],
      "window_display": false
    },
    "colab": {
      "name": "classify_electrocardiograms.ipynb",
      "provenance": [],
      "collapsed_sections": []
    }
  },
  "cells": [
    {
      "cell_type": "markdown",
      "metadata": {
        "_cell_guid": "79c7e3d0-c299-4dcb-8224-4455121ee9b0",
        "_uuid": "d629ff2d2480ee46fbb7e2d37f6b5fab8052498a",
        "id": "Sy1KJysmPOPP"
      },
      "source": [
        "# Deep Learning - Day 4 - Classify Electrocardiograms\n",
        "\n",
        "### Exercise objectives:\n",
        "- Discover a new type of application with temporal data\n",
        "- Try different recurrent neural networks\n",
        "\n",
        "<hr>\n",
        "<hr>\n",
        "\n",
        "We have seen that RNN are able to predict what happens after an observed sequence of data. Let's see here a different way of using RNN. Instead of predicting a value that occurs after the seen sequence, we will here classify the entire sequence itself, as if the whole sequence corresponds to a given category. \n",
        "\n",
        "# Data\n",
        "\n",
        "The data corresponds to electrocardiograms (ECG), which are basically heart beats. Each sequence is therefore a sequence of amplitudes. These ECG are often used to observe heart malfunctions! In this dataset, there are 87554 heart beats and each corresponds to a heart beat type, from 0 to 4:\n",
        "- 0 : Normal beat\n",
        "- 1 : Supraventricular\n",
        "- 2 : Ventricular\n",
        "- 3 : Fusion\n",
        "- 4 : Beats that cannot be classified\n",
        "\n",
        "\n",
        "❓ **Question** ❓ Download the data from [here](https://storage.googleapis.com/data-sciences-bootcamp/ECG_data.zip), unzip them and read them thanks to the \n",
        "`np.load(path/to/data, allow_pickle=True).tolist()`"
      ]
    },
    {
      "cell_type": "code",
      "metadata": {
        "colab": {
          "base_uri": "https://localhost:8080/"
        },
        "id": "CnBmtSuqP5od",
        "outputId": "5dc7ea4c-78ea-4daa-a914-c27b31a57b62"
      },
      "source": [
        "from google.colab import drive\n",
        "drive.mount('/content/drive/')"
      ],
      "execution_count": null,
      "outputs": [
        {
          "output_type": "stream",
          "text": [
            "Drive already mounted at /content/drive/; to attempt to forcibly remount, call drive.mount(\"/content/drive/\", force_remount=True).\n"
          ],
          "name": "stdout"
        }
      ]
    },
    {
      "cell_type": "code",
      "metadata": {
        "ExecuteTime": {
          "end_time": "2020-11-19T10:50:06.337170Z",
          "start_time": "2020-11-19T10:50:05.552085Z"
        },
        "id": "0FdhK8sqPOPQ"
      },
      "source": [
        "import numpy as np\n",
        "\n",
        "X = np.load('drive/MyDrive/Colab Notebooks/data/ECG_data/X.npy', allow_pickle=True).tolist()\n",
        "y = np.load('drive/MyDrive/Colab Notebooks/data/ECG_data/y.npy', allow_pickle=True).tolist()"
      ],
      "execution_count": null,
      "outputs": []
    },
    {
      "cell_type": "markdown",
      "metadata": {
        "id": "b7XUs0UdPOPQ"
      },
      "source": [
        "❓ **Question** ❓ Plot one ECG for each category in the dataset to see what an ECG looks like"
      ]
    },
    {
      "cell_type": "code",
      "metadata": {
        "ExecuteTime": {
          "end_time": "2020-11-19T10:57:26.282658Z",
          "start_time": "2020-11-19T10:57:26.275364Z"
        },
        "colab": {
          "base_uri": "https://localhost:8080/"
        },
        "id": "QPlGDxEtPOPR",
        "outputId": "f2ad4163-7b8a-467b-924d-e3833b1edfb9"
      },
      "source": [
        "for i, beat in enumerate(y):\n",
        "    if beat == 3:\n",
        "        print(i)\n",
        "        break"
      ],
      "execution_count": null,
      "outputs": [
        {
          "output_type": "stream",
          "text": [
            "74\n"
          ],
          "name": "stdout"
        }
      ]
    },
    {
      "cell_type": "code",
      "metadata": {
        "ExecuteTime": {
          "end_time": "2020-11-19T10:58:32.373329Z",
          "start_time": "2020-11-19T10:58:31.772812Z"
        },
        "colab": {
          "base_uri": "https://localhost:8080/",
          "height": 550
        },
        "id": "1QCI0CePPOPS",
        "outputId": "d3afbe49-14fc-422b-b52e-9993d86394c1"
      },
      "source": [
        "import matplotlib.pyplot as plt\n",
        "fig, axs = plt.subplots(2,2, figsize = (12, 8))\n",
        "axs[0,0].plot(X[0], label ='normal')\n",
        "plt.legend()\n",
        "axs[0,1].plot(X[1], label ='Supraventricular')\n",
        "plt.legend()\n",
        "axs[1,0].plot(X[20], label ='Ventricular')\n",
        "plt.legend()\n",
        "axs[1,1].plot(X[74], label ='Fusion')\n",
        "plt.legend()"
      ],
      "execution_count": null,
      "outputs": [
        {
          "output_type": "stream",
          "text": [
            "No handles with labels found to put in legend.\n",
            "No handles with labels found to put in legend.\n",
            "No handles with labels found to put in legend.\n"
          ],
          "name": "stderr"
        },
        {
          "output_type": "execute_result",
          "data": {
            "text/plain": [
              "<matplotlib.legend.Legend at 0x7f0d17c7b2b0>"
            ]
          },
          "metadata": {
            "tags": []
          },
          "execution_count": 101
        },
        {
          "output_type": "display_data",
          "data": {
            "image/png": "[encoded data removed]",
            "text/plain": [
              "<Figure size 864x576 with 4 Axes>"
            ]
          },
          "metadata": {
            "tags": [],
            "needs_background": "light"
          }
        }
      ]
    },
    {
      "cell_type": "markdown",
      "metadata": {
        "id": "X3JK3rQBPOPS"
      },
      "source": [
        "❓ **Question** ❓ You have probably noticed that each sequence (each ECG) has a different length. To corroborate your observation, plot the distribution of the sequence lengths in the dataset."
      ]
    },
    {
      "cell_type": "code",
      "metadata": {
        "ExecuteTime": {
          "end_time": "2020-11-19T11:02:30.868604Z",
          "start_time": "2020-11-19T11:02:30.862129Z"
        },
        "id": "CfavzaLsPOPS"
      },
      "source": [
        "length = [len(X[i]) for i in range(len(X[:10000]))]"
      ],
      "execution_count": null,
      "outputs": []
    },
    {
      "cell_type": "code",
      "metadata": {
        "ExecuteTime": {
          "end_time": "2020-11-19T11:02:44.631718Z",
          "start_time": "2020-11-19T11:02:44.444498Z"
        },
        "colab": {
          "base_uri": "https://localhost:8080/",
          "height": 349
        },
        "id": "crPFfcz0POPT",
        "outputId": "ea88dd83-1d17-45ed-c12b-dfd17a970547"
      },
      "source": [
        "plt.hist(length)"
      ],
      "execution_count": null,
      "outputs": [
        {
          "output_type": "execute_result",
          "data": {
            "text/plain": [
              "(array([  32.,   85.,  295., 1445., 2541., 2263., 1587.,  944.,  564.,\n",
              "         244.]),\n",
              " array([ 21. ,  37.6,  54.2,  70.8,  87.4, 104. , 120.6, 137.2, 153.8,\n",
              "        170.4, 187. ]),\n",
              " <a list of 10 Patch objects>)"
            ]
          },
          "metadata": {
            "tags": []
          },
          "execution_count": 52
        },
        {
          "output_type": "display_data",
          "data": {
            "image/png": "[encoded data removed]",
            "text/plain": [
              "<Figure size 432x288 with 1 Axes>"
            ]
          },
          "metadata": {
            "tags": [],
            "needs_background": "light"
          }
        }
      ]
    },
    {
      "cell_type": "markdown",
      "metadata": {
        "id": "dMIaZ0hWPOPT"
      },
      "source": [
        "\n",
        "\n",
        "You remember that we pass a batch of data to the neural network. Thus, the tensor will have the following shape (batch_size, number of sequences, number of observations per sequence, size of each observation).\n",
        "\n",
        "- The batch_size will be choosen in the model fit\n",
        "- There are 87554 sequences\n",
        "- Each observation is of size 1\n",
        "\n",
        "However, the number of observations per sequence vary from one sequence to another. For computational reasons, this cannot be feed into a RNN. For that reason, you need to \"fill in the blanks\" thanks to the `pad_sequences` so that each sequence is filled with fake values. The resulting sequences will all be of the same length.\n",
        "\n",
        "\n",
        "❓ **Question** ❓ Use the `pad_sequences` function on X directly (without extra arguments here), store the result in `X_pad` and print the first sequence."
      ]
    },
    {
      "cell_type": "code",
      "metadata": {
        "ExecuteTime": {
          "end_time": "2020-11-19T11:04:19.741002Z",
          "start_time": "2020-11-19T11:04:18.891356Z"
        },
        "colab": {
          "base_uri": "https://localhost:8080/"
        },
        "id": "dIbeiMtjPOPT",
        "outputId": "dd353702-e642-47a6-ac6a-ca4d2ac13efa"
      },
      "source": [
        "from tensorflow.keras.preprocessing.sequence import pad_sequences\n",
        "\n",
        "X_pad = pad_sequences(X)\n",
        "X_pad[0]"
      ],
      "execution_count": null,
      "outputs": [
        {
          "output_type": "execute_result",
          "data": {
            "text/plain": [
              "array([0, 0, 0, 0, 0, 0, 0, 0, 0, 0, 0, 0, 0, 0, 0, 0, 0, 0, 0, 0, 0, 0,\n",
              "       0, 0, 0, 0, 0, 0, 0, 0, 0, 0, 0, 0, 0, 0, 0, 0, 0, 0, 0, 0, 0, 0,\n",
              "       0, 0, 0, 0, 0, 0, 0, 0, 0, 0, 0, 0, 0, 0, 0, 0, 0, 0, 0, 0, 0, 0,\n",
              "       0, 0, 0, 0, 0, 0, 0, 0, 0, 0, 0, 0, 0, 0, 0, 0, 0, 0, 0, 0, 0, 0,\n",
              "       0, 0, 0, 0, 0, 0, 0, 0, 0, 0, 0, 0, 0, 0, 0, 0, 0, 0, 0, 0, 0, 0,\n",
              "       0, 0, 0, 0, 0, 0, 0, 0, 0, 0, 0, 0, 0, 0, 0, 0, 0, 0, 0, 0, 0, 0,\n",
              "       0, 0, 0, 0, 0, 0, 0, 0, 0, 0, 0, 0, 0, 0, 0, 0, 0, 0, 0, 0, 0, 0,\n",
              "       0, 0, 0, 0, 0, 0, 0, 0, 0, 0, 0, 0, 0, 0, 0, 0, 1, 0, 0, 0, 0, 0,\n",
              "       0, 0, 0, 0, 0, 0, 0, 0, 0, 0, 0], dtype=int32)"
            ]
          },
          "metadata": {
            "tags": []
          },
          "execution_count": 102
        }
      ]
    },
    {
      "cell_type": "markdown",
      "metadata": {
        "id": "wCm1GhPWPOPT"
      },
      "source": [
        "❓ **Question** ❓ You probably see that the returned sequence is composed only of 0's. The reason is because, by default, `pad_sequences` returns integers. If a float is between 0.0 and 0.99999, it is converted to 0. To change this default behavior, turn the `dtype` argument of `pad_sequences` to `float32`. Pad once again the sequences, store the new result in `X_pad` and print the first sequence."
      ]
    },
    {
      "cell_type": "code",
      "metadata": {
        "ExecuteTime": {
          "end_time": "2020-11-19T11:05:01.609070Z",
          "start_time": "2020-11-19T11:05:00.873472Z"
        },
        "colab": {
          "base_uri": "https://localhost:8080/"
        },
        "id": "SZ_WjQEqPOPT",
        "outputId": "4fdfd2b8-eaf1-4725-a836-60dff805bd19"
      },
      "source": [
        "X_pad = pad_sequences(X, dtype='float32')\n",
        "X_pad[0]"
      ],
      "execution_count": null,
      "outputs": [
        {
          "output_type": "execute_result",
          "data": {
            "text/plain": [
              "array([0.        , 0.        , 0.        , 0.        , 0.        ,\n",
              "       0.        , 0.        , 0.        , 0.        , 0.        ,\n",
              "       0.        , 0.        , 0.        , 0.        , 0.        ,\n",
              "       0.        , 0.        , 0.        , 0.        , 0.        ,\n",
              "       0.        , 0.        , 0.        , 0.        , 0.        ,\n",
              "       0.        , 0.        , 0.        , 0.        , 0.        ,\n",
              "       0.        , 0.        , 0.        , 0.        , 0.        ,\n",
              "       0.        , 0.        , 0.        , 0.        , 0.        ,\n",
              "       0.        , 0.        , 0.        , 0.        , 0.        ,\n",
              "       0.        , 0.        , 0.        , 0.        , 0.        ,\n",
              "       0.        , 0.        , 0.        , 0.        , 0.        ,\n",
              "       0.        , 0.        , 0.        , 0.        , 0.        ,\n",
              "       0.        , 0.        , 0.        , 0.        , 0.        ,\n",
              "       0.        , 0.        , 0.        , 0.        , 0.        ,\n",
              "       0.        , 0.        , 0.        , 0.        , 0.        ,\n",
              "       0.        , 0.        , 0.        , 0.        , 0.        ,\n",
              "       0.        , 0.        , 0.        , 0.        , 0.        ,\n",
              "       0.        , 0.        , 0.97794116, 0.9264706 , 0.6813725 ,\n",
              "       0.24509804, 0.15441176, 0.19117647, 0.15196079, 0.08578432,\n",
              "       0.05882353, 0.04901961, 0.04411765, 0.06127451, 0.06617647,\n",
              "       0.06127451, 0.04901961, 0.07352941, 0.06127451, 0.06127451,\n",
              "       0.06617647, 0.06862745, 0.09558824, 0.0759804 , 0.09313726,\n",
              "       0.10539216, 0.11519608, 0.10294118, 0.11764706, 0.125     ,\n",
              "       0.14215687, 0.12745099, 0.15196079, 0.14460784, 0.16421568,\n",
              "       0.14460784, 0.15931372, 0.15196079, 0.15441176, 0.14215687,\n",
              "       0.15196079, 0.15196079, 0.14705883, 0.13235295, 0.12745099,\n",
              "       0.13480392, 0.13725491, 0.1127451 , 0.10784314, 0.10539216,\n",
              "       0.10784314, 0.09803922, 0.09313726, 0.10294118, 0.1004902 ,\n",
              "       0.10539216, 0.10294118, 0.11764706, 0.10539216, 0.12254902,\n",
              "       0.12745099, 0.14215687, 0.14705883, 0.14460784, 0.1740196 ,\n",
              "       0.23039216, 0.23774509, 0.24754901, 0.23039216, 0.2254902 ,\n",
              "       0.1985294 , 0.1764706 , 0.13235295, 0.125     , 0.11764706,\n",
              "       0.12254902, 0.1127451 , 0.12990196, 0.11519608, 0.08333334,\n",
              "       0.        , 0.06617647, 0.30637255, 0.6127451 , 0.8602941 ,\n",
              "       1.        , 0.9583333 , 0.74509805, 0.30392158, 0.16421568,\n",
              "       0.20588236, 0.16421568, 0.10294118, 0.09558824, 0.09068628,\n",
              "       0.1004902 , 0.09558824, 0.09803922, 0.09313726, 0.09803922,\n",
              "       0.09558824, 0.1127451 ], dtype=float32)"
            ]
          },
          "metadata": {
            "tags": []
          },
          "execution_count": 54
        }
      ]
    },
    {
      "cell_type": "markdown",
      "metadata": {
        "id": "BYLnit83POPU"
      },
      "source": [
        "The neural network, thanks to a `Masking` layer, will remove the 0 that you padded for computational reasons. \n",
        "\n",
        "**However**, if you look closely at the padded version of the first sequence, you have the padded zeros at the beginning of the sequence. But, also, there is a 0 value **_IN_** the heart-beat values. \n",
        "How could the neural network know which one to keep and which one to remove?\n",
        "\n",
        "❓ **Question** ❓ Add the `value` keyword in the `pad_sequences` function to pad with values that **ARE NOT** in the initial dataset. Negative values for instance. Store it in `X_pad` and print the first sequence.\n",
        "\n",
        "❗ **Remark** ❗ This is a good habit to pad the values **at the end** of the sequence (instead of the beginning as it is done by default). You can do that thanks to the `padding` keyword set to `post` (instead of `pre` by default).\n",
        "\n",
        "[See full documentation here](https://www.tensorflow.org/api_docs/python/tf/keras/preprocessing/sequence/pad_sequences)"
      ]
    },
    {
      "cell_type": "code",
      "metadata": {
        "ExecuteTime": {
          "end_time": "2020-11-19T11:10:25.116783Z",
          "start_time": "2020-11-19T11:10:24.412004Z"
        },
        "colab": {
          "base_uri": "https://localhost:8080/"
        },
        "id": "jxgCOzXJPOPU",
        "outputId": "39c7ed0a-f41c-4e7d-901b-627676b51a5b"
      },
      "source": [
        "X_pad = pad_sequences(X, dtype='float32', value = -10, padding='post')\n",
        "X_pad[0]"
      ],
      "execution_count": null,
      "outputs": [
        {
          "output_type": "execute_result",
          "data": {
            "text/plain": [
              "array([  0.97794116,   0.9264706 ,   0.6813725 ,   0.24509804,\n",
              "         0.15441176,   0.19117647,   0.15196079,   0.08578432,\n",
              "         0.05882353,   0.04901961,   0.04411765,   0.06127451,\n",
              "         0.06617647,   0.06127451,   0.04901961,   0.07352941,\n",
              "         0.06127451,   0.06127451,   0.06617647,   0.06862745,\n",
              "         0.09558824,   0.0759804 ,   0.09313726,   0.10539216,\n",
              "         0.11519608,   0.10294118,   0.11764706,   0.125     ,\n",
              "         0.14215687,   0.12745099,   0.15196079,   0.14460784,\n",
              "         0.16421568,   0.14460784,   0.15931372,   0.15196079,\n",
              "         0.15441176,   0.14215687,   0.15196079,   0.15196079,\n",
              "         0.14705883,   0.13235295,   0.12745099,   0.13480392,\n",
              "         0.13725491,   0.1127451 ,   0.10784314,   0.10539216,\n",
              "         0.10784314,   0.09803922,   0.09313726,   0.10294118,\n",
              "         0.1004902 ,   0.10539216,   0.10294118,   0.11764706,\n",
              "         0.10539216,   0.12254902,   0.12745099,   0.14215687,\n",
              "         0.14705883,   0.14460784,   0.1740196 ,   0.23039216,\n",
              "         0.23774509,   0.24754901,   0.23039216,   0.2254902 ,\n",
              "         0.1985294 ,   0.1764706 ,   0.13235295,   0.125     ,\n",
              "         0.11764706,   0.12254902,   0.1127451 ,   0.12990196,\n",
              "         0.11519608,   0.08333334,   0.        ,   0.06617647,\n",
              "         0.30637255,   0.6127451 ,   0.8602941 ,   1.        ,\n",
              "         0.9583333 ,   0.74509805,   0.30392158,   0.16421568,\n",
              "         0.20588236,   0.16421568,   0.10294118,   0.09558824,\n",
              "         0.09068628,   0.1004902 ,   0.09558824,   0.09803922,\n",
              "         0.09313726,   0.09803922,   0.09558824,   0.1127451 ,\n",
              "       -10.        , -10.        , -10.        , -10.        ,\n",
              "       -10.        , -10.        , -10.        , -10.        ,\n",
              "       -10.        , -10.        , -10.        , -10.        ,\n",
              "       -10.        , -10.        , -10.        , -10.        ,\n",
              "       -10.        , -10.        , -10.        , -10.        ,\n",
              "       -10.        , -10.        , -10.        , -10.        ,\n",
              "       -10.        , -10.        , -10.        , -10.        ,\n",
              "       -10.        , -10.        , -10.        , -10.        ,\n",
              "       -10.        , -10.        , -10.        , -10.        ,\n",
              "       -10.        , -10.        , -10.        , -10.        ,\n",
              "       -10.        , -10.        , -10.        , -10.        ,\n",
              "       -10.        , -10.        , -10.        , -10.        ,\n",
              "       -10.        , -10.        , -10.        , -10.        ,\n",
              "       -10.        , -10.        , -10.        , -10.        ,\n",
              "       -10.        , -10.        , -10.        , -10.        ,\n",
              "       -10.        , -10.        , -10.        , -10.        ,\n",
              "       -10.        , -10.        , -10.        , -10.        ,\n",
              "       -10.        , -10.        , -10.        , -10.        ,\n",
              "       -10.        , -10.        , -10.        , -10.        ,\n",
              "       -10.        , -10.        , -10.        , -10.        ,\n",
              "       -10.        , -10.        , -10.        , -10.        ,\n",
              "       -10.        , -10.        , -10.        ], dtype=float32)"
            ]
          },
          "metadata": {
            "tags": []
          },
          "execution_count": 103
        }
      ]
    },
    {
      "cell_type": "markdown",
      "metadata": {
        "id": "5RQqMxrcPOPU"
      },
      "source": [
        "❓ **Question** ❓ Plot the shape of `X_pad`"
      ]
    },
    {
      "cell_type": "markdown",
      "metadata": {
        "id": "oIyto7E6POPU"
      },
      "source": [
        "Remember that we said that the input data have to be of shape (number of sequences, number of observations per sequence, observation size) [Apart from the batch size dimention which will be automatically added by the Neural Network] ? Here, we only have the two first dimensions. This is because the last dimension is of size 1. \n",
        "\n",
        "❓ **Question** ❓ To remedy this issue, expand the last dimension thanks to the `np.expand_dims` function. \n",
        "\n",
        "❗ **Remark** ❗ The assert should not return any error ;)"
      ]
    },
    {
      "cell_type": "code",
      "metadata": {
        "ExecuteTime": {
          "end_time": "2020-11-19T11:10:38.500718Z",
          "start_time": "2020-11-19T11:10:38.497241Z"
        },
        "id": "YWW1Ul2QPOPU"
      },
      "source": [
        "### YOUD CODE HERE\n",
        "X_pad = np.expand_dims(X_pad, axis=-1)"
      ],
      "execution_count": null,
      "outputs": []
    },
    {
      "cell_type": "code",
      "metadata": {
        "ExecuteTime": {
          "end_time": "2020-11-19T11:11:05.717896Z",
          "start_time": "2020-11-19T11:11:05.714077Z"
        },
        "id": "mycQu-BrPOPU"
      },
      "source": [
        "assert(X_pad.shape == (87554, 187, 1))"
      ],
      "execution_count": null,
      "outputs": []
    },
    {
      "cell_type": "code",
      "metadata": {
        "ExecuteTime": {
          "end_time": "2020-11-19T11:10:51.841816Z",
          "start_time": "2020-11-19T11:10:51.837133Z"
        },
        "colab": {
          "base_uri": "https://localhost:8080/"
        },
        "id": "qhyhr57rPOPU",
        "outputId": "2ab893b5-20f9-4dd1-d9f8-01fa76e1075c"
      },
      "source": [
        "X_pad.shape"
      ],
      "execution_count": null,
      "outputs": [
        {
          "output_type": "execute_result",
          "data": {
            "text/plain": [
              "(87554, 187, 1)"
            ]
          },
          "metadata": {
            "tags": []
          },
          "execution_count": 106
        }
      ]
    },
    {
      "cell_type": "markdown",
      "metadata": {
        "_uuid": "c42605d020fd51885437f4af3cf10cebbeafc9bb",
        "id": "jqFuSzXKPOPU"
      },
      "source": [
        "❓ **Question** ❓ The labels `y` have to be one-hot encoded categories. For that reason, transform them to categories thanks to the appropriate Keras function and store the result in `y_cat`"
      ]
    },
    {
      "cell_type": "code",
      "metadata": {
        "ExecuteTime": {
          "end_time": "2020-11-19T11:11:41.925678Z",
          "start_time": "2020-11-19T11:11:41.910954Z"
        },
        "id": "Mktpzl9SPOPU"
      },
      "source": [
        "from tensorflow.keras.utils import to_categorical\n",
        "y_cat = to_categorical(y)"
      ],
      "execution_count": null,
      "outputs": []
    },
    {
      "cell_type": "markdown",
      "metadata": {
        "_uuid": "7ae5108c9741b85f0f599cce51daf99df4733ed1",
        "id": "rSex76yRPOPV"
      },
      "source": [
        "❓ **Question** ❓ Split your data between a train and test set (80/20 ratio)."
      ]
    },
    {
      "cell_type": "code",
      "metadata": {
        "ExecuteTime": {
          "end_time": "2020-11-19T11:12:09.828846Z",
          "start_time": "2020-11-19T11:12:09.525792Z"
        },
        "_uuid": "cbd350e57b2a44b4bf6a79f02c32dabb803e4855",
        "id": "-Y0mKOg4POPV"
      },
      "source": [
        "from sklearn.model_selection import train_test_split\n",
        "X_train, X_test, y_train, y_test = train_test_split(X_pad, y_cat, test_size = 0.2)"
      ],
      "execution_count": null,
      "outputs": []
    },
    {
      "cell_type": "markdown",
      "metadata": {
        "_uuid": "c4de23b85abe34a726eab268171da0e827bafa35",
        "id": "ofuH90H3POPV"
      },
      "source": [
        "# Model\n",
        "\n",
        "We will now write the Recurrent Neural Network\n",
        "\n",
        "❓ **Question** ❓ Write model that has the following layers:\n",
        "- a Masking layer whose `mask_value` corresponds to the value you decided to pad your data with (it is probably a negative value as suggested) - this layer will simply tell the network not to take into account the computation artifact\n",
        "- a `SimpleRNN` layer with 10 units and the `tanh` as the activation function\n",
        "- a dense layer with 20 units\n",
        "- a last layer"
      ]
    },
    {
      "cell_type": "code",
      "metadata": {
        "ExecuteTime": {
          "end_time": "2020-11-19T11:14:47.779404Z",
          "start_time": "2020-11-19T11:14:47.731958Z"
        },
        "id": "DOTXQ0L3POPV"
      },
      "source": [
        "from tensorflow.keras.models import Sequential\n",
        "from tensorflow.keras import layers\n",
        "model = Sequential()\n",
        "model.add(layers.Masking(mask_value=-10))\n",
        "model.add(layers.SimpleRNN(10, activation='tanh'))\n",
        "model.add(layers.Dense(20, activation='relu'))\n",
        "model.add(layers.Dense(5, activation='softmax'))"
      ],
      "execution_count": null,
      "outputs": []
    },
    {
      "cell_type": "markdown",
      "metadata": {
        "id": "c6xWyq_pPOPV"
      },
      "source": [
        "❓ **Question** ❓ Compile your model and train it - a very small patience equal to 2 should be sufficient. This is because you have a lot of sequences and thus, many optimizations per epochs. "
      ]
    },
    {
      "cell_type": "code",
      "metadata": {
        "ExecuteTime": {
          "end_time": "2020-11-19T11:16:21.947343Z",
          "start_time": "2020-11-19T11:16:21.932931Z"
        },
        "id": "pdp58ZrrPOPV"
      },
      "source": [
        "model.compile(loss='categorical_crossentropy', optimizer='rmsprop', metrics=['accuracy'])"
      ],
      "execution_count": null,
      "outputs": []
    },
    {
      "cell_type": "code",
      "metadata": {
        "ExecuteTime": {
          "end_time": "2020-11-19T11:19:25.950595Z",
          "start_time": "2020-11-19T11:17:52.975230Z"
        },
        "id": "g_an2hylPOPV"
      },
      "source": [
        "from tensorflow.keras.callbacks import EarlyStopping\n",
        "es = EarlyStopping(patience=2)\n",
        "model.fit(X_train, y_train, batch_size=16,epochs = 2, callbacks=[es])"
      ],
      "execution_count": null,
      "outputs": []
    },
    {
      "cell_type": "markdown",
      "metadata": {
        "id": "pwUYvLP_POPV"
      },
      "source": [
        "❓ **Question** ❓ Evaluate your model on the test data."
      ]
    },
    {
      "cell_type": "code",
      "metadata": {
        "id": "FAoY0PRFPOPV"
      },
      "source": [
        "model.evaluate(X_test, y_test)"
      ],
      "execution_count": null,
      "outputs": []
    },
    {
      "cell_type": "markdown",
      "metadata": {
        "id": "FqY-b22vPOPV"
      },
      "source": [
        "### You should be have quite promising results with a test accuracy a little higher than 80%, which is a good result on a 5-class problem.\n",
        "\n",
        "❓ **Question** ❓ Let's try to improve this result. Repeat the last steps by using a `LSTM` instead of a `SimpleRNN`. If you feel like it, you can change the neural network parameters to improve the accuracy. Evaluate your accuracy on the test set."
      ]
    },
    {
      "cell_type": "code",
      "metadata": {
        "id": "vXpaUlb9POPV"
      },
      "source": [
        "model = Sequential()\n",
        "model.add(layers.Masking(mask_value=-10))\n",
        "model.add(layers.LSTM(10, activation='tanh'))\n",
        "model.add(layers.Dense(20, activation='relu'))\n",
        "model.add(layers.Dense(5, activation='softmax'))\n",
        "model.compile(loss='categorical_crossentropy', optimizer='rmsprop', metrics=['accuracy'])"
      ],
      "execution_count": null,
      "outputs": []
    },
    {
      "cell_type": "code",
      "metadata": {
        "colab": {
          "base_uri": "https://localhost:8080/"
        },
        "id": "PVGXYkP4POPV",
        "outputId": "871823e3-7175-4868-a98d-eb06b0fa8536"
      },
      "source": [
        "from tensorflow.keras.callbacks import EarlyStopping\n",
        "es = EarlyStopping(patience=2)\n",
        "model.fit(X_train, y_train, batch_size=32,epochs = 2, callbacks=[es], validation_split = 0.3)"
      ],
      "execution_count": null,
      "outputs": [
        {
          "output_type": "stream",
          "text": [
            "Epoch 1/2\n",
            "1533/1533 [==============================] - 127s 83ms/step - loss: 0.6753 - accuracy: 0.8285 - val_loss: 0.6660 - val_accuracy: 0.8253\n",
            "Epoch 2/2\n",
            "1533/1533 [==============================] - 125s 81ms/step - loss: 0.6553 - accuracy: 0.8289 - val_loss: 0.6660 - val_accuracy: 0.8253\n"
          ],
          "name": "stdout"
        },
        {
          "output_type": "execute_result",
          "data": {
            "text/plain": [
              "<tensorflow.python.keras.callbacks.History at 0x7f0d7dd2fdd8>"
            ]
          },
          "metadata": {
            "tags": []
          },
          "execution_count": 65
        }
      ]
    },
    {
      "cell_type": "code",
      "metadata": {
        "colab": {
          "base_uri": "https://localhost:8080/"
        },
        "id": "8zpK6JrxXoTy",
        "outputId": "84cf142c-cc6a-459c-9791-cbe57a74e348"
      },
      "source": [
        "model.evaluate(X_test, y_test)"
      ],
      "execution_count": null,
      "outputs": [
        {
          "output_type": "stream",
          "text": [
            "548/548 [==============================] - 8s 15ms/step - loss: 0.6577 - accuracy: 0.8274\n"
          ],
          "name": "stdout"
        },
        {
          "output_type": "execute_result",
          "data": {
            "text/plain": [
              "[0.6577070355415344, 0.8274227380752563]"
            ]
          },
          "metadata": {
            "tags": []
          },
          "execution_count": 72
        }
      ]
    },
    {
      "cell_type": "markdown",
      "metadata": {
        "id": "IX9feYcVX55B"
      },
      "source": [
        "Quite surprisingly, the LSTM is not much better than the SimpleRNN. What about a GRU?\n",
        "\n",
        "❓ **Question** ❓ Build another model where you will use a GRU (instead of the LSTM or of the SimpleRNN), and the parameters are yours to choose. Report the test accuracy."
      ]
    },
    {
      "cell_type": "code",
      "metadata": {
        "colab": {
          "base_uri": "https://localhost:8080/"
        },
        "id": "GIgLwVypX9_F",
        "outputId": "a33a2dff-c93b-40dd-be54-4cf2a34bba67"
      },
      "source": [
        "from tensorflow.keras.callbacks import EarlyStopping\n",
        "model = Sequential()\n",
        "model.add(layers.Masking(mask_value=-10))\n",
        "model.add(layers.GRU(10, activation='tanh'))\n",
        "model.add(layers.Dense(20, activation='relu'))\n",
        "model.add(layers.Dense(5, activation='softmax'))\n",
        "model.compile(loss='categorical_crossentropy', optimizer='rmsprop', metrics=['accuracy'])\n",
        "es = EarlyStopping(patience=2)\n",
        "model.fit(X_train, y_train, batch_size=32,epochs = 2, callbacks=[es], validation_split = 0.3)"
      ],
      "execution_count": null,
      "outputs": [
        {
          "output_type": "stream",
          "text": [
            "Epoch 1/2\n",
            "1533/1533 [==============================] - 124s 81ms/step - loss: 0.6980 - accuracy: 0.8261 - val_loss: 0.6568 - val_accuracy: 0.8283\n",
            "Epoch 2/2\n",
            "1533/1533 [==============================] - 123s 80ms/step - loss: 0.6612 - accuracy: 0.8271 - val_loss: 0.6534 - val_accuracy: 0.8283\n"
          ],
          "name": "stdout"
        },
        {
          "output_type": "execute_result",
          "data": {
            "text/plain": [
              "<tensorflow.python.keras.callbacks.History at 0x7f0d1c1406a0>"
            ]
          },
          "metadata": {
            "tags": []
          },
          "execution_count": 111
        }
      ]
    },
    {
      "cell_type": "code",
      "metadata": {
        "colab": {
          "base_uri": "https://localhost:8080/"
        },
        "id": "cHnzz7BrZEsu",
        "outputId": "9cc5eb70-03b8-40f6-935e-31864f4d694c"
      },
      "source": [
        "model.evaluate(X_test, y_test)"
      ],
      "execution_count": null,
      "outputs": [
        {
          "output_type": "stream",
          "text": [
            "548/548 [==============================] - 8s 14ms/step - loss: 0.6555 - accuracy: 0.8286\n"
          ],
          "name": "stdout"
        },
        {
          "output_type": "execute_result",
          "data": {
            "text/plain": [
              "[0.6554551124572754, 0.8286219835281372]"
            ]
          },
          "metadata": {
            "tags": []
          },
          "execution_count": 112
        }
      ]
    },
    {
      "cell_type": "markdown",
      "metadata": {
        "id": "-H-y-SJIPOPV"
      },
      "source": [
        "Once again, the final accuracy is likely to be similar to the one you got previously, which might be a bit strange. To investigate these results, we will compare the results to a baseline model.\n",
        "\n",
        "❓ **Question** ❓ What is the accuracy of a baseline model which would predict, for `y_test`, the most probable category in y_train."
      ]
    },
    {
      "cell_type": "code",
      "metadata": {
        "colab": {
          "base_uri": "https://localhost:8080/"
        },
        "id": "EIwhfFxfWlW3",
        "outputId": "8296df8d-7f23-40e3-c8e2-8aa8a4884874"
      },
      "source": [
        "unique_elements, counts_elements = np.unique(y, return_counts=True)\n",
        "print(unique_elements, counts_elements)"
      ],
      "execution_count": null,
      "outputs": [
        {
          "output_type": "stream",
          "text": [
            "[0 1 2 3 4] [72471  2223  5788   641  6431]\n"
          ],
          "name": "stdout"
        }
      ]
    },
    {
      "cell_type": "code",
      "metadata": {
        "colab": {
          "base_uri": "https://localhost:8080/"
        },
        "id": "1ss9btU_XJC7",
        "outputId": "2ce07d29-7906-4b50-ee25-b345821455aa"
      },
      "source": [
        "for i in range(5):\n",
        "  print(y_test[:,i].sum())"
      ],
      "execution_count": null,
      "outputs": [
        {
          "output_type": "stream",
          "text": [
            "14497.0\n",
            "410.0\n",
            "1163.0\n",
            "126.0\n",
            "1315.0\n"
          ],
          "name": "stdout"
        }
      ]
    },
    {
      "cell_type": "code",
      "metadata": {
        "colab": {
          "base_uri": "https://localhost:8080/"
        },
        "id": "Zqdhd8ZWY7BB",
        "outputId": "cdd28ef1-d379-4ad6-ac8f-b608842631f5"
      },
      "source": [
        "y_test.shape"
      ],
      "execution_count": null,
      "outputs": [
        {
          "output_type": "execute_result",
          "data": {
            "text/plain": [
              "(17511, 5)"
            ]
          },
          "metadata": {
            "tags": []
          },
          "execution_count": 77
        }
      ]
    },
    {
      "cell_type": "code",
      "metadata": {
        "id": "rzfLyUXqYNCz"
      },
      "source": [
        "y_pred = y_test.copy()"
      ],
      "execution_count": null,
      "outputs": []
    },
    {
      "cell_type": "code",
      "metadata": {
        "id": "JV6X7e3SYf7f"
      },
      "source": [
        "y_pred[:, 0] = 1"
      ],
      "execution_count": null,
      "outputs": []
    },
    {
      "cell_type": "code",
      "metadata": {
        "id": "B6HJSu4JZfOk"
      },
      "source": [
        "y_pred[:, 1:] = 0"
      ],
      "execution_count": null,
      "outputs": []
    },
    {
      "cell_type": "code",
      "metadata": {
        "colab": {
          "base_uri": "https://localhost:8080/"
        },
        "id": "ESDR5ysXZSng",
        "outputId": "344bacf3-47f0-433b-bd90-3fc9d895da4c"
      },
      "source": [
        "y_pred[1]"
      ],
      "execution_count": null,
      "outputs": [
        {
          "output_type": "execute_result",
          "data": {
            "text/plain": [
              "array([1., 0., 0., 0., 0.], dtype=float32)"
            ]
          },
          "metadata": {
            "tags": []
          },
          "execution_count": 96
        }
      ]
    },
    {
      "cell_type": "code",
      "metadata": {
        "colab": {
          "base_uri": "https://localhost:8080/"
        },
        "id": "87iXZ6kNYoD8",
        "outputId": "ca1468a0-116d-46aa-c20b-aae27f2eaaa7"
      },
      "source": [
        "from sklearn.metrics import accuracy_score\n",
        "accuracy_score(y_test, y_pred)"
      ],
      "execution_count": null,
      "outputs": [
        {
          "output_type": "execute_result",
          "data": {
            "text/plain": [
              "0.8278796185254983"
            ]
          },
          "metadata": {
            "tags": []
          },
          "execution_count": 97
        }
      ]
    },
    {
      "cell_type": "markdown",
      "metadata": {
        "id": "ZflU5o24POPV"
      },
      "source": [
        "Basically, your RNNs are as good (bad?) as a model that predicts the most present category. The reason is probably because the RNNs really return only the most present category.\n",
        "\n",
        "❓ **Question** ❓ Use the `predict` function on any of the previous model to see what are the different categories the model is predicting."
      ]
    },
    {
      "cell_type": "code",
      "metadata": {
        "id": "vmnG7wORPOPV"
      },
      "source": [
        "y_pred = model.predict(X_test)"
      ],
      "execution_count": null,
      "outputs": []
    },
    {
      "cell_type": "code",
      "metadata": {
        "colab": {
          "base_uri": "https://localhost:8080/"
        },
        "id": "mllhRcAJnJF9",
        "outputId": "56ccb820-3d02-4c34-ee31-a91aa4498487"
      },
      "source": [
        "for i in range(5):\n",
        "  print(y_pred[:,i].mean())"
      ],
      "execution_count": null,
      "outputs": [
        {
          "output_type": "stream",
          "text": [
            "0.81925\n",
            "0.025233202\n",
            "0.06581502\n",
            "0.0072171628\n",
            "0.08248461\n"
          ],
          "name": "stdout"
        }
      ]
    },
    {
      "cell_type": "markdown",
      "metadata": {
        "id": "PeOU1WMjPOPW"
      },
      "source": [
        "Your models are returning the category which is the most present in your train set. \n",
        "\n",
        "A possibility here is to either subsample the data to have balanced classes in the training set. Another possibility is to do some data augmentation on temporal data. However, none of these methods would work right away. In fact, predicting the category of ECG data is not an easy task - also, you have only **one** heart-beat, no repetitions of them! \n",
        "\n",
        "Classifying ECG is actually quite a complex task. So let's move on to another exercice. \n",
        "\n",
        "**The lesson here is not to be satisfied with results until you have compare them to a baseline method.**"
      ]
    },
    {
      "cell_type": "code",
      "metadata": {
        "id": "m9BT9NXLV1Fv"
      },
      "source": [
        ""
      ],
      "execution_count": null,
      "outputs": []
    }
  ]
}
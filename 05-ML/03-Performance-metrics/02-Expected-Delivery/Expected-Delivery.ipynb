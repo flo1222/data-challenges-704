{
 "cells": [
  {
   "cell_type": "markdown",
   "metadata": {},
   "source": [
    "# Expected Delivery"
   ]
  },
  {
   "cell_type": "markdown",
   "metadata": {},
   "source": [
    "👇 Run the code below"
   ]
  },
  {
   "cell_type": "code",
   "execution_count": 48,
   "metadata": {
    "scrolled": true
   },
   "outputs": [
    {
     "data": {
      "text/html": [
       "<div>\n",
       "<style scoped>\n",
       "    .dataframe tbody tr th:only-of-type {\n",
       "        vertical-align: middle;\n",
       "    }\n",
       "\n",
       "    .dataframe tbody tr th {\n",
       "        vertical-align: top;\n",
       "    }\n",
       "\n",
       "    .dataframe thead th {\n",
       "        text-align: right;\n",
       "    }\n",
       "</style>\n",
       "<table border=\"1\" class=\"dataframe\">\n",
       "  <thead>\n",
       "    <tr style=\"text-align: right;\">\n",
       "      <th></th>\n",
       "      <th>product_weight_g</th>\n",
       "      <th>product_length_cm</th>\n",
       "      <th>product_height_cm</th>\n",
       "      <th>product_width_cm</th>\n",
       "    </tr>\n",
       "  </thead>\n",
       "  <tbody>\n",
       "    <tr>\n",
       "      <th>count</th>\n",
       "      <td>1000.000000</td>\n",
       "      <td>1000.000000</td>\n",
       "      <td>1000.000000</td>\n",
       "      <td>1000.000000</td>\n",
       "    </tr>\n",
       "    <tr>\n",
       "      <th>mean</th>\n",
       "      <td>8328.359000</td>\n",
       "      <td>52.580000</td>\n",
       "      <td>39.418000</td>\n",
       "      <td>30.876000</td>\n",
       "    </tr>\n",
       "    <tr>\n",
       "      <th>std</th>\n",
       "      <td>5743.795899</td>\n",
       "      <td>12.026064</td>\n",
       "      <td>21.715728</td>\n",
       "      <td>12.298857</td>\n",
       "    </tr>\n",
       "    <tr>\n",
       "      <th>min</th>\n",
       "      <td>100.000000</td>\n",
       "      <td>20.000000</td>\n",
       "      <td>5.000000</td>\n",
       "      <td>11.000000</td>\n",
       "    </tr>\n",
       "    <tr>\n",
       "      <th>25%</th>\n",
       "      <td>1887.500000</td>\n",
       "      <td>45.000000</td>\n",
       "      <td>15.000000</td>\n",
       "      <td>22.000000</td>\n",
       "    </tr>\n",
       "    <tr>\n",
       "      <th>50%</th>\n",
       "      <td>8683.000000</td>\n",
       "      <td>53.000000</td>\n",
       "      <td>51.000000</td>\n",
       "      <td>31.000000</td>\n",
       "    </tr>\n",
       "    <tr>\n",
       "      <th>75%</th>\n",
       "      <td>12275.000000</td>\n",
       "      <td>57.000000</td>\n",
       "      <td>56.000000</td>\n",
       "      <td>36.000000</td>\n",
       "    </tr>\n",
       "    <tr>\n",
       "      <th>max</th>\n",
       "      <td>30000.000000</td>\n",
       "      <td>102.000000</td>\n",
       "      <td>93.000000</td>\n",
       "      <td>118.000000</td>\n",
       "    </tr>\n",
       "  </tbody>\n",
       "</table>\n",
       "</div>"
      ],
      "text/plain": [
       "       product_weight_g  product_length_cm  product_height_cm  \\\n",
       "count       1000.000000        1000.000000        1000.000000   \n",
       "mean        8328.359000          52.580000          39.418000   \n",
       "std         5743.795899          12.026064          21.715728   \n",
       "min          100.000000          20.000000           5.000000   \n",
       "25%         1887.500000          45.000000          15.000000   \n",
       "50%         8683.000000          53.000000          51.000000   \n",
       "75%        12275.000000          57.000000          56.000000   \n",
       "max        30000.000000         102.000000          93.000000   \n",
       "\n",
       "       product_width_cm  \n",
       "count       1000.000000  \n",
       "mean          30.876000  \n",
       "std           12.298857  \n",
       "min           11.000000  \n",
       "25%           22.000000  \n",
       "50%           31.000000  \n",
       "75%           36.000000  \n",
       "max          118.000000  "
      ]
     },
     "execution_count": 48,
     "metadata": {},
     "output_type": "execute_result"
    }
   ],
   "source": [
    "import pandas as pd\n",
    "\n",
    "data= pd.read_csv('data/order_deliveries.csv')\n",
    "data.describe()"
   ]
  },
  {
   "cell_type": "markdown",
   "metadata": {},
   "source": [
    "Each observation of the dataset represents an item being delivered from a  `seller_state` to a `customer_state`. The columns describe the size and weight of each item. There are two columns that inform on the time the order was placed (`order_purchase_timestamp`) and it was delivered (`order_delivered_customer_date`).\n",
    "\n",
    "The task is to to inform customers the **number of days until delivery** at the moment the order is placed. Because customers would rather a delivery arrive early than late, you should favor a model that **overshoots the predictions**."
   ]
  },
  {
   "cell_type": "markdown",
   "metadata": {},
   "source": [
    "## Target engineering"
   ]
  },
  {
   "cell_type": "markdown",
   "metadata": {},
   "source": [
    "👇 Create the target by computing the time difference between `order_purchase_timestamp` and `order_delivered_customer_date`. Round it up to days."
   ]
  },
  {
   "cell_type": "markdown",
   "metadata": {},
   "source": [
    "<details>\n",
    "<summary>💡 Hint</summary>\n",
    "    \n",
    "Convert each column to datetime and compute the difference.\n",
    "    \n",
    "[`to_datetime` documentation](https://pandas.pydata.org/pandas-docs/stable/reference/api/pandas.to_datetime.html)\n",
    "    \n",
    "[`dt.days` documentation](https://pandas.pydata.org/pandas-docs/stable/reference/api/pandas.Series.dt.days.html)\n",
    "</details>"
   ]
  },
  {
   "cell_type": "code",
   "execution_count": 49,
   "metadata": {},
   "outputs": [],
   "source": [
    "data['order_delivered_customer_date'] = pd.to_datetime(data['order_delivered_customer_date'])\n",
    "data['order_purchase_timestamp'] = pd.to_datetime(data['order_purchase_timestamp'])\n",
    "data['delivery_delay'] = (data['order_delivered_customer_date'] - data['order_purchase_timestamp']).dt.days"
   ]
  },
  {
   "cell_type": "markdown",
   "metadata": {},
   "source": [
    "## Feature preprocessing"
   ]
  },
  {
   "cell_type": "markdown",
   "metadata": {},
   "source": [
    "👇 Perform the necessary preprocessing on the features"
   ]
  },
  {
   "cell_type": "markdown",
   "metadata": {},
   "source": [
    "<details>\n",
    "<summary>💡 Hints </summary>\n",
    "    \n",
    "- One-hot-encode customer and seller state information with [get_dummies()](https://pandas.pydata.org/pandas-docs/stable/reference/api/pandas.get_dummies.html)\n",
    "\n",
    "    \n",
    "- Scale product details \n",
    "    \n",
    "</details>"
   ]
  },
  {
   "cell_type": "code",
   "execution_count": 50,
   "metadata": {},
   "outputs": [
    {
     "data": {
      "text/plain": [
       "<AxesSubplot:ylabel='Frequency'>"
      ]
     },
     "execution_count": 50,
     "metadata": {},
     "output_type": "execute_result"
    },
    {
     "data": {
      "image/png": "[encoded data removed]",
      "text/plain": [
       "<Figure size 864x432 with 4 Axes>"
      ]
     },
     "metadata": {
      "needs_background": "light"
     },
     "output_type": "display_data"
    }
   ],
   "source": [
    "import matplotlib.pyplot as plt\n",
    "fig, ((ax1, ax2), (ax3, ax4)) = plt.subplots(2,2, figsize = (12, 6))\n",
    "data['product_height_cm'].plot.hist(ax = ax1)\n",
    "data['product_length_cm'].plot.hist(ax = ax2)\n",
    "data['product_weight_g'].plot.hist(ax = ax3)\n",
    "data['product_width_cm'].plot.hist(ax = ax4)"
   ]
  },
  {
   "cell_type": "code",
   "execution_count": 51,
   "metadata": {},
   "outputs": [],
   "source": [
    "# Getting numerical features and cat features in lists:\n",
    "\n",
    "num = data.drop(columns = 'delivery_delay')\n",
    "# Generate masks for categorical features\n",
    "num_features_mask = num.dtypes == 'int64'\n",
    "categorical_features_mask = num.dtypes == 'object'\n",
    "# Feature names\n",
    "num_features = num.columns[num_features_mask].tolist()\n",
    "cat_features = num.columns[categorical_features_mask].tolist()"
   ]
  },
  {
   "cell_type": "code",
   "execution_count": 52,
   "metadata": {},
   "outputs": [
    {
     "data": {
      "text/html": [
       "<div>\n",
       "<style scoped>\n",
       "    .dataframe tbody tr th:only-of-type {\n",
       "        vertical-align: middle;\n",
       "    }\n",
       "\n",
       "    .dataframe tbody tr th {\n",
       "        vertical-align: top;\n",
       "    }\n",
       "\n",
       "    .dataframe thead th {\n",
       "        text-align: right;\n",
       "    }\n",
       "</style>\n",
       "<table border=\"1\" class=\"dataframe\">\n",
       "  <thead>\n",
       "    <tr style=\"text-align: right;\">\n",
       "      <th></th>\n",
       "      <th>product_weight_g</th>\n",
       "      <th>product_length_cm</th>\n",
       "      <th>product_height_cm</th>\n",
       "      <th>product_width_cm</th>\n",
       "      <th>order_purchase_timestamp</th>\n",
       "      <th>order_delivered_customer_date</th>\n",
       "      <th>delivery_delay</th>\n",
       "      <th>customer_state_AL</th>\n",
       "      <th>customer_state_AM</th>\n",
       "      <th>customer_state_AP</th>\n",
       "      <th>...</th>\n",
       "      <th>customer_state_RJ</th>\n",
       "      <th>customer_state_RN</th>\n",
       "      <th>customer_state_RO</th>\n",
       "      <th>customer_state_RS</th>\n",
       "      <th>customer_state_SC</th>\n",
       "      <th>customer_state_SE</th>\n",
       "      <th>customer_state_SP</th>\n",
       "      <th>customer_state_TO</th>\n",
       "      <th>seller_state_SC</th>\n",
       "      <th>seller_state_SP</th>\n",
       "    </tr>\n",
       "  </thead>\n",
       "  <tbody>\n",
       "    <tr>\n",
       "      <th>0</th>\n",
       "      <td>0.057692</td>\n",
       "      <td>0.402439</td>\n",
       "      <td>0.056818</td>\n",
       "      <td>0.271028</td>\n",
       "      <td>2017-09-18 20:11:00</td>\n",
       "      <td>2017-09-28 19:19:00</td>\n",
       "      <td>9</td>\n",
       "      <td>0</td>\n",
       "      <td>0</td>\n",
       "      <td>0</td>\n",
       "      <td>...</td>\n",
       "      <td>1</td>\n",
       "      <td>0</td>\n",
       "      <td>0</td>\n",
       "      <td>0</td>\n",
       "      <td>0</td>\n",
       "      <td>0</td>\n",
       "      <td>0</td>\n",
       "      <td>0</td>\n",
       "      <td>0</td>\n",
       "      <td>1</td>\n",
       "    </tr>\n",
       "    <tr>\n",
       "      <th>1</th>\n",
       "      <td>0.020067</td>\n",
       "      <td>0.548780</td>\n",
       "      <td>0.147727</td>\n",
       "      <td>0.158879</td>\n",
       "      <td>2017-10-16 14:12:00</td>\n",
       "      <td>2017-10-25 16:43:00</td>\n",
       "      <td>9</td>\n",
       "      <td>0</td>\n",
       "      <td>0</td>\n",
       "      <td>0</td>\n",
       "      <td>...</td>\n",
       "      <td>1</td>\n",
       "      <td>0</td>\n",
       "      <td>0</td>\n",
       "      <td>0</td>\n",
       "      <td>0</td>\n",
       "      <td>0</td>\n",
       "      <td>0</td>\n",
       "      <td>0</td>\n",
       "      <td>0</td>\n",
       "      <td>1</td>\n",
       "    </tr>\n",
       "    <tr>\n",
       "      <th>2</th>\n",
       "      <td>0.057692</td>\n",
       "      <td>0.402439</td>\n",
       "      <td>0.056818</td>\n",
       "      <td>0.271028</td>\n",
       "      <td>2018-04-14 00:04:00</td>\n",
       "      <td>2018-04-25 23:10:00</td>\n",
       "      <td>11</td>\n",
       "      <td>0</td>\n",
       "      <td>0</td>\n",
       "      <td>0</td>\n",
       "      <td>...</td>\n",
       "      <td>1</td>\n",
       "      <td>0</td>\n",
       "      <td>0</td>\n",
       "      <td>0</td>\n",
       "      <td>0</td>\n",
       "      <td>0</td>\n",
       "      <td>0</td>\n",
       "      <td>0</td>\n",
       "      <td>0</td>\n",
       "      <td>1</td>\n",
       "    </tr>\n",
       "    <tr>\n",
       "      <th>3</th>\n",
       "      <td>0.057692</td>\n",
       "      <td>0.402439</td>\n",
       "      <td>0.056818</td>\n",
       "      <td>0.271028</td>\n",
       "      <td>2017-10-10 15:32:00</td>\n",
       "      <td>2017-10-23 12:09:00</td>\n",
       "      <td>12</td>\n",
       "      <td>0</td>\n",
       "      <td>0</td>\n",
       "      <td>0</td>\n",
       "      <td>...</td>\n",
       "      <td>1</td>\n",
       "      <td>0</td>\n",
       "      <td>0</td>\n",
       "      <td>0</td>\n",
       "      <td>0</td>\n",
       "      <td>0</td>\n",
       "      <td>0</td>\n",
       "      <td>0</td>\n",
       "      <td>0</td>\n",
       "      <td>1</td>\n",
       "    </tr>\n",
       "    <tr>\n",
       "      <th>4</th>\n",
       "      <td>0.057692</td>\n",
       "      <td>0.402439</td>\n",
       "      <td>0.056818</td>\n",
       "      <td>0.271028</td>\n",
       "      <td>2017-09-26 11:51:00</td>\n",
       "      <td>2017-10-10 18:05:00</td>\n",
       "      <td>14</td>\n",
       "      <td>0</td>\n",
       "      <td>0</td>\n",
       "      <td>0</td>\n",
       "      <td>...</td>\n",
       "      <td>1</td>\n",
       "      <td>0</td>\n",
       "      <td>0</td>\n",
       "      <td>0</td>\n",
       "      <td>0</td>\n",
       "      <td>0</td>\n",
       "      <td>0</td>\n",
       "      <td>0</td>\n",
       "      <td>0</td>\n",
       "      <td>1</td>\n",
       "    </tr>\n",
       "  </tbody>\n",
       "</table>\n",
       "<p>5 rows × 34 columns</p>\n",
       "</div>"
      ],
      "text/plain": [
       "   product_weight_g  product_length_cm  product_height_cm  product_width_cm  \\\n",
       "0          0.057692           0.402439           0.056818          0.271028   \n",
       "1          0.020067           0.548780           0.147727          0.158879   \n",
       "2          0.057692           0.402439           0.056818          0.271028   \n",
       "3          0.057692           0.402439           0.056818          0.271028   \n",
       "4          0.057692           0.402439           0.056818          0.271028   \n",
       "\n",
       "  order_purchase_timestamp order_delivered_customer_date  delivery_delay  \\\n",
       "0      2017-09-18 20:11:00           2017-09-28 19:19:00               9   \n",
       "1      2017-10-16 14:12:00           2017-10-25 16:43:00               9   \n",
       "2      2018-04-14 00:04:00           2018-04-25 23:10:00              11   \n",
       "3      2017-10-10 15:32:00           2017-10-23 12:09:00              12   \n",
       "4      2017-09-26 11:51:00           2017-10-10 18:05:00              14   \n",
       "\n",
       "   customer_state_AL  customer_state_AM  customer_state_AP  ...  \\\n",
       "0                  0                  0                  0  ...   \n",
       "1                  0                  0                  0  ...   \n",
       "2                  0                  0                  0  ...   \n",
       "3                  0                  0                  0  ...   \n",
       "4                  0                  0                  0  ...   \n",
       "\n",
       "   customer_state_RJ  customer_state_RN  customer_state_RO  customer_state_RS  \\\n",
       "0                  1                  0                  0                  0   \n",
       "1                  1                  0                  0                  0   \n",
       "2                  1                  0                  0                  0   \n",
       "3                  1                  0                  0                  0   \n",
       "4                  1                  0                  0                  0   \n",
       "\n",
       "   customer_state_SC  customer_state_SE  customer_state_SP  customer_state_TO  \\\n",
       "0                  0                  0                  0                  0   \n",
       "1                  0                  0                  0                  0   \n",
       "2                  0                  0                  0                  0   \n",
       "3                  0                  0                  0                  0   \n",
       "4                  0                  0                  0                  0   \n",
       "\n",
       "   seller_state_SC  seller_state_SP  \n",
       "0                0                1  \n",
       "1                0                1  \n",
       "2                0                1  \n",
       "3                0                1  \n",
       "4                0                1  \n",
       "\n",
       "[5 rows x 34 columns]"
      ]
     },
     "execution_count": 52,
     "metadata": {},
     "output_type": "execute_result"
    }
   ],
   "source": [
    "#solution:\n",
    "from sklearn.preprocessing import MinMaxScaler\n",
    "\n",
    "# Scale product features\n",
    "scaler = MinMaxScaler()\n",
    "data['product_weight_g'],data['product_length_cm'],data['product_height_cm'],data['product_width_cm']= scaler.fit_transform(data[['product_weight_g','product_length_cm','product_height_cm','product_width_cm']]).T\n",
    "\n",
    "# One hot encode state features\n",
    "data = pd.get_dummies(data,columns = ['customer_state','seller_state'] )\n",
    "\n",
    "data.head()"
   ]
  },
  {
   "cell_type": "code",
   "execution_count": 53,
   "metadata": {},
   "outputs": [],
   "source": [
    "# from sklearn.preprocessing import RobustScaler\n",
    "# scaler = RobustScaler()\n",
    "# scaler.fit(data[num_features])\n",
    "# data[num_features] = scaler.transform(data[num_features])"
   ]
  },
  {
   "cell_type": "code",
   "execution_count": 54,
   "metadata": {},
   "outputs": [],
   "source": [
    "# Encode with get_dummies\n",
    "# data = pd.get_dummies(data, columns = cat_features)\n"
   ]
  },
  {
   "cell_type": "code",
   "execution_count": 55,
   "metadata": {},
   "outputs": [
    {
     "data": {
      "text/html": [
       "<div>\n",
       "<style scoped>\n",
       "    .dataframe tbody tr th:only-of-type {\n",
       "        vertical-align: middle;\n",
       "    }\n",
       "\n",
       "    .dataframe tbody tr th {\n",
       "        vertical-align: top;\n",
       "    }\n",
       "\n",
       "    .dataframe thead th {\n",
       "        text-align: right;\n",
       "    }\n",
       "</style>\n",
       "<table border=\"1\" class=\"dataframe\">\n",
       "  <thead>\n",
       "    <tr style=\"text-align: right;\">\n",
       "      <th></th>\n",
       "      <th>product_weight_g</th>\n",
       "      <th>product_length_cm</th>\n",
       "      <th>product_height_cm</th>\n",
       "      <th>product_width_cm</th>\n",
       "      <th>order_purchase_timestamp</th>\n",
       "      <th>order_delivered_customer_date</th>\n",
       "      <th>delivery_delay</th>\n",
       "      <th>customer_state_AL</th>\n",
       "      <th>customer_state_AM</th>\n",
       "      <th>customer_state_AP</th>\n",
       "      <th>...</th>\n",
       "      <th>customer_state_RJ</th>\n",
       "      <th>customer_state_RN</th>\n",
       "      <th>customer_state_RO</th>\n",
       "      <th>customer_state_RS</th>\n",
       "      <th>customer_state_SC</th>\n",
       "      <th>customer_state_SE</th>\n",
       "      <th>customer_state_SP</th>\n",
       "      <th>customer_state_TO</th>\n",
       "      <th>seller_state_SC</th>\n",
       "      <th>seller_state_SP</th>\n",
       "    </tr>\n",
       "  </thead>\n",
       "  <tbody>\n",
       "    <tr>\n",
       "      <th>0</th>\n",
       "      <td>0.057692</td>\n",
       "      <td>0.402439</td>\n",
       "      <td>0.056818</td>\n",
       "      <td>0.271028</td>\n",
       "      <td>2017-09-18 20:11:00</td>\n",
       "      <td>2017-09-28 19:19:00</td>\n",
       "      <td>9</td>\n",
       "      <td>0</td>\n",
       "      <td>0</td>\n",
       "      <td>0</td>\n",
       "      <td>...</td>\n",
       "      <td>1</td>\n",
       "      <td>0</td>\n",
       "      <td>0</td>\n",
       "      <td>0</td>\n",
       "      <td>0</td>\n",
       "      <td>0</td>\n",
       "      <td>0</td>\n",
       "      <td>0</td>\n",
       "      <td>0</td>\n",
       "      <td>1</td>\n",
       "    </tr>\n",
       "    <tr>\n",
       "      <th>1</th>\n",
       "      <td>0.020067</td>\n",
       "      <td>0.548780</td>\n",
       "      <td>0.147727</td>\n",
       "      <td>0.158879</td>\n",
       "      <td>2017-10-16 14:12:00</td>\n",
       "      <td>2017-10-25 16:43:00</td>\n",
       "      <td>9</td>\n",
       "      <td>0</td>\n",
       "      <td>0</td>\n",
       "      <td>0</td>\n",
       "      <td>...</td>\n",
       "      <td>1</td>\n",
       "      <td>0</td>\n",
       "      <td>0</td>\n",
       "      <td>0</td>\n",
       "      <td>0</td>\n",
       "      <td>0</td>\n",
       "      <td>0</td>\n",
       "      <td>0</td>\n",
       "      <td>0</td>\n",
       "      <td>1</td>\n",
       "    </tr>\n",
       "    <tr>\n",
       "      <th>2</th>\n",
       "      <td>0.057692</td>\n",
       "      <td>0.402439</td>\n",
       "      <td>0.056818</td>\n",
       "      <td>0.271028</td>\n",
       "      <td>2018-04-14 00:04:00</td>\n",
       "      <td>2018-04-25 23:10:00</td>\n",
       "      <td>11</td>\n",
       "      <td>0</td>\n",
       "      <td>0</td>\n",
       "      <td>0</td>\n",
       "      <td>...</td>\n",
       "      <td>1</td>\n",
       "      <td>0</td>\n",
       "      <td>0</td>\n",
       "      <td>0</td>\n",
       "      <td>0</td>\n",
       "      <td>0</td>\n",
       "      <td>0</td>\n",
       "      <td>0</td>\n",
       "      <td>0</td>\n",
       "      <td>1</td>\n",
       "    </tr>\n",
       "    <tr>\n",
       "      <th>3</th>\n",
       "      <td>0.057692</td>\n",
       "      <td>0.402439</td>\n",
       "      <td>0.056818</td>\n",
       "      <td>0.271028</td>\n",
       "      <td>2017-10-10 15:32:00</td>\n",
       "      <td>2017-10-23 12:09:00</td>\n",
       "      <td>12</td>\n",
       "      <td>0</td>\n",
       "      <td>0</td>\n",
       "      <td>0</td>\n",
       "      <td>...</td>\n",
       "      <td>1</td>\n",
       "      <td>0</td>\n",
       "      <td>0</td>\n",
       "      <td>0</td>\n",
       "      <td>0</td>\n",
       "      <td>0</td>\n",
       "      <td>0</td>\n",
       "      <td>0</td>\n",
       "      <td>0</td>\n",
       "      <td>1</td>\n",
       "    </tr>\n",
       "    <tr>\n",
       "      <th>4</th>\n",
       "      <td>0.057692</td>\n",
       "      <td>0.402439</td>\n",
       "      <td>0.056818</td>\n",
       "      <td>0.271028</td>\n",
       "      <td>2017-09-26 11:51:00</td>\n",
       "      <td>2017-10-10 18:05:00</td>\n",
       "      <td>14</td>\n",
       "      <td>0</td>\n",
       "      <td>0</td>\n",
       "      <td>0</td>\n",
       "      <td>...</td>\n",
       "      <td>1</td>\n",
       "      <td>0</td>\n",
       "      <td>0</td>\n",
       "      <td>0</td>\n",
       "      <td>0</td>\n",
       "      <td>0</td>\n",
       "      <td>0</td>\n",
       "      <td>0</td>\n",
       "      <td>0</td>\n",
       "      <td>1</td>\n",
       "    </tr>\n",
       "    <tr>\n",
       "      <th>5</th>\n",
       "      <td>0.003344</td>\n",
       "      <td>0.304878</td>\n",
       "      <td>0.113636</td>\n",
       "      <td>0.224299</td>\n",
       "      <td>2018-01-13 10:43:00</td>\n",
       "      <td>2018-02-02 17:32:00</td>\n",
       "      <td>20</td>\n",
       "      <td>0</td>\n",
       "      <td>0</td>\n",
       "      <td>0</td>\n",
       "      <td>...</td>\n",
       "      <td>1</td>\n",
       "      <td>0</td>\n",
       "      <td>0</td>\n",
       "      <td>0</td>\n",
       "      <td>0</td>\n",
       "      <td>0</td>\n",
       "      <td>0</td>\n",
       "      <td>0</td>\n",
       "      <td>0</td>\n",
       "      <td>1</td>\n",
       "    </tr>\n",
       "    <tr>\n",
       "      <th>6</th>\n",
       "      <td>0.570234</td>\n",
       "      <td>0.463415</td>\n",
       "      <td>0.636364</td>\n",
       "      <td>0.121495</td>\n",
       "      <td>2017-01-27 22:14:00</td>\n",
       "      <td>2017-02-14 13:15:00</td>\n",
       "      <td>17</td>\n",
       "      <td>0</td>\n",
       "      <td>0</td>\n",
       "      <td>0</td>\n",
       "      <td>...</td>\n",
       "      <td>1</td>\n",
       "      <td>0</td>\n",
       "      <td>0</td>\n",
       "      <td>0</td>\n",
       "      <td>0</td>\n",
       "      <td>0</td>\n",
       "      <td>0</td>\n",
       "      <td>0</td>\n",
       "      <td>0</td>\n",
       "      <td>1</td>\n",
       "    </tr>\n",
       "    <tr>\n",
       "      <th>7</th>\n",
       "      <td>0.015050</td>\n",
       "      <td>0.487805</td>\n",
       "      <td>0.056818</td>\n",
       "      <td>0.271028</td>\n",
       "      <td>2018-03-04 16:17:00</td>\n",
       "      <td>2018-04-05 22:16:00</td>\n",
       "      <td>32</td>\n",
       "      <td>0</td>\n",
       "      <td>0</td>\n",
       "      <td>0</td>\n",
       "      <td>...</td>\n",
       "      <td>1</td>\n",
       "      <td>0</td>\n",
       "      <td>0</td>\n",
       "      <td>0</td>\n",
       "      <td>0</td>\n",
       "      <td>0</td>\n",
       "      <td>0</td>\n",
       "      <td>0</td>\n",
       "      <td>0</td>\n",
       "      <td>1</td>\n",
       "    </tr>\n",
       "    <tr>\n",
       "      <th>8</th>\n",
       "      <td>0.028428</td>\n",
       "      <td>0.304878</td>\n",
       "      <td>0.113636</td>\n",
       "      <td>0.224299</td>\n",
       "      <td>2018-05-15 08:57:00</td>\n",
       "      <td>2018-05-21 16:56:00</td>\n",
       "      <td>6</td>\n",
       "      <td>0</td>\n",
       "      <td>0</td>\n",
       "      <td>0</td>\n",
       "      <td>...</td>\n",
       "      <td>0</td>\n",
       "      <td>0</td>\n",
       "      <td>0</td>\n",
       "      <td>0</td>\n",
       "      <td>0</td>\n",
       "      <td>0</td>\n",
       "      <td>1</td>\n",
       "      <td>0</td>\n",
       "      <td>0</td>\n",
       "      <td>1</td>\n",
       "    </tr>\n",
       "    <tr>\n",
       "      <th>9</th>\n",
       "      <td>0.028428</td>\n",
       "      <td>0.304878</td>\n",
       "      <td>0.113636</td>\n",
       "      <td>0.224299</td>\n",
       "      <td>2018-07-13 20:08:00</td>\n",
       "      <td>2018-07-20 18:03:00</td>\n",
       "      <td>6</td>\n",
       "      <td>0</td>\n",
       "      <td>0</td>\n",
       "      <td>0</td>\n",
       "      <td>...</td>\n",
       "      <td>0</td>\n",
       "      <td>0</td>\n",
       "      <td>0</td>\n",
       "      <td>0</td>\n",
       "      <td>0</td>\n",
       "      <td>0</td>\n",
       "      <td>1</td>\n",
       "      <td>0</td>\n",
       "      <td>0</td>\n",
       "      <td>1</td>\n",
       "    </tr>\n",
       "  </tbody>\n",
       "</table>\n",
       "<p>10 rows × 34 columns</p>\n",
       "</div>"
      ],
      "text/plain": [
       "   product_weight_g  product_length_cm  product_height_cm  product_width_cm  \\\n",
       "0          0.057692           0.402439           0.056818          0.271028   \n",
       "1          0.020067           0.548780           0.147727          0.158879   \n",
       "2          0.057692           0.402439           0.056818          0.271028   \n",
       "3          0.057692           0.402439           0.056818          0.271028   \n",
       "4          0.057692           0.402439           0.056818          0.271028   \n",
       "5          0.003344           0.304878           0.113636          0.224299   \n",
       "6          0.570234           0.463415           0.636364          0.121495   \n",
       "7          0.015050           0.487805           0.056818          0.271028   \n",
       "8          0.028428           0.304878           0.113636          0.224299   \n",
       "9          0.028428           0.304878           0.113636          0.224299   \n",
       "\n",
       "  order_purchase_timestamp order_delivered_customer_date  delivery_delay  \\\n",
       "0      2017-09-18 20:11:00           2017-09-28 19:19:00               9   \n",
       "1      2017-10-16 14:12:00           2017-10-25 16:43:00               9   \n",
       "2      2018-04-14 00:04:00           2018-04-25 23:10:00              11   \n",
       "3      2017-10-10 15:32:00           2017-10-23 12:09:00              12   \n",
       "4      2017-09-26 11:51:00           2017-10-10 18:05:00              14   \n",
       "5      2018-01-13 10:43:00           2018-02-02 17:32:00              20   \n",
       "6      2017-01-27 22:14:00           2017-02-14 13:15:00              17   \n",
       "7      2018-03-04 16:17:00           2018-04-05 22:16:00              32   \n",
       "8      2018-05-15 08:57:00           2018-05-21 16:56:00               6   \n",
       "9      2018-07-13 20:08:00           2018-07-20 18:03:00               6   \n",
       "\n",
       "   customer_state_AL  customer_state_AM  customer_state_AP  ...  \\\n",
       "0                  0                  0                  0  ...   \n",
       "1                  0                  0                  0  ...   \n",
       "2                  0                  0                  0  ...   \n",
       "3                  0                  0                  0  ...   \n",
       "4                  0                  0                  0  ...   \n",
       "5                  0                  0                  0  ...   \n",
       "6                  0                  0                  0  ...   \n",
       "7                  0                  0                  0  ...   \n",
       "8                  0                  0                  0  ...   \n",
       "9                  0                  0                  0  ...   \n",
       "\n",
       "   customer_state_RJ  customer_state_RN  customer_state_RO  customer_state_RS  \\\n",
       "0                  1                  0                  0                  0   \n",
       "1                  1                  0                  0                  0   \n",
       "2                  1                  0                  0                  0   \n",
       "3                  1                  0                  0                  0   \n",
       "4                  1                  0                  0                  0   \n",
       "5                  1                  0                  0                  0   \n",
       "6                  1                  0                  0                  0   \n",
       "7                  1                  0                  0                  0   \n",
       "8                  0                  0                  0                  0   \n",
       "9                  0                  0                  0                  0   \n",
       "\n",
       "   customer_state_SC  customer_state_SE  customer_state_SP  customer_state_TO  \\\n",
       "0                  0                  0                  0                  0   \n",
       "1                  0                  0                  0                  0   \n",
       "2                  0                  0                  0                  0   \n",
       "3                  0                  0                  0                  0   \n",
       "4                  0                  0                  0                  0   \n",
       "5                  0                  0                  0                  0   \n",
       "6                  0                  0                  0                  0   \n",
       "7                  0                  0                  0                  0   \n",
       "8                  0                  0                  1                  0   \n",
       "9                  0                  0                  1                  0   \n",
       "\n",
       "   seller_state_SC  seller_state_SP  \n",
       "0                0                1  \n",
       "1                0                1  \n",
       "2                0                1  \n",
       "3                0                1  \n",
       "4                0                1  \n",
       "5                0                1  \n",
       "6                0                1  \n",
       "7                0                1  \n",
       "8                0                1  \n",
       "9                0                1  \n",
       "\n",
       "[10 rows x 34 columns]"
      ]
     },
     "execution_count": 55,
     "metadata": {},
     "output_type": "execute_result"
    }
   ],
   "source": [
    "data.head(10)"
   ]
  },
  {
   "cell_type": "markdown",
   "metadata": {},
   "source": [
    "## Linear Regression"
   ]
  },
  {
   "cell_type": "markdown",
   "metadata": {},
   "source": [
    "👇 Train a `LinearRegression` model and make cross validated predictions.\n",
    "\n",
    "[`cross_val_predict` documentation](https://scikit-learn.org/stable/modules/generated/sklearn.model_selection.cross_val_predict.html)"
   ]
  },
  {
   "cell_type": "code",
   "execution_count": 56,
   "metadata": {},
   "outputs": [],
   "source": [
    "# Getting statte in a feature list:\n",
    "\n",
    "num = data.drop(columns = 'delivery_delay')\n",
    "# Generate masks for categorical features\n",
    "states_features_mask = num.dtypes == 'uint8'\n",
    "# Feature names\n",
    "states_features = num.columns[states_features_mask].tolist()"
   ]
  },
  {
   "cell_type": "code",
   "execution_count": 57,
   "metadata": {},
   "outputs": [
    {
     "data": {
      "text/plain": [
       "0.19008024264902568"
      ]
     },
     "execution_count": 57,
     "metadata": {},
     "output_type": "execute_result"
    }
   ],
   "source": [
    "from sklearn.linear_model import LinearRegression\n",
    "from sklearn.model_selection import train_test_split\n",
    "# features = states_features + num_features\n",
    "features = num_features + ['seller_state_SP', 'seller_state_SC', 'customer_state_SP'\\\n",
    "                          ,'customer_state_RJ', 'customer_state_MG', 'customer_state_BA']\n",
    "X_train, X_test, y_train, y_test = train_test_split(data[features], data['delivery_delay'], test_size = 0.3)\n",
    "\n",
    "model = LinearRegression()\n",
    "model.fit(X_train, y_train)\n",
    "model.score(X_test, y_test)"
   ]
  },
  {
   "cell_type": "code",
   "execution_count": 58,
   "metadata": {},
   "outputs": [
    {
     "data": {
      "text/plain": [
       "{'fit_time': array([0.00573874, 0.00338244, 0.00306344, 0.00298166, 0.00303769]),\n",
       " 'score_time': array([0.00243282, 0.00217605, 0.0019958 , 0.00185633, 0.00202823]),\n",
       " 'test_score': array([0.22036056, 0.17479968, 0.13317246, 0.09195546, 0.22111127])}"
      ]
     },
     "metadata": {},
     "output_type": "display_data"
    }
   ],
   "source": [
    "# Cross validate model\n",
    "from sklearn.model_selection import cross_validate, cross_val_predict\n",
    "cv_results = cross_validate(model, data[features], data['delivery_delay'], cv=5)\n",
    "display(cv_results)"
   ]
  },
  {
   "cell_type": "code",
   "execution_count": 59,
   "metadata": {},
   "outputs": [],
   "source": [
    "#Predictions\n",
    "data['predictions'] = cross_val_predict(model, data[features], data['delivery_delay'])"
   ]
  },
  {
   "cell_type": "code",
   "execution_count": 60,
   "metadata": {},
   "outputs": [
    {
     "name": "stdout",
     "output_type": "stream",
     "text": [
      "RMSE = 12.39\n",
      "MAE = 7.4\n"
     ]
    }
   ],
   "source": [
    "#MSE:\n",
    "import math\n",
    "from sklearn.metrics import mean_squared_error, mean_absolute_error\n",
    "mse = mean_squared_error(data['delivery_delay'], data['predictions'] )\n",
    "rmse = math.sqrt(mse)\n",
    "print('RMSE =', round(rmse, 2))\n",
    "\n",
    "mae = mean_absolute_error(data['delivery_delay'], data['predictions'])\n",
    "print('MAE =', round(mae, 2))"
   ]
  },
  {
   "cell_type": "markdown",
   "metadata": {},
   "source": [
    "👇 Engineer a scoring metric that preserves the magnitude of the target and the direction of the errors made. Encapsulate the scoring metric in a function."
   ]
  },
  {
   "cell_type": "markdown",
   "metadata": {},
   "source": [
    "<details>\n",
    "<summary>💡 Hint</summary>\n",
    "    \n",
    "Computing the mean differences between predicted and true values is a simple way to preserve direction and magnitude.\n",
    "    \n",
    "</details>"
   ]
  },
  {
   "cell_type": "code",
   "execution_count": 61,
   "metadata": {},
   "outputs": [],
   "source": [
    "#Custom metric\n",
    "def difference(X,Y):\n",
    "    return (X - Y).mean()"
   ]
  },
  {
   "cell_type": "code",
   "execution_count": 62,
   "metadata": {},
   "outputs": [
    {
     "name": "stdout",
     "output_type": "stream",
     "text": [
      "Mean difference = 0.02\n"
     ]
    }
   ],
   "source": [
    "diff_metric =  difference(data['predictions'], data['delivery_delay'])\n",
    "print('Mean difference =', round(diff_metric, 2))"
   ]
  },
  {
   "cell_type": "markdown",
   "metadata": {},
   "source": [
    "##  KNN Regressor"
   ]
  },
  {
   "cell_type": "markdown",
   "metadata": {},
   "source": [
    "👇 Train a `KNNRegressor` model and use your scoring function to evaluate its performance."
   ]
  },
  {
   "cell_type": "code",
   "execution_count": 63,
   "metadata": {},
   "outputs": [
    {
     "data": {
      "text/plain": [
       "{'fit_time': array([0.00462723, 0.00552082, 0.00526428, 0.00406313, 0.0045352 ]),\n",
       " 'score_time': array([0.01045799, 0.00834465, 0.00622058, 0.00509501, 0.00883818]),\n",
       " 'test_score': array([-0.24754718, -0.91154364,  0.05342763,  0.01664016, -0.01007603])}"
      ]
     },
     "metadata": {},
     "output_type": "display_data"
    }
   ],
   "source": [
    "from sklearn.neighbors import KNeighborsRegressor\n",
    "from sklearn.model_selection import train_test_split\n",
    "\n",
    "# Baseline model\n",
    "KNN_model = KNeighborsRegressor()\n",
    "X_train, X_test, y_train, y_test = train_test_split(data[features], data['delivery_delay'], test_size = 0.3)\n",
    "KNN_model.fit(X_train, y_train)\n",
    "\n",
    "# # Cross validate model\n",
    "cv_results = cross_validate(KNN_model, data[features], data['delivery_delay'], cv=5)\n",
    "display(cv_results)\n",
    "\n",
    "# KNN Accuracy\n",
    "data['predictions_knn'] = cross_val_predict(KNN_model, data[features], data['delivery_delay'])"
   ]
  },
  {
   "cell_type": "code",
   "execution_count": 64,
   "metadata": {},
   "outputs": [
    {
     "name": "stdout",
     "output_type": "stream",
     "text": [
      "RMSE = 13.98\n",
      "MAE = 8.51\n",
      "Mean difference = 0.92\n"
     ]
    }
   ],
   "source": [
    "import math\n",
    "from sklearn.metrics import mean_squared_error, mean_absolute_error\n",
    "mse = mean_squared_error(data['delivery_delay'], data['predictions_knn'] )\n",
    "rmse = math.sqrt(mse)\n",
    "print('RMSE =', round(rmse, 2))\n",
    "\n",
    "mae = mean_absolute_error(data['delivery_delay'], data['predictions_knn'])\n",
    "print('MAE =', round(mae, 2))\n",
    "\n",
    "diff_metric =  difference(data['predictions_knn'], data['delivery_delay'])\n",
    "print('Mean difference =', round(diff_metric, 2))"
   ]
  },
  {
   "cell_type": "markdown",
   "metadata": {},
   "source": [
    "## Model Selection"
   ]
  },
  {
   "cell_type": "markdown",
   "metadata": {},
   "source": [
    "❓ Which of the two models would you chose for the task and based on your metric's score?"
   ]
  },
  {
   "cell_type": "markdown",
   "metadata": {},
   "source": [
    "<details>\n",
    "<summary>Answer</summary>\n",
    "\n",
    "The model best suited for the task is the one with the positive error (or least negative). If the average error is positive, the model tends to overshoot delivery.\n",
    "</details>"
   ]
  },
  {
   "cell_type": "markdown",
   "metadata": {},
   "source": [
    "# 🏁"
   ]
  }
 ],
 "metadata": {
  "kernelspec": {
   "display_name": "Python 3",
   "language": "python",
   "name": "python3"
  },
  "language_info": {
   "codemirror_mode": {
    "name": "ipython",
    "version": 3
   },
   "file_extension": ".py",
   "mimetype": "text/x-python",
   "name": "python",
   "nbconvert_exporter": "python",
   "pygments_lexer": "ipython3",
   "version": "3.8.5"
  },
  "toc": {
   "base_numbering": 1,
   "nav_menu": {},
   "number_sections": true,
   "sideBar": true,
   "skip_h1_title": false,
   "title_cell": "Table of Contents",
   "title_sidebar": "Contents",
   "toc_cell": false,
   "toc_position": {},
   "toc_section_display": true,
   "toc_window_display": false
  },
  "varInspector": {
   "cols": {
    "lenName": 16,
    "lenType": 16,
    "lenVar": 40
   },
   "kernels_config": {
    "python": {
     "delete_cmd_postfix": "",
     "delete_cmd_prefix": "del ",
     "library": "var_list.py",
     "varRefreshCmd": "print(var_dic_list())"
    },
    "r": {
     "delete_cmd_postfix": ") ",
     "delete_cmd_prefix": "rm(",
     "library": "var_list.r",
     "varRefreshCmd": "cat(var_dic_list()) "
    }
   },
   "types_to_exclude": [
    "module",
    "function",
    "builtin_function_or_method",
    "instance",
    "_Feature"
   ],
   "window_display": false
  }
 },
 "nbformat": 4,
 "nbformat_minor": 4
}

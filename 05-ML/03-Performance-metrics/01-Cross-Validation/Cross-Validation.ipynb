{
 "cells": [
  {
   "cell_type": "markdown",
   "metadata": {},
   "source": [
    "# Cross Validation"
   ]
  },
  {
   "cell_type": "markdown",
   "metadata": {},
   "source": [
    "👇 Import the `university_admissions.csv` dataset located in the data folder and display its first 5 rows"
   ]
  },
  {
   "cell_type": "code",
   "execution_count": 106,
   "metadata": {
    "scrolled": true
   },
   "outputs": [],
   "source": [
    "import pandas as pd\n",
    "uni_df = pd.read_csv('data/university_admissions.csv')"
   ]
  },
  {
   "cell_type": "markdown",
   "metadata": {},
   "source": [
    "The dataset:\n",
    "- `rating` : the rating of the university in a range [0,5]\n",
    "- `CGPA` : the Cumulative Grade Points Average of the student\n",
    "- `admitted` : whether or not a student is admitted to the university\n",
    "    \n",
    "The task is to predict if a student will be admitted or not considering his CGPA and the rating of the university he is applying to."
   ]
  },
  {
   "cell_type": "markdown",
   "metadata": {},
   "source": [
    "## Data Exploration"
   ]
  },
  {
   "cell_type": "markdown",
   "metadata": {},
   "source": [
    "👇 How many observations are there in the dataset?"
   ]
  },
  {
   "cell_type": "code",
   "execution_count": 107,
   "metadata": {},
   "outputs": [
    {
     "name": "stdout",
     "output_type": "stream",
     "text": [
      "<class 'pandas.core.frame.DataFrame'>\n",
      "RangeIndex: 50 entries, 0 to 49\n",
      "Data columns (total 3 columns):\n",
      " #   Column    Non-Null Count  Dtype  \n",
      "---  ------    --------------  -----  \n",
      " 0   rating    50 non-null     int64  \n",
      " 1   CGPA      50 non-null     float64\n",
      " 2   admitted  50 non-null     bool   \n",
      "dtypes: bool(1), float64(1), int64(1)\n",
      "memory usage: 978.0 bytes\n"
     ]
    },
    {
     "data": {
      "text/plain": [
       "(50, 3)"
      ]
     },
     "execution_count": 107,
     "metadata": {},
     "output_type": "execute_result"
    }
   ],
   "source": [
    "uni_df.info()\n",
    "uni_df.shape"
   ]
  },
  {
   "cell_type": "markdown",
   "metadata": {},
   "source": [
    "👇 How many observations of each class?"
   ]
  },
  {
   "cell_type": "code",
   "execution_count": 108,
   "metadata": {},
   "outputs": [
    {
     "data": {
      "text/plain": [
       "False    26\n",
       "True     24\n",
       "Name: admitted, dtype: int64"
      ]
     },
     "execution_count": 108,
     "metadata": {},
     "output_type": "execute_result"
    }
   ],
   "source": [
    "uni_df['admitted'].value_counts()"
   ]
  },
  {
   "cell_type": "markdown",
   "metadata": {},
   "source": [
    "## Baseline Score"
   ]
  },
  {
   "cell_type": "markdown",
   "metadata": {},
   "source": [
    "👇 Generate a cross-validated baseline score with Sklearn's `DummyClassifier`\n",
    "- Use the baseline strategy and scoring metric you feel are appropriate for the task\n",
    "- Do not preprocess the features just yet\n",
    "\n",
    "👉 [`DummyClassifier` documentation](https://scikit-learn.org/stable/modules/generated/sklearn.dummy.DummyClassifier.html)"
   ]
  },
  {
   "cell_type": "markdown",
   "metadata": {},
   "source": [
    "\n",
    "<details>\n",
    "<summary> 💡Hints </summary>\n",
    "\n",
    "- As a baseline score srategy, you could choose to always predict the most frequent class, or to generate predictions by respecting the training set’s class distribution.\n",
    "    \n",
    "\n",
    "- Since the classes are balanced and both equally as important, you can use the accuracy metric to score the baseline\n",
    "\n",
    "</details>\n",
    "\n"
   ]
  },
  {
   "cell_type": "code",
   "execution_count": 109,
   "metadata": {},
   "outputs": [
    {
     "data": {
      "text/plain": [
       "{'fit_time': array([0.00152254, 0.00137615, 0.00142765, 0.00133729, 0.00143456]),\n",
       " 'score_time': array([0.00059247, 0.00058651, 0.00068498, 0.00071144, 0.00063133]),\n",
       " 'test_score': array([0.5, 0.5, 0.5, 0.5, 0.6])}"
      ]
     },
     "metadata": {},
     "output_type": "display_data"
    },
    {
     "name": "stdout",
     "output_type": "stream",
     "text": [
      "Accuracy = 0.52\n"
     ]
    }
   ],
   "source": [
    "from sklearn.dummy import DummyClassifier\n",
    "from sklearn.model_selection import train_test_split\n",
    "\n",
    "# Ready X and y\n",
    "X = uni_df[['rating','CGPA']]\n",
    "y = uni_df['admitted']\n",
    "X_train, X_test, y_train, y_test = train_test_split(X, y, test_size = 0.3)\n",
    "\n",
    "# Baseline model\n",
    "baseline_model = DummyClassifier(strategy = 'most_frequent')\n",
    "\n",
    "# Cross validate model\n",
    "from sklearn.model_selection import cross_validate, cross_val_predict\n",
    "cv_results = cross_validate(baseline_model, X, y, cv=5)\n",
    "display(cv_results)\n",
    "\n",
    "# Baseline Accuracy\n",
    "from sklearn.metrics import accuracy_score\n",
    "uni_df['predictions'] = cross_val_predict(baseline_model, X ,y)\n",
    "# acuracy = cv_results[\"test_score\"].mean()\n",
    "print('Accuracy =', round(accuracy_score(y, uni_df['predictions']), 3))"
   ]
  },
  {
   "cell_type": "markdown",
   "metadata": {},
   "source": [
    "##  KNN model"
   ]
  },
  {
   "cell_type": "markdown",
   "metadata": {},
   "source": [
    "👇 Cross-validate a `KNeighborsClassifier` using the same metric as your baseline. \n",
    "- Do not preprocess the features just yet\n",
    "\n",
    "👉 [`cross_validate` documentation](https://scikit-learn.org/stable/modules/generated/sklearn.model_selection.cross_validate.html)"
   ]
  },
  {
   "cell_type": "code",
   "execution_count": 110,
   "metadata": {
    "scrolled": false
   },
   "outputs": [
    {
     "data": {
      "text/plain": [
       "{'fit_time': array([0.00804853, 0.005867  , 0.00394654, 0.00311446, 0.00250983]),\n",
       " 'score_time': array([0.00769281, 0.00564885, 0.00393486, 0.00348186, 0.00275922]),\n",
       " 'test_score': array([0.7, 0.6, 0.9, 0.7, 1. ])}"
      ]
     },
     "metadata": {},
     "output_type": "display_data"
    },
    {
     "name": "stdout",
     "output_type": "stream",
     "text": [
      "Accuracy = 0.78\n"
     ]
    }
   ],
   "source": [
    "from sklearn.neighbors import KNeighborsClassifier\n",
    "from sklearn.model_selection import train_test_split\n",
    "\n",
    "# Baseline model\n",
    "KNN_model = KNeighborsClassifier()\n",
    "\n",
    "# # Cross validate model\n",
    "cv_results = cross_validate(KNN_model, X, y, cv=5)\n",
    "display(cv_results)\n",
    "\n",
    "# KNN Accuracy\n",
    "uni_df['predictions'] = cross_val_predict(KNN_model, X ,y)\n",
    "print('Accuracy =', round(accuracy_score(y, uni_df['predictions']), 3))"
   ]
  },
  {
   "cell_type": "markdown",
   "metadata": {},
   "source": [
    "You should be getting an accuracy above 70%, an improvement from the baseline score! However, it could be better. Remember that KNN models are extremely sensitive to magnitude of features?"
   ]
  },
  {
   "cell_type": "markdown",
   "metadata": {},
   "source": [
    "## Advanced KNN model"
   ]
  },
  {
   "cell_type": "markdown",
   "metadata": {},
   "source": [
    "👇 Check the distribution of the features and scale them accordingly. With the scaled features, cross-validate a `KNeighborsClassifier`."
   ]
  },
  {
   "cell_type": "code",
   "execution_count": 111,
   "metadata": {},
   "outputs": [
    {
     "data": {
      "text/plain": [
       "<AxesSubplot:ylabel='Frequency'>"
      ]
     },
     "execution_count": 111,
     "metadata": {},
     "output_type": "execute_result"
    },
    {
     "data": {
      "image/png": "[encoded data removed]",
      "text/plain": [
       "<Figure size 432x288 with 1 Axes>"
      ]
     },
     "metadata": {
      "needs_background": "light"
     },
     "output_type": "display_data"
    }
   ],
   "source": [
    "# Check feature distribution with histograms\n",
    "uni_df['rating'].plot.hist()\n",
    "uni_df['CGPA'].plot.hist()"
   ]
  },
  {
   "cell_type": "code",
   "execution_count": 113,
   "metadata": {},
   "outputs": [
    {
     "data": {
      "text/plain": [
       "{'fit_time': array([0.00371695, 0.00336218, 0.00241017, 0.00286984, 0.00209928]),\n",
       " 'score_time': array([0.0057919 , 0.00464392, 0.00285506, 0.00266957, 0.00224757]),\n",
       " 'test_score': array([0.8, 0.6, 0.9, 0.8, 1. ])}"
      ]
     },
     "metadata": {},
     "output_type": "display_data"
    },
    {
     "name": "stdout",
     "output_type": "stream",
     "text": [
      "Accuracy = 0.78\n"
     ]
    },
    {
     "data": {
      "text/plain": [
       "array([[1.07349008, 0.63620195]])"
      ]
     },
     "execution_count": 113,
     "metadata": {},
     "output_type": "execute_result"
    }
   ],
   "source": [
    "# Scale features\n",
    "scale = ['rating', 'CGPA']\n",
    "from sklearn.preprocessing import StandardScaler\n",
    "scaler = StandardScaler()\n",
    "scaler.fit(uni_df[scale])\n",
    "uni_df[['scaled_r', 'scaled_CGPA']] = scaler.transform(uni_df[scale])\n",
    "\n",
    "# Cross validate KNN with scaled features\n",
    "KNN_model = KNeighborsClassifier()\n",
    "cv_results = cross_validate(KNN_model, uni_df[['scaled_r', 'scaled_CGPA']], y, cv=5)\n",
    "display(cv_results)\n",
    "\n",
    "uni_df['predictions_2'] = cross_val_predict(KNN_model, X ,y)\n",
    "print('Accuracy =', round(accuracy_score(y, uni_df['predictions_2']), 3))\n",
    "Friend"
   ]
  },
  {
   "cell_type": "markdown",
   "metadata": {},
   "source": [
    "Scaling the features should have improved the performance of the model!"
   ]
  },
  {
   "cell_type": "markdown",
   "metadata": {},
   "source": [
    "## Predictions"
   ]
  },
  {
   "cell_type": "markdown",
   "metadata": {},
   "source": [
    "A friend of yours with a CGPA of 8 has just applied to a university of rating 4. \n",
    "\n",
    "👇 Use your model to let him know if he will get in. Make sure you scale your friend's data with the same scaler you use on the training data."
   ]
  },
  {
   "cell_type": "code",
   "execution_count": 120,
   "metadata": {},
   "outputs": [
    {
     "data": {
      "text/plain": [
       "array([[0.2, 0.8]])"
      ]
     },
     "execution_count": 120,
     "metadata": {},
     "output_type": "execute_result"
    }
   ],
   "source": [
    "# Make list with datapoints\n",
    "Friend = ['4','8']\n",
    "# Scale using original scaler\n",
    "Friend = scaler.transform([Friend])\n",
    "# Train a model on the scaled data\n",
    "X_train, X_test, y_train, y_test = train_test_split(uni_df[['scaled_r', 'scaled_CGPA']], y, test_size = 0.3)\n",
    "KNN_model.fit(X_train, y_train)\n",
    "KNN_model.predict_proba(Friend)"
   ]
  },
  {
   "cell_type": "markdown",
   "metadata": {},
   "source": [
    "⚠️ Please, push the exercice once you have completed it. Thank you 🙃"
   ]
  },
  {
   "cell_type": "markdown",
   "metadata": {},
   "source": [
    "# 🏁"
   ]
  }
 ],
 "metadata": {
  "kernelspec": {
   "display_name": "Python 3",
   "language": "python",
   "name": "python3"
  },
  "language_info": {
   "codemirror_mode": {
    "name": "ipython",
    "version": 3
   },
   "file_extension": ".py",
   "mimetype": "text/x-python",
   "name": "python",
   "nbconvert_exporter": "python",
   "pygments_lexer": "ipython3",
   "version": "3.8.5"
  },
  "toc": {
   "base_numbering": 1,
   "nav_menu": {},
   "number_sections": false,
   "sideBar": true,
   "skip_h1_title": false,
   "title_cell": "Table of Contents",
   "title_sidebar": "Contents",
   "toc_cell": false,
   "toc_position": {},
   "toc_section_display": true,
   "toc_window_display": true
  },
  "varInspector": {
   "cols": {
    "lenName": 16,
    "lenType": 16,
    "lenVar": 40
   },
   "kernels_config": {
    "python": {
     "delete_cmd_postfix": "",
     "delete_cmd_prefix": "del ",
     "library": "var_list.py",
     "varRefreshCmd": "print(var_dic_list())"
    },
    "r": {
     "delete_cmd_postfix": ") ",
     "delete_cmd_prefix": "rm(",
     "library": "var_list.r",
     "varRefreshCmd": "cat(var_dic_list()) "
    }
   },
   "types_to_exclude": [
    "module",
    "function",
    "builtin_function_or_method",
    "instance",
    "_Feature"
   ],
   "window_display": false
  }
 },
 "nbformat": 4,
 "nbformat_minor": 4
}

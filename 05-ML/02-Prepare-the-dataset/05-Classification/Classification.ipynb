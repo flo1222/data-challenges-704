{
 "cells": [
  {
   "cell_type": "markdown",
   "metadata": {},
   "source": [
    "# Classification"
   ]
  },
  {
   "cell_type": "markdown",
   "metadata": {},
   "source": [
    "👇 Import the dataset `cars_clean.csv`."
   ]
  },
  {
   "cell_type": "code",
   "execution_count": 1,
   "metadata": {},
   "outputs": [],
   "source": [
    "import warnings\n",
    "warnings.filterwarnings(\"ignore\")\n",
    "import pandas as pd\n",
    "cars_clean = pd.read_csv('../data/cars_clean.csv')"
   ]
  },
  {
   "cell_type": "markdown",
   "metadata": {},
   "source": [
    "Instead of modelling the exact price of the car, you are going to turn the dataset into a classification task."
   ]
  },
  {
   "cell_type": "markdown",
   "metadata": {},
   "source": [
    "## Binning"
   ]
  },
  {
   "cell_type": "markdown",
   "metadata": {},
   "source": [
    "👇 Transform the continous target `price` into two categories:\n",
    "- **Cheap** for prices lower than the median value\n",
    "- **Expensive** for prices equal or higher than the median value"
   ]
  },
  {
   "cell_type": "code",
   "execution_count": 4,
   "metadata": {},
   "outputs": [
    {
     "data": {
      "text/plain": [
       "45400.0"
      ]
     },
     "execution_count": 4,
     "metadata": {},
     "output_type": "execute_result"
    }
   ],
   "source": [
    "cars_clean['price'].max()"
   ]
  },
  {
   "cell_type": "code",
   "execution_count": 14,
   "metadata": {},
   "outputs": [
    {
     "data": {
      "text/plain": [
       "cheap        103\n",
       "expensive    102\n",
       "Name: price_cat, dtype: int64"
      ]
     },
     "execution_count": 14,
     "metadata": {},
     "output_type": "execute_result"
    }
   ],
   "source": [
    "cars_clean['price_cat'] = pd.cut(cars_clean['price'],\\\n",
    "                            bins = [0, cars_clean['price'].median(), cars_clean['price'].max()],\\\n",
    "                            labels=['cheap', 'expensive']) \n",
    "cars_clean['price_cat'].value_counts()"
   ]
  },
  {
   "cell_type": "markdown",
   "metadata": {},
   "source": [
    "## Encoding"
   ]
  },
  {
   "cell_type": "markdown",
   "metadata": {},
   "source": [
    "👇 Encode the newly created binary target. "
   ]
  },
  {
   "cell_type": "code",
   "execution_count": 16,
   "metadata": {},
   "outputs": [
    {
     "data": {
      "text/html": [
       "<div>\n",
       "<style scoped>\n",
       "    .dataframe tbody tr th:only-of-type {\n",
       "        vertical-align: middle;\n",
       "    }\n",
       "\n",
       "    .dataframe tbody tr th {\n",
       "        vertical-align: top;\n",
       "    }\n",
       "\n",
       "    .dataframe thead th {\n",
       "        text-align: right;\n",
       "    }\n",
       "</style>\n",
       "<table border=\"1\" class=\"dataframe\">\n",
       "  <thead>\n",
       "    <tr style=\"text-align: right;\">\n",
       "      <th></th>\n",
       "      <th>aspiration</th>\n",
       "      <th>enginelocation</th>\n",
       "      <th>carwidth</th>\n",
       "      <th>curbweight</th>\n",
       "      <th>enginetype</th>\n",
       "      <th>cylindernumber</th>\n",
       "      <th>stroke</th>\n",
       "      <th>peakrpm</th>\n",
       "      <th>price</th>\n",
       "      <th>aspiration_encoded</th>\n",
       "      <th>enginelocation_encoded</th>\n",
       "      <th>dohc_encoded</th>\n",
       "      <th>dohcv_encoded</th>\n",
       "      <th>l_encoded</th>\n",
       "      <th>ohc_encoded</th>\n",
       "      <th>ohcf_encoded</th>\n",
       "      <th>ohcv_encoded</th>\n",
       "      <th>rotor_encoded</th>\n",
       "      <th>price_cat</th>\n",
       "    </tr>\n",
       "  </thead>\n",
       "  <tbody>\n",
       "    <tr>\n",
       "      <th>0</th>\n",
       "      <td>std</td>\n",
       "      <td>front</td>\n",
       "      <td>-0.608696</td>\n",
       "      <td>-0.014566</td>\n",
       "      <td>dohc</td>\n",
       "      <td>0.2</td>\n",
       "      <td>-2.033333</td>\n",
       "      <td>-0.285714</td>\n",
       "      <td>13495.0</td>\n",
       "      <td>0</td>\n",
       "      <td>0</td>\n",
       "      <td>1.0</td>\n",
       "      <td>0.0</td>\n",
       "      <td>0.0</td>\n",
       "      <td>0.0</td>\n",
       "      <td>0.0</td>\n",
       "      <td>0.0</td>\n",
       "      <td>0.0</td>\n",
       "      <td>1</td>\n",
       "    </tr>\n",
       "    <tr>\n",
       "      <th>1</th>\n",
       "      <td>std</td>\n",
       "      <td>front</td>\n",
       "      <td>-0.608696</td>\n",
       "      <td>-0.014566</td>\n",
       "      <td>dohc</td>\n",
       "      <td>0.2</td>\n",
       "      <td>-2.033333</td>\n",
       "      <td>-0.285714</td>\n",
       "      <td>16500.0</td>\n",
       "      <td>0</td>\n",
       "      <td>0</td>\n",
       "      <td>1.0</td>\n",
       "      <td>0.0</td>\n",
       "      <td>0.0</td>\n",
       "      <td>0.0</td>\n",
       "      <td>0.0</td>\n",
       "      <td>0.0</td>\n",
       "      <td>0.0</td>\n",
       "      <td>1</td>\n",
       "    </tr>\n",
       "    <tr>\n",
       "      <th>2</th>\n",
       "      <td>std</td>\n",
       "      <td>front</td>\n",
       "      <td>0.000000</td>\n",
       "      <td>0.514882</td>\n",
       "      <td>ohcv</td>\n",
       "      <td>0.4</td>\n",
       "      <td>0.600000</td>\n",
       "      <td>-0.285714</td>\n",
       "      <td>16500.0</td>\n",
       "      <td>0</td>\n",
       "      <td>0</td>\n",
       "      <td>0.0</td>\n",
       "      <td>0.0</td>\n",
       "      <td>0.0</td>\n",
       "      <td>0.0</td>\n",
       "      <td>0.0</td>\n",
       "      <td>1.0</td>\n",
       "      <td>0.0</td>\n",
       "      <td>1</td>\n",
       "    </tr>\n",
       "    <tr>\n",
       "      <th>3</th>\n",
       "      <td>std</td>\n",
       "      <td>front</td>\n",
       "      <td>0.168669</td>\n",
       "      <td>-0.420797</td>\n",
       "      <td>ohc</td>\n",
       "      <td>0.2</td>\n",
       "      <td>0.366667</td>\n",
       "      <td>0.428571</td>\n",
       "      <td>13950.0</td>\n",
       "      <td>0</td>\n",
       "      <td>0</td>\n",
       "      <td>0.0</td>\n",
       "      <td>0.0</td>\n",
       "      <td>0.0</td>\n",
       "      <td>1.0</td>\n",
       "      <td>0.0</td>\n",
       "      <td>0.0</td>\n",
       "      <td>0.0</td>\n",
       "      <td>1</td>\n",
       "    </tr>\n",
       "    <tr>\n",
       "      <th>4</th>\n",
       "      <td>std</td>\n",
       "      <td>front</td>\n",
       "      <td>0.391304</td>\n",
       "      <td>0.516807</td>\n",
       "      <td>ohc</td>\n",
       "      <td>0.3</td>\n",
       "      <td>0.366667</td>\n",
       "      <td>0.428571</td>\n",
       "      <td>17450.0</td>\n",
       "      <td>0</td>\n",
       "      <td>0</td>\n",
       "      <td>0.0</td>\n",
       "      <td>0.0</td>\n",
       "      <td>0.0</td>\n",
       "      <td>1.0</td>\n",
       "      <td>0.0</td>\n",
       "      <td>0.0</td>\n",
       "      <td>0.0</td>\n",
       "      <td>1</td>\n",
       "    </tr>\n",
       "    <tr>\n",
       "      <th>...</th>\n",
       "      <td>...</td>\n",
       "      <td>...</td>\n",
       "      <td>...</td>\n",
       "      <td>...</td>\n",
       "      <td>...</td>\n",
       "      <td>...</td>\n",
       "      <td>...</td>\n",
       "      <td>...</td>\n",
       "      <td>...</td>\n",
       "      <td>...</td>\n",
       "      <td>...</td>\n",
       "      <td>...</td>\n",
       "      <td>...</td>\n",
       "      <td>...</td>\n",
       "      <td>...</td>\n",
       "      <td>...</td>\n",
       "      <td>...</td>\n",
       "      <td>...</td>\n",
       "      <td>...</td>\n",
       "    </tr>\n",
       "    <tr>\n",
       "      <th>200</th>\n",
       "      <td>std</td>\n",
       "      <td>front</td>\n",
       "      <td>1.478261</td>\n",
       "      <td>0.763241</td>\n",
       "      <td>ohc</td>\n",
       "      <td>0.2</td>\n",
       "      <td>-0.466667</td>\n",
       "      <td>0.285714</td>\n",
       "      <td>16845.0</td>\n",
       "      <td>0</td>\n",
       "      <td>0</td>\n",
       "      <td>0.0</td>\n",
       "      <td>0.0</td>\n",
       "      <td>0.0</td>\n",
       "      <td>1.0</td>\n",
       "      <td>0.0</td>\n",
       "      <td>0.0</td>\n",
       "      <td>0.0</td>\n",
       "      <td>1</td>\n",
       "    </tr>\n",
       "    <tr>\n",
       "      <th>201</th>\n",
       "      <td>turbo</td>\n",
       "      <td>front</td>\n",
       "      <td>1.434783</td>\n",
       "      <td>0.949992</td>\n",
       "      <td>ohc</td>\n",
       "      <td>0.2</td>\n",
       "      <td>-0.466667</td>\n",
       "      <td>0.142857</td>\n",
       "      <td>19045.0</td>\n",
       "      <td>1</td>\n",
       "      <td>0</td>\n",
       "      <td>0.0</td>\n",
       "      <td>0.0</td>\n",
       "      <td>0.0</td>\n",
       "      <td>1.0</td>\n",
       "      <td>0.0</td>\n",
       "      <td>0.0</td>\n",
       "      <td>0.0</td>\n",
       "      <td>1</td>\n",
       "    </tr>\n",
       "    <tr>\n",
       "      <th>202</th>\n",
       "      <td>std</td>\n",
       "      <td>front</td>\n",
       "      <td>1.478261</td>\n",
       "      <td>0.878757</td>\n",
       "      <td>ohcv</td>\n",
       "      <td>0.4</td>\n",
       "      <td>-1.400000</td>\n",
       "      <td>0.428571</td>\n",
       "      <td>21485.0</td>\n",
       "      <td>0</td>\n",
       "      <td>0</td>\n",
       "      <td>0.0</td>\n",
       "      <td>0.0</td>\n",
       "      <td>0.0</td>\n",
       "      <td>0.0</td>\n",
       "      <td>0.0</td>\n",
       "      <td>1.0</td>\n",
       "      <td>0.0</td>\n",
       "      <td>1</td>\n",
       "    </tr>\n",
       "    <tr>\n",
       "      <th>203</th>\n",
       "      <td>turbo</td>\n",
       "      <td>front</td>\n",
       "      <td>1.478261</td>\n",
       "      <td>1.273437</td>\n",
       "      <td>ohc</td>\n",
       "      <td>0.4</td>\n",
       "      <td>0.366667</td>\n",
       "      <td>-0.571429</td>\n",
       "      <td>22470.0</td>\n",
       "      <td>1</td>\n",
       "      <td>0</td>\n",
       "      <td>0.0</td>\n",
       "      <td>0.0</td>\n",
       "      <td>0.0</td>\n",
       "      <td>1.0</td>\n",
       "      <td>0.0</td>\n",
       "      <td>0.0</td>\n",
       "      <td>0.0</td>\n",
       "      <td>1</td>\n",
       "    </tr>\n",
       "    <tr>\n",
       "      <th>204</th>\n",
       "      <td>turbo</td>\n",
       "      <td>front</td>\n",
       "      <td>1.478261</td>\n",
       "      <td>0.975021</td>\n",
       "      <td>ohc</td>\n",
       "      <td>0.2</td>\n",
       "      <td>-0.466667</td>\n",
       "      <td>0.285714</td>\n",
       "      <td>22625.0</td>\n",
       "      <td>1</td>\n",
       "      <td>0</td>\n",
       "      <td>0.0</td>\n",
       "      <td>0.0</td>\n",
       "      <td>0.0</td>\n",
       "      <td>1.0</td>\n",
       "      <td>0.0</td>\n",
       "      <td>0.0</td>\n",
       "      <td>0.0</td>\n",
       "      <td>1</td>\n",
       "    </tr>\n",
       "  </tbody>\n",
       "</table>\n",
       "<p>205 rows × 19 columns</p>\n",
       "</div>"
      ],
      "text/plain": [
       "    aspiration enginelocation  carwidth  curbweight enginetype  \\\n",
       "0          std          front -0.608696   -0.014566       dohc   \n",
       "1          std          front -0.608696   -0.014566       dohc   \n",
       "2          std          front  0.000000    0.514882       ohcv   \n",
       "3          std          front  0.168669   -0.420797        ohc   \n",
       "4          std          front  0.391304    0.516807        ohc   \n",
       "..         ...            ...       ...         ...        ...   \n",
       "200        std          front  1.478261    0.763241        ohc   \n",
       "201      turbo          front  1.434783    0.949992        ohc   \n",
       "202        std          front  1.478261    0.878757       ohcv   \n",
       "203      turbo          front  1.478261    1.273437        ohc   \n",
       "204      turbo          front  1.478261    0.975021        ohc   \n",
       "\n",
       "     cylindernumber    stroke   peakrpm    price  aspiration_encoded  \\\n",
       "0               0.2 -2.033333 -0.285714  13495.0                   0   \n",
       "1               0.2 -2.033333 -0.285714  16500.0                   0   \n",
       "2               0.4  0.600000 -0.285714  16500.0                   0   \n",
       "3               0.2  0.366667  0.428571  13950.0                   0   \n",
       "4               0.3  0.366667  0.428571  17450.0                   0   \n",
       "..              ...       ...       ...      ...                 ...   \n",
       "200             0.2 -0.466667  0.285714  16845.0                   0   \n",
       "201             0.2 -0.466667  0.142857  19045.0                   1   \n",
       "202             0.4 -1.400000  0.428571  21485.0                   0   \n",
       "203             0.4  0.366667 -0.571429  22470.0                   1   \n",
       "204             0.2 -0.466667  0.285714  22625.0                   1   \n",
       "\n",
       "     enginelocation_encoded  dohc_encoded  dohcv_encoded  l_encoded  \\\n",
       "0                         0           1.0            0.0        0.0   \n",
       "1                         0           1.0            0.0        0.0   \n",
       "2                         0           0.0            0.0        0.0   \n",
       "3                         0           0.0            0.0        0.0   \n",
       "4                         0           0.0            0.0        0.0   \n",
       "..                      ...           ...            ...        ...   \n",
       "200                       0           0.0            0.0        0.0   \n",
       "201                       0           0.0            0.0        0.0   \n",
       "202                       0           0.0            0.0        0.0   \n",
       "203                       0           0.0            0.0        0.0   \n",
       "204                       0           0.0            0.0        0.0   \n",
       "\n",
       "     ohc_encoded  ohcf_encoded  ohcv_encoded  rotor_encoded  price_cat  \n",
       "0            0.0           0.0           0.0            0.0          1  \n",
       "1            0.0           0.0           0.0            0.0          1  \n",
       "2            0.0           0.0           1.0            0.0          1  \n",
       "3            1.0           0.0           0.0            0.0          1  \n",
       "4            1.0           0.0           0.0            0.0          1  \n",
       "..           ...           ...           ...            ...        ...  \n",
       "200          1.0           0.0           0.0            0.0          1  \n",
       "201          1.0           0.0           0.0            0.0          1  \n",
       "202          0.0           0.0           1.0            0.0          1  \n",
       "203          1.0           0.0           0.0            0.0          1  \n",
       "204          1.0           0.0           0.0            0.0          1  \n",
       "\n",
       "[205 rows x 19 columns]"
      ]
     },
     "execution_count": 16,
     "metadata": {},
     "output_type": "execute_result"
    }
   ],
   "source": [
    "from sklearn.preprocessing import LabelEncoder\n",
    "le = LabelEncoder()\n",
    "cars_clean['price_cat'] = le.fit_transform(cars_clean['price_cat'])\n",
    "cars_clean"
   ]
  },
  {
   "cell_type": "markdown",
   "metadata": {},
   "source": [
    "## Modelling"
   ]
  },
  {
   "cell_type": "markdown",
   "metadata": {},
   "source": [
    "👇 Train and score two classification models: Logistic Regression and KNN."
   ]
  },
  {
   "cell_type": "code",
   "execution_count": 52,
   "metadata": {},
   "outputs": [
    {
     "data": {
      "text/plain": [
       "0.9193548387096774"
      ]
     },
     "execution_count": 52,
     "metadata": {},
     "output_type": "execute_result"
    }
   ],
   "source": [
    "from sklearn.linear_model import LogisticRegression\n",
    "from sklearn.model_selection import train_test_split\n",
    "log = LogisticRegression()\n",
    "features = ['curbweight', 'cylindernumber', 'enginelocation_encoded', 'ohc_encoded',  'ohcv_encoded']\n",
    "# features = ['carwidth', 'cylindernumber', 'enginelocation_encoded']\n",
    "target_name = 'price_cat'\n",
    "\n",
    "X = cars_clean[features]\n",
    "\n",
    "y = cars_clean[target_name]\n",
    "\n",
    "X_train, X_test, y_train, y_test = train_test_split(X, y, test_size=0.3)\n",
    "\n",
    "# #fit model\n",
    "log.fit(X_train, y_train)\n",
    "# # score mode\n",
    "log.score(X_test, y_test)\n"
   ]
  },
  {
   "cell_type": "code",
   "execution_count": 51,
   "metadata": {},
   "outputs": [
    {
     "data": {
      "text/plain": [
       "0.8709677419354839"
      ]
     },
     "execution_count": 51,
     "metadata": {},
     "output_type": "execute_result"
    }
   ],
   "source": [
    "from sklearn.neighbors import KNeighborsClassifier\n",
    "from sklearn.model_selection import train_test_split\n",
    "knn = KNeighborsClassifier()\n",
    "features = ['curbweight', 'cylindernumber', 'enginelocation_encoded', 'ohc_encoded',  'ohcv_encoded']\n",
    "target_name = 'price_cat'\n",
    "\n",
    "X = cars_clean[features]\n",
    "y = cars_clean[target_name]\n",
    "\n",
    "X_train, X_test, y_train, y_test = train_test_split(X, y, test_size=0.3)\n",
    "\n",
    "# #fit model\n",
    "knn.fit(X_train, y_train)\n",
    "# # score mode\n",
    "knn.score(X_test, y_test)"
   ]
  },
  {
   "cell_type": "markdown",
   "metadata": {},
   "source": [
    "❓ Which of the two models performs best?"
   ]
  },
  {
   "cell_type": "markdown",
   "metadata": {},
   "source": [
    "⚠️ Please push the exercice when completed. Thanks 🙃\n",
    "\n",
    "🏁"
   ]
  }
 ],
 "metadata": {
  "kernelspec": {
   "display_name": "Python 3",
   "language": "python",
   "name": "python3"
  },
  "language_info": {
   "codemirror_mode": {
    "name": "ipython",
    "version": 3
   },
   "file_extension": ".py",
   "mimetype": "text/x-python",
   "name": "python",
   "nbconvert_exporter": "python",
   "pygments_lexer": "ipython3",
   "version": "3.8.5"
  },
  "toc": {
   "base_numbering": 1,
   "nav_menu": {},
   "number_sections": true,
   "sideBar": true,
   "skip_h1_title": false,
   "title_cell": "Table of Contents",
   "title_sidebar": "Contents",
   "toc_cell": false,
   "toc_position": {},
   "toc_section_display": true,
   "toc_window_display": false
  },
  "varInspector": {
   "cols": {
    "lenName": 16,
    "lenType": 16,
    "lenVar": 40
   },
   "kernels_config": {
    "python": {
     "delete_cmd_postfix": "",
     "delete_cmd_prefix": "del ",
     "library": "var_list.py",
     "varRefreshCmd": "print(var_dic_list())"
    },
    "r": {
     "delete_cmd_postfix": ") ",
     "delete_cmd_prefix": "rm(",
     "library": "var_list.r",
     "varRefreshCmd": "cat(var_dic_list()) "
    }
   },
   "types_to_exclude": [
    "module",
    "function",
    "builtin_function_or_method",
    "instance",
    "_Feature"
   ],
   "window_display": false
  }
 },
 "nbformat": 4,
 "nbformat_minor": 4
}

{
 "cells": [
  {
   "cell_type": "markdown",
   "metadata": {},
   "source": [
    "# Instructions"
   ]
  },
  {
   "cell_type": "markdown",
   "metadata": {},
   "source": [
    "In this challenge, you'll try to predict the severity of car accidents, based on features collected from after-crash police investigation\n",
    "\n",
    "This [Kaggle challenge](https://www.kaggle.com/c/accident-severity) comprises of 1,000,000 accidents report, split into multiple `.csv` files.\n",
    "\n",
    "**The goal of the model is to predict the severity of car accidents**. The target variable is called `grav` (for 'gravity') in the file `users.csv`. This variable has four levels, but in this challenge, we'll convert it to a binary classification problem. We will:\n",
    "- Load data into pandas\n",
    "- Create a single DataFrame for our problem, where each row is a user involved in an accident\n",
    "- Extract the features you think would be relevant to predict its severity\n",
    "- Build a data pipeline that gives you a baseline model\n",
    "- Then, iterate on the different phase and try to get the best model! \n",
    "\n",
    "🔥 **Today is a special challenge** :\n",
    "- You will send your best score to your batch slack channel!\n",
    "- The winner will present its notebook to the class during the recap session at 5pm 💪"
   ]
  },
  {
   "cell_type": "markdown",
   "metadata": {},
   "source": [
    "---\n",
    "⚠️ **Good practices to follow for large exploratory notebooks**\n",
    "- Build your Notebook linearily so that it can always be run from top to bottom without any errors\n",
    "- Clean the outputs of your cells that are not needed\n",
    "- Clean your variables in memory when you don't need them (especially when they are very large). You can use the python built-in function `del`, or the the **Jupyter nbextentions** `variable_inspector`\n",
    "- Make heavy use of `table_of_content` and `collapsable_headings` "
   ]
  },
  {
   "cell_type": "markdown",
   "metadata": {},
   "source": [
    "# Data sourcing\n",
    "\n",
    "Let's get started! The data we want to use is from the `csv` files in `/data/data_training`"
   ]
  },
  {
   "cell_type": "markdown",
   "metadata": {},
   "source": [
    "## Loading data"
   ]
  },
  {
   "cell_type": "code",
   "execution_count": 1,
   "metadata": {
    "ExecuteTime": {
     "end_time": "2020-11-21T18:12:11.413743Z",
     "start_time": "2020-11-21T18:12:09.558888Z"
    }
   },
   "outputs": [],
   "source": [
    "import pandas as pd\n",
    "import numpy as np\n",
    "import matplotlib.pyplot as plt"
   ]
  },
  {
   "cell_type": "code",
   "execution_count": 2,
   "metadata": {
    "ExecuteTime": {
     "end_time": "2020-11-15T19:28:22.410980Z",
     "start_time": "2020-11-15T19:28:22.407547Z"
    }
   },
   "outputs": [],
   "source": [
    "# ! curl https://wagon-public-datasets.s3.amazonaws.com/car_acccidents_datasets.zip > data.zip\n",
    "# ! unzip data.zip -d data\n",
    "# ! rm -rf data.zip"
   ]
  },
  {
   "cell_type": "code",
   "execution_count": 2,
   "metadata": {
    "ExecuteTime": {
     "end_time": "2020-11-21T18:12:26.010054Z",
     "start_time": "2020-11-21T18:12:11.426718Z"
    },
    "scrolled": false
   },
   "outputs": [
    {
     "name": "stderr",
     "output_type": "stream",
     "text": [
      "/home/florent/.pyenv/versions/3.8.5/envs/lewagon/lib/python3.8/site-packages/IPython/core/interactiveshell.py:3145: DtypeWarning: Columns (15) have mixed types.Specify dtype option on import or set low_memory=False.\n",
      "  has_raised = await self.run_ast_nodes(code_ast.body, cell_name,\n"
     ]
    }
   ],
   "source": [
    "cara = pd.read_csv(\"data/data_training/caracteristics.csv\", encoding=\"ISO-8859-1\")\n",
    "users = pd.read_csv(\"data/data_training/users.csv\", encoding=\"ISO-8859-1\")\n",
    "places = pd.read_csv(\"data/data_training/places.csv\", encoding=\"ISO-8859-1\")\n",
    "vehicles = pd.read_csv(\"data/data_training/vehicles.csv\", encoding=\"ISO-8859-1\")"
   ]
  },
  {
   "cell_type": "markdown",
   "metadata": {},
   "source": [
    "❓ Explore the different tables, and the different variables using `challenge_variable.md`, which provides a description of features. More details can be found [here in French](https://www.data.gouv.fr/fr/datasets/r/8d4df329-bbbb-434c-9f1f-596d78ad529f) if needed, or in the [Kaggle](https://www.kaggle.com/ahmedlahlou/accidents-in-france-from-2005-to-2016/discussion) discussion channel. "
   ]
  },
  {
   "cell_type": "code",
   "execution_count": 4,
   "metadata": {
    "ExecuteTime": {
     "end_time": "2020-11-15T19:28:26.258786Z",
     "start_time": "2020-11-15T19:28:26.254833Z"
    }
   },
   "outputs": [],
   "source": [
    "# Your code below"
   ]
  },
  {
   "cell_type": "markdown",
   "metadata": {},
   "source": [
    "## Merge datasets"
   ]
  },
  {
   "cell_type": "markdown",
   "metadata": {},
   "source": [
    "❓ We will create one single dataset where each row should represent a `user` in a car, by merging the data from the different files dataset.  \n",
    "**Take some time to think about how you would do it yourself**, and only then, read carefully through the code below to understand exactly what we did"
   ]
  },
  {
   "cell_type": "code",
   "execution_count": 3,
   "metadata": {
    "ExecuteTime": {
     "end_time": "2020-11-21T18:12:29.562345Z",
     "start_time": "2020-11-21T18:12:26.147822Z"
    },
    "scrolled": false
   },
   "outputs": [],
   "source": [
    "# Merge caracteristics and places on 'Num_Acc'\n",
    "data = cara.merge(places, on='Num_Acc')"
   ]
  },
  {
   "cell_type": "code",
   "execution_count": 4,
   "metadata": {
    "ExecuteTime": {
     "end_time": "2020-11-21T18:12:41.820005Z",
     "start_time": "2020-11-21T18:12:30.283315Z"
    }
   },
   "outputs": [],
   "source": [
    "# Create a common key to merge users amd vehicles on\n",
    "users['Num_Acc_num_veh'] = users['Num_Acc'].map(lambda x: str(x)) + users['num_veh']\n",
    "vehicles['Num_Acc_num_veh'] = vehicles['Num_Acc'].map(lambda x: str(x)) + vehicles['num_veh']\n",
    "# Remove useless columns\n",
    "vehicles = vehicles.drop(columns=['index'])\n",
    "users = users.drop(columns=['index', 'Num_Acc', 'num_veh'])\n",
    "# Merge vehicles and users\n",
    "tmp = vehicles.merge(users, on='Num_Acc_num_veh', how='inner')"
   ]
  },
  {
   "cell_type": "code",
   "execution_count": 5,
   "metadata": {
    "ExecuteTime": {
     "end_time": "2020-11-21T18:12:53.717637Z",
     "start_time": "2020-11-21T18:12:42.162978Z"
    }
   },
   "outputs": [],
   "source": [
    "# Merge all datasets on 'Num_Acc'\n",
    "data = data.merge(tmp, on='Num_Acc', how='inner')\n",
    "del tmp"
   ]
  },
  {
   "cell_type": "code",
   "execution_count": 6,
   "metadata": {
    "ExecuteTime": {
     "end_time": "2020-11-21T18:12:54.541044Z",
     "start_time": "2020-11-21T18:12:54.535079Z"
    }
   },
   "outputs": [
    {
     "data": {
      "text/plain": [
       "(1209362, 54)"
      ]
     },
     "execution_count": 6,
     "metadata": {},
     "output_type": "execute_result"
    }
   ],
   "source": [
    "data.shape"
   ]
  },
  {
   "cell_type": "code",
   "execution_count": 16,
   "metadata": {
    "ExecuteTime": {
     "end_time": "2020-11-15T19:34:34.370833Z",
     "start_time": "2020-11-15T19:34:34.039839Z"
    }
   },
   "outputs": [
    {
     "data": {
      "text/html": [
       "<div>\n",
       "<style scoped>\n",
       "    .dataframe tbody tr th:only-of-type {\n",
       "        vertical-align: middle;\n",
       "    }\n",
       "\n",
       "    .dataframe tbody tr th {\n",
       "        vertical-align: top;\n",
       "    }\n",
       "\n",
       "    .dataframe thead th {\n",
       "        text-align: right;\n",
       "    }\n",
       "</style>\n",
       "<table border=\"1\" class=\"dataframe\">\n",
       "  <thead>\n",
       "    <tr style=\"text-align: right;\">\n",
       "      <th></th>\n",
       "      <th>index_x</th>\n",
       "      <th>Num_Acc</th>\n",
       "      <th>an</th>\n",
       "      <th>mois</th>\n",
       "      <th>jour</th>\n",
       "      <th>hrmn</th>\n",
       "      <th>lum</th>\n",
       "      <th>agg</th>\n",
       "      <th>int</th>\n",
       "      <th>atm</th>\n",
       "      <th>...</th>\n",
       "      <th>place</th>\n",
       "      <th>catu</th>\n",
       "      <th>grav</th>\n",
       "      <th>sexe</th>\n",
       "      <th>trajet</th>\n",
       "      <th>secu</th>\n",
       "      <th>locp</th>\n",
       "      <th>actp</th>\n",
       "      <th>etatp</th>\n",
       "      <th>an_nais</th>\n",
       "    </tr>\n",
       "  </thead>\n",
       "  <tbody>\n",
       "    <tr>\n",
       "      <th>0</th>\n",
       "      <td>300000</td>\n",
       "      <td>201100001414</td>\n",
       "      <td>11</td>\n",
       "      <td>11</td>\n",
       "      <td>4</td>\n",
       "      <td>130</td>\n",
       "      <td>3</td>\n",
       "      <td>2</td>\n",
       "      <td>1</td>\n",
       "      <td>1.0</td>\n",
       "      <td>...</td>\n",
       "      <td>1.0</td>\n",
       "      <td>1</td>\n",
       "      <td>3</td>\n",
       "      <td>1</td>\n",
       "      <td>5.0</td>\n",
       "      <td>21.0</td>\n",
       "      <td>0.0</td>\n",
       "      <td>0.0</td>\n",
       "      <td>0.0</td>\n",
       "      <td>1994.0</td>\n",
       "    </tr>\n",
       "    <tr>\n",
       "      <th>1</th>\n",
       "      <td>300000</td>\n",
       "      <td>201100001414</td>\n",
       "      <td>11</td>\n",
       "      <td>11</td>\n",
       "      <td>4</td>\n",
       "      <td>130</td>\n",
       "      <td>3</td>\n",
       "      <td>2</td>\n",
       "      <td>1</td>\n",
       "      <td>1.0</td>\n",
       "      <td>...</td>\n",
       "      <td>1.0</td>\n",
       "      <td>1</td>\n",
       "      <td>1</td>\n",
       "      <td>1</td>\n",
       "      <td>1.0</td>\n",
       "      <td>11.0</td>\n",
       "      <td>0.0</td>\n",
       "      <td>0.0</td>\n",
       "      <td>0.0</td>\n",
       "      <td>1967.0</td>\n",
       "    </tr>\n",
       "    <tr>\n",
       "      <th>2</th>\n",
       "      <td>300001</td>\n",
       "      <td>201100001415</td>\n",
       "      <td>11</td>\n",
       "      <td>1</td>\n",
       "      <td>16</td>\n",
       "      <td>1145</td>\n",
       "      <td>1</td>\n",
       "      <td>2</td>\n",
       "      <td>2</td>\n",
       "      <td>7.0</td>\n",
       "      <td>...</td>\n",
       "      <td>1.0</td>\n",
       "      <td>1</td>\n",
       "      <td>1</td>\n",
       "      <td>1</td>\n",
       "      <td>5.0</td>\n",
       "      <td>11.0</td>\n",
       "      <td>0.0</td>\n",
       "      <td>0.0</td>\n",
       "      <td>0.0</td>\n",
       "      <td>1956.0</td>\n",
       "    </tr>\n",
       "    <tr>\n",
       "      <th>3</th>\n",
       "      <td>300001</td>\n",
       "      <td>201100001415</td>\n",
       "      <td>11</td>\n",
       "      <td>1</td>\n",
       "      <td>16</td>\n",
       "      <td>1145</td>\n",
       "      <td>1</td>\n",
       "      <td>2</td>\n",
       "      <td>2</td>\n",
       "      <td>7.0</td>\n",
       "      <td>...</td>\n",
       "      <td>1.0</td>\n",
       "      <td>1</td>\n",
       "      <td>1</td>\n",
       "      <td>1</td>\n",
       "      <td>5.0</td>\n",
       "      <td>11.0</td>\n",
       "      <td>0.0</td>\n",
       "      <td>0.0</td>\n",
       "      <td>0.0</td>\n",
       "      <td>1948.0</td>\n",
       "    </tr>\n",
       "    <tr>\n",
       "      <th>4</th>\n",
       "      <td>300001</td>\n",
       "      <td>201100001415</td>\n",
       "      <td>11</td>\n",
       "      <td>1</td>\n",
       "      <td>16</td>\n",
       "      <td>1145</td>\n",
       "      <td>1</td>\n",
       "      <td>2</td>\n",
       "      <td>2</td>\n",
       "      <td>7.0</td>\n",
       "      <td>...</td>\n",
       "      <td>3.0</td>\n",
       "      <td>2</td>\n",
       "      <td>3</td>\n",
       "      <td>2</td>\n",
       "      <td>0.0</td>\n",
       "      <td>11.0</td>\n",
       "      <td>0.0</td>\n",
       "      <td>0.0</td>\n",
       "      <td>0.0</td>\n",
       "      <td>1950.0</td>\n",
       "    </tr>\n",
       "    <tr>\n",
       "      <th>...</th>\n",
       "      <td>...</td>\n",
       "      <td>...</td>\n",
       "      <td>...</td>\n",
       "      <td>...</td>\n",
       "      <td>...</td>\n",
       "      <td>...</td>\n",
       "      <td>...</td>\n",
       "      <td>...</td>\n",
       "      <td>...</td>\n",
       "      <td>...</td>\n",
       "      <td>...</td>\n",
       "      <td>...</td>\n",
       "      <td>...</td>\n",
       "      <td>...</td>\n",
       "      <td>...</td>\n",
       "      <td>...</td>\n",
       "      <td>...</td>\n",
       "      <td>...</td>\n",
       "      <td>...</td>\n",
       "      <td>...</td>\n",
       "      <td>...</td>\n",
       "    </tr>\n",
       "    <tr>\n",
       "      <th>1209357</th>\n",
       "      <td>839983</td>\n",
       "      <td>200500087953</td>\n",
       "      <td>5</td>\n",
       "      <td>12</td>\n",
       "      <td>27</td>\n",
       "      <td>1500</td>\n",
       "      <td>1</td>\n",
       "      <td>2</td>\n",
       "      <td>3</td>\n",
       "      <td>2.0</td>\n",
       "      <td>...</td>\n",
       "      <td>1.0</td>\n",
       "      <td>1</td>\n",
       "      <td>1</td>\n",
       "      <td>1</td>\n",
       "      <td>0.0</td>\n",
       "      <td>13.0</td>\n",
       "      <td>0.0</td>\n",
       "      <td>0.0</td>\n",
       "      <td>0.0</td>\n",
       "      <td>1972.0</td>\n",
       "    </tr>\n",
       "    <tr>\n",
       "      <th>1209358</th>\n",
       "      <td>839983</td>\n",
       "      <td>200500087953</td>\n",
       "      <td>5</td>\n",
       "      <td>12</td>\n",
       "      <td>27</td>\n",
       "      <td>1500</td>\n",
       "      <td>1</td>\n",
       "      <td>2</td>\n",
       "      <td>3</td>\n",
       "      <td>2.0</td>\n",
       "      <td>...</td>\n",
       "      <td>1.0</td>\n",
       "      <td>1</td>\n",
       "      <td>4</td>\n",
       "      <td>1</td>\n",
       "      <td>5.0</td>\n",
       "      <td>23.0</td>\n",
       "      <td>0.0</td>\n",
       "      <td>0.0</td>\n",
       "      <td>0.0</td>\n",
       "      <td>1990.0</td>\n",
       "    </tr>\n",
       "    <tr>\n",
       "      <th>1209359</th>\n",
       "      <td>839983</td>\n",
       "      <td>200500087953</td>\n",
       "      <td>5</td>\n",
       "      <td>12</td>\n",
       "      <td>27</td>\n",
       "      <td>1500</td>\n",
       "      <td>1</td>\n",
       "      <td>2</td>\n",
       "      <td>3</td>\n",
       "      <td>2.0</td>\n",
       "      <td>...</td>\n",
       "      <td>1.0</td>\n",
       "      <td>1</td>\n",
       "      <td>1</td>\n",
       "      <td>1</td>\n",
       "      <td>0.0</td>\n",
       "      <td>13.0</td>\n",
       "      <td>0.0</td>\n",
       "      <td>0.0</td>\n",
       "      <td>0.0</td>\n",
       "      <td>1965.0</td>\n",
       "    </tr>\n",
       "    <tr>\n",
       "      <th>1209360</th>\n",
       "      <td>839984</td>\n",
       "      <td>200500087954</td>\n",
       "      <td>5</td>\n",
       "      <td>12</td>\n",
       "      <td>31</td>\n",
       "      <td>2100</td>\n",
       "      <td>5</td>\n",
       "      <td>2</td>\n",
       "      <td>1</td>\n",
       "      <td>2.0</td>\n",
       "      <td>...</td>\n",
       "      <td>1.0</td>\n",
       "      <td>1</td>\n",
       "      <td>4</td>\n",
       "      <td>1</td>\n",
       "      <td>0.0</td>\n",
       "      <td>13.0</td>\n",
       "      <td>0.0</td>\n",
       "      <td>0.0</td>\n",
       "      <td>0.0</td>\n",
       "      <td>1951.0</td>\n",
       "    </tr>\n",
       "    <tr>\n",
       "      <th>1209361</th>\n",
       "      <td>839984</td>\n",
       "      <td>200500087954</td>\n",
       "      <td>5</td>\n",
       "      <td>12</td>\n",
       "      <td>31</td>\n",
       "      <td>2100</td>\n",
       "      <td>5</td>\n",
       "      <td>2</td>\n",
       "      <td>1</td>\n",
       "      <td>2.0</td>\n",
       "      <td>...</td>\n",
       "      <td>2.0</td>\n",
       "      <td>2</td>\n",
       "      <td>4</td>\n",
       "      <td>2</td>\n",
       "      <td>0.0</td>\n",
       "      <td>13.0</td>\n",
       "      <td>0.0</td>\n",
       "      <td>0.0</td>\n",
       "      <td>0.0</td>\n",
       "      <td>1946.0</td>\n",
       "    </tr>\n",
       "  </tbody>\n",
       "</table>\n",
       "<p>1209362 rows × 54 columns</p>\n",
       "</div>"
      ],
      "text/plain": [
       "         index_x       Num_Acc  an  mois  jour  hrmn  lum  agg  int  atm  ...  \\\n",
       "0         300000  201100001414  11    11     4   130    3    2    1  1.0  ...   \n",
       "1         300000  201100001414  11    11     4   130    3    2    1  1.0  ...   \n",
       "2         300001  201100001415  11     1    16  1145    1    2    2  7.0  ...   \n",
       "3         300001  201100001415  11     1    16  1145    1    2    2  7.0  ...   \n",
       "4         300001  201100001415  11     1    16  1145    1    2    2  7.0  ...   \n",
       "...          ...           ...  ..   ...   ...   ...  ...  ...  ...  ...  ...   \n",
       "1209357   839983  200500087953   5    12    27  1500    1    2    3  2.0  ...   \n",
       "1209358   839983  200500087953   5    12    27  1500    1    2    3  2.0  ...   \n",
       "1209359   839983  200500087953   5    12    27  1500    1    2    3  2.0  ...   \n",
       "1209360   839984  200500087954   5    12    31  2100    5    2    1  2.0  ...   \n",
       "1209361   839984  200500087954   5    12    31  2100    5    2    1  2.0  ...   \n",
       "\n",
       "         place  catu grav sexe  trajet  secu  locp  actp  etatp  an_nais  \n",
       "0          1.0     1    3    1     5.0  21.0   0.0   0.0    0.0   1994.0  \n",
       "1          1.0     1    1    1     1.0  11.0   0.0   0.0    0.0   1967.0  \n",
       "2          1.0     1    1    1     5.0  11.0   0.0   0.0    0.0   1956.0  \n",
       "3          1.0     1    1    1     5.0  11.0   0.0   0.0    0.0   1948.0  \n",
       "4          3.0     2    3    2     0.0  11.0   0.0   0.0    0.0   1950.0  \n",
       "...        ...   ...  ...  ...     ...   ...   ...   ...    ...      ...  \n",
       "1209357    1.0     1    1    1     0.0  13.0   0.0   0.0    0.0   1972.0  \n",
       "1209358    1.0     1    4    1     5.0  23.0   0.0   0.0    0.0   1990.0  \n",
       "1209359    1.0     1    1    1     0.0  13.0   0.0   0.0    0.0   1965.0  \n",
       "1209360    1.0     1    4    1     0.0  13.0   0.0   0.0    0.0   1951.0  \n",
       "1209361    2.0     2    4    2     0.0  13.0   0.0   0.0    0.0   1946.0  \n",
       "\n",
       "[1209362 rows x 54 columns]"
      ]
     },
     "execution_count": 16,
     "metadata": {},
     "output_type": "execute_result"
    }
   ],
   "source": [
    "data"
   ]
  },
  {
   "cell_type": "code",
   "execution_count": 7,
   "metadata": {
    "ExecuteTime": {
     "end_time": "2020-11-21T18:12:58.924630Z",
     "start_time": "2020-11-21T18:12:58.914240Z"
    }
   },
   "outputs": [
    {
     "data": {
      "text/plain": [
       "array([0., 1., 2.])"
      ]
     },
     "execution_count": 7,
     "metadata": {},
     "output_type": "execute_result"
    }
   ],
   "source": [
    "data['senc'].unique()"
   ]
  },
  {
   "cell_type": "markdown",
   "metadata": {},
   "source": [
    "# Preprocessing\n",
    "\n",
    "We will apply some preprocessing methods like standardization or missing values removal or imputing.\n",
    "Remember to look at `challenge_variable.md` for a description of features."
   ]
  },
  {
   "cell_type": "markdown",
   "metadata": {},
   "source": [
    "## Clean Dataset"
   ]
  },
  {
   "cell_type": "code",
   "execution_count": 8,
   "metadata": {
    "ExecuteTime": {
     "end_time": "2020-11-21T18:13:03.298725Z",
     "start_time": "2020-11-21T18:13:02.278071Z"
    }
   },
   "outputs": [],
   "source": [
    "# drop lines without targets (if any)\n",
    "data_cleaned = data[~np.isnan(data.grav)]"
   ]
  },
  {
   "cell_type": "code",
   "execution_count": 19,
   "metadata": {
    "ExecuteTime": {
     "end_time": "2020-11-15T19:34:36.318240Z",
     "start_time": "2020-11-15T19:34:35.970585Z"
    },
    "scrolled": true
   },
   "outputs": [
    {
     "data": {
      "text/plain": [
       "v2                 0.953958\n",
       "lat                0.632648\n",
       "long               0.632648\n",
       "gps                0.631134\n",
       "pr1                0.463472\n",
       "pr                 0.462609\n",
       "v1                 0.383683\n",
       "adr                0.184124\n",
       "voie               0.048149\n",
       "place              0.032898\n",
       "secu               0.011189\n",
       "lartpc             0.003175\n",
       "larrout            0.002416\n",
       "an_nais            0.001841\n",
       "nbv                0.001731\n",
       "vosp               0.001060\n",
       "actp               0.000882\n",
       "locp               0.000867\n",
       "etatp              0.000825\n",
       "infra              0.000662\n",
       "env1               0.000653\n",
       "plan               0.000445\n",
       "prof               0.000443\n",
       "surf               0.000427\n",
       "obs                0.000427\n",
       "circ               0.000392\n",
       "situ               0.000355\n",
       "obsm               0.000236\n",
       "trajet             0.000186\n",
       "manv               0.000106\n",
       "choc               0.000064\n",
       "atm                0.000039\n",
       "col                0.000017\n",
       "com                0.000005\n",
       "catr               0.000002\n",
       "hrmn               0.000000\n",
       "lum                0.000000\n",
       "agg                0.000000\n",
       "int                0.000000\n",
       "jour               0.000000\n",
       "mois               0.000000\n",
       "an                 0.000000\n",
       "Num_Acc            0.000000\n",
       "occutc             0.000000\n",
       "sexe               0.000000\n",
       "dep                0.000000\n",
       "index_y            0.000000\n",
       "catv               0.000000\n",
       "grav               0.000000\n",
       "catu               0.000000\n",
       "Num_Acc_num_veh    0.000000\n",
       "num_veh            0.000000\n",
       "senc               0.000000\n",
       "index_x            0.000000\n",
       "dtype: float64"
      ]
     },
     "execution_count": 19,
     "metadata": {},
     "output_type": "execute_result"
    }
   ],
   "source": [
    "# Check whih features with highest ratio of NaN per column\n",
    "(data_cleaned.isna().sum() / data_cleaned.shape[0]).sort_values(ascending=False)"
   ]
  },
  {
   "cell_type": "code",
   "execution_count": 9,
   "metadata": {
    "ExecuteTime": {
     "end_time": "2020-11-21T18:13:09.865153Z",
     "start_time": "2020-11-21T18:13:09.862094Z"
    }
   },
   "outputs": [],
   "source": [
    "# Remove too incomplete features\n",
    "too_incomplete_features=[\n",
    "    'locp', 'actp', 'etatp'\n",
    "]"
   ]
  },
  {
   "cell_type": "code",
   "execution_count": 10,
   "metadata": {
    "ExecuteTime": {
     "end_time": "2020-11-21T18:13:10.467100Z",
     "start_time": "2020-11-21T18:13:10.463816Z"
    }
   },
   "outputs": [],
   "source": [
    "# Remove features that can be safely considered useless\n",
    "# for the predictive power of our model upon reading the docs\n",
    "useless_features=[\n",
    "    'v2', 'lat', 'long', 'gps', 'pr1', 'pr', 'v1', 'adr', 'voie',\n",
    "    'index_x', 'Num_Acc', 'Num_Acc_num_veh', 'Num_Acc', 'num_veh', 'index_y',\n",
    "    'jour', 'an',\n",
    "    'dep', 'com', 'env1',\n",
    "]"
   ]
  },
  {
   "cell_type": "code",
   "execution_count": 11,
   "metadata": {
    "ExecuteTime": {
     "end_time": "2020-11-21T18:13:11.360600Z",
     "start_time": "2020-11-21T18:13:11.003896Z"
    }
   },
   "outputs": [],
   "source": [
    "data_cleaned.drop(columns=too_incomplete_features+useless_features, inplace=True)"
   ]
  },
  {
   "cell_type": "markdown",
   "metadata": {},
   "source": [
    "The secu feature seams extremely important. Let's handle this one specifically!"
   ]
  },
  {
   "cell_type": "code",
   "execution_count": 12,
   "metadata": {
    "ExecuteTime": {
     "end_time": "2020-11-21T18:13:16.552235Z",
     "start_time": "2020-11-21T18:13:14.935005Z"
    }
   },
   "outputs": [],
   "source": [
    "# Drop lines without 'secu'\n",
    "data_cleaned = data_cleaned[~np.isnan(data.secu)]\n",
    "# Only keep rows with \"secu\" number consisting of two digits\n",
    "data_cleaned = data_cleaned[data_cleaned.secu.map(lambda x: len(str(round(x)))) == 2]\n",
    "# Split as per feature description\n",
    "data_cleaned['safety_equipment'] = data_cleaned.secu.map(lambda x: str(round(x))[0])\n",
    "data_cleaned['is_safety_equipment'] = data_cleaned.secu.map(lambda x: str(round(x))[1])\n",
    "data_cleaned.drop(columns=['secu'], inplace=True)"
   ]
  },
  {
   "cell_type": "code",
   "execution_count": 13,
   "metadata": {
    "ExecuteTime": {
     "end_time": "2020-11-21T18:13:17.777887Z",
     "start_time": "2020-11-21T18:13:17.169495Z"
    },
    "scrolled": true
   },
   "outputs": [
    {
     "data": {
      "text/plain": [
       "(1125397, 33)"
      ]
     },
     "execution_count": 13,
     "metadata": {},
     "output_type": "execute_result"
    }
   ],
   "source": [
    "# Replace hrmn by hh only (minute granularity is considered useless)\n",
    "data_cleaned['hour_of_day'] = pd.Series(data_cleaned.hrmn.map(lambda x: str(x)[0:-2])).replace('', 0)\n",
    "data_cleaned.drop(columns=['hrmn'], inplace=True)\n",
    "data_cleaned.shape"
   ]
  },
  {
   "cell_type": "markdown",
   "metadata": {},
   "source": [
    "We now have a `data_cleaned` dataset! Let's now engineer our features as needed"
   ]
  },
  {
   "cell_type": "markdown",
   "metadata": {},
   "source": [
    "## Prepare features and target"
   ]
  },
  {
   "cell_type": "markdown",
   "metadata": {},
   "source": [
    "### Numerical features"
   ]
  },
  {
   "cell_type": "code",
   "execution_count": 14,
   "metadata": {
    "ExecuteTime": {
     "end_time": "2020-11-21T18:13:24.463859Z",
     "start_time": "2020-11-21T18:13:24.460641Z"
    }
   },
   "outputs": [],
   "source": [
    "features_numerical = ['nbv', 'senc', 'an_nais', 'occutc', 'lartpc', 'larrout']"
   ]
  },
  {
   "cell_type": "code",
   "execution_count": 15,
   "metadata": {
    "ExecuteTime": {
     "end_time": "2020-11-21T18:13:28.610876Z",
     "start_time": "2020-11-21T18:13:27.320985Z"
    }
   },
   "outputs": [],
   "source": [
    "from sklearn.impute import SimpleImputer\n",
    "from sklearn.compose import ColumnTransformer\n",
    "from sklearn.pipeline import Pipeline\n",
    "from sklearn.preprocessing import RobustScaler, StandardScaler"
   ]
  },
  {
   "cell_type": "code",
   "execution_count": 16,
   "metadata": {
    "ExecuteTime": {
     "end_time": "2020-11-21T18:13:29.219230Z",
     "start_time": "2020-11-21T18:13:29.214248Z"
    }
   },
   "outputs": [],
   "source": [
    "def preprocess_numerical_features(X):\n",
    "    '''\n",
    "    Returns a new DataFrame with\n",
    "    - Missing values replaced by Column Mean\n",
    "    - Features Standard Scaled\n",
    "    - Original Features names kept in the DataFrame\n",
    "    '''\n",
    "    df = X.copy()\n",
    "    col_names = df.columns\n",
    "    df = SimpleImputer(strategy='mean').fit_transform(df)\n",
    "    tmp = StandardScaler().fit_transform(df)\n",
    "    \n",
    "    return pd.DataFrame(tmp, columns=col_names)"
   ]
  },
  {
   "cell_type": "code",
   "execution_count": 17,
   "metadata": {
    "ExecuteTime": {
     "end_time": "2020-11-21T18:13:30.150317Z",
     "start_time": "2020-11-21T18:13:29.857561Z"
    },
    "scrolled": false
   },
   "outputs": [
    {
     "data": {
      "text/html": [
       "<div>\n",
       "<style scoped>\n",
       "    .dataframe tbody tr th:only-of-type {\n",
       "        vertical-align: middle;\n",
       "    }\n",
       "\n",
       "    .dataframe tbody tr th {\n",
       "        vertical-align: top;\n",
       "    }\n",
       "\n",
       "    .dataframe thead th {\n",
       "        text-align: right;\n",
       "    }\n",
       "</style>\n",
       "<table border=\"1\" class=\"dataframe\">\n",
       "  <thead>\n",
       "    <tr style=\"text-align: right;\">\n",
       "      <th></th>\n",
       "      <th>nbv</th>\n",
       "      <th>senc</th>\n",
       "      <th>an_nais</th>\n",
       "      <th>occutc</th>\n",
       "      <th>lartpc</th>\n",
       "      <th>larrout</th>\n",
       "    </tr>\n",
       "  </thead>\n",
       "  <tbody>\n",
       "    <tr>\n",
       "      <th>0</th>\n",
       "      <td>-0.062306</td>\n",
       "      <td>-0.066734</td>\n",
       "      <td>1.306320</td>\n",
       "      <td>-0.05353</td>\n",
       "      <td>-0.249076</td>\n",
       "      <td>-0.497964</td>\n",
       "    </tr>\n",
       "    <tr>\n",
       "      <th>1</th>\n",
       "      <td>-0.062306</td>\n",
       "      <td>-0.066734</td>\n",
       "      <td>-0.252250</td>\n",
       "      <td>-0.05353</td>\n",
       "      <td>-0.249076</td>\n",
       "      <td>-0.497964</td>\n",
       "    </tr>\n",
       "    <tr>\n",
       "      <th>2</th>\n",
       "      <td>-0.062306</td>\n",
       "      <td>-0.066734</td>\n",
       "      <td>-0.887223</td>\n",
       "      <td>-0.05353</td>\n",
       "      <td>-0.249076</td>\n",
       "      <td>-0.142971</td>\n",
       "    </tr>\n",
       "    <tr>\n",
       "      <th>3</th>\n",
       "      <td>-0.062306</td>\n",
       "      <td>-0.066734</td>\n",
       "      <td>-1.349022</td>\n",
       "      <td>-0.05353</td>\n",
       "      <td>-0.249076</td>\n",
       "      <td>-0.142971</td>\n",
       "    </tr>\n",
       "    <tr>\n",
       "      <th>4</th>\n",
       "      <td>-0.062306</td>\n",
       "      <td>-0.066734</td>\n",
       "      <td>-1.233572</td>\n",
       "      <td>-0.05353</td>\n",
       "      <td>-0.249076</td>\n",
       "      <td>-0.142971</td>\n",
       "    </tr>\n",
       "  </tbody>\n",
       "</table>\n",
       "</div>"
      ],
      "text/plain": [
       "        nbv      senc   an_nais   occutc    lartpc   larrout\n",
       "0 -0.062306 -0.066734  1.306320 -0.05353 -0.249076 -0.497964\n",
       "1 -0.062306 -0.066734 -0.252250 -0.05353 -0.249076 -0.497964\n",
       "2 -0.062306 -0.066734 -0.887223 -0.05353 -0.249076 -0.142971\n",
       "3 -0.062306 -0.066734 -1.349022 -0.05353 -0.249076 -0.142971\n",
       "4 -0.062306 -0.066734 -1.233572 -0.05353 -0.249076 -0.142971"
      ]
     },
     "execution_count": 17,
     "metadata": {},
     "output_type": "execute_result"
    }
   ],
   "source": [
    "# Check your code below\n",
    "preprocess_numerical_features(data_cleaned[features_numerical]).head()"
   ]
  },
  {
   "cell_type": "markdown",
   "metadata": {},
   "source": [
    "❓ Do you get a Warning \"A value is trying to be set on a copy of a slice from a DataFrame\"?\n",
    "If so, it may be because you are trying to modify the input DataFrame `data_cleaned`!\n",
    "\n",
    "Read this [important blog on copy vs. view](https://www.practicaldatascience.org/html/views_and_copies_in_pandas.html) of pandas DataFrame and try to solve your warning by yourself\n",
    "\n",
    "\n",
    "\n",
    "<details>\n",
    "    <summary>Hint</summary>\n",
    "\n",
    "`pd.DataFrame.copy()`\n",
    "</details>"
   ]
  },
  {
   "cell_type": "markdown",
   "metadata": {},
   "source": [
    "### Cyclical features"
   ]
  },
  {
   "cell_type": "code",
   "execution_count": 18,
   "metadata": {
    "ExecuteTime": {
     "end_time": "2020-11-21T18:13:34.298871Z",
     "start_time": "2020-11-21T18:13:34.295678Z"
    }
   },
   "outputs": [],
   "source": [
    "features_cyclical = ['hour_of_day', 'mois']"
   ]
  },
  {
   "cell_type": "code",
   "execution_count": 19,
   "metadata": {
    "ExecuteTime": {
     "end_time": "2020-11-21T18:13:35.036162Z",
     "start_time": "2020-11-21T18:13:35.029395Z"
    }
   },
   "outputs": [],
   "source": [
    "# YOUR CODE BELOW\n",
    "import math\n",
    "def preprocess_cyclical_features(X):\n",
    "    '''\n",
    "    Input: DataFrame X\n",
    "    Output: Returns new DataFrame, where all its features X_i have been replaced\n",
    "    by both their sin(X_i) and cos(X_i), and delete initial feature X_i.\n",
    "    '''\n",
    "    df = X.copy()\n",
    "    for feature in features_cyclical:\n",
    "        if feature == 'hour_of_day':\n",
    "            cycle = 24\n",
    "        if feature == 'mois':\n",
    "            cycle = 12\n",
    "        df[f'{feature}_sin'] = np.sin(2*math.pi / cycle * df[feature].astype('int'))\n",
    "        df[f'{feature}_cos'] = np.sin(2*math.pi / cycle * df[feature].astype('int'))\n",
    "        df.drop(columns=[feature], inplace=True)\n",
    "    return df"
   ]
  },
  {
   "cell_type": "code",
   "execution_count": 20,
   "metadata": {
    "ExecuteTime": {
     "end_time": "2020-11-21T18:13:36.105435Z",
     "start_time": "2020-11-21T18:13:35.765471Z"
    },
    "scrolled": false
   },
   "outputs": [
    {
     "data": {
      "text/html": [
       "<div>\n",
       "<style scoped>\n",
       "    .dataframe tbody tr th:only-of-type {\n",
       "        vertical-align: middle;\n",
       "    }\n",
       "\n",
       "    .dataframe tbody tr th {\n",
       "        vertical-align: top;\n",
       "    }\n",
       "\n",
       "    .dataframe thead th {\n",
       "        text-align: right;\n",
       "    }\n",
       "</style>\n",
       "<table border=\"1\" class=\"dataframe\">\n",
       "  <thead>\n",
       "    <tr style=\"text-align: right;\">\n",
       "      <th></th>\n",
       "      <th>hour_of_day_sin</th>\n",
       "      <th>hour_of_day_cos</th>\n",
       "      <th>mois_sin</th>\n",
       "      <th>mois_cos</th>\n",
       "    </tr>\n",
       "  </thead>\n",
       "  <tbody>\n",
       "    <tr>\n",
       "      <th>0</th>\n",
       "      <td>0.258819</td>\n",
       "      <td>0.258819</td>\n",
       "      <td>-0.5</td>\n",
       "      <td>-0.5</td>\n",
       "    </tr>\n",
       "    <tr>\n",
       "      <th>1</th>\n",
       "      <td>0.258819</td>\n",
       "      <td>0.258819</td>\n",
       "      <td>-0.5</td>\n",
       "      <td>-0.5</td>\n",
       "    </tr>\n",
       "    <tr>\n",
       "      <th>2</th>\n",
       "      <td>0.258819</td>\n",
       "      <td>0.258819</td>\n",
       "      <td>0.5</td>\n",
       "      <td>0.5</td>\n",
       "    </tr>\n",
       "    <tr>\n",
       "      <th>3</th>\n",
       "      <td>0.258819</td>\n",
       "      <td>0.258819</td>\n",
       "      <td>0.5</td>\n",
       "      <td>0.5</td>\n",
       "    </tr>\n",
       "    <tr>\n",
       "      <th>4</th>\n",
       "      <td>0.258819</td>\n",
       "      <td>0.258819</td>\n",
       "      <td>0.5</td>\n",
       "      <td>0.5</td>\n",
       "    </tr>\n",
       "  </tbody>\n",
       "</table>\n",
       "</div>"
      ],
      "text/plain": [
       "   hour_of_day_sin  hour_of_day_cos  mois_sin  mois_cos\n",
       "0         0.258819         0.258819      -0.5      -0.5\n",
       "1         0.258819         0.258819      -0.5      -0.5\n",
       "2         0.258819         0.258819       0.5       0.5\n",
       "3         0.258819         0.258819       0.5       0.5\n",
       "4         0.258819         0.258819       0.5       0.5"
      ]
     },
     "execution_count": 20,
     "metadata": {},
     "output_type": "execute_result"
    }
   ],
   "source": [
    "# Check your code below\n",
    "preprocess_cyclical_features(data_cleaned[features_cyclical]).head()"
   ]
  },
  {
   "cell_type": "markdown",
   "metadata": {},
   "source": [
    "\n",
    "### categorical features"
   ]
  },
  {
   "cell_type": "markdown",
   "metadata": {},
   "source": [
    "❓ Create the last group of feature (categorical features) without hardcoding them manually. Then, create the associated preprocessing method"
   ]
  },
  {
   "cell_type": "code",
   "execution_count": 21,
   "metadata": {
    "ExecuteTime": {
     "end_time": "2020-11-21T18:13:37.507061Z",
     "start_time": "2020-11-21T18:13:37.503205Z"
    }
   },
   "outputs": [],
   "source": [
    "features_categorical = list(set(data_cleaned.columns) - set(features_numerical) - set(features_cyclical) - {'grav'})"
   ]
  },
  {
   "cell_type": "code",
   "execution_count": 22,
   "metadata": {
    "ExecuteTime": {
     "end_time": "2020-11-21T18:13:38.305416Z",
     "start_time": "2020-11-21T18:13:38.300581Z"
    }
   },
   "outputs": [],
   "source": [
    "def preprocess_categorical_features(X):   \n",
    "    ''' Returns a new DataFrame with dummified columns'''\n",
    "    df = X.copy()\n",
    "    return pd.get_dummies(df.apply(lambda col: col.astype('category')))"
   ]
  },
  {
   "cell_type": "markdown",
   "metadata": {},
   "source": [
    "❓ Create the new `data_preprocessed` dataset by concatenating all three preprocessing, and then drop all remaining NaN that could not have been handled previously"
   ]
  },
  {
   "cell_type": "code",
   "execution_count": 23,
   "metadata": {
    "ExecuteTime": {
     "end_time": "2020-11-21T18:15:22.239488Z",
     "start_time": "2020-11-21T18:13:41.005882Z"
    }
   },
   "outputs": [
    {
     "data": {
      "text/plain": [
       "(1201511, 218)"
      ]
     },
     "execution_count": 23,
     "metadata": {},
     "output_type": "execute_result"
    }
   ],
   "source": [
    "# YOUR CODE BELOW\n",
    "data_preprocessed = pd.concat(\n",
    "    [\n",
    "        data_cleaned[['grav']],\n",
    "        preprocess_cyclical_features(data_cleaned[features_cyclical]),\n",
    "        preprocess_numerical_features(data_cleaned[features_numerical]),\n",
    "        preprocess_categorical_features(data_cleaned[features_categorical])\n",
    "    ], axis=1)\n",
    "data_preprocessed.shape"
   ]
  },
  {
   "cell_type": "code",
   "execution_count": 25,
   "metadata": {
    "ExecuteTime": {
     "end_time": "2020-11-21T18:15:51.172215Z",
     "start_time": "2020-11-21T18:15:51.134256Z"
    }
   },
   "outputs": [
    {
     "ename": "MemoryError",
     "evalue": "Unable to allocate 1.95 GiB for an array with shape (218, 1201511) and data type float64",
     "output_type": "error",
     "traceback": [
      "\u001b[0;31m---------------------------------------------------------------------------\u001b[0m",
      "\u001b[0;31mMemoryError\u001b[0m                               Traceback (most recent call last)",
      "\u001b[0;32m<ipython-input-25-14b025fb52ef>\u001b[0m in \u001b[0;36m<module>\u001b[0;34m\u001b[0m\n\u001b[1;32m      1\u001b[0m \u001b[0;31m# Drop all remaining NaN that could not have been handled previously\u001b[0m\u001b[0;34m\u001b[0m\u001b[0;34m\u001b[0m\u001b[0;34m\u001b[0m\u001b[0m\n\u001b[0;32m----> 2\u001b[0;31m \u001b[0mdata_preprocessed\u001b[0m\u001b[0;34m.\u001b[0m\u001b[0mdropna\u001b[0m\u001b[0;34m(\u001b[0m\u001b[0minplace\u001b[0m\u001b[0;34m=\u001b[0m\u001b[0;32mTrue\u001b[0m\u001b[0;34m)\u001b[0m\u001b[0;34m\u001b[0m\u001b[0;34m\u001b[0m\u001b[0m\n\u001b[0m\u001b[1;32m      3\u001b[0m \u001b[0mdata_preprocessed\u001b[0m\u001b[0;34m.\u001b[0m\u001b[0mshape\u001b[0m\u001b[0;34m\u001b[0m\u001b[0;34m\u001b[0m\u001b[0m\n",
      "\u001b[0;32m~/.pyenv/versions/3.8.5/envs/lewagon/lib/python3.8/site-packages/pandas/core/frame.py\u001b[0m in \u001b[0;36mdropna\u001b[0;34m(self, axis, how, thresh, subset, inplace)\u001b[0m\n\u001b[1;32m   5001\u001b[0m             \u001b[0magg_obj\u001b[0m \u001b[0;34m=\u001b[0m \u001b[0mself\u001b[0m\u001b[0;34m.\u001b[0m\u001b[0mtake\u001b[0m\u001b[0;34m(\u001b[0m\u001b[0mindices\u001b[0m\u001b[0;34m,\u001b[0m \u001b[0maxis\u001b[0m\u001b[0;34m=\u001b[0m\u001b[0magg_axis\u001b[0m\u001b[0;34m)\u001b[0m\u001b[0;34m\u001b[0m\u001b[0;34m\u001b[0m\u001b[0m\n\u001b[1;32m   5002\u001b[0m \u001b[0;34m\u001b[0m\u001b[0m\n\u001b[0;32m-> 5003\u001b[0;31m         \u001b[0mcount\u001b[0m \u001b[0;34m=\u001b[0m \u001b[0magg_obj\u001b[0m\u001b[0;34m.\u001b[0m\u001b[0mcount\u001b[0m\u001b[0;34m(\u001b[0m\u001b[0maxis\u001b[0m\u001b[0;34m=\u001b[0m\u001b[0magg_axis\u001b[0m\u001b[0;34m)\u001b[0m\u001b[0;34m\u001b[0m\u001b[0;34m\u001b[0m\u001b[0m\n\u001b[0m\u001b[1;32m   5004\u001b[0m \u001b[0;34m\u001b[0m\u001b[0m\n\u001b[1;32m   5005\u001b[0m         \u001b[0;32mif\u001b[0m \u001b[0mthresh\u001b[0m \u001b[0;32mis\u001b[0m \u001b[0;32mnot\u001b[0m \u001b[0;32mNone\u001b[0m\u001b[0;34m:\u001b[0m\u001b[0;34m\u001b[0m\u001b[0;34m\u001b[0m\u001b[0m\n",
      "\u001b[0;32m~/.pyenv/versions/3.8.5/envs/lewagon/lib/python3.8/site-packages/pandas/core/frame.py\u001b[0m in \u001b[0;36mcount\u001b[0;34m(self, axis, level, numeric_only)\u001b[0m\n\u001b[1;32m   8466\u001b[0m             \u001b[0mresult\u001b[0m \u001b[0;34m=\u001b[0m \u001b[0mself\u001b[0m\u001b[0;34m.\u001b[0m\u001b[0m_constructor_sliced\u001b[0m\u001b[0;34m(\u001b[0m\u001b[0;36m0\u001b[0m\u001b[0;34m,\u001b[0m \u001b[0mindex\u001b[0m\u001b[0;34m=\u001b[0m\u001b[0mframe\u001b[0m\u001b[0;34m.\u001b[0m\u001b[0m_get_agg_axis\u001b[0m\u001b[0;34m(\u001b[0m\u001b[0maxis\u001b[0m\u001b[0;34m)\u001b[0m\u001b[0;34m)\u001b[0m\u001b[0;34m\u001b[0m\u001b[0;34m\u001b[0m\u001b[0m\n\u001b[1;32m   8467\u001b[0m         \u001b[0;32melse\u001b[0m\u001b[0;34m:\u001b[0m\u001b[0;34m\u001b[0m\u001b[0;34m\u001b[0m\u001b[0m\n\u001b[0;32m-> 8468\u001b[0;31m             \u001b[0;32mif\u001b[0m \u001b[0mframe\u001b[0m\u001b[0;34m.\u001b[0m\u001b[0m_is_mixed_type\u001b[0m \u001b[0;32mor\u001b[0m \u001b[0mframe\u001b[0m\u001b[0;34m.\u001b[0m\u001b[0m_mgr\u001b[0m\u001b[0;34m.\u001b[0m\u001b[0many_extension_types\u001b[0m\u001b[0;34m:\u001b[0m\u001b[0;34m\u001b[0m\u001b[0;34m\u001b[0m\u001b[0m\n\u001b[0m\u001b[1;32m   8469\u001b[0m                 \u001b[0;31m# the or any_extension_types is really only hit for single-\u001b[0m\u001b[0;34m\u001b[0m\u001b[0;34m\u001b[0m\u001b[0;34m\u001b[0m\u001b[0m\n\u001b[1;32m   8470\u001b[0m                 \u001b[0;31m# column frames with an extension array\u001b[0m\u001b[0;34m\u001b[0m\u001b[0;34m\u001b[0m\u001b[0;34m\u001b[0m\u001b[0m\n",
      "\u001b[0;32m~/.pyenv/versions/3.8.5/envs/lewagon/lib/python3.8/site-packages/pandas/core/generic.py\u001b[0m in \u001b[0;36m_is_mixed_type\u001b[0;34m(self)\u001b[0m\n\u001b[1;32m   5239\u001b[0m     \u001b[0;32mdef\u001b[0m \u001b[0m_is_mixed_type\u001b[0m\u001b[0;34m(\u001b[0m\u001b[0mself\u001b[0m\u001b[0;34m)\u001b[0m \u001b[0;34m->\u001b[0m \u001b[0mbool_t\u001b[0m\u001b[0;34m:\u001b[0m\u001b[0;34m\u001b[0m\u001b[0;34m\u001b[0m\u001b[0m\n\u001b[1;32m   5240\u001b[0m         \u001b[0mf\u001b[0m \u001b[0;34m=\u001b[0m \u001b[0;32mlambda\u001b[0m\u001b[0;34m:\u001b[0m \u001b[0mself\u001b[0m\u001b[0;34m.\u001b[0m\u001b[0m_mgr\u001b[0m\u001b[0;34m.\u001b[0m\u001b[0mis_mixed_type\u001b[0m\u001b[0;34m\u001b[0m\u001b[0;34m\u001b[0m\u001b[0m\n\u001b[0;32m-> 5241\u001b[0;31m         \u001b[0;32mreturn\u001b[0m \u001b[0mself\u001b[0m\u001b[0;34m.\u001b[0m\u001b[0m_protect_consolidate\u001b[0m\u001b[0;34m(\u001b[0m\u001b[0mf\u001b[0m\u001b[0;34m)\u001b[0m\u001b[0;34m\u001b[0m\u001b[0;34m\u001b[0m\u001b[0m\n\u001b[0m\u001b[1;32m   5242\u001b[0m \u001b[0;34m\u001b[0m\u001b[0m\n\u001b[1;32m   5243\u001b[0m     \u001b[0;32mdef\u001b[0m \u001b[0m_check_inplace_setting\u001b[0m\u001b[0;34m(\u001b[0m\u001b[0mself\u001b[0m\u001b[0;34m,\u001b[0m \u001b[0mvalue\u001b[0m\u001b[0;34m)\u001b[0m \u001b[0;34m->\u001b[0m \u001b[0mbool_t\u001b[0m\u001b[0;34m:\u001b[0m\u001b[0;34m\u001b[0m\u001b[0;34m\u001b[0m\u001b[0m\n",
      "\u001b[0;32m~/.pyenv/versions/3.8.5/envs/lewagon/lib/python3.8/site-packages/pandas/core/generic.py\u001b[0m in \u001b[0;36m_protect_consolidate\u001b[0;34m(self, f)\u001b[0m\n\u001b[1;32m   5201\u001b[0m         \"\"\"\n\u001b[1;32m   5202\u001b[0m         \u001b[0mblocks_before\u001b[0m \u001b[0;34m=\u001b[0m \u001b[0mlen\u001b[0m\u001b[0;34m(\u001b[0m\u001b[0mself\u001b[0m\u001b[0;34m.\u001b[0m\u001b[0m_mgr\u001b[0m\u001b[0;34m.\u001b[0m\u001b[0mblocks\u001b[0m\u001b[0;34m)\u001b[0m\u001b[0;34m\u001b[0m\u001b[0;34m\u001b[0m\u001b[0m\n\u001b[0;32m-> 5203\u001b[0;31m         \u001b[0mresult\u001b[0m \u001b[0;34m=\u001b[0m \u001b[0mf\u001b[0m\u001b[0;34m(\u001b[0m\u001b[0;34m)\u001b[0m\u001b[0;34m\u001b[0m\u001b[0;34m\u001b[0m\u001b[0m\n\u001b[0m\u001b[1;32m   5204\u001b[0m         \u001b[0;32mif\u001b[0m \u001b[0mlen\u001b[0m\u001b[0;34m(\u001b[0m\u001b[0mself\u001b[0m\u001b[0;34m.\u001b[0m\u001b[0m_mgr\u001b[0m\u001b[0;34m.\u001b[0m\u001b[0mblocks\u001b[0m\u001b[0;34m)\u001b[0m \u001b[0;34m!=\u001b[0m \u001b[0mblocks_before\u001b[0m\u001b[0;34m:\u001b[0m\u001b[0;34m\u001b[0m\u001b[0;34m\u001b[0m\u001b[0m\n\u001b[1;32m   5205\u001b[0m             \u001b[0mself\u001b[0m\u001b[0;34m.\u001b[0m\u001b[0m_clear_item_cache\u001b[0m\u001b[0;34m(\u001b[0m\u001b[0;34m)\u001b[0m\u001b[0;34m\u001b[0m\u001b[0;34m\u001b[0m\u001b[0m\n",
      "\u001b[0;32m~/.pyenv/versions/3.8.5/envs/lewagon/lib/python3.8/site-packages/pandas/core/generic.py\u001b[0m in \u001b[0;36m<lambda>\u001b[0;34m()\u001b[0m\n\u001b[1;32m   5238\u001b[0m     \u001b[0;34m@\u001b[0m\u001b[0mproperty\u001b[0m\u001b[0;34m\u001b[0m\u001b[0;34m\u001b[0m\u001b[0m\n\u001b[1;32m   5239\u001b[0m     \u001b[0;32mdef\u001b[0m \u001b[0m_is_mixed_type\u001b[0m\u001b[0;34m(\u001b[0m\u001b[0mself\u001b[0m\u001b[0;34m)\u001b[0m \u001b[0;34m->\u001b[0m \u001b[0mbool_t\u001b[0m\u001b[0;34m:\u001b[0m\u001b[0;34m\u001b[0m\u001b[0;34m\u001b[0m\u001b[0m\n\u001b[0;32m-> 5240\u001b[0;31m         \u001b[0mf\u001b[0m \u001b[0;34m=\u001b[0m \u001b[0;32mlambda\u001b[0m\u001b[0;34m:\u001b[0m \u001b[0mself\u001b[0m\u001b[0;34m.\u001b[0m\u001b[0m_mgr\u001b[0m\u001b[0;34m.\u001b[0m\u001b[0mis_mixed_type\u001b[0m\u001b[0;34m\u001b[0m\u001b[0;34m\u001b[0m\u001b[0m\n\u001b[0m\u001b[1;32m   5241\u001b[0m         \u001b[0;32mreturn\u001b[0m \u001b[0mself\u001b[0m\u001b[0;34m.\u001b[0m\u001b[0m_protect_consolidate\u001b[0m\u001b[0;34m(\u001b[0m\u001b[0mf\u001b[0m\u001b[0;34m)\u001b[0m\u001b[0;34m\u001b[0m\u001b[0;34m\u001b[0m\u001b[0m\n\u001b[1;32m   5242\u001b[0m \u001b[0;34m\u001b[0m\u001b[0m\n",
      "\u001b[0;32m~/.pyenv/versions/3.8.5/envs/lewagon/lib/python3.8/site-packages/pandas/core/internals/managers.py\u001b[0m in \u001b[0;36mis_mixed_type\u001b[0;34m(self)\u001b[0m\n\u001b[1;32m    689\u001b[0m     \u001b[0;32mdef\u001b[0m \u001b[0mis_mixed_type\u001b[0m\u001b[0;34m(\u001b[0m\u001b[0mself\u001b[0m\u001b[0;34m)\u001b[0m \u001b[0;34m->\u001b[0m \u001b[0mbool\u001b[0m\u001b[0;34m:\u001b[0m\u001b[0;34m\u001b[0m\u001b[0;34m\u001b[0m\u001b[0m\n\u001b[1;32m    690\u001b[0m         \u001b[0;31m# Warning, consolidation needs to get checked upstairs\u001b[0m\u001b[0;34m\u001b[0m\u001b[0;34m\u001b[0m\u001b[0;34m\u001b[0m\u001b[0m\n\u001b[0;32m--> 691\u001b[0;31m         \u001b[0mself\u001b[0m\u001b[0;34m.\u001b[0m\u001b[0m_consolidate_inplace\u001b[0m\u001b[0;34m(\u001b[0m\u001b[0;34m)\u001b[0m\u001b[0;34m\u001b[0m\u001b[0;34m\u001b[0m\u001b[0m\n\u001b[0m\u001b[1;32m    692\u001b[0m         \u001b[0;32mreturn\u001b[0m \u001b[0mlen\u001b[0m\u001b[0;34m(\u001b[0m\u001b[0mself\u001b[0m\u001b[0;34m.\u001b[0m\u001b[0mblocks\u001b[0m\u001b[0;34m)\u001b[0m \u001b[0;34m>\u001b[0m \u001b[0;36m1\u001b[0m\u001b[0;34m\u001b[0m\u001b[0;34m\u001b[0m\u001b[0m\n\u001b[1;32m    693\u001b[0m \u001b[0;34m\u001b[0m\u001b[0m\n",
      "\u001b[0;32m~/.pyenv/versions/3.8.5/envs/lewagon/lib/python3.8/site-packages/pandas/core/internals/managers.py\u001b[0m in \u001b[0;36m_consolidate_inplace\u001b[0;34m(self)\u001b[0m\n\u001b[1;32m    977\u001b[0m     \u001b[0;32mdef\u001b[0m \u001b[0m_consolidate_inplace\u001b[0m\u001b[0;34m(\u001b[0m\u001b[0mself\u001b[0m\u001b[0;34m)\u001b[0m \u001b[0;34m->\u001b[0m \u001b[0;32mNone\u001b[0m\u001b[0;34m:\u001b[0m\u001b[0;34m\u001b[0m\u001b[0;34m\u001b[0m\u001b[0m\n\u001b[1;32m    978\u001b[0m         \u001b[0;32mif\u001b[0m \u001b[0;32mnot\u001b[0m \u001b[0mself\u001b[0m\u001b[0;34m.\u001b[0m\u001b[0mis_consolidated\u001b[0m\u001b[0;34m(\u001b[0m\u001b[0;34m)\u001b[0m\u001b[0;34m:\u001b[0m\u001b[0;34m\u001b[0m\u001b[0;34m\u001b[0m\u001b[0m\n\u001b[0;32m--> 979\u001b[0;31m             \u001b[0mself\u001b[0m\u001b[0;34m.\u001b[0m\u001b[0mblocks\u001b[0m \u001b[0;34m=\u001b[0m \u001b[0mtuple\u001b[0m\u001b[0;34m(\u001b[0m\u001b[0m_consolidate\u001b[0m\u001b[0;34m(\u001b[0m\u001b[0mself\u001b[0m\u001b[0;34m.\u001b[0m\u001b[0mblocks\u001b[0m\u001b[0;34m)\u001b[0m\u001b[0;34m)\u001b[0m\u001b[0;34m\u001b[0m\u001b[0;34m\u001b[0m\u001b[0m\n\u001b[0m\u001b[1;32m    980\u001b[0m             \u001b[0mself\u001b[0m\u001b[0;34m.\u001b[0m\u001b[0m_is_consolidated\u001b[0m \u001b[0;34m=\u001b[0m \u001b[0;32mTrue\u001b[0m\u001b[0;34m\u001b[0m\u001b[0;34m\u001b[0m\u001b[0m\n\u001b[1;32m    981\u001b[0m             \u001b[0mself\u001b[0m\u001b[0;34m.\u001b[0m\u001b[0m_known_consolidated\u001b[0m \u001b[0;34m=\u001b[0m \u001b[0;32mTrue\u001b[0m\u001b[0;34m\u001b[0m\u001b[0;34m\u001b[0m\u001b[0m\n",
      "\u001b[0;32m~/.pyenv/versions/3.8.5/envs/lewagon/lib/python3.8/site-packages/pandas/core/internals/managers.py\u001b[0m in \u001b[0;36m_consolidate\u001b[0;34m(blocks)\u001b[0m\n\u001b[1;32m   1897\u001b[0m     \u001b[0mnew_blocks\u001b[0m \u001b[0;34m=\u001b[0m \u001b[0;34m[\u001b[0m\u001b[0;34m]\u001b[0m\u001b[0;34m\u001b[0m\u001b[0;34m\u001b[0m\u001b[0m\n\u001b[1;32m   1898\u001b[0m     \u001b[0;32mfor\u001b[0m \u001b[0;34m(\u001b[0m\u001b[0m_can_consolidate\u001b[0m\u001b[0;34m,\u001b[0m \u001b[0mdtype\u001b[0m\u001b[0;34m)\u001b[0m\u001b[0;34m,\u001b[0m \u001b[0mgroup_blocks\u001b[0m \u001b[0;32min\u001b[0m \u001b[0mgrouper\u001b[0m\u001b[0;34m:\u001b[0m\u001b[0;34m\u001b[0m\u001b[0;34m\u001b[0m\u001b[0m\n\u001b[0;32m-> 1899\u001b[0;31m         merged_blocks = _merge_blocks(\n\u001b[0m\u001b[1;32m   1900\u001b[0m             \u001b[0mlist\u001b[0m\u001b[0;34m(\u001b[0m\u001b[0mgroup_blocks\u001b[0m\u001b[0;34m)\u001b[0m\u001b[0;34m,\u001b[0m \u001b[0mdtype\u001b[0m\u001b[0;34m=\u001b[0m\u001b[0mdtype\u001b[0m\u001b[0;34m,\u001b[0m \u001b[0mcan_consolidate\u001b[0m\u001b[0;34m=\u001b[0m\u001b[0m_can_consolidate\u001b[0m\u001b[0;34m\u001b[0m\u001b[0;34m\u001b[0m\u001b[0m\n\u001b[1;32m   1901\u001b[0m         )\n",
      "\u001b[0;32m~/.pyenv/versions/3.8.5/envs/lewagon/lib/python3.8/site-packages/pandas/core/internals/managers.py\u001b[0m in \u001b[0;36m_merge_blocks\u001b[0;34m(blocks, dtype, can_consolidate)\u001b[0m\n\u001b[1;32m   1920\u001b[0m         \u001b[0;31m# combination of those slices is a slice, too.\u001b[0m\u001b[0;34m\u001b[0m\u001b[0;34m\u001b[0m\u001b[0;34m\u001b[0m\u001b[0m\n\u001b[1;32m   1921\u001b[0m         \u001b[0mnew_mgr_locs\u001b[0m \u001b[0;34m=\u001b[0m \u001b[0mnp\u001b[0m\u001b[0;34m.\u001b[0m\u001b[0mconcatenate\u001b[0m\u001b[0;34m(\u001b[0m\u001b[0;34m[\u001b[0m\u001b[0mb\u001b[0m\u001b[0;34m.\u001b[0m\u001b[0mmgr_locs\u001b[0m\u001b[0;34m.\u001b[0m\u001b[0mas_array\u001b[0m \u001b[0;32mfor\u001b[0m \u001b[0mb\u001b[0m \u001b[0;32min\u001b[0m \u001b[0mblocks\u001b[0m\u001b[0;34m]\u001b[0m\u001b[0;34m)\u001b[0m\u001b[0;34m\u001b[0m\u001b[0;34m\u001b[0m\u001b[0m\n\u001b[0;32m-> 1922\u001b[0;31m         \u001b[0mnew_values\u001b[0m \u001b[0;34m=\u001b[0m \u001b[0mnp\u001b[0m\u001b[0;34m.\u001b[0m\u001b[0mvstack\u001b[0m\u001b[0;34m(\u001b[0m\u001b[0;34m[\u001b[0m\u001b[0mb\u001b[0m\u001b[0;34m.\u001b[0m\u001b[0mvalues\u001b[0m \u001b[0;32mfor\u001b[0m \u001b[0mb\u001b[0m \u001b[0;32min\u001b[0m \u001b[0mblocks\u001b[0m\u001b[0;34m]\u001b[0m\u001b[0;34m)\u001b[0m\u001b[0;34m\u001b[0m\u001b[0;34m\u001b[0m\u001b[0m\n\u001b[0m\u001b[1;32m   1923\u001b[0m \u001b[0;34m\u001b[0m\u001b[0m\n\u001b[1;32m   1924\u001b[0m         \u001b[0margsort\u001b[0m \u001b[0;34m=\u001b[0m \u001b[0mnp\u001b[0m\u001b[0;34m.\u001b[0m\u001b[0margsort\u001b[0m\u001b[0;34m(\u001b[0m\u001b[0mnew_mgr_locs\u001b[0m\u001b[0;34m)\u001b[0m\u001b[0;34m\u001b[0m\u001b[0;34m\u001b[0m\u001b[0m\n",
      "\u001b[0;32m<__array_function__ internals>\u001b[0m in \u001b[0;36mvstack\u001b[0;34m(*args, **kwargs)\u001b[0m\n",
      "\u001b[0;32m~/.pyenv/versions/3.8.5/envs/lewagon/lib/python3.8/site-packages/numpy/core/shape_base.py\u001b[0m in \u001b[0;36mvstack\u001b[0;34m(tup)\u001b[0m\n\u001b[1;32m    281\u001b[0m     \u001b[0;32mif\u001b[0m \u001b[0;32mnot\u001b[0m \u001b[0misinstance\u001b[0m\u001b[0;34m(\u001b[0m\u001b[0marrs\u001b[0m\u001b[0;34m,\u001b[0m \u001b[0mlist\u001b[0m\u001b[0;34m)\u001b[0m\u001b[0;34m:\u001b[0m\u001b[0;34m\u001b[0m\u001b[0;34m\u001b[0m\u001b[0m\n\u001b[1;32m    282\u001b[0m         \u001b[0marrs\u001b[0m \u001b[0;34m=\u001b[0m \u001b[0;34m[\u001b[0m\u001b[0marrs\u001b[0m\u001b[0;34m]\u001b[0m\u001b[0;34m\u001b[0m\u001b[0;34m\u001b[0m\u001b[0m\n\u001b[0;32m--> 283\u001b[0;31m     \u001b[0;32mreturn\u001b[0m \u001b[0m_nx\u001b[0m\u001b[0;34m.\u001b[0m\u001b[0mconcatenate\u001b[0m\u001b[0;34m(\u001b[0m\u001b[0marrs\u001b[0m\u001b[0;34m,\u001b[0m \u001b[0;36m0\u001b[0m\u001b[0;34m)\u001b[0m\u001b[0;34m\u001b[0m\u001b[0;34m\u001b[0m\u001b[0m\n\u001b[0m\u001b[1;32m    284\u001b[0m \u001b[0;34m\u001b[0m\u001b[0m\n\u001b[1;32m    285\u001b[0m \u001b[0;34m\u001b[0m\u001b[0m\n",
      "\u001b[0;32m<__array_function__ internals>\u001b[0m in \u001b[0;36mconcatenate\u001b[0;34m(*args, **kwargs)\u001b[0m\n",
      "\u001b[0;31mMemoryError\u001b[0m: Unable to allocate 1.95 GiB for an array with shape (218, 1201511) and data type float64"
     ]
    }
   ],
   "source": [
    "# Drop all remaining NaN that could not have been handled previously\n",
    "data_preprocessed.dropna(inplace=True)\n",
    "data_preprocessed.shape"
   ]
  },
  {
   "cell_type": "markdown",
   "metadata": {},
   "source": [
    "## Split Dataset\n",
    "❓ Create X and y, and don't forget to convert the classification into a binary task.\n",
    "\n",
    "For instance:\n",
    "\n",
    "```python\n",
    "data['grav_binary'] = data['grav'].replace({1: 0, 4: 0, 2: 1, 3: 1})\n",
    "```"
   ]
  },
  {
   "cell_type": "code",
   "execution_count": 38,
   "metadata": {
    "ExecuteTime": {
     "end_time": "2020-11-15T19:40:25.274976Z",
     "start_time": "2020-11-15T19:40:11.282414Z"
    }
   },
   "outputs": [
    {
     "ename": "MemoryError",
     "evalue": "Unable to allocate 1.95 GiB for an array with shape (218, 1201511) and data type float64",
     "output_type": "error",
     "traceback": [
      "\u001b[0;31m---------------------------------------------------------------------------\u001b[0m",
      "\u001b[0;31mMemoryError\u001b[0m                               Traceback (most recent call last)",
      "\u001b[0;32m<ipython-input-38-b8ece2bc8de3>\u001b[0m in \u001b[0;36m<module>\u001b[0;34m\u001b[0m\n\u001b[1;32m      1\u001b[0m \u001b[0;31m# Create X and y\u001b[0m\u001b[0;34m\u001b[0m\u001b[0;34m\u001b[0m\u001b[0;34m\u001b[0m\u001b[0m\n\u001b[0;32m----> 2\u001b[0;31m \u001b[0mX\u001b[0m \u001b[0;34m=\u001b[0m \u001b[0mdata_preprocessed\u001b[0m\u001b[0;34m.\u001b[0m\u001b[0mdrop\u001b[0m\u001b[0;34m(\u001b[0m\u001b[0mcolumns\u001b[0m\u001b[0;34m=\u001b[0m\u001b[0;34m[\u001b[0m\u001b[0;34m'grav'\u001b[0m\u001b[0;34m]\u001b[0m\u001b[0;34m)\u001b[0m\u001b[0;34m\u001b[0m\u001b[0;34m\u001b[0m\u001b[0m\n\u001b[0m\u001b[1;32m      3\u001b[0m \u001b[0my\u001b[0m \u001b[0;34m=\u001b[0m \u001b[0mdata_preprocessed\u001b[0m\u001b[0;34m[\u001b[0m\u001b[0;34m'grav'\u001b[0m\u001b[0;34m]\u001b[0m\u001b[0;34m.\u001b[0m\u001b[0mreplace\u001b[0m\u001b[0;34m(\u001b[0m\u001b[0;34m{\u001b[0m\u001b[0;36m1\u001b[0m\u001b[0;34m:\u001b[0m \u001b[0;36m0\u001b[0m\u001b[0;34m,\u001b[0m \u001b[0;36m4\u001b[0m\u001b[0;34m:\u001b[0m \u001b[0;36m0\u001b[0m\u001b[0;34m,\u001b[0m \u001b[0;36m2\u001b[0m\u001b[0;34m:\u001b[0m \u001b[0;36m1\u001b[0m\u001b[0;34m,\u001b[0m \u001b[0;36m3\u001b[0m\u001b[0;34m:\u001b[0m \u001b[0;36m1\u001b[0m\u001b[0;34m}\u001b[0m\u001b[0;34m)\u001b[0m\u001b[0;34m\u001b[0m\u001b[0;34m\u001b[0m\u001b[0m\n",
      "\u001b[0;32m~/.pyenv/versions/3.8.5/envs/lewagon/lib/python3.8/site-packages/pandas/core/frame.py\u001b[0m in \u001b[0;36mdrop\u001b[0;34m(self, labels, axis, index, columns, level, inplace, errors)\u001b[0m\n\u001b[1;32m   4161\u001b[0m                 \u001b[0mweight\u001b[0m  \u001b[0;36m1.0\u001b[0m     \u001b[0;36m0.8\u001b[0m\u001b[0;34m\u001b[0m\u001b[0;34m\u001b[0m\u001b[0m\n\u001b[1;32m   4162\u001b[0m         \"\"\"\n\u001b[0;32m-> 4163\u001b[0;31m         return super().drop(\n\u001b[0m\u001b[1;32m   4164\u001b[0m             \u001b[0mlabels\u001b[0m\u001b[0;34m=\u001b[0m\u001b[0mlabels\u001b[0m\u001b[0;34m,\u001b[0m\u001b[0;34m\u001b[0m\u001b[0;34m\u001b[0m\u001b[0m\n\u001b[1;32m   4165\u001b[0m             \u001b[0maxis\u001b[0m\u001b[0;34m=\u001b[0m\u001b[0maxis\u001b[0m\u001b[0;34m,\u001b[0m\u001b[0;34m\u001b[0m\u001b[0;34m\u001b[0m\u001b[0m\n",
      "\u001b[0;32m~/.pyenv/versions/3.8.5/envs/lewagon/lib/python3.8/site-packages/pandas/core/generic.py\u001b[0m in \u001b[0;36mdrop\u001b[0;34m(self, labels, axis, index, columns, level, inplace, errors)\u001b[0m\n\u001b[1;32m   3885\u001b[0m         \u001b[0;32mfor\u001b[0m \u001b[0maxis\u001b[0m\u001b[0;34m,\u001b[0m \u001b[0mlabels\u001b[0m \u001b[0;32min\u001b[0m \u001b[0maxes\u001b[0m\u001b[0;34m.\u001b[0m\u001b[0mitems\u001b[0m\u001b[0;34m(\u001b[0m\u001b[0;34m)\u001b[0m\u001b[0;34m:\u001b[0m\u001b[0;34m\u001b[0m\u001b[0;34m\u001b[0m\u001b[0m\n\u001b[1;32m   3886\u001b[0m             \u001b[0;32mif\u001b[0m \u001b[0mlabels\u001b[0m \u001b[0;32mis\u001b[0m \u001b[0;32mnot\u001b[0m \u001b[0;32mNone\u001b[0m\u001b[0;34m:\u001b[0m\u001b[0;34m\u001b[0m\u001b[0;34m\u001b[0m\u001b[0m\n\u001b[0;32m-> 3887\u001b[0;31m                 \u001b[0mobj\u001b[0m \u001b[0;34m=\u001b[0m \u001b[0mobj\u001b[0m\u001b[0;34m.\u001b[0m\u001b[0m_drop_axis\u001b[0m\u001b[0;34m(\u001b[0m\u001b[0mlabels\u001b[0m\u001b[0;34m,\u001b[0m \u001b[0maxis\u001b[0m\u001b[0;34m,\u001b[0m \u001b[0mlevel\u001b[0m\u001b[0;34m=\u001b[0m\u001b[0mlevel\u001b[0m\u001b[0;34m,\u001b[0m \u001b[0merrors\u001b[0m\u001b[0;34m=\u001b[0m\u001b[0merrors\u001b[0m\u001b[0;34m)\u001b[0m\u001b[0;34m\u001b[0m\u001b[0;34m\u001b[0m\u001b[0m\n\u001b[0m\u001b[1;32m   3888\u001b[0m \u001b[0;34m\u001b[0m\u001b[0m\n\u001b[1;32m   3889\u001b[0m         \u001b[0;32mif\u001b[0m \u001b[0minplace\u001b[0m\u001b[0;34m:\u001b[0m\u001b[0;34m\u001b[0m\u001b[0;34m\u001b[0m\u001b[0m\n",
      "\u001b[0;32m~/.pyenv/versions/3.8.5/envs/lewagon/lib/python3.8/site-packages/pandas/core/generic.py\u001b[0m in \u001b[0;36m_drop_axis\u001b[0;34m(self, labels, axis, level, errors)\u001b[0m\n\u001b[1;32m   3920\u001b[0m             \u001b[0;32melse\u001b[0m\u001b[0;34m:\u001b[0m\u001b[0;34m\u001b[0m\u001b[0;34m\u001b[0m\u001b[0m\n\u001b[1;32m   3921\u001b[0m                 \u001b[0mnew_axis\u001b[0m \u001b[0;34m=\u001b[0m \u001b[0maxis\u001b[0m\u001b[0;34m.\u001b[0m\u001b[0mdrop\u001b[0m\u001b[0;34m(\u001b[0m\u001b[0mlabels\u001b[0m\u001b[0;34m,\u001b[0m \u001b[0merrors\u001b[0m\u001b[0;34m=\u001b[0m\u001b[0merrors\u001b[0m\u001b[0;34m)\u001b[0m\u001b[0;34m\u001b[0m\u001b[0;34m\u001b[0m\u001b[0m\n\u001b[0;32m-> 3922\u001b[0;31m             \u001b[0mresult\u001b[0m \u001b[0;34m=\u001b[0m \u001b[0mself\u001b[0m\u001b[0;34m.\u001b[0m\u001b[0mreindex\u001b[0m\u001b[0;34m(\u001b[0m\u001b[0;34m**\u001b[0m\u001b[0;34m{\u001b[0m\u001b[0maxis_name\u001b[0m\u001b[0;34m:\u001b[0m \u001b[0mnew_axis\u001b[0m\u001b[0;34m}\u001b[0m\u001b[0;34m)\u001b[0m\u001b[0;34m\u001b[0m\u001b[0;34m\u001b[0m\u001b[0m\n\u001b[0m\u001b[1;32m   3923\u001b[0m \u001b[0;34m\u001b[0m\u001b[0m\n\u001b[1;32m   3924\u001b[0m         \u001b[0;31m# Case for non-unique axis\u001b[0m\u001b[0;34m\u001b[0m\u001b[0;34m\u001b[0m\u001b[0;34m\u001b[0m\u001b[0m\n",
      "\u001b[0;32m~/.pyenv/versions/3.8.5/envs/lewagon/lib/python3.8/site-packages/pandas/util/_decorators.py\u001b[0m in \u001b[0;36mwrapper\u001b[0;34m(*args, **kwargs)\u001b[0m\n\u001b[1;32m    307\u001b[0m         \u001b[0;34m@\u001b[0m\u001b[0mwraps\u001b[0m\u001b[0;34m(\u001b[0m\u001b[0mfunc\u001b[0m\u001b[0;34m)\u001b[0m\u001b[0;34m\u001b[0m\u001b[0;34m\u001b[0m\u001b[0m\n\u001b[1;32m    308\u001b[0m         \u001b[0;32mdef\u001b[0m \u001b[0mwrapper\u001b[0m\u001b[0;34m(\u001b[0m\u001b[0;34m*\u001b[0m\u001b[0margs\u001b[0m\u001b[0;34m,\u001b[0m \u001b[0;34m**\u001b[0m\u001b[0mkwargs\u001b[0m\u001b[0;34m)\u001b[0m \u001b[0;34m->\u001b[0m \u001b[0mCallable\u001b[0m\u001b[0;34m[\u001b[0m\u001b[0;34m...\u001b[0m\u001b[0;34m,\u001b[0m \u001b[0mAny\u001b[0m\u001b[0;34m]\u001b[0m\u001b[0;34m:\u001b[0m\u001b[0;34m\u001b[0m\u001b[0;34m\u001b[0m\u001b[0m\n\u001b[0;32m--> 309\u001b[0;31m             \u001b[0;32mreturn\u001b[0m \u001b[0mfunc\u001b[0m\u001b[0;34m(\u001b[0m\u001b[0;34m*\u001b[0m\u001b[0margs\u001b[0m\u001b[0;34m,\u001b[0m \u001b[0;34m**\u001b[0m\u001b[0mkwargs\u001b[0m\u001b[0;34m)\u001b[0m\u001b[0;34m\u001b[0m\u001b[0;34m\u001b[0m\u001b[0m\n\u001b[0m\u001b[1;32m    310\u001b[0m \u001b[0;34m\u001b[0m\u001b[0m\n\u001b[1;32m    311\u001b[0m         \u001b[0mkind\u001b[0m \u001b[0;34m=\u001b[0m \u001b[0minspect\u001b[0m\u001b[0;34m.\u001b[0m\u001b[0mParameter\u001b[0m\u001b[0;34m.\u001b[0m\u001b[0mPOSITIONAL_OR_KEYWORD\u001b[0m\u001b[0;34m\u001b[0m\u001b[0;34m\u001b[0m\u001b[0m\n",
      "\u001b[0;32m~/.pyenv/versions/3.8.5/envs/lewagon/lib/python3.8/site-packages/pandas/core/frame.py\u001b[0m in \u001b[0;36mreindex\u001b[0;34m(self, *args, **kwargs)\u001b[0m\n\u001b[1;32m   4030\u001b[0m         \u001b[0mkwargs\u001b[0m\u001b[0;34m.\u001b[0m\u001b[0mpop\u001b[0m\u001b[0;34m(\u001b[0m\u001b[0;34m\"axis\"\u001b[0m\u001b[0;34m,\u001b[0m \u001b[0;32mNone\u001b[0m\u001b[0;34m)\u001b[0m\u001b[0;34m\u001b[0m\u001b[0;34m\u001b[0m\u001b[0m\n\u001b[1;32m   4031\u001b[0m         \u001b[0mkwargs\u001b[0m\u001b[0;34m.\u001b[0m\u001b[0mpop\u001b[0m\u001b[0;34m(\u001b[0m\u001b[0;34m\"labels\"\u001b[0m\u001b[0;34m,\u001b[0m \u001b[0;32mNone\u001b[0m\u001b[0;34m)\u001b[0m\u001b[0;34m\u001b[0m\u001b[0;34m\u001b[0m\u001b[0m\n\u001b[0;32m-> 4032\u001b[0;31m         \u001b[0;32mreturn\u001b[0m \u001b[0msuper\u001b[0m\u001b[0;34m(\u001b[0m\u001b[0;34m)\u001b[0m\u001b[0;34m.\u001b[0m\u001b[0mreindex\u001b[0m\u001b[0;34m(\u001b[0m\u001b[0;34m**\u001b[0m\u001b[0mkwargs\u001b[0m\u001b[0;34m)\u001b[0m\u001b[0;34m\u001b[0m\u001b[0;34m\u001b[0m\u001b[0m\n\u001b[0m\u001b[1;32m   4033\u001b[0m \u001b[0;34m\u001b[0m\u001b[0m\n\u001b[1;32m   4034\u001b[0m     def drop(\n",
      "\u001b[0;32m~/.pyenv/versions/3.8.5/envs/lewagon/lib/python3.8/site-packages/pandas/core/generic.py\u001b[0m in \u001b[0;36mreindex\u001b[0;34m(self, *args, **kwargs)\u001b[0m\n\u001b[1;32m   4441\u001b[0m             )\n\u001b[1;32m   4442\u001b[0m \u001b[0;34m\u001b[0m\u001b[0m\n\u001b[0;32m-> 4443\u001b[0;31m         \u001b[0mself\u001b[0m\u001b[0;34m.\u001b[0m\u001b[0m_consolidate_inplace\u001b[0m\u001b[0;34m(\u001b[0m\u001b[0;34m)\u001b[0m\u001b[0;34m\u001b[0m\u001b[0;34m\u001b[0m\u001b[0m\n\u001b[0m\u001b[1;32m   4444\u001b[0m \u001b[0;34m\u001b[0m\u001b[0m\n\u001b[1;32m   4445\u001b[0m         \u001b[0;31m# if all axes that are requested to reindex are equal, then only copy\u001b[0m\u001b[0;34m\u001b[0m\u001b[0;34m\u001b[0m\u001b[0;34m\u001b[0m\u001b[0m\n",
      "\u001b[0;32m~/.pyenv/versions/3.8.5/envs/lewagon/lib/python3.8/site-packages/pandas/core/generic.py\u001b[0m in \u001b[0;36m_consolidate_inplace\u001b[0;34m(self)\u001b[0m\n\u001b[1;32m   5212\u001b[0m             \u001b[0mself\u001b[0m\u001b[0;34m.\u001b[0m\u001b[0m_mgr\u001b[0m \u001b[0;34m=\u001b[0m \u001b[0mself\u001b[0m\u001b[0;34m.\u001b[0m\u001b[0m_mgr\u001b[0m\u001b[0;34m.\u001b[0m\u001b[0mconsolidate\u001b[0m\u001b[0;34m(\u001b[0m\u001b[0;34m)\u001b[0m\u001b[0;34m\u001b[0m\u001b[0;34m\u001b[0m\u001b[0m\n\u001b[1;32m   5213\u001b[0m \u001b[0;34m\u001b[0m\u001b[0m\n\u001b[0;32m-> 5214\u001b[0;31m         \u001b[0mself\u001b[0m\u001b[0;34m.\u001b[0m\u001b[0m_protect_consolidate\u001b[0m\u001b[0;34m(\u001b[0m\u001b[0mf\u001b[0m\u001b[0;34m)\u001b[0m\u001b[0;34m\u001b[0m\u001b[0;34m\u001b[0m\u001b[0m\n\u001b[0m\u001b[1;32m   5215\u001b[0m \u001b[0;34m\u001b[0m\u001b[0m\n\u001b[1;32m   5216\u001b[0m     \u001b[0;32mdef\u001b[0m \u001b[0m_consolidate\u001b[0m\u001b[0;34m(\u001b[0m\u001b[0mself\u001b[0m\u001b[0;34m,\u001b[0m \u001b[0minplace\u001b[0m\u001b[0;34m:\u001b[0m \u001b[0mbool_t\u001b[0m \u001b[0;34m=\u001b[0m \u001b[0;32mFalse\u001b[0m\u001b[0;34m)\u001b[0m\u001b[0;34m:\u001b[0m\u001b[0;34m\u001b[0m\u001b[0;34m\u001b[0m\u001b[0m\n",
      "\u001b[0;32m~/.pyenv/versions/3.8.5/envs/lewagon/lib/python3.8/site-packages/pandas/core/generic.py\u001b[0m in \u001b[0;36m_protect_consolidate\u001b[0;34m(self, f)\u001b[0m\n\u001b[1;32m   5201\u001b[0m         \"\"\"\n\u001b[1;32m   5202\u001b[0m         \u001b[0mblocks_before\u001b[0m \u001b[0;34m=\u001b[0m \u001b[0mlen\u001b[0m\u001b[0;34m(\u001b[0m\u001b[0mself\u001b[0m\u001b[0;34m.\u001b[0m\u001b[0m_mgr\u001b[0m\u001b[0;34m.\u001b[0m\u001b[0mblocks\u001b[0m\u001b[0;34m)\u001b[0m\u001b[0;34m\u001b[0m\u001b[0;34m\u001b[0m\u001b[0m\n\u001b[0;32m-> 5203\u001b[0;31m         \u001b[0mresult\u001b[0m \u001b[0;34m=\u001b[0m \u001b[0mf\u001b[0m\u001b[0;34m(\u001b[0m\u001b[0;34m)\u001b[0m\u001b[0;34m\u001b[0m\u001b[0;34m\u001b[0m\u001b[0m\n\u001b[0m\u001b[1;32m   5204\u001b[0m         \u001b[0;32mif\u001b[0m \u001b[0mlen\u001b[0m\u001b[0;34m(\u001b[0m\u001b[0mself\u001b[0m\u001b[0;34m.\u001b[0m\u001b[0m_mgr\u001b[0m\u001b[0;34m.\u001b[0m\u001b[0mblocks\u001b[0m\u001b[0;34m)\u001b[0m \u001b[0;34m!=\u001b[0m \u001b[0mblocks_before\u001b[0m\u001b[0;34m:\u001b[0m\u001b[0;34m\u001b[0m\u001b[0;34m\u001b[0m\u001b[0m\n\u001b[1;32m   5205\u001b[0m             \u001b[0mself\u001b[0m\u001b[0;34m.\u001b[0m\u001b[0m_clear_item_cache\u001b[0m\u001b[0;34m(\u001b[0m\u001b[0;34m)\u001b[0m\u001b[0;34m\u001b[0m\u001b[0;34m\u001b[0m\u001b[0m\n",
      "\u001b[0;32m~/.pyenv/versions/3.8.5/envs/lewagon/lib/python3.8/site-packages/pandas/core/generic.py\u001b[0m in \u001b[0;36mf\u001b[0;34m()\u001b[0m\n\u001b[1;32m   5210\u001b[0m \u001b[0;34m\u001b[0m\u001b[0m\n\u001b[1;32m   5211\u001b[0m         \u001b[0;32mdef\u001b[0m \u001b[0mf\u001b[0m\u001b[0;34m(\u001b[0m\u001b[0;34m)\u001b[0m\u001b[0;34m:\u001b[0m\u001b[0;34m\u001b[0m\u001b[0;34m\u001b[0m\u001b[0m\n\u001b[0;32m-> 5212\u001b[0;31m             \u001b[0mself\u001b[0m\u001b[0;34m.\u001b[0m\u001b[0m_mgr\u001b[0m \u001b[0;34m=\u001b[0m \u001b[0mself\u001b[0m\u001b[0;34m.\u001b[0m\u001b[0m_mgr\u001b[0m\u001b[0;34m.\u001b[0m\u001b[0mconsolidate\u001b[0m\u001b[0;34m(\u001b[0m\u001b[0;34m)\u001b[0m\u001b[0;34m\u001b[0m\u001b[0;34m\u001b[0m\u001b[0m\n\u001b[0m\u001b[1;32m   5213\u001b[0m \u001b[0;34m\u001b[0m\u001b[0m\n\u001b[1;32m   5214\u001b[0m         \u001b[0mself\u001b[0m\u001b[0;34m.\u001b[0m\u001b[0m_protect_consolidate\u001b[0m\u001b[0;34m(\u001b[0m\u001b[0mf\u001b[0m\u001b[0;34m)\u001b[0m\u001b[0;34m\u001b[0m\u001b[0;34m\u001b[0m\u001b[0m\n",
      "\u001b[0;32m~/.pyenv/versions/3.8.5/envs/lewagon/lib/python3.8/site-packages/pandas/core/internals/managers.py\u001b[0m in \u001b[0;36mconsolidate\u001b[0;34m(self)\u001b[0m\n\u001b[1;32m    972\u001b[0m         \u001b[0mbm\u001b[0m \u001b[0;34m=\u001b[0m \u001b[0mtype\u001b[0m\u001b[0;34m(\u001b[0m\u001b[0mself\u001b[0m\u001b[0;34m)\u001b[0m\u001b[0;34m(\u001b[0m\u001b[0mself\u001b[0m\u001b[0;34m.\u001b[0m\u001b[0mblocks\u001b[0m\u001b[0;34m,\u001b[0m \u001b[0mself\u001b[0m\u001b[0;34m.\u001b[0m\u001b[0maxes\u001b[0m\u001b[0;34m)\u001b[0m\u001b[0;34m\u001b[0m\u001b[0;34m\u001b[0m\u001b[0m\n\u001b[1;32m    973\u001b[0m         \u001b[0mbm\u001b[0m\u001b[0;34m.\u001b[0m\u001b[0m_is_consolidated\u001b[0m \u001b[0;34m=\u001b[0m \u001b[0;32mFalse\u001b[0m\u001b[0;34m\u001b[0m\u001b[0;34m\u001b[0m\u001b[0m\n\u001b[0;32m--> 974\u001b[0;31m         \u001b[0mbm\u001b[0m\u001b[0;34m.\u001b[0m\u001b[0m_consolidate_inplace\u001b[0m\u001b[0;34m(\u001b[0m\u001b[0;34m)\u001b[0m\u001b[0;34m\u001b[0m\u001b[0;34m\u001b[0m\u001b[0m\n\u001b[0m\u001b[1;32m    975\u001b[0m         \u001b[0;32mreturn\u001b[0m \u001b[0mbm\u001b[0m\u001b[0;34m\u001b[0m\u001b[0;34m\u001b[0m\u001b[0m\n\u001b[1;32m    976\u001b[0m \u001b[0;34m\u001b[0m\u001b[0m\n",
      "\u001b[0;32m~/.pyenv/versions/3.8.5/envs/lewagon/lib/python3.8/site-packages/pandas/core/internals/managers.py\u001b[0m in \u001b[0;36m_consolidate_inplace\u001b[0;34m(self)\u001b[0m\n\u001b[1;32m    977\u001b[0m     \u001b[0;32mdef\u001b[0m \u001b[0m_consolidate_inplace\u001b[0m\u001b[0;34m(\u001b[0m\u001b[0mself\u001b[0m\u001b[0;34m)\u001b[0m \u001b[0;34m->\u001b[0m \u001b[0;32mNone\u001b[0m\u001b[0;34m:\u001b[0m\u001b[0;34m\u001b[0m\u001b[0;34m\u001b[0m\u001b[0m\n\u001b[1;32m    978\u001b[0m         \u001b[0;32mif\u001b[0m \u001b[0;32mnot\u001b[0m \u001b[0mself\u001b[0m\u001b[0;34m.\u001b[0m\u001b[0mis_consolidated\u001b[0m\u001b[0;34m(\u001b[0m\u001b[0;34m)\u001b[0m\u001b[0;34m:\u001b[0m\u001b[0;34m\u001b[0m\u001b[0;34m\u001b[0m\u001b[0m\n\u001b[0;32m--> 979\u001b[0;31m             \u001b[0mself\u001b[0m\u001b[0;34m.\u001b[0m\u001b[0mblocks\u001b[0m \u001b[0;34m=\u001b[0m \u001b[0mtuple\u001b[0m\u001b[0;34m(\u001b[0m\u001b[0m_consolidate\u001b[0m\u001b[0;34m(\u001b[0m\u001b[0mself\u001b[0m\u001b[0;34m.\u001b[0m\u001b[0mblocks\u001b[0m\u001b[0;34m)\u001b[0m\u001b[0;34m)\u001b[0m\u001b[0;34m\u001b[0m\u001b[0;34m\u001b[0m\u001b[0m\n\u001b[0m\u001b[1;32m    980\u001b[0m             \u001b[0mself\u001b[0m\u001b[0;34m.\u001b[0m\u001b[0m_is_consolidated\u001b[0m \u001b[0;34m=\u001b[0m \u001b[0;32mTrue\u001b[0m\u001b[0;34m\u001b[0m\u001b[0;34m\u001b[0m\u001b[0m\n\u001b[1;32m    981\u001b[0m             \u001b[0mself\u001b[0m\u001b[0;34m.\u001b[0m\u001b[0m_known_consolidated\u001b[0m \u001b[0;34m=\u001b[0m \u001b[0;32mTrue\u001b[0m\u001b[0;34m\u001b[0m\u001b[0;34m\u001b[0m\u001b[0m\n",
      "\u001b[0;32m~/.pyenv/versions/3.8.5/envs/lewagon/lib/python3.8/site-packages/pandas/core/internals/managers.py\u001b[0m in \u001b[0;36m_consolidate\u001b[0;34m(blocks)\u001b[0m\n\u001b[1;32m   1897\u001b[0m     \u001b[0mnew_blocks\u001b[0m \u001b[0;34m=\u001b[0m \u001b[0;34m[\u001b[0m\u001b[0;34m]\u001b[0m\u001b[0;34m\u001b[0m\u001b[0;34m\u001b[0m\u001b[0m\n\u001b[1;32m   1898\u001b[0m     \u001b[0;32mfor\u001b[0m \u001b[0;34m(\u001b[0m\u001b[0m_can_consolidate\u001b[0m\u001b[0;34m,\u001b[0m \u001b[0mdtype\u001b[0m\u001b[0;34m)\u001b[0m\u001b[0;34m,\u001b[0m \u001b[0mgroup_blocks\u001b[0m \u001b[0;32min\u001b[0m \u001b[0mgrouper\u001b[0m\u001b[0;34m:\u001b[0m\u001b[0;34m\u001b[0m\u001b[0;34m\u001b[0m\u001b[0m\n\u001b[0;32m-> 1899\u001b[0;31m         merged_blocks = _merge_blocks(\n\u001b[0m\u001b[1;32m   1900\u001b[0m             \u001b[0mlist\u001b[0m\u001b[0;34m(\u001b[0m\u001b[0mgroup_blocks\u001b[0m\u001b[0;34m)\u001b[0m\u001b[0;34m,\u001b[0m \u001b[0mdtype\u001b[0m\u001b[0;34m=\u001b[0m\u001b[0mdtype\u001b[0m\u001b[0;34m,\u001b[0m \u001b[0mcan_consolidate\u001b[0m\u001b[0;34m=\u001b[0m\u001b[0m_can_consolidate\u001b[0m\u001b[0;34m\u001b[0m\u001b[0;34m\u001b[0m\u001b[0m\n\u001b[1;32m   1901\u001b[0m         )\n",
      "\u001b[0;32m~/.pyenv/versions/3.8.5/envs/lewagon/lib/python3.8/site-packages/pandas/core/internals/managers.py\u001b[0m in \u001b[0;36m_merge_blocks\u001b[0;34m(blocks, dtype, can_consolidate)\u001b[0m\n\u001b[1;32m   1923\u001b[0m \u001b[0;34m\u001b[0m\u001b[0m\n\u001b[1;32m   1924\u001b[0m         \u001b[0margsort\u001b[0m \u001b[0;34m=\u001b[0m \u001b[0mnp\u001b[0m\u001b[0;34m.\u001b[0m\u001b[0margsort\u001b[0m\u001b[0;34m(\u001b[0m\u001b[0mnew_mgr_locs\u001b[0m\u001b[0;34m)\u001b[0m\u001b[0;34m\u001b[0m\u001b[0;34m\u001b[0m\u001b[0m\n\u001b[0;32m-> 1925\u001b[0;31m         \u001b[0mnew_values\u001b[0m \u001b[0;34m=\u001b[0m \u001b[0mnew_values\u001b[0m\u001b[0;34m[\u001b[0m\u001b[0margsort\u001b[0m\u001b[0;34m]\u001b[0m\u001b[0;34m\u001b[0m\u001b[0;34m\u001b[0m\u001b[0m\n\u001b[0m\u001b[1;32m   1926\u001b[0m         \u001b[0mnew_mgr_locs\u001b[0m \u001b[0;34m=\u001b[0m \u001b[0mnew_mgr_locs\u001b[0m\u001b[0;34m[\u001b[0m\u001b[0margsort\u001b[0m\u001b[0;34m]\u001b[0m\u001b[0;34m\u001b[0m\u001b[0;34m\u001b[0m\u001b[0m\n\u001b[1;32m   1927\u001b[0m \u001b[0;34m\u001b[0m\u001b[0m\n",
      "\u001b[0;31mMemoryError\u001b[0m: Unable to allocate 1.95 GiB for an array with shape (218, 1201511) and data type float64"
     ]
    }
   ],
   "source": [
    "# Create X and y\n",
    "X = data_preprocessed.drop(columns=['grav'])\n",
    "y = data_preprocessed['grav'].replace({1: 0, 4: 0, 2: 1, 3: 1})"
   ]
  },
  {
   "cell_type": "code",
   "execution_count": null,
   "metadata": {
    "ExecuteTime": {
     "end_time": "2020-11-15T19:40:25.280921Z",
     "start_time": "2020-11-15T19:40:11.560Z"
    }
   },
   "outputs": [],
   "source": [
    "# Create a smaller dataset for investigation purpose only\n",
    "sample_size = 20000\n",
    "tmp = data_preprocessed.sample(sample_size, random_state=414)\n",
    "X_small = tmp.drop(columns=['grav'])\n",
    "y_small = tmp['grav'].replace({1: 0, 4: 0, 2: 1, 3: 1})"
   ]
  },
  {
   "cell_type": "code",
   "execution_count": null,
   "metadata": {
    "ExecuteTime": {
     "end_time": "2020-11-15T19:40:25.282776Z",
     "start_time": "2020-11-15T19:40:11.848Z"
    }
   },
   "outputs": [],
   "source": [
    "# Train Test Split using random_state=414\n",
    "# (let's forget for the sake of this challenge that we are data-leaking a bit here, we should have done the split earlier)\n",
    "from sklearn.model_selection import train_test_split\n",
    "X_train, X_test, y_train, y_test = train_test_split(X, y, random_state=414)\n",
    "X_train_small, X_test_small, y_train_small, y_test_small = train_test_split(X_small, y_small, random_state=414)"
   ]
  },
  {
   "cell_type": "code",
   "execution_count": null,
   "metadata": {
    "ExecuteTime": {
     "end_time": "2020-11-15T19:40:25.286146Z",
     "start_time": "2020-11-15T19:40:12.668Z"
    }
   },
   "outputs": [],
   "source": [
    "# (optional) Create here an train/eval split within the train set itself.\n",
    "# Some powerfull models (XGBOOST, Neural Network...) which are prone to overfitting on the traning set, needs \"early stopping criteria\", to avoid descending the gradient completely and avoid overfitting.\n",
    "X_train_train, X_train_test, y_train_train, y_train_test = train_test_split(X_train, y_train)\n",
    "X_train_train_small, X_train_test_small, y_train_train_small, y_train_test_small = train_test_split(X_train_small, y_train_small)"
   ]
  },
  {
   "cell_type": "markdown",
   "metadata": {},
   "source": [
    "# Features exploration"
   ]
  },
  {
   "cell_type": "markdown",
   "metadata": {},
   "source": [
    "You now have a dataset ready for training! \n",
    "**Skip directly to section 5 to get a baseline model working ASAP**, and only then come back to this section 4 if you want to better understand your X and get inspiration for the best model to use, or for some feature selection to reduce model complexity"
   ]
  },
  {
   "cell_type": "markdown",
   "metadata": {},
   "source": [
    "## Visualization"
   ]
  },
  {
   "cell_type": "markdown",
   "metadata": {},
   "source": [
    "Investigate your X. Are features strongly correlated? Are some feature more important than other?"
   ]
  },
  {
   "cell_type": "code",
   "execution_count": null,
   "metadata": {
    "ExecuteTime": {
     "end_time": "2020-11-15T19:40:25.288085Z",
     "start_time": "2020-11-15T19:40:24.289Z"
    },
    "scrolled": false
   },
   "outputs": [],
   "source": [
    "import matplotlib.pyplot as plt\n",
    "import seaborn as sns\n",
    "plt.figure(figsize=(18,10))\n",
    "sns.heatmap(pd.DataFrame(data_cleaned.corr()), cmap='coolwarm')"
   ]
  },
  {
   "cell_type": "markdown",
   "metadata": {},
   "source": [
    "## PCA"
   ]
  },
  {
   "cell_type": "markdown",
   "metadata": {},
   "source": [
    "❓Fit a PCA and plot the cumulated sum of explained variance ratio of your Principal Component. Do you see any clear elbow?"
   ]
  },
  {
   "cell_type": "code",
   "execution_count": null,
   "metadata": {
    "ExecuteTime": {
     "end_time": "2020-11-15T19:40:25.290845Z",
     "start_time": "2020-11-15T19:40:25.111Z"
    }
   },
   "outputs": [],
   "source": [
    "from sklearn.decomposition import PCA\n",
    "pca = PCA().fit(X_train_small)"
   ]
  },
  {
   "cell_type": "code",
   "execution_count": 39,
   "metadata": {
    "ExecuteTime": {
     "end_time": "2020-11-15T19:40:25.434146Z",
     "start_time": "2020-11-15T19:40:25.414844Z"
    }
   },
   "outputs": [
    {
     "ename": "NameError",
     "evalue": "name 'pca' is not defined",
     "output_type": "error",
     "traceback": [
      "\u001b[0;31m---------------------------------------------------------------------------\u001b[0m",
      "\u001b[0;31mNameError\u001b[0m                                 Traceback (most recent call last)",
      "\u001b[0;32m<ipython-input-39-22bdcf7dbf60>\u001b[0m in \u001b[0;36m<module>\u001b[0;34m\u001b[0m\n\u001b[0;32m----> 1\u001b[0;31m \u001b[0mplt\u001b[0m\u001b[0;34m.\u001b[0m\u001b[0mplot\u001b[0m\u001b[0;34m(\u001b[0m\u001b[0mpca\u001b[0m\u001b[0;34m.\u001b[0m\u001b[0mexplained_variance_ratio_\u001b[0m\u001b[0;34m)\u001b[0m\u001b[0;34m\u001b[0m\u001b[0;34m\u001b[0m\u001b[0m\n\u001b[0m\u001b[1;32m      2\u001b[0m \u001b[0mplt\u001b[0m\u001b[0;34m.\u001b[0m\u001b[0mxlim\u001b[0m\u001b[0;34m(\u001b[0m\u001b[0;34m)\u001b[0m\u001b[0;34m\u001b[0m\u001b[0;34m\u001b[0m\u001b[0m\n",
      "\u001b[0;31mNameError\u001b[0m: name 'pca' is not defined"
     ]
    }
   ],
   "source": [
    "plt.plot(pca.explained_variance_ratio_)\n",
    "plt.xlim()"
   ]
  },
  {
   "cell_type": "code",
   "execution_count": 40,
   "metadata": {
    "ExecuteTime": {
     "end_time": "2020-11-15T19:40:31.596716Z",
     "start_time": "2020-11-15T19:40:31.581489Z"
    },
    "scrolled": true
   },
   "outputs": [
    {
     "ename": "NameError",
     "evalue": "name 'pca' is not defined",
     "output_type": "error",
     "traceback": [
      "\u001b[0;31m---------------------------------------------------------------------------\u001b[0m",
      "\u001b[0;31mNameError\u001b[0m                                 Traceback (most recent call last)",
      "\u001b[0;32m<ipython-input-40-a01a66bff9d6>\u001b[0m in \u001b[0;36m<module>\u001b[0;34m\u001b[0m\n\u001b[0;32m----> 1\u001b[0;31m \u001b[0mplt\u001b[0m\u001b[0;34m.\u001b[0m\u001b[0mplot\u001b[0m\u001b[0;34m(\u001b[0m\u001b[0mnp\u001b[0m\u001b[0;34m.\u001b[0m\u001b[0mcumsum\u001b[0m\u001b[0;34m(\u001b[0m\u001b[0mpca\u001b[0m\u001b[0;34m.\u001b[0m\u001b[0mexplained_variance_ratio_\u001b[0m\u001b[0;34m)\u001b[0m\u001b[0;34m)\u001b[0m\u001b[0;34m\u001b[0m\u001b[0;34m\u001b[0m\u001b[0m\n\u001b[0m\u001b[1;32m      2\u001b[0m \u001b[0mplt\u001b[0m\u001b[0;34m.\u001b[0m\u001b[0mxlim\u001b[0m\u001b[0;34m(\u001b[0m\u001b[0;34m)\u001b[0m\u001b[0;34m\u001b[0m\u001b[0;34m\u001b[0m\u001b[0m\n",
      "\u001b[0;31mNameError\u001b[0m: name 'pca' is not defined"
     ]
    }
   ],
   "source": [
    "plt.plot(np.cumsum(pca.explained_variance_ratio_))\n",
    "plt.xlim()"
   ]
  },
  {
   "cell_type": "markdown",
   "metadata": {},
   "source": [
    "## Forest-based most important features"
   ]
  },
  {
   "cell_type": "markdown",
   "metadata": {},
   "source": [
    "❓ Fit a default RandomForestClassifier on a small smaple to estimate the top 20 feature importance. Do they make intuitive sense to your point of view?  Do you see any clear elbow for dimension-reduction?"
   ]
  },
  {
   "cell_type": "code",
   "execution_count": null,
   "metadata": {
    "ExecuteTime": {
     "end_time": "2020-11-15T19:37:01.190630Z",
     "start_time": "2020-11-15T19:34:46.840Z"
    }
   },
   "outputs": [],
   "source": [
    "from sklearn.ensemble import RandomForestClassifier\n",
    "forest = RandomForestClassifier(class_weight='balanced')\n",
    "forest.fit(X_train_small, y_train_small)"
   ]
  },
  {
   "cell_type": "code",
   "execution_count": null,
   "metadata": {
    "ExecuteTime": {
     "end_time": "2020-11-15T19:37:01.260093Z",
     "start_time": "2020-11-15T19:34:47.513Z"
    }
   },
   "outputs": [],
   "source": [
    "plt.plot(np.sort(forest.feature_importances_)[::-1])\n",
    "plt.xlim(xmax=100)"
   ]
  },
  {
   "cell_type": "code",
   "execution_count": null,
   "metadata": {
    "ExecuteTime": {
     "end_time": "2020-11-15T19:37:01.263713Z",
     "start_time": "2020-11-15T19:34:47.678Z"
    },
    "scrolled": false
   },
   "outputs": [],
   "source": [
    "# Top 12 features\n",
    "features_top_12 = pd.DataFrame(zip(forest.feature_importances_, list(X_train.columns))  \n",
    "                              ).sort_values(by=0, ascending=False)[:12]\n",
    "features_top_12"
   ]
  },
  {
   "cell_type": "markdown",
   "metadata": {},
   "source": [
    "❓ (Optional) There are better ways to estimate feature importance in a RandomForest. Feel free to try to two following options\n",
    "\n",
    "**Option 1** : Recursive-method\n",
    "1. Train a first model, note top1 feature (computed based on the gini-explicative power of the feature, in each tree)\n",
    "2. Remove top1 from your X and retrain a RandomForest. Note top1 feature and it's relative importance\n",
    "3. Loop\n",
    "\n",
    "**Option 2** : Permutation-method ([sklearn.inspection.permutation_importance](https://scikit-learn.org/stable/modules/permutation_importance.html#permutation-importance)), works with any model!\n",
    "1. Train a first model, keep track of its accuracy\n",
    "2. Take one feature and shuffle its columns. Compute new accuracy of the corrupted dataset, and note by how much it has been reduced.\n",
    "3. Loop over all features and rank them by accuracy reduction"
   ]
  },
  {
   "cell_type": "code",
   "execution_count": null,
   "metadata": {
    "ExecuteTime": {
     "end_time": "2020-11-15T19:37:01.267472Z",
     "start_time": "2020-11-15T19:34:48.303Z"
    }
   },
   "outputs": [],
   "source": [
    "# Permutation-method\n",
    "from sklearn.inspection import permutation_importance\n",
    "\n",
    "permutation = permutation_importance(\n",
    "    forest, X_train_test_small, y_train_test_small, n_jobs=-1, scoring='f1_macro', n_repeats=2)\n",
    "\n",
    "pd.DataFrame(zip(permutation.importances_mean, list(X_train.columns))).sort_values(by=0, ascending=False)[:12]"
   ]
  },
  {
   "cell_type": "markdown",
   "metadata": {
    "scrolled": false
   },
   "source": [
    "Same permutation-method below, but applied on non-encoded features"
   ]
  },
  {
   "attachments": {
    "image.png": {
     "image/png": "[encoded data removed]"
    }
   },
   "cell_type": "markdown",
   "metadata": {},
   "source": [
    "![image.png](attachment:image.png)"
   ]
  },
  {
   "cell_type": "markdown",
   "metadata": {},
   "source": [
    "# Modeling"
   ]
  },
  {
   "cell_type": "code",
   "execution_count": null,
   "metadata": {
    "ExecuteTime": {
     "end_time": "2020-11-15T19:37:01.295208Z",
     "start_time": "2020-11-15T19:34:49.291Z"
    }
   },
   "outputs": [],
   "source": [
    "from sklearn.metrics import classification_report\n",
    "from sklearn.metrics import confusion_matrix\n",
    "from sklearn.metrics import accuracy_score\n",
    "from sklearn.metrics import f1_score\n",
    "\n",
    "from sklearn.model_selection import cross_validate\n",
    "from sklearn.model_selection import GridSearchCV, RandomizedSearchCV\n",
    "from sklearn.calibration import CalibratedClassifierCV\n",
    "\n",
    "from sklearn.linear_model import SGDClassifier\n",
    "from sklearn.tree import DecisionTreeClassifier\n",
    "from sklearn.ensemble import RandomForestClassifier\n",
    "from sklearn.ensemble import AdaBoostClassifier\n",
    "from xgboost import XGBClassifier"
   ]
  },
  {
   "cell_type": "markdown",
   "metadata": {},
   "source": [
    "## Baseline performance metrics"
   ]
  },
  {
   "cell_type": "markdown",
   "metadata": {},
   "source": [
    "❓ What is the class balance of your target?  \n",
    "Do you think acccuracy would be a good score?\n",
    "If you don't want to favor any class over the other, what would be a good performance metric for your problem? "
   ]
  },
  {
   "cell_type": "code",
   "execution_count": null,
   "metadata": {},
   "outputs": [],
   "source": []
  },
  {
   "cell_type": "markdown",
   "metadata": {},
   "source": [
    "<details>\n",
    "    <summary>Answer</summary>\n",
    "\n",
    "In such an unbalanced problem, accuracy is meaningless: A very dumb model predicting always zeros would have great accuracy, to the detriment of the predictive power of class  1, which has precision and recall equal to zero!\n",
    "    \n",
    "The non-weighted mean between both f1 score of each class called `f1_macro` would be a good measure for this type of problem.\n",
    "</details>"
   ]
  },
  {
   "cell_type": "markdown",
   "metadata": {},
   "source": [
    "## Simple Model (A first iteration)\n",
    "\n",
    "❓ Create a simple model, fast to train, to classify the severity of the accidents. Start simple. Don't forget to fit on your training set and evaluate the score on your test set. Can you beat the Baseline? What about its Accuracy? Measure the time it takes on the full dataset, with `%%time` "
   ]
  },
  {
   "cell_type": "code",
   "execution_count": null,
   "metadata": {
    "ExecuteTime": {
     "end_time": "2020-11-15T19:37:01.299382Z",
     "start_time": "2020-11-15T19:34:51.421Z"
    },
    "scrolled": true
   },
   "outputs": [],
   "source": [
    "# Train a SGDClassifier logistic regression, one of the fastest model\n",
    "\n",
    "model = SGDClassifier(loss='log', alpha=0.5)\n",
    "cv_results = cross_validate(model, X_train_small, y_train_small, cv=10, n_jobs=1, scoring=['accuracy', 'f1_macro'])\n",
    "cv_results['test_f1_macro'].mean()"
   ]
  },
  {
   "cell_type": "markdown",
   "metadata": {},
   "source": [
    "A simple logistic classifier does not perform better than a dumb model predicting always the majority class!"
   ]
  },
  {
   "cell_type": "code",
   "execution_count": null,
   "metadata": {
    "ExecuteTime": {
     "end_time": "2020-11-15T19:37:01.313680Z",
     "start_time": "2020-11-15T19:34:53.039Z"
    },
    "scrolled": true
   },
   "outputs": [],
   "source": [
    "# Simple Decision Tree\n",
    "\n",
    "cv_results = cross_validate(DecisionTreeClassifier(), X_train_small,\n",
    "                            y_train_small, cv=5, scoring=['accuracy', 'f1_macro'])\n",
    "cv_results['test_f1_macro'].mean()"
   ]
  },
  {
   "cell_type": "markdown",
   "metadata": {},
   "source": [
    "# 🔥🔥🔥 Advanced Models - LeWagon batch contest ! 🔥🔥🔥"
   ]
  },
  {
   "cell_type": "markdown",
   "metadata": {},
   "source": [
    "❓ Now it's your turn to shine! Play with different models and try to find the best one on your training set!\n",
    "- Send your best `f1_macro` to your slack channel without saying which model you used!\n",
    "- ⚠️ Only send score tested on the `y_test` of complete size (30% of 1M+ rows!)\n",
    "- Feel free to use your X_small for investigation purpose\n",
    "- If it takes too long to train, simplify your model, or use better feature preprocessing/selection\n",
    "\n",
    "The winner will present its notebook to the class during the reboot 💪\n",
    "\n",
    "(Don't forget, your Notebook should be made to be run from top to bottom in one go!)"
   ]
  },
  {
   "cell_type": "markdown",
   "metadata": {},
   "source": [
    "<details>\n",
    "    <summary>Some hints</summary>\n",
    "Take a closer look at feature engineering: Are there some features we haven't correctly preprocessed?  \n",
    "    \n",
    "Most of the time, a good dataset trumps a good model!\n",
    "</details>"
   ]
  },
  {
   "cell_type": "markdown",
   "metadata": {},
   "source": [
    "## SGD optimized"
   ]
  },
  {
   "cell_type": "code",
   "execution_count": null,
   "metadata": {
    "ExecuteTime": {
     "end_time": "2020-11-15T19:37:01.318584Z",
     "start_time": "2020-11-15T19:34:57.099Z"
    }
   },
   "outputs": [],
   "source": [
    "from scipy.stats import uniform\n",
    "from sklearn.model_selection import RandomizedSearchCV\n",
    "from scipy import stats"
   ]
  },
  {
   "cell_type": "code",
   "execution_count": null,
   "metadata": {
    "ExecuteTime": {
     "end_time": "2020-11-15T19:37:01.322925Z",
     "start_time": "2020-11-15T19:35:10.387Z"
    },
    "scrolled": false
   },
   "outputs": [],
   "source": [
    "%%time\n",
    "\n",
    "model = SGDClassifier()\n",
    "\n",
    "search_space = {'loss' : ['log', 'hinge'],\n",
    "                'penalty': ['elasticnet'],\n",
    "                'l1_ratio': stats.uniform(0.01, 0.9),\n",
    "                'alpha': stats.loguniform(0.0001, 1)\n",
    "               }\n",
    "\n",
    "cv_model = RandomizedSearchCV(model,\n",
    "                            scoring='f1_macro',\n",
    "                            param_distributions = search_space,\n",
    "                            cv = 3,\n",
    "                            n_iter = 50,\n",
    "                            n_jobs=-1, verbose=5)\n",
    "\n",
    "search = cv_model.fit(X_train_small, y_train_small)"
   ]
  },
  {
   "cell_type": "code",
   "execution_count": null,
   "metadata": {
    "ExecuteTime": {
     "end_time": "2020-11-15T19:37:01.329273Z",
     "start_time": "2020-11-15T19:35:12.642Z"
    }
   },
   "outputs": [],
   "source": [
    "search.best_estimator_"
   ]
  },
  {
   "cell_type": "code",
   "execution_count": null,
   "metadata": {
    "ExecuteTime": {
     "end_time": "2020-11-15T19:37:01.335383Z",
     "start_time": "2020-11-15T19:35:19.162Z"
    }
   },
   "outputs": [],
   "source": [
    "best_sdg = SGDClassifier(alpha=0.0016524175104721261, l1_ratio=0.08496688804208596,\n",
    "              loss='log', penalty='elasticnet')\n",
    "\n",
    "cv_results = cross_validate(best_sdg, X_train_small, y_train_small, cv=10, scoring='f1_macro')\n",
    "print(cv_results['test_score'].mean())"
   ]
  },
  {
   "cell_type": "code",
   "execution_count": null,
   "metadata": {
    "ExecuteTime": {
     "end_time": "2020-11-15T19:37:01.340797Z",
     "start_time": "2020-11-15T19:35:19.355Z"
    }
   },
   "outputs": [],
   "source": [
    "best_sgd = search.best_estimator_\n",
    "best_sgd.fit(X_train_small, y_train_small)\n",
    "print(classification_report(best_sgd.predict(X_test_small), y_test_small))"
   ]
  },
  {
   "cell_type": "markdown",
   "metadata": {},
   "source": [
    "## Random Forest Classifier"
   ]
  },
  {
   "cell_type": "code",
   "execution_count": null,
   "metadata": {
    "ExecuteTime": {
     "end_time": "2020-11-15T19:37:01.343856Z",
     "start_time": "2020-11-15T19:35:24.006Z"
    }
   },
   "outputs": [],
   "source": [
    "# Simple Random Forest\n",
    "forest = RandomForestClassifier(class_weight='balanced')\n",
    "cv_results = cross_validate(forest, X_train_small, y_train_small, cv=5, scoring='f1_macro')\n",
    "print(cv_results['test_score'].mean())"
   ]
  },
  {
   "cell_type": "code",
   "execution_count": null,
   "metadata": {
    "ExecuteTime": {
     "end_time": "2020-11-15T19:37:01.346435Z",
     "start_time": "2020-11-15T19:35:24.351Z"
    }
   },
   "outputs": [],
   "source": [
    "forest.fit(X_train_small, y_train_small)"
   ]
  },
  {
   "cell_type": "code",
   "execution_count": null,
   "metadata": {
    "ExecuteTime": {
     "end_time": "2020-11-15T19:37:01.349235Z",
     "start_time": "2020-11-15T19:35:24.954Z"
    }
   },
   "outputs": [],
   "source": [
    "# Do we overfit on our train set?\n",
    "f1_score(forest.predict(X_train_small), y_train_small, average='macro')"
   ]
  },
  {
   "cell_type": "code",
   "execution_count": null,
   "metadata": {
    "ExecuteTime": {
     "end_time": "2020-11-15T19:37:01.354180Z",
     "start_time": "2020-11-15T19:35:26.086Z"
    }
   },
   "outputs": [],
   "source": [
    "print(classification_report(forest.predict(X_test_small), y_test_small))"
   ]
  },
  {
   "cell_type": "markdown",
   "metadata": {},
   "source": [
    "### Hyperparameter tuning"
   ]
  },
  {
   "cell_type": "code",
   "execution_count": null,
   "metadata": {
    "ExecuteTime": {
     "end_time": "2020-11-15T19:37:01.361439Z",
     "start_time": "2020-11-15T19:35:43.076Z"
    },
    "scrolled": true
   },
   "outputs": [],
   "source": [
    "# First, we start with a wide RandomSearch because we have no idea\n",
    "\n",
    "model = RandomForestClassifier(class_weight='balanced')\n",
    "\n",
    "search_space = {'n_estimators': [int(x) for x in np.linspace(50, 1000, num=20)],\n",
    "                'max_depth': [int(x) for x in np.linspace(10, 100, num=10)] + [None],\n",
    "                'min_samples_split': [2, 5, 10],\n",
    "                'min_samples_leaf': [1, 2, 4],\n",
    "                'criterion': ['gini'],\n",
    "                'bootstrap': [True, False]\n",
    "                }\n",
    "\n",
    "cv_model = RandomizedSearchCV(model,\n",
    "                              scoring='f1_macro',\n",
    "                              param_distributions=search_space,\n",
    "                              n_jobs=-1,\n",
    "                              cv=3,\n",
    "                              n_iter=30,\n",
    "                              verbose=1)\n",
    "\n",
    "search = cv_model.fit(X_train_small, y_train_small)"
   ]
  },
  {
   "cell_type": "code",
   "execution_count": 285,
   "metadata": {},
   "outputs": [
    {
     "data": {
      "text/plain": [
       "0.8144"
      ]
     },
     "execution_count": 285,
     "metadata": {},
     "output_type": "execute_result"
    }
   ],
   "source": [
    "search.best_score_"
   ]
  },
  {
   "cell_type": "code",
   "execution_count": 286,
   "metadata": {},
   "outputs": [
    {
     "data": {
      "text/plain": [
       "{'n_estimators': 300,\n",
       " 'min_samples_split': 2,\n",
       " 'min_samples_leaf': 1,\n",
       " 'max_depth': 70,\n",
       " 'criterion': 'gini',\n",
       " 'bootstrap': False}"
      ]
     },
     "execution_count": 286,
     "metadata": {},
     "output_type": "execute_result"
    }
   ],
   "source": [
    "search.best_params_"
   ]
  },
  {
   "cell_type": "code",
   "execution_count": 165,
   "metadata": {},
   "outputs": [
    {
     "name": "stdout",
     "output_type": "stream",
     "text": [
      "Fitting 3 folds for each of 10 candidates, totalling 30 fits\n"
     ]
    },
    {
     "name": "stderr",
     "output_type": "stream",
     "text": [
      "[Parallel(n_jobs=-1)]: Using backend LokyBackend with 8 concurrent workers.\n",
      "[Parallel(n_jobs=-1)]: Done  30 out of  30 | elapsed:   24.9s finished\n"
     ]
    }
   ],
   "source": [
    "# Then, we refine with a narrower gridsearch\n",
    "\n",
    "model = RandomForestClassifier(class_weight='balanced')\n",
    "\n",
    "param_grid = {\n",
    "    'n_estimators': [int(x) for x in np.linspace(50, 500, num=10)],\n",
    "    'bootstrap': [False],\n",
    "    'max_depth': [int(x) for x in np.linspace(1, 30, num=30)],\n",
    "}\n",
    "\n",
    "grid_search = RandomizedSearchCV(model, param_grid, cv=3, n_jobs=-1, scoring='f1_macro', verbose=1)\n",
    "\n",
    "search = grid_search.fit(X_train_small, y_train_small)"
   ]
  },
  {
   "cell_type": "code",
   "execution_count": 166,
   "metadata": {},
   "outputs": [
    {
     "data": {
      "text/plain": [
       "0.7024207856854435"
      ]
     },
     "execution_count": 166,
     "metadata": {},
     "output_type": "execute_result"
    }
   ],
   "source": [
    "search.best_score_"
   ]
  },
  {
   "cell_type": "code",
   "execution_count": 167,
   "metadata": {},
   "outputs": [
    {
     "data": {
      "text/plain": [
       "{'n_estimators': 300, 'max_depth': 15, 'bootstrap': False}"
      ]
     },
     "execution_count": 167,
     "metadata": {},
     "output_type": "execute_result"
    }
   ],
   "source": [
    "search.best_params_"
   ]
  },
  {
   "cell_type": "code",
   "execution_count": 217,
   "metadata": {},
   "outputs": [
    {
     "data": {
      "text/plain": [
       "0.6407799340284293"
      ]
     },
     "execution_count": 217,
     "metadata": {},
     "output_type": "execute_result"
    }
   ],
   "source": [
    "best_forest = RandomForestClassifier(**{'n_estimators': 300, 'max_depth': 15, 'bootstrap': False})\n",
    "cross_validate(best_forest, X_train_small, y_train_small, cv=5, scoring='f1_macro')['test_score'].mean()"
   ]
  },
  {
   "cell_type": "code",
   "execution_count": null,
   "metadata": {},
   "outputs": [],
   "source": [
    "# Final Evaluation!\n",
    "print(classification_report(best_forest.fit(X_train_small, y_train_small).predict(X_test_small), y_test_small))"
   ]
  },
  {
   "cell_type": "markdown",
   "metadata": {},
   "source": [
    "## AdaBoost Trees"
   ]
  },
  {
   "cell_type": "code",
   "execution_count": 236,
   "metadata": {},
   "outputs": [],
   "source": [
    "adaboost = AdaBoostClassifier(\n",
    "    base_estimator=DecisionTreeClassifier(class_weight='balanced'),\n",
    "    n_estimators=100,\n",
    "    learning_rate=0.5)"
   ]
  },
  {
   "cell_type": "code",
   "execution_count": 240,
   "metadata": {},
   "outputs": [
    {
     "data": {
      "text/plain": [
       "{'algorithm': 'SAMME.R',\n",
       " 'base_estimator__ccp_alpha': 0.0,\n",
       " 'base_estimator__class_weight': 'balanced',\n",
       " 'base_estimator__criterion': 'gini',\n",
       " 'base_estimator__max_depth': None,\n",
       " 'base_estimator__max_features': None,\n",
       " 'base_estimator__max_leaf_nodes': None,\n",
       " 'base_estimator__min_impurity_decrease': 0.0,\n",
       " 'base_estimator__min_impurity_split': None,\n",
       " 'base_estimator__min_samples_leaf': 1,\n",
       " 'base_estimator__min_samples_split': 2,\n",
       " 'base_estimator__min_weight_fraction_leaf': 0.0,\n",
       " 'base_estimator__presort': 'deprecated',\n",
       " 'base_estimator__random_state': None,\n",
       " 'base_estimator__splitter': 'best',\n",
       " 'base_estimator': DecisionTreeClassifier(class_weight='balanced'),\n",
       " 'learning_rate': 0.5,\n",
       " 'n_estimators': 100,\n",
       " 'random_state': None}"
      ]
     },
     "execution_count": 240,
     "metadata": {},
     "output_type": "execute_result"
    }
   ],
   "source": [
    "adaboost.get_params()"
   ]
  },
  {
   "cell_type": "code",
   "execution_count": 238,
   "metadata": {
    "scrolled": true
   },
   "outputs": [
    {
     "name": "stdout",
     "output_type": "stream",
     "text": [
      "0.6193995948513012\n"
     ]
    }
   ],
   "source": [
    "cv_results = cross_validate(adaboost, X_train_small, y_train_small, cv=5, scoring='f1_macro', n_jobs=-1)\n",
    "print(cv_results['test_score'].mean())"
   ]
  },
  {
   "cell_type": "code",
   "execution_count": 239,
   "metadata": {},
   "outputs": [
    {
     "name": "stdout",
     "output_type": "stream",
     "text": [
      "              precision    recall  f1-score   support\n",
      "\n",
      "           0       0.81      0.90      0.85    197202\n",
      "           1       0.68      0.50      0.58     84148\n",
      "\n",
      "    accuracy                           0.78    281350\n",
      "   macro avg       0.74      0.70      0.71    281350\n",
      "weighted avg       0.77      0.78      0.77    281350\n",
      "\n"
     ]
    }
   ],
   "source": [
    "# Final classif report of the small test set\n",
    "adaboost.fit(X_train_small, y_train_small)\n",
    "print(classification_report(best_adaboost.predict(X_test), y_test))"
   ]
  },
  {
   "cell_type": "markdown",
   "metadata": {},
   "source": [
    "### Hyperparameter tuning"
   ]
  },
  {
   "cell_type": "code",
   "execution_count": 241,
   "metadata": {},
   "outputs": [],
   "source": [
    "from scipy import stats"
   ]
  },
  {
   "cell_type": "code",
   "execution_count": 245,
   "metadata": {
    "scrolled": true
   },
   "outputs": [
    {
     "name": "stdout",
     "output_type": "stream",
     "text": [
      "Fitting 3 folds for each of 10 candidates, totalling 30 fits\n"
     ]
    },
    {
     "name": "stderr",
     "output_type": "stream",
     "text": [
      "[Parallel(n_jobs=-1)]: Using backend LokyBackend with 8 concurrent workers.\n",
      "[Parallel(n_jobs=-1)]: Done   9 tasks      | elapsed:   13.0s\n",
      "[Parallel(n_jobs=-1)]: Done  23 out of  30 | elapsed:   22.1s remaining:    6.7s\n",
      "[Parallel(n_jobs=-1)]: Done  30 out of  30 | elapsed:   24.6s finished\n"
     ]
    }
   ],
   "source": [
    "model = AdaBoostClassifier(\n",
    "        base_estimator=DecisionTreeClassifier(class_weight='balanced')\n",
    ")\n",
    "\n",
    "param_distribution = {\n",
    "    #'n_estimators': stats.randint(20,200),\n",
    "    'learning_rate': stats.uniform(0.1,2),\n",
    "    'base_estimator__max_depth': stats.randint(2,10),\n",
    "}\n",
    "\n",
    "grid_search = RandomizedSearchCV(model, param_distribution,\n",
    "                                 cv=3, scoring='f1_macro', n_iter=30,\n",
    "                                 n_jobs=-1, verbose=4)\n",
    "\n",
    "search = grid_search.fit(X_train_small, y_train_small)"
   ]
  },
  {
   "cell_type": "code",
   "execution_count": 246,
   "metadata": {},
   "outputs": [
    {
     "data": {
      "text/plain": [
       "{'base_estimator__max_depth': 3, 'learning_rate': 0.6798449747588363}"
      ]
     },
     "execution_count": 246,
     "metadata": {},
     "output_type": "execute_result"
    }
   ],
   "source": [
    "search.best_params_"
   ]
  },
  {
   "cell_type": "code",
   "execution_count": 247,
   "metadata": {},
   "outputs": [],
   "source": [
    "best_adaboost = search.best_estimator_"
   ]
  },
  {
   "cell_type": "code",
   "execution_count": 248,
   "metadata": {},
   "outputs": [
    {
     "name": "stdout",
     "output_type": "stream",
     "text": [
      "CPU times: user 2.6 s, sys: 118 ms, total: 2.71 s\n",
      "Wall time: 2.73 s\n"
     ]
    },
    {
     "data": {
      "text/plain": [
       "AdaBoostClassifier(base_estimator=DecisionTreeClassifier(class_weight='balanced',\n",
       "                                                         max_depth=3),\n",
       "                   learning_rate=0.6798449747588363)"
      ]
     },
     "execution_count": 248,
     "metadata": {},
     "output_type": "execute_result"
    }
   ],
   "source": [
    "best_adaboost.fit(X_train_small, y_train_small)"
   ]
  },
  {
   "cell_type": "code",
   "execution_count": 249,
   "metadata": {},
   "outputs": [
    {
     "name": "stdout",
     "output_type": "stream",
     "text": [
      "              precision    recall  f1-score   support\n",
      "\n",
      "           0       0.74      0.90      0.81      3168\n",
      "           1       0.72      0.45      0.56      1832\n",
      "\n",
      "    accuracy                           0.74      5000\n",
      "   macro avg       0.73      0.68      0.68      5000\n",
      "weighted avg       0.73      0.74      0.72      5000\n",
      "\n"
     ]
    }
   ],
   "source": [
    "# Final classif report of the test set!\n",
    "print(classification_report(best_adaboost.predict(X_test_small), y_test_small))"
   ]
  },
  {
   "cell_type": "markdown",
   "metadata": {},
   "source": [
    "## Gradient Boosting"
   ]
  },
  {
   "cell_type": "code",
   "execution_count": 255,
   "metadata": {},
   "outputs": [
    {
     "data": {
      "text/plain": [
       "0.6639873618246362"
      ]
     },
     "execution_count": 255,
     "metadata": {},
     "output_type": "execute_result"
    }
   ],
   "source": [
    "from sklearn.ensemble import GradientBoostingClassifier\n",
    "\n",
    "model = GradientBoostingClassifier()\n",
    "cross_validate(model, X_train_small, y_train_small, cv=10, scoring='f1_macro', n_jobs=-1)['test_score'].mean()"
   ]
  },
  {
   "cell_type": "markdown",
   "metadata": {
    "heading_collapsed": true
   },
   "source": [
    "### XGBOOST"
   ]
  },
  {
   "cell_type": "code",
   "execution_count": 224,
   "metadata": {
    "hidden": true
   },
   "outputs": [],
   "source": [
    "xgb = XGBClassifier(max_depth=10, n_estimators=100, njobs=-1, learning_rate=1) # default loss function binary logloss"
   ]
  },
  {
   "cell_type": "code",
   "execution_count": 225,
   "metadata": {
    "collapsed": true,
    "hidden": true
   },
   "outputs": [
    {
     "name": "stdout",
     "output_type": "stream",
     "text": [
      "[17:35:48] WARNING: /Users/travis/build/dmlc/xgboost/src/learner.cc:516: \n",
      "Parameters: { njobs } might not be used.\n",
      "\n",
      "  This may not be accurate due to some parameters are only used in language bindings but\n",
      "  passed down to XGBoost core.  Or some parameters are not used but slip through this\n",
      "  verification. Please open an issue if you find above cases.\n",
      "\n",
      "\n",
      "[0]\tvalidation_0-error:0.15022\tvalidation_0-logloss:0.39219\tvalidation_1-error:0.14987\tvalidation_1-logloss:0.38797\n",
      "Multiple eval metrics have been passed: 'validation_1-logloss' will be used for early stopping.\n",
      "\n",
      "Will train until validation_1-logloss hasn't improved in 1 rounds.\n",
      "[1]\tvalidation_0-error:0.13707\tvalidation_0-logloss:0.34045\tvalidation_1-error:0.13573\tvalidation_1-logloss:0.33725\n",
      "[2]\tvalidation_0-error:0.12978\tvalidation_0-logloss:0.31674\tvalidation_1-error:0.13093\tvalidation_1-logloss:0.31587\n",
      "[3]\tvalidation_0-error:0.12160\tvalidation_0-logloss:0.29666\tvalidation_1-error:0.12160\tvalidation_1-logloss:0.29645\n",
      "[4]\tvalidation_0-error:0.11138\tvalidation_0-logloss:0.27786\tvalidation_1-error:0.11067\tvalidation_1-logloss:0.27636\n",
      "[5]\tvalidation_0-error:0.10418\tvalidation_0-logloss:0.26079\tvalidation_1-error:0.10587\tvalidation_1-logloss:0.25776\n",
      "[6]\tvalidation_0-error:0.09644\tvalidation_0-logloss:0.24754\tvalidation_1-error:0.09707\tvalidation_1-logloss:0.24597\n",
      "[7]\tvalidation_0-error:0.08747\tvalidation_0-logloss:0.23414\tvalidation_1-error:0.08827\tvalidation_1-logloss:0.23369\n",
      "[8]\tvalidation_0-error:0.08471\tvalidation_0-logloss:0.22666\tvalidation_1-error:0.08373\tvalidation_1-logloss:0.22443\n",
      "[9]\tvalidation_0-error:0.08027\tvalidation_0-logloss:0.22201\tvalidation_1-error:0.08187\tvalidation_1-logloss:0.21993\n",
      "[10]\tvalidation_0-error:0.07680\tvalidation_0-logloss:0.21154\tvalidation_1-error:0.07413\tvalidation_1-logloss:0.20921\n",
      "[11]\tvalidation_0-error:0.06889\tvalidation_0-logloss:0.19914\tvalidation_1-error:0.06880\tvalidation_1-logloss:0.19763\n",
      "[12]\tvalidation_0-error:0.06480\tvalidation_0-logloss:0.19086\tvalidation_1-error:0.06373\tvalidation_1-logloss:0.19056\n",
      "[13]\tvalidation_0-error:0.05947\tvalidation_0-logloss:0.17717\tvalidation_1-error:0.05760\tvalidation_1-logloss:0.17243\n",
      "[14]\tvalidation_0-error:0.05529\tvalidation_0-logloss:0.17035\tvalidation_1-error:0.05467\tvalidation_1-logloss:0.16619\n",
      "[15]\tvalidation_0-error:0.05129\tvalidation_0-logloss:0.16409\tvalidation_1-error:0.05040\tvalidation_1-logloss:0.16055\n",
      "[16]\tvalidation_0-error:0.04871\tvalidation_0-logloss:0.15693\tvalidation_1-error:0.04480\tvalidation_1-logloss:0.15347\n",
      "[17]\tvalidation_0-error:0.04498\tvalidation_0-logloss:0.15036\tvalidation_1-error:0.03893\tvalidation_1-logloss:0.14790\n",
      "[18]\tvalidation_0-error:0.04240\tvalidation_0-logloss:0.14541\tvalidation_1-error:0.03520\tvalidation_1-logloss:0.14173\n",
      "[19]\tvalidation_0-error:0.04133\tvalidation_0-logloss:0.14260\tvalidation_1-error:0.03413\tvalidation_1-logloss:0.13915\n",
      "[20]\tvalidation_0-error:0.03191\tvalidation_0-logloss:0.12895\tvalidation_1-error:0.02667\tvalidation_1-logloss:0.12632\n",
      "[21]\tvalidation_0-error:0.02782\tvalidation_0-logloss:0.12190\tvalidation_1-error:0.02347\tvalidation_1-logloss:0.11994\n",
      "[22]\tvalidation_0-error:0.02622\tvalidation_0-logloss:0.11578\tvalidation_1-error:0.01973\tvalidation_1-logloss:0.11361\n",
      "[23]\tvalidation_0-error:0.02578\tvalidation_0-logloss:0.11308\tvalidation_1-error:0.02080\tvalidation_1-logloss:0.11169\n",
      "[24]\tvalidation_0-error:0.02000\tvalidation_0-logloss:0.10476\tvalidation_1-error:0.01680\tvalidation_1-logloss:0.10460\n",
      "[25]\tvalidation_0-error:0.01724\tvalidation_0-logloss:0.09990\tvalidation_1-error:0.01547\tvalidation_1-logloss:0.09778\n",
      "[26]\tvalidation_0-error:0.01422\tvalidation_0-logloss:0.09341\tvalidation_1-error:0.01280\tvalidation_1-logloss:0.09079\n",
      "[27]\tvalidation_0-error:0.01307\tvalidation_0-logloss:0.08951\tvalidation_1-error:0.01307\tvalidation_1-logloss:0.08680\n",
      "[28]\tvalidation_0-error:0.01271\tvalidation_0-logloss:0.08851\tvalidation_1-error:0.01333\tvalidation_1-logloss:0.08574\n",
      "[29]\tvalidation_0-error:0.01076\tvalidation_0-logloss:0.08316\tvalidation_1-error:0.01067\tvalidation_1-logloss:0.08063\n",
      "[30]\tvalidation_0-error:0.00898\tvalidation_0-logloss:0.07676\tvalidation_1-error:0.00880\tvalidation_1-logloss:0.07510\n",
      "[31]\tvalidation_0-error:0.00729\tvalidation_0-logloss:0.07167\tvalidation_1-error:0.00640\tvalidation_1-logloss:0.06992\n",
      "[32]\tvalidation_0-error:0.00560\tvalidation_0-logloss:0.06691\tvalidation_1-error:0.00480\tvalidation_1-logloss:0.06468\n",
      "[33]\tvalidation_0-error:0.00489\tvalidation_0-logloss:0.06315\tvalidation_1-error:0.00453\tvalidation_1-logloss:0.06123\n",
      "[34]\tvalidation_0-error:0.00391\tvalidation_0-logloss:0.05871\tvalidation_1-error:0.00347\tvalidation_1-logloss:0.05769\n",
      "[35]\tvalidation_0-error:0.00276\tvalidation_0-logloss:0.05612\tvalidation_1-error:0.00293\tvalidation_1-logloss:0.05530\n",
      "[36]\tvalidation_0-error:0.00276\tvalidation_0-logloss:0.05481\tvalidation_1-error:0.00293\tvalidation_1-logloss:0.05467\n",
      "[37]\tvalidation_0-error:0.00160\tvalidation_0-logloss:0.05076\tvalidation_1-error:0.00213\tvalidation_1-logloss:0.05107\n",
      "[38]\tvalidation_0-error:0.00160\tvalidation_0-logloss:0.04944\tvalidation_1-error:0.00213\tvalidation_1-logloss:0.04988\n",
      "[39]\tvalidation_0-error:0.00133\tvalidation_0-logloss:0.04661\tvalidation_1-error:0.00160\tvalidation_1-logloss:0.04790\n",
      "[40]\tvalidation_0-error:0.00098\tvalidation_0-logloss:0.04490\tvalidation_1-error:0.00133\tvalidation_1-logloss:0.04559\n",
      "[41]\tvalidation_0-error:0.00116\tvalidation_0-logloss:0.04365\tvalidation_1-error:0.00107\tvalidation_1-logloss:0.04459\n",
      "[42]\tvalidation_0-error:0.00116\tvalidation_0-logloss:0.04297\tvalidation_1-error:0.00107\tvalidation_1-logloss:0.04397\n",
      "[43]\tvalidation_0-error:0.00098\tvalidation_0-logloss:0.04192\tvalidation_1-error:0.00107\tvalidation_1-logloss:0.04320\n",
      "[44]\tvalidation_0-error:0.00089\tvalidation_0-logloss:0.04091\tvalidation_1-error:0.00107\tvalidation_1-logloss:0.04188\n",
      "[45]\tvalidation_0-error:0.00089\tvalidation_0-logloss:0.03941\tvalidation_1-error:0.00053\tvalidation_1-logloss:0.04000\n",
      "[46]\tvalidation_0-error:0.00089\tvalidation_0-logloss:0.03838\tvalidation_1-error:0.00053\tvalidation_1-logloss:0.03896\n",
      "[47]\tvalidation_0-error:0.00062\tvalidation_0-logloss:0.03701\tvalidation_1-error:0.00080\tvalidation_1-logloss:0.03785\n",
      "[48]\tvalidation_0-error:0.00071\tvalidation_0-logloss:0.03615\tvalidation_1-error:0.00053\tvalidation_1-logloss:0.03688\n",
      "[49]\tvalidation_0-error:0.00071\tvalidation_0-logloss:0.03563\tvalidation_1-error:0.00027\tvalidation_1-logloss:0.03627\n",
      "[50]\tvalidation_0-error:0.00080\tvalidation_0-logloss:0.03450\tvalidation_1-error:0.00053\tvalidation_1-logloss:0.03496\n",
      "[51]\tvalidation_0-error:0.00062\tvalidation_0-logloss:0.03298\tvalidation_1-error:0.00000\tvalidation_1-logloss:0.03287\n",
      "[52]\tvalidation_0-error:0.00071\tvalidation_0-logloss:0.03213\tvalidation_1-error:0.00000\tvalidation_1-logloss:0.03214\n",
      "[53]\tvalidation_0-error:0.00044\tvalidation_0-logloss:0.03096\tvalidation_1-error:0.00000\tvalidation_1-logloss:0.03122\n",
      "[54]\tvalidation_0-error:0.00036\tvalidation_0-logloss:0.03019\tvalidation_1-error:0.00000\tvalidation_1-logloss:0.03044\n",
      "[55]\tvalidation_0-error:0.00044\tvalidation_0-logloss:0.02923\tvalidation_1-error:0.00000\tvalidation_1-logloss:0.02959\n",
      "[56]\tvalidation_0-error:0.00044\tvalidation_0-logloss:0.02869\tvalidation_1-error:0.00000\tvalidation_1-logloss:0.02891\n",
      "[57]\tvalidation_0-error:0.00018\tvalidation_0-logloss:0.02796\tvalidation_1-error:0.00000\tvalidation_1-logloss:0.02811\n",
      "[58]\tvalidation_0-error:0.00018\tvalidation_0-logloss:0.02715\tvalidation_1-error:0.00000\tvalidation_1-logloss:0.02706\n",
      "[59]\tvalidation_0-error:0.00018\tvalidation_0-logloss:0.02634\tvalidation_1-error:0.00000\tvalidation_1-logloss:0.02616\n",
      "[60]\tvalidation_0-error:0.00009\tvalidation_0-logloss:0.02544\tvalidation_1-error:0.00000\tvalidation_1-logloss:0.02547\n",
      "[61]\tvalidation_0-error:0.00009\tvalidation_0-logloss:0.02441\tvalidation_1-error:0.00000\tvalidation_1-logloss:0.02451\n",
      "[62]\tvalidation_0-error:0.00009\tvalidation_0-logloss:0.02347\tvalidation_1-error:0.00000\tvalidation_1-logloss:0.02384\n",
      "[63]\tvalidation_0-error:0.00009\tvalidation_0-logloss:0.02263\tvalidation_1-error:0.00000\tvalidation_1-logloss:0.02320\n",
      "[64]\tvalidation_0-error:0.00009\tvalidation_0-logloss:0.02209\tvalidation_1-error:0.00000\tvalidation_1-logloss:0.02258\n",
      "[65]\tvalidation_0-error:0.00009\tvalidation_0-logloss:0.02171\tvalidation_1-error:0.00000\tvalidation_1-logloss:0.02210\n"
     ]
    },
    {
     "name": "stdout",
     "output_type": "stream",
     "text": [
      "[66]\tvalidation_0-error:0.00000\tvalidation_0-logloss:0.02074\tvalidation_1-error:0.00000\tvalidation_1-logloss:0.02090\n",
      "[67]\tvalidation_0-error:0.00000\tvalidation_0-logloss:0.01982\tvalidation_1-error:0.00000\tvalidation_1-logloss:0.02005\n",
      "[68]\tvalidation_0-error:0.00000\tvalidation_0-logloss:0.01927\tvalidation_1-error:0.00000\tvalidation_1-logloss:0.01951\n",
      "[69]\tvalidation_0-error:0.00000\tvalidation_0-logloss:0.01886\tvalidation_1-error:0.00000\tvalidation_1-logloss:0.01914\n",
      "[70]\tvalidation_0-error:0.00000\tvalidation_0-logloss:0.01850\tvalidation_1-error:0.00000\tvalidation_1-logloss:0.01870\n",
      "[71]\tvalidation_0-error:0.00000\tvalidation_0-logloss:0.01796\tvalidation_1-error:0.00000\tvalidation_1-logloss:0.01807\n",
      "[72]\tvalidation_0-error:0.00000\tvalidation_0-logloss:0.01781\tvalidation_1-error:0.00000\tvalidation_1-logloss:0.01789\n",
      "[73]\tvalidation_0-error:0.00000\tvalidation_0-logloss:0.01757\tvalidation_1-error:0.00000\tvalidation_1-logloss:0.01774\n",
      "[74]\tvalidation_0-error:0.00000\tvalidation_0-logloss:0.01733\tvalidation_1-error:0.00000\tvalidation_1-logloss:0.01748\n",
      "[75]\tvalidation_0-error:0.00000\tvalidation_0-logloss:0.01695\tvalidation_1-error:0.00000\tvalidation_1-logloss:0.01703\n",
      "[76]\tvalidation_0-error:0.00000\tvalidation_0-logloss:0.01677\tvalidation_1-error:0.00000\tvalidation_1-logloss:0.01688\n",
      "[77]\tvalidation_0-error:0.00000\tvalidation_0-logloss:0.01655\tvalidation_1-error:0.00000\tvalidation_1-logloss:0.01666\n",
      "[78]\tvalidation_0-error:0.00000\tvalidation_0-logloss:0.01625\tvalidation_1-error:0.00000\tvalidation_1-logloss:0.01632\n",
      "[79]\tvalidation_0-error:0.00000\tvalidation_0-logloss:0.01594\tvalidation_1-error:0.00000\tvalidation_1-logloss:0.01608\n",
      "[80]\tvalidation_0-error:0.00000\tvalidation_0-logloss:0.01553\tvalidation_1-error:0.00000\tvalidation_1-logloss:0.01565\n",
      "[81]\tvalidation_0-error:0.00000\tvalidation_0-logloss:0.01506\tvalidation_1-error:0.00000\tvalidation_1-logloss:0.01528\n",
      "[82]\tvalidation_0-error:0.00000\tvalidation_0-logloss:0.01486\tvalidation_1-error:0.00000\tvalidation_1-logloss:0.01509\n",
      "[83]\tvalidation_0-error:0.00000\tvalidation_0-logloss:0.01473\tvalidation_1-error:0.00000\tvalidation_1-logloss:0.01498\n",
      "[84]\tvalidation_0-error:0.00000\tvalidation_0-logloss:0.01454\tvalidation_1-error:0.00000\tvalidation_1-logloss:0.01477\n",
      "[85]\tvalidation_0-error:0.00000\tvalidation_0-logloss:0.01416\tvalidation_1-error:0.00000\tvalidation_1-logloss:0.01430\n",
      "[86]\tvalidation_0-error:0.00000\tvalidation_0-logloss:0.01374\tvalidation_1-error:0.00000\tvalidation_1-logloss:0.01387\n",
      "[87]\tvalidation_0-error:0.00000\tvalidation_0-logloss:0.01343\tvalidation_1-error:0.00000\tvalidation_1-logloss:0.01360\n",
      "[88]\tvalidation_0-error:0.00000\tvalidation_0-logloss:0.01312\tvalidation_1-error:0.00000\tvalidation_1-logloss:0.01325\n",
      "[89]\tvalidation_0-error:0.00000\tvalidation_0-logloss:0.01289\tvalidation_1-error:0.00000\tvalidation_1-logloss:0.01300\n",
      "[90]\tvalidation_0-error:0.00000\tvalidation_0-logloss:0.01275\tvalidation_1-error:0.00000\tvalidation_1-logloss:0.01286\n",
      "[91]\tvalidation_0-error:0.00000\tvalidation_0-logloss:0.01253\tvalidation_1-error:0.00000\tvalidation_1-logloss:0.01258\n",
      "[92]\tvalidation_0-error:0.00000\tvalidation_0-logloss:0.01243\tvalidation_1-error:0.00000\tvalidation_1-logloss:0.01244\n",
      "[93]\tvalidation_0-error:0.00000\tvalidation_0-logloss:0.01221\tvalidation_1-error:0.00000\tvalidation_1-logloss:0.01224\n",
      "[94]\tvalidation_0-error:0.00000\tvalidation_0-logloss:0.01210\tvalidation_1-error:0.00000\tvalidation_1-logloss:0.01210\n",
      "[95]\tvalidation_0-error:0.00000\tvalidation_0-logloss:0.01203\tvalidation_1-error:0.00000\tvalidation_1-logloss:0.01203\n",
      "[96]\tvalidation_0-error:0.00000\tvalidation_0-logloss:0.01181\tvalidation_1-error:0.00000\tvalidation_1-logloss:0.01186\n",
      "[97]\tvalidation_0-error:0.00000\tvalidation_0-logloss:0.01160\tvalidation_1-error:0.00000\tvalidation_1-logloss:0.01172\n",
      "[98]\tvalidation_0-error:0.00000\tvalidation_0-logloss:0.01147\tvalidation_1-error:0.00000\tvalidation_1-logloss:0.01154\n",
      "[99]\tvalidation_0-error:0.00000\tvalidation_0-logloss:0.01134\tvalidation_1-error:0.00000\tvalidation_1-logloss:0.01135\n"
     ]
    },
    {
     "data": {
      "text/plain": [
       "XGBClassifier(base_score=0.5, booster='gbtree', colsample_bylevel=1,\n",
       "              colsample_bynode=1, colsample_bytree=1, gamma=0, gpu_id=-1,\n",
       "              importance_type='gain', interaction_constraints='',\n",
       "              learning_rate=1, max_delta_step=0, max_depth=10,\n",
       "              min_child_weight=1, missing=nan, monotone_constraints='()',\n",
       "              n_estimators=100, n_jobs=0, njobs=-1, num_parallel_tree=1,\n",
       "              random_state=0, reg_alpha=0, reg_lambda=1, scale_pos_weight=1,\n",
       "              subsample=1, tree_method='exact', validate_parameters=1,\n",
       "              verbosity=None)"
      ]
     },
     "execution_count": 225,
     "metadata": {},
     "output_type": "execute_result"
    }
   ],
   "source": [
    "xgb.fit(X_train_small, y_train_small,\n",
    "        verbose=True,\n",
    "        eval_set=[(X_train_train_small, y_train_train_small), (X_train_test_small, y_train_test_small)],\n",
    "        eval_metric=[\"error\", 'logloss'], # error means accuracy\n",
    "        early_stopping_rounds=1 # uses the last metric in the eval_metric list to early stop if logloss starts to increase\n",
    "        )"
   ]
  },
  {
   "cell_type": "code",
   "execution_count": 226,
   "metadata": {
    "hidden": true
   },
   "outputs": [
    {
     "name": "stdout",
     "output_type": "stream",
     "text": [
      "              precision    recall  f1-score   support\n",
      "\n",
      "           0       0.90      0.85      0.87      4091\n",
      "           1       0.45      0.56      0.50       909\n",
      "\n",
      "    accuracy                           0.79      5000\n",
      "   macro avg       0.67      0.70      0.68      5000\n",
      "weighted avg       0.81      0.79      0.80      5000\n",
      "\n"
     ]
    }
   ],
   "source": [
    "print(classification_report(xgb.predict(X_test_small), y_test_small))"
   ]
  },
  {
   "cell_type": "code",
   "execution_count": 229,
   "metadata": {
    "hidden": true,
    "scrolled": true
   },
   "outputs": [
    {
     "data": {
      "text/plain": [
       "1.0"
      ]
     },
     "execution_count": 229,
     "metadata": {},
     "output_type": "execute_result"
    }
   ],
   "source": [
    "f1_score(xgb.predict(X_train_small), y_train_small, average='macro')"
   ]
  },
  {
   "cell_type": "code",
   "execution_count": 228,
   "metadata": {
    "hidden": true
   },
   "outputs": [
    {
     "data": {
      "text/plain": [
       "Text(0.5, 1.0, 'XGBoost Classification Error')"
      ]
     },
     "execution_count": 228,
     "metadata": {},
     "output_type": "execute_result"
    },
    {
     "data": {
      "image/png": "[encoded data removed]",
      "text/plain": [
       "<Figure size 720x288 with 2 Axes>"
      ]
     },
     "metadata": {
      "needs_background": "light"
     },
     "output_type": "display_data"
    }
   ],
   "source": [
    "# retrieve performance metrics\n",
    "results = xgb.evals_result()\n",
    "epochs = len(results['validation_0']['logloss'])\n",
    "x_axis = range(0, epochs)\n",
    "\n",
    "# plot log loss\n",
    "fig, axs = plt.subplots(1,2, figsize=(10,4))\n",
    "axs[0].plot(x_axis, results['validation_0']['logloss'], label='Train')\n",
    "axs[0].plot(x_axis, results['validation_1']['logloss'], label='Train Val')\n",
    "axs[0].legend()\n",
    "axs[0].set_ylabel('Log Loss')\n",
    "axs[0].set_title('XGBoost Log Loss')\n",
    "\n",
    "# plot classification error\n",
    "axs[1].plot(x_axis, results['validation_0']['error'], label='Train')\n",
    "axs[1].plot(x_axis, results['validation_1']['error'], label='Train Val')\n",
    "axs[1].legend()\n",
    "axs[1].set_ylabel('Classification Error')\n",
    "axs[1].set_title('XGBoost Classification Error')"
   ]
  },
  {
   "cell_type": "code",
   "execution_count": 130,
   "metadata": {
    "collapsed": true,
    "hidden": true
   },
   "outputs": [
    {
     "name": "stdout",
     "output_type": "stream",
     "text": [
      "[11:09:16] WARNING: /Users/travis/build/dmlc/xgboost/src/learner.cc:480: \n",
      "Parameters: { njobs } might not be used.\n",
      "\n",
      "  This may not be accurate due to some parameters are only used in language bindings but\n",
      "  passed down to XGBoost core.  Or some parameters are not used but slip through this\n",
      "  verification. Please open an issue if you find above cases.\n",
      "\n",
      "\n",
      "[11:09:20] WARNING: /Users/travis/build/dmlc/xgboost/src/learner.cc:480: \n",
      "Parameters: { njobs } might not be used.\n",
      "\n",
      "  This may not be accurate due to some parameters are only used in language bindings but\n",
      "  passed down to XGBoost core.  Or some parameters are not used but slip through this\n",
      "  verification. Please open an issue if you find above cases.\n",
      "\n",
      "\n",
      "[11:09:25] WARNING: /Users/travis/build/dmlc/xgboost/src/learner.cc:480: \n",
      "Parameters: { njobs } might not be used.\n",
      "\n",
      "  This may not be accurate due to some parameters are only used in language bindings but\n",
      "  passed down to XGBoost core.  Or some parameters are not used but slip through this\n",
      "  verification. Please open an issue if you find above cases.\n",
      "\n",
      "\n",
      "[11:09:29] WARNING: /Users/travis/build/dmlc/xgboost/src/learner.cc:480: \n",
      "Parameters: { njobs } might not be used.\n",
      "\n",
      "  This may not be accurate due to some parameters are only used in language bindings but\n",
      "  passed down to XGBoost core.  Or some parameters are not used but slip through this\n",
      "  verification. Please open an issue if you find above cases.\n",
      "\n",
      "\n",
      "[11:09:34] WARNING: /Users/travis/build/dmlc/xgboost/src/learner.cc:480: \n",
      "Parameters: { njobs } might not be used.\n",
      "\n",
      "  This may not be accurate due to some parameters are only used in language bindings but\n",
      "  passed down to XGBoost core.  Or some parameters are not used but slip through this\n",
      "  verification. Please open an issue if you find above cases.\n",
      "\n",
      "\n",
      "0.7992 0.674654075438536\n"
     ]
    }
   ],
   "source": [
    "cv_results = cross_validate(xgb, X_train_small, y_train_small, cv=5, scoring=['accuracy', 'f1_macro'])\n",
    "print(cv_results['test_accuracy'].mean(), cv_results['test_f1_macro'].mean())"
   ]
  },
  {
   "cell_type": "markdown",
   "metadata": {},
   "source": [
    "### Full dataset"
   ]
  },
  {
   "cell_type": "code",
   "execution_count": 310,
   "metadata": {
    "scrolled": true
   },
   "outputs": [
    {
     "name": "stdout",
     "output_type": "stream",
     "text": [
      "[00:10:55] WARNING: /Users/travis/build/dmlc/xgboost/src/learner.cc:480: \n",
      "Parameters: { njobs } might not be used.\n",
      "\n",
      "  This may not be accurate due to some parameters are only used in language bindings but\n",
      "  passed down to XGBoost core.  Or some parameters are not used but slip through this\n",
      "  verification. Please open an issue if you find above cases.\n",
      "\n",
      "\n",
      "[0]\tvalidation_0-error:0.09790\tvalidation_0-logloss:0.52550\tvalidation_1-error:0.09719\tvalidation_1-logloss:0.52527\n",
      "Multiple eval metrics have been passed: 'validation_1-logloss' will be used for early stopping.\n",
      "\n",
      "Will train until validation_1-logloss hasn't improved in 1 rounds.\n",
      "[1]\tvalidation_0-error:0.07560\tvalidation_0-logloss:0.42463\tvalidation_1-error:0.07589\tvalidation_1-logloss:0.42466\n",
      "[2]\tvalidation_0-error:0.06202\tvalidation_0-logloss:0.35357\tvalidation_1-error:0.06276\tvalidation_1-logloss:0.35374\n",
      "[3]\tvalidation_0-error:0.05152\tvalidation_0-logloss:0.30066\tvalidation_1-error:0.05208\tvalidation_1-logloss:0.30081\n",
      "[4]\tvalidation_0-error:0.04349\tvalidation_0-logloss:0.25971\tvalidation_1-error:0.04396\tvalidation_1-logloss:0.25992\n",
      "[5]\tvalidation_0-error:0.03684\tvalidation_0-logloss:0.22720\tvalidation_1-error:0.03692\tvalidation_1-logloss:0.22733\n",
      "[6]\tvalidation_0-error:0.03087\tvalidation_0-logloss:0.20075\tvalidation_1-error:0.03105\tvalidation_1-logloss:0.20092\n",
      "[7]\tvalidation_0-error:0.02577\tvalidation_0-logloss:0.17884\tvalidation_1-error:0.02612\tvalidation_1-logloss:0.17903\n",
      "[8]\tvalidation_0-error:0.02160\tvalidation_0-logloss:0.16061\tvalidation_1-error:0.02177\tvalidation_1-logloss:0.16078\n",
      "[9]\tvalidation_0-error:0.01801\tvalidation_0-logloss:0.14517\tvalidation_1-error:0.01802\tvalidation_1-logloss:0.14523\n",
      "[10]\tvalidation_0-error:0.01492\tvalidation_0-logloss:0.13207\tvalidation_1-error:0.01500\tvalidation_1-logloss:0.13214\n",
      "[11]\tvalidation_0-error:0.01227\tvalidation_0-logloss:0.12066\tvalidation_1-error:0.01228\tvalidation_1-logloss:0.12081\n",
      "[12]\tvalidation_0-error:0.01009\tvalidation_0-logloss:0.11074\tvalidation_1-error:0.01024\tvalidation_1-logloss:0.11097\n",
      "[13]\tvalidation_0-error:0.00818\tvalidation_0-logloss:0.10213\tvalidation_1-error:0.00834\tvalidation_1-logloss:0.10231\n",
      "[14]\tvalidation_0-error:0.00662\tvalidation_0-logloss:0.09455\tvalidation_1-error:0.00675\tvalidation_1-logloss:0.09470\n",
      "[15]\tvalidation_0-error:0.00529\tvalidation_0-logloss:0.08780\tvalidation_1-error:0.00538\tvalidation_1-logloss:0.08803\n",
      "[16]\tvalidation_0-error:0.00417\tvalidation_0-logloss:0.08186\tvalidation_1-error:0.00423\tvalidation_1-logloss:0.08208\n",
      "[17]\tvalidation_0-error:0.00332\tvalidation_0-logloss:0.07666\tvalidation_1-error:0.00335\tvalidation_1-logloss:0.07690\n",
      "[18]\tvalidation_0-error:0.00253\tvalidation_0-logloss:0.07191\tvalidation_1-error:0.00261\tvalidation_1-logloss:0.07211\n",
      "[19]\tvalidation_0-error:0.00195\tvalidation_0-logloss:0.06767\tvalidation_1-error:0.00204\tvalidation_1-logloss:0.06786\n",
      "[20]\tvalidation_0-error:0.00153\tvalidation_0-logloss:0.06392\tvalidation_1-error:0.00158\tvalidation_1-logloss:0.06411\n",
      "[21]\tvalidation_0-error:0.00123\tvalidation_0-logloss:0.06062\tvalidation_1-error:0.00118\tvalidation_1-logloss:0.06078\n",
      "[22]\tvalidation_0-error:0.00097\tvalidation_0-logloss:0.05763\tvalidation_1-error:0.00097\tvalidation_1-logloss:0.05776\n",
      "[23]\tvalidation_0-error:0.00076\tvalidation_0-logloss:0.05475\tvalidation_1-error:0.00079\tvalidation_1-logloss:0.05487\n",
      "[24]\tvalidation_0-error:0.00060\tvalidation_0-logloss:0.05221\tvalidation_1-error:0.00065\tvalidation_1-logloss:0.05231\n",
      "[25]\tvalidation_0-error:0.00049\tvalidation_0-logloss:0.04988\tvalidation_1-error:0.00049\tvalidation_1-logloss:0.04998\n",
      "[26]\tvalidation_0-error:0.00039\tvalidation_0-logloss:0.04770\tvalidation_1-error:0.00041\tvalidation_1-logloss:0.04783\n",
      "[27]\tvalidation_0-error:0.00034\tvalidation_0-logloss:0.04571\tvalidation_1-error:0.00036\tvalidation_1-logloss:0.04584\n",
      "[28]\tvalidation_0-error:0.00031\tvalidation_0-logloss:0.04388\tvalidation_1-error:0.00032\tvalidation_1-logloss:0.04398\n",
      "[29]\tvalidation_0-error:0.00025\tvalidation_0-logloss:0.04221\tvalidation_1-error:0.00028\tvalidation_1-logloss:0.04231\n",
      "[30]\tvalidation_0-error:0.00022\tvalidation_0-logloss:0.04059\tvalidation_1-error:0.00026\tvalidation_1-logloss:0.04071\n",
      "[31]\tvalidation_0-error:0.00021\tvalidation_0-logloss:0.03909\tvalidation_1-error:0.00023\tvalidation_1-logloss:0.03920\n",
      "[32]\tvalidation_0-error:0.00020\tvalidation_0-logloss:0.03777\tvalidation_1-error:0.00023\tvalidation_1-logloss:0.03789\n",
      "[33]\tvalidation_0-error:0.00018\tvalidation_0-logloss:0.03644\tvalidation_1-error:0.00021\tvalidation_1-logloss:0.03656\n",
      "[34]\tvalidation_0-error:0.00017\tvalidation_0-logloss:0.03531\tvalidation_1-error:0.00021\tvalidation_1-logloss:0.03540\n",
      "[35]\tvalidation_0-error:0.00016\tvalidation_0-logloss:0.03416\tvalidation_1-error:0.00022\tvalidation_1-logloss:0.03426\n",
      "[36]\tvalidation_0-error:0.00015\tvalidation_0-logloss:0.03310\tvalidation_1-error:0.00021\tvalidation_1-logloss:0.03318\n",
      "[37]\tvalidation_0-error:0.00015\tvalidation_0-logloss:0.03209\tvalidation_1-error:0.00019\tvalidation_1-logloss:0.03219\n",
      "[38]\tvalidation_0-error:0.00014\tvalidation_0-logloss:0.03113\tvalidation_1-error:0.00019\tvalidation_1-logloss:0.03123\n",
      "[39]\tvalidation_0-error:0.00014\tvalidation_0-logloss:0.03022\tvalidation_1-error:0.00017\tvalidation_1-logloss:0.03032\n",
      "[40]\tvalidation_0-error:0.00014\tvalidation_0-logloss:0.02939\tvalidation_1-error:0.00017\tvalidation_1-logloss:0.02949\n",
      "[41]\tvalidation_0-error:0.00014\tvalidation_0-logloss:0.02859\tvalidation_1-error:0.00015\tvalidation_1-logloss:0.02869\n",
      "[42]\tvalidation_0-error:0.00013\tvalidation_0-logloss:0.02786\tvalidation_1-error:0.00014\tvalidation_1-logloss:0.02795\n",
      "[43]\tvalidation_0-error:0.00013\tvalidation_0-logloss:0.02712\tvalidation_1-error:0.00015\tvalidation_1-logloss:0.02721\n",
      "[44]\tvalidation_0-error:0.00012\tvalidation_0-logloss:0.02642\tvalidation_1-error:0.00016\tvalidation_1-logloss:0.02651\n",
      "[45]\tvalidation_0-error:0.00013\tvalidation_0-logloss:0.02577\tvalidation_1-error:0.00016\tvalidation_1-logloss:0.02585\n",
      "[46]\tvalidation_0-error:0.00012\tvalidation_0-logloss:0.02515\tvalidation_1-error:0.00016\tvalidation_1-logloss:0.02522\n",
      "[47]\tvalidation_0-error:0.00012\tvalidation_0-logloss:0.02456\tvalidation_1-error:0.00015\tvalidation_1-logloss:0.02463\n",
      "[48]\tvalidation_0-error:0.00012\tvalidation_0-logloss:0.02399\tvalidation_1-error:0.00015\tvalidation_1-logloss:0.02406\n",
      "[49]\tvalidation_0-error:0.00012\tvalidation_0-logloss:0.02345\tvalidation_1-error:0.00014\tvalidation_1-logloss:0.02353\n",
      "[50]\tvalidation_0-error:0.00012\tvalidation_0-logloss:0.02296\tvalidation_1-error:0.00013\tvalidation_1-logloss:0.02304\n",
      "[51]\tvalidation_0-error:0.00011\tvalidation_0-logloss:0.02247\tvalidation_1-error:0.00015\tvalidation_1-logloss:0.02255\n",
      "[52]\tvalidation_0-error:0.00012\tvalidation_0-logloss:0.02200\tvalidation_1-error:0.00014\tvalidation_1-logloss:0.02207\n",
      "[53]\tvalidation_0-error:0.00012\tvalidation_0-logloss:0.02153\tvalidation_1-error:0.00013\tvalidation_1-logloss:0.02162\n",
      "[54]\tvalidation_0-error:0.00011\tvalidation_0-logloss:0.02110\tvalidation_1-error:0.00014\tvalidation_1-logloss:0.02116\n",
      "[55]\tvalidation_0-error:0.00011\tvalidation_0-logloss:0.02070\tvalidation_1-error:0.00015\tvalidation_1-logloss:0.02076\n",
      "[56]\tvalidation_0-error:0.00011\tvalidation_0-logloss:0.02029\tvalidation_1-error:0.00014\tvalidation_1-logloss:0.02035\n",
      "[57]\tvalidation_0-error:0.00012\tvalidation_0-logloss:0.01992\tvalidation_1-error:0.00013\tvalidation_1-logloss:0.01998\n",
      "[58]\tvalidation_0-error:0.00011\tvalidation_0-logloss:0.01957\tvalidation_1-error:0.00014\tvalidation_1-logloss:0.01963\n",
      "[59]\tvalidation_0-error:0.00011\tvalidation_0-logloss:0.01921\tvalidation_1-error:0.00016\tvalidation_1-logloss:0.01928\n",
      "[60]\tvalidation_0-error:0.00011\tvalidation_0-logloss:0.01887\tvalidation_1-error:0.00016\tvalidation_1-logloss:0.01894\n",
      "[61]\tvalidation_0-error:0.00011\tvalidation_0-logloss:0.01854\tvalidation_1-error:0.00015\tvalidation_1-logloss:0.01861\n",
      "[62]\tvalidation_0-error:0.00011\tvalidation_0-logloss:0.01822\tvalidation_1-error:0.00015\tvalidation_1-logloss:0.01828\n",
      "[63]\tvalidation_0-error:0.00011\tvalidation_0-logloss:0.01792\tvalidation_1-error:0.00014\tvalidation_1-logloss:0.01797\n",
      "[64]\tvalidation_0-error:0.00012\tvalidation_0-logloss:0.01763\tvalidation_1-error:0.00013\tvalidation_1-logloss:0.01768\n",
      "[65]\tvalidation_0-error:0.00011\tvalidation_0-logloss:0.01734\tvalidation_1-error:0.00015\tvalidation_1-logloss:0.01740\n"
     ]
    },
    {
     "name": "stdout",
     "output_type": "stream",
     "text": [
      "[66]\tvalidation_0-error:0.00011\tvalidation_0-logloss:0.01706\tvalidation_1-error:0.00015\tvalidation_1-logloss:0.01711\n",
      "[67]\tvalidation_0-error:0.00011\tvalidation_0-logloss:0.01678\tvalidation_1-error:0.00015\tvalidation_1-logloss:0.01684\n",
      "[68]\tvalidation_0-error:0.00012\tvalidation_0-logloss:0.01652\tvalidation_1-error:0.00013\tvalidation_1-logloss:0.01658\n",
      "[69]\tvalidation_0-error:0.00012\tvalidation_0-logloss:0.01627\tvalidation_1-error:0.00013\tvalidation_1-logloss:0.01632\n",
      "[70]\tvalidation_0-error:0.00011\tvalidation_0-logloss:0.01603\tvalidation_1-error:0.00014\tvalidation_1-logloss:0.01608\n",
      "[71]\tvalidation_0-error:0.00012\tvalidation_0-logloss:0.01579\tvalidation_1-error:0.00013\tvalidation_1-logloss:0.01584\n",
      "[72]\tvalidation_0-error:0.00012\tvalidation_0-logloss:0.01556\tvalidation_1-error:0.00013\tvalidation_1-logloss:0.01561\n",
      "[73]\tvalidation_0-error:0.00011\tvalidation_0-logloss:0.01532\tvalidation_1-error:0.00014\tvalidation_1-logloss:0.01537\n",
      "[74]\tvalidation_0-error:0.00012\tvalidation_0-logloss:0.01511\tvalidation_1-error:0.00013\tvalidation_1-logloss:0.01515\n",
      "[75]\tvalidation_0-error:0.00012\tvalidation_0-logloss:0.01489\tvalidation_1-error:0.00013\tvalidation_1-logloss:0.01494\n",
      "[76]\tvalidation_0-error:0.00011\tvalidation_0-logloss:0.01469\tvalidation_1-error:0.00014\tvalidation_1-logloss:0.01474\n",
      "[77]\tvalidation_0-error:0.00011\tvalidation_0-logloss:0.01448\tvalidation_1-error:0.00014\tvalidation_1-logloss:0.01453\n",
      "[78]\tvalidation_0-error:0.00012\tvalidation_0-logloss:0.01429\tvalidation_1-error:0.00013\tvalidation_1-logloss:0.01433\n",
      "[79]\tvalidation_0-error:0.00011\tvalidation_0-logloss:0.01410\tvalidation_1-error:0.00014\tvalidation_1-logloss:0.01414\n",
      "[80]\tvalidation_0-error:0.00012\tvalidation_0-logloss:0.01391\tvalidation_1-error:0.00012\tvalidation_1-logloss:0.01396\n",
      "[81]\tvalidation_0-error:0.00012\tvalidation_0-logloss:0.01373\tvalidation_1-error:0.00012\tvalidation_1-logloss:0.01378\n",
      "[82]\tvalidation_0-error:0.00011\tvalidation_0-logloss:0.01357\tvalidation_1-error:0.00013\tvalidation_1-logloss:0.01361\n",
      "[83]\tvalidation_0-error:0.00011\tvalidation_0-logloss:0.01341\tvalidation_1-error:0.00013\tvalidation_1-logloss:0.01345\n",
      "[84]\tvalidation_0-error:0.00012\tvalidation_0-logloss:0.01327\tvalidation_1-error:0.00013\tvalidation_1-logloss:0.01330\n",
      "[85]\tvalidation_0-error:0.00012\tvalidation_0-logloss:0.01311\tvalidation_1-error:0.00013\tvalidation_1-logloss:0.01314\n",
      "[86]\tvalidation_0-error:0.00011\tvalidation_0-logloss:0.01295\tvalidation_1-error:0.00014\tvalidation_1-logloss:0.01298\n",
      "[87]\tvalidation_0-error:0.00011\tvalidation_0-logloss:0.01279\tvalidation_1-error:0.00014\tvalidation_1-logloss:0.01282\n",
      "[88]\tvalidation_0-error:0.00011\tvalidation_0-logloss:0.01263\tvalidation_1-error:0.00016\tvalidation_1-logloss:0.01266\n",
      "[89]\tvalidation_0-error:0.00011\tvalidation_0-logloss:0.01248\tvalidation_1-error:0.00015\tvalidation_1-logloss:0.01252\n",
      "[90]\tvalidation_0-error:0.00011\tvalidation_0-logloss:0.01234\tvalidation_1-error:0.00014\tvalidation_1-logloss:0.01237\n",
      "[91]\tvalidation_0-error:0.00012\tvalidation_0-logloss:0.01220\tvalidation_1-error:0.00013\tvalidation_1-logloss:0.01222\n",
      "[92]\tvalidation_0-error:0.00012\tvalidation_0-logloss:0.01207\tvalidation_1-error:0.00012\tvalidation_1-logloss:0.01210\n",
      "[93]\tvalidation_0-error:0.00011\tvalidation_0-logloss:0.01193\tvalidation_1-error:0.00014\tvalidation_1-logloss:0.01196\n",
      "[94]\tvalidation_0-error:0.00011\tvalidation_0-logloss:0.01180\tvalidation_1-error:0.00013\tvalidation_1-logloss:0.01183\n",
      "[95]\tvalidation_0-error:0.00011\tvalidation_0-logloss:0.01167\tvalidation_1-error:0.00014\tvalidation_1-logloss:0.01170\n",
      "[96]\tvalidation_0-error:0.00012\tvalidation_0-logloss:0.01155\tvalidation_1-error:0.00013\tvalidation_1-logloss:0.01158\n",
      "[97]\tvalidation_0-error:0.00012\tvalidation_0-logloss:0.01144\tvalidation_1-error:0.00013\tvalidation_1-logloss:0.01146\n",
      "[98]\tvalidation_0-error:0.00012\tvalidation_0-logloss:0.01132\tvalidation_1-error:0.00013\tvalidation_1-logloss:0.01135\n",
      "[99]\tvalidation_0-error:0.00011\tvalidation_0-logloss:0.01120\tvalidation_1-error:0.00013\tvalidation_1-logloss:0.01123\n",
      "[100]\tvalidation_0-error:0.00011\tvalidation_0-logloss:0.01108\tvalidation_1-error:0.00013\tvalidation_1-logloss:0.01111\n",
      "[101]\tvalidation_0-error:0.00011\tvalidation_0-logloss:0.01097\tvalidation_1-error:0.00015\tvalidation_1-logloss:0.01100\n",
      "[102]\tvalidation_0-error:0.00011\tvalidation_0-logloss:0.01090\tvalidation_1-error:0.00013\tvalidation_1-logloss:0.01092\n",
      "[103]\tvalidation_0-error:0.00011\tvalidation_0-logloss:0.01079\tvalidation_1-error:0.00016\tvalidation_1-logloss:0.01082\n",
      "[104]\tvalidation_0-error:0.00010\tvalidation_0-logloss:0.01068\tvalidation_1-error:0.00016\tvalidation_1-logloss:0.01071\n",
      "[105]\tvalidation_0-error:0.00011\tvalidation_0-logloss:0.01058\tvalidation_1-error:0.00014\tvalidation_1-logloss:0.01060\n",
      "[106]\tvalidation_0-error:0.00011\tvalidation_0-logloss:0.01047\tvalidation_1-error:0.00014\tvalidation_1-logloss:0.01050\n",
      "[107]\tvalidation_0-error:0.00011\tvalidation_0-logloss:0.01037\tvalidation_1-error:0.00014\tvalidation_1-logloss:0.01040\n",
      "[108]\tvalidation_0-error:0.00011\tvalidation_0-logloss:0.01028\tvalidation_1-error:0.00014\tvalidation_1-logloss:0.01030\n",
      "[109]\tvalidation_0-error:0.00011\tvalidation_0-logloss:0.01018\tvalidation_1-error:0.00013\tvalidation_1-logloss:0.01020\n",
      "[110]\tvalidation_0-error:0.00012\tvalidation_0-logloss:0.01008\tvalidation_1-error:0.00012\tvalidation_1-logloss:0.01011\n",
      "[111]\tvalidation_0-error:0.00011\tvalidation_0-logloss:0.00999\tvalidation_1-error:0.00014\tvalidation_1-logloss:0.01002\n",
      "[112]\tvalidation_0-error:0.00011\tvalidation_0-logloss:0.00991\tvalidation_1-error:0.00014\tvalidation_1-logloss:0.00994\n",
      "[113]\tvalidation_0-error:0.00011\tvalidation_0-logloss:0.00983\tvalidation_1-error:0.00013\tvalidation_1-logloss:0.00986\n",
      "[114]\tvalidation_0-error:0.00011\tvalidation_0-logloss:0.00974\tvalidation_1-error:0.00014\tvalidation_1-logloss:0.00977\n",
      "[115]\tvalidation_0-error:0.00011\tvalidation_0-logloss:0.00965\tvalidation_1-error:0.00013\tvalidation_1-logloss:0.00968\n",
      "[116]\tvalidation_0-error:0.00011\tvalidation_0-logloss:0.00957\tvalidation_1-error:0.00015\tvalidation_1-logloss:0.00960\n",
      "[117]\tvalidation_0-error:0.00011\tvalidation_0-logloss:0.00949\tvalidation_1-error:0.00015\tvalidation_1-logloss:0.00952\n",
      "[118]\tvalidation_0-error:0.00011\tvalidation_0-logloss:0.00940\tvalidation_1-error:0.00015\tvalidation_1-logloss:0.00943\n",
      "[119]\tvalidation_0-error:0.00011\tvalidation_0-logloss:0.00933\tvalidation_1-error:0.00015\tvalidation_1-logloss:0.00935\n",
      "[120]\tvalidation_0-error:0.00011\tvalidation_0-logloss:0.00925\tvalidation_1-error:0.00016\tvalidation_1-logloss:0.00928\n",
      "[121]\tvalidation_0-error:0.00011\tvalidation_0-logloss:0.00917\tvalidation_1-error:0.00015\tvalidation_1-logloss:0.00921\n",
      "[122]\tvalidation_0-error:0.00011\tvalidation_0-logloss:0.00911\tvalidation_1-error:0.00016\tvalidation_1-logloss:0.00915\n",
      "[123]\tvalidation_0-error:0.00011\tvalidation_0-logloss:0.00904\tvalidation_1-error:0.00015\tvalidation_1-logloss:0.00907\n",
      "[124]\tvalidation_0-error:0.00011\tvalidation_0-logloss:0.00897\tvalidation_1-error:0.00015\tvalidation_1-logloss:0.00900\n",
      "[125]\tvalidation_0-error:0.00011\tvalidation_0-logloss:0.00890\tvalidation_1-error:0.00015\tvalidation_1-logloss:0.00893\n",
      "[126]\tvalidation_0-error:0.00011\tvalidation_0-logloss:0.00883\tvalidation_1-error:0.00014\tvalidation_1-logloss:0.00886\n",
      "[127]\tvalidation_0-error:0.00011\tvalidation_0-logloss:0.00876\tvalidation_1-error:0.00013\tvalidation_1-logloss:0.00878\n",
      "[128]\tvalidation_0-error:0.00012\tvalidation_0-logloss:0.00869\tvalidation_1-error:0.00012\tvalidation_1-logloss:0.00872\n",
      "[129]\tvalidation_0-error:0.00011\tvalidation_0-logloss:0.00863\tvalidation_1-error:0.00014\tvalidation_1-logloss:0.00865\n",
      "[130]\tvalidation_0-error:0.00011\tvalidation_0-logloss:0.00856\tvalidation_1-error:0.00014\tvalidation_1-logloss:0.00859\n",
      "[131]\tvalidation_0-error:0.00012\tvalidation_0-logloss:0.00850\tvalidation_1-error:0.00012\tvalidation_1-logloss:0.00852\n",
      "[132]\tvalidation_0-error:0.00012\tvalidation_0-logloss:0.00844\tvalidation_1-error:0.00012\tvalidation_1-logloss:0.00847\n",
      "[133]\tvalidation_0-error:0.00011\tvalidation_0-logloss:0.00838\tvalidation_1-error:0.00014\tvalidation_1-logloss:0.00840\n",
      "[134]\tvalidation_0-error:0.00011\tvalidation_0-logloss:0.00832\tvalidation_1-error:0.00014\tvalidation_1-logloss:0.00834\n",
      "[135]\tvalidation_0-error:0.00011\tvalidation_0-logloss:0.00826\tvalidation_1-error:0.00014\tvalidation_1-logloss:0.00828\n"
     ]
    },
    {
     "name": "stdout",
     "output_type": "stream",
     "text": [
      "[136]\tvalidation_0-error:0.00011\tvalidation_0-logloss:0.00819\tvalidation_1-error:0.00014\tvalidation_1-logloss:0.00822\n",
      "[137]\tvalidation_0-error:0.00011\tvalidation_0-logloss:0.00814\tvalidation_1-error:0.00013\tvalidation_1-logloss:0.00816\n",
      "[138]\tvalidation_0-error:0.00011\tvalidation_0-logloss:0.00808\tvalidation_1-error:0.00013\tvalidation_1-logloss:0.00810\n",
      "[139]\tvalidation_0-error:0.00011\tvalidation_0-logloss:0.00803\tvalidation_1-error:0.00014\tvalidation_1-logloss:0.00805\n",
      "[140]\tvalidation_0-error:0.00012\tvalidation_0-logloss:0.00797\tvalidation_1-error:0.00013\tvalidation_1-logloss:0.00799\n",
      "[141]\tvalidation_0-error:0.00012\tvalidation_0-logloss:0.00792\tvalidation_1-error:0.00012\tvalidation_1-logloss:0.00793\n",
      "[142]\tvalidation_0-error:0.00012\tvalidation_0-logloss:0.00786\tvalidation_1-error:0.00012\tvalidation_1-logloss:0.00788\n",
      "[143]\tvalidation_0-error:0.00012\tvalidation_0-logloss:0.00781\tvalidation_1-error:0.00013\tvalidation_1-logloss:0.00783\n",
      "[144]\tvalidation_0-error:0.00011\tvalidation_0-logloss:0.00775\tvalidation_1-error:0.00013\tvalidation_1-logloss:0.00777\n",
      "[145]\tvalidation_0-error:0.00012\tvalidation_0-logloss:0.00770\tvalidation_1-error:0.00012\tvalidation_1-logloss:0.00772\n",
      "[146]\tvalidation_0-error:0.00012\tvalidation_0-logloss:0.00765\tvalidation_1-error:0.00011\tvalidation_1-logloss:0.00767\n",
      "[147]\tvalidation_0-error:0.00012\tvalidation_0-logloss:0.00760\tvalidation_1-error:0.00011\tvalidation_1-logloss:0.00762\n",
      "[148]\tvalidation_0-error:0.00013\tvalidation_0-logloss:0.00754\tvalidation_1-error:0.00010\tvalidation_1-logloss:0.00757\n",
      "[149]\tvalidation_0-error:0.00012\tvalidation_0-logloss:0.00750\tvalidation_1-error:0.00010\tvalidation_1-logloss:0.00752\n",
      "[150]\tvalidation_0-error:0.00012\tvalidation_0-logloss:0.00745\tvalidation_1-error:0.00011\tvalidation_1-logloss:0.00747\n",
      "[151]\tvalidation_0-error:0.00012\tvalidation_0-logloss:0.00741\tvalidation_1-error:0.00012\tvalidation_1-logloss:0.00743\n",
      "[152]\tvalidation_0-error:0.00011\tvalidation_0-logloss:0.00736\tvalidation_1-error:0.00013\tvalidation_1-logloss:0.00738\n",
      "[153]\tvalidation_0-error:0.00011\tvalidation_0-logloss:0.00731\tvalidation_1-error:0.00014\tvalidation_1-logloss:0.00734\n",
      "[154]\tvalidation_0-error:0.00012\tvalidation_0-logloss:0.00726\tvalidation_1-error:0.00013\tvalidation_1-logloss:0.00729\n",
      "[155]\tvalidation_0-error:0.00011\tvalidation_0-logloss:0.00722\tvalidation_1-error:0.00014\tvalidation_1-logloss:0.00724\n",
      "[156]\tvalidation_0-error:0.00011\tvalidation_0-logloss:0.00717\tvalidation_1-error:0.00013\tvalidation_1-logloss:0.00720\n",
      "[157]\tvalidation_0-error:0.00012\tvalidation_0-logloss:0.00713\tvalidation_1-error:0.00012\tvalidation_1-logloss:0.00715\n",
      "[158]\tvalidation_0-error:0.00012\tvalidation_0-logloss:0.00708\tvalidation_1-error:0.00011\tvalidation_1-logloss:0.00711\n",
      "[159]\tvalidation_0-error:0.00013\tvalidation_0-logloss:0.00704\tvalidation_1-error:0.00010\tvalidation_1-logloss:0.00707\n",
      "[160]\tvalidation_0-error:0.00012\tvalidation_0-logloss:0.00700\tvalidation_1-error:0.00011\tvalidation_1-logloss:0.00703\n",
      "[161]\tvalidation_0-error:0.00012\tvalidation_0-logloss:0.00696\tvalidation_1-error:0.00013\tvalidation_1-logloss:0.00699\n",
      "[162]\tvalidation_0-error:0.00011\tvalidation_0-logloss:0.00692\tvalidation_1-error:0.00014\tvalidation_1-logloss:0.00695\n",
      "[163]\tvalidation_0-error:0.00012\tvalidation_0-logloss:0.00688\tvalidation_1-error:0.00013\tvalidation_1-logloss:0.00690\n",
      "[164]\tvalidation_0-error:0.00012\tvalidation_0-logloss:0.00684\tvalidation_1-error:0.00013\tvalidation_1-logloss:0.00686\n",
      "[165]\tvalidation_0-error:0.00012\tvalidation_0-logloss:0.00680\tvalidation_1-error:0.00013\tvalidation_1-logloss:0.00683\n",
      "[166]\tvalidation_0-error:0.00011\tvalidation_0-logloss:0.00676\tvalidation_1-error:0.00014\tvalidation_1-logloss:0.00679\n",
      "[167]\tvalidation_0-error:0.00011\tvalidation_0-logloss:0.00672\tvalidation_1-error:0.00015\tvalidation_1-logloss:0.00675\n",
      "[168]\tvalidation_0-error:0.00011\tvalidation_0-logloss:0.00668\tvalidation_1-error:0.00015\tvalidation_1-logloss:0.00671\n",
      "[169]\tvalidation_0-error:0.00011\tvalidation_0-logloss:0.00664\tvalidation_1-error:0.00015\tvalidation_1-logloss:0.00667\n",
      "[170]\tvalidation_0-error:0.00012\tvalidation_0-logloss:0.00661\tvalidation_1-error:0.00013\tvalidation_1-logloss:0.00664\n",
      "[171]\tvalidation_0-error:0.00011\tvalidation_0-logloss:0.00657\tvalidation_1-error:0.00014\tvalidation_1-logloss:0.00660\n",
      "[172]\tvalidation_0-error:0.00011\tvalidation_0-logloss:0.00653\tvalidation_1-error:0.00014\tvalidation_1-logloss:0.00656\n",
      "[173]\tvalidation_0-error:0.00011\tvalidation_0-logloss:0.00650\tvalidation_1-error:0.00013\tvalidation_1-logloss:0.00653\n",
      "[174]\tvalidation_0-error:0.00012\tvalidation_0-logloss:0.00646\tvalidation_1-error:0.00013\tvalidation_1-logloss:0.00649\n",
      "[175]\tvalidation_0-error:0.00012\tvalidation_0-logloss:0.00643\tvalidation_1-error:0.00013\tvalidation_1-logloss:0.00645\n",
      "[176]\tvalidation_0-error:0.00011\tvalidation_0-logloss:0.00639\tvalidation_1-error:0.00015\tvalidation_1-logloss:0.00642\n",
      "[177]\tvalidation_0-error:0.00011\tvalidation_0-logloss:0.00636\tvalidation_1-error:0.00014\tvalidation_1-logloss:0.00639\n",
      "[178]\tvalidation_0-error:0.00012\tvalidation_0-logloss:0.00632\tvalidation_1-error:0.00013\tvalidation_1-logloss:0.00635\n",
      "[179]\tvalidation_0-error:0.00011\tvalidation_0-logloss:0.00629\tvalidation_1-error:0.00014\tvalidation_1-logloss:0.00632\n",
      "[180]\tvalidation_0-error:0.00011\tvalidation_0-logloss:0.00626\tvalidation_1-error:0.00015\tvalidation_1-logloss:0.00628\n",
      "[181]\tvalidation_0-error:0.00011\tvalidation_0-logloss:0.00623\tvalidation_1-error:0.00013\tvalidation_1-logloss:0.00625\n",
      "[182]\tvalidation_0-error:0.00012\tvalidation_0-logloss:0.00619\tvalidation_1-error:0.00012\tvalidation_1-logloss:0.00622\n",
      "[183]\tvalidation_0-error:0.00012\tvalidation_0-logloss:0.00616\tvalidation_1-error:0.00011\tvalidation_1-logloss:0.00619\n",
      "[184]\tvalidation_0-error:0.00012\tvalidation_0-logloss:0.00613\tvalidation_1-error:0.00013\tvalidation_1-logloss:0.00616\n",
      "[185]\tvalidation_0-error:0.00012\tvalidation_0-logloss:0.00610\tvalidation_1-error:0.00012\tvalidation_1-logloss:0.00612\n",
      "[186]\tvalidation_0-error:0.00011\tvalidation_0-logloss:0.00607\tvalidation_1-error:0.00014\tvalidation_1-logloss:0.00609\n",
      "[187]\tvalidation_0-error:0.00012\tvalidation_0-logloss:0.00604\tvalidation_1-error:0.00011\tvalidation_1-logloss:0.00606\n",
      "[188]\tvalidation_0-error:0.00012\tvalidation_0-logloss:0.00601\tvalidation_1-error:0.00012\tvalidation_1-logloss:0.00603\n",
      "[189]\tvalidation_0-error:0.00011\tvalidation_0-logloss:0.00598\tvalidation_1-error:0.00013\tvalidation_1-logloss:0.00600\n",
      "[190]\tvalidation_0-error:0.00012\tvalidation_0-logloss:0.00595\tvalidation_1-error:0.00012\tvalidation_1-logloss:0.00597\n",
      "[191]\tvalidation_0-error:0.00012\tvalidation_0-logloss:0.00592\tvalidation_1-error:0.00012\tvalidation_1-logloss:0.00594\n",
      "[192]\tvalidation_0-error:0.00012\tvalidation_0-logloss:0.00589\tvalidation_1-error:0.00013\tvalidation_1-logloss:0.00591\n",
      "[193]\tvalidation_0-error:0.00012\tvalidation_0-logloss:0.00587\tvalidation_1-error:0.00012\tvalidation_1-logloss:0.00589\n",
      "[194]\tvalidation_0-error:0.00012\tvalidation_0-logloss:0.00584\tvalidation_1-error:0.00012\tvalidation_1-logloss:0.00586\n",
      "[195]\tvalidation_0-error:0.00012\tvalidation_0-logloss:0.00581\tvalidation_1-error:0.00011\tvalidation_1-logloss:0.00583\n",
      "[196]\tvalidation_0-error:0.00012\tvalidation_0-logloss:0.00578\tvalidation_1-error:0.00012\tvalidation_1-logloss:0.00580\n",
      "[197]\tvalidation_0-error:0.00012\tvalidation_0-logloss:0.00575\tvalidation_1-error:0.00010\tvalidation_1-logloss:0.00577\n",
      "[198]\tvalidation_0-error:0.00012\tvalidation_0-logloss:0.00573\tvalidation_1-error:0.00012\tvalidation_1-logloss:0.00575\n",
      "[199]\tvalidation_0-error:0.00012\tvalidation_0-logloss:0.00570\tvalidation_1-error:0.00012\tvalidation_1-logloss:0.00572\n"
     ]
    },
    {
     "data": {
      "text/plain": [
       "XGBClassifier(base_score=0.5, booster='gbtree', colsample_bylevel=1,\n",
       "              colsample_bynode=1, colsample_bytree=1, gamma=0, gpu_id=-1,\n",
       "              importance_type='gain', interaction_constraints='',\n",
       "              learning_rate=0.300000012, max_delta_step=0, max_depth=60,\n",
       "              min_child_weight=1, missing=nan, monotone_constraints='()',\n",
       "              n_estimators=200, n_jobs=0, njobs=-2, num_parallel_tree=1,\n",
       "              random_state=0, reg_alpha=0, reg_lambda=1, scale_pos_weight=1,\n",
       "              subsample=1, tree_method='exact', validate_parameters=1,\n",
       "              verbosity=None)"
      ]
     },
     "execution_count": 310,
     "metadata": {},
     "output_type": "execute_result"
    }
   ],
   "source": [
    "xgb = XGBClassifier(max_depth=60, n_estimators=40, njobs=-2)\n",
    "xgb.fit(X_train, y_train,\n",
    "        verbose=True,\n",
    "        eval_set=[(X_train_train, y_train_train), (X_train_test, y_train_test)],\n",
    "        eval_metric=[\"error\", \"logloss\"], # error means accuracy\n",
    "        early_stopping_rounds=1\n",
    "        )"
   ]
  },
  {
   "cell_type": "code",
   "execution_count": 315,
   "metadata": {},
   "outputs": [
    {
     "name": "stdout",
     "output_type": "stream",
     "text": [
      "              precision    recall  f1-score   support\n",
      "\n",
      "           0       0.93      0.86      0.90    230587\n",
      "           1       0.48      0.66      0.55     43537\n",
      "\n",
      "    accuracy                           0.83    274124\n",
      "   macro avg       0.70      0.76      0.72    274124\n",
      "weighted avg       0.86      0.83      0.84    274124\n",
      "\n"
     ]
    }
   ],
   "source": [
    "xgb_pred = xgb.predict(X_test)\n",
    "\n",
    "print(classification_report(xgb_pred, y_test))"
   ]
  },
  {
   "cell_type": "code",
   "execution_count": 316,
   "metadata": {},
   "outputs": [
    {
     "name": "stdout",
     "output_type": "stream",
     "text": [
      "              precision    recall  f1-score   support\n",
      "\n",
      "           0       1.00      1.00      1.00    642681\n",
      "           1       1.00      1.00      1.00    179691\n",
      "\n",
      "    accuracy                           1.00    822372\n",
      "   macro avg       1.00      1.00      1.00    822372\n",
      "weighted avg       1.00      1.00      1.00    822372\n",
      "\n"
     ]
    }
   ],
   "source": [
    "# Aren't we overfitting?\n",
    "print(classification_report(xgb.predict(X_train), y_train))"
   ]
  },
  {
   "cell_type": "code",
   "execution_count": 313,
   "metadata": {},
   "outputs": [],
   "source": [
    "# retrieve performance metrics\n",
    "results = xgb.evals_result()\n",
    "epochs = len(results['validation_0']['logloss'])\n",
    "x_axis = range(0, epochs)"
   ]
  },
  {
   "cell_type": "code",
   "execution_count": 314,
   "metadata": {},
   "outputs": [
    {
     "data": {
      "image/png": "[encoded data removed]",
      "text/plain": [
       "<Figure size 432x288 with 1 Axes>"
      ]
     },
     "metadata": {
      "needs_background": "light"
     },
     "output_type": "display_data"
    },
    {
     "data": {
      "image/png": "[encoded data removed]",
      "text/plain": [
       "<Figure size 432x288 with 1 Axes>"
      ]
     },
     "metadata": {
      "needs_background": "light"
     },
     "output_type": "display_data"
    }
   ],
   "source": [
    "# plot log loss\n",
    "fig, ax = plt.subplots()\n",
    "ax.plot(x_axis, results['validation_0']['logloss'], label='Train')\n",
    "ax.plot(x_axis, results['validation_1']['logloss'], label='Train Val')\n",
    "ax.legend()\n",
    "plt.ylabel('Log Loss')\n",
    "plt.title('XGBoost Log Loss')\n",
    "plt.show()\n",
    "\n",
    "# plot classification error\n",
    "fig, ax = plt.subplots()\n",
    "ax.plot(x_axis, results['validation_0']['error'], label='Train')\n",
    "ax.plot(x_axis, results['validation_1']['error'], label='Train Val')\n",
    "ax.legend()\n",
    "plt.ylabel('Classification Error')\n",
    "plt.title('XGBoost Classification Error')\n",
    "plt.show()"
   ]
  },
  {
   "cell_type": "markdown",
   "metadata": {},
   "source": [
    "## Dense Neural Network"
   ]
  },
  {
   "cell_type": "code",
   "execution_count": 92,
   "metadata": {},
   "outputs": [],
   "source": [
    "from tensorflow.keras import layers, Sequential\n",
    "from tensorflow.keras.callbacks import EarlyStopping"
   ]
  },
  {
   "cell_type": "code",
   "execution_count": 93,
   "metadata": {},
   "outputs": [
    {
     "name": "stdout",
     "output_type": "stream",
     "text": [
      "Model: \"sequential_5\"\n",
      "_________________________________________________________________\n",
      "Layer (type)                 Output Shape              Param #   \n",
      "=================================================================\n",
      "dense_16 (Dense)             (None, 100)               21600     \n",
      "_________________________________________________________________\n",
      "dropout_1 (Dropout)          (None, 100)               0         \n",
      "_________________________________________________________________\n",
      "dense_17 (Dense)             (None, 25)                2525      \n",
      "_________________________________________________________________\n",
      "dense_18 (Dense)             (None, 1)                 26        \n",
      "=================================================================\n",
      "Total params: 24,151\n",
      "Trainable params: 24,151\n",
      "Non-trainable params: 0\n",
      "_________________________________________________________________\n"
     ]
    }
   ],
   "source": [
    "model = Sequential()\n",
    "model.add(layers.Dense(100, input_dim=X.shape[1], activation='relu'))\n",
    "model.add(layers.Dropout(0.2))\n",
    "model.add(layers.Dense(25, activation='relu'))\n",
    "model.add(layers.Dense(1, activation='sigmoid'))\n",
    "model.summary()"
   ]
  },
  {
   "cell_type": "code",
   "execution_count": 94,
   "metadata": {},
   "outputs": [
    {
     "data": {
      "text/plain": [
       "(37500, 215)"
      ]
     },
     "execution_count": 94,
     "metadata": {},
     "output_type": "execute_result"
    }
   ],
   "source": [
    "X_train_small.shape"
   ]
  },
  {
   "cell_type": "code",
   "execution_count": 128,
   "metadata": {},
   "outputs": [],
   "source": [
    "from tensorflow.keras.optimizers import Adam\n",
    "opt = Adam(learning_rate=0.0005)"
   ]
  },
  {
   "cell_type": "code",
   "execution_count": null,
   "metadata": {},
   "outputs": [],
   "source": [
    "model.compile(loss=\"binary_crossentropy\", optimizer=opt,  metrics=['accuracy'])\n",
    "\n",
    "es = EarlyStopping(monitor='val_loss', patience=3, verbose=2, mode='min')"
   ]
  },
  {
   "cell_type": "code",
   "execution_count": 134,
   "metadata": {
    "scrolled": false
   },
   "outputs": [
    {
     "name": "stdout",
     "output_type": "stream",
     "text": [
      "Epoch 1/400\n",
      "1641/1641 - 2s - loss: 0.2728 - accuracy: 0.8811 - val_loss: 0.4665 - val_accuracy: 0.8061\n",
      "Epoch 2/400\n",
      "1641/1641 - 2s - loss: 0.2724 - accuracy: 0.8809 - val_loss: 0.4676 - val_accuracy: 0.8115\n",
      "Epoch 3/400\n",
      "1641/1641 - 2s - loss: 0.2679 - accuracy: 0.8846 - val_loss: 0.4754 - val_accuracy: 0.8115\n",
      "Epoch 4/400\n",
      "1641/1641 - 2s - loss: 0.2631 - accuracy: 0.8862 - val_loss: 0.4809 - val_accuracy: 0.8101\n",
      "Epoch 00004: early stopping\n",
      "CPU times: user 9.32 s, sys: 2.3 s, total: 11.6 s\n",
      "Wall time: 6.63 s\n"
     ]
    }
   ],
   "source": [
    "%%time\n",
    "history = model.fit(X_train_small, y_train_small, validation_split=0.3,\n",
    "                    epochs=400, batch_size=16, callbacks=[es],\n",
    "                    verbose=2, workers=-1, use_multiprocessing=True)"
   ]
  },
  {
   "cell_type": "code",
   "execution_count": 96,
   "metadata": {},
   "outputs": [
    {
     "name": "stdout",
     "output_type": "stream",
     "text": [
      "391/391 [==============================] - 0s 629us/step - loss: 0.3915 - accuracy: 0.8224\n"
     ]
    },
    {
     "data": {
      "text/plain": [
       "[0.3915366530418396, 0.8223999738693237]"
      ]
     },
     "execution_count": 96,
     "metadata": {},
     "output_type": "execute_result"
    }
   ],
   "source": [
    "model.evaluate(X_test_small, y_test_small)"
   ]
  },
  {
   "cell_type": "code",
   "execution_count": 121,
   "metadata": {},
   "outputs": [
    {
     "name": "stdout",
     "output_type": "stream",
     "text": [
      "              precision    recall  f1-score   support\n",
      "\n",
      "           0       0.94      0.85      0.89     10811\n",
      "           1       0.40      0.65      0.50      1689\n",
      "\n",
      "    accuracy                           0.82     12500\n",
      "   macro avg       0.67      0.75      0.69     12500\n",
      "weighted avg       0.87      0.82      0.84     12500\n",
      "\n"
     ]
    }
   ],
   "source": [
    "# Test classif report\n",
    "print(classification_report(model.predict_classes(X_test_small)[:,0], y_test_small))"
   ]
  },
  {
   "cell_type": "code",
   "execution_count": 122,
   "metadata": {
    "scrolled": false
   },
   "outputs": [
    {
     "name": "stdout",
     "output_type": "stream",
     "text": [
      "              precision    recall  f1-score   support\n",
      "\n",
      "           0       0.95      0.86      0.90     32342\n",
      "           1       0.46      0.72      0.56      5158\n",
      "\n",
      "    accuracy                           0.84     37500\n",
      "   macro avg       0.70      0.79      0.73     37500\n",
      "weighted avg       0.88      0.84      0.86     37500\n",
      "\n"
     ]
    }
   ],
   "source": [
    "# Train report\n",
    "print(classification_report(model.predict_classes(X_train_small)[:,0], y_train_small))"
   ]
  },
  {
   "cell_type": "code",
   "execution_count": 123,
   "metadata": {
    "scrolled": true
   },
   "outputs": [
    {
     "data": {
      "image/png": "[encoded data removed]",
      "text/plain": [
       "<Figure size 936x288 with 2 Axes>"
      ]
     },
     "metadata": {
      "needs_background": "light"
     },
     "output_type": "display_data"
    }
   ],
   "source": [
    "# Plot training & validation loss values\n",
    "plt.figure(figsize=(13,4))\n",
    "plt.subplot(1,2,1)\n",
    "plt.plot(history.history['loss'])\n",
    "plt.plot(history.history['val_loss'])\n",
    "plt.title('Model loss')\n",
    "plt.ylabel('Loss')\n",
    "plt.xlabel('Epoch')\n",
    "plt.legend(['Train', 'Val'], loc='best')\n",
    "\n",
    "# Plot training & validation loss values\n",
    "plt.subplot(1,2,2)\n",
    "plt.plot(history.history['accuracy'])\n",
    "plt.plot(history.history['val_accuracy'])\n",
    "plt.title('Model accuracy')\n",
    "plt.ylabel('Accuracy')\n",
    "plt.xlabel('Epoch')\n",
    "plt.legend(['Train', 'Val'], loc='best')\n",
    "plt.show()"
   ]
  },
  {
   "cell_type": "markdown",
   "metadata": {},
   "source": [
    "# Going Further"
   ]
  },
  {
   "cell_type": "markdown",
   "metadata": {},
   "source": [
    "- Feature Engineering\n",
    "    - Create weekday feature (monday, .... ,sunday)\n",
    "    - Create \"age of user\" feature? "
   ]
  },
  {
   "cell_type": "code",
   "execution_count": null,
   "metadata": {},
   "outputs": [],
   "source": []
  }
 ],
 "metadata": {
  "kernelspec": {
   "display_name": "Python 3",
   "language": "python",
   "name": "python3"
  },
  "language_info": {
   "codemirror_mode": {
    "name": "ipython",
    "version": 3
   },
   "file_extension": ".py",
   "mimetype": "text/x-python",
   "name": "python",
   "nbconvert_exporter": "python",
   "pygments_lexer": "ipython3",
   "version": "3.8.5"
  },
  "toc": {
   "base_numbering": 1,
   "nav_menu": {},
   "number_sections": true,
   "sideBar": true,
   "skip_h1_title": false,
   "title_cell": "Table of Contents",
   "title_sidebar": "Contents",
   "toc_cell": false,
   "toc_position": {
    "height": "calc(100% - 180px)",
    "left": "10px",
    "top": "150px",
    "width": "230.797px"
   },
   "toc_section_display": true,
   "toc_window_display": true
  },
  "varInspector": {
   "cols": {
    "lenName": 16,
    "lenType": 16,
    "lenVar": 40
   },
   "kernels_config": {
    "python": {
     "delete_cmd_postfix": "",
     "delete_cmd_prefix": "del ",
     "library": "var_list.py",
     "varRefreshCmd": "print(var_dic_list())"
    },
    "r": {
     "delete_cmd_postfix": ") ",
     "delete_cmd_prefix": "rm(",
     "library": "var_list.r",
     "varRefreshCmd": "cat(var_dic_list()) "
    }
   },
   "position": {
    "height": "624px",
    "left": "740px",
    "right": "20px",
    "top": "141px",
    "width": "564px"
   },
   "types_to_exclude": [
    "module",
    "function",
    "builtin_function_or_method",
    "instance",
    "_Feature"
   ],
   "window_display": false
  }
 },
 "nbformat": 4,
 "nbformat_minor": 4
}

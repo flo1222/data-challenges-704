{
 "cells": [
  {
   "cell_type": "markdown",
   "metadata": {},
   "source": [
    "# Simple ARIMA model for non-seasonal time-serie forecast\n",
    "\n",
    "Our goal in this challenge is to apply the basic concepts of time series analysis on one-dimension data\n",
    "\n",
    "In this challenge, we'll go through the following steps : \n",
    "1. load and visualize the data;\n",
    "2. train our models and make predictions;"
   ]
  },
  {
   "cell_type": "markdown",
   "metadata": {},
   "source": [
    "##  1. Load Data\n",
    "Let's start by loading the time series of the challenge"
   ]
  },
  {
   "cell_type": "code",
   "execution_count": 92,
   "metadata": {
    "ExecuteTime": {
     "end_time": "2020-11-12T13:08:04.913206Z",
     "start_time": "2020-11-12T13:08:04.910206Z"
    }
   },
   "outputs": [],
   "source": [
    "import pandas as pd\n",
    "import numpy as np"
   ]
  },
  {
   "cell_type": "code",
   "execution_count": 93,
   "metadata": {
    "ExecuteTime": {
     "end_time": "2020-11-12T13:08:05.282301Z",
     "start_time": "2020-11-12T13:08:05.276066Z"
    },
    "scrolled": false
   },
   "outputs": [],
   "source": [
    "data = pd.read_csv('data/wwwusage.csv')"
   ]
  },
  {
   "cell_type": "code",
   "execution_count": 94,
   "metadata": {
    "ExecuteTime": {
     "end_time": "2020-11-12T13:08:05.490048Z",
     "start_time": "2020-11-12T13:08:05.483104Z"
    }
   },
   "outputs": [
    {
     "data": {
      "text/html": [
       "<div>\n",
       "<style scoped>\n",
       "    .dataframe tbody tr th:only-of-type {\n",
       "        vertical-align: middle;\n",
       "    }\n",
       "\n",
       "    .dataframe tbody tr th {\n",
       "        vertical-align: top;\n",
       "    }\n",
       "\n",
       "    .dataframe thead th {\n",
       "        text-align: right;\n",
       "    }\n",
       "</style>\n",
       "<table border=\"1\" class=\"dataframe\">\n",
       "  <thead>\n",
       "    <tr style=\"text-align: right;\">\n",
       "      <th></th>\n",
       "      <th>x</th>\n",
       "    </tr>\n",
       "  </thead>\n",
       "  <tbody>\n",
       "    <tr>\n",
       "      <th>0</th>\n",
       "      <td>88</td>\n",
       "    </tr>\n",
       "  </tbody>\n",
       "</table>\n",
       "</div>"
      ],
      "text/plain": [
       "    x\n",
       "0  88"
      ]
     },
     "execution_count": 94,
     "metadata": {},
     "output_type": "execute_result"
    }
   ],
   "source": [
    "data.head(1)"
   ]
  },
  {
   "cell_type": "code",
   "execution_count": 95,
   "metadata": {
    "ExecuteTime": {
     "end_time": "2020-11-12T13:08:05.871078Z",
     "start_time": "2020-11-12T13:08:05.690415Z"
    }
   },
   "outputs": [
    {
     "data": {
      "text/plain": [
       "<AxesSubplot:>"
      ]
     },
     "execution_count": 95,
     "metadata": {},
     "output_type": "execute_result"
    },
    {
     "data": {
      "image/png": "[encoded data removed]",
      "text/plain": [
       "<Figure size 432x288 with 1 Axes>"
      ]
     },
     "metadata": {
      "needs_background": "light"
     },
     "output_type": "display_data"
    }
   ],
   "source": [
    "data.plot()"
   ]
  },
  {
   "cell_type": "markdown",
   "metadata": {},
   "source": [
    "This abstract time serie does not seem seasonal, but with some increasing trend and somehow \"sticky\" (i.e. with some auto-regressivity). So it may be a good candidate for Auto-Regresive Moving Average (ARIMA) models\n"
   ]
  },
  {
   "cell_type": "markdown",
   "metadata": {},
   "source": [
    "## 2. Build ARIMA model\n",
    "We will try to forecast the data thanks to ARIMA models (Auto Regressive Integrated Moving Average).\n",
    "\n",
    "For that, we will need to :\n",
    "1. find how to stationarize the time serie (I in SARIMA)\n",
    "2. find the auto-regressive (AR) part\n",
    "3. find the Moving-Average (MA) part\n",
    "4. Fit\n",
    "5. Assess performance"
   ]
  },
  {
   "cell_type": "markdown",
   "metadata": {},
   "source": [
    "### Step 1 - Ensure stationarity\n",
    "\n",
    "ARIMA models applies to \"stationary\" time series only.\n",
    "\n",
    "👉 Check its stationarity precisely using the [`Augmented Dick Fuller test`](https://www.statsmodels.org/stable/generated/statsmodels.tsa.stattools.adfuller.html), and especially its p-value"
   ]
  },
  {
   "cell_type": "code",
   "execution_count": 96,
   "metadata": {
    "ExecuteTime": {
     "end_time": "2020-11-12T13:08:06.519351Z",
     "start_time": "2020-11-12T13:08:06.501629Z"
    }
   },
   "outputs": [
    {
     "data": {
      "text/plain": [
       "0.12441935447109442"
      ]
     },
     "execution_count": 96,
     "metadata": {},
     "output_type": "execute_result"
    }
   ],
   "source": [
    "from statsmodels.tsa.stattools import adfuller as ADF\n",
    "ADF(data['x'])[1]"
   ]
  },
  {
   "cell_type": "markdown",
   "metadata": {},
   "source": [
    "The p-value should be  less than 0.05 to have a 95% confidence in the stationarity.  \n",
    "If the p-value is larger than 0.05, we cannot reject the null hypothesis (null hypothesis = \"the process is not stationary\")."
   ]
  },
  {
   "cell_type": "markdown",
   "metadata": {},
   "source": [
    "If the time series is not stationary, it needs to be stationarized through **differencing**. \n",
    "- It means that we take the difference between each value and the preceding one (*first difference*).\n",
    "- Repeat process on the differentiated serie if you want the *second difference*, etc...\n",
    "\n",
    "👉 Find the minimum order of differencing we need to make it stationnary (plot the curves to visualize them, and print their adfuller p-value to be sure)\n",
    "\n",
    "<details>\n",
    "    <summary>Hint</summary>\n",
    "\n",
    "`pd.Series.diff`\n",
    "</details>"
   ]
  },
  {
   "cell_type": "code",
   "execution_count": 97,
   "metadata": {
    "ExecuteTime": {
     "end_time": "2020-11-12T13:08:07.117584Z",
     "start_time": "2020-11-12T13:08:07.096877Z"
    }
   },
   "outputs": [
    {
     "data": {
      "text/plain": [
       "0.07026846015272728"
      ]
     },
     "execution_count": 97,
     "metadata": {},
     "output_type": "execute_result"
    }
   ],
   "source": [
    "first_order = data['x'].diff(1).dropna()\n",
    "ADF(first_order)[1]"
   ]
  },
  {
   "cell_type": "code",
   "execution_count": 98,
   "metadata": {
    "ExecuteTime": {
     "end_time": "2020-11-12T13:08:07.316881Z",
     "start_time": "2020-11-12T13:08:07.302709Z"
    }
   },
   "outputs": [
    {
     "data": {
      "text/plain": [
       "2.8434287555470966e-17"
      ]
     },
     "execution_count": 98,
     "metadata": {},
     "output_type": "execute_result"
    }
   ],
   "source": [
    "second_order = data['x'].diff(1).diff(1).dropna()\n",
    "ADF(second_order)[1]"
   ]
  },
  {
   "cell_type": "markdown",
   "metadata": {},
   "source": [
    "We have a close-call here between one and two diff orders. Differentiating too much a time series may also reduce performance of your ARIMA models. Let's have a closer look:\n",
    "\n",
    "👉 Plot autocorrelation plot ([`plot_acf`](https://www.statsmodels.org/stable/generated/statsmodels.graphics.tsaplots.plot_acf.html)) for diff order 1 and 2.\n",
    "\n",
    "(💡Pro tip: Avoid duplicating statsmodels plots by calling `plt.show()` or by adding `;` to the end of each instantiation of a statsmodels plot)"
   ]
  },
  {
   "cell_type": "code",
   "execution_count": 99,
   "metadata": {
    "ExecuteTime": {
     "end_time": "2020-11-12T13:08:08.078693Z",
     "start_time": "2020-11-12T13:08:07.846678Z"
    },
    "scrolled": false
   },
   "outputs": [
    {
     "data": {
      "image/png": "[encoded data removed]",
      "text/plain": [
       "<Figure size 1152x216 with 2 Axes>"
      ]
     },
     "metadata": {
      "needs_background": "light"
     },
     "output_type": "display_data"
    }
   ],
   "source": [
    "import matplotlib.pyplot as plt\n",
    "from statsmodels.graphics.tsaplots import plot_acf, plot_pacf\n",
    "fig, (ax1, ax2) = plt.subplots(1,2, figsize=(16,3))\n",
    "plot_acf(first_order, ax=ax1)\n",
    "plot_acf(second_order, ax = ax2)\n",
    "plt.show()"
   ]
  },
  {
   "cell_type": "markdown",
   "metadata": {},
   "source": [
    "In our \"second order diff\" autocorrelation plot, the lag coefficient n°1 is close to 0, while the second one escapes far into negative territory. This might indicate we have over-differentiated the series. (Remember: we never care about the lag n°0 which is always equal to 1)\n",
    "\n",
    "👉 Let's (temptatively) keep only one diff order and name this series `y_diff` (we can always try more diff later)"
   ]
  },
  {
   "cell_type": "code",
   "execution_count": 100,
   "metadata": {
    "ExecuteTime": {
     "end_time": "2020-11-12T13:08:08.623882Z",
     "start_time": "2020-11-12T13:08:08.618267Z"
    }
   },
   "outputs": [],
   "source": [
    "y_diff = data['x'].diff(1).dropna()\n",
    "del first_order\n",
    "del second_order\n"
   ]
  },
  {
   "cell_type": "markdown",
   "metadata": {},
   "source": [
    "We just found the term \"I\" in ARIMA: `d = 1` for 1-diff before stationary (I refers to \"integration\", \"d\" for differentiation...)\n"
   ]
  },
  {
   "cell_type": "markdown",
   "metadata": {},
   "source": [
    "### Step 2 - Select AR order (p) and MA order (q)"
   ]
  },
  {
   "cell_type": "markdown",
   "metadata": {},
   "source": [
    "#### MA($\\color{blue}{q}$) = number of lag beyond which the $\\color{blue}{ACF}$ of  $Y^{\\color{green}{(d)}}$ cuts off"
   ]
  },
  {
   "cell_type": "markdown",
   "metadata": {},
   "source": [
    "MA order (`q`) can be found by looking at the autocorrelation plot ([`plot_acf`](https://www.statsmodels.org/stable/generated/statsmodels.graphics.tsaplots.plot_acf.html)) applied to`y_diff`. \n",
    "\n",
    "👉 determine `q`"
   ]
  },
  {
   "cell_type": "code",
   "execution_count": 101,
   "metadata": {
    "ExecuteTime": {
     "end_time": "2020-11-12T13:08:10.001296Z",
     "start_time": "2020-11-12T13:08:09.825027Z"
    }
   },
   "outputs": [
    {
     "data": {
      "image/png": "[encoded data removed]",
      "text/plain": [
       "<Figure size 432x288 with 1 Axes>"
      ]
     },
     "metadata": {
      "needs_background": "light"
     },
     "output_type": "display_data"
    }
   ],
   "source": [
    "plot_pacf(y_diff,lags=20, color='r');"
   ]
  },
  {
   "cell_type": "markdown",
   "metadata": {},
   "source": [
    "We could choose q = 4, but it's more conservatively to try with `q=2` to start with.\n",
    "\n",
    "When in doubt, go with the simpler model that sufficiently explains the Y."
   ]
  },
  {
   "cell_type": "markdown",
   "metadata": {},
   "source": [
    "#### AR($\\color{red}{p}$) = number of lags beyond which the $\\color{red}{PACF}$ of $Y^{\\color{green}{(d)}}$  cuts off"
   ]
  },
  {
   "cell_type": "markdown",
   "metadata": {},
   "source": [
    "AR order (`p`) can be found by investigating the **p**artial autocorrelation plot [`plot_pacf`](https://www.statsmodels.org/stable/generated/statsmodels.graphics.tsaplots.plot_pacf.html) applied to `y_diff`.\n",
    "\n",
    "(Partial autocorrelation can be imagined as the correlation between the series and its lag, after excluding the contributions from the intermediate lags. So, PACF sort of conveys the pure correlation between a lag and the series)\n",
    "\n",
    "👉 Determine `p`"
   ]
  },
  {
   "cell_type": "code",
   "execution_count": 102,
   "metadata": {
    "ExecuteTime": {
     "end_time": "2020-11-12T13:08:10.404226Z",
     "start_time": "2020-11-12T13:08:10.240904Z"
    }
   },
   "outputs": [
    {
     "data": {
      "image/png": "[encoded data removed]",
      "text/plain": [
       "<Figure size 432x288 with 1 Axes>"
      ]
     },
     "metadata": {
      "needs_background": "light"
     },
     "output_type": "display_data"
    }
   ],
   "source": [
    "plot_acf(y_diff);"
   ]
  },
  {
   "cell_type": "markdown",
   "metadata": {},
   "source": [
    "We could choose `p = 3` as the first 3 lag terms seems above the significance level, but we could also go with a simpler model `p = 1`. \n",
    "\n"
   ]
  },
  {
   "cell_type": "markdown",
   "metadata": {},
   "source": [
    "### Step 3 - Build the model\n",
    "\n",
    "Now that you have chosen the values for `p`, ` d` and `q` for the ARIMA, \n",
    "\n",
    "👉 build the `arima_model` from `statsmodels`.\n",
    "- fit the the model\n",
    "- print the model (`.summary`)"
   ]
  },
  {
   "cell_type": "code",
   "execution_count": 171,
   "metadata": {
    "ExecuteTime": {
     "end_time": "2020-11-12T16:21:33.191480Z",
     "start_time": "2020-11-12T16:21:33.032164Z"
    }
   },
   "outputs": [
    {
     "data": {
      "text/html": [
       "<table class=\"simpletable\">\n",
       "<caption>ARIMA Model Results</caption>\n",
       "<tr>\n",
       "  <th>Dep. Variable:</th>        <td>D.x</td>       <th>  No. Observations:  </th>    <td>99</td>   \n",
       "</tr>\n",
       "<tr>\n",
       "  <th>Model:</th>          <td>ARIMA(1, 1, 1)</td>  <th>  Log Likelihood     </th> <td>-253.790</td>\n",
       "</tr>\n",
       "<tr>\n",
       "  <th>Method:</th>             <td>css-mle</td>     <th>  S.D. of innovations</th>   <td>3.119</td> \n",
       "</tr>\n",
       "<tr>\n",
       "  <th>Date:</th>          <td>Thu, 12 Nov 2020</td> <th>  AIC                </th>  <td>515.579</td>\n",
       "</tr>\n",
       "<tr>\n",
       "  <th>Time:</th>              <td>17:21:33</td>     <th>  BIC                </th>  <td>525.960</td>\n",
       "</tr>\n",
       "<tr>\n",
       "  <th>Sample:</th>                <td>1</td>        <th>  HQIC               </th>  <td>519.779</td>\n",
       "</tr>\n",
       "<tr>\n",
       "  <th></th>                       <td> </td>        <th>                     </th>     <td> </td>   \n",
       "</tr>\n",
       "</table>\n",
       "<table class=\"simpletable\">\n",
       "<tr>\n",
       "      <td></td>         <th>coef</th>     <th>std err</th>      <th>z</th>      <th>P>|z|</th>  <th>[0.025</th>    <th>0.975]</th>  \n",
       "</tr>\n",
       "<tr>\n",
       "  <th>const</th>     <td>    1.1205</td> <td>    1.286</td> <td>    0.871</td> <td> 0.384</td> <td>   -1.400</td> <td>    3.641</td>\n",
       "</tr>\n",
       "<tr>\n",
       "  <th>ar.L1.D.x</th> <td>    0.6344</td> <td>    0.087</td> <td>    7.317</td> <td> 0.000</td> <td>    0.464</td> <td>    0.804</td>\n",
       "</tr>\n",
       "<tr>\n",
       "  <th>ma.L1.D.x</th> <td>    0.5297</td> <td>    0.089</td> <td>    5.932</td> <td> 0.000</td> <td>    0.355</td> <td>    0.705</td>\n",
       "</tr>\n",
       "</table>\n",
       "<table class=\"simpletable\">\n",
       "<caption>Roots</caption>\n",
       "<tr>\n",
       "    <td></td>   <th>            Real</th>  <th>         Imaginary</th> <th>         Modulus</th>  <th>        Frequency</th>\n",
       "</tr>\n",
       "<tr>\n",
       "  <th>AR.1</th> <td>           1.5764</td> <td>          +0.0000j</td> <td>           1.5764</td> <td>           0.0000</td>\n",
       "</tr>\n",
       "<tr>\n",
       "  <th>MA.1</th> <td>          -1.8879</td> <td>          +0.0000j</td> <td>           1.8879</td> <td>           0.5000</td>\n",
       "</tr>\n",
       "</table>"
      ],
      "text/plain": [
       "<class 'statsmodels.iolib.summary.Summary'>\n",
       "\"\"\"\n",
       "                             ARIMA Model Results                              \n",
       "==============================================================================\n",
       "Dep. Variable:                    D.x   No. Observations:                   99\n",
       "Model:                 ARIMA(1, 1, 1)   Log Likelihood                -253.790\n",
       "Method:                       css-mle   S.D. of innovations              3.119\n",
       "Date:                Thu, 12 Nov 2020   AIC                            515.579\n",
       "Time:                        17:21:33   BIC                            525.960\n",
       "Sample:                             1   HQIC                           519.779\n",
       "                                                                              \n",
       "==============================================================================\n",
       "                 coef    std err          z      P>|z|      [0.025      0.975]\n",
       "------------------------------------------------------------------------------\n",
       "const          1.1205      1.286      0.871      0.384      -1.400       3.641\n",
       "ar.L1.D.x      0.6344      0.087      7.317      0.000       0.464       0.804\n",
       "ma.L1.D.x      0.5297      0.089      5.932      0.000       0.355       0.705\n",
       "                                    Roots                                    \n",
       "=============================================================================\n",
       "                  Real          Imaginary           Modulus         Frequency\n",
       "-----------------------------------------------------------------------------\n",
       "AR.1            1.5764           +0.0000j            1.5764            0.0000\n",
       "MA.1           -1.8879           +0.0000j            1.8879            0.5000\n",
       "-----------------------------------------------------------------------------\n",
       "\"\"\""
      ]
     },
     "execution_count": 171,
     "metadata": {},
     "output_type": "execute_result"
    }
   ],
   "source": [
    "from statsmodels.tsa.arima_model import ARIMA\n",
    "arima = ARIMA(data, order=(1, 1, 1))\n",
    "arima = arima.fit()\n",
    "arima.summary()\n"
   ]
  },
  {
   "cell_type": "markdown",
   "metadata": {},
   "source": [
    "☝️ If your p-values are too high, try remove these terms by reducing the corresponding AR or SA coefficients.\n",
    "\n",
    "You can evaluate overall performance of your fit by minimizing the [`AIC - akaike information criterion`](https://towardsdatascience.com/the-akaike-information-criterion-c20c8fd832f2) value\n",
    "\n",
    "It seems that the (1,1,1) ARIMA models have less chance of overfitting (p-values remains low) and maintain a quasi similar AIC score than other models"
   ]
  },
  {
   "cell_type": "markdown",
   "metadata": {},
   "source": [
    "## 3. Evaluate model performance"
   ]
  },
  {
   "cell_type": "markdown",
   "metadata": {},
   "source": [
    "👉 Visualize your model predictions with `.plot_predict()`\n",
    "\n",
    "- Look closely at the method default params, especially `dynamic`. \n",
    "- Do you think your model would have such good performance in reality?"
   ]
  },
  {
   "cell_type": "code",
   "execution_count": 172,
   "metadata": {
    "ExecuteTime": {
     "end_time": "2020-11-12T16:21:34.817279Z",
     "start_time": "2020-11-12T16:21:34.802487Z"
    }
   },
   "outputs": [
    {
     "data": {
      "text/plain": [
       "1    -4.0\n",
       "2     1.0\n",
       "3     0.0\n",
       "4    -1.0\n",
       "5     1.0\n",
       "     ... \n",
       "95    7.0\n",
       "96    6.0\n",
       "97   -2.0\n",
       "98   -4.0\n",
       "99   -2.0\n",
       "Name: x, Length: 99, dtype: float64"
      ]
     },
     "execution_count": 172,
     "metadata": {},
     "output_type": "execute_result"
    }
   ],
   "source": [
    "y_diff"
   ]
  },
  {
   "cell_type": "code",
   "execution_count": 173,
   "metadata": {
    "ExecuteTime": {
     "end_time": "2020-11-12T16:21:35.657333Z",
     "start_time": "2020-11-12T16:21:35.210852Z"
    },
    "scrolled": true
   },
   "outputs": [
    {
     "data": {
      "image/png": "[encoded data removed]",
      "text/plain": [
       "<Figure size 432x288 with 1 Axes>"
      ]
     },
     "metadata": {
      "needs_background": "light"
     },
     "output_type": "display_data"
    }
   ],
   "source": [
    "# Actual vs Fitted\n",
    "arima.plot_predict(dynamic = False);"
   ]
  },
  {
   "cell_type": "code",
   "execution_count": 174,
   "metadata": {
    "ExecuteTime": {
     "end_time": "2020-11-12T16:21:37.880238Z",
     "start_time": "2020-11-12T16:21:37.508442Z"
    }
   },
   "outputs": [
    {
     "data": {
      "image/png": "[encoded data removed]",
      "text/plain": [
       "<Figure size 432x288 with 1 Axes>"
      ]
     },
     "metadata": {
      "needs_background": "light"
     },
     "output_type": "display_data"
    }
   ],
   "source": [
    "arima.plot_predict(start = 85, dynamic = True);"
   ]
  },
  {
   "cell_type": "markdown",
   "metadata": {},
   "source": [
    "☝️ `dynamic=False` actually makes use of all available values `y` in order to predict `y_pred`, making your ARIMA prediction use up to $y_{t-1}$ to predict $y_t$. In reality, you don't have access to all `y`, especially if you want to predict several intervals in the future.\n",
    "\n",
    "👉 Try to use `dynamic=True` to plot a prection of the _last 15 values_ in a situation where the model only have _access to data up to 85_. That is to say, the model:\n",
    "- predicts 86 based on true [1...85]\n",
    "- then predicts 87 based on [1...85] _plus_ it's previouly predicted value for 86\n",
    "- etc...iteratively until 100"
   ]
  },
  {
   "cell_type": "code",
   "execution_count": 176,
   "metadata": {
    "ExecuteTime": {
     "end_time": "2020-11-12T16:22:18.864074Z",
     "start_time": "2020-11-12T16:22:18.826779Z"
    },
    "collapsed": true
   },
   "outputs": [
    {
     "data": {
      "text/html": [
       "<div>\n",
       "<style scoped>\n",
       "    .dataframe tbody tr th:only-of-type {\n",
       "        vertical-align: middle;\n",
       "    }\n",
       "\n",
       "    .dataframe tbody tr th {\n",
       "        vertical-align: top;\n",
       "    }\n",
       "\n",
       "    .dataframe thead th {\n",
       "        text-align: right;\n",
       "    }\n",
       "</style>\n",
       "<table border=\"1\" class=\"dataframe\">\n",
       "  <thead>\n",
       "    <tr style=\"text-align: right;\">\n",
       "      <th></th>\n",
       "      <th>x</th>\n",
       "    </tr>\n",
       "  </thead>\n",
       "  <tbody>\n",
       "    <tr>\n",
       "      <th>0</th>\n",
       "      <td>88</td>\n",
       "    </tr>\n",
       "    <tr>\n",
       "      <th>1</th>\n",
       "      <td>84</td>\n",
       "    </tr>\n",
       "    <tr>\n",
       "      <th>2</th>\n",
       "      <td>85</td>\n",
       "    </tr>\n",
       "    <tr>\n",
       "      <th>3</th>\n",
       "      <td>85</td>\n",
       "    </tr>\n",
       "    <tr>\n",
       "      <th>4</th>\n",
       "      <td>84</td>\n",
       "    </tr>\n",
       "    <tr>\n",
       "      <th>...</th>\n",
       "      <td>...</td>\n",
       "    </tr>\n",
       "    <tr>\n",
       "      <th>95</th>\n",
       "      <td>222</td>\n",
       "    </tr>\n",
       "    <tr>\n",
       "      <th>96</th>\n",
       "      <td>228</td>\n",
       "    </tr>\n",
       "    <tr>\n",
       "      <th>97</th>\n",
       "      <td>226</td>\n",
       "    </tr>\n",
       "    <tr>\n",
       "      <th>98</th>\n",
       "      <td>222</td>\n",
       "    </tr>\n",
       "    <tr>\n",
       "      <th>99</th>\n",
       "      <td>220</td>\n",
       "    </tr>\n",
       "  </tbody>\n",
       "</table>\n",
       "<p>100 rows × 1 columns</p>\n",
       "</div>"
      ],
      "text/plain": [
       "      x\n",
       "0    88\n",
       "1    84\n",
       "2    85\n",
       "3    85\n",
       "4    84\n",
       "..  ...\n",
       "95  222\n",
       "96  228\n",
       "97  226\n",
       "98  222\n",
       "99  220\n",
       "\n",
       "[100 rows x 1 columns]"
      ]
     },
     "execution_count": 176,
     "metadata": {},
     "output_type": "execute_result"
    }
   ],
   "source": [
    "data"
   ]
  },
  {
   "cell_type": "code",
   "execution_count": 182,
   "metadata": {
    "ExecuteTime": {
     "end_time": "2020-11-12T16:23:04.680984Z",
     "start_time": "2020-11-12T16:23:04.542024Z"
    }
   },
   "outputs": [],
   "source": [
    "from statsmodels.tsa.arima_model import ARIMA\n",
    "arima = ARIMA(data[:85], order=(1, 1, 1))\n",
    "arima = arima.fit()\n"
   ]
  },
  {
   "cell_type": "code",
   "execution_count": 183,
   "metadata": {
    "ExecuteTime": {
     "end_time": "2020-11-12T16:23:07.723283Z",
     "start_time": "2020-11-12T16:23:07.398830Z"
    }
   },
   "outputs": [
    {
     "data": {
      "image/png": "[encoded data removed]",
      "text/plain": [
       "<Figure size 432x288 with 1 Axes>"
      ]
     },
     "metadata": {
      "needs_background": "light"
     },
     "output_type": "display_data"
    }
   ],
   "source": [
    "arima.plot_predict(end = 100);"
   ]
  },
  {
   "cell_type": "markdown",
   "metadata": {},
   "source": [
    "☝️ That's still not a _true_ forecast!! Why??\n",
    "\n",
    "<details>\n",
    "    <summary>Answer</summary>\n",
    "\n",
    "Our model has \"seen\" the whole `y_true` serie during the fitting phase!\n",
    "</details>"
   ]
  },
  {
   "cell_type": "markdown",
   "metadata": {},
   "source": [
    "### 3.1 Out-of-sample forecasts (real \"future\")"
   ]
  },
  {
   "cell_type": "markdown",
   "metadata": {},
   "source": [
    "👉 Create a train-test-split keep the last 15 datapoints only for the test set, and train your ARIMA on the train set only."
   ]
  },
  {
   "cell_type": "code",
   "execution_count": 184,
   "metadata": {
    "ExecuteTime": {
     "end_time": "2020-11-12T16:23:25.816046Z",
     "start_time": "2020-11-12T16:23:25.810127Z"
    }
   },
   "outputs": [],
   "source": [
    "# let's keep the last 15 values out for test purposes\n",
    "index = len(y_diff)-15\n",
    "y_train = data[:index]\n",
    "y_test = data[index:]"
   ]
  },
  {
   "cell_type": "markdown",
   "metadata": {},
   "source": [
    "👉 We are \"now\" in step 85 and have never seen the future:\n",
    "- Use `.forecast()` method on your fitted model to \"forecast\" the 15 next datapoints (i.e beyond the end of your train dataset) \n",
    "- Plot forecasted values as well as the higher and lower range of 95% uncertainty interval"
   ]
  },
  {
   "cell_type": "code",
   "execution_count": 185,
   "metadata": {
    "ExecuteTime": {
     "end_time": "2020-11-12T16:23:32.127135Z",
     "start_time": "2020-11-12T16:23:32.050902Z"
    }
   },
   "outputs": [],
   "source": [
    "from statsmodels.tsa.arima_model import ARIMA\n",
    "arima = ARIMA(y_train, order=(1, 1, 1))\n",
    "arima = arima.fit()\n",
    "forecast, std_err, confidence_int = arima.forecast(len(y_test), alpha=0.05)\n"
   ]
  },
  {
   "cell_type": "code",
   "execution_count": 186,
   "metadata": {
    "ExecuteTime": {
     "end_time": "2020-11-12T16:23:33.299389Z",
     "start_time": "2020-11-12T16:23:33.017523Z"
    }
   },
   "outputs": [
    {
     "data": {
      "text/plain": [
       "[<matplotlib.lines.Line2D at 0x7f97ec410490>,\n",
       " <matplotlib.lines.Line2D at 0x7f97ec410580>]"
      ]
     },
     "execution_count": 186,
     "metadata": {},
     "output_type": "execute_result"
    },
    {
     "data": {
      "image/png": "[encoded data removed]",
      "text/plain": [
       "<Figure size 432x288 with 1 Axes>"
      ]
     },
     "metadata": {
      "needs_background": "light"
     },
     "output_type": "display_data"
    }
   ],
   "source": [
    "plt.plot(forecast)\n",
    "plt.plot(confidence_int)"
   ]
  },
  {
   "cell_type": "markdown",
   "metadata": {},
   "source": [
    "👉 Try to also plot your previous 85 `y` real datapoints to better grasp model performance relative to the past"
   ]
  },
  {
   "cell_type": "code",
   "execution_count": 187,
   "metadata": {
    "ExecuteTime": {
     "end_time": "2020-11-12T16:23:36.540408Z",
     "start_time": "2020-11-12T16:23:36.327694Z"
    }
   },
   "outputs": [
    {
     "data": {
      "text/plain": [
       "[<matplotlib.lines.Line2D at 0x7f97ec36e580>]"
      ]
     },
     "execution_count": 187,
     "metadata": {},
     "output_type": "execute_result"
    },
    {
     "data": {
      "image/png": "[encoded data removed]",
      "text/plain": [
       "<Figure size 432x288 with 1 Axes>"
      ]
     },
     "metadata": {
      "needs_background": "light"
     },
     "output_type": "display_data"
    }
   ],
   "source": [
    "plt.plot(y_train)"
   ]
  },
  {
   "cell_type": "markdown",
   "metadata": {},
   "source": [
    "### 3.2 Can you trust your 95% confidence interval? (conditions for inference)"
   ]
  },
  {
   "cell_type": "markdown",
   "metadata": {},
   "source": [
    "👉 Plot the residuals `model.resid` to ensure there are no patterns\n",
    "- Normally distributed\n",
    "- Mean zero\n",
    "- Uniform variance\n",
    "- No autoregressive patterns (you can plot_acf the residuals if you really want)\n",
    "\n",
    "Note: residuals are constructed by 'seing' all data as in `plot_predict(dynamic=False)`\n",
    "\n",
    "Also try to plot a histogram or kde fit of the residuals to see if they are approximately normally distributed."
   ]
  },
  {
   "cell_type": "code",
   "execution_count": 188,
   "metadata": {
    "ExecuteTime": {
     "end_time": "2020-11-12T16:23:40.504927Z",
     "start_time": "2020-11-12T16:23:40.271687Z"
    }
   },
   "outputs": [
    {
     "data": {
      "text/plain": [
       "[<matplotlib.lines.Line2D at 0x7f97e9c472b0>]"
      ]
     },
     "execution_count": 188,
     "metadata": {},
     "output_type": "execute_result"
    },
    {
     "data": {
      "image/png": "[encoded data removed]",
      "text/plain": [
       "<Figure size 432x288 with 1 Axes>"
      ]
     },
     "metadata": {
      "needs_background": "light"
     },
     "output_type": "display_data"
    }
   ],
   "source": [
    "plt.plot(arima.resid)"
   ]
  },
  {
   "cell_type": "markdown",
   "metadata": {},
   "source": [
    "## 3.3 Cross-validated performance metrics"
   ]
  },
  {
   "cell_type": "markdown",
   "metadata": {},
   "source": [
    "👉 Below are the given the most common performance metrics for time series"
   ]
  },
  {
   "cell_type": "code",
   "execution_count": 153,
   "metadata": {
    "ExecuteTime": {
     "end_time": "2020-11-12T13:36:22.183991Z",
     "start_time": "2020-11-12T13:36:22.176080Z"
    }
   },
   "outputs": [],
   "source": [
    "import numpy as np\n",
    "from statsmodels.tsa.stattools import acf\n",
    "def forecast_accuracy(y_pred: pd.Series, y_true: pd.Series) -> float:\n",
    "    \n",
    "    mape = np.mean(np.abs(y_pred - y_true)/np.abs(y_true))  # Mean Absolute Percentage Error\n",
    "    me = np.mean(y_pred - y_true)             # ME\n",
    "    mae = np.mean(np.abs(y_pred - y_true))    # MAE\n",
    "    mpe = np.mean((y_pred - y_true)/y_true)   # MPE\n",
    "    rmse = np.mean((y_pred - y_true)**2)**.5  # RMSE\n",
    "    corr = np.corrcoef(y_pred, y_true)[0,1]   # Correlation between the Actual and the Forecast\n",
    "    mins = np.amin(np.hstack([y_pred.values.reshape(-1,1), y_true.values.reshape(-1,1)]), axis=1)\n",
    "    maxs = np.amax(np.hstack([y_pred.values.reshape(-1,1), y_true.values.reshape(-1,1)]), axis=1)\n",
    "    minmax = 1 - np.mean(mins/maxs)             # minmax\n",
    "    acf1 = acf(y_pred-y_true, fft=False)[1]                      # Lag 1 Autocorrelation of Error\n",
    "    return({'mape':mape, 'me':me, 'mae': mae, \n",
    "            'mpe': mpe, 'rmse':rmse, 'acf1':acf1, \n",
    "            'corr':corr, 'minmax':minmax})"
   ]
  },
  {
   "cell_type": "markdown",
   "metadata": {},
   "source": [
    "👉 Play with you ARIMA hyper-parameters and see the impact on your forecast performance"
   ]
  },
  {
   "cell_type": "code",
   "execution_count": 154,
   "metadata": {
    "ExecuteTime": {
     "end_time": "2020-11-12T13:36:23.154529Z",
     "start_time": "2020-11-12T13:36:23.144368Z"
    },
    "scrolled": true
   },
   "outputs": [
    {
     "name": "stderr",
     "output_type": "stream",
     "text": [
      "<ipython-input-153-71de895a0c8f>:11: FutureWarning: Support for multi-dimensional indexing (e.g. `obj[:, None]`) is deprecated and will be removed in a future version.  Convert to a numpy array before indexing instead.\n",
      "  mins = np.amin(np.hstack([y_pred[:,None], y_true[:,None]]), axis=1)\n",
      "<ipython-input-153-71de895a0c8f>:12: FutureWarning: Support for multi-dimensional indexing (e.g. `obj[:, None]`) is deprecated and will be removed in a future version.  Convert to a numpy array before indexing instead.\n",
      "  maxs = np.amax(np.hstack([y_pred[:,None], y_true[:,None]]), axis=1)\n",
      "/home/florent/.pyenv/versions/3.8.5/envs/lewagon/lib/python3.8/site-packages/statsmodels/tsa/stattools.py:568: FutureWarning: fft=True will become the default in a future version of statsmodels. To suppress this warning, explicitly set fft=False.\n",
      "  warnings.warn(\n"
     ]
    },
    {
     "data": {
      "text/plain": [
       "{'mape': 0.7250490271911353,\n",
       " 'me': -2.180750373259779,\n",
       " 'mae': 3.681762337187172,\n",
       " 'mpe': -0.6819526051140161,\n",
       " 'rmse': 4.63653920155207,\n",
       " 'acf1': 0.5654204948909386,\n",
       " 'corr': 0.35110328776299776,\n",
       " 'minmax': 1.2603117756035287}"
      ]
     },
     "execution_count": 154,
     "metadata": {},
     "output_type": "execute_result"
    }
   ],
   "source": [
    "forecast_accuracy(forecast, y_test)"
   ]
  },
  {
   "cell_type": "code",
   "execution_count": 160,
   "metadata": {
    "ExecuteTime": {
     "end_time": "2020-11-12T13:39:26.955229Z",
     "start_time": "2020-11-12T13:39:25.458438Z"
    }
   },
   "outputs": [
    {
     "name": "stderr",
     "output_type": "stream",
     "text": [
      "/home/florent/.pyenv/versions/3.8.5/envs/lewagon/lib/python3.8/site-packages/statsmodels/tsa/base/tsa_model.py:213: ValueWarning: An unsupported index was provided and will be ignored when e.g. forecasting.\n",
      "  warnings.warn('An unsupported index was provided and will be'\n",
      "<ipython-input-153-71de895a0c8f>:11: FutureWarning: Support for multi-dimensional indexing (e.g. `obj[:, None]`) is deprecated and will be removed in a future version.  Convert to a numpy array before indexing instead.\n",
      "  mins = np.amin(np.hstack([y_pred[:,None], y_true[:,None]]), axis=1)\n",
      "<ipython-input-153-71de895a0c8f>:12: FutureWarning: Support for multi-dimensional indexing (e.g. `obj[:, None]`) is deprecated and will be removed in a future version.  Convert to a numpy array before indexing instead.\n",
      "  maxs = np.amax(np.hstack([y_pred[:,None], y_true[:,None]]), axis=1)\n",
      "/home/florent/.pyenv/versions/3.8.5/envs/lewagon/lib/python3.8/site-packages/statsmodels/tsa/stattools.py:568: FutureWarning: fft=True will become the default in a future version of statsmodels. To suppress this warning, explicitly set fft=False.\n",
      "  warnings.warn(\n"
     ]
    }
   ],
   "source": [
    "mape_results = []\n",
    "for i in range (0,4):\n",
    "    for j in range(0,4):\n",
    "        arima = ARIMA(y_train, order=(i, 0, j))\n",
    "        arima = arima.fit()\n",
    "        forecast, std_err, confidence_int = arima.forecast(len(y_test), alpha=0.05)\n",
    "        dict_results = {\n",
    "            'p':i, 'q':j, 'mape': forecast_accuracy(forecast, y_test)['mape'],\\\n",
    "            'rmse':forecast_accuracy(forecast, y_test)['rmse']\n",
    "        }\n",
    "        mape_results.append(dict_results)\n",
    "        "
   ]
  },
  {
   "cell_type": "code",
   "execution_count": 161,
   "metadata": {
    "ExecuteTime": {
     "end_time": "2020-11-12T13:39:26.983893Z",
     "start_time": "2020-11-12T13:39:26.975354Z"
    },
    "scrolled": true
   },
   "outputs": [
    {
     "data": {
      "text/plain": [
       "[{'p': 0, 'q': 0, 'mape': 0.9234125838887743, 'rmse': 5.563038045011865},\n",
       " {'p': 0, 'q': 1, 'mape': 0.8914239832258792, 'rmse': 5.242290469494979},\n",
       " {'p': 0, 'q': 2, 'mape': 0.8334496961392823, 'rmse': 4.996068751703478},\n",
       " {'p': 0, 'q': 3, 'mape': 0.8161480858014122, 'rmse': 4.956115060086236},\n",
       " {'p': 1, 'q': 0, 'mape': 0.7095727622901278, 'rmse': 4.360050812825299},\n",
       " {'p': 1, 'q': 1, 'mape': 0.7250490271911353, 'rmse': 4.63653920155207},\n",
       " {'p': 1, 'q': 2, 'mape': 0.7149925270831473, 'rmse': 4.513076575872164},\n",
       " {'p': 1, 'q': 3, 'mape': 0.6914231442161937, 'rmse': 4.101400717048544},\n",
       " {'p': 2, 'q': 0, 'mape': 0.749653334640518, 'rmse': 4.819114986512542},\n",
       " {'p': 2, 'q': 1, 'mape': 0.7225984556756416, 'rmse': 4.600888360233221},\n",
       " {'p': 2, 'q': 2, 'mape': 0.6971427223587779, 'rmse': 4.280932625079389},\n",
       " {'p': 2, 'q': 3, 'mape': 0.6874856827680075, 'rmse': 4.117332918836642},\n",
       " {'p': 3, 'q': 0, 'mape': 0.696992381233794, 'rmse': 3.9801646199160805},\n",
       " {'p': 3, 'q': 1, 'mape': 0.675530997806544, 'rmse': 4.1092900556121},\n",
       " {'p': 3, 'q': 2, 'mape': 0.7311830599379119, 'rmse': 4.427871882879263},\n",
       " {'p': 3, 'q': 3, 'mape': 0.7289066768203241, 'rmse': 4.644810139795973}]"
      ]
     },
     "execution_count": 161,
     "metadata": {},
     "output_type": "execute_result"
    }
   ],
   "source": [
    "mape_results"
   ]
  },
  {
   "cell_type": "markdown",
   "metadata": {},
   "source": [
    "**Comments** : best results for p=3 and q =0 but close to p=1 and q = 0, so let's favor simplicity!!"
   ]
  },
  {
   "cell_type": "markdown",
   "metadata": {},
   "source": [
    "## 4 Grid Search"
   ]
  },
  {
   "cell_type": "markdown",
   "metadata": {},
   "source": [
    "Try to run your own gridsearch for (p,d,q) using `pmdarima`. Use at least\n",
    "- `trace=True`\n",
    "- `error_action='ignore'`\n",
    "- `suppress_warnings=True`"
   ]
  },
  {
   "cell_type": "code",
   "execution_count": 162,
   "metadata": {
    "ExecuteTime": {
     "end_time": "2020-11-12T13:40:35.126172Z",
     "start_time": "2020-11-12T13:40:33.837542Z"
    },
    "collapsed": true
   },
   "outputs": [
    {
     "name": "stdout",
     "output_type": "stream",
     "text": [
      "Requirement already satisfied: pmdarima in /home/florent/.pyenv/versions/3.8.5/envs/lewagon/lib/python3.8/site-packages (1.7.1)\n",
      "Requirement already satisfied: statsmodels<0.12,>=0.11 in /home/florent/.pyenv/versions/3.8.5/envs/lewagon/lib/python3.8/site-packages (from pmdarima) (0.11.0)\n",
      "Requirement already satisfied: pandas>=0.19 in /home/florent/.pyenv/versions/3.8.5/envs/lewagon/lib/python3.8/site-packages (from pmdarima) (1.1.3)\n",
      "Requirement already satisfied: setuptools<50.0.0 in /home/florent/.pyenv/versions/3.8.5/envs/lewagon/lib/python3.8/site-packages (from pmdarima) (47.1.0)\n",
      "Requirement already satisfied: joblib>=0.11 in /home/florent/.pyenv/versions/3.8.5/envs/lewagon/lib/python3.8/site-packages (from pmdarima) (0.17.0)\n",
      "Requirement already satisfied: scikit-learn>=0.22 in /home/florent/.pyenv/versions/3.8.5/envs/lewagon/lib/python3.8/site-packages (from pmdarima) (0.23.2)\n",
      "Requirement already satisfied: urllib3 in /home/florent/.pyenv/versions/3.8.5/envs/lewagon/lib/python3.8/site-packages (from pmdarima) (1.25.10)\n",
      "Requirement already satisfied: Cython<0.29.18,>=0.29 in /home/florent/.pyenv/versions/3.8.5/envs/lewagon/lib/python3.8/site-packages (from pmdarima) (0.29.17)\n",
      "Requirement already satisfied: scipy>=1.3.2 in /home/florent/.pyenv/versions/3.8.5/envs/lewagon/lib/python3.8/site-packages (from pmdarima) (1.5.2)\n",
      "Requirement already satisfied: numpy>=1.17.3 in /home/florent/.pyenv/versions/3.8.5/envs/lewagon/lib/python3.8/site-packages (from pmdarima) (1.19.2)\n",
      "Requirement already satisfied: patsy>=0.5 in /home/florent/.pyenv/versions/3.8.5/envs/lewagon/lib/python3.8/site-packages (from statsmodels<0.12,>=0.11->pmdarima) (0.5.1)\n",
      "Requirement already satisfied: python-dateutil>=2.7.3 in /home/florent/.pyenv/versions/3.8.5/envs/lewagon/lib/python3.8/site-packages (from pandas>=0.19->pmdarima) (2.8.1)\n",
      "Requirement already satisfied: pytz>=2017.2 in /home/florent/.pyenv/versions/3.8.5/envs/lewagon/lib/python3.8/site-packages (from pandas>=0.19->pmdarima) (2020.1)\n",
      "Requirement already satisfied: threadpoolctl>=2.0.0 in /home/florent/.pyenv/versions/3.8.5/envs/lewagon/lib/python3.8/site-packages (from scikit-learn>=0.22->pmdarima) (2.1.0)\n",
      "Requirement already satisfied: six in /home/florent/.pyenv/versions/3.8.5/envs/lewagon/lib/python3.8/site-packages (from patsy>=0.5->statsmodels<0.12,>=0.11->pmdarima) (1.15.0)\n"
     ]
    }
   ],
   "source": [
    "!pip install pmdarima"
   ]
  },
  {
   "cell_type": "code",
   "execution_count": 167,
   "metadata": {
    "ExecuteTime": {
     "end_time": "2020-11-12T13:42:49.059562Z",
     "start_time": "2020-11-12T13:42:48.193027Z"
    }
   },
   "outputs": [
    {
     "name": "stdout",
     "output_type": "stream",
     "text": [
      "Performing stepwise search to minimize aic\n",
      " ARIMA(1,2,1)(0,0,0)[0] intercept   : AIC=525.587, Time=0.07 sec\n",
      " ARIMA(0,2,0)(0,0,0)[0] intercept   : AIC=533.474, Time=0.01 sec\n",
      " ARIMA(1,2,0)(0,0,0)[0] intercept   : AIC=532.437, Time=0.03 sec\n",
      " ARIMA(0,2,1)(0,0,0)[0] intercept   : AIC=525.893, Time=0.03 sec\n",
      " ARIMA(0,2,0)(0,0,0)[0]             : AIC=531.477, Time=0.01 sec\n",
      " ARIMA(2,2,1)(0,0,0)[0] intercept   : AIC=515.248, Time=0.04 sec\n",
      " ARIMA(2,2,0)(0,0,0)[0] intercept   : AIC=513.459, Time=0.03 sec\n",
      " ARIMA(3,2,0)(0,0,0)[0] intercept   : AIC=515.284, Time=0.05 sec\n",
      " ARIMA(3,2,1)(0,0,0)[0] intercept   : AIC=inf, Time=0.24 sec\n",
      " ARIMA(2,2,0)(0,0,0)[0]             : AIC=511.465, Time=0.03 sec\n",
      " ARIMA(1,2,0)(0,0,0)[0]             : AIC=530.444, Time=0.01 sec\n",
      " ARIMA(3,2,0)(0,0,0)[0]             : AIC=513.291, Time=0.02 sec\n",
      " ARIMA(2,2,1)(0,0,0)[0]             : AIC=513.256, Time=0.03 sec\n",
      " ARIMA(1,2,1)(0,0,0)[0]             : AIC=523.592, Time=0.02 sec\n",
      " ARIMA(3,2,1)(0,0,0)[0]             : AIC=inf, Time=0.21 sec\n",
      "\n",
      "Best model:  ARIMA(2,2,0)(0,0,0)[0]          \n",
      "Total fit time: 0.852 seconds\n",
      "                               SARIMAX Results                                \n",
      "==============================================================================\n",
      "Dep. Variable:                      y   No. Observations:                  100\n",
      "Model:               SARIMAX(2, 2, 0)   Log Likelihood                -252.732\n",
      "Date:                Thu, 12 Nov 2020   AIC                            511.465\n",
      "Time:                        14:42:49   BIC                            519.220\n",
      "Sample:                             0   HQIC                           514.601\n",
      "                                - 100                                         \n",
      "Covariance Type:                  opg                                         \n",
      "==============================================================================\n",
      "                 coef    std err          z      P>|z|      [0.025      0.975]\n",
      "------------------------------------------------------------------------------\n",
      "ar.L1          0.2579      0.103      2.510      0.012       0.056       0.459\n",
      "ar.L2         -0.4407      0.087     -5.093      0.000      -0.610      -0.271\n",
      "sigma2        10.1268      1.519      6.668      0.000       7.150      13.103\n",
      "===================================================================================\n",
      "Ljung-Box (Q):                       38.89   Jarque-Bera (JB):                 0.10\n",
      "Prob(Q):                              0.52   Prob(JB):                         0.95\n",
      "Heteroskedasticity (H):               0.49   Skew:                            -0.07\n",
      "Prob(H) (two-sided):                  0.05   Kurtosis:                         2.92\n",
      "===================================================================================\n",
      "\n",
      "Warnings:\n",
      "[1] Covariance matrix calculated using the outer product of gradients (complex-step).\n"
     ]
    }
   ],
   "source": [
    "import pmdarima as pm\n",
    "model = pm.auto_arima(data['x'], start_p=1, start_q=1,\n",
    "                      test='adf',       # use adftest to find optimal 'd'\n",
    "                      max_p=3, max_q=3, # maximum p and q\n",
    "                      m=1,              # frequency of series\n",
    "                      d=None,           # let model determine 'd'\n",
    "                      seasonal=False,   # No Seasonality\n",
    "                      start_P=0, \n",
    "                      D=0, \n",
    "                      trace=True,\n",
    "                      error_action='ignore',  \n",
    "                      suppress_warnings=True, \n",
    "                      stepwise=True)\n",
    "\n",
    "print(model.summary())"
   ]
  },
  {
   "cell_type": "markdown",
   "metadata": {},
   "source": [
    "## (Optional) Cross-validate performance of your model?"
   ]
  },
  {
   "cell_type": "markdown",
   "metadata": {},
   "source": [
    "In practice, Results and GridSearch should always be cross validated: \n",
    "\n",
    "Feel free to use [`sklearn.TimeSeriesSplit`](https://scikit-learn.org/stable/modules/generated/sklearn.model_selection.TimeSeriesSplit.html) to create continguous K-folds so as to truely evaluate the performance of your model and find the best hyper-params after cross validation\n",
    "\n",
    "<img src='https://scikit-learn.org/stable/_images/sphx_glr_plot_cv_indices_0101.png'>"
   ]
  },
  {
   "cell_type": "code",
   "execution_count": null,
   "metadata": {},
   "outputs": [],
   "source": []
  }
 ],
 "metadata": {
  "kernelspec": {
   "display_name": "Python 3",
   "language": "python",
   "name": "python3"
  },
  "language_info": {
   "codemirror_mode": {
    "name": "ipython",
    "version": 3
   },
   "file_extension": ".py",
   "mimetype": "text/x-python",
   "name": "python",
   "nbconvert_exporter": "python",
   "pygments_lexer": "ipython3",
   "version": "3.8.5"
  },
  "toc": {
   "base_numbering": 1,
   "nav_menu": {},
   "number_sections": false,
   "sideBar": true,
   "skip_h1_title": false,
   "title_cell": "Table of Contents",
   "title_sidebar": "Contents",
   "toc_cell": false,
   "toc_position": {},
   "toc_section_display": true,
   "toc_window_display": true
  },
  "varInspector": {
   "cols": {
    "lenName": 16,
    "lenType": 16,
    "lenVar": 40
   },
   "kernels_config": {
    "python": {
     "delete_cmd_postfix": "",
     "delete_cmd_prefix": "del ",
     "library": "var_list.py",
     "varRefreshCmd": "print(var_dic_list())"
    },
    "r": {
     "delete_cmd_postfix": ") ",
     "delete_cmd_prefix": "rm(",
     "library": "var_list.r",
     "varRefreshCmd": "cat(var_dic_list()) "
    }
   },
   "types_to_exclude": [
    "module",
    "function",
    "builtin_function_or_method",
    "instance",
    "_Feature"
   ],
   "window_display": false
  }
 },
 "nbformat": 4,
 "nbformat_minor": 2
}

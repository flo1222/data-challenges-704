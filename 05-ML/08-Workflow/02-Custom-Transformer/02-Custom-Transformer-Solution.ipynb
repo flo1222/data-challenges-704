{
 "cells": [
  {
   "cell_type": "markdown",
   "metadata": {},
   "source": [
    "# Custom Transformer"
   ]
  },
  {
   "cell_type": "markdown",
   "metadata": {},
   "source": [
    "👇 Consider the following dataset"
   ]
  },
  {
   "cell_type": "code",
   "execution_count": 4,
   "metadata": {},
   "outputs": [
    {
     "data": {
      "text/html": [
       "<div>\n",
       "<style scoped>\n",
       "    .dataframe tbody tr th:only-of-type {\n",
       "        vertical-align: middle;\n",
       "    }\n",
       "\n",
       "    .dataframe tbody tr th {\n",
       "        vertical-align: top;\n",
       "    }\n",
       "\n",
       "    .dataframe thead th {\n",
       "        text-align: right;\n",
       "    }\n",
       "</style>\n",
       "<table border=\"1\" class=\"dataframe\">\n",
       "  <thead>\n",
       "    <tr style=\"text-align: right;\">\n",
       "      <th></th>\n",
       "      <th>customer_state</th>\n",
       "      <th>seller_state</th>\n",
       "      <th>product_weight_g</th>\n",
       "      <th>product_length_cm</th>\n",
       "      <th>product_height_cm</th>\n",
       "      <th>product_width_cm</th>\n",
       "      <th>days_until_delivery</th>\n",
       "    </tr>\n",
       "  </thead>\n",
       "  <tbody>\n",
       "    <tr>\n",
       "      <th>0</th>\n",
       "      <td>RJ</td>\n",
       "      <td>SP</td>\n",
       "      <td>1825</td>\n",
       "      <td>53</td>\n",
       "      <td>10</td>\n",
       "      <td>40</td>\n",
       "      <td>9</td>\n",
       "    </tr>\n",
       "    <tr>\n",
       "      <th>1</th>\n",
       "      <td>RJ</td>\n",
       "      <td>SP</td>\n",
       "      <td>700</td>\n",
       "      <td>65</td>\n",
       "      <td>18</td>\n",
       "      <td>28</td>\n",
       "      <td>9</td>\n",
       "    </tr>\n",
       "    <tr>\n",
       "      <th>2</th>\n",
       "      <td>RJ</td>\n",
       "      <td>SP</td>\n",
       "      <td>1825</td>\n",
       "      <td>53</td>\n",
       "      <td>10</td>\n",
       "      <td>40</td>\n",
       "      <td>11</td>\n",
       "    </tr>\n",
       "    <tr>\n",
       "      <th>3</th>\n",
       "      <td>RJ</td>\n",
       "      <td>SP</td>\n",
       "      <td>1825</td>\n",
       "      <td>53</td>\n",
       "      <td>10</td>\n",
       "      <td>40</td>\n",
       "      <td>12</td>\n",
       "    </tr>\n",
       "    <tr>\n",
       "      <th>4</th>\n",
       "      <td>RJ</td>\n",
       "      <td>SP</td>\n",
       "      <td>1825</td>\n",
       "      <td>53</td>\n",
       "      <td>10</td>\n",
       "      <td>40</td>\n",
       "      <td>14</td>\n",
       "    </tr>\n",
       "  </tbody>\n",
       "</table>\n",
       "</div>"
      ],
      "text/plain": [
       "  customer_state seller_state  product_weight_g  product_length_cm  \\\n",
       "0             RJ           SP              1825                 53   \n",
       "1             RJ           SP               700                 65   \n",
       "2             RJ           SP              1825                 53   \n",
       "3             RJ           SP              1825                 53   \n",
       "4             RJ           SP              1825                 53   \n",
       "\n",
       "   product_height_cm  product_width_cm  days_until_delivery  \n",
       "0                 10                40                    9  \n",
       "1                 18                28                    9  \n",
       "2                 10                40                   11  \n",
       "3                 10                40                   12  \n",
       "4                 10                40                   14  "
      ]
     },
     "execution_count": 4,
     "metadata": {},
     "output_type": "execute_result"
    }
   ],
   "source": [
    "import pandas as pd\n",
    "\n",
    "data = pd.read_csv(\"data.csv\")\n",
    "\n",
    "data.head()"
   ]
  },
  {
   "cell_type": "markdown",
   "metadata": {},
   "source": [
    "Each observation of the dataset represents an item being delivered from a  `seller_state` to a `customer_state`. The columns describe the size and weight of each item. The target is the number of days between the order and the delivery."
   ]
  },
  {
   "cell_type": "markdown",
   "metadata": {},
   "source": [
    "👇 In a pipeline:\n",
    "\n",
    "- Engineer a 'volume' feature from the dimensions features\n",
    "- Preserve the original product dimensions features for training\n",
    "- Scale all numerical features\n",
    "- Encode the categorical features\n",
    "- Train a default parameters `LinearRegression`\n",
    "\n",
    "Use your pipeline to predict the delivery of the following order"
   ]
  },
  {
   "cell_type": "code",
   "execution_count": 5,
   "metadata": {},
   "outputs": [
    {
     "data": {
      "text/html": [
       "<div>\n",
       "<style scoped>\n",
       "    .dataframe tbody tr th:only-of-type {\n",
       "        vertical-align: middle;\n",
       "    }\n",
       "\n",
       "    .dataframe tbody tr th {\n",
       "        vertical-align: top;\n",
       "    }\n",
       "\n",
       "    .dataframe thead th {\n",
       "        text-align: right;\n",
       "    }\n",
       "</style>\n",
       "<table border=\"1\" class=\"dataframe\">\n",
       "  <thead>\n",
       "    <tr style=\"text-align: right;\">\n",
       "      <th></th>\n",
       "      <th>customer_state</th>\n",
       "      <th>seller_state</th>\n",
       "      <th>product_weight_g</th>\n",
       "      <th>product_length_cm</th>\n",
       "      <th>product_height_cm</th>\n",
       "      <th>product_width_cm</th>\n",
       "    </tr>\n",
       "  </thead>\n",
       "  <tbody>\n",
       "    <tr>\n",
       "      <th>0</th>\n",
       "      <td>RJ</td>\n",
       "      <td>SP</td>\n",
       "      <td>1825</td>\n",
       "      <td>53</td>\n",
       "      <td>10</td>\n",
       "      <td>40</td>\n",
       "    </tr>\n",
       "  </tbody>\n",
       "</table>\n",
       "</div>"
      ],
      "text/plain": [
       "  customer_state seller_state  product_weight_g  product_length_cm  \\\n",
       "0             RJ           SP              1825                 53   \n",
       "\n",
       "   product_height_cm  product_width_cm  \n",
       "0                 10                40  "
      ]
     },
     "execution_count": 5,
     "metadata": {},
     "output_type": "execute_result"
    }
   ],
   "source": [
    "new_data = pd.read_csv(\"data_new.csv\")\n",
    "new_data"
   ]
  },
  {
   "cell_type": "markdown",
   "metadata": {},
   "source": [
    "## Build custom transformer class for engineering"
   ]
  },
  {
   "cell_type": "code",
   "execution_count": 6,
   "metadata": {},
   "outputs": [],
   "source": [
    "from sklearn.preprocessing import StandardScaler\n",
    "from sklearn.base import TransformerMixin\n",
    "from sklearn.base import BaseEstimator\n",
    "\n",
    "# Create a class\n",
    "class ColumnMultiplier(TransformerMixin, BaseEstimator): \n",
    "# TransformerMixin generates a fit_transform method from fit and transform\n",
    "# BaseEstimator generates get_params and set_params methods\n",
    "    \n",
    "    # Create parameters \"column_1\", \"column_2\", \"column_3\" to choose which columns of dataframe to multiply\n",
    "    def __init__(self, column_1, column_2, column_3):\n",
    "        self.column_1 = column_1\n",
    "        self.column_2 = column_2\n",
    "        self.column_3 = column_3\n",
    "        \n",
    "    def fit(self, X, y=None):\n",
    "        return self\n",
    "    \n",
    "    def transform(self, X, y=None):\n",
    "        \n",
    "        # Multiplication\n",
    "        multiplied_features =X[self.column_1]*X[self.column_2]*X[self.column_3]\n",
    "        \n",
    "        # Return result as dataframe (for integration into ColumnTransformer)\n",
    "        return pd.DataFrame(multiplied_features, columns=['volume'])"
   ]
  },
  {
   "cell_type": "markdown",
   "metadata": {},
   "source": [
    "## Preprocessing pipeline"
   ]
  },
  {
   "cell_type": "code",
   "execution_count": 8,
   "metadata": {},
   "outputs": [],
   "source": [
    "from sklearn.compose import ColumnTransformer\n",
    "from sklearn.compose import make_column_selector\n",
    "from sklearn.pipeline import Pipeline\n",
    "from sklearn.preprocessing import FunctionTransformer\n",
    "from sklearn.preprocessing import OneHotEncoder\n",
    "from sklearn.preprocessing import MinMaxScaler\n",
    "\n",
    "# Plug custom transformer into a feature engineering ColumnTransformer\n",
    "# Select and preserve the original features\n",
    "feature_engineering = ColumnTransformer([\n",
    "    ('column_multiplier', ColumnMultiplier(column_1=\"product_length_cm\", \n",
    "                                           column_2=\"product_height_cm\", \n",
    "                                           column_3=\"product_width_cm\"), \n",
    "                                             ['product_length_cm','product_height_cm', \"product_width_cm\"]),\n",
    "    \n",
    "    ('select_original_features', FunctionTransformer(lambda x: x), ['product_length_cm',\n",
    "                                                                                 'product_height_cm',\n",
    "                                                                                 'product_width_cm'])]) \n",
    "\n",
    "# Chain the feature engineering transformer with a scaler\n",
    "numerical_pipe = Pipeline([\n",
    "    ('engineering', feature_engineering),\n",
    "    ('scaling', MinMaxScaler())])\n",
    "\n",
    "# Create a final preprocessing pipeline that combines the above pipeline with a One hot encoder for categorical features \n",
    "final_preprocessor = ColumnTransformer([\n",
    "    ('categorical_preprocessing', OneHotEncoder(sparse = False, handle_unknown='ignore'), make_column_selector(dtype_include=\"object\")), \n",
    "    ('numerical_preprocessing', numerical_pipe, make_column_selector(dtype_include=\"int64\"))])"
   ]
  },
  {
   "cell_type": "markdown",
   "metadata": {},
   "source": [
    "## Modelling"
   ]
  },
  {
   "cell_type": "code",
   "execution_count": 9,
   "metadata": {},
   "outputs": [],
   "source": [
    "from sklearn.linear_model import LinearRegression\n",
    "\n",
    "# Chain the final_preprocessor pipeline with a linear regression model\n",
    "final_pipe = Pipeline([\n",
    "    ('preprocessing', final_preprocessor),\n",
    "    ('linear_regression', LinearRegression())])"
   ]
  },
  {
   "cell_type": "code",
   "execution_count": 10,
   "metadata": {},
   "outputs": [
    {
     "data": {
      "text/plain": [
       "-2.4100493674088962e+24"
      ]
     },
     "execution_count": 10,
     "metadata": {},
     "output_type": "execute_result"
    }
   ],
   "source": [
    "from sklearn.model_selection import cross_val_score\n",
    "\n",
    "# Cross validate the final_pipe\n",
    "cross_val_score(final_pipe, \n",
    "                data.drop(columns=\"days_until_delivery\"), data['days_until_delivery'],\n",
    "                cv=10,\n",
    "                scoring='r2').mean()"
   ]
  },
  {
   "cell_type": "code",
   "execution_count": 11,
   "metadata": {},
   "outputs": [
    {
     "data": {
      "text/plain": [
       "Pipeline(steps=[('preprocessing',\n",
       "                 ColumnTransformer(transformers=[('categorical_preprocessing',\n",
       "                                                  OneHotEncoder(handle_unknown='ignore',\n",
       "                                                                sparse=False),\n",
       "                                                  <sklearn.compose._column_transformer.make_column_selector object at 0x111b92110>),\n",
       "                                                 ('numerical_preprocessing',\n",
       "                                                  Pipeline(steps=[('engineering',\n",
       "                                                                   ColumnTransformer(transformers=[('column_multiplier',\n",
       "                                                                                                    ColumnMultipli...\n",
       "                                                                                                    ['product_length_cm',\n",
       "                                                                                                     'product_height_cm',\n",
       "                                                                                                     'product_width_cm']),\n",
       "                                                                                                   ('select_original_features',\n",
       "                                                                                                    FunctionTransformer(func=<function <lambda> at 0x104090b00>),\n",
       "                                                                                                    ['product_length_cm',\n",
       "                                                                                                     'product_height_cm',\n",
       "                                                                                                     'product_width_cm'])])),\n",
       "                                                                  ('scaling',\n",
       "                                                                   MinMaxScaler())]),\n",
       "                                                  <sklearn.compose._column_transformer.make_column_selector object at 0x111b921d0>)])),\n",
       "                ('linear_regression', LinearRegression())])"
      ]
     },
     "execution_count": 11,
     "metadata": {},
     "output_type": "execute_result"
    }
   ],
   "source": [
    "# Fit the final pipe to the data\n",
    "final_pipe.fit(data.drop(columns=\"days_until_delivery\"), data['days_until_delivery'])"
   ]
  },
  {
   "cell_type": "markdown",
   "metadata": {},
   "source": [
    "## Predictions"
   ]
  },
  {
   "cell_type": "code",
   "execution_count": 12,
   "metadata": {},
   "outputs": [
    {
     "data": {
      "text/plain": [
       "array([20.8125])"
      ]
     },
     "execution_count": 12,
     "metadata": {},
     "output_type": "execute_result"
    }
   ],
   "source": [
    "# Use final pipe for prediction\n",
    "final_pipe.predict(new_data)"
   ]
  }
 ],
 "metadata": {
  "kernelspec": {
   "display_name": "Python 3",
   "language": "python",
   "name": "python3"
  },
  "language_info": {
   "codemirror_mode": {
    "name": "ipython",
    "version": 3
   },
   "file_extension": ".py",
   "mimetype": "text/x-python",
   "name": "python",
   "nbconvert_exporter": "python",
   "pygments_lexer": "ipython3",
   "version": "3.8.5"
  },
  "toc": {
   "base_numbering": 1,
   "nav_menu": {},
   "number_sections": true,
   "sideBar": true,
   "skip_h1_title": false,
   "title_cell": "Table of Contents",
   "title_sidebar": "Contents",
   "toc_cell": false,
   "toc_position": {},
   "toc_section_display": true,
   "toc_window_display": false
  },
  "varInspector": {
   "cols": {
    "lenName": 16,
    "lenType": 16,
    "lenVar": 40
   },
   "kernels_config": {
    "python": {
     "delete_cmd_postfix": "",
     "delete_cmd_prefix": "del ",
     "library": "var_list.py",
     "varRefreshCmd": "print(var_dic_list())"
    },
    "r": {
     "delete_cmd_postfix": ") ",
     "delete_cmd_prefix": "rm(",
     "library": "var_list.r",
     "varRefreshCmd": "cat(var_dic_list()) "
    }
   },
   "types_to_exclude": [
    "module",
    "function",
    "builtin_function_or_method",
    "instance",
    "_Feature"
   ],
   "window_display": false
  }
 },
 "nbformat": 4,
 "nbformat_minor": 4
}

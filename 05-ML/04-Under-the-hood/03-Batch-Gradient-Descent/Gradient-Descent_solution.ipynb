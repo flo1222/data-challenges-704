{
 "cells": [
  {
   "cell_type": "markdown",
   "metadata": {},
   "source": [
    "# Gradient Descent"
   ]
  },
  {
   "cell_type": "markdown",
   "metadata": {},
   "source": [
    "In this exercice, you will create the necessary functions to go through the steps of a single Gradient Descent Epoch. You will then combine the functions and create a loop through the entire Gradient Descent procedure."
   ]
  },
  {
   "cell_type": "markdown",
   "metadata": {},
   "source": [
    "## 1. Data Exploration"
   ]
  },
  {
   "cell_type": "markdown",
   "metadata": {},
   "source": [
    "👇 Import the dataset located in the folder"
   ]
  },
  {
   "cell_type": "code",
   "execution_count": 1,
   "metadata": {
    "scrolled": false
   },
   "outputs": [
    {
     "data": {
      "text/html": [
       "<div>\n",
       "<style scoped>\n",
       "    .dataframe tbody tr th:only-of-type {\n",
       "        vertical-align: middle;\n",
       "    }\n",
       "\n",
       "    .dataframe tbody tr th {\n",
       "        vertical-align: top;\n",
       "    }\n",
       "\n",
       "    .dataframe thead th {\n",
       "        text-align: right;\n",
       "    }\n",
       "</style>\n",
       "<table border=\"1\" class=\"dataframe\">\n",
       "  <thead>\n",
       "    <tr style=\"text-align: right;\">\n",
       "      <th></th>\n",
       "      <th>alim_ssgrp_nom_eng</th>\n",
       "      <th>alim_nom_eng</th>\n",
       "      <th>Phosphorus (mg/100g)</th>\n",
       "      <th>Protein (g/100g)</th>\n",
       "      <th>Zinc (mg/100g)</th>\n",
       "    </tr>\n",
       "  </thead>\n",
       "  <tbody>\n",
       "    <tr>\n",
       "      <th>0</th>\n",
       "      <td>pasta. rice and grains</td>\n",
       "      <td>Durum wheat pre-cooked. whole grain. cooked. u...</td>\n",
       "      <td>116.0</td>\n",
       "      <td>5.25</td>\n",
       "      <td>0.48</td>\n",
       "    </tr>\n",
       "    <tr>\n",
       "      <th>1</th>\n",
       "      <td>pasta. rice and grains</td>\n",
       "      <td>Asian noodles. plain. cooked. unsalted</td>\n",
       "      <td>43.0</td>\n",
       "      <td>3.50</td>\n",
       "      <td>0.19</td>\n",
       "    </tr>\n",
       "    <tr>\n",
       "      <th>2</th>\n",
       "      <td>pasta. rice and grains</td>\n",
       "      <td>Rice. brown. cooked. unsalted</td>\n",
       "      <td>120.0</td>\n",
       "      <td>3.21</td>\n",
       "      <td>0.62</td>\n",
       "    </tr>\n",
       "    <tr>\n",
       "      <th>3</th>\n",
       "      <td>pasta. rice and grains</td>\n",
       "      <td>Rice. cooked. unsalted</td>\n",
       "      <td>35.0</td>\n",
       "      <td>2.92</td>\n",
       "      <td>0.26</td>\n",
       "    </tr>\n",
       "    <tr>\n",
       "      <th>4</th>\n",
       "      <td>pasta. rice and grains</td>\n",
       "      <td>Rice. parboiled. cooked. unsalted</td>\n",
       "      <td>35.0</td>\n",
       "      <td>2.95</td>\n",
       "      <td>0.10</td>\n",
       "    </tr>\n",
       "  </tbody>\n",
       "</table>\n",
       "</div>"
      ],
      "text/plain": [
       "       alim_ssgrp_nom_eng                                       alim_nom_eng  \\\n",
       "0  pasta. rice and grains  Durum wheat pre-cooked. whole grain. cooked. u...   \n",
       "1  pasta. rice and grains             Asian noodles. plain. cooked. unsalted   \n",
       "2  pasta. rice and grains                      Rice. brown. cooked. unsalted   \n",
       "3  pasta. rice and grains                             Rice. cooked. unsalted   \n",
       "4  pasta. rice and grains                  Rice. parboiled. cooked. unsalted   \n",
       "\n",
       "   Phosphorus (mg/100g)  Protein (g/100g)  Zinc (mg/100g)  \n",
       "0                 116.0              5.25            0.48  \n",
       "1                  43.0              3.50            0.19  \n",
       "2                 120.0              3.21            0.62  \n",
       "3                  35.0              2.92            0.26  \n",
       "4                  35.0              2.95            0.10  "
      ]
     },
     "execution_count": 1,
     "metadata": {},
     "output_type": "execute_result"
    }
   ],
   "source": [
    "import pandas as pd\n",
    "\n",
    "data = pd.read_csv(\"data.csv\")\n",
    "\n",
    "data.head()"
   ]
  },
  {
   "cell_type": "markdown",
   "metadata": {},
   "source": [
    "👇 Check for missing values"
   ]
  },
  {
   "cell_type": "code",
   "execution_count": 2,
   "metadata": {},
   "outputs": [
    {
     "data": {
      "text/plain": [
       "alim_ssgrp_nom_eng      0\n",
       "alim_nom_eng            0\n",
       "Phosphorus (mg/100g)    0\n",
       "Protein (g/100g)        0\n",
       "Zinc (mg/100g)          0\n",
       "dtype: int64"
      ]
     },
     "execution_count": 2,
     "metadata": {},
     "output_type": "execute_result"
    }
   ],
   "source": [
    "data.isna().sum()"
   ]
  },
  {
   "cell_type": "markdown",
   "metadata": {},
   "source": [
    "👇 Visualize the relation between the variables `Phosphorus (mg/100g)` and `Zinc (mg/100g)`."
   ]
  },
  {
   "cell_type": "code",
   "execution_count": 3,
   "metadata": {},
   "outputs": [
    {
     "data": {
      "text/plain": [
       "<matplotlib.axes._subplots.AxesSubplot at 0x1262e9e50>"
      ]
     },
     "execution_count": 3,
     "metadata": {},
     "output_type": "execute_result"
    },
    {
     "data": {
      "image/png": "[encoded data removed]",
      "text/plain": [
       "<Figure size 432x288 with 1 Axes>"
      ]
     },
     "metadata": {
      "needs_background": "light"
     },
     "output_type": "display_data"
    }
   ],
   "source": [
    "import seaborn as sns\n",
    "\n",
    "sns.scatterplot('Zinc (mg/100g)','Phosphorus (mg/100g)', data=data)"
   ]
  },
  {
   "cell_type": "markdown",
   "metadata": {},
   "source": [
    "The visualization should hint at a somewhat Linear relationship between the variables. Let's use Gradient Descent to find the line of best fit between them!"
   ]
  },
  {
   "cell_type": "markdown",
   "metadata": {},
   "source": [
    "## 2. Data Preprocessing"
   ]
  },
  {
   "cell_type": "markdown",
   "metadata": {},
   "source": [
    "👇 Before you start, scale the two features with a `MinMaxScaler`. This will allow the Gradient Descent to be more efficient and converge faster. Add the scaled features as new columns in the dataframe."
   ]
  },
  {
   "cell_type": "code",
   "execution_count": 4,
   "metadata": {},
   "outputs": [
    {
     "data": {
      "text/html": [
       "<div>\n",
       "<style scoped>\n",
       "    .dataframe tbody tr th:only-of-type {\n",
       "        vertical-align: middle;\n",
       "    }\n",
       "\n",
       "    .dataframe tbody tr th {\n",
       "        vertical-align: top;\n",
       "    }\n",
       "\n",
       "    .dataframe thead th {\n",
       "        text-align: right;\n",
       "    }\n",
       "</style>\n",
       "<table border=\"1\" class=\"dataframe\">\n",
       "  <thead>\n",
       "    <tr style=\"text-align: right;\">\n",
       "      <th></th>\n",
       "      <th>alim_ssgrp_nom_eng</th>\n",
       "      <th>alim_nom_eng</th>\n",
       "      <th>Phosphorus (mg/100g)</th>\n",
       "      <th>Protein (g/100g)</th>\n",
       "      <th>Zinc (mg/100g)</th>\n",
       "      <th>zinc_scaled</th>\n",
       "      <th>phosphorus_scaled</th>\n",
       "    </tr>\n",
       "  </thead>\n",
       "  <tbody>\n",
       "    <tr>\n",
       "      <th>0</th>\n",
       "      <td>pasta. rice and grains</td>\n",
       "      <td>Durum wheat pre-cooked. whole grain. cooked. u...</td>\n",
       "      <td>116.0</td>\n",
       "      <td>5.25</td>\n",
       "      <td>0.48</td>\n",
       "      <td>0.120907</td>\n",
       "      <td>0.193784</td>\n",
       "    </tr>\n",
       "    <tr>\n",
       "      <th>1</th>\n",
       "      <td>pasta. rice and grains</td>\n",
       "      <td>Asian noodles. plain. cooked. unsalted</td>\n",
       "      <td>43.0</td>\n",
       "      <td>3.50</td>\n",
       "      <td>0.19</td>\n",
       "      <td>0.047859</td>\n",
       "      <td>0.060329</td>\n",
       "    </tr>\n",
       "    <tr>\n",
       "      <th>2</th>\n",
       "      <td>pasta. rice and grains</td>\n",
       "      <td>Rice. brown. cooked. unsalted</td>\n",
       "      <td>120.0</td>\n",
       "      <td>3.21</td>\n",
       "      <td>0.62</td>\n",
       "      <td>0.156171</td>\n",
       "      <td>0.201097</td>\n",
       "    </tr>\n",
       "    <tr>\n",
       "      <th>3</th>\n",
       "      <td>pasta. rice and grains</td>\n",
       "      <td>Rice. cooked. unsalted</td>\n",
       "      <td>35.0</td>\n",
       "      <td>2.92</td>\n",
       "      <td>0.26</td>\n",
       "      <td>0.065491</td>\n",
       "      <td>0.045704</td>\n",
       "    </tr>\n",
       "    <tr>\n",
       "      <th>4</th>\n",
       "      <td>pasta. rice and grains</td>\n",
       "      <td>Rice. parboiled. cooked. unsalted</td>\n",
       "      <td>35.0</td>\n",
       "      <td>2.95</td>\n",
       "      <td>0.10</td>\n",
       "      <td>0.025189</td>\n",
       "      <td>0.045704</td>\n",
       "    </tr>\n",
       "  </tbody>\n",
       "</table>\n",
       "</div>"
      ],
      "text/plain": [
       "       alim_ssgrp_nom_eng                                       alim_nom_eng  \\\n",
       "0  pasta. rice and grains  Durum wheat pre-cooked. whole grain. cooked. u...   \n",
       "1  pasta. rice and grains             Asian noodles. plain. cooked. unsalted   \n",
       "2  pasta. rice and grains                      Rice. brown. cooked. unsalted   \n",
       "3  pasta. rice and grains                             Rice. cooked. unsalted   \n",
       "4  pasta. rice and grains                  Rice. parboiled. cooked. unsalted   \n",
       "\n",
       "   Phosphorus (mg/100g)  Protein (g/100g)  Zinc (mg/100g)  zinc_scaled  \\\n",
       "0                 116.0              5.25            0.48     0.120907   \n",
       "1                  43.0              3.50            0.19     0.047859   \n",
       "2                 120.0              3.21            0.62     0.156171   \n",
       "3                  35.0              2.92            0.26     0.065491   \n",
       "4                  35.0              2.95            0.10     0.025189   \n",
       "\n",
       "   phosphorus_scaled  \n",
       "0           0.193784  \n",
       "1           0.060329  \n",
       "2           0.201097  \n",
       "3           0.045704  \n",
       "4           0.045704  "
      ]
     },
     "execution_count": 4,
     "metadata": {},
     "output_type": "execute_result"
    }
   ],
   "source": [
    "from sklearn.preprocessing import MinMaxScaler\n",
    "\n",
    "scaler = MinMaxScaler()\n",
    "\n",
    "scaler.fit(data[['Zinc (mg/100g)','Phosphorus (mg/100g)']])\n",
    "\n",
    "data['zinc_scaled'], data['phosphorus_scaled'] = scaler.transform(data[['Zinc (mg/100g)','Phosphorus (mg/100g)']]).T\n",
    "\n",
    "data.head()"
   ]
  },
  {
   "cell_type": "markdown",
   "metadata": {},
   "source": [
    "👇 Create the `pd.Series` x and y as `zinc` and `phosphorus` respectively (their scaled version)"
   ]
  },
  {
   "cell_type": "code",
   "execution_count": 5,
   "metadata": {},
   "outputs": [],
   "source": [
    "x = data['zinc_scaled']\n",
    "y = data['phosphorus_scaled']"
   ]
  },
  {
   "cell_type": "markdown",
   "metadata": {},
   "source": [
    "## 3. Code one Epoch"
   ]
  },
  {
   "cell_type": "markdown",
   "metadata": {},
   "source": [
    "In this section of the exercice, you will define the key functions used to update the parameters during one epoch (k) of gradient descent. Recall the formula below\n",
    "\n",
    "$$\n",
    "\\beta_0^{\\color {red}{(k+1)}} = \\beta_0^{\\color {red}{(k)}} - \\eta \\frac{\\partial L}{\\partial \\beta_0}(\\beta^{\\color{red}{(k)}})\n",
    "$$\n",
    "\n",
    "\n",
    "$$\n",
    "\\beta_1^{\\color {red}{(k+1)}} = \\beta_1^{\\color {red}{(k)}} - \\eta \\frac{\\partial L}{\\partial \\beta_1}(\\beta^{\\color {red}{(k)}})\n",
    "$$\n"
   ]
  },
  {
   "cell_type": "markdown",
   "metadata": {},
   "source": [
    "### Hypothesis Function"
   ]
  },
  {
   "cell_type": "markdown",
   "metadata": {},
   "source": [
    "$$\n",
    "\\hat{y} =  a x + b\n",
    "$$\n",
    "\n",
    "👇 Define the hypothesis function of a Linear Regression. Let `a` be the slope and `b` the intercept.\n"
   ]
  },
  {
   "cell_type": "code",
   "execution_count": 1,
   "metadata": {},
   "outputs": [],
   "source": [
    "def h(x,a,b):\n",
    "    y_pred = a*x + b\n",
    "    return y_pred"
   ]
  },
  {
   "cell_type": "markdown",
   "metadata": {},
   "source": [
    "❓ What would be your predicted amount of phosphorus if:\n",
    "- zinc = 0.1\n",
    "- a = 1\n",
    "- b = 1\n",
    "\n",
    "Use your hypothesis function to compute the answer. "
   ]
  },
  {
   "cell_type": "code",
   "execution_count": 2,
   "metadata": {},
   "outputs": [
    {
     "data": {
      "text/plain": [
       "1.1"
      ]
     },
     "execution_count": 2,
     "metadata": {},
     "output_type": "execute_result"
    }
   ],
   "source": [
    "h(0.1,1,1)"
   ]
  },
  {
   "cell_type": "markdown",
   "metadata": {},
   "source": [
    "⚠️ If the answer is not 1.1, something is wrong with your function. Fix it before moving on!"
   ]
  },
  {
   "cell_type": "markdown",
   "metadata": {},
   "source": [
    "### Loss Function"
   ]
  },
  {
   "cell_type": "markdown",
   "metadata": {},
   "source": [
    "$$\n",
    "Least\\ Squares\\ Loss = \\sum_{i=0}^n (y^{(i)} - \\hat{y}^{(i)} )^2\n",
    "$$\n",
    "\n",
    "👇 Define the Least Squares Loss Function for the above created Hypothesis Function.\n"
   ]
  },
  {
   "cell_type": "markdown",
   "metadata": {},
   "source": [
    "\n",
    "<details>\n",
    "<summary>💡 Hint</summary>\n",
    "You must use the Hypothesis Function within the Loss function to compute the predictions at given parameter values.\n",
    "</details>\n",
    "\n"
   ]
  },
  {
   "cell_type": "code",
   "execution_count": 8,
   "metadata": {},
   "outputs": [],
   "source": [
    "import numpy as np\n",
    "\n",
    "def loss(x,y,a,b):\n",
    "    y_pred = h(x,a,b)\n",
    "    loss = np.sum((y-y_pred) ** 2)\n",
    "    return loss"
   ]
  },
  {
   "cell_type": "markdown",
   "metadata": {},
   "source": [
    "❓ What would be the total Loss if:\n",
    "- a = 1 \n",
    "- b = 1"
   ]
  },
  {
   "cell_type": "code",
   "execution_count": 9,
   "metadata": {},
   "outputs": [
    {
     "data": {
      "text/plain": [
       "63.868506986115456"
      ]
     },
     "execution_count": 9,
     "metadata": {},
     "output_type": "execute_result"
    }
   ],
   "source": [
    "loss(x,y,1,1)"
   ]
  },
  {
   "cell_type": "markdown",
   "metadata": {},
   "source": [
    "⚠️ You should be getting 63.86. If not, something is wrong with your function. Fix it before moving on!"
   ]
  },
  {
   "cell_type": "markdown",
   "metadata": {},
   "source": [
    "### Gradient"
   ]
  },
  {
   "cell_type": "markdown",
   "metadata": {},
   "source": [
    "$$\n",
    "\\frac{d\\ SSR}{d\\ slope}= \\sum_{i=0}^n -2(y^{(i)} - \\hat{y}^{(i)} )\\times x\n",
    "$$\n",
    "\n",
    "$$\n",
    "\\frac{d\\ SSR}{d\\ intercept}= \\sum_{i=0}^n -2(y^{(i)} - \\hat{y}^{(i)} ) \n",
    "$$\n",
    "\n",
    "👇 Define a function to compute the partial derivatives of the Loss Function relative to parameter `a` and `b` at a given points.\n"
   ]
  },
  {
   "cell_type": "markdown",
   "metadata": {},
   "source": [
    "<details>\n",
    "<summary>💡 Hint</summary>\n",
    "Again, you must use the Hypothesis Function within to compute the predictions at given points.\n",
    "</details>"
   ]
  },
  {
   "cell_type": "code",
   "execution_count": 10,
   "metadata": {},
   "outputs": [],
   "source": [
    "def gradient(x,y,a,b):\n",
    "    y_pred = h(x,a,b)\n",
    "    derivative_a = np.sum(-2*(y-y_pred)*x)\n",
    "    derivative_b = np.sum(-2*(y-y_pred))\n",
    "    return derivative_a, derivative_b"
   ]
  },
  {
   "cell_type": "markdown",
   "metadata": {},
   "source": [
    "❓ Using your function, what would be the partial derivatives of each parameter if:\n",
    "- a = 1\n",
    "- b = 1"
   ]
  },
  {
   "cell_type": "code",
   "execution_count": 11,
   "metadata": {},
   "outputs": [
    {
     "data": {
      "text/plain": [
       "(48.459065809109006, 115.17923733301406)"
      ]
     },
     "execution_count": 11,
     "metadata": {},
     "output_type": "execute_result"
    }
   ],
   "source": [
    "gradient(x,y,1,1)"
   ]
  },
  {
   "cell_type": "markdown",
   "metadata": {},
   "source": [
    "⚠️ You should be getting 48.45 and  115.17. If not, fix your function!"
   ]
  },
  {
   "cell_type": "markdown",
   "metadata": {},
   "source": [
    "### Step Sizes"
   ]
  },
  {
   "cell_type": "markdown",
   "metadata": {},
   "source": [
    "$$\n",
    "step\\ size = gradient \\cdot learning\\ rate\n",
    "$$"
   ]
  },
  {
   "cell_type": "markdown",
   "metadata": {},
   "source": [
    "👇 Define a function that calculates the step sizes alongside each parameter (a,b), according to their derivatives (derivative_a, derivative_b) and a learning_rate equals to 0.01 by default"
   ]
  },
  {
   "cell_type": "code",
   "execution_count": 12,
   "metadata": {},
   "outputs": [],
   "source": [
    "def steps(derivative_a,derivative_b, learning_rate = 0.01):\n",
    "    step_a = derivative_a*learning_rate\n",
    "    step_b = derivative_b*learning_rate\n",
    "    return (step_a, step_b)"
   ]
  },
  {
   "cell_type": "markdown",
   "metadata": {},
   "source": [
    "❓ What would be the steps to take for the derivatives computed above for (a,b) = (1,1)?"
   ]
  },
  {
   "cell_type": "code",
   "execution_count": 13,
   "metadata": {},
   "outputs": [
    {
     "data": {
      "text/plain": [
       "(0.4845906580910901, 1.1517923733301405)"
      ]
     },
     "execution_count": 13,
     "metadata": {},
     "output_type": "execute_result"
    }
   ],
   "source": [
    "derivative_a, derivative_b = gradient(x,y,1,1)\n",
    "\n",
    "steps(derivative_a,derivative_b,learning_rate = 0.01)"
   ]
  },
  {
   "cell_type": "markdown",
   "metadata": {},
   "source": [
    "⚠️ The steps should be 0.48 for a and 1.15 for b"
   ]
  },
  {
   "cell_type": "markdown",
   "metadata": {},
   "source": [
    "### Update parameters (a, b)"
   ]
  },
  {
   "cell_type": "markdown",
   "metadata": {},
   "source": [
    "$$\n",
    "updated\\ parameter = old\\ parameter\\ value - step\\ size\n",
    "$$"
   ]
  },
  {
   "cell_type": "markdown",
   "metadata": {},
   "source": [
    "👇 Define a function that computes the updated parameter values from the old parameter values and the step sizes."
   ]
  },
  {
   "cell_type": "code",
   "execution_count": 14,
   "metadata": {},
   "outputs": [],
   "source": [
    "def update_params(a, b, step_a, step_b):\n",
    "    a_new = a - step_a\n",
    "    b_new = b - step_b\n",
    "    return a_new , b_new"
   ]
  },
  {
   "cell_type": "markdown",
   "metadata": {},
   "source": [
    "### Gradient Descent Epoch"
   ]
  },
  {
   "cell_type": "markdown",
   "metadata": {},
   "source": [
    "👇 Using the functions you just created, compute the updated parameters at the end of the first Epoch, had you started with parameters:\n",
    "- a = 1\n",
    "- b = 1"
   ]
  },
  {
   "cell_type": "code",
   "execution_count": 15,
   "metadata": {
    "scrolled": true
   },
   "outputs": [
    {
     "name": "stdout",
     "output_type": "stream",
     "text": [
      "0.5154093419089099\n",
      "-0.1517923733301405\n"
     ]
    }
   ],
   "source": [
    "a = 1\n",
    "b = 1\n",
    "\n",
    "derivative_a, derivative_b = gradient(x,y,a,b)\n",
    "\n",
    "step_a, step_b = steps(derivative_a,derivative_b,learning_rate = 0.01)\n",
    "\n",
    "a_new, b_new = update_params(a,b,step_a,step_b)\n",
    "\n",
    "print(a_new)\n",
    "print(b_new)"
   ]
  },
  {
   "cell_type": "markdown",
   "metadata": {},
   "source": [
    "⚠️ You should be getting the following values:\n",
    "   - updated_a = 0.51\n",
    "   - updated_b = -0.15"
   ]
  },
  {
   "cell_type": "markdown",
   "metadata": {},
   "source": [
    "## 4. Gradient Descent"
   ]
  },
  {
   "cell_type": "markdown",
   "metadata": {},
   "source": [
    "👇 Now that you have the necessary functions for a Gradient Descent, loop through epochs until convergence.\n",
    "\n",
    "- Initialize parameters `a = 1` and  `b = 1`\n",
    "- Consider convergence to be **100 epochs**\n",
    "- Don't forget to start each new epoch with the updated parameters\n",
    "- Append the value of the loss, a, and b at each epoch to a list called `loss_history`, `a_history` and `b_history`"
   ]
  },
  {
   "cell_type": "code",
   "execution_count": 28,
   "metadata": {},
   "outputs": [],
   "source": [
    "# Initialize a and b\n",
    "a = 1\n",
    "b = 1\n",
    "loss_history = []\n",
    "a_history = []\n",
    "b_history = []\n",
    "\n",
    "# Loop through steps to perform Gradient Descent\n",
    "for epoch in range(150):\n",
    "    \n",
    "    # Compute Loss at each Epoch and append to loss_history\n",
    "    loss_epoch = loss(x,y,a,b)\n",
    "    loss_history.append(loss_epoch)\n",
    "    \n",
    "    # Compute the gradient (the two partial derivatives) \n",
    "    derivative_a, derivative_b = gradient(x,y,a,b)\n",
    "    \n",
    "    # Compute steps\n",
    "    step_a, step_b = steps(derivative_a,derivative_b)\n",
    "    \n",
    "    # Compute updated parameters\n",
    "    a_new, b_new = update_params(a, b, step_a,step_b)\n",
    "    a_history.append(a_new)\n",
    "    b_history.append(b_new)\n",
    "    \n",
    "    # Set updated parameters for new epoch\n",
    "    a = a_new\n",
    "    b = b_new"
   ]
  },
  {
   "cell_type": "markdown",
   "metadata": {},
   "source": [
    "❓ What are the parameter values for `a` and `b` at the end of the 100 epochs?"
   ]
  },
  {
   "cell_type": "code",
   "execution_count": 27,
   "metadata": {},
   "outputs": [
    {
     "name": "stdout",
     "output_type": "stream",
     "text": [
      "0.7688319515622912 0.007019976345811907\n"
     ]
    }
   ],
   "source": [
    "print(a,b)"
   ]
  },
  {
   "cell_type": "markdown",
   "metadata": {},
   "source": [
    "You should be getting 0.76 and 0.007"
   ]
  },
  {
   "cell_type": "markdown",
   "metadata": {},
   "source": [
    "👇 Wrap this iterative approach into a method `gradient_descent()`"
   ]
  },
  {
   "cell_type": "code",
   "execution_count": 18,
   "metadata": {},
   "outputs": [],
   "source": [
    "def gradient_descent(x, y, a_init=1, b_init=1, learning_rate=0.001, n_epochs=100):\n",
    "    a = a_init\n",
    "    b = b_init\n",
    "    loss_history = []\n",
    "    a_history = []\n",
    "    b_history = []\n",
    "    \n",
    "    for epoch in range(n_epochs):\n",
    "        a_history.append(a)\n",
    "        b_history.append(b)\n",
    "        loss_epoch = loss(x,y,a,b)\n",
    "        loss_history.append(loss_epoch)\n",
    "        \n",
    "        derivative_a, derivative_b = gradient(x,y,a,b)\n",
    "\n",
    "        step_a, step_b = steps(derivative_a,derivative_b,learning_rate)\n",
    "\n",
    "        a_new, b_new = update_params(a, b, step_a, step_b)\n",
    "        \n",
    "        a = a_new\n",
    "        b = b_new\n",
    "\n",
    "    history = {'loss': loss_history, 'a': a_history, 'b': b_history}\n",
    "    return a_new, b_new, history"
   ]
  },
  {
   "cell_type": "code",
   "execution_count": 19,
   "metadata": {},
   "outputs": [],
   "source": [
    "a_best, b_best, history = gradient_descent(x,y, learning_rate=0.001)"
   ]
  },
  {
   "cell_type": "markdown",
   "metadata": {},
   "source": [
    "👇 Plot the line of best fit through Zinc and Phosphorus using the parameters of your Gradient Descent."
   ]
  },
  {
   "cell_type": "code",
   "execution_count": 20,
   "metadata": {
    "scrolled": true
   },
   "outputs": [
    {
     "data": {
      "text/plain": [
       "[<matplotlib.lines.Line2D at 0x128752f10>]"
      ]
     },
     "execution_count": 20,
     "metadata": {},
     "output_type": "execute_result"
    },
    {
     "data": {
      "image/png": "[encoded data removed]",
      "text/plain": [
       "<Figure size 432x288 with 1 Axes>"
      ]
     },
     "metadata": {
      "needs_background": "light"
     },
     "output_type": "display_data"
    }
   ],
   "source": [
    "import matplotlib.pyplot as plt\n",
    "sns.scatterplot(x,y)\n",
    "plt.plot(x, h(x,a_best,b_best))"
   ]
  },
  {
   "cell_type": "markdown",
   "metadata": {},
   "source": [
    "👇 Plot your gradient as a 2D-surface using matplotlib [contourf](https://matplotlib.org/api/_as_gen/matplotlib.pyplot.contourf.html).  \n",
    "Plot on the same figure all historical (a,b) points as red dots to visualize your gradient descent!\n",
    "Change your learning rate and observe it's impact"
   ]
  },
  {
   "cell_type": "markdown",
   "metadata": {},
   "source": [
    "\n",
    "<details>\n",
    "    <summary>Hint</summary>\n",
    "\n",
    "You'll have to create \n",
    "- a range of values for `a`\n",
    "- a range of values for `b`    \n",
    "- a 2D-array `Z` where each elements `Z[i,j] = loss(x,y,a[i],b[j])`\n",
    "</details>"
   ]
  },
  {
   "cell_type": "code",
   "execution_count": 21,
   "metadata": {},
   "outputs": [],
   "source": [
    "range_a = np.linspace(-1,1,50)\n",
    "range_b = np.linspace(-1,1,50)\n",
    "\n",
    "Z = np.zeros((len(range_a),len(range_b)))\n",
    "for (i, a) in enumerate(range_a):\n",
    "    for (j, b) in enumerate(range_b):\n",
    "        Z[i,j] = loss(x,y,a,b)\n"
   ]
  },
  {
   "cell_type": "code",
   "execution_count": 22,
   "metadata": {},
   "outputs": [
    {
     "data": {
      "image/png": "[encoded data removed]",
      "text/plain": [
       "<Figure size 432x288 with 2 Axes>"
      ]
     },
     "metadata": {
      "needs_background": "light"
     },
     "output_type": "display_data"
    }
   ],
   "source": [
    "plt.contourf(range_a, range_b, Z)\n",
    "plt.xlabel('a')\n",
    "plt.ylabel('b')\n",
    "plt.scatter(history['a'], history['b'], c='r', s=1)\n",
    "plt.colorbar();"
   ]
  },
  {
   "cell_type": "markdown",
   "metadata": {},
   "source": [
    "👇 (optional) try also it to visualize your gradient with the interactive plot.ly [3D contour plot](https://plotly.com/python/3d-surface-plots/)"
   ]
  },
  {
   "cell_type": "code",
   "execution_count": 50,
   "metadata": {},
   "outputs": [
    {
     "data": {
      "application/vnd.plotly.v1+json": {
       "config": {
        "plotlyServerURL": "https://plot.ly"
       },
       "data": [
        {
         "type": "surface",
         "x": [
          -1,
          -0.9591836734693877,
          -0.9183673469387755,
          -0.8775510204081632,
          -0.8367346938775511,
          -0.7959183673469388,
          -0.7551020408163265,
          -0.7142857142857143,
          -0.6734693877551021,
          -0.6326530612244898,
          -0.5918367346938775,
          -0.5510204081632654,
          -0.5102040816326531,
          -0.4693877551020409,
          -0.4285714285714286,
          -0.3877551020408164,
          -0.34693877551020413,
          -0.30612244897959184,
          -0.26530612244897966,
          -0.22448979591836737,
          -0.1836734693877552,
          -0.1428571428571429,
          -0.10204081632653073,
          -0.061224489795918435,
          -0.020408163265306145,
          0.020408163265306145,
          0.06122448979591821,
          0.1020408163265305,
          0.1428571428571428,
          0.18367346938775508,
          0.22448979591836715,
          0.26530612244897944,
          0.30612244897959173,
          0.346938775510204,
          0.3877551020408163,
          0.4285714285714284,
          0.46938775510204067,
          0.510204081632653,
          0.5510204081632653,
          0.5918367346938773,
          0.6326530612244896,
          0.6734693877551019,
          0.7142857142857142,
          0.7551020408163265,
          0.7959183673469385,
          0.8367346938775508,
          0.8775510204081631,
          0.9183673469387754,
          0.9591836734693877,
          1
         ],
         "y": [
          -1,
          -0.9591836734693877,
          -0.9183673469387755,
          -0.8775510204081632,
          -0.8367346938775511,
          -0.7959183673469388,
          -0.7551020408163265,
          -0.7142857142857143,
          -0.6734693877551021,
          -0.6326530612244898,
          -0.5918367346938775,
          -0.5510204081632654,
          -0.5102040816326531,
          -0.4693877551020409,
          -0.4285714285714286,
          -0.3877551020408164,
          -0.34693877551020413,
          -0.30612244897959184,
          -0.26530612244897966,
          -0.22448979591836737,
          -0.1836734693877552,
          -0.1428571428571429,
          -0.10204081632653073,
          -0.061224489795918435,
          -0.020408163265306145,
          0.020408163265306145,
          0.06122448979591821,
          0.1020408163265305,
          0.1428571428571428,
          0.18367346938775508,
          0.22448979591836715,
          0.26530612244897944,
          0.30612244897959173,
          0.346938775510204,
          0.3877551020408163,
          0.4285714285714284,
          0.46938775510204067,
          0.510204081632653,
          0.5510204081632653,
          0.5918367346938773,
          0.6326530612244896,
          0.6734693877551019,
          0.7142857142857142,
          0.7551020408163265,
          0.7959183673469385,
          0.8367346938775508,
          0.8775510204081631,
          0.9183673469387754,
          0.9591836734693877,
          1
         ],
         "z": [
          [
           170.76944132454952,
           163.40162901259117,
           156.2104097868469,
           149.19578364731672,
           142.3577505940006,
           135.6963106268986,
           129.21146374601062,
           122.90320995133675,
           116.77154924287694,
           110.81648162063124,
           105.03800708459958,
           99.43612563478202,
           94.01083727117852,
           88.76214199378913,
           83.6900398026138,
           78.79453069765253,
           74.07561467890534,
           69.53329174637223,
           65.16756190005324,
           60.97842513994828,
           56.96588146605741,
           53.12993087838062,
           49.47057337691791,
           45.98780896166928,
           42.6816376326347,
           39.55205938981422,
           36.59907423320784,
           33.822682162815504,
           31.222883178637247,
           28.79967728067307,
           26.553064468922987,
           24.48304474338697,
           22.58961810406502,
           20.872784550957157,
           19.332544084063375,
           17.968896703383667,
           16.781842408918035,
           15.771381200666484,
           14.937513078629005,
           14.280238042805614,
           13.79955609319629,
           13.495467229801049,
           13.367971452619877,
           13.417068761652791,
           13.64275915689978,
           14.045042638360847,
           14.623919206035994,
           15.379388859925214,
           16.311451600028516,
           17.420107426345897
          ],
          [
           167.2041526198331,
           159.90785543014223,
           152.78815132666546,
           145.84504030940275,
           139.0785223783541,
           132.48859753351957,
           126.07526577489908,
           119.83852710249272,
           113.77838151630041,
           107.89482901632215,
           102.18786960255798,
           96.65750327500793,
           91.30373003367193,
           86.12654987855001,
           81.12596280964216,
           76.30196882694838,
           71.65456793046869,
           67.18376012020305,
           62.88954539615152,
           58.77192375831405,
           54.83089520669068,
           51.066459741281356,
           47.47861736208615,
           44.067368069104994,
           40.83271186233791,
           37.7746487417849,
           34.89317870744601,
           32.188301759321156,
           29.66001789741039,
           27.3083271217137,
           25.133229432231097,
           23.13472482896256,
           21.312813311908105,
           19.667494881067718,
           18.19876953644142,
           16.906637278029212,
           15.79109810583106,
           14.85215201984699,
           14.089799020076999,
           13.504039106521088,
           13.094872279179253,
           12.862298538051494,
           12.806317883137817,
           12.926930314438211,
           13.224135831952685,
           13.697934435681237,
           14.348326125623865,
           15.175310901780575,
           16.17888876415136,
           17.359059712736226
          ],
          [
           163.68090450825153,
           156.4561224408281,
           149.40793345961893,
           142.53633756462364,
           135.84133475584252,
           129.32292503327545,
           122.9811083969225,
           116.81588484678356,
           110.82725438285875,
           105.01521700514799,
           99.3797727136513,
           93.92092150836875,
           88.63866338930019,
           83.53299835644575,
           78.60392640980541,
           73.8514475493791,
           69.2755617751669,
           64.87626908716877,
           60.65356948538472,
           56.607462969814726,
           52.737949540458835,
           49.04502919731703,
           45.52870194038927,
           42.188967769675614,
           39.025826685176014,
           36.03927868689049,
           33.22932377481908,
           30.595961948961715,
           28.139193209318435,
           25.85901755588923,
           23.75543498867411,
           21.828445507673067,
           20.078049112886095,
           18.504245804313197,
           17.107035581954385,
           15.886418445809646,
           14.842394395878983,
           13.9749634321624,
           13.284125554659898,
           12.769880763371468,
           12.43222905829712,
           12.271170439436846,
           12.28670490679065,
           12.478832460358532,
           12.847553100140491,
           13.392866826136526,
           14.114773638346643,
           15.013273536770836,
           16.088366521409107,
           17.340052592261454
          ],
          [
           160.1996969898049,
           153.04643004464896,
           146.0697561857072,
           139.26967541297947,
           132.64618772646583,
           126.19929312616624,
           119.92899161208074,
           113.83528318420933,
           107.91816784255198,
           102.17764558710871,
           96.61371641787952,
           91.22638033486442,
           86.01563733806337,
           80.98148742747644,
           76.12393060310356,
           71.44296686494474,
           66.93859621300003,
           62.610818647269376,
           58.45963416775281,
           54.48504277445031,
           50.6870444673619,
           47.065639246487564,
           43.6208271118273,
           40.352608063381126,
           37.26098210114902,
           34.34594922513099,
           31.607509435327046,
           29.045662731737174,
           26.660409114361375,
           24.451748583199656,
           22.419681138252024,
           20.564206779518464,
           18.885325506998974,
           17.383037320693568,
           16.057342220602237,
           14.908240206724987,
           13.93573127906181,
           13.139815437612715,
           12.520492682377693,
           12.07776301335675,
           11.811626430549886,
           11.722082933957099,
           11.809132523578386,
           12.072775199413753,
           12.513010961463195,
           13.12983980972672,
           13.923261744204318,
           14.893276764895997,
           16.039884871801753,
           17.363086064921585
          ],
          [
           156.76053006449317,
           149.67877824160476,
           142.77361950493048,
           136.04505385447018,
           129.49308129022398,
           123.11770181219194,
           116.91891542037392,
           110.89672211476999,
           105.05112189538016,
           99.38211476220435,
           93.88970071524265,
           88.57387975449502,
           83.43465187996148,
           78.472017091642,
           73.68597538953661,
           69.0765267736453,
           64.64367124396807,
           60.38740880050489,
           56.30773944325581,
           52.40466317222081,
           48.67817998739987,
           45.12828988879301,
           41.75499287640026,
           38.55828895022155,
           35.538178110256936,
           32.69466035650638,
           30.027735688969926,
           27.537404107647536,
           25.22366561253923,
           23.08652020364499,
           21.125967880964847,
           19.342008644498765,
           17.73464249424676,
           16.303869430208838,
           15.049689452384994,
           13.972102560775228,
           13.071108755379537,
           12.346708036197924,
           11.79890040323039,
           11.427685856476932,
           11.233064395937552,
           11.215036021612251,
           11.373600733501023,
           11.708758531603879,
           12.220509415920805,
           12.908853386451812,
           13.773790443196901,
           14.815320586156059,
           16.033443815329303,
           17.428160130716623
          ],
          [
           153.3634037323163,
           146.3531670316954,
           139.5195234172886,
           132.8624728890958,
           126.38201544711711,
           120.0781510913525,
           113.95087982180199,
           108.00020163846554,
           102.22611654134319,
           96.62862453043488,
           91.20772560574065,
           85.96341976726052,
           80.89570701499446,
           76.00458734894248,
           71.29006076910456,
           66.75212727548073,
           62.39078686807097,
           58.206039546875296,
           54.19788531189369,
           50.366324163126166,
           46.711356100572736,
           43.23298112423336,
           39.93119923410808,
           36.806010430196864,
           33.85741471249973,
           31.085412081016663,
           28.490002535747706,
           26.071186076692797,
           23.828962703851975,
           21.76333241722522,
           19.874295216812556,
           18.16185110261396,
           16.626000074629445,
           15.266742132859008,
           14.084077277302649,
           13.07800550796037,
           12.248526824832165,
           11.595641227918037,
           11.119348717217985,
           10.819649292732015,
           10.696542954460117,
           10.750029702402301,
           10.980109536558562,
           11.386782456928902,
           11.970048463513313,
           12.729907556311804,
           13.666359735324376,
           14.779405000551025,
           16.06904335199175,
           17.535274789646554
          ],
          [
           150.00831799327435,
           143.06959641492094,
           136.3074679227816,
           129.7219325168563,
           123.31299019714514,
           117.08064096364801,
           111.02488481636497,
           105.145721755296,
           99.44315178044114,
           93.9171748918003,
           88.56779108937356,
           83.39500037316091,
           78.39880274316234,
           73.57919819937783,
           68.9361867418074,
           64.46976837045106,
           60.17994308530879,
           56.06671088638061,
           52.130071773666494,
           48.37002574716646,
           44.7865728068805,
           41.37971295280862,
           38.149446184950826,
           35.09577250330709,
           32.218691907877435,
           29.518204398661855,
           26.994309975660375,
           24.647008638872954,
           22.476300388299613,
           20.482185223940352,
           18.664663145795178,
           17.02373415386407,
           15.559398248147035,
           14.271655428644083,
           13.160505695355205,
           12.225949048280413,
           11.467985487419691,
           10.886615012773046,
           10.481837624340486,
           10.253653322121998,
           10.20206210611759,
           10.327063976327256,
           10.628658932750998,
           11.106846975388825,
           11.761628104240717,
           12.5930023193067,
           13.600969620586755,
           14.785530008080885,
           16.146683481789104,
           17.684430041711387
          ],
          [
           146.6952728473673,
           139.82806639128142,
           133.13745302140956,
           126.62343273775173,
           120.28600554030804,
           114.1251714290784,
           108.14093040406284,
           102.33328246526138,
           96.70222761267397,
           91.24776584630062,
           85.96989716614138,
           80.86862157219625,
           75.94393906446511,
           71.19584964294812,
           66.62435330764517,
           62.22945005855632,
           58.011139895681524,
           53.969422819020814,
           50.1042988285742,
           46.41576792434164,
           42.90383010632317,
           39.56848537451878,
           36.40973372892845,
           33.42757516955221,
           30.622009696390048,
           27.99303730944196,
           25.540658008707954,
           23.264871794188025,
           21.16567866588216,
           19.24307862379039,
           17.497071667912696,
           15.927657798249072,
           14.534837014799525,
           13.318609317564057,
           12.278974706542664,
           11.415933181735355,
           10.729484743142125,
           10.219629390762965,
           9.886367124597882,
           9.729697944646885,
           9.749621850909957,
           9.946138843387109,
           10.319248922078339,
           10.86895208698365,
           11.59524833810303,
           12.498137675436494,
           13.577620098984037,
           14.833695608745657,
           16.266364204721352,
           17.875625886911124
          ],
          [
           143.42426829459518,
           136.62857696077677,
           130.00947871317237,
           123.56697355178208,
           117.30106147660584,
           111.21174248764369,
           105.29901658489563,
           99.56288376836163,
           94.00334403804173,
           88.62039739393586,
           83.41404383604409,
           78.38428336436642,
           73.53111597890282,
           68.8545416796533,
           64.35456046661784,
           60.03117233979647,
           55.88437729918917,
           51.914175344795936,
           48.1205664766168,
           44.50355069465173,
           41.06312799890075,
           37.799298389363834,
           34.712061866041005,
           31.801418428932244,
           29.067368078037557,
           26.509910813356953,
           24.129046634890436,
           21.92477554263799,
           19.89709753659962,
           18.046012616775325,
           16.371520783165117,
           14.873622035768976,
           13.552316374586916,
           12.407603799618931,
           11.439484310865028,
           10.647957908325203,
           10.033024591999451,
           9.59468436188778,
           9.332937217990187,
           9.247783160306668,
           9.339222188837226,
           9.607254303581868,
           10.051879504540581,
           10.673097791713376,
           11.470909165100242,
           12.44531362470119,
           13.596311170516216,
           14.923901802545318,
           16.428085520788507,
           18.108862325245763
          ],
          [
           140.19530433495802,
           133.471128123407,
           126.92354499807011,
           120.55255495894728,
           114.35815800603855,
           108.3403541393439,
           102.4991433588633,
           96.83452566459678,
           91.34650105654438,
           86.03506953470601,
           80.90023109908174,
           75.94198574967155,
           71.1603334864754,
           66.55527430949336,
           62.126808218725394,
           57.874935214171515,
           53.79965529583169,
           49.90096846370595,
           46.1788747177943,
           42.633374058096706,
           39.26446648461321,
           36.072151997343774,
           33.05643059628843,
           30.217302281447157,
           27.554767052819965,
           25.068824910406846,
           22.75947585420782,
           20.62671988422285,
           18.670557000451968,
           16.89098720289516,
           15.288010491552434,
           13.86162686642378,
           12.611836327509204,
           11.538638874808711,
           10.642034508322284,
           9.922023228049946,
           9.378605033991683,
           9.011779926147497,
           8.821547904517384,
           8.807908969101357,
           8.970863119899397,
           9.310410356911522,
           9.826550680137721,
           10.519284089578003,
           11.388610585232353,
           12.434530167100785,
           13.657042835183299,
           15.056148589479886,
           16.631847429990557,
           18.38413935671529
          ],
          [
           137.00838096845564,
           130.35571987917217,
           123.87965187610274,
           117.58017695924741,
           111.45729512860616,
           105.51100638417898,
           99.74131072596586,
           94.14820815396685,
           88.7316986681819,
           83.49178226861102,
           78.42845895525424,
           73.54172872811152,
           68.83159158718288,
           64.29804753246833,
           59.94109656396785,
           55.76073868168144,
           51.75697388560912,
           47.92980217575086,
           44.279223552106686,
           40.8052380146766,
           37.50784556346058,
           34.38704619845863,
           31.442839919670774,
           28.67522672709698,
           26.084206620737266,
           23.669779600591635,
           21.43194566666009,
           19.370704818942617,
           17.486057057439215,
           15.778002382149891,
           14.246540793074656,
           12.891672290213485,
           11.713396873566396,
           10.71171454313338,
           9.886625298914446,
           9.238129140909592,
           8.766226069118812,
           8.470916083542113,
           8.352199184179485,
           8.41007537103094,
           8.64454464409647,
           9.055607003376078,
           9.643262448869763,
           10.407510980577527,
           11.348352598499364,
           12.465787302635283,
           13.759815092985281,
           15.230435969549353,
           16.877649932327504,
           18.701456981319737
          ],
          [
           133.8634981950882,
           127.28235222807221,
           120.8777993472703,
           114.64983955268244,
           108.59847284430869,
           102.72369922214897,
           97.02551868620336,
           91.50393123647183,
           86.15893687295434,
           80.99053559565095,
           75.99872740456166,
           71.18351229968644,
           66.54489028102527,
           62.082861348578206,
           57.797425502345206,
           53.68858274232629,
           49.75633306852144,
           46.00067648093068,
           42.421612979554,
           39.01914256439137,
           35.79326523544285,
           32.74398099270839,
           29.871289836188023,
           27.175191765881717,
           24.65568678178949,
           22.31277488391134,
           20.146456072247283,
           18.156730346797282,
           16.34359770756137,
           14.707058154539528,
           13.247111687731776,
           11.96375830713809,
           10.856998012758488,
           9.926830804592958,
           9.17325668264151,
           8.596275646904141,
           8.195887697380847,
           7.9720928340716295,
           7.92489105697649,
           8.054282366095427,
           8.360266761428443,
           8.842844242975536,
           9.502014810736705,
           10.337778464711956,
           11.350135204901278,
           12.539085031304682,
           13.904627943922165,
           15.446763942753726,
           17.16549302779936,
           19.06081519905907
          ],
          [
           130.7606560148557,
           124.25102517010717,
           117.91798741157274,
           111.76154273925235,
           105.78169115314608,
           99.97843265325386,
           94.35176723957571,
           88.9016949121117,
           83.62821567086172,
           78.53132951582583,
           73.61103644700398,
           68.86733646439623,
           64.30022956800256,
           59.90971575782298,
           55.69579503385748,
           51.65846739610605,
           47.79773284456867,
           44.113591379245385,
           40.60604300013619,
           37.27508770724107,
           34.12072550056003,
           31.142956380093047,
           28.34178034584016,
           25.717197397801343,
           23.269207535976605,
           20.997810760365933,
           18.903007070969355,
           16.98479646778685,
           15.243178950818418,
           13.678154520064066,
           12.2897231755238,
           11.0778849171976,
           10.042639745085479,
           9.183987659187439,
           8.501928659503474,
           7.996462746033589,
           7.667589918777779,
           7.515310177736046,
           7.539623522908393,
           7.740529954294816,
           8.118029471895316,
           8.672122075709893,
           9.402807765738551,
           10.310086541981285,
           11.39395840443809,
           12.654423353108978,
           14.091481387993946,
           15.705132509092993,
           17.49537671640611,
           19.462214009933316
          ],
          [
           127.69985442775805,
           121.26173870527703,
           115.00021606901008,
           108.9152865189572,
           103.00695005511838,
           97.27520667749366,
           91.720056386083,
           86.34149918088646,
           81.13953506190397,
           76.11416402913554,
           71.2653860825812,
           66.59320122224094,
           62.09760944811475,
           57.77861076020267,
           53.63620515850464,
           49.67039264302068,
           45.88117321375081,
           42.268546870695005,
           38.8325136138533,
           35.57307344322565,
           32.490226358812095,
           29.583972360612606,
           26.8543114486272,
           24.301243622855864,
           21.92476888329861,
           19.724887229955428,
           17.701598662826342,
           15.854903181911322,
           14.184800787210376,
           12.691291478723505,
           11.37437525645072,
           10.234052120392011,
           9.270322070547373,
           8.483185106916817,
           7.8726412295003385,
           7.438690438297939,
           7.181332733309613,
           7.100568114535367,
           7.196396581975196,
           7.468818135629103,
           7.91783277549709,
           8.543440501579154,
           9.345641313875296,
           10.324435212385515,
           11.479822197109808,
           12.81180226804818,
           14.320375425200634,
           16.00554166856716,
           17.867300998147773,
           19.905653413942456
          ],
          [
           124.68109343379533,
           118.3144928335818,
           112.12448531958232,
           106.11107089179691,
           100.27424955022562,
           94.61402129486837,
           89.13038612572521,
           83.82334404279612,
           78.69289504608112,
           73.73903913558017,
           68.96177631129332,
           64.36110657322055,
           59.93702992136185,
           55.68954635571724,
           51.618655876286695,
           47.72435848307023,
           44.00665417606784,
           40.465542955279524,
           37.101024820705305,
           33.91309977234514,
           30.90176781019907,
           28.067028934267064,
           25.408883144549144,
           22.927330441045292,
           20.62237082375552,
           18.49400429267983,
           16.542230847818228,
           14.767050489170689,
           13.168463216737225,
           11.746469030517842,
           10.501067930512543,
           9.432259916721316,
           8.540044989144166,
           7.824423147781096,
           7.285394392632102,
           6.922958723697187,
           6.737116140976348,
           6.727866644469585,
           6.895210234176902,
           7.2391469100982935,
           7.7596766722337644,
           8.456799520583314,
           9.33051545514694,
           10.380824475924644,
           11.607726582916419,
           13.011221776122282,
           14.59131005554222,
           16.347991421176232,
           18.281265873024324,
           20.3911334110865
          ],
          [
           121.70437303296751,
           115.40928755502145,
           109.29079516328946,
           103.34889585777155,
           97.58358963846771,
           91.99487650537796,
           86.58275645850229,
           81.34722949784069,
           76.28829562339321,
           71.40595483515975,
           66.70020713314035,
           62.17105251733508,
           57.81849098774385,
           53.64252254436673,
           49.64314718720367,
           45.82036491625469,
           42.174175731519775,
           38.70457963299894,
           35.41157662069221,
           32.29516669459953,
           29.355349854720945,
           26.592126101056426,
           24.00549543360599,
           21.59545785236962,
           19.36201335734734,
           17.305161948539133,
           15.42490362594501,
           13.721238389564956,
           12.194166239398983,
           10.843687175447082,
           9.669801197709269,
           8.672508306185529,
           7.8518085008758645,
           7.207701781780276,
           6.740188148898769,
           6.449267602231339,
           6.334940141777985,
           6.397205767538707,
           6.636064479513509,
           7.051516277702385,
           7.643561162105341,
           8.412199132722375,
           9.357430189553487,
           10.479254332598673,
           11.777671561857938,
           13.25268187733128,
           14.904285279018707,
           16.732481766920206,
           18.73727134103578,
           20.91865400136544
          ],
          [
           118.76969322527457,
           112.54612286959599,
           106.4991456001315,
           100.62876141688106,
           94.93497031984474,
           89.41777230902244,
           84.07716738441427,
           78.91315554602016,
           73.92573679384013,
           69.11491112787415,
           64.48067854812227,
           60.02303905458448,
           55.74199264726074,
           51.637539326151106,
           47.709679091255516,
           43.958411942574045,
           40.38373788010661,
           36.985656903853254,
           33.764169013814005,
           30.719274209988818,
           27.850972492377714,
           25.159263860980683,
           22.644148315797732,
           20.305625856828858,
           18.14369648407405,
           16.15836019753333,
           14.349616997206693,
           12.717466883094128,
           11.261909855195638,
           9.982945913511227,
           8.880575058040895,
           7.954797288784639,
           7.205612605742459,
           6.633021008914358,
           6.237022498300332,
           6.017617073900388,
           5.974804735714519,
           6.108585483742729,
           6.418959317985014,
           6.905926238441377,
           7.5694862451118174,
           8.409639337996337,
           9.426385517094936,
           10.619724782407609,
           11.989657133934351,
           13.536182571675184,
           15.259301095630093,
           17.15901270579908,
           19.23531740218214,
           21.48821518477928
          ],
          [
           115.87705401071656,
           109.72499877730544,
           103.74953663010845,
           97.9506675691255,
           92.32839159435665,
           86.88270870580185,
           81.61361890346116,
           76.52112218733453,
           71.60521855742198,
           66.8659080137235,
           62.303190556239095,
           57.917066184968775,
           53.70753489991253,
           49.674596701070385,
           45.81825158844228,
           42.13849956202828,
           38.63534062182834,
           35.30877476784249,
           32.15880200007071,
           29.185422318513005,
           26.388635723169386,
           23.76844221403984,
           21.324841791124378,
           19.05783445442298,
           16.96742020393567,
           15.05359903966243,
           13.316370961603278,
           11.755735969758199,
           10.371694064127192,
           9.164245244710264,
           8.133389511507422,
           7.279126864518649,
           6.601457303743955,
           6.100380829183339,
           5.7758974408368005,
           5.62800713870434,
           5.656709922785955,
           5.86200579308165,
           6.243894749591423,
           6.802376792315268,
           7.537451921253195,
           8.449120136405199,
           9.537381437771282,
           10.802235825351442,
           12.243683299145674,
           13.861723859153987,
           15.65635750537638,
           17.62758423781285,
           19.7754040564634,
           22.099816961328024
          ],
          [
           113.02645538929343,
           106.9459152781498,
           101.0419682532203,
           95.31461431450485,
           89.7638534620035,
           84.38968569571614,
           79.19211101564292,
           74.1711294217838,
           69.32674091413872,
           64.65894549270774,
           60.16774315749082,
           55.853133908488,
           51.71511774569923,
           47.75369466912456,
           43.96886467876395,
           40.36062777461743,
           36.92898395668498,
           33.67393322496661,
           30.595475579462317,
           27.693611020172103,
           24.968339547095965,
           22.4196611602339,
           20.047575859585926,
           17.852083645152018,
           15.833184516932189,
           13.990878474926435,
           12.32516551913477,
           10.83604564955717,
           9.523518866193651,
           8.38758516904421,
           7.428244558108848,
           6.645497033387562,
           6.039342594880354,
           5.609781242587223,
           5.356812976508169,
           5.280437796643194,
           5.3806557029922955,
           5.657466695555473,
           6.110870774332729,
           6.740867939324061,
           7.547458190529473,
           8.530641527948962,
           9.690417951582532,
           11.026787461430173,
           12.53975005749189,
           14.229305739767689,
           16.09545450825757,
           18.138196362961516,
           20.357531303879558,
           22.75345933101167
          ],
          [
           110.2178973610052,
           104.20887237212906,
           98.37644046946704,
           92.72060165301905,
           87.24135592278517,
           81.93870327876535,
           76.81264372095961,
           71.86317724936796,
           67.0903038639904,
           62.49402356482687,
           58.074336351877456,
           53.83124222514211,
           49.76474118462083,
           45.874833230313634,
           42.16151836222052,
           38.624796580341474,
           35.264667884676506,
           32.08113227522563,
           29.074189751988825,
           26.243840314966093,
           23.59008396415745,
           21.112920699562867,
           18.812350521182367,
           16.688373429015947,
           14.740989423063603,
           12.970198503325335,
           11.376000669801156,
           9.958395922491043,
           8.717384261395011,
           7.652965686513053,
           6.765140197845178,
           6.0539077953913765,
           5.519268479151651,
           5.161222249126006,
           4.979769105314436,
           4.974909047716946,
           5.146642076333532,
           5.494968191164197,
           6.019887392208939,
           6.721399679467756,
           7.5995050529406525,
           8.654203512627628,
           9.88549505852868,
           11.293379690643812,
           12.87785740897301,
           14.638928213516294,
           16.57659210427366,
           18.690849081245098,
           20.981699144430618,
           23.449142293830214
          ],
          [
           107.45137992585188,
           101.51387005924325,
           95.7529532788487,
           90.1686295846682,
           84.76089897670181,
           79.52976145494945,
           74.47521701941119,
           69.59726567008703,
           64.89590740697695,
           60.37114223008093,
           56.02297013939897,
           51.85139113493112,
           47.85640521667733,
           44.03801238463762,
           40.39621263881199,
           36.93100597920045,
           33.64239240580295,
           30.53037191861955,
           27.59494451765024,
           24.83611020289499,
           22.253868974353825,
           19.848220832026737,
           17.61916577591372,
           15.566703806014782,
           13.690834922329923,
           11.991559124859144,
           10.468876413602448,
           9.122786788559818,
           7.953290249731268,
           6.960386797116799,
           6.144076430716408,
           5.50435915053009,
           5.041234956557853,
           4.754703848799691,
           4.644765827255608,
           4.711420891925601,
           4.954669042809673,
           5.374510279907823,
           5.97094460322005,
           6.743972012746352,
           7.693592508486731,
           8.819806090441194,
           10.12261275860973,
           11.602012512992346,
           13.258005353589029,
           15.0905912803998,
           17.099770293424648,
           19.285542392663572,
           21.64790757811658,
           24.186865849783658
          ],
          [
           104.72690308383346,
           98.86090833949228,
           93.17150668136523,
           87.65869810945223,
           82.32248262375332,
           77.16286022426847,
           72.1798309109977,
           67.373394683941,
           62.743551543098405,
           58.29030148846987,
           54.0136445200554,
           49.91358063785503,
           45.99010984186873,
           42.243232132096495,
           38.67294750853836,
           35.279255971194296,
           32.0621575200643,
           29.021652155148377,
           26.15773987644654,
           23.470420683958782,
           20.9596945776851,
           18.625561557625492,
           16.46802162377997,
           14.487074776148516,
           12.682721014731143,
           11.054960339527844,
           9.603792750538634,
           8.329218247763492,
           7.231236831202428,
           6.309848500855441,
           5.565053256722536,
           4.996851098803706,
           4.605242027098952,
           4.390226041608275,
           4.351803142331678,
           4.489973329269157,
           4.804736602420713,
           5.296092961786346,
           5.96404240736606,
           6.8085849391598465,
           7.829720557167713,
           9.027449261389657,
           10.40177105182568,
           11.952685928475784,
           13.68019389133995,
           15.584294940418205,
           17.664989075710537,
           19.922276297216953,
           22.356156604937443,
           24.96662999887201
          ],
          [
           102.04446683494996,
           96.24998721287626,
           90.63210067701668,
           85.19080722737117,
           79.92610686393972,
           74.83799958672238,
           69.92648539571907,
           65.19156429092989,
           60.63323627235477,
           56.25150133999371,
           52.04635949384674,
           48.01781073391384,
           44.16585506019502,
           40.49049247269029,
           36.99172297139963,
           33.66954655632305,
           30.523963227460534,
           27.554972984812103,
           24.762575828377756,
           22.146771758157474,
           19.707560774151283,
           17.44494287635916,
           15.358918064781122,
           13.449486339417152,
           11.716647700267261,
           10.16040214733145,
           8.780749680609722,
           7.577690300102067,
           6.55122400580849,
           5.701350797728988,
           5.028070675863567,
           4.531383640212221,
           4.211289690774953,
           4.0677888275517615,
           4.100881050542649,
           4.310566359747612,
           4.696844755166654,
           5.259716236799775,
           5.999180804646971,
           6.9152384587082425,
           8.007889198983595,
           9.277133025473024,
           10.722969938176535,
           12.345399937094118,
           14.144423022225773,
           16.120039193571515,
           18.27224845113133,
           20.60105079490523,
           23.106446224893197,
           25.788434741095255
          ],
          [
           99.4040711792013,
           93.68110667939513,
           88.13473526580302,
           82.764956938425,
           77.57177169726104,
           72.55517954231118,
           67.71518047357536,
           63.051774491053656,
           58.56496159474602,
           54.254741784652445,
           50.121115060772965,
           46.16408142310754,
           42.383640871656226,
           38.77979340641897,
           35.35253902739581,
           32.1018777345867,
           29.027809527991675,
           26.13033440761073,
           23.409452373443862,
           20.86516342549107,
           18.497467563752362,
           16.30636478822772,
           14.29185509891717,
           12.453938495820687,
           10.792614978938284,
           9.307884548269959,
           7.999747203815715,
           6.8682029455755425,
           5.913251773549449,
           5.134893687737434,
           4.5331286881395,
           4.107956774755637,
           3.8593779475858536,
           3.7873922066301486,
           3.891999551888521,
           4.17319998336097,
           4.630993501047497,
           5.265380104948101,
           6.076359795062784,
           7.06393257139154,
           8.22809843393438,
           9.568857382691295,
           11.086209417662287,
           12.780154538847357,
           14.650692746246497,
           16.69782403985972,
           18.921548419687024,
           21.321865885728407,
           23.898776437983866,
           26.65228007645341
          ],
          [
           96.80571611658759,
           91.15426673904891,
           85.67941044772427,
           80.38114724261372,
           75.25947712371728,
           70.31440009103487,
           65.54591614456656,
           60.95402528431234,
           56.53872751027218,
           52.3000228224461,
           48.237911220834086,
           44.35239270543618,
           40.64346727625232,
           37.11113493328256,
           33.75539567652686,
           30.576249505985256,
           27.573696421657715,
           24.747736423544247,
           22.098369511644872,
           19.625595685959567,
           17.329414946488342,
           15.209827293231193,
           13.26683272618812,
           11.500431245359122,
           9.910622850744204,
           8.497407542343364,
           7.260785320156606,
           6.20075618418392,
           5.317320134425312,
           4.61047717088078,
           4.08022729355033,
           3.726570502433955,
           3.5495067975316568,
           3.549036178843436,
           3.725158646369294,
           4.077874200109227,
           4.607182840063239,
           5.313084566231331,
           6.195579378613497,
           7.254667277209737,
           8.49034826202006,
           9.90262233304446,
           11.491489490282941,
           13.256949733735498,
           15.199003063402118,
           17.31764947928283,
           19.612888981377615,
           22.084721569686483,
           24.733147244209437,
           27.55816600494645
          ],
          [
           94.24940164710878,
           88.66946739183756,
           83.26612622278043,
           78.03937813993736,
           72.9892231433084,
           68.11566123289349,
           63.41869240869264,
           58.898316670705896,
           54.554534018933246,
           50.38734445337464,
           46.39674797403012,
           42.582744580899686,
           38.94533427398331,
           35.48451705328104,
           32.20029291879283,
           29.09266187051871,
           26.161623908458658,
           23.407179032612678,
           20.82932724298078,
           18.428068539562958,
           16.203402922359224,
           14.155330391369557,
           12.28385094659397,
           10.588964588032457,
           9.070671315685026,
           7.7289711295516685,
           6.5638640296323985,
           5.575350015927198,
           4.763429088436074,
           4.128101247159029,
           3.6693664920960622,
           3.387224823247172,
           3.2816762406123594,
           3.352720744191624,
           3.6003583339849676,
           4.024589009992385,
           4.625412772213884,
           5.402829620649459,
           6.3568395552991115,
           7.487442576162838,
           8.794638683240644,
           10.278427876532529,
           11.938810156038496,
           13.775785521758536,
           15.789353973692643,
           17.97951551184084,
           20.346270136203113,
           22.889617846779466,
           25.609558643569894,
           28.506092526574406
          ],
          [
           91.73512777076485,
           86.22670863776113,
           80.89488259097149,
           75.73964963039592,
           70.76100975603441,
           65.958962967887,
           61.333509265953644,
           56.88464865023439,
           52.612381120729204,
           48.5167066774381,
           44.59762532036106,
           40.85513704949811,
           37.28924186484923,
           33.89993976641444,
           30.687230754193717,
           27.65111482818707,
           24.791591988394497,
           22.108662234816006,
           19.6023255674516,
           17.272581986301265,
           15.119431491365013,
           13.142874082642827,
           11.34290976013473,
           9.7195385238407,
           8.272760373760754,
           7.0025753098948815,
           5.9089833322430945,
           4.9919844408053775,
           4.2515786355817395,
           3.687765916572179,
           3.300546283776698,
           3.0899197371952924,
           3.055886276827964,
           3.198445902674715,
           3.5175986147355416,
           4.0133444130104445,
           4.685683297499426,
           5.534615268202488,
           6.560140325119627,
           7.7622584682508355,
           9.14096969759613,
           10.6962740131555,
           12.428171414928944,
           14.336661902916477,
           16.421745477118066,
           18.68342213753375,
           21.12169188416351,
           23.736554717007348,
           26.52801063606526,
           29.496059641337254
          ],
          [
           89.26289448755585,
           83.8259904768196,
           78.56567955229742,
           73.48196171398935,
           68.57483696189533,
           63.844305296015385,
           59.29036671634954,
           54.91302122289776,
           50.712268815660074,
           46.68810949463644,
           42.84054325982689,
           39.16957011123143,
           35.675190048850034,
           32.35740307268272,
           29.216209182729486,
           26.251608378990326,
           23.463600661465247,
           20.852186030154233,
           18.417364485057313,
           16.159136026174462,
           14.077500653505693,
           12.172458367050996,
           10.44400916681038,
           8.89215305278384,
           7.516890024971377,
           6.3182200833729905,
           5.296143227988689,
           4.450659458818457,
           3.781768775862304,
           3.2894711791202282,
           2.9737666685922326,
           2.8346552442783124,
           2.8721369061784685,
           3.086211654292704,
           3.4768794886210173,
           4.044140409163404,
           4.787994415919872,
           5.708441508890418,
           6.805481688075042,
           8.079114953473736,
           9.529341305086511,
           11.15616074291337,
           12.959573266954305,
           14.939578877209318,
           17.096177573678393,
           19.42936935636156,
           21.939154225258807,
           24.625532180370126,
           27.488503221695527,
           30.52806734923501
          ],
          [
           86.83270179748173,
           81.46731290901295,
           76.2785171067583,
           71.2663143907177,
           66.43070476089116,
           61.7716882172787,
           57.28926475988031,
           52.98343438869604,
           48.85419710372584,
           44.90155290496969,
           41.12550179242763,
           37.52604376609965,
           34.10317882598574,
           30.856906972085913,
           27.78722820440015,
           24.894142522928483,
           22.17764992767089,
           19.637750418627363,
           17.274443995797924,
           15.08773065918256,
           13.077610408781277,
           11.244083244594066,
           9.587149166620936,
           8.10680817486188,
           6.8030602693169016,
           5.6759054499860015,
           4.725343716869182,
           3.9513750699664363,
           3.3539995092777692,
           2.9332170348031785,
           2.6890276465426672,
           2.6214313444962323,
           2.730428128663875,
           3.016017999045595,
           3.4782009556413938,
           4.116976998451267,
           4.932346127475219,
           5.924308342713251,
           7.092863644165358,
           8.438012031831537,
           9.959753505711802,
           11.658088065806142,
           13.53301571211456,
           15.584536444637058,
           17.812650263373623,
           20.217357168324273,
           22.798657159489,
           25.556550236867814,
           28.491036400460697,
           31.602115650267663
          ],
          [
           84.44454970054251,
           79.15067593434122,
           74.03339525435402,
           69.0927076605809,
           64.32861315302188,
           59.74111173167692,
           55.33020339654602,
           51.09588814762922,
           47.03816598492649,
           43.15703690843784,
           39.45250091816325,
           35.92455801410277,
           32.57320819625633,
           29.398451464624,
           26.40028781920573,
           23.578717260001547,
           20.933739787011426,
           18.465355400235392,
           16.17356409967344,
           14.058365885325557,
           12.11976075719176,
           10.357748715272034,
           8.77232975956639,
           7.363503890074818,
           6.1312711067973265,
           5.075631409733911,
           4.196584798884578,
           3.4941312742493182,
           2.9682708358281342,
           2.61900348362103,
           2.4463292176280036,
           2.450248037849053,
           2.6307599442841814,
           2.9878649369333874,
           3.5215630157966706,
           4.231854180874028,
           5.1187384321654665,
           6.182215769670983,
           7.422286193390578,
           8.838949703324241,
           10.432206299471991,
           12.202055981833817,
           14.148498750409718,
           16.271534605199705,
           18.571163546203753,
           21.047385573421888,
           23.700200686854103,
           26.529608886500395,
           29.535610172360762,
           32.71820454443522
          ],
          [
           82.0984381967382,
           76.87607955280441,
           71.83031399508471,
           66.96114152357906,
           62.26856213828751,
           57.75257583921003,
           53.41318262634662,
           49.2503824996973,
           45.26417545926207,
           41.454561505040886,
           37.8215406370338,
           34.365112855240795,
           31.08527815966185,
           27.982036550296993,
           25.05538802714621,
           22.305332590209506,
           19.731870239486877,
           17.33500097497833,
           15.114724796683863,
           13.071041704603466,
           11.20395169873715,
           9.513454779084908,
           7.9995509456467495,
           6.662240198422665,
           5.501522537412655,
           4.517397962616725,
           3.709866474034877,
           3.0789280716671015,
           2.6245827555134027,
           2.3468305255737834,
           2.2456713818482417,
           2.3211053243367767,
           2.57313235303939,
           3.00175246795608,
           3.6069656690868483,
           4.38877195643169,
           5.347171329990612,
           6.482163789763614,
           7.793749335750694,
           9.281927967951843,
           10.946699686367076,
           12.788064490996385,
           14.806022381839774,
           17.000573358897242,
           19.37171742216878,
           21.919454571654395,
           24.643784807354095,
           27.544708129267878,
           30.62222453739573,
           33.87633403173766
          ],
          [
           79.79436728606878,
           74.64352376440246,
           69.66927332895024,
           64.8716159797121,
           60.25055171668804,
           55.80608053987804,
           51.53820244928212,
           47.44691744490029,
           43.53222552673254,
           39.794126694778846,
           36.23262094903923,
           32.847708289513704,
           29.63938871620225,
           26.60766222910488,
           23.752528828221585,
           21.07398851355237,
           18.572041285097228,
           16.24668714285616,
           14.097926086829178,
           12.125758117016264,
           10.330183233417433,
           8.711201436032681,
           7.2688127248620065,
           6.0030170999054056,
           4.913814561162882,
           4.001205108634436,
           3.265188742320073,
           2.7057654622197824,
           2.3229352683335707,
           2.116698160661436,
           2.087054139203379,
           2.234003203959399,
           2.557545354929497,
           3.0576805921136727,
           3.734408915511927,
           4.587730325124254,
           5.617644820950662,
           6.824152402991148,
           8.207253071245713,
           9.766946825714346,
           11.503233666397062,
           13.416113593293858,
           15.505586606404735,
           17.77165270572969,
           20.214311891268707,
           22.83356416302181,
           25.629409520989,
           28.601847965170265,
           31.750879495565606,
           35.076504112175016
          ],
          [
           77.53233696853427,
           72.45300856913543,
           67.5502732559507,
           62.82413102898004,
           58.27458188822347,
           53.901625833680946,
           49.7052628653525,
           45.68549298323817,
           41.84231618733789,
           38.17573247765169,
           34.68574185417956,
           31.372344316921534,
           28.235539865877556,
           25.275328501047674,
           22.49171022243186,
           19.88468503003013,
           17.45425292384247,
           15.200413903868892,
           13.123167970109392,
           11.222515122563964,
           9.498455361232624,
           7.950988686115352,
           6.580115097212163,
           5.385834594523047,
           4.36814717804801,
           3.5270528477870506,
           2.8625516037401715,
           2.3746434459073664,
           2.0633283742886395,
           1.9286063888839902,
           1.9704774896934178,
           2.1889416767169227,
           2.5839989499545064,
           3.1556493094061677,
           3.9038927550719067,
           4.828729286951718,
           5.930158905045612,
           7.208181609353584,
           8.662797399875632,
           10.29400627661175,
           12.101808239561953,
           14.086203288726239,
           16.2471914241046,
           18.584772645697036,
           21.098946953503535,
           23.789714347524132,
           26.657074827758798,
           29.701028394207547,
           32.92157504687038,
           36.318714785747275
          ],
          [
           75.31234724413464,
           70.30453396700332,
           65.47331377608606,
           60.818686671382885,
           56.34065265289378,
           52.03921172061876,
           47.91436387455779,
           43.966109114710946,
           40.19444744107816,
           36.599378853659445,
           33.18090335245481,
           29.939020937464253,
           26.873731608687763,
           23.985035366125366,
           21.27293220977704,
           18.73742213964279,
           16.37850515572262,
           14.196181258016523,
           12.19045044652451,
           10.36131272124657,
           8.708768082182711,
           7.2328165293329265,
           5.9334580626972215,
           4.810692682275591,
           3.8645203880680388,
           3.0949411800745645,
           2.50195505829517,
           2.0855620227298504,
           1.8457620733786082,
           1.7825552102414444,
           1.895941433318357,
           2.1859207426093477,
           2.6524931381144166,
           3.2956586198335627,
           4.115417187766788,
           5.111768841914085,
           6.2847135822754625,
           7.63425140885092,
           9.160382321640453,
           10.863106320644057,
           12.742423405861746,
           14.798333577293516,
           17.030836834939365,
           19.439933178799283,
           22.02562260887327,
           24.787905125161345,
           27.726780727663503,
           30.842249416379737,
           34.13431119131005,
           37.602966052454434
          ],
          [
           73.13439811286993,
           68.1980999580061,
           63.43839488935631,
           58.855282906920614,
           54.448764010699016,
           50.21883820069147,
           46.165505476898005,
           42.28876583931862,
           38.58861928795332,
           35.06506582280209,
           31.71810544386494,
           28.547738151141868,
           25.553963944632876,
           22.73678282433796,
           20.096194790257115,
           17.632199842390357,
           15.34479798073767,
           13.233989205299059,
           11.299773516074529,
           9.542150913064075,
           7.961121396267699,
           6.556684965685399,
           5.3288416213171805,
           4.277591363163036,
           3.4029341912229683,
           2.704870105496979,
           2.1833991059850693,
           1.8385211926872354,
           1.6702363656034787,
           1.6785446247338003,
           1.8634459700781978,
           2.2249404016366734,
           2.7630279194092275,
           3.4777085233958593,
           4.368982213596569,
           5.436848990011351,
           6.681308852640215,
           8.102361801483156,
           9.700007836540177,
           11.474246957811266,
           13.425079165296438,
           15.552504458995692,
           17.85652283890902,
           20.337134305036432,
           22.994338857377905,
           25.828136495933467,
           28.838527220703106,
           32.025511031686825,
           35.38908792888463,
           38.92925791229649
          ],
          [
           70.99848957474013,
           66.13370654214376,
           61.44551659576148,
           56.933919735593264,
           52.59891596163914,
           48.44050527389908,
           44.458687672373095,
           40.65346315706121,
           37.0248317279634,
           33.572793385079656,
           30.29734812840998,
           27.1984959579544,
           24.276236873712893,
           21.53057087568546,
           18.961497963872095,
           16.569018138272828,
           14.353131398887625,
           12.313837745716496,
           10.451137178759453,
           8.76502969801648,
           7.255515303487593,
           5.922593995172779,
           4.766265773072043,
           3.786530637185383,
           2.983388587512801,
           2.3568396240542966,
           1.9068837468098718,
           1.6335209557795223,
           1.5367512509632502,
           1.6165746323610566,
           1.8729910999729387,
           2.3060006537988986,
           2.915603293838938,
           3.7017990200930537,
           4.66458783256125,
           5.803969731243515,
           7.119944716139863,
           8.612512787250292,
           10.281673944574797,
           12.12742818811337,
           14.149775517866031,
           16.348715933832764,
           18.724249436013583,
           21.276376024408478,
           24.00509569901743,
           26.91040845984048,
           29.992314306877603,
           33.250813240128814,
           36.685905259594094,
           40.29759036527344
          ],
          [
           68.90462162974521,
           64.11135371941633,
           59.49467889530153,
           55.05459715740081,
           50.79110850571418,
           46.704212940241604,
           42.7939104609831,
           39.060201067938706,
           35.503084761108376,
           32.122561540492114,
           28.918631406089922,
           25.891294357901828,
           23.0405503959278,
           20.366399520167853,
           17.86884173062198,
           15.54787702729019,
           13.403505410172471,
           11.43572687926883,
           9.644541434579272,
           8.029949076103787,
           6.591949803842384,
           5.330543617795053,
           4.245730517961804,
           3.337510504342629,
           2.605883576937532,
           2.0508497357465134,
           1.672408980769573,
           1.4705613120067091,
           1.4453067294579223,
           1.596645233123214,
           1.9245768230025806,
           2.4291014990960274,
           3.11021926140355,
           3.967930109925153,
           5.002234044660832,
           6.213131065610583,
           7.600621172774418,
           9.16470436615233,
           10.905380645744323,
           12.822650011550378,
           14.916512463570523,
           17.186968001804743,
           19.63401662625305,
           22.25765833691543,
           25.05789313379186,
           28.034721016882397,
           31.18814198618701,
           34.5181560417057,
           38.024763183438466,
           41.707963411385315
          ],
          [
           66.8527942778852,
           62.13104148982381,
           57.585881787976504,
           53.217315172343255,
           49.025341642924104,
           45.009961199719015,
           41.171173842728,
           37.50897957195109,
           34.02337838738824,
           30.714370289039465,
           27.58195527690476,
           24.626133350984148,
           21.846904511277614,
           19.24426875778515,
           16.818226090506762,
           14.568776509442456,
           12.495920014592222,
           10.599656605956065,
           8.879986283533993,
           7.336909047325993,
           5.970424897332076,
           4.78053383355223,
           3.767235855986465,
           2.9305309646347757,
           2.270419159497164,
           1.7869004405736302,
           1.4799748078641757,
           1.3496422613687964,
           1.3959028010874952,
           1.6187564270202714,
           2.0182031391671234,
           2.594242937528055,
           3.3468758221030646,
           4.2761017928921525,
           5.381920849895316,
           6.664332993112552,
           8.123338222543872,
           9.758936538189268,
           11.571127940048742,
           13.559912428122287,
           15.725290002409917,
           18.067260662911625,
           20.58582440962741,
           23.280981242557278,
           26.1527311617012,
           29.201074167059218,
           32.426010258631315,
           35.827539436417496,
           39.40566170041774,
           43.16037705063207
          ],
          [
           64.8430075191601,
           60.19276985336618,
           55.71912527378637,
           51.422073780420604,
           47.30161537326893,
           43.357750052331326,
           39.5904778176078,
           35.99979866909837,
           32.585712606803014,
           29.34821963072172,
           26.287319740854507,
           23.403012937201375,
           20.695299219762315,
           18.164178588537343,
           15.80965104352644,
           13.63171658472962,
           11.63037521214687,
           9.805626925778203,
           8.157471725623616,
           6.685909611683099,
           5.3909405839566675,
           4.272564642444307,
           3.3307817871460283,
           2.565592018061824,
           1.976995335191697,
           1.5649917385356482,
           1.3295812280936785,
           1.2707638038657847,
           1.3885394658519687,
           1.6829082140522307,
           2.1538700484665676,
           2.801424969094984,
           3.625572975937478,
           4.626314068994051,
           5.803648248264701,
           7.15757551374942,
           8.688095865448226,
           10.39520930336111,
           12.278915827488069,
           14.339215437829099,
           16.57610813438421,
           18.989593917153407,
           21.579672786136673,
           24.346344741334025,
           27.289609782745437,
           30.409467910370946,
           33.705919124210524,
           37.17896342426418,
           40.82860081053191,
           44.65483128301374
          ],
          [
           62.87526135356989,
           58.296538810043465,
           53.89440935273113,
           49.66887298163285,
           45.61992969674867,
           41.74757949807855,
           38.051822385622515,
           34.53265835938055,
           31.190087419352686,
           28.02410956553888,
           25.034724797939155,
           22.22193311655351,
           19.58573452138193,
           17.12612901242445,
           14.84311658968103,
           12.736697253151691,
           10.806871002836429,
           9.053637838735245,
           7.476997760848142,
           6.076950769175111,
           4.853496863716164,
           3.806636044471288,
           2.9363683114404937,
           2.242693664623774,
           1.7256121040211325,
           1.3851236296325686,
           1.2212282414580833,
           1.2339259394976743,
           1.4232167237513431,
           1.7891005942190898,
           2.331577550900911,
           3.0506475937968127,
           3.9463107229067917,
           5.01856693823085,
           6.267416239768986,
           7.692858627521189,
           9.294894101487479,
           11.073522661667848,
           13.028744308062294,
           15.160559040670805,
           17.468966859493403,
           19.953967764530084,
           22.615561755780842,
           25.45374883324567,
           28.46852899692457,
           31.65990224681756,
           35.02786858292462,
           38.57242800524577,
           42.29358051378099,
           46.19132610853029
          ],
          [
           60.94955578111458,
           56.442348359855636,
           52.11173402481079,
           47.95771277597999,
           43.98028461336331,
           40.179449536960675,
           36.555207546772124,
           33.10755864279765,
           29.836502825037265,
           26.74204009349094,
           23.824170448158696,
           21.08289388904054,
           18.518210416136448,
           16.13012002944644,
           13.918622728970508,
           11.883718514708663,
           10.025407386660882,
           8.343689344827183,
           6.838564389207566,
           5.51003251980202,
           4.358093736610557,
           3.382748039633167,
           2.5839954288698577,
           1.9618359043206233,
           1.516269465985467,
           1.2472961138643885,
           1.154915847957388,
           1.2391286682644642,
           1.4999345747856183,
           1.9373335675208507,
           2.5513256464701564,
           3.3419108116335434,
           4.309089063011008,
           5.45286040060255,
           6.773224824408172,
           8.270182334427862,
           9.943732930661636,
           11.793876613109486,
           13.820613381771423,
           16.023943236647415,
           18.403866177737502,
           20.960382205041665,
           23.693491318559907,
           26.603193518292223,
           29.689488804238604,
           32.95237717639908,
           36.39185863477362,
           40.00793317936226,
           43.80060081016497,
           47.76986152718176
          ],
          [
           59.065890801794176,
           54.63019850280271,
           50.37109929002534,
           46.288593163462046,
           42.382680123112834,
           38.653360168977684,
           35.10063330105661,
           31.724499519349635,
           28.524958823856725,
           25.5020112145779,
           22.655656691513137,
           19.985895254662463,
           17.492726904025858,
           15.176151639603342,
           13.036169461394893,
           11.072780369400531,
           9.285984363620237,
           7.675781444054023,
           6.242171610701889,
           4.985154863563831,
           3.9047312026398506,
           3.0009006279299473,
           2.2736631394341216,
           1.7230187371523735,
           1.3489674210847022,
           1.1515091912311097,
           1.1306440475915935,
           1.2863719901661554,
           1.6186930189547946,
           2.127607133957512,
           2.813114335174303,
           3.6752146226051745,
           4.713907996250124,
           5.929194456109153,
           7.321074002182257,
           8.889546634469433,
           10.634612352970695,
           12.55627115768603,
           14.654523048615447,
           16.929368025758926,
           19.380806089116504,
           22.00883723868815,
           24.813461474473872,
           27.794678796473683,
           30.95248920468755,
           34.286892699115505,
           37.79788927975754,
           41.485478946613654,
           45.34966169968386,
           49.390437538968115
          ],
          [
           57.22426641560866,
           52.86008923888469,
           48.6725051483748,
           44.661514144078986,
           40.827116225997266,
           37.16931139412961,
           33.68809964847602,
           30.383480989036524,
           27.255455415811106,
           24.304022928799757,
           21.529183528002477,
           18.9309372134193,
           16.50928398505018,
           14.26422384289514,
           12.195756786954181,
           10.303882817227297,
           8.588601933714491,
           7.0499141364157625,
           5.687819425331114,
           4.50231780046054,
           3.493409261804047,
           2.6610938093616276,
           2.005371443133288,
           1.5262421631190244,
           1.223705969318839,
           1.0977628617327313,
           1.1484128403607003,
           1.375655905202747,
           1.779492056258872,
           2.3599212935290743,
           3.11694361701335,
           4.050559026711707,
           5.160767522624143,
           6.447569104750658,
           7.910963773091248,
           9.550951527645903,
           11.367532368414649,
           13.360706295397474,
           15.530473308594376,
           17.87683340800534,
           20.399786593630395,
           23.09933286546954,
           25.97547222352275,
           29.028204667790035,
           32.25753019827139,
           35.66344881496682,
           39.245960517876355,
           43.00506530699994,
           46.940763182337626,
           51.053054143889376
          ],
          [
           55.42468262255806,
           51.132020568101574,
           47.015951599859164,
           43.076475717830846,
           39.313592922016596,
           35.72730321241642,
           32.31760658903033,
           29.084503051858313,
           26.02799260090038,
           23.148075236156515,
           20.444750957626724,
           17.918019765311023,
           15.56788165920939,
           13.39433663932184,
           11.397384705648362,
           9.577025858188968,
           7.933260096943648,
           6.466087421912404,
           5.175507833095241,
           4.061521330492151,
           3.1241279141031435,
           2.3633275839282097,
           1.7791203399673552,
           1.3715061822205765,
           1.1404851106878764,
           1.0860571253692535,
           1.2082222262647078,
           1.50698041337424,
           1.98233168669785,
           2.6342760462355375,
           3.462813491987299,
           4.46794402395314,
           5.649667642133061,
           7.00798434652706,
           8.542894137135136,
           10.254397013957279,
           12.14249297699351,
           14.20718202624382,
           16.448464161708205,
           18.866339383386652,
           21.460807691279193,
           24.231869085385814,
           27.179523565706518,
           30.303771132241295,
           33.60461178499013,
           37.08204552395306,
           40.736072349130055,
           44.56669226052115,
           48.57390525812631,
           52.75771134194555
          ],
          [
           53.667139422642364,
           49.445992490453364,
           45.40143864447844,
           41.53347788471761,
           37.84211021117085,
           34.32733562383815,
           30.98915412271954,
           27.827565707815012,
           24.84257037912456,
           22.03416813664818,
           19.40235898038588,
           16.947142910337657,
           14.66851992650351,
           12.566490028883448,
           10.641053217477454,
           8.892209492285545,
           7.319958853307707,
           5.924301300543949,
           4.70523683399427,
           3.662765453658667,
           2.7968871595371425,
           2.1076019516296935,
           1.5949098299363238,
           1.2588107944570304,
           1.0993048451918146,
           1.116391982140677,
           1.3100722053036156,
           1.680345514680633,
           2.2272119102717274,
           2.9506713920769005,
           3.850723960096146,
           4.927369614329474,
           6.180608354776878,
           7.610440181438362,
           9.216865094313922,
           10.999883093403552,
           12.959494178707269,
           15.095698350225058,
           17.408495607956933,
           19.89788595190287,
           22.563869382062894,
           25.406445898437,
           28.42561550102518,
           31.621378189827446,
           34.99373396484376,
           38.54268282607417,
           42.26822477351867,
           46.17035980717724,
           50.249087927049885,
           54.504409133136626
          ],
          [
           51.951636815861555,
           47.80200500594004,
           43.82896628223261,
           40.03252064473926,
           36.41266809345997,
           32.969408628394774,
           29.702742249543647,
           26.612668956906603,
           23.69918875048364,
           20.962301630274734,
           18.402007596279923,
           16.018306648499188,
           13.811198786932527,
           11.780684011579948,
           9.926762322441446,
           8.249433719517018,
           6.748698202806665,
           5.4245557723103905,
           4.277006428028197,
           3.306050169960079,
           2.5116869981060406,
           1.8939169124660769,
           1.452739913040192,
           1.1881559998283844,
           1.1001651728306538,
           1.1887674320470014,
           1.4539627774774249,
           1.8957512091219266,
           2.5141327269805065,
           3.3091073310531653,
           4.280675021339895,
           5.428835797840709,
           6.753589660555598,
           8.254936609484567,
           9.932876644627614,
           11.787409765984727,
           13.818535973555928,
           16.026255267341206,
           18.410567647340564,
           20.971473113553987,
           23.70897166598149,
           26.623063304623084,
           29.71374802947875,
           32.9810258405485,
           36.42489673783229,
           40.045360721330205,
           43.84241779104218,
           47.81606794696824,
           51.96631118910837,
           56.29314751746258
          ],
          [
           50.278174802215645,
           46.20005811456162,
           42.29853451312168,
           38.57360399789581,
           35.025266568884014,
           31.65352222608629,
           28.458370969502653,
           25.439812799133094,
           22.59784771497761,
           19.932475717036205,
           17.44369680530887,
           15.131510979795625,
           12.995918240496444,
           11.036918587411352,
           9.25451202054033,
           7.64869853988339,
           6.219478145440522,
           4.9668508372117355,
           3.8908166151970267,
           2.991375479396394,
           2.2685274298098395,
           1.7222724664373616,
           1.352610589278962,
           1.159541798334639,
           1.1430660936043935,
           1.3031834750882265,
           1.6398939427861348,
           2.153197496698122,
           2.8430941368241878,
           3.709583863164331,
           4.7526666757185465,
           5.972342574486844,
           7.368611559469219,
           8.941473630665673,
           10.690928788076207,
           12.616977031700802,
           14.71961836153949,
           16.998852777592255,
           19.454680279859097,
           22.087100868340002,
           24.896114543034997,
           27.881721303944076,
           31.04392115106723,
           34.38271408440446,
           37.89810010395574,
           41.59007920972113,
           45.4586514017006,
           49.503816679894136,
           53.72557504430175,
           58.12392649492346
          ],
          [
           48.64675338170464,
           44.6401518163181,
           40.81014333714565,
           37.15672794418725,
           33.67990563744295,
           30.37967641691271,
           27.256040282596558,
           24.308997234494488,
           21.538547272606486,
           18.944690396932568,
           16.52742660747272,
           14.286755904226958,
           12.222678287195263,
           10.335193756377654,
           8.624302311774118,
           7.090003953384664,
           5.732298681209284,
           4.551186495247979,
           3.5466673955007564,
           2.7187413819676083,
           2.0674084546485396,
           1.5926686135435466,
           1.294521858652632,
           1.1729681899757947,
           1.2280076075130344,
           1.4596401112643522,
           1.8678657012297457,
           2.452684377409218,
           3.214096139802769,
           4.152100988410397,
           5.266698923232098,
           6.557889944267881,
           8.025674051517742,
           9.67005124498168,
           11.491021524659699,
           13.488584890551781,
           15.662741342657954,
           18.0134908809782,
           20.54083350551253,
           23.244769216260927,
           26.125298013223404,
           29.18241989639997,
           32.4161348657906,
           35.82644292139531,
           39.4133440632141,
           43.176838291246966,
           47.116925605493904,
           51.23360600595494,
           55.52687949263003,
           59.99674606551922
          ],
          [
           47.05737255432854,
           43.12228611120948,
           39.36379275430451,
           35.781892483613596,
           32.376585299136785,
           29.147871200874036,
           26.095750188825367,
           23.22022226299078,
           20.521287423370268,
           17.998945669963827,
           15.653197002771469,
           13.484041421793192,
           11.491478927028986,
           9.67550951847886,
           8.03613319614281,
           6.573349960020839,
           5.287159810112944,
           4.177562746419126,
           3.244558768939387,
           2.488147877673724,
           1.9083300726221404,
           1.505105353784633,
           1.2784737211612034,
           1.2284351747518512,
           1.3549897145565766,
           1.6581373405753799,
           2.137878052808258,
           2.794211851255216,
           3.6271387359162524,
           4.636658706791366,
           5.822771763880549,
           7.185477907183818,
           8.724777136701166,
           10.440669452432589,
           12.333154854378092,
           14.40223334253766,
           16.64790491691132,
           19.07016957749905,
           21.669027324300867,
           24.44447815731674,
           27.396522076546702,
           30.52515908199075,
           33.83038917364887,
           37.312212351521076,
           40.97062861560734,
           44.805637965907685,
           48.817240402422115,
           53.005435925150636,
           57.370224534093225,
           61.9116062292499
          ],
          [
           45.51003232008734,
           41.64646099923576,
           37.95948276459828,
           34.44909761617486,
           31.115305553965538,
           27.958106577970263,
           24.977500688189075,
           22.17348788462197,
           19.546068167268956,
           17.095241536129993,
           14.821007991205118,
           12.723367532494326,
           10.802320159997604,
           9.057865873714965,
           7.4900046736464,
           6.098736559791915,
           4.884061532151504,
           3.8459795907251717,
           2.9844907355129187,
           2.2995949665147406,
           1.7912922837306424,
           1.45958268716062,
           1.3044661768046755,
           1.3259427526628087,
           1.5240124147350194,
           1.8986751630213077,
           2.44993099752167,
           3.1777799182361135,
           4.082221925164635,
           5.163257018307235,
           6.420885197663905,
           7.855106463234659,
           9.465920815019489,
           11.253328253018399,
           13.217328777231385,
           15.35792238765844,
           17.67510908429958,
           20.1688888671548,
           22.839261736224106,
           25.68622769150745,
           28.709786733004915,
           31.909938860716444,
           35.28668407464205,
           38.84002237478173,
           42.56995376113548,
           46.47647823370332,
           50.55959579248523,
           54.81930643748123,
           59.25561016869131,
           63.868506986115456
          ]
         ]
        },
        {
         "mode": "markers",
         "type": "scatter3d",
         "x": [
          1,
          0.7577046709544549,
          0.6695881329647118,
          0.6395230093081392,
          0.6312506562373705,
          0.6310967013985017,
          0.6339061609045842,
          0.6377377212577567,
          0.6418622572402706,
          0.6460078127782783,
          0.6500747872353926,
          0.6540284980586468,
          0.6578586553215539,
          0.6615640774555037,
          0.6651469286540015,
          0.6686105480511777,
          0.671958633731348,
          0.6751949377267195,
          0.67832315368206,
          0.6813468771085791,
          0.6842695929329027,
          0.687094673257692,
          0.6898253788923239,
          0.6924648622264027,
          0.6950161705331283,
          0.6974822493606775,
          0.6998659458851233,
          0.7021700121795734,
          0.7043971083847484,
          0.7065498057776601,
          0.7086305897392917,
          0.7106418626237115,
          0.7125859465315556,
          0.7144650859909404,
          0.716281450548847,
          0.7180371372759483,
          0.719734173187765,
          0.7213745175849398,
          0.7229600643153338,
          0.7244926439605553,
          0.7259740259494444,
          0.7274059206009535,
          0.7287899810987852,
          0.7301278054000626,
          0.7314209380802397,
          0.7326708721163797,
          0.7338790506108614,
          0.7350468684575022,
          0.7361756739520229,
          0.7372667703487129,
          0.7383214173650933,
          0.7393408326363142,
          0.7403261931209674,
          0.7412786364599346,
          0.7421992622898433,
          0.7430891335126439,
          0.7439492775227758,
          0.7447806873933381,
          0.7455843230226351,
          0.7463611122424201,
          0.7471119518891166,
          0.7478377088392549,
          0.7485392210103176,
          0.7492172983281513,
          0.7498727236620614,
          0.7505062537286672,
          0.7511186199655643,
          0.7517105293758004,
          0.7522826653441408,
          0.7528356884260652,
          0.7533702371104073,
          0.7538869285565175,
          0.7543863593068,
          0.7548691059754462,
          0.7553357259141609,
          0.7557867578556483,
          0.7562227225356023,
          0.756644123293918,
          0.7570514466558191,
          0.7574451628935726,
          0.7578257265694373,
          0.7581935770604764,
          0.7585491390658368,
          0.7588928230970818,
          0.7592250259521457,
          0.7595461311734524,
          0.7598565094907327,
          0.7601565192490473,
          0.7604465068225112,
          0.7607268070141981,
          0.7609977434426844,
          0.7612596289156809,
          0.7615127657911823,
          0.7617574463265533,
          0.7619939530159514,
          0.7622225589164789,
          0.7624435279634392,
          0.7626571152750607,
          0.7628635674470428,
          0.76306312283726
         ],
         "y": [
          1,
          0.42410381333492975,
          0.20543760557204663,
          0.12157735996909871,
          0.08861606515731657,
          0.07489979111759307,
          0.06848618637892305,
          0.06486878448294894,
          0.06234621955231003,
          0.06027534524128254,
          0.058412253994208824,
          0.056663687018686945,
          0.054993256763744565,
          0.053386069656333975,
          0.051835379322818585,
          0.05033755045643412,
          0.0488901577687463,
          0.04749126763674887,
          0.046139165941093956,
          0.044832254261127163,
          0.04356900961745286,
          0.042347968223362675,
          0.041167718328655914,
          0.04002689652769794,
          0.038924185407452086,
          0.037858311733037074,
          0.03682804486703061,
          0.03583219530688911,
          0.03486961329586419,
          0.03393918748961707,
          0.033039843670882425,
          0.03217054350839294,
          0.03133028335776239,
          0.03051809310261492,
          0.02973303503449869,
          0.028974202770244217,
          0.028240720205499763,
          0.027531740503228815,
          0.026846445115999595,
          0.02618404284093669,
          0.025543768906243196,
          0.024924884088238928,
          0.024326673857895068,
          0.023748447555879702,
          0.023189537595162096,
          0.022649298690254827,
          0.022127107112204097,
          0.02162235996846788,
          0.021134474506850763,
          0.02066288744269145,
          0.02020705430852661,
          0.019766448825479784,
          0.019340562295649955,
          0.018928903014797955,
          0.018530995704652928,
          0.018146380964183206,
          0.017774614739198107,
          0.017415267809668362,
          0.01706792529417322,
          0.016732186170902108,
          0.016407662814657685,
          0.01609398054932606,
          0.015790777215297046,
          0.015497702751335538,
          0.015214418790420696,
          0.014940598269086747,
          0.01467592504981425,
          0.014420093556035764,
          0.014172808419334642,
          0.013933784138429484,
          0.013702744749550714,
          0.013479423507828608,
          0.013263562579324881,
          0.013054912743352381,
          0.01285323310473915,
          0.012658290815704592,
          0.01246986080702675,
          0.012287725528190286,
          0.012111674696215038,
          0.011941505052875338,
          0.011777020130029679,
          0.011618030022789877,
          0.011464351170267662,
          0.011315806143645803,
          0.011172223441329017,
          0.011033437290937882,
          0.010899287457917671,
          0.010769619060540596,
          0.010644282391088273,
          0.010523132743007734,
          0.010406030243841511,
          0.010292839693738893,
          0.01018343040936188,
          0.010077676073005741,
          0.009975454586759771,
          0.009876647931540004,
          0.00978114203083116,
          0.009688826618980425,
          0.009599595113890995,
          0.009513344493968522
         ],
         "z": [
          63.868506986115456,
          10.104236479876079,
          2.4476293615151246,
          1.3526989565768794,
          1.1918731063645527,
          1.1643032957727817,
          1.156004036966857,
          1.1507345378742926,
          1.1461647839945803,
          1.141945559252873,
          1.1380106821542983,
          1.1343353312397348,
          1.1309015827034066,
          1.12769343977999,
          1.1246960632926188,
          1.1218956041230859,
          1.1192791251505214,
          1.1168345394839196,
          1.1145505543414629,
          1.1124166188428775,
          1.1104228752638217,
          1.108560113497263,
          1.1068197285072316,
          1.1051936805778058,
          1.1036744581736055,
          1.1022550432402225,
          1.1009288787842866,
          1.0996898385834089,
          1.0985321988860701,
          1.0974506119707268,
          1.0964400814419863,
          1.0954959391497396,
          1.0946138236246203,
          1.093789659930179,
          1.093019640838697,
          1.0923002092436784,
          1.091628041727788,
          1.0910000332103038,
          1.0904132826031876,
          1.0898650794094946,
          1.0893528912022212,
          1.0888743519257493,
          1.0884272509658393,
          1.0880095229376898,
          1.087619238144885,
          1.087254593665151,
          1.0869139050217504,
          1.086595598402036,
          1.0862982033872113,
          1.086020346159732,
          1.0857607431569445,
          1.0855181951416641,
          1.085291581662295,
          1.085079855876898,
          1.0848820397172994,
          1.084697219370902,
          1.0845245410593236,
          1.0843632070943632,
          1.0842124721930786,
          1.0840716400349468,
          1.08394006004521,
          1.0838171243895411,
          1.0837022651661523,
          1.0835949517823684,
          1.083494688503553,
          1.0834010121630602,
          1.083313490022633,
          1.083231717773369,
          1.0831553176680118,
          1.083083936775947,
          1.0830172453528386,
          1.082954935317371,
          1.0828967188280685,
          1.082842326953609,
          1.0827915084304953,
          1.0827440285023424,
          1.0826996678354184,
          1.0826582215054323,
          1.0826194980508852,
          1.082583318588612,
          1.0825495159874328,
          1.0825179340960864,
          1.0824884270218895,
          1.082460858456787,
          1.082435101047674,
          1.0824110358080892,
          1.0823885515685543,
          1.0823675444630292,
          1.0823479174490993,
          1.0823295798596904,
          1.082312446984229,
          1.0822964396773225,
          1.08228148399315,
          1.082267510843863,
          1.0822544556804394,
          1.0822422581944953,
          1.0822308620396914,
          1.0822202145714432,
          1.082210266603724,
          1.0822009721818557
         ]
        }
       ],
       "layout": {
        "template": {
         "data": {
          "bar": [
           {
            "error_x": {
             "color": "#2a3f5f"
            },
            "error_y": {
             "color": "#2a3f5f"
            },
            "marker": {
             "line": {
              "color": "#E5ECF6",
              "width": 0.5
             }
            },
            "type": "bar"
           }
          ],
          "barpolar": [
           {
            "marker": {
             "line": {
              "color": "#E5ECF6",
              "width": 0.5
             }
            },
            "type": "barpolar"
           }
          ],
          "carpet": [
           {
            "aaxis": {
             "endlinecolor": "#2a3f5f",
             "gridcolor": "white",
             "linecolor": "white",
             "minorgridcolor": "white",
             "startlinecolor": "#2a3f5f"
            },
            "baxis": {
             "endlinecolor": "#2a3f5f",
             "gridcolor": "white",
             "linecolor": "white",
             "minorgridcolor": "white",
             "startlinecolor": "#2a3f5f"
            },
            "type": "carpet"
           }
          ],
          "choropleth": [
           {
            "colorbar": {
             "outlinewidth": 0,
             "ticks": ""
            },
            "type": "choropleth"
           }
          ],
          "contour": [
           {
            "colorbar": {
             "outlinewidth": 0,
             "ticks": ""
            },
            "colorscale": [
             [
              0,
              "#0d0887"
             ],
             [
              0.1111111111111111,
              "#46039f"
             ],
             [
              0.2222222222222222,
              "#7201a8"
             ],
             [
              0.3333333333333333,
              "#9c179e"
             ],
             [
              0.4444444444444444,
              "#bd3786"
             ],
             [
              0.5555555555555556,
              "#d8576b"
             ],
             [
              0.6666666666666666,
              "#ed7953"
             ],
             [
              0.7777777777777778,
              "#fb9f3a"
             ],
             [
              0.8888888888888888,
              "#fdca26"
             ],
             [
              1,
              "#f0f921"
             ]
            ],
            "type": "contour"
           }
          ],
          "contourcarpet": [
           {
            "colorbar": {
             "outlinewidth": 0,
             "ticks": ""
            },
            "type": "contourcarpet"
           }
          ],
          "heatmap": [
           {
            "colorbar": {
             "outlinewidth": 0,
             "ticks": ""
            },
            "colorscale": [
             [
              0,
              "#0d0887"
             ],
             [
              0.1111111111111111,
              "#46039f"
             ],
             [
              0.2222222222222222,
              "#7201a8"
             ],
             [
              0.3333333333333333,
              "#9c179e"
             ],
             [
              0.4444444444444444,
              "#bd3786"
             ],
             [
              0.5555555555555556,
              "#d8576b"
             ],
             [
              0.6666666666666666,
              "#ed7953"
             ],
             [
              0.7777777777777778,
              "#fb9f3a"
             ],
             [
              0.8888888888888888,
              "#fdca26"
             ],
             [
              1,
              "#f0f921"
             ]
            ],
            "type": "heatmap"
           }
          ],
          "heatmapgl": [
           {
            "colorbar": {
             "outlinewidth": 0,
             "ticks": ""
            },
            "colorscale": [
             [
              0,
              "#0d0887"
             ],
             [
              0.1111111111111111,
              "#46039f"
             ],
             [
              0.2222222222222222,
              "#7201a8"
             ],
             [
              0.3333333333333333,
              "#9c179e"
             ],
             [
              0.4444444444444444,
              "#bd3786"
             ],
             [
              0.5555555555555556,
              "#d8576b"
             ],
             [
              0.6666666666666666,
              "#ed7953"
             ],
             [
              0.7777777777777778,
              "#fb9f3a"
             ],
             [
              0.8888888888888888,
              "#fdca26"
             ],
             [
              1,
              "#f0f921"
             ]
            ],
            "type": "heatmapgl"
           }
          ],
          "histogram": [
           {
            "marker": {
             "colorbar": {
              "outlinewidth": 0,
              "ticks": ""
             }
            },
            "type": "histogram"
           }
          ],
          "histogram2d": [
           {
            "colorbar": {
             "outlinewidth": 0,
             "ticks": ""
            },
            "colorscale": [
             [
              0,
              "#0d0887"
             ],
             [
              0.1111111111111111,
              "#46039f"
             ],
             [
              0.2222222222222222,
              "#7201a8"
             ],
             [
              0.3333333333333333,
              "#9c179e"
             ],
             [
              0.4444444444444444,
              "#bd3786"
             ],
             [
              0.5555555555555556,
              "#d8576b"
             ],
             [
              0.6666666666666666,
              "#ed7953"
             ],
             [
              0.7777777777777778,
              "#fb9f3a"
             ],
             [
              0.8888888888888888,
              "#fdca26"
             ],
             [
              1,
              "#f0f921"
             ]
            ],
            "type": "histogram2d"
           }
          ],
          "histogram2dcontour": [
           {
            "colorbar": {
             "outlinewidth": 0,
             "ticks": ""
            },
            "colorscale": [
             [
              0,
              "#0d0887"
             ],
             [
              0.1111111111111111,
              "#46039f"
             ],
             [
              0.2222222222222222,
              "#7201a8"
             ],
             [
              0.3333333333333333,
              "#9c179e"
             ],
             [
              0.4444444444444444,
              "#bd3786"
             ],
             [
              0.5555555555555556,
              "#d8576b"
             ],
             [
              0.6666666666666666,
              "#ed7953"
             ],
             [
              0.7777777777777778,
              "#fb9f3a"
             ],
             [
              0.8888888888888888,
              "#fdca26"
             ],
             [
              1,
              "#f0f921"
             ]
            ],
            "type": "histogram2dcontour"
           }
          ],
          "mesh3d": [
           {
            "colorbar": {
             "outlinewidth": 0,
             "ticks": ""
            },
            "type": "mesh3d"
           }
          ],
          "parcoords": [
           {
            "line": {
             "colorbar": {
              "outlinewidth": 0,
              "ticks": ""
             }
            },
            "type": "parcoords"
           }
          ],
          "pie": [
           {
            "automargin": true,
            "type": "pie"
           }
          ],
          "scatter": [
           {
            "marker": {
             "colorbar": {
              "outlinewidth": 0,
              "ticks": ""
             }
            },
            "type": "scatter"
           }
          ],
          "scatter3d": [
           {
            "line": {
             "colorbar": {
              "outlinewidth": 0,
              "ticks": ""
             }
            },
            "marker": {
             "colorbar": {
              "outlinewidth": 0,
              "ticks": ""
             }
            },
            "type": "scatter3d"
           }
          ],
          "scattercarpet": [
           {
            "marker": {
             "colorbar": {
              "outlinewidth": 0,
              "ticks": ""
             }
            },
            "type": "scattercarpet"
           }
          ],
          "scattergeo": [
           {
            "marker": {
             "colorbar": {
              "outlinewidth": 0,
              "ticks": ""
             }
            },
            "type": "scattergeo"
           }
          ],
          "scattergl": [
           {
            "marker": {
             "colorbar": {
              "outlinewidth": 0,
              "ticks": ""
             }
            },
            "type": "scattergl"
           }
          ],
          "scattermapbox": [
           {
            "marker": {
             "colorbar": {
              "outlinewidth": 0,
              "ticks": ""
             }
            },
            "type": "scattermapbox"
           }
          ],
          "scatterpolar": [
           {
            "marker": {
             "colorbar": {
              "outlinewidth": 0,
              "ticks": ""
             }
            },
            "type": "scatterpolar"
           }
          ],
          "scatterpolargl": [
           {
            "marker": {
             "colorbar": {
              "outlinewidth": 0,
              "ticks": ""
             }
            },
            "type": "scatterpolargl"
           }
          ],
          "scatterternary": [
           {
            "marker": {
             "colorbar": {
              "outlinewidth": 0,
              "ticks": ""
             }
            },
            "type": "scatterternary"
           }
          ],
          "surface": [
           {
            "colorbar": {
             "outlinewidth": 0,
             "ticks": ""
            },
            "colorscale": [
             [
              0,
              "#0d0887"
             ],
             [
              0.1111111111111111,
              "#46039f"
             ],
             [
              0.2222222222222222,
              "#7201a8"
             ],
             [
              0.3333333333333333,
              "#9c179e"
             ],
             [
              0.4444444444444444,
              "#bd3786"
             ],
             [
              0.5555555555555556,
              "#d8576b"
             ],
             [
              0.6666666666666666,
              "#ed7953"
             ],
             [
              0.7777777777777778,
              "#fb9f3a"
             ],
             [
              0.8888888888888888,
              "#fdca26"
             ],
             [
              1,
              "#f0f921"
             ]
            ],
            "type": "surface"
           }
          ],
          "table": [
           {
            "cells": {
             "fill": {
              "color": "#EBF0F8"
             },
             "line": {
              "color": "white"
             }
            },
            "header": {
             "fill": {
              "color": "#C8D4E3"
             },
             "line": {
              "color": "white"
             }
            },
            "type": "table"
           }
          ]
         },
         "layout": {
          "annotationdefaults": {
           "arrowcolor": "#2a3f5f",
           "arrowhead": 0,
           "arrowwidth": 1
          },
          "coloraxis": {
           "colorbar": {
            "outlinewidth": 0,
            "ticks": ""
           }
          },
          "colorscale": {
           "diverging": [
            [
             0,
             "#8e0152"
            ],
            [
             0.1,
             "#c51b7d"
            ],
            [
             0.2,
             "#de77ae"
            ],
            [
             0.3,
             "#f1b6da"
            ],
            [
             0.4,
             "#fde0ef"
            ],
            [
             0.5,
             "#f7f7f7"
            ],
            [
             0.6,
             "#e6f5d0"
            ],
            [
             0.7,
             "#b8e186"
            ],
            [
             0.8,
             "#7fbc41"
            ],
            [
             0.9,
             "#4d9221"
            ],
            [
             1,
             "#276419"
            ]
           ],
           "sequential": [
            [
             0,
             "#0d0887"
            ],
            [
             0.1111111111111111,
             "#46039f"
            ],
            [
             0.2222222222222222,
             "#7201a8"
            ],
            [
             0.3333333333333333,
             "#9c179e"
            ],
            [
             0.4444444444444444,
             "#bd3786"
            ],
            [
             0.5555555555555556,
             "#d8576b"
            ],
            [
             0.6666666666666666,
             "#ed7953"
            ],
            [
             0.7777777777777778,
             "#fb9f3a"
            ],
            [
             0.8888888888888888,
             "#fdca26"
            ],
            [
             1,
             "#f0f921"
            ]
           ],
           "sequentialminus": [
            [
             0,
             "#0d0887"
            ],
            [
             0.1111111111111111,
             "#46039f"
            ],
            [
             0.2222222222222222,
             "#7201a8"
            ],
            [
             0.3333333333333333,
             "#9c179e"
            ],
            [
             0.4444444444444444,
             "#bd3786"
            ],
            [
             0.5555555555555556,
             "#d8576b"
            ],
            [
             0.6666666666666666,
             "#ed7953"
            ],
            [
             0.7777777777777778,
             "#fb9f3a"
            ],
            [
             0.8888888888888888,
             "#fdca26"
            ],
            [
             1,
             "#f0f921"
            ]
           ]
          },
          "colorway": [
           "#636efa",
           "#EF553B",
           "#00cc96",
           "#ab63fa",
           "#FFA15A",
           "#19d3f3",
           "#FF6692",
           "#B6E880",
           "#FF97FF",
           "#FECB52"
          ],
          "font": {
           "color": "#2a3f5f"
          },
          "geo": {
           "bgcolor": "white",
           "lakecolor": "white",
           "landcolor": "#E5ECF6",
           "showlakes": true,
           "showland": true,
           "subunitcolor": "white"
          },
          "hoverlabel": {
           "align": "left"
          },
          "hovermode": "closest",
          "mapbox": {
           "style": "light"
          },
          "paper_bgcolor": "white",
          "plot_bgcolor": "#E5ECF6",
          "polar": {
           "angularaxis": {
            "gridcolor": "white",
            "linecolor": "white",
            "ticks": ""
           },
           "bgcolor": "#E5ECF6",
           "radialaxis": {
            "gridcolor": "white",
            "linecolor": "white",
            "ticks": ""
           }
          },
          "scene": {
           "xaxis": {
            "backgroundcolor": "#E5ECF6",
            "gridcolor": "white",
            "gridwidth": 2,
            "linecolor": "white",
            "showbackground": true,
            "ticks": "",
            "zerolinecolor": "white"
           },
           "yaxis": {
            "backgroundcolor": "#E5ECF6",
            "gridcolor": "white",
            "gridwidth": 2,
            "linecolor": "white",
            "showbackground": true,
            "ticks": "",
            "zerolinecolor": "white"
           },
           "zaxis": {
            "backgroundcolor": "#E5ECF6",
            "gridcolor": "white",
            "gridwidth": 2,
            "linecolor": "white",
            "showbackground": true,
            "ticks": "",
            "zerolinecolor": "white"
           }
          },
          "shapedefaults": {
           "line": {
            "color": "#2a3f5f"
           }
          },
          "ternary": {
           "aaxis": {
            "gridcolor": "white",
            "linecolor": "white",
            "ticks": ""
           },
           "baxis": {
            "gridcolor": "white",
            "linecolor": "white",
            "ticks": ""
           },
           "bgcolor": "#E5ECF6",
           "caxis": {
            "gridcolor": "white",
            "linecolor": "white",
            "ticks": ""
           }
          },
          "title": {
           "x": 0.05
          },
          "xaxis": {
           "automargin": true,
           "gridcolor": "white",
           "linecolor": "white",
           "ticks": "",
           "title": {
            "standoff": 15
           },
           "zerolinecolor": "white",
           "zerolinewidth": 2
          },
          "yaxis": {
           "automargin": true,
           "gridcolor": "white",
           "linecolor": "white",
           "ticks": "",
           "title": {
            "standoff": 15
           },
           "zerolinecolor": "white",
           "zerolinewidth": 2
          }
         }
        }
       }
      },
      "text/html": [
       "<div>\n",
       "        \n",
       "        \n",
       "            <div id=\"5c3087db-ecdd-4646-9885-0d11fd076172\" class=\"plotly-graph-div\" style=\"height:525px; width:100%;\"></div>\n",
       "            <script type=\"text/javascript\">\n",
       "                require([\"plotly\"], function(Plotly) {\n",
       "                    window.PLOTLYENV=window.PLOTLYENV || {};\n",
       "                    \n",
       "                if (document.getElementById(\"5c3087db-ecdd-4646-9885-0d11fd076172\")) {\n",
       "                    Plotly.newPlot(\n",
       "                        '5c3087db-ecdd-4646-9885-0d11fd076172',\n",
       "                        [{\"type\": \"surface\", \"x\": [-1.0, -0.9591836734693877, -0.9183673469387755, -0.8775510204081632, -0.8367346938775511, -0.7959183673469388, -0.7551020408163265, -0.7142857142857143, -0.6734693877551021, -0.6326530612244898, -0.5918367346938775, -0.5510204081632654, -0.5102040816326531, -0.4693877551020409, -0.4285714285714286, -0.3877551020408164, -0.34693877551020413, -0.30612244897959184, -0.26530612244897966, -0.22448979591836737, -0.1836734693877552, -0.1428571428571429, -0.10204081632653073, -0.061224489795918435, -0.020408163265306145, 0.020408163265306145, 0.06122448979591821, 0.1020408163265305, 0.1428571428571428, 0.18367346938775508, 0.22448979591836715, 0.26530612244897944, 0.30612244897959173, 0.346938775510204, 0.3877551020408163, 0.4285714285714284, 0.46938775510204067, 0.510204081632653, 0.5510204081632653, 0.5918367346938773, 0.6326530612244896, 0.6734693877551019, 0.7142857142857142, 0.7551020408163265, 0.7959183673469385, 0.8367346938775508, 0.8775510204081631, 0.9183673469387754, 0.9591836734693877, 1.0], \"y\": [-1.0, -0.9591836734693877, -0.9183673469387755, -0.8775510204081632, -0.8367346938775511, -0.7959183673469388, -0.7551020408163265, -0.7142857142857143, -0.6734693877551021, -0.6326530612244898, -0.5918367346938775, -0.5510204081632654, -0.5102040816326531, -0.4693877551020409, -0.4285714285714286, -0.3877551020408164, -0.34693877551020413, -0.30612244897959184, -0.26530612244897966, -0.22448979591836737, -0.1836734693877552, -0.1428571428571429, -0.10204081632653073, -0.061224489795918435, -0.020408163265306145, 0.020408163265306145, 0.06122448979591821, 0.1020408163265305, 0.1428571428571428, 0.18367346938775508, 0.22448979591836715, 0.26530612244897944, 0.30612244897959173, 0.346938775510204, 0.3877551020408163, 0.4285714285714284, 0.46938775510204067, 0.510204081632653, 0.5510204081632653, 0.5918367346938773, 0.6326530612244896, 0.6734693877551019, 0.7142857142857142, 0.7551020408163265, 0.7959183673469385, 0.8367346938775508, 0.8775510204081631, 0.9183673469387754, 0.9591836734693877, 1.0], \"z\": [[170.76944132454952, 163.40162901259117, 156.2104097868469, 149.19578364731672, 142.3577505940006, 135.6963106268986, 129.21146374601062, 122.90320995133675, 116.77154924287694, 110.81648162063124, 105.03800708459958, 99.43612563478202, 94.01083727117852, 88.76214199378913, 83.6900398026138, 78.79453069765253, 74.07561467890534, 69.53329174637223, 65.16756190005324, 60.97842513994828, 56.96588146605741, 53.12993087838062, 49.47057337691791, 45.98780896166928, 42.6816376326347, 39.55205938981422, 36.59907423320784, 33.822682162815504, 31.222883178637247, 28.79967728067307, 26.553064468922987, 24.48304474338697, 22.58961810406502, 20.872784550957157, 19.332544084063375, 17.968896703383667, 16.781842408918035, 15.771381200666484, 14.937513078629005, 14.280238042805614, 13.79955609319629, 13.495467229801049, 13.367971452619877, 13.417068761652791, 13.64275915689978, 14.045042638360847, 14.623919206035994, 15.379388859925214, 16.311451600028516, 17.420107426345897], [167.2041526198331, 159.90785543014223, 152.78815132666546, 145.84504030940275, 139.0785223783541, 132.48859753351957, 126.07526577489908, 119.83852710249272, 113.77838151630041, 107.89482901632215, 102.18786960255798, 96.65750327500793, 91.30373003367193, 86.12654987855001, 81.12596280964216, 76.30196882694838, 71.65456793046869, 67.18376012020305, 62.88954539615152, 58.77192375831405, 54.83089520669068, 51.066459741281356, 47.47861736208615, 44.067368069104994, 40.83271186233791, 37.7746487417849, 34.89317870744601, 32.188301759321156, 29.66001789741039, 27.3083271217137, 25.133229432231097, 23.13472482896256, 21.312813311908105, 19.667494881067718, 18.19876953644142, 16.906637278029212, 15.79109810583106, 14.85215201984699, 14.089799020076999, 13.504039106521088, 13.094872279179253, 12.862298538051494, 12.806317883137817, 12.926930314438211, 13.224135831952685, 13.697934435681237, 14.348326125623865, 15.175310901780575, 16.17888876415136, 17.359059712736226], [163.68090450825153, 156.4561224408281, 149.40793345961893, 142.53633756462364, 135.84133475584252, 129.32292503327545, 122.9811083969225, 116.81588484678356, 110.82725438285875, 105.01521700514799, 99.3797727136513, 93.92092150836875, 88.63866338930019, 83.53299835644575, 78.60392640980541, 73.8514475493791, 69.2755617751669, 64.87626908716877, 60.65356948538472, 56.607462969814726, 52.737949540458835, 49.04502919731703, 45.52870194038927, 42.188967769675614, 39.025826685176014, 36.03927868689049, 33.22932377481908, 30.595961948961715, 28.139193209318435, 25.85901755588923, 23.75543498867411, 21.828445507673067, 20.078049112886095, 18.504245804313197, 17.107035581954385, 15.886418445809646, 14.842394395878983, 13.9749634321624, 13.284125554659898, 12.769880763371468, 12.43222905829712, 12.271170439436846, 12.28670490679065, 12.478832460358532, 12.847553100140491, 13.392866826136526, 14.114773638346643, 15.013273536770836, 16.088366521409107, 17.340052592261454], [160.1996969898049, 153.04643004464896, 146.0697561857072, 139.26967541297947, 132.64618772646583, 126.19929312616624, 119.92899161208074, 113.83528318420933, 107.91816784255198, 102.17764558710871, 96.61371641787952, 91.22638033486442, 86.01563733806337, 80.98148742747644, 76.12393060310356, 71.44296686494474, 66.93859621300003, 62.610818647269376, 58.45963416775281, 54.48504277445031, 50.6870444673619, 47.065639246487564, 43.6208271118273, 40.352608063381126, 37.26098210114902, 34.34594922513099, 31.607509435327046, 29.045662731737174, 26.660409114361375, 24.451748583199656, 22.419681138252024, 20.564206779518464, 18.885325506998974, 17.383037320693568, 16.057342220602237, 14.908240206724987, 13.93573127906181, 13.139815437612715, 12.520492682377693, 12.07776301335675, 11.811626430549886, 11.722082933957099, 11.809132523578386, 12.072775199413753, 12.513010961463195, 13.12983980972672, 13.923261744204318, 14.893276764895997, 16.039884871801753, 17.363086064921585], [156.76053006449317, 149.67877824160476, 142.77361950493048, 136.04505385447018, 129.49308129022398, 123.11770181219194, 116.91891542037392, 110.89672211476999, 105.05112189538016, 99.38211476220435, 93.88970071524265, 88.57387975449502, 83.43465187996148, 78.472017091642, 73.68597538953661, 69.0765267736453, 64.64367124396807, 60.38740880050489, 56.30773944325581, 52.40466317222081, 48.67817998739987, 45.12828988879301, 41.75499287640026, 38.55828895022155, 35.538178110256936, 32.69466035650638, 30.027735688969926, 27.537404107647536, 25.22366561253923, 23.08652020364499, 21.125967880964847, 19.342008644498765, 17.73464249424676, 16.303869430208838, 15.049689452384994, 13.972102560775228, 13.071108755379537, 12.346708036197924, 11.79890040323039, 11.427685856476932, 11.233064395937552, 11.215036021612251, 11.373600733501023, 11.708758531603879, 12.220509415920805, 12.908853386451812, 13.773790443196901, 14.815320586156059, 16.033443815329303, 17.428160130716623], [153.3634037323163, 146.3531670316954, 139.5195234172886, 132.8624728890958, 126.38201544711711, 120.0781510913525, 113.95087982180199, 108.00020163846554, 102.22611654134319, 96.62862453043488, 91.20772560574065, 85.96341976726052, 80.89570701499446, 76.00458734894248, 71.29006076910456, 66.75212727548073, 62.39078686807097, 58.206039546875296, 54.19788531189369, 50.366324163126166, 46.711356100572736, 43.23298112423336, 39.93119923410808, 36.806010430196864, 33.85741471249973, 31.085412081016663, 28.490002535747706, 26.071186076692797, 23.828962703851975, 21.76333241722522, 19.874295216812556, 18.16185110261396, 16.626000074629445, 15.266742132859008, 14.084077277302649, 13.07800550796037, 12.248526824832165, 11.595641227918037, 11.119348717217985, 10.819649292732015, 10.696542954460117, 10.750029702402301, 10.980109536558562, 11.386782456928902, 11.970048463513313, 12.729907556311804, 13.666359735324376, 14.779405000551025, 16.06904335199175, 17.535274789646554], [150.00831799327435, 143.06959641492094, 136.3074679227816, 129.7219325168563, 123.31299019714514, 117.08064096364801, 111.02488481636497, 105.145721755296, 99.44315178044114, 93.9171748918003, 88.56779108937356, 83.39500037316091, 78.39880274316234, 73.57919819937783, 68.9361867418074, 64.46976837045106, 60.17994308530879, 56.06671088638061, 52.130071773666494, 48.37002574716646, 44.7865728068805, 41.37971295280862, 38.149446184950826, 35.09577250330709, 32.218691907877435, 29.518204398661855, 26.994309975660375, 24.647008638872954, 22.476300388299613, 20.482185223940352, 18.664663145795178, 17.02373415386407, 15.559398248147035, 14.271655428644083, 13.160505695355205, 12.225949048280413, 11.467985487419691, 10.886615012773046, 10.481837624340486, 10.253653322121998, 10.20206210611759, 10.327063976327256, 10.628658932750998, 11.106846975388825, 11.761628104240717, 12.5930023193067, 13.600969620586755, 14.785530008080885, 16.146683481789104, 17.684430041711387], [146.6952728473673, 139.82806639128142, 133.13745302140956, 126.62343273775173, 120.28600554030804, 114.1251714290784, 108.14093040406284, 102.33328246526138, 96.70222761267397, 91.24776584630062, 85.96989716614138, 80.86862157219625, 75.94393906446511, 71.19584964294812, 66.62435330764517, 62.22945005855632, 58.011139895681524, 53.969422819020814, 50.1042988285742, 46.41576792434164, 42.90383010632317, 39.56848537451878, 36.40973372892845, 33.42757516955221, 30.622009696390048, 27.99303730944196, 25.540658008707954, 23.264871794188025, 21.16567866588216, 19.24307862379039, 17.497071667912696, 15.927657798249072, 14.534837014799525, 13.318609317564057, 12.278974706542664, 11.415933181735355, 10.729484743142125, 10.219629390762965, 9.886367124597882, 9.729697944646885, 9.749621850909957, 9.946138843387109, 10.319248922078339, 10.86895208698365, 11.59524833810303, 12.498137675436494, 13.577620098984037, 14.833695608745657, 16.266364204721352, 17.875625886911124], [143.42426829459518, 136.62857696077677, 130.00947871317237, 123.56697355178208, 117.30106147660584, 111.21174248764369, 105.29901658489563, 99.56288376836163, 94.00334403804173, 88.62039739393586, 83.41404383604409, 78.38428336436642, 73.53111597890282, 68.8545416796533, 64.35456046661784, 60.03117233979647, 55.88437729918917, 51.914175344795936, 48.1205664766168, 44.50355069465173, 41.06312799890075, 37.799298389363834, 34.712061866041005, 31.801418428932244, 29.067368078037557, 26.509910813356953, 24.129046634890436, 21.92477554263799, 19.89709753659962, 18.046012616775325, 16.371520783165117, 14.873622035768976, 13.552316374586916, 12.407603799618931, 11.439484310865028, 10.647957908325203, 10.033024591999451, 9.59468436188778, 9.332937217990187, 9.247783160306668, 9.339222188837226, 9.607254303581868, 10.051879504540581, 10.673097791713376, 11.470909165100242, 12.44531362470119, 13.596311170516216, 14.923901802545318, 16.428085520788507, 18.108862325245763], [140.19530433495802, 133.471128123407, 126.92354499807011, 120.55255495894728, 114.35815800603855, 108.3403541393439, 102.4991433588633, 96.83452566459678, 91.34650105654438, 86.03506953470601, 80.90023109908174, 75.94198574967155, 71.1603334864754, 66.55527430949336, 62.126808218725394, 57.874935214171515, 53.79965529583169, 49.90096846370595, 46.1788747177943, 42.633374058096706, 39.26446648461321, 36.072151997343774, 33.05643059628843, 30.217302281447157, 27.554767052819965, 25.068824910406846, 22.75947585420782, 20.62671988422285, 18.670557000451968, 16.89098720289516, 15.288010491552434, 13.86162686642378, 12.611836327509204, 11.538638874808711, 10.642034508322284, 9.922023228049946, 9.378605033991683, 9.011779926147497, 8.821547904517384, 8.807908969101357, 8.970863119899397, 9.310410356911522, 9.826550680137721, 10.519284089578003, 11.388610585232353, 12.434530167100785, 13.657042835183299, 15.056148589479886, 16.631847429990557, 18.38413935671529], [137.00838096845564, 130.35571987917217, 123.87965187610274, 117.58017695924741, 111.45729512860616, 105.51100638417898, 99.74131072596586, 94.14820815396685, 88.7316986681819, 83.49178226861102, 78.42845895525424, 73.54172872811152, 68.83159158718288, 64.29804753246833, 59.94109656396785, 55.76073868168144, 51.75697388560912, 47.92980217575086, 44.279223552106686, 40.8052380146766, 37.50784556346058, 34.38704619845863, 31.442839919670774, 28.67522672709698, 26.084206620737266, 23.669779600591635, 21.43194566666009, 19.370704818942617, 17.486057057439215, 15.778002382149891, 14.246540793074656, 12.891672290213485, 11.713396873566396, 10.71171454313338, 9.886625298914446, 9.238129140909592, 8.766226069118812, 8.470916083542113, 8.352199184179485, 8.41007537103094, 8.64454464409647, 9.055607003376078, 9.643262448869763, 10.407510980577527, 11.348352598499364, 12.465787302635283, 13.759815092985281, 15.230435969549353, 16.877649932327504, 18.701456981319737], [133.8634981950882, 127.28235222807221, 120.8777993472703, 114.64983955268244, 108.59847284430869, 102.72369922214897, 97.02551868620336, 91.50393123647183, 86.15893687295434, 80.99053559565095, 75.99872740456166, 71.18351229968644, 66.54489028102527, 62.082861348578206, 57.797425502345206, 53.68858274232629, 49.75633306852144, 46.00067648093068, 42.421612979554, 39.01914256439137, 35.79326523544285, 32.74398099270839, 29.871289836188023, 27.175191765881717, 24.65568678178949, 22.31277488391134, 20.146456072247283, 18.156730346797282, 16.34359770756137, 14.707058154539528, 13.247111687731776, 11.96375830713809, 10.856998012758488, 9.926830804592958, 9.17325668264151, 8.596275646904141, 8.195887697380847, 7.9720928340716295, 7.92489105697649, 8.054282366095427, 8.360266761428443, 8.842844242975536, 9.502014810736705, 10.337778464711956, 11.350135204901278, 12.539085031304682, 13.904627943922165, 15.446763942753726, 17.16549302779936, 19.06081519905907], [130.7606560148557, 124.25102517010717, 117.91798741157274, 111.76154273925235, 105.78169115314608, 99.97843265325386, 94.35176723957571, 88.9016949121117, 83.62821567086172, 78.53132951582583, 73.61103644700398, 68.86733646439623, 64.30022956800256, 59.90971575782298, 55.69579503385748, 51.65846739610605, 47.79773284456867, 44.113591379245385, 40.60604300013619, 37.27508770724107, 34.12072550056003, 31.142956380093047, 28.34178034584016, 25.717197397801343, 23.269207535976605, 20.997810760365933, 18.903007070969355, 16.98479646778685, 15.243178950818418, 13.678154520064066, 12.2897231755238, 11.0778849171976, 10.042639745085479, 9.183987659187439, 8.501928659503474, 7.996462746033589, 7.667589918777779, 7.515310177736046, 7.539623522908393, 7.740529954294816, 8.118029471895316, 8.672122075709893, 9.402807765738551, 10.310086541981285, 11.39395840443809, 12.654423353108978, 14.091481387993946, 15.705132509092993, 17.49537671640611, 19.462214009933316], [127.69985442775805, 121.26173870527703, 115.00021606901008, 108.9152865189572, 103.00695005511838, 97.27520667749366, 91.720056386083, 86.34149918088646, 81.13953506190397, 76.11416402913554, 71.2653860825812, 66.59320122224094, 62.09760944811475, 57.77861076020267, 53.63620515850464, 49.67039264302068, 45.88117321375081, 42.268546870695005, 38.8325136138533, 35.57307344322565, 32.490226358812095, 29.583972360612606, 26.8543114486272, 24.301243622855864, 21.92476888329861, 19.724887229955428, 17.701598662826342, 15.854903181911322, 14.184800787210376, 12.691291478723505, 11.37437525645072, 10.234052120392011, 9.270322070547373, 8.483185106916817, 7.8726412295003385, 7.438690438297939, 7.181332733309613, 7.100568114535367, 7.196396581975196, 7.468818135629103, 7.91783277549709, 8.543440501579154, 9.345641313875296, 10.324435212385515, 11.479822197109808, 12.81180226804818, 14.320375425200634, 16.00554166856716, 17.867300998147773, 19.905653413942456], [124.68109343379533, 118.3144928335818, 112.12448531958232, 106.11107089179691, 100.27424955022562, 94.61402129486837, 89.13038612572521, 83.82334404279612, 78.69289504608112, 73.73903913558017, 68.96177631129332, 64.36110657322055, 59.93702992136185, 55.68954635571724, 51.618655876286695, 47.72435848307023, 44.00665417606784, 40.465542955279524, 37.101024820705305, 33.91309977234514, 30.90176781019907, 28.067028934267064, 25.408883144549144, 22.927330441045292, 20.62237082375552, 18.49400429267983, 16.542230847818228, 14.767050489170689, 13.168463216737225, 11.746469030517842, 10.501067930512543, 9.432259916721316, 8.540044989144166, 7.824423147781096, 7.285394392632102, 6.922958723697187, 6.737116140976348, 6.727866644469585, 6.895210234176902, 7.2391469100982935, 7.7596766722337644, 8.456799520583314, 9.33051545514694, 10.380824475924644, 11.607726582916419, 13.011221776122282, 14.59131005554222, 16.347991421176232, 18.281265873024324, 20.3911334110865], [121.70437303296751, 115.40928755502145, 109.29079516328946, 103.34889585777155, 97.58358963846771, 91.99487650537796, 86.58275645850229, 81.34722949784069, 76.28829562339321, 71.40595483515975, 66.70020713314035, 62.17105251733508, 57.81849098774385, 53.64252254436673, 49.64314718720367, 45.82036491625469, 42.174175731519775, 38.70457963299894, 35.41157662069221, 32.29516669459953, 29.355349854720945, 26.592126101056426, 24.00549543360599, 21.59545785236962, 19.36201335734734, 17.305161948539133, 15.42490362594501, 13.721238389564956, 12.194166239398983, 10.843687175447082, 9.669801197709269, 8.672508306185529, 7.8518085008758645, 7.207701781780276, 6.740188148898769, 6.449267602231339, 6.334940141777985, 6.397205767538707, 6.636064479513509, 7.051516277702385, 7.643561162105341, 8.412199132722375, 9.357430189553487, 10.479254332598673, 11.777671561857938, 13.25268187733128, 14.904285279018707, 16.732481766920206, 18.73727134103578, 20.91865400136544], [118.76969322527457, 112.54612286959599, 106.4991456001315, 100.62876141688106, 94.93497031984474, 89.41777230902244, 84.07716738441427, 78.91315554602016, 73.92573679384013, 69.11491112787415, 64.48067854812227, 60.02303905458448, 55.74199264726074, 51.637539326151106, 47.709679091255516, 43.958411942574045, 40.38373788010661, 36.985656903853254, 33.764169013814005, 30.719274209988818, 27.850972492377714, 25.159263860980683, 22.644148315797732, 20.305625856828858, 18.14369648407405, 16.15836019753333, 14.349616997206693, 12.717466883094128, 11.261909855195638, 9.982945913511227, 8.880575058040895, 7.954797288784639, 7.205612605742459, 6.633021008914358, 6.237022498300332, 6.017617073900388, 5.974804735714519, 6.108585483742729, 6.418959317985014, 6.905926238441377, 7.5694862451118174, 8.409639337996337, 9.426385517094936, 10.619724782407609, 11.989657133934351, 13.536182571675184, 15.259301095630093, 17.15901270579908, 19.23531740218214, 21.48821518477928], [115.87705401071656, 109.72499877730544, 103.74953663010845, 97.9506675691255, 92.32839159435665, 86.88270870580185, 81.61361890346116, 76.52112218733453, 71.60521855742198, 66.8659080137235, 62.303190556239095, 57.917066184968775, 53.70753489991253, 49.674596701070385, 45.81825158844228, 42.13849956202828, 38.63534062182834, 35.30877476784249, 32.15880200007071, 29.185422318513005, 26.388635723169386, 23.76844221403984, 21.324841791124378, 19.05783445442298, 16.96742020393567, 15.05359903966243, 13.316370961603278, 11.755735969758199, 10.371694064127192, 9.164245244710264, 8.133389511507422, 7.279126864518649, 6.601457303743955, 6.100380829183339, 5.7758974408368005, 5.62800713870434, 5.656709922785955, 5.86200579308165, 6.243894749591423, 6.802376792315268, 7.537451921253195, 8.449120136405199, 9.537381437771282, 10.802235825351442, 12.243683299145674, 13.861723859153987, 15.65635750537638, 17.62758423781285, 19.7754040564634, 22.099816961328024], [113.02645538929343, 106.9459152781498, 101.0419682532203, 95.31461431450485, 89.7638534620035, 84.38968569571614, 79.19211101564292, 74.1711294217838, 69.32674091413872, 64.65894549270774, 60.16774315749082, 55.853133908488, 51.71511774569923, 47.75369466912456, 43.96886467876395, 40.36062777461743, 36.92898395668498, 33.67393322496661, 30.595475579462317, 27.693611020172103, 24.968339547095965, 22.4196611602339, 20.047575859585926, 17.852083645152018, 15.833184516932189, 13.990878474926435, 12.32516551913477, 10.83604564955717, 9.523518866193651, 8.38758516904421, 7.428244558108848, 6.645497033387562, 6.039342594880354, 5.609781242587223, 5.356812976508169, 5.280437796643194, 5.3806557029922955, 5.657466695555473, 6.110870774332729, 6.740867939324061, 7.547458190529473, 8.530641527948962, 9.690417951582532, 11.026787461430173, 12.53975005749189, 14.229305739767689, 16.09545450825757, 18.138196362961516, 20.357531303879558, 22.75345933101167], [110.2178973610052, 104.20887237212906, 98.37644046946704, 92.72060165301905, 87.24135592278517, 81.93870327876535, 76.81264372095961, 71.86317724936796, 67.0903038639904, 62.49402356482687, 58.074336351877456, 53.83124222514211, 49.76474118462083, 45.874833230313634, 42.16151836222052, 38.624796580341474, 35.264667884676506, 32.08113227522563, 29.074189751988825, 26.243840314966093, 23.59008396415745, 21.112920699562867, 18.812350521182367, 16.688373429015947, 14.740989423063603, 12.970198503325335, 11.376000669801156, 9.958395922491043, 8.717384261395011, 7.652965686513053, 6.765140197845178, 6.0539077953913765, 5.519268479151651, 5.161222249126006, 4.979769105314436, 4.974909047716946, 5.146642076333532, 5.494968191164197, 6.019887392208939, 6.721399679467756, 7.5995050529406525, 8.654203512627628, 9.88549505852868, 11.293379690643812, 12.87785740897301, 14.638928213516294, 16.57659210427366, 18.690849081245098, 20.981699144430618, 23.449142293830214], [107.45137992585188, 101.51387005924325, 95.7529532788487, 90.1686295846682, 84.76089897670181, 79.52976145494945, 74.47521701941119, 69.59726567008703, 64.89590740697695, 60.37114223008093, 56.02297013939897, 51.85139113493112, 47.85640521667733, 44.03801238463762, 40.39621263881199, 36.93100597920045, 33.64239240580295, 30.53037191861955, 27.59494451765024, 24.83611020289499, 22.253868974353825, 19.848220832026737, 17.61916577591372, 15.566703806014782, 13.690834922329923, 11.991559124859144, 10.468876413602448, 9.122786788559818, 7.953290249731268, 6.960386797116799, 6.144076430716408, 5.50435915053009, 5.041234956557853, 4.754703848799691, 4.644765827255608, 4.711420891925601, 4.954669042809673, 5.374510279907823, 5.97094460322005, 6.743972012746352, 7.693592508486731, 8.819806090441194, 10.12261275860973, 11.602012512992346, 13.258005353589029, 15.0905912803998, 17.099770293424648, 19.285542392663572, 21.64790757811658, 24.186865849783658], [104.72690308383346, 98.86090833949228, 93.17150668136523, 87.65869810945223, 82.32248262375332, 77.16286022426847, 72.1798309109977, 67.373394683941, 62.743551543098405, 58.29030148846987, 54.0136445200554, 49.91358063785503, 45.99010984186873, 42.243232132096495, 38.67294750853836, 35.279255971194296, 32.0621575200643, 29.021652155148377, 26.15773987644654, 23.470420683958782, 20.9596945776851, 18.625561557625492, 16.46802162377997, 14.487074776148516, 12.682721014731143, 11.054960339527844, 9.603792750538634, 8.329218247763492, 7.231236831202428, 6.309848500855441, 5.565053256722536, 4.996851098803706, 4.605242027098952, 4.390226041608275, 4.351803142331678, 4.489973329269157, 4.804736602420713, 5.296092961786346, 5.96404240736606, 6.8085849391598465, 7.829720557167713, 9.027449261389657, 10.40177105182568, 11.952685928475784, 13.68019389133995, 15.584294940418205, 17.664989075710537, 19.922276297216953, 22.356156604937443, 24.96662999887201], [102.04446683494996, 96.24998721287626, 90.63210067701668, 85.19080722737117, 79.92610686393972, 74.83799958672238, 69.92648539571907, 65.19156429092989, 60.63323627235477, 56.25150133999371, 52.04635949384674, 48.01781073391384, 44.16585506019502, 40.49049247269029, 36.99172297139963, 33.66954655632305, 30.523963227460534, 27.554972984812103, 24.762575828377756, 22.146771758157474, 19.707560774151283, 17.44494287635916, 15.358918064781122, 13.449486339417152, 11.716647700267261, 10.16040214733145, 8.780749680609722, 7.577690300102067, 6.55122400580849, 5.701350797728988, 5.028070675863567, 4.531383640212221, 4.211289690774953, 4.0677888275517615, 4.100881050542649, 4.310566359747612, 4.696844755166654, 5.259716236799775, 5.999180804646971, 6.9152384587082425, 8.007889198983595, 9.277133025473024, 10.722969938176535, 12.345399937094118, 14.144423022225773, 16.120039193571515, 18.27224845113133, 20.60105079490523, 23.106446224893197, 25.788434741095255], [99.4040711792013, 93.68110667939513, 88.13473526580302, 82.764956938425, 77.57177169726104, 72.55517954231118, 67.71518047357536, 63.051774491053656, 58.56496159474602, 54.254741784652445, 50.121115060772965, 46.16408142310754, 42.383640871656226, 38.77979340641897, 35.35253902739581, 32.1018777345867, 29.027809527991675, 26.13033440761073, 23.409452373443862, 20.86516342549107, 18.497467563752362, 16.30636478822772, 14.29185509891717, 12.453938495820687, 10.792614978938284, 9.307884548269959, 7.999747203815715, 6.8682029455755425, 5.913251773549449, 5.134893687737434, 4.5331286881395, 4.107956774755637, 3.8593779475858536, 3.7873922066301486, 3.891999551888521, 4.17319998336097, 4.630993501047497, 5.265380104948101, 6.076359795062784, 7.06393257139154, 8.22809843393438, 9.568857382691295, 11.086209417662287, 12.780154538847357, 14.650692746246497, 16.69782403985972, 18.921548419687024, 21.321865885728407, 23.898776437983866, 26.65228007645341], [96.80571611658759, 91.15426673904891, 85.67941044772427, 80.38114724261372, 75.25947712371728, 70.31440009103487, 65.54591614456656, 60.95402528431234, 56.53872751027218, 52.3000228224461, 48.237911220834086, 44.35239270543618, 40.64346727625232, 37.11113493328256, 33.75539567652686, 30.576249505985256, 27.573696421657715, 24.747736423544247, 22.098369511644872, 19.625595685959567, 17.329414946488342, 15.209827293231193, 13.26683272618812, 11.500431245359122, 9.910622850744204, 8.497407542343364, 7.260785320156606, 6.20075618418392, 5.317320134425312, 4.61047717088078, 4.08022729355033, 3.726570502433955, 3.5495067975316568, 3.549036178843436, 3.725158646369294, 4.077874200109227, 4.607182840063239, 5.313084566231331, 6.195579378613497, 7.254667277209737, 8.49034826202006, 9.90262233304446, 11.491489490282941, 13.256949733735498, 15.199003063402118, 17.31764947928283, 19.612888981377615, 22.084721569686483, 24.733147244209437, 27.55816600494645], [94.24940164710878, 88.66946739183756, 83.26612622278043, 78.03937813993736, 72.9892231433084, 68.11566123289349, 63.41869240869264, 58.898316670705896, 54.554534018933246, 50.38734445337464, 46.39674797403012, 42.582744580899686, 38.94533427398331, 35.48451705328104, 32.20029291879283, 29.09266187051871, 26.161623908458658, 23.407179032612678, 20.82932724298078, 18.428068539562958, 16.203402922359224, 14.155330391369557, 12.28385094659397, 10.588964588032457, 9.070671315685026, 7.7289711295516685, 6.5638640296323985, 5.575350015927198, 4.763429088436074, 4.128101247159029, 3.6693664920960622, 3.387224823247172, 3.2816762406123594, 3.352720744191624, 3.6003583339849676, 4.024589009992385, 4.625412772213884, 5.402829620649459, 6.3568395552991115, 7.487442576162838, 8.794638683240644, 10.278427876532529, 11.938810156038496, 13.775785521758536, 15.789353973692643, 17.97951551184084, 20.346270136203113, 22.889617846779466, 25.609558643569894, 28.506092526574406], [91.73512777076485, 86.22670863776113, 80.89488259097149, 75.73964963039592, 70.76100975603441, 65.958962967887, 61.333509265953644, 56.88464865023439, 52.612381120729204, 48.5167066774381, 44.59762532036106, 40.85513704949811, 37.28924186484923, 33.89993976641444, 30.687230754193717, 27.65111482818707, 24.791591988394497, 22.108662234816006, 19.6023255674516, 17.272581986301265, 15.119431491365013, 13.142874082642827, 11.34290976013473, 9.7195385238407, 8.272760373760754, 7.0025753098948815, 5.9089833322430945, 4.9919844408053775, 4.2515786355817395, 3.687765916572179, 3.300546283776698, 3.0899197371952924, 3.055886276827964, 3.198445902674715, 3.5175986147355416, 4.0133444130104445, 4.685683297499426, 5.534615268202488, 6.560140325119627, 7.7622584682508355, 9.14096969759613, 10.6962740131555, 12.428171414928944, 14.336661902916477, 16.421745477118066, 18.68342213753375, 21.12169188416351, 23.736554717007348, 26.52801063606526, 29.496059641337254], [89.26289448755585, 83.8259904768196, 78.56567955229742, 73.48196171398935, 68.57483696189533, 63.844305296015385, 59.29036671634954, 54.91302122289776, 50.712268815660074, 46.68810949463644, 42.84054325982689, 39.16957011123143, 35.675190048850034, 32.35740307268272, 29.216209182729486, 26.251608378990326, 23.463600661465247, 20.852186030154233, 18.417364485057313, 16.159136026174462, 14.077500653505693, 12.172458367050996, 10.44400916681038, 8.89215305278384, 7.516890024971377, 6.3182200833729905, 5.296143227988689, 4.450659458818457, 3.781768775862304, 3.2894711791202282, 2.9737666685922326, 2.8346552442783124, 2.8721369061784685, 3.086211654292704, 3.4768794886210173, 4.044140409163404, 4.787994415919872, 5.708441508890418, 6.805481688075042, 8.079114953473736, 9.529341305086511, 11.15616074291337, 12.959573266954305, 14.939578877209318, 17.096177573678393, 19.42936935636156, 21.939154225258807, 24.625532180370126, 27.488503221695527, 30.52806734923501], [86.83270179748173, 81.46731290901295, 76.2785171067583, 71.2663143907177, 66.43070476089116, 61.7716882172787, 57.28926475988031, 52.98343438869604, 48.85419710372584, 44.90155290496969, 41.12550179242763, 37.52604376609965, 34.10317882598574, 30.856906972085913, 27.78722820440015, 24.894142522928483, 22.17764992767089, 19.637750418627363, 17.274443995797924, 15.08773065918256, 13.077610408781277, 11.244083244594066, 9.587149166620936, 8.10680817486188, 6.8030602693169016, 5.6759054499860015, 4.725343716869182, 3.9513750699664363, 3.3539995092777692, 2.9332170348031785, 2.6890276465426672, 2.6214313444962323, 2.730428128663875, 3.016017999045595, 3.4782009556413938, 4.116976998451267, 4.932346127475219, 5.924308342713251, 7.092863644165358, 8.438012031831537, 9.959753505711802, 11.658088065806142, 13.53301571211456, 15.584536444637058, 17.812650263373623, 20.217357168324273, 22.798657159489, 25.556550236867814, 28.491036400460697, 31.602115650267663], [84.44454970054251, 79.15067593434122, 74.03339525435402, 69.0927076605809, 64.32861315302188, 59.74111173167692, 55.33020339654602, 51.09588814762922, 47.03816598492649, 43.15703690843784, 39.45250091816325, 35.92455801410277, 32.57320819625633, 29.398451464624, 26.40028781920573, 23.578717260001547, 20.933739787011426, 18.465355400235392, 16.17356409967344, 14.058365885325557, 12.11976075719176, 10.357748715272034, 8.77232975956639, 7.363503890074818, 6.1312711067973265, 5.075631409733911, 4.196584798884578, 3.4941312742493182, 2.9682708358281342, 2.61900348362103, 2.4463292176280036, 2.450248037849053, 2.6307599442841814, 2.9878649369333874, 3.5215630157966706, 4.231854180874028, 5.1187384321654665, 6.182215769670983, 7.422286193390578, 8.838949703324241, 10.432206299471991, 12.202055981833817, 14.148498750409718, 16.271534605199705, 18.571163546203753, 21.047385573421888, 23.700200686854103, 26.529608886500395, 29.535610172360762, 32.71820454443522], [82.0984381967382, 76.87607955280441, 71.83031399508471, 66.96114152357906, 62.26856213828751, 57.75257583921003, 53.41318262634662, 49.2503824996973, 45.26417545926207, 41.454561505040886, 37.8215406370338, 34.365112855240795, 31.08527815966185, 27.982036550296993, 25.05538802714621, 22.305332590209506, 19.731870239486877, 17.33500097497833, 15.114724796683863, 13.071041704603466, 11.20395169873715, 9.513454779084908, 7.9995509456467495, 6.662240198422665, 5.501522537412655, 4.517397962616725, 3.709866474034877, 3.0789280716671015, 2.6245827555134027, 2.3468305255737834, 2.2456713818482417, 2.3211053243367767, 2.57313235303939, 3.00175246795608, 3.6069656690868483, 4.38877195643169, 5.347171329990612, 6.482163789763614, 7.793749335750694, 9.281927967951843, 10.946699686367076, 12.788064490996385, 14.806022381839774, 17.000573358897242, 19.37171742216878, 21.919454571654395, 24.643784807354095, 27.544708129267878, 30.62222453739573, 33.87633403173766], [79.79436728606878, 74.64352376440246, 69.66927332895024, 64.8716159797121, 60.25055171668804, 55.80608053987804, 51.53820244928212, 47.44691744490029, 43.53222552673254, 39.794126694778846, 36.23262094903923, 32.847708289513704, 29.63938871620225, 26.60766222910488, 23.752528828221585, 21.07398851355237, 18.572041285097228, 16.24668714285616, 14.097926086829178, 12.125758117016264, 10.330183233417433, 8.711201436032681, 7.2688127248620065, 6.0030170999054056, 4.913814561162882, 4.001205108634436, 3.265188742320073, 2.7057654622197824, 2.3229352683335707, 2.116698160661436, 2.087054139203379, 2.234003203959399, 2.557545354929497, 3.0576805921136727, 3.734408915511927, 4.587730325124254, 5.617644820950662, 6.824152402991148, 8.207253071245713, 9.766946825714346, 11.503233666397062, 13.416113593293858, 15.505586606404735, 17.77165270572969, 20.214311891268707, 22.83356416302181, 25.629409520989, 28.601847965170265, 31.750879495565606, 35.076504112175016], [77.53233696853427, 72.45300856913543, 67.5502732559507, 62.82413102898004, 58.27458188822347, 53.901625833680946, 49.7052628653525, 45.68549298323817, 41.84231618733789, 38.17573247765169, 34.68574185417956, 31.372344316921534, 28.235539865877556, 25.275328501047674, 22.49171022243186, 19.88468503003013, 17.45425292384247, 15.200413903868892, 13.123167970109392, 11.222515122563964, 9.498455361232624, 7.950988686115352, 6.580115097212163, 5.385834594523047, 4.36814717804801, 3.5270528477870506, 2.8625516037401715, 2.3746434459073664, 2.0633283742886395, 1.9286063888839902, 1.9704774896934178, 2.1889416767169227, 2.5839989499545064, 3.1556493094061677, 3.9038927550719067, 4.828729286951718, 5.930158905045612, 7.208181609353584, 8.662797399875632, 10.29400627661175, 12.101808239561953, 14.086203288726239, 16.2471914241046, 18.584772645697036, 21.098946953503535, 23.789714347524132, 26.657074827758798, 29.701028394207547, 32.92157504687038, 36.318714785747275], [75.31234724413464, 70.30453396700332, 65.47331377608606, 60.818686671382885, 56.34065265289378, 52.03921172061876, 47.91436387455779, 43.966109114710946, 40.19444744107816, 36.599378853659445, 33.18090335245481, 29.939020937464253, 26.873731608687763, 23.985035366125366, 21.27293220977704, 18.73742213964279, 16.37850515572262, 14.196181258016523, 12.19045044652451, 10.36131272124657, 8.708768082182711, 7.2328165293329265, 5.9334580626972215, 4.810692682275591, 3.8645203880680388, 3.0949411800745645, 2.50195505829517, 2.0855620227298504, 1.8457620733786082, 1.7825552102414444, 1.895941433318357, 2.1859207426093477, 2.6524931381144166, 3.2956586198335627, 4.115417187766788, 5.111768841914085, 6.2847135822754625, 7.63425140885092, 9.160382321640453, 10.863106320644057, 12.742423405861746, 14.798333577293516, 17.030836834939365, 19.439933178799283, 22.02562260887327, 24.787905125161345, 27.726780727663503, 30.842249416379737, 34.13431119131005, 37.602966052454434], [73.13439811286993, 68.1980999580061, 63.43839488935631, 58.855282906920614, 54.448764010699016, 50.21883820069147, 46.165505476898005, 42.28876583931862, 38.58861928795332, 35.06506582280209, 31.71810544386494, 28.547738151141868, 25.553963944632876, 22.73678282433796, 20.096194790257115, 17.632199842390357, 15.34479798073767, 13.233989205299059, 11.299773516074529, 9.542150913064075, 7.961121396267699, 6.556684965685399, 5.3288416213171805, 4.277591363163036, 3.4029341912229683, 2.704870105496979, 2.1833991059850693, 1.8385211926872354, 1.6702363656034787, 1.6785446247338003, 1.8634459700781978, 2.2249404016366734, 2.7630279194092275, 3.4777085233958593, 4.368982213596569, 5.436848990011351, 6.681308852640215, 8.102361801483156, 9.700007836540177, 11.474246957811266, 13.425079165296438, 15.552504458995692, 17.85652283890902, 20.337134305036432, 22.994338857377905, 25.828136495933467, 28.838527220703106, 32.025511031686825, 35.38908792888463, 38.92925791229649], [70.99848957474013, 66.13370654214376, 61.44551659576148, 56.933919735593264, 52.59891596163914, 48.44050527389908, 44.458687672373095, 40.65346315706121, 37.0248317279634, 33.572793385079656, 30.29734812840998, 27.1984959579544, 24.276236873712893, 21.53057087568546, 18.961497963872095, 16.569018138272828, 14.353131398887625, 12.313837745716496, 10.451137178759453, 8.76502969801648, 7.255515303487593, 5.922593995172779, 4.766265773072043, 3.786530637185383, 2.983388587512801, 2.3568396240542966, 1.9068837468098718, 1.6335209557795223, 1.5367512509632502, 1.6165746323610566, 1.8729910999729387, 2.3060006537988986, 2.915603293838938, 3.7017990200930537, 4.66458783256125, 5.803969731243515, 7.119944716139863, 8.612512787250292, 10.281673944574797, 12.12742818811337, 14.149775517866031, 16.348715933832764, 18.724249436013583, 21.276376024408478, 24.00509569901743, 26.91040845984048, 29.992314306877603, 33.250813240128814, 36.685905259594094, 40.29759036527344], [68.90462162974521, 64.11135371941633, 59.49467889530153, 55.05459715740081, 50.79110850571418, 46.704212940241604, 42.7939104609831, 39.060201067938706, 35.503084761108376, 32.122561540492114, 28.918631406089922, 25.891294357901828, 23.0405503959278, 20.366399520167853, 17.86884173062198, 15.54787702729019, 13.403505410172471, 11.43572687926883, 9.644541434579272, 8.029949076103787, 6.591949803842384, 5.330543617795053, 4.245730517961804, 3.337510504342629, 2.605883576937532, 2.0508497357465134, 1.672408980769573, 1.4705613120067091, 1.4453067294579223, 1.596645233123214, 1.9245768230025806, 2.4291014990960274, 3.11021926140355, 3.967930109925153, 5.002234044660832, 6.213131065610583, 7.600621172774418, 9.16470436615233, 10.905380645744323, 12.822650011550378, 14.916512463570523, 17.186968001804743, 19.63401662625305, 22.25765833691543, 25.05789313379186, 28.034721016882397, 31.18814198618701, 34.5181560417057, 38.024763183438466, 41.707963411385315], [66.8527942778852, 62.13104148982381, 57.585881787976504, 53.217315172343255, 49.025341642924104, 45.009961199719015, 41.171173842728, 37.50897957195109, 34.02337838738824, 30.714370289039465, 27.58195527690476, 24.626133350984148, 21.846904511277614, 19.24426875778515, 16.818226090506762, 14.568776509442456, 12.495920014592222, 10.599656605956065, 8.879986283533993, 7.336909047325993, 5.970424897332076, 4.78053383355223, 3.767235855986465, 2.9305309646347757, 2.270419159497164, 1.7869004405736302, 1.4799748078641757, 1.3496422613687964, 1.3959028010874952, 1.6187564270202714, 2.0182031391671234, 2.594242937528055, 3.3468758221030646, 4.2761017928921525, 5.381920849895316, 6.664332993112552, 8.123338222543872, 9.758936538189268, 11.571127940048742, 13.559912428122287, 15.725290002409917, 18.067260662911625, 20.58582440962741, 23.280981242557278, 26.1527311617012, 29.201074167059218, 32.426010258631315, 35.827539436417496, 39.40566170041774, 43.16037705063207], [64.8430075191601, 60.19276985336618, 55.71912527378637, 51.422073780420604, 47.30161537326893, 43.357750052331326, 39.5904778176078, 35.99979866909837, 32.585712606803014, 29.34821963072172, 26.287319740854507, 23.403012937201375, 20.695299219762315, 18.164178588537343, 15.80965104352644, 13.63171658472962, 11.63037521214687, 9.805626925778203, 8.157471725623616, 6.685909611683099, 5.3909405839566675, 4.272564642444307, 3.3307817871460283, 2.565592018061824, 1.976995335191697, 1.5649917385356482, 1.3295812280936785, 1.2707638038657847, 1.3885394658519687, 1.6829082140522307, 2.1538700484665676, 2.801424969094984, 3.625572975937478, 4.626314068994051, 5.803648248264701, 7.15757551374942, 8.688095865448226, 10.39520930336111, 12.278915827488069, 14.339215437829099, 16.57610813438421, 18.989593917153407, 21.579672786136673, 24.346344741334025, 27.289609782745437, 30.409467910370946, 33.705919124210524, 37.17896342426418, 40.82860081053191, 44.65483128301374], [62.87526135356989, 58.296538810043465, 53.89440935273113, 49.66887298163285, 45.61992969674867, 41.74757949807855, 38.051822385622515, 34.53265835938055, 31.190087419352686, 28.02410956553888, 25.034724797939155, 22.22193311655351, 19.58573452138193, 17.12612901242445, 14.84311658968103, 12.736697253151691, 10.806871002836429, 9.053637838735245, 7.476997760848142, 6.076950769175111, 4.853496863716164, 3.806636044471288, 2.9363683114404937, 2.242693664623774, 1.7256121040211325, 1.3851236296325686, 1.2212282414580833, 1.2339259394976743, 1.4232167237513431, 1.7891005942190898, 2.331577550900911, 3.0506475937968127, 3.9463107229067917, 5.01856693823085, 6.267416239768986, 7.692858627521189, 9.294894101487479, 11.073522661667848, 13.028744308062294, 15.160559040670805, 17.468966859493403, 19.953967764530084, 22.615561755780842, 25.45374883324567, 28.46852899692457, 31.65990224681756, 35.02786858292462, 38.57242800524577, 42.29358051378099, 46.19132610853029], [60.94955578111458, 56.442348359855636, 52.11173402481079, 47.95771277597999, 43.98028461336331, 40.179449536960675, 36.555207546772124, 33.10755864279765, 29.836502825037265, 26.74204009349094, 23.824170448158696, 21.08289388904054, 18.518210416136448, 16.13012002944644, 13.918622728970508, 11.883718514708663, 10.025407386660882, 8.343689344827183, 6.838564389207566, 5.51003251980202, 4.358093736610557, 3.382748039633167, 2.5839954288698577, 1.9618359043206233, 1.516269465985467, 1.2472961138643885, 1.154915847957388, 1.2391286682644642, 1.4999345747856183, 1.9373335675208507, 2.5513256464701564, 3.3419108116335434, 4.309089063011008, 5.45286040060255, 6.773224824408172, 8.270182334427862, 9.943732930661636, 11.793876613109486, 13.820613381771423, 16.023943236647415, 18.403866177737502, 20.960382205041665, 23.693491318559907, 26.603193518292223, 29.689488804238604, 32.95237717639908, 36.39185863477362, 40.00793317936226, 43.80060081016497, 47.76986152718176], [59.065890801794176, 54.63019850280271, 50.37109929002534, 46.288593163462046, 42.382680123112834, 38.653360168977684, 35.10063330105661, 31.724499519349635, 28.524958823856725, 25.5020112145779, 22.655656691513137, 19.985895254662463, 17.492726904025858, 15.176151639603342, 13.036169461394893, 11.072780369400531, 9.285984363620237, 7.675781444054023, 6.242171610701889, 4.985154863563831, 3.9047312026398506, 3.0009006279299473, 2.2736631394341216, 1.7230187371523735, 1.3489674210847022, 1.1515091912311097, 1.1306440475915935, 1.2863719901661554, 1.6186930189547946, 2.127607133957512, 2.813114335174303, 3.6752146226051745, 4.713907996250124, 5.929194456109153, 7.321074002182257, 8.889546634469433, 10.634612352970695, 12.55627115768603, 14.654523048615447, 16.929368025758926, 19.380806089116504, 22.00883723868815, 24.813461474473872, 27.794678796473683, 30.95248920468755, 34.286892699115505, 37.79788927975754, 41.485478946613654, 45.34966169968386, 49.390437538968115], [57.22426641560866, 52.86008923888469, 48.6725051483748, 44.661514144078986, 40.827116225997266, 37.16931139412961, 33.68809964847602, 30.383480989036524, 27.255455415811106, 24.304022928799757, 21.529183528002477, 18.9309372134193, 16.50928398505018, 14.26422384289514, 12.195756786954181, 10.303882817227297, 8.588601933714491, 7.0499141364157625, 5.687819425331114, 4.50231780046054, 3.493409261804047, 2.6610938093616276, 2.005371443133288, 1.5262421631190244, 1.223705969318839, 1.0977628617327313, 1.1484128403607003, 1.375655905202747, 1.779492056258872, 2.3599212935290743, 3.11694361701335, 4.050559026711707, 5.160767522624143, 6.447569104750658, 7.910963773091248, 9.550951527645903, 11.367532368414649, 13.360706295397474, 15.530473308594376, 17.87683340800534, 20.399786593630395, 23.09933286546954, 25.97547222352275, 29.028204667790035, 32.25753019827139, 35.66344881496682, 39.245960517876355, 43.00506530699994, 46.940763182337626, 51.053054143889376], [55.42468262255806, 51.132020568101574, 47.015951599859164, 43.076475717830846, 39.313592922016596, 35.72730321241642, 32.31760658903033, 29.084503051858313, 26.02799260090038, 23.148075236156515, 20.444750957626724, 17.918019765311023, 15.56788165920939, 13.39433663932184, 11.397384705648362, 9.577025858188968, 7.933260096943648, 6.466087421912404, 5.175507833095241, 4.061521330492151, 3.1241279141031435, 2.3633275839282097, 1.7791203399673552, 1.3715061822205765, 1.1404851106878764, 1.0860571253692535, 1.2082222262647078, 1.50698041337424, 1.98233168669785, 2.6342760462355375, 3.462813491987299, 4.46794402395314, 5.649667642133061, 7.00798434652706, 8.542894137135136, 10.254397013957279, 12.14249297699351, 14.20718202624382, 16.448464161708205, 18.866339383386652, 21.460807691279193, 24.231869085385814, 27.179523565706518, 30.303771132241295, 33.60461178499013, 37.08204552395306, 40.736072349130055, 44.56669226052115, 48.57390525812631, 52.75771134194555], [53.667139422642364, 49.445992490453364, 45.40143864447844, 41.53347788471761, 37.84211021117085, 34.32733562383815, 30.98915412271954, 27.827565707815012, 24.84257037912456, 22.03416813664818, 19.40235898038588, 16.947142910337657, 14.66851992650351, 12.566490028883448, 10.641053217477454, 8.892209492285545, 7.319958853307707, 5.924301300543949, 4.70523683399427, 3.662765453658667, 2.7968871595371425, 2.1076019516296935, 1.5949098299363238, 1.2588107944570304, 1.0993048451918146, 1.116391982140677, 1.3100722053036156, 1.680345514680633, 2.2272119102717274, 2.9506713920769005, 3.850723960096146, 4.927369614329474, 6.180608354776878, 7.610440181438362, 9.216865094313922, 10.999883093403552, 12.959494178707269, 15.095698350225058, 17.408495607956933, 19.89788595190287, 22.563869382062894, 25.406445898437, 28.42561550102518, 31.621378189827446, 34.99373396484376, 38.54268282607417, 42.26822477351867, 46.17035980717724, 50.249087927049885, 54.504409133136626], [51.951636815861555, 47.80200500594004, 43.82896628223261, 40.03252064473926, 36.41266809345997, 32.969408628394774, 29.702742249543647, 26.612668956906603, 23.69918875048364, 20.962301630274734, 18.402007596279923, 16.018306648499188, 13.811198786932527, 11.780684011579948, 9.926762322441446, 8.249433719517018, 6.748698202806665, 5.4245557723103905, 4.277006428028197, 3.306050169960079, 2.5116869981060406, 1.8939169124660769, 1.452739913040192, 1.1881559998283844, 1.1001651728306538, 1.1887674320470014, 1.4539627774774249, 1.8957512091219266, 2.5141327269805065, 3.3091073310531653, 4.280675021339895, 5.428835797840709, 6.753589660555598, 8.254936609484567, 9.932876644627614, 11.787409765984727, 13.818535973555928, 16.026255267341206, 18.410567647340564, 20.971473113553987, 23.70897166598149, 26.623063304623084, 29.71374802947875, 32.9810258405485, 36.42489673783229, 40.045360721330205, 43.84241779104218, 47.81606794696824, 51.96631118910837, 56.29314751746258], [50.278174802215645, 46.20005811456162, 42.29853451312168, 38.57360399789581, 35.025266568884014, 31.65352222608629, 28.458370969502653, 25.439812799133094, 22.59784771497761, 19.932475717036205, 17.44369680530887, 15.131510979795625, 12.995918240496444, 11.036918587411352, 9.25451202054033, 7.64869853988339, 6.219478145440522, 4.9668508372117355, 3.8908166151970267, 2.991375479396394, 2.2685274298098395, 1.7222724664373616, 1.352610589278962, 1.159541798334639, 1.1430660936043935, 1.3031834750882265, 1.6398939427861348, 2.153197496698122, 2.8430941368241878, 3.709583863164331, 4.7526666757185465, 5.972342574486844, 7.368611559469219, 8.941473630665673, 10.690928788076207, 12.616977031700802, 14.71961836153949, 16.998852777592255, 19.454680279859097, 22.087100868340002, 24.896114543034997, 27.881721303944076, 31.04392115106723, 34.38271408440446, 37.89810010395574, 41.59007920972113, 45.4586514017006, 49.503816679894136, 53.72557504430175, 58.12392649492346], [48.64675338170464, 44.6401518163181, 40.81014333714565, 37.15672794418725, 33.67990563744295, 30.37967641691271, 27.256040282596558, 24.308997234494488, 21.538547272606486, 18.944690396932568, 16.52742660747272, 14.286755904226958, 12.222678287195263, 10.335193756377654, 8.624302311774118, 7.090003953384664, 5.732298681209284, 4.551186495247979, 3.5466673955007564, 2.7187413819676083, 2.0674084546485396, 1.5926686135435466, 1.294521858652632, 1.1729681899757947, 1.2280076075130344, 1.4596401112643522, 1.8678657012297457, 2.452684377409218, 3.214096139802769, 4.152100988410397, 5.266698923232098, 6.557889944267881, 8.025674051517742, 9.67005124498168, 11.491021524659699, 13.488584890551781, 15.662741342657954, 18.0134908809782, 20.54083350551253, 23.244769216260927, 26.125298013223404, 29.18241989639997, 32.4161348657906, 35.82644292139531, 39.4133440632141, 43.176838291246966, 47.116925605493904, 51.23360600595494, 55.52687949263003, 59.99674606551922], [47.05737255432854, 43.12228611120948, 39.36379275430451, 35.781892483613596, 32.376585299136785, 29.147871200874036, 26.095750188825367, 23.22022226299078, 20.521287423370268, 17.998945669963827, 15.653197002771469, 13.484041421793192, 11.491478927028986, 9.67550951847886, 8.03613319614281, 6.573349960020839, 5.287159810112944, 4.177562746419126, 3.244558768939387, 2.488147877673724, 1.9083300726221404, 1.505105353784633, 1.2784737211612034, 1.2284351747518512, 1.3549897145565766, 1.6581373405753799, 2.137878052808258, 2.794211851255216, 3.6271387359162524, 4.636658706791366, 5.822771763880549, 7.185477907183818, 8.724777136701166, 10.440669452432589, 12.333154854378092, 14.40223334253766, 16.64790491691132, 19.07016957749905, 21.669027324300867, 24.44447815731674, 27.396522076546702, 30.52515908199075, 33.83038917364887, 37.312212351521076, 40.97062861560734, 44.805637965907685, 48.817240402422115, 53.005435925150636, 57.370224534093225, 61.9116062292499], [45.51003232008734, 41.64646099923576, 37.95948276459828, 34.44909761617486, 31.115305553965538, 27.958106577970263, 24.977500688189075, 22.17348788462197, 19.546068167268956, 17.095241536129993, 14.821007991205118, 12.723367532494326, 10.802320159997604, 9.057865873714965, 7.4900046736464, 6.098736559791915, 4.884061532151504, 3.8459795907251717, 2.9844907355129187, 2.2995949665147406, 1.7912922837306424, 1.45958268716062, 1.3044661768046755, 1.3259427526628087, 1.5240124147350194, 1.8986751630213077, 2.44993099752167, 3.1777799182361135, 4.082221925164635, 5.163257018307235, 6.420885197663905, 7.855106463234659, 9.465920815019489, 11.253328253018399, 13.217328777231385, 15.35792238765844, 17.67510908429958, 20.1688888671548, 22.839261736224106, 25.68622769150745, 28.709786733004915, 31.909938860716444, 35.28668407464205, 38.84002237478173, 42.56995376113548, 46.47647823370332, 50.55959579248523, 54.81930643748123, 59.25561016869131, 63.868506986115456]]}, {\"mode\": \"markers\", \"type\": \"scatter3d\", \"x\": [1, 0.7577046709544549, 0.6695881329647118, 0.6395230093081392, 0.6312506562373705, 0.6310967013985017, 0.6339061609045842, 0.6377377212577567, 0.6418622572402706, 0.6460078127782783, 0.6500747872353926, 0.6540284980586468, 0.6578586553215539, 0.6615640774555037, 0.6651469286540015, 0.6686105480511777, 0.671958633731348, 0.6751949377267195, 0.67832315368206, 0.6813468771085791, 0.6842695929329027, 0.687094673257692, 0.6898253788923239, 0.6924648622264027, 0.6950161705331283, 0.6974822493606775, 0.6998659458851233, 0.7021700121795734, 0.7043971083847484, 0.7065498057776601, 0.7086305897392917, 0.7106418626237115, 0.7125859465315556, 0.7144650859909404, 0.716281450548847, 0.7180371372759483, 0.719734173187765, 0.7213745175849398, 0.7229600643153338, 0.7244926439605553, 0.7259740259494444, 0.7274059206009535, 0.7287899810987852, 0.7301278054000626, 0.7314209380802397, 0.7326708721163797, 0.7338790506108614, 0.7350468684575022, 0.7361756739520229, 0.7372667703487129, 0.7383214173650933, 0.7393408326363142, 0.7403261931209674, 0.7412786364599346, 0.7421992622898433, 0.7430891335126439, 0.7439492775227758, 0.7447806873933381, 0.7455843230226351, 0.7463611122424201, 0.7471119518891166, 0.7478377088392549, 0.7485392210103176, 0.7492172983281513, 0.7498727236620614, 0.7505062537286672, 0.7511186199655643, 0.7517105293758004, 0.7522826653441408, 0.7528356884260652, 0.7533702371104073, 0.7538869285565175, 0.7543863593068, 0.7548691059754462, 0.7553357259141609, 0.7557867578556483, 0.7562227225356023, 0.756644123293918, 0.7570514466558191, 0.7574451628935726, 0.7578257265694373, 0.7581935770604764, 0.7585491390658368, 0.7588928230970818, 0.7592250259521457, 0.7595461311734524, 0.7598565094907327, 0.7601565192490473, 0.7604465068225112, 0.7607268070141981, 0.7609977434426844, 0.7612596289156809, 0.7615127657911823, 0.7617574463265533, 0.7619939530159514, 0.7622225589164789, 0.7624435279634392, 0.7626571152750607, 0.7628635674470428, 0.76306312283726], \"y\": [1, 0.42410381333492975, 0.20543760557204663, 0.12157735996909871, 0.08861606515731657, 0.07489979111759307, 0.06848618637892305, 0.06486878448294894, 0.06234621955231003, 0.06027534524128254, 0.058412253994208824, 0.056663687018686945, 0.054993256763744565, 0.053386069656333975, 0.051835379322818585, 0.05033755045643412, 0.0488901577687463, 0.04749126763674887, 0.046139165941093956, 0.044832254261127163, 0.04356900961745286, 0.042347968223362675, 0.041167718328655914, 0.04002689652769794, 0.038924185407452086, 0.037858311733037074, 0.03682804486703061, 0.03583219530688911, 0.03486961329586419, 0.03393918748961707, 0.033039843670882425, 0.03217054350839294, 0.03133028335776239, 0.03051809310261492, 0.02973303503449869, 0.028974202770244217, 0.028240720205499763, 0.027531740503228815, 0.026846445115999595, 0.02618404284093669, 0.025543768906243196, 0.024924884088238928, 0.024326673857895068, 0.023748447555879702, 0.023189537595162096, 0.022649298690254827, 0.022127107112204097, 0.02162235996846788, 0.021134474506850763, 0.02066288744269145, 0.02020705430852661, 0.019766448825479784, 0.019340562295649955, 0.018928903014797955, 0.018530995704652928, 0.018146380964183206, 0.017774614739198107, 0.017415267809668362, 0.01706792529417322, 0.016732186170902108, 0.016407662814657685, 0.01609398054932606, 0.015790777215297046, 0.015497702751335538, 0.015214418790420696, 0.014940598269086747, 0.01467592504981425, 0.014420093556035764, 0.014172808419334642, 0.013933784138429484, 0.013702744749550714, 0.013479423507828608, 0.013263562579324881, 0.013054912743352381, 0.01285323310473915, 0.012658290815704592, 0.01246986080702675, 0.012287725528190286, 0.012111674696215038, 0.011941505052875338, 0.011777020130029679, 0.011618030022789877, 0.011464351170267662, 0.011315806143645803, 0.011172223441329017, 0.011033437290937882, 0.010899287457917671, 0.010769619060540596, 0.010644282391088273, 0.010523132743007734, 0.010406030243841511, 0.010292839693738893, 0.01018343040936188, 0.010077676073005741, 0.009975454586759771, 0.009876647931540004, 0.00978114203083116, 0.009688826618980425, 0.009599595113890995, 0.009513344493968522], \"z\": [63.868506986115456, 10.104236479876079, 2.4476293615151246, 1.3526989565768794, 1.1918731063645527, 1.1643032957727817, 1.156004036966857, 1.1507345378742926, 1.1461647839945803, 1.141945559252873, 1.1380106821542983, 1.1343353312397348, 1.1309015827034066, 1.12769343977999, 1.1246960632926188, 1.1218956041230859, 1.1192791251505214, 1.1168345394839196, 1.1145505543414629, 1.1124166188428775, 1.1104228752638217, 1.108560113497263, 1.1068197285072316, 1.1051936805778058, 1.1036744581736055, 1.1022550432402225, 1.1009288787842866, 1.0996898385834089, 1.0985321988860701, 1.0974506119707268, 1.0964400814419863, 1.0954959391497396, 1.0946138236246203, 1.093789659930179, 1.093019640838697, 1.0923002092436784, 1.091628041727788, 1.0910000332103038, 1.0904132826031876, 1.0898650794094946, 1.0893528912022212, 1.0888743519257493, 1.0884272509658393, 1.0880095229376898, 1.087619238144885, 1.087254593665151, 1.0869139050217504, 1.086595598402036, 1.0862982033872113, 1.086020346159732, 1.0857607431569445, 1.0855181951416641, 1.085291581662295, 1.085079855876898, 1.0848820397172994, 1.084697219370902, 1.0845245410593236, 1.0843632070943632, 1.0842124721930786, 1.0840716400349468, 1.08394006004521, 1.0838171243895411, 1.0837022651661523, 1.0835949517823684, 1.083494688503553, 1.0834010121630602, 1.083313490022633, 1.083231717773369, 1.0831553176680118, 1.083083936775947, 1.0830172453528386, 1.082954935317371, 1.0828967188280685, 1.082842326953609, 1.0827915084304953, 1.0827440285023424, 1.0826996678354184, 1.0826582215054323, 1.0826194980508852, 1.082583318588612, 1.0825495159874328, 1.0825179340960864, 1.0824884270218895, 1.082460858456787, 1.082435101047674, 1.0824110358080892, 1.0823885515685543, 1.0823675444630292, 1.0823479174490993, 1.0823295798596904, 1.082312446984229, 1.0822964396773225, 1.08228148399315, 1.082267510843863, 1.0822544556804394, 1.0822422581944953, 1.0822308620396914, 1.0822202145714432, 1.082210266603724, 1.0822009721818557]}],\n",
       "                        {\"template\": {\"data\": {\"bar\": [{\"error_x\": {\"color\": \"#2a3f5f\"}, \"error_y\": {\"color\": \"#2a3f5f\"}, \"marker\": {\"line\": {\"color\": \"#E5ECF6\", \"width\": 0.5}}, \"type\": \"bar\"}], \"barpolar\": [{\"marker\": {\"line\": {\"color\": \"#E5ECF6\", \"width\": 0.5}}, \"type\": \"barpolar\"}], \"carpet\": [{\"aaxis\": {\"endlinecolor\": \"#2a3f5f\", \"gridcolor\": \"white\", \"linecolor\": \"white\", \"minorgridcolor\": \"white\", \"startlinecolor\": \"#2a3f5f\"}, \"baxis\": {\"endlinecolor\": \"#2a3f5f\", \"gridcolor\": \"white\", \"linecolor\": \"white\", \"minorgridcolor\": \"white\", \"startlinecolor\": \"#2a3f5f\"}, \"type\": \"carpet\"}], \"choropleth\": [{\"colorbar\": {\"outlinewidth\": 0, \"ticks\": \"\"}, \"type\": \"choropleth\"}], \"contour\": [{\"colorbar\": {\"outlinewidth\": 0, \"ticks\": \"\"}, \"colorscale\": [[0.0, \"#0d0887\"], [0.1111111111111111, \"#46039f\"], [0.2222222222222222, \"#7201a8\"], [0.3333333333333333, \"#9c179e\"], [0.4444444444444444, \"#bd3786\"], [0.5555555555555556, \"#d8576b\"], [0.6666666666666666, \"#ed7953\"], [0.7777777777777778, \"#fb9f3a\"], [0.8888888888888888, \"#fdca26\"], [1.0, \"#f0f921\"]], \"type\": \"contour\"}], \"contourcarpet\": [{\"colorbar\": {\"outlinewidth\": 0, \"ticks\": \"\"}, \"type\": \"contourcarpet\"}], \"heatmap\": [{\"colorbar\": {\"outlinewidth\": 0, \"ticks\": \"\"}, \"colorscale\": [[0.0, \"#0d0887\"], [0.1111111111111111, \"#46039f\"], [0.2222222222222222, \"#7201a8\"], [0.3333333333333333, \"#9c179e\"], [0.4444444444444444, \"#bd3786\"], [0.5555555555555556, \"#d8576b\"], [0.6666666666666666, \"#ed7953\"], [0.7777777777777778, \"#fb9f3a\"], [0.8888888888888888, \"#fdca26\"], [1.0, \"#f0f921\"]], \"type\": \"heatmap\"}], \"heatmapgl\": [{\"colorbar\": {\"outlinewidth\": 0, \"ticks\": \"\"}, \"colorscale\": [[0.0, \"#0d0887\"], [0.1111111111111111, \"#46039f\"], [0.2222222222222222, \"#7201a8\"], [0.3333333333333333, \"#9c179e\"], [0.4444444444444444, \"#bd3786\"], [0.5555555555555556, \"#d8576b\"], [0.6666666666666666, \"#ed7953\"], [0.7777777777777778, \"#fb9f3a\"], [0.8888888888888888, \"#fdca26\"], [1.0, \"#f0f921\"]], \"type\": \"heatmapgl\"}], \"histogram\": [{\"marker\": {\"colorbar\": {\"outlinewidth\": 0, \"ticks\": \"\"}}, \"type\": \"histogram\"}], \"histogram2d\": [{\"colorbar\": {\"outlinewidth\": 0, \"ticks\": \"\"}, \"colorscale\": [[0.0, \"#0d0887\"], [0.1111111111111111, \"#46039f\"], [0.2222222222222222, \"#7201a8\"], [0.3333333333333333, \"#9c179e\"], [0.4444444444444444, \"#bd3786\"], [0.5555555555555556, \"#d8576b\"], [0.6666666666666666, \"#ed7953\"], [0.7777777777777778, \"#fb9f3a\"], [0.8888888888888888, \"#fdca26\"], [1.0, \"#f0f921\"]], \"type\": \"histogram2d\"}], \"histogram2dcontour\": [{\"colorbar\": {\"outlinewidth\": 0, \"ticks\": \"\"}, \"colorscale\": [[0.0, \"#0d0887\"], [0.1111111111111111, \"#46039f\"], [0.2222222222222222, \"#7201a8\"], [0.3333333333333333, \"#9c179e\"], [0.4444444444444444, \"#bd3786\"], [0.5555555555555556, \"#d8576b\"], [0.6666666666666666, \"#ed7953\"], [0.7777777777777778, \"#fb9f3a\"], [0.8888888888888888, \"#fdca26\"], [1.0, \"#f0f921\"]], \"type\": \"histogram2dcontour\"}], \"mesh3d\": [{\"colorbar\": {\"outlinewidth\": 0, \"ticks\": \"\"}, \"type\": \"mesh3d\"}], \"parcoords\": [{\"line\": {\"colorbar\": {\"outlinewidth\": 0, \"ticks\": \"\"}}, \"type\": \"parcoords\"}], \"pie\": [{\"automargin\": true, \"type\": \"pie\"}], \"scatter\": [{\"marker\": {\"colorbar\": {\"outlinewidth\": 0, \"ticks\": \"\"}}, \"type\": \"scatter\"}], \"scatter3d\": [{\"line\": {\"colorbar\": {\"outlinewidth\": 0, \"ticks\": \"\"}}, \"marker\": {\"colorbar\": {\"outlinewidth\": 0, \"ticks\": \"\"}}, \"type\": \"scatter3d\"}], \"scattercarpet\": [{\"marker\": {\"colorbar\": {\"outlinewidth\": 0, \"ticks\": \"\"}}, \"type\": \"scattercarpet\"}], \"scattergeo\": [{\"marker\": {\"colorbar\": {\"outlinewidth\": 0, \"ticks\": \"\"}}, \"type\": \"scattergeo\"}], \"scattergl\": [{\"marker\": {\"colorbar\": {\"outlinewidth\": 0, \"ticks\": \"\"}}, \"type\": \"scattergl\"}], \"scattermapbox\": [{\"marker\": {\"colorbar\": {\"outlinewidth\": 0, \"ticks\": \"\"}}, \"type\": \"scattermapbox\"}], \"scatterpolar\": [{\"marker\": {\"colorbar\": {\"outlinewidth\": 0, \"ticks\": \"\"}}, \"type\": \"scatterpolar\"}], \"scatterpolargl\": [{\"marker\": {\"colorbar\": {\"outlinewidth\": 0, \"ticks\": \"\"}}, \"type\": \"scatterpolargl\"}], \"scatterternary\": [{\"marker\": {\"colorbar\": {\"outlinewidth\": 0, \"ticks\": \"\"}}, \"type\": \"scatterternary\"}], \"surface\": [{\"colorbar\": {\"outlinewidth\": 0, \"ticks\": \"\"}, \"colorscale\": [[0.0, \"#0d0887\"], [0.1111111111111111, \"#46039f\"], [0.2222222222222222, \"#7201a8\"], [0.3333333333333333, \"#9c179e\"], [0.4444444444444444, \"#bd3786\"], [0.5555555555555556, \"#d8576b\"], [0.6666666666666666, \"#ed7953\"], [0.7777777777777778, \"#fb9f3a\"], [0.8888888888888888, \"#fdca26\"], [1.0, \"#f0f921\"]], \"type\": \"surface\"}], \"table\": [{\"cells\": {\"fill\": {\"color\": \"#EBF0F8\"}, \"line\": {\"color\": \"white\"}}, \"header\": {\"fill\": {\"color\": \"#C8D4E3\"}, \"line\": {\"color\": \"white\"}}, \"type\": \"table\"}]}, \"layout\": {\"annotationdefaults\": {\"arrowcolor\": \"#2a3f5f\", \"arrowhead\": 0, \"arrowwidth\": 1}, \"coloraxis\": {\"colorbar\": {\"outlinewidth\": 0, \"ticks\": \"\"}}, \"colorscale\": {\"diverging\": [[0, \"#8e0152\"], [0.1, \"#c51b7d\"], [0.2, \"#de77ae\"], [0.3, \"#f1b6da\"], [0.4, \"#fde0ef\"], [0.5, \"#f7f7f7\"], [0.6, \"#e6f5d0\"], [0.7, \"#b8e186\"], [0.8, \"#7fbc41\"], [0.9, \"#4d9221\"], [1, \"#276419\"]], \"sequential\": [[0.0, \"#0d0887\"], [0.1111111111111111, \"#46039f\"], [0.2222222222222222, \"#7201a8\"], [0.3333333333333333, \"#9c179e\"], [0.4444444444444444, \"#bd3786\"], [0.5555555555555556, \"#d8576b\"], [0.6666666666666666, \"#ed7953\"], [0.7777777777777778, \"#fb9f3a\"], [0.8888888888888888, \"#fdca26\"], [1.0, \"#f0f921\"]], \"sequentialminus\": [[0.0, \"#0d0887\"], [0.1111111111111111, \"#46039f\"], [0.2222222222222222, \"#7201a8\"], [0.3333333333333333, \"#9c179e\"], [0.4444444444444444, \"#bd3786\"], [0.5555555555555556, \"#d8576b\"], [0.6666666666666666, \"#ed7953\"], [0.7777777777777778, \"#fb9f3a\"], [0.8888888888888888, \"#fdca26\"], [1.0, \"#f0f921\"]]}, \"colorway\": [\"#636efa\", \"#EF553B\", \"#00cc96\", \"#ab63fa\", \"#FFA15A\", \"#19d3f3\", \"#FF6692\", \"#B6E880\", \"#FF97FF\", \"#FECB52\"], \"font\": {\"color\": \"#2a3f5f\"}, \"geo\": {\"bgcolor\": \"white\", \"lakecolor\": \"white\", \"landcolor\": \"#E5ECF6\", \"showlakes\": true, \"showland\": true, \"subunitcolor\": \"white\"}, \"hoverlabel\": {\"align\": \"left\"}, \"hovermode\": \"closest\", \"mapbox\": {\"style\": \"light\"}, \"paper_bgcolor\": \"white\", \"plot_bgcolor\": \"#E5ECF6\", \"polar\": {\"angularaxis\": {\"gridcolor\": \"white\", \"linecolor\": \"white\", \"ticks\": \"\"}, \"bgcolor\": \"#E5ECF6\", \"radialaxis\": {\"gridcolor\": \"white\", \"linecolor\": \"white\", \"ticks\": \"\"}}, \"scene\": {\"xaxis\": {\"backgroundcolor\": \"#E5ECF6\", \"gridcolor\": \"white\", \"gridwidth\": 2, \"linecolor\": \"white\", \"showbackground\": true, \"ticks\": \"\", \"zerolinecolor\": \"white\"}, \"yaxis\": {\"backgroundcolor\": \"#E5ECF6\", \"gridcolor\": \"white\", \"gridwidth\": 2, \"linecolor\": \"white\", \"showbackground\": true, \"ticks\": \"\", \"zerolinecolor\": \"white\"}, \"zaxis\": {\"backgroundcolor\": \"#E5ECF6\", \"gridcolor\": \"white\", \"gridwidth\": 2, \"linecolor\": \"white\", \"showbackground\": true, \"ticks\": \"\", \"zerolinecolor\": \"white\"}}, \"shapedefaults\": {\"line\": {\"color\": \"#2a3f5f\"}}, \"ternary\": {\"aaxis\": {\"gridcolor\": \"white\", \"linecolor\": \"white\", \"ticks\": \"\"}, \"baxis\": {\"gridcolor\": \"white\", \"linecolor\": \"white\", \"ticks\": \"\"}, \"bgcolor\": \"#E5ECF6\", \"caxis\": {\"gridcolor\": \"white\", \"linecolor\": \"white\", \"ticks\": \"\"}}, \"title\": {\"x\": 0.05}, \"xaxis\": {\"automargin\": true, \"gridcolor\": \"white\", \"linecolor\": \"white\", \"ticks\": \"\", \"title\": {\"standoff\": 15}, \"zerolinecolor\": \"white\", \"zerolinewidth\": 2}, \"yaxis\": {\"automargin\": true, \"gridcolor\": \"white\", \"linecolor\": \"white\", \"ticks\": \"\", \"title\": {\"standoff\": 15}, \"zerolinecolor\": \"white\", \"zerolinewidth\": 2}}}},\n",
       "                        {\"responsive\": true}\n",
       "                    ).then(function(){\n",
       "                            \n",
       "var gd = document.getElementById('5c3087db-ecdd-4646-9885-0d11fd076172');\n",
       "var x = new MutationObserver(function (mutations, observer) {{\n",
       "        var display = window.getComputedStyle(gd).display;\n",
       "        if (!display || display === 'none') {{\n",
       "            console.log([gd, 'removed!']);\n",
       "            Plotly.purge(gd);\n",
       "            observer.disconnect();\n",
       "        }}\n",
       "}});\n",
       "\n",
       "// Listen for the removal of the full notebook cells\n",
       "var notebookContainer = gd.closest('#notebook-container');\n",
       "if (notebookContainer) {{\n",
       "    x.observe(notebookContainer, {childList: true});\n",
       "}}\n",
       "\n",
       "// Listen for the clearing of the current output cell\n",
       "var outputEl = gd.closest('.output');\n",
       "if (outputEl) {{\n",
       "    x.observe(outputEl, {childList: true});\n",
       "}}\n",
       "\n",
       "                        })\n",
       "                };\n",
       "                });\n",
       "            </script>\n",
       "        </div>"
      ]
     },
     "metadata": {},
     "output_type": "display_data"
    }
   ],
   "source": [
    "import plotly.graph_objects as go\n",
    "surface = go.Surface(x=range_a, y=range_b, z=Z)\n",
    "scatter = go.Scatter3d(x=history['a'], y=history['b'], z=history['loss'],mode='markers')\n",
    "\n",
    "fig = go.Figure(data=[surface, scatter])\n",
    "\n",
    "#fig.update_layout(title='Loss Function', autosize=False, width=500, height=500, margin=dict(l=65, r=50, b=65, t=90))\n",
    "fig.show()"
   ]
  },
  {
   "cell_type": "markdown",
   "metadata": {},
   "source": [
    "👇 Plot the Loss history as a function of epochs. Vary the learning_rate from 0.001 to 0.01. Notice the difference"
   ]
  },
  {
   "cell_type": "code",
   "execution_count": 46,
   "metadata": {
    "scrolled": false
   },
   "outputs": [
    {
     "data": {
      "text/plain": [
       "<matplotlib.legend.Legend at 0x12adf64d0>"
      ]
     },
     "execution_count": 46,
     "metadata": {},
     "output_type": "execute_result"
    },
    {
     "data": {
      "image/png": "[encoded data removed]",
      "text/plain": [
       "<Figure size 432x288 with 1 Axes>"
      ]
     },
     "metadata": {
      "needs_background": "light"
     },
     "output_type": "display_data"
    }
   ],
   "source": [
    "for l in np.linspace(0.0005, 0.005, num=10):\n",
    "    a_best, b_best, history = gradient_descent(x,y, learning_rate=l)\n",
    "    plt.plot(history['loss'], label=f'{round(l,5)}')\n",
    "plt.title(\"Loss History\")\n",
    "plt.xlabel(\"Epochs\")\n",
    "plt.ylabel(\"Loss\")\n",
    "plt.legend()"
   ]
  },
  {
   "cell_type": "markdown",
   "metadata": {},
   "source": [
    "## 7. With Sklearn..."
   ]
  },
  {
   "cell_type": "markdown",
   "metadata": {},
   "source": [
    "👇 Using Sklearn, train a Linear Regression model on the same data. Compare its parameters to the ones computed by your Gradient Descent."
   ]
  },
  {
   "cell_type": "code",
   "execution_count": 25,
   "metadata": {
    "scrolled": true
   },
   "outputs": [
    {
     "name": "stdout",
     "output_type": "stream",
     "text": [
      "[0.76883717] 0.0070177202010622275\n"
     ]
    }
   ],
   "source": [
    "from sklearn.linear_model import LinearRegression\n",
    "model = LinearRegression()\n",
    "model.fit(data[['zinc_scaled']], data['phosphorus_scaled'])\n",
    "slope, intercept = model.coef_, model.intercept_ \n",
    "print(slope,intercept)"
   ]
  },
  {
   "cell_type": "markdown",
   "metadata": {},
   "source": [
    "They should be almost identical!"
   ]
  },
  {
   "cell_type": "markdown",
   "metadata": {},
   "source": [
    "### ⚠️ Please, push your exercice when you are done 🙃"
   ]
  },
  {
   "cell_type": "markdown",
   "metadata": {},
   "source": [
    "# 🏁"
   ]
  }
 ],
 "metadata": {
  "kernelspec": {
   "display_name": "Python 3",
   "language": "python",
   "name": "python3"
  },
  "language_info": {
   "codemirror_mode": {
    "name": "ipython",
    "version": 3
   },
   "file_extension": ".py",
   "mimetype": "text/x-python",
   "name": "python",
   "nbconvert_exporter": "python",
   "pygments_lexer": "ipython3",
   "version": "3.8.5"
  },
  "toc": {
   "base_numbering": 1,
   "nav_menu": {},
   "number_sections": false,
   "sideBar": true,
   "skip_h1_title": false,
   "title_cell": "Table of Contents",
   "title_sidebar": "Contents",
   "toc_cell": false,
   "toc_position": {
    "height": "calc(100% - 180px)",
    "left": "10px",
    "top": "150px",
    "width": "261px"
   },
   "toc_section_display": true,
   "toc_window_display": true
  },
  "varInspector": {
   "cols": {
    "lenName": 16,
    "lenType": 16,
    "lenVar": 40
   },
   "kernels_config": {
    "python": {
     "delete_cmd_postfix": "",
     "delete_cmd_prefix": "del ",
     "library": "var_list.py",
     "varRefreshCmd": "print(var_dic_list())"
    },
    "r": {
     "delete_cmd_postfix": ") ",
     "delete_cmd_prefix": "rm(",
     "library": "var_list.r",
     "varRefreshCmd": "cat(var_dic_list()) "
    }
   },
   "types_to_exclude": [
    "module",
    "function",
    "builtin_function_or_method",
    "instance",
    "_Feature"
   ],
   "window_display": false
  }
 },
 "nbformat": 4,
 "nbformat_minor": 4
}

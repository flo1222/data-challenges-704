{
 "cells": [
  {
   "cell_type": "markdown",
   "metadata": {},
   "source": [
    "# Gradient Descent"
   ]
  },
  {
   "cell_type": "markdown",
   "metadata": {},
   "source": [
    "In this exercice, you will create the necessary functions to go through the steps of a single Gradient Descent Epoch. You will then combine the necessary functions and create a loop through the entire Gradient Descent procedure."
   ]
  },
  {
   "cell_type": "markdown",
   "metadata": {},
   "source": [
    "## 1. Data Exploration"
   ]
  },
  {
   "cell_type": "markdown",
   "metadata": {},
   "source": [
    "👇 Import the dataset located in the folder"
   ]
  },
  {
   "cell_type": "code",
   "execution_count": 1,
   "metadata": {
    "scrolled": false
   },
   "outputs": [],
   "source": [
    "import pandas as pd\n",
    "data = pd.read_csv('data.csv')"
   ]
  },
  {
   "cell_type": "code",
   "execution_count": 2,
   "metadata": {},
   "outputs": [
    {
     "data": {
      "text/html": [
       "<div>\n",
       "<style scoped>\n",
       "    .dataframe tbody tr th:only-of-type {\n",
       "        vertical-align: middle;\n",
       "    }\n",
       "\n",
       "    .dataframe tbody tr th {\n",
       "        vertical-align: top;\n",
       "    }\n",
       "\n",
       "    .dataframe thead th {\n",
       "        text-align: right;\n",
       "    }\n",
       "</style>\n",
       "<table border=\"1\" class=\"dataframe\">\n",
       "  <thead>\n",
       "    <tr style=\"text-align: right;\">\n",
       "      <th></th>\n",
       "      <th>alim_ssgrp_nom_eng</th>\n",
       "      <th>alim_nom_eng</th>\n",
       "      <th>Phosphorus (mg/100g)</th>\n",
       "      <th>Protein (g/100g)</th>\n",
       "      <th>Zinc (mg/100g)</th>\n",
       "    </tr>\n",
       "  </thead>\n",
       "  <tbody>\n",
       "    <tr>\n",
       "      <th>0</th>\n",
       "      <td>pasta. rice and grains</td>\n",
       "      <td>Durum wheat pre-cooked. whole grain. cooked. u...</td>\n",
       "      <td>116.0</td>\n",
       "      <td>5.25</td>\n",
       "      <td>0.48</td>\n",
       "    </tr>\n",
       "    <tr>\n",
       "      <th>1</th>\n",
       "      <td>pasta. rice and grains</td>\n",
       "      <td>Asian noodles. plain. cooked. unsalted</td>\n",
       "      <td>43.0</td>\n",
       "      <td>3.50</td>\n",
       "      <td>0.19</td>\n",
       "    </tr>\n",
       "    <tr>\n",
       "      <th>2</th>\n",
       "      <td>pasta. rice and grains</td>\n",
       "      <td>Rice. brown. cooked. unsalted</td>\n",
       "      <td>120.0</td>\n",
       "      <td>3.21</td>\n",
       "      <td>0.62</td>\n",
       "    </tr>\n",
       "    <tr>\n",
       "      <th>3</th>\n",
       "      <td>pasta. rice and grains</td>\n",
       "      <td>Rice. cooked. unsalted</td>\n",
       "      <td>35.0</td>\n",
       "      <td>2.92</td>\n",
       "      <td>0.26</td>\n",
       "    </tr>\n",
       "    <tr>\n",
       "      <th>4</th>\n",
       "      <td>pasta. rice and grains</td>\n",
       "      <td>Rice. parboiled. cooked. unsalted</td>\n",
       "      <td>35.0</td>\n",
       "      <td>2.95</td>\n",
       "      <td>0.10</td>\n",
       "    </tr>\n",
       "  </tbody>\n",
       "</table>\n",
       "</div>"
      ],
      "text/plain": [
       "       alim_ssgrp_nom_eng                                       alim_nom_eng  \\\n",
       "0  pasta. rice and grains  Durum wheat pre-cooked. whole grain. cooked. u...   \n",
       "1  pasta. rice and grains             Asian noodles. plain. cooked. unsalted   \n",
       "2  pasta. rice and grains                      Rice. brown. cooked. unsalted   \n",
       "3  pasta. rice and grains                             Rice. cooked. unsalted   \n",
       "4  pasta. rice and grains                  Rice. parboiled. cooked. unsalted   \n",
       "\n",
       "   Phosphorus (mg/100g)  Protein (g/100g)  Zinc (mg/100g)  \n",
       "0                 116.0              5.25            0.48  \n",
       "1                  43.0              3.50            0.19  \n",
       "2                 120.0              3.21            0.62  \n",
       "3                  35.0              2.92            0.26  \n",
       "4                  35.0              2.95            0.10  "
      ]
     },
     "execution_count": 2,
     "metadata": {},
     "output_type": "execute_result"
    }
   ],
   "source": [
    "data.head()"
   ]
  },
  {
   "cell_type": "markdown",
   "metadata": {},
   "source": [
    "👇 Check for missing values"
   ]
  },
  {
   "cell_type": "markdown",
   "metadata": {},
   "source": [
    "👇 Visualize the relation between the variables `Phosphorus (mg/100g)` and `Zinc (mg/100g)`."
   ]
  },
  {
   "cell_type": "code",
   "execution_count": 3,
   "metadata": {},
   "outputs": [
    {
     "data": {
      "text/plain": [
       "<matplotlib.collections.PathCollection at 0x7f38dc993460>"
      ]
     },
     "execution_count": 3,
     "metadata": {},
     "output_type": "execute_result"
    },
    {
     "data": {
      "image/png": "[encoded data removed]",
      "text/plain": [
       "<Figure size 432x288 with 1 Axes>"
      ]
     },
     "metadata": {
      "needs_background": "light"
     },
     "output_type": "display_data"
    }
   ],
   "source": [
    "import matplotlib.pyplot as plt\n",
    "plt.scatter(data['Phosphorus (mg/100g)'], data['Zinc (mg/100g)'])"
   ]
  },
  {
   "cell_type": "markdown",
   "metadata": {},
   "source": [
    "The visualization should hint at a somewhat Linear relationship between the variables. Let's use Gradient Descent to find the line of best fit between them!"
   ]
  },
  {
   "cell_type": "markdown",
   "metadata": {},
   "source": [
    "## 2. Data Preprocessing"
   ]
  },
  {
   "cell_type": "markdown",
   "metadata": {},
   "source": [
    "👇 Before you start, scale the two features with a `MinMaxScaler`. This will allow the Gradient Descent to be more efficient and converge faster. Add the scaled features as new columns in the dataframe."
   ]
  },
  {
   "cell_type": "code",
   "execution_count": 4,
   "metadata": {},
   "outputs": [],
   "source": [
    "from sklearn.preprocessing import MinMaxScaler\n",
    "scaler = MinMaxScaler()\n",
    "# data['Phos_scaled'], data['Prot_scaled'] = scaler.fit_transform(data[['Phosphorus (mg/100g)', 'Protein (g/100g)']])\n",
    "data['Phos_scaled'] = scaler.fit_transform(data[['Phosphorus (mg/100g)']])\n",
    "data['Zinc_scaled'] = scaler.fit_transform(data[['Zinc (mg/100g)']])"
   ]
  },
  {
   "cell_type": "markdown",
   "metadata": {},
   "source": [
    "👇 Create the two `pd.Series` `x` and `y` as `zinc` and `phosphorus` respectively (their scaled version)"
   ]
  },
  {
   "cell_type": "code",
   "execution_count": 5,
   "metadata": {},
   "outputs": [],
   "source": [
    "zinc = data['Zinc_scaled']\n",
    "phosphorus = data['Phos_scaled']\n"
   ]
  },
  {
   "cell_type": "markdown",
   "metadata": {},
   "source": [
    "## 3. Code one Epoch"
   ]
  },
  {
   "cell_type": "markdown",
   "metadata": {},
   "source": [
    "In this section of the exercice, you will define the key functions used to update the parameters during one epoch (k) of gradient descent. Recall the formula below\n",
    "\n",
    "$$\n",
    "\\beta_0^{\\color {red}{(k+1)}} = \\beta_0^{\\color {red}{(k)}} - \\eta \\frac{\\partial L}{\\partial \\beta_0}(\\beta^{\\color{red}{(k)}})\n",
    "$$\n",
    "\n",
    "\n",
    "$$\n",
    "\\beta_1^{\\color {red}{(k+1)}} = \\beta_1^{\\color {red}{(k)}} - \\eta \\frac{\\partial L}{\\partial \\beta_1}(\\beta^{\\color {red}{(k)}})\n",
    "$$\n"
   ]
  },
  {
   "cell_type": "markdown",
   "metadata": {},
   "source": [
    "### Hypothesis Function"
   ]
  },
  {
   "cell_type": "markdown",
   "metadata": {},
   "source": [
    "$$\n",
    "\\hat{y} =  a x + b\n",
    "$$\n",
    "\n",
    "👇 Define the hypothesis function of a Linear Regression. Let `a` be the slope and `b` the intercept.\n"
   ]
  },
  {
   "cell_type": "code",
   "execution_count": 6,
   "metadata": {},
   "outputs": [],
   "source": [
    "def h(x,a,b):\n",
    "    y = a * x + b\n",
    "    return y"
   ]
  },
  {
   "cell_type": "markdown",
   "metadata": {},
   "source": [
    "❓ What would be your predicted amount of phosphorus if:\n",
    "- zinc = 0.1\n",
    "- a = 1\n",
    "- b = 1\n",
    "\n",
    "Use your hypothesis function to compute the answer. "
   ]
  },
  {
   "cell_type": "code",
   "execution_count": 7,
   "metadata": {},
   "outputs": [
    {
     "data": {
      "text/plain": [
       "1.1"
      ]
     },
     "execution_count": 7,
     "metadata": {},
     "output_type": "execute_result"
    }
   ],
   "source": [
    "h(0.1, 1, 1)"
   ]
  },
  {
   "cell_type": "markdown",
   "metadata": {},
   "source": [
    "⚠️ If the answer is not `1.1`, something is wrong with your function. Fix it before moving on!"
   ]
  },
  {
   "cell_type": "markdown",
   "metadata": {},
   "source": [
    "### Loss Function"
   ]
  },
  {
   "cell_type": "markdown",
   "metadata": {},
   "source": [
    "$$\n",
    "Least\\ Squares\\ Loss = \\sum_{i=0}^n (y^{(i)} - \\hat{y}^{(i)} )^2\n",
    "$$\n",
    "\n",
    "👇 Define the Least Squares Loss Function for the above created Hypothesis Function.\n"
   ]
  },
  {
   "cell_type": "markdown",
   "metadata": {},
   "source": [
    "\n",
    "<details>\n",
    "<summary>💡 Hint</summary>\n",
    "You must use the Hypothesis Function within the Loss function to compute the predictions at given parameter values.\n",
    "</details>\n",
    "\n"
   ]
  },
  {
   "cell_type": "code",
   "execution_count": 78,
   "metadata": {},
   "outputs": [],
   "source": [
    "def loss(x,y,a,b):\n",
    "    loss = ((y - x.map(lambda x: h(x,a,b)))**2).sum()\n",
    "    return loss"
   ]
  },
  {
   "cell_type": "markdown",
   "metadata": {},
   "source": [
    "❓ What would be the total Loss if:\n",
    "- a = 1 \n",
    "- b = 1"
   ]
  },
  {
   "cell_type": "code",
   "execution_count": 9,
   "metadata": {},
   "outputs": [
    {
     "data": {
      "text/plain": [
       "63.868506986115456"
      ]
     },
     "execution_count": 9,
     "metadata": {},
     "output_type": "execute_result"
    }
   ],
   "source": [
    "loss(zinc, phosphorus, 1, 1)"
   ]
  },
  {
   "cell_type": "markdown",
   "metadata": {},
   "source": [
    "⚠️ You should be getting 63.86. If not, something is wrong with your function. Fix it before moving on!"
   ]
  },
  {
   "cell_type": "markdown",
   "metadata": {},
   "source": [
    "### Gradient"
   ]
  },
  {
   "cell_type": "markdown",
   "metadata": {},
   "source": [
    "$$\n",
    "\\frac{\\partial SSR}{\\partial slope}= \\sum_{i=0}^n -2(y^{(i)} - \\hat{y}^{(i)} )\\times x\n",
    "$$\n",
    "\n",
    "$$\n",
    "\\frac{\\partial SSR}{\\partial intercept}= \\sum_{i=0}^n -2(y^{(i)} - \\hat{y}^{(i)} ) \n",
    "$$\n",
    "\n",
    "👇 Define a function to compute the partial derivatives of the Loss Function for each parameter `a` and `b` at given points.\n"
   ]
  },
  {
   "cell_type": "markdown",
   "metadata": {},
   "source": [
    "<details>\n",
    "<summary>💡 Hint</summary>\n",
    "Again, you must use the Hypothesis Function within to compute the predictions at given points.\n",
    "</details>"
   ]
  },
  {
   "cell_type": "code",
   "execution_count": 23,
   "metadata": {},
   "outputs": [],
   "source": [
    "def gradient(x,y,a,b):\n",
    "    derivative_a = (-2*(y - x.map(lambda x: h(x,a,b))) * x).sum() \n",
    "    derivative_b = (-2*(y - x.map(lambda x: h(x,a,b)))).sum()\n",
    "    return (derivative_a, derivative_b)"
   ]
  },
  {
   "cell_type": "markdown",
   "metadata": {},
   "source": [
    "❓ Using your function, what would be the partial derivatives of each parameter if:\n",
    "- a = 1\n",
    "- b = 1"
   ]
  },
  {
   "cell_type": "code",
   "execution_count": 24,
   "metadata": {},
   "outputs": [
    {
     "data": {
      "text/plain": [
       "(48.459065809109006, 115.17923733301406)"
      ]
     },
     "execution_count": 24,
     "metadata": {},
     "output_type": "execute_result"
    }
   ],
   "source": [
    "gradient(zinc, phosphorus, 1, 1)"
   ]
  },
  {
   "cell_type": "markdown",
   "metadata": {},
   "source": [
    "⚠️ You should be getting 48.45 and  115.17. If not, fix your function!"
   ]
  },
  {
   "cell_type": "markdown",
   "metadata": {},
   "source": [
    "### Step Sizes"
   ]
  },
  {
   "cell_type": "markdown",
   "metadata": {},
   "source": [
    "$$\n",
    "step\\ size = gradient \\cdot learning\\ rate\n",
    "$$"
   ]
  },
  {
   "cell_type": "markdown",
   "metadata": {},
   "source": [
    "👇 Define a function that calculates the step sizes alongside each parameter (a,b), according to their derivatives (derivative_a, derivative_b) and a learning_rate equals to 0.01 by default"
   ]
  },
  {
   "cell_type": "code",
   "execution_count": 25,
   "metadata": {},
   "outputs": [],
   "source": [
    "def steps(derivative_a, derivative_b, learning_rate = 0.01):\n",
    "    step_a = derivative_a*learning_rate\n",
    "    step_b = derivative_b*learning_rate\n",
    "    return (step_a, step_b)"
   ]
  },
  {
   "cell_type": "markdown",
   "metadata": {},
   "source": [
    "❓ What would be the steps to take for the derivatives computed above for (a,b) = (1,1)?"
   ]
  },
  {
   "cell_type": "code",
   "execution_count": 26,
   "metadata": {},
   "outputs": [
    {
     "data": {
      "text/plain": [
       "(0.4845906580910901, 1.1517923733301405)"
      ]
     },
     "execution_count": 26,
     "metadata": {},
     "output_type": "execute_result"
    }
   ],
   "source": [
    "steps(gradient(zinc, phosphorus, 1, 1)[0],gradient(zinc, phosphorus, 1, 1)[1])"
   ]
  },
  {
   "cell_type": "markdown",
   "metadata": {},
   "source": [
    "⚠️ The steps should be 0.48 for a and 1.15 for b"
   ]
  },
  {
   "cell_type": "markdown",
   "metadata": {},
   "source": [
    "### Parameter updates"
   ]
  },
  {
   "cell_type": "markdown",
   "metadata": {},
   "source": [
    "$$\n",
    "updated\\ parameter = old\\ parameter\\ value - step\\ size\n",
    "$$"
   ]
  },
  {
   "cell_type": "markdown",
   "metadata": {},
   "source": [
    "👇 Define a function that computes the updated parameter values from the old parameter values and the step sizes."
   ]
  },
  {
   "cell_type": "code",
   "execution_count": 27,
   "metadata": {},
   "outputs": [],
   "source": [
    "\n",
    "def update_params(a, b, step_a, step_b):\n",
    "    updated_a = a - step_a\n",
    "    updated_b = b - step_b\n",
    "    return updated_a , updated_b"
   ]
  },
  {
   "cell_type": "markdown",
   "metadata": {},
   "source": [
    "### Gradient Descent Epoch"
   ]
  },
  {
   "cell_type": "markdown",
   "metadata": {},
   "source": [
    "👇 Using the functions you just created, compute the updated parameters at the end of the first Epoch, had you started with parameters:\n",
    "- a = 1\n",
    "- b = 1"
   ]
  },
  {
   "cell_type": "code",
   "execution_count": 28,
   "metadata": {
    "scrolled": true
   },
   "outputs": [
    {
     "data": {
      "text/plain": [
       "(0.5154093419089099, -0.1517923733301405)"
      ]
     },
     "execution_count": 28,
     "metadata": {},
     "output_type": "execute_result"
    }
   ],
   "source": [
    "step_a = steps(gradient(zinc, phosphorus, 1, 1)[0],gradient(zinc, phosphorus, 1, 1)[1])[0]\n",
    "step_b = steps(gradient(zinc, phosphorus, 1, 1)[0],gradient(zinc, phosphorus, 1, 1)[1])[1]\n",
    "update_params(1, 1, step_a, step_b)"
   ]
  },
  {
   "cell_type": "markdown",
   "metadata": {},
   "source": [
    "⚠️ You should be getting the following values:\n",
    "   - updated_a = 0.51\n",
    "   - updated_b = -0.15"
   ]
  },
  {
   "cell_type": "markdown",
   "metadata": {},
   "source": [
    "## 4. Gradient Descent"
   ]
  },
  {
   "cell_type": "markdown",
   "metadata": {},
   "source": [
    "👇 Now that you have the necessary functions for a Gradient Descent, loop through epochs until convergence.\n",
    "\n",
    "- Initialize parameters `a = 1` and  `b = 1`\n",
    "- Consider convergence to be **100 epochs**\n",
    "- Don't forget to start each new epoch with the updated parameters\n",
    "- Append the value of the loss, a, and b at each epoch to a list called `loss_history`, `a_history` and `b_history`"
   ]
  },
  {
   "cell_type": "code",
   "execution_count": 32,
   "metadata": {},
   "outputs": [
    {
     "data": {
      "text/plain": [
       "0.7686596499806505"
      ]
     },
     "metadata": {},
     "output_type": "display_data"
    },
    {
     "data": {
      "text/plain": [
       "0.007094447489958696"
      ]
     },
     "metadata": {},
     "output_type": "display_data"
    }
   ],
   "source": [
    "# Initialize a and b\n",
    "a, b = 1, 1\n",
    "loss_history = []\n",
    "a_history = []\n",
    "b_history = []\n",
    "# Loop through steps to perform Gradient Descent\n",
    "for i in range(100):\n",
    "    a_history.append(a)\n",
    "    b_history.append(b)\n",
    "    # Compute Loss at each Epoch and append to loss_history\n",
    "    loss_history.append(loss(zinc, phosphorus,a, b)) \n",
    "    # Compute the gradient (the two partial derivatives) \n",
    "    gradient_a, gradient_b = gradient(zinc, phosphorus,a, b)\n",
    "    # Compute steps\n",
    "    step_a, step_b = steps(gradient_a, gradient_b, learning_rate= 0.01)\n",
    "    # Compute updated parameters\n",
    "    a, b = update_params(a, b, step_a, step_b)\n",
    "    # Set updated parameters for new epoch\n",
    "display(a_history[-1])\n",
    "display(b_history[-1])"
   ]
  },
  {
   "cell_type": "markdown",
   "metadata": {},
   "source": [
    "❓ What are the parameter values for `a` and `b` at the end of the 100 epochs?"
   ]
  },
  {
   "cell_type": "code",
   "execution_count": 34,
   "metadata": {},
   "outputs": [
    {
     "data": {
      "text/plain": [
       "'a= 0.7686596499806505'"
      ]
     },
     "metadata": {},
     "output_type": "display_data"
    },
    {
     "data": {
      "text/plain": [
       "'b= 0.007094447489958696'"
      ]
     },
     "metadata": {},
     "output_type": "display_data"
    }
   ],
   "source": [
    "display(f'a= {a_history[-1]}')\n",
    "display(f'b= {b_history[-1]}')"
   ]
  },
  {
   "cell_type": "markdown",
   "metadata": {},
   "source": [
    "You should be getting 0.76 and 0.007"
   ]
  },
  {
   "cell_type": "markdown",
   "metadata": {},
   "source": [
    "👇 Wrap this iterative approach into a method `gradient_descent()`"
   ]
  },
  {
   "cell_type": "code",
   "execution_count": 101,
   "metadata": {},
   "outputs": [],
   "source": [
    "def gradient_descent(x, y, a_init=1, b_init=1, learning_rate=0.001, n_epochs=100):\n",
    "    a, b = a_init, b_init\n",
    "    loss_history = []\n",
    "    a_history = []\n",
    "    b_history = []\n",
    "    # Loop through steps to perform Gradient Descent\n",
    "    for i in range(n_epochs):\n",
    "        a_history.append(a)\n",
    "        b_history.append(b)\n",
    "        # Compute Loss at each Epoch and append to loss_history\n",
    "        loss_history.append(loss(x, y, a, b)) \n",
    "        # Compute the gradient (the two partial derivatives) \n",
    "        gradient_a, gradient_b = gradient(x, y, a, b)\n",
    "        # Compute steps\n",
    "        step_a, step_b = steps(gradient_a, gradient_b, learning_rate= 0.01)\n",
    "        # Compute updated parameters\n",
    "        a, b = update_params(a, b, step_a, step_b)\n",
    "    history = [loss_history, a_history, b_history]\n",
    "    return a, b, history"
   ]
  },
  {
   "cell_type": "markdown",
   "metadata": {},
   "source": [
    "👇 Plot the line of best fit through Zinc and Phosphorus using the parameters of your Gradient Descent."
   ]
  },
  {
   "cell_type": "code",
   "execution_count": 102,
   "metadata": {
    "scrolled": true
   },
   "outputs": [
    {
     "data": {
      "text/plain": [
       "[<matplotlib.lines.Line2D at 0x7f38bb16b7c0>]"
      ]
     },
     "execution_count": 102,
     "metadata": {},
     "output_type": "execute_result"
    },
    {
     "data": {
      "image/png": "[encoded data removed]",
      "text/plain": [
       "<Figure size 432x288 with 1 Axes>"
      ]
     },
     "metadata": {
      "needs_background": "light"
     },
     "output_type": "display_data"
    }
   ],
   "source": [
    "plt.scatter(zinc, phosphorus)\n",
    "import numpy as np\n",
    "X = np.linspace(0,1, 2)\n",
    "a, b = gradient_descent(zinc, phosphorus, a_init=1, b_init=1, learning_rate=0.001, n_epochs=100)[:2]\n",
    "Y = [b, a+b]\n",
    "plt.plot(X, Y)"
   ]
  },
  {
   "cell_type": "markdown",
   "metadata": {},
   "source": [
    "👇 Plot your gradient as a 2D-surface using matplotlib [contourf](https://matplotlib.org/api/_as_gen/matplotlib.pyplot.contourf.html).  \n",
    "Plot on the same figure all historical (a,b) points as red dots to visualize your gradient descent!\n",
    "Change your learning rate and observe it's impact"
   ]
  },
  {
   "cell_type": "markdown",
   "metadata": {},
   "source": [
    "\n",
    "<details>\n",
    "    <summary>Hint</summary>\n",
    "\n",
    "You'll have to create \n",
    "- a range of values for `a`\n",
    "- a range of values for `b`    \n",
    "- a 2D-array `Z` where each elements `Z[i,j] = loss(x,y,a[i],b[j])`\n",
    "</details>"
   ]
  },
  {
   "cell_type": "code",
   "execution_count": 103,
   "metadata": {},
   "outputs": [],
   "source": [
    "history = gradient_descent(zinc, phosphorus, a_init=1, b_init=1, learning_rate=0.001, n_epochs=100)[2]\n",
    "# A = history[1]\n",
    "# B = history[2]\n",
    "A = np.linspace(-1.1,1.1,100)\n",
    "B = np.linspace(-1.1,1.1,100)\n",
    "Z = np.empty((len(A), len(B)))\n",
    "for i in range(len(A)):\n",
    "    for j in range(len(B)):\n",
    "        Z[i][j] = loss(zinc, phosphorus, A[i], B[j])\n"
   ]
  },
  {
   "cell_type": "code",
   "execution_count": 135,
   "metadata": {},
   "outputs": [
    {
     "data": {
      "text/plain": [
       "[<matplotlib.lines.Line2D at 0x7f38b7400d60>]"
      ]
     },
     "execution_count": 135,
     "metadata": {},
     "output_type": "execute_result"
    },
    {
     "data": {
      "image/png": "[encoded data removed]",
      "text/plain": [
       "<Figure size 432x288 with 2 Axes>"
      ]
     },
     "metadata": {
      "needs_background": "light"
     },
     "output_type": "display_data"
    }
   ],
   "source": [
    "plt.contourf(A, B, Z)\n",
    "plt.colorbar()\n",
    "plt.plot(history[1], history[2], color = 'red')"
   ]
  },
  {
   "cell_type": "markdown",
   "metadata": {},
   "source": [
    "👇 (optional) try also it to visualize your gradient with the interactive plot.ly [3D contour plot](https://plotly.com/python/3d-surface-plots/)"
   ]
  },
  {
   "cell_type": "code",
   "execution_count": 105,
   "metadata": {},
   "outputs": [],
   "source": [
    "# YOUR CODE HERE"
   ]
  },
  {
   "cell_type": "markdown",
   "metadata": {},
   "source": [
    "👇 Plot the Loss history as a function of epochs. Vary the learning_rate from 0.001 to 0.01. Notice the difference"
   ]
  },
  {
   "cell_type": "code",
   "execution_count": 116,
   "metadata": {
    "scrolled": false
   },
   "outputs": [],
   "source": [
    "loss_history = []\n",
    "learning_rate = 0.1\n",
    "epoch_list = [1, 2, 5, 10, 100]\n",
    "for n in epoch_list:\n",
    "    loss_history.append(gradient_descent(zinc, phosphorus, a_init=1, b_init=1, learning_rate=learning_rate , n_epochs= n)[2][0][-1])"
   ]
  },
  {
   "cell_type": "code",
   "execution_count": 117,
   "metadata": {},
   "outputs": [
    {
     "data": {
      "text/plain": [
       "[<matplotlib.lines.Line2D at 0x7f38b9e46e80>]"
      ]
     },
     "execution_count": 117,
     "metadata": {},
     "output_type": "execute_result"
    },
    {
     "data": {
      "image/png": "[encoded data removed]",
      "text/plain": [
       "<Figure size 432x288 with 1 Axes>"
      ]
     },
     "metadata": {
      "needs_background": "light"
     },
     "output_type": "display_data"
    }
   ],
   "source": [
    "plt.plot(epoch_list, loss_history)"
   ]
  },
  {
   "cell_type": "markdown",
   "metadata": {},
   "source": [
    "## 7. With Sklearn..."
   ]
  },
  {
   "cell_type": "markdown",
   "metadata": {},
   "source": [
    "👇 Using Sklearn, train a Linear Regression model on the same data. Compare its parameters to the ones computed by your Gradient Descent."
   ]
  },
  {
   "cell_type": "code",
   "execution_count": 133,
   "metadata": {
    "scrolled": true
   },
   "outputs": [
    {
     "data": {
      "text/plain": [
       "(array([0.79276118]), -0.03254756340824516)"
      ]
     },
     "execution_count": 133,
     "metadata": {},
     "output_type": "execute_result"
    }
   ],
   "source": [
    "from sklearn.linear_model import LinearRegression\n",
    "from sklearn.model_selection import train_test_split\n",
    "model = LinearRegression()\n",
    "X_train, X_test, y_train, y_test = train_test_split(data[['Zinc_scaled']], data['Phos_scaled'], test_size = 0.3 )\n",
    "model.fit(X_train, y_train)\n",
    "model.coef_, model.intercept_"
   ]
  },
  {
   "cell_type": "markdown",
   "metadata": {},
   "source": [
    "They should be almost identical!"
   ]
  },
  {
   "cell_type": "markdown",
   "metadata": {},
   "source": [
    "### ⚠️ Please, push your exercice when you are done 🙃"
   ]
  },
  {
   "cell_type": "markdown",
   "metadata": {},
   "source": [
    "# 🏁"
   ]
  }
 ],
 "metadata": {
  "kernelspec": {
   "display_name": "Python 3",
   "language": "python",
   "name": "python3"
  },
  "language_info": {
   "codemirror_mode": {
    "name": "ipython",
    "version": 3
   },
   "file_extension": ".py",
   "mimetype": "text/x-python",
   "name": "python",
   "nbconvert_exporter": "python",
   "pygments_lexer": "ipython3",
   "version": "3.8.5"
  },
  "toc": {
   "base_numbering": 1,
   "nav_menu": {},
   "number_sections": false,
   "sideBar": true,
   "skip_h1_title": false,
   "title_cell": "Table of Contents",
   "title_sidebar": "Contents",
   "toc_cell": false,
   "toc_position": {},
   "toc_section_display": true,
   "toc_window_display": false
  },
  "varInspector": {
   "cols": {
    "lenName": 16,
    "lenType": 16,
    "lenVar": 40
   },
   "kernels_config": {
    "python": {
     "delete_cmd_postfix": "",
     "delete_cmd_prefix": "del ",
     "library": "var_list.py",
     "varRefreshCmd": "print(var_dic_list())"
    },
    "r": {
     "delete_cmd_postfix": ") ",
     "delete_cmd_prefix": "rm(",
     "library": "var_list.r",
     "varRefreshCmd": "cat(var_dic_list()) "
    }
   },
   "types_to_exclude": [
    "module",
    "function",
    "builtin_function_or_method",
    "instance",
    "_Feature"
   ],
   "window_display": false
  }
 },
 "nbformat": 4,
 "nbformat_minor": 4
}

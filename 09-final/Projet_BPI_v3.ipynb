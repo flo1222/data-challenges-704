{
 "cells": [
  {
   "cell_type": "markdown",
   "metadata": {
    "slideshow": {
     "slide_type": "slide"
    }
   },
   "source": [
    "# Projet Deep4Deep"
   ]
  },
  {
   "cell_type": "markdown",
   "metadata": {
    "slideshow": {
     "slide_type": "fragment"
    }
   },
   "source": [
    " 🤖 Starts-ups deeptech: un enjeu pour la BPI (Banque Publique d'Investissement)\n",
    "\n",
    "\n",
    "<img src ='https://xo6kv.mjt.lu/tplimg/xo6kv/b/x8mk3/gwmis.jpeg' class=\"center\" style=\"width: 375px\">\n"
   ]
  },
  {
   "cell_type": "markdown",
   "metadata": {
    "slideshow": {
     "slide_type": "fragment"
    }
   },
   "source": [
    "💡 **Projet du batch précédent**: outil et app de labellisation des deeptechs 💡  \n",
    "*(By: Nicolas Tournaud (BPI), **Alexandre Huet (aka meme master)**, Antoine Planchon, Nicolas Rousselet)*  \n",
    "<a href =\"http://bpi-streamlit.herokuapp.com/\">http://bpi-streamlit.herokuapp.com/</a>\n",
    "\n",
    "\n",
    "<table class=\"center\">\n",
    "    <tr>\n",
    "        <td> <img src ='https://media-exp1.licdn.com/dms/image/C4D03AQGsRDeP_TUNJg/profile-displayphoto-shrink_200_200/0?e=1611792000&v=beta&t=CYfTj0-ZSQlzKFpU4hmzUbSOCg1NlLQTKCa-pePTnNA' alt=\"Drawing\" style=\"width: 150px;\"/> </td>\n",
    "        <td> <img src ='https://ca.slack-edge.com/T02NE0241-U017BJ49GHK-58d66eed35b2-512' alt=\"Drawing\" style=\"width: 150px;\"/> </td>\n",
    "        <td> <img src ='https://ca.slack-edge.com/T02NE0241-U017695MW8N-43077c74d3f1-512' alt=\"Drawing\" style=\"width: 150px;\"/> </td>\n",
    "        <td> <img src ='https://ca.slack-edge.com/T02NE0241-U017K2TTTV2-b6308e7c431e-512' alt=\"Drawing\" style=\"width: 150px;\"/> </td>\n",
    "    </tr>\n",
    "</table>"
   ]
  },
  {
   "cell_type": "markdown",
   "metadata": {
    "slideshow": {
     "slide_type": "skip"
    }
   },
   "source": [
    "\n",
    "<table class=\"center\">\n",
    "    <tr>\n",
    "        <td> <img src ='https://i.imgur.com/iwsEHhG.png' alt=\"Drawing\" style=\"width: 450px;\"/> </td>\n",
    "        <td> <img src ='https://i.imgur.com/mSmwGUg.png' alt=\"Drawing\" style=\"width: 450px;\"/> </td>\n",
    "    </tr>\n",
    "</table>"
   ]
  },
  {
   "cell_type": "markdown",
   "metadata": {
    "slideshow": {
     "slide_type": "subslide"
    }
   },
   "source": [
    "\n",
    "Batch précédent: **Taux de vrais positifs: 75%** 👏👏👏 (25% de FP et 25% de FN).     \n",
    "<table class=\"center\">\n",
    "    <tr>\n",
    "        <td> <img src ='https://i.imgur.com/QK38oQ3.png'  style=\"width: 300px;\"/> </td>\n",
    "        <td> <img src ='https://i.imgur.com/1s2W42z.png'  style=\"width: 300px;\"/> </td>\n",
    "    </tr>\n",
    "</table>"
   ]
  },
  {
   "cell_type": "markdown",
   "metadata": {
    "slideshow": {
     "slide_type": "slide"
    }
   },
   "source": [
    "# Le projet"
   ]
  },
  {
   "cell_type": "markdown",
   "metadata": {
    "slideshow": {
     "slide_type": "fragment"
    }
   },
   "source": [
    "## Partir du projet du batch précédent…\n",
    "<img src ='https://i.imgur.com/v54V38L.png' style=\"width: 500px;\">"
   ]
  },
  {
   "cell_type": "markdown",
   "metadata": {
    "slideshow": {
     "slide_type": "subslide"
    }
   },
   "source": [
    "## … en lui ajoutant des dimensions\n",
    "\n",
    "<img src ='https://i.imgur.com/DXwd1ZH.png' style=\"width: 500px;\">"
   ]
  },
  {
   "cell_type": "markdown",
   "metadata": {
    "slideshow": {
     "slide_type": "subslide"
    }
   },
   "source": [
    "## Zooms sur les dimensions"
   ]
  },
  {
   "cell_type": "markdown",
   "metadata": {
    "slideshow": {
     "slide_type": "fragment"
    }
   },
   "source": [
    "### 'Has tech people'\n",
    "\n",
    "+ Les fondateurs, employés, voire investisseurs des deep tech sont passés par des **institutions deep tech**\n",
    "+ Les 'tech people' parlent aussi de tech dans leur profil (=> on peut utiliser la dimension suivante!)"
   ]
  },
  {
   "cell_type": "markdown",
   "metadata": {
    "slideshow": {
     "slide_type": "subslide"
    }
   },
   "source": [
    "### 'Talks about tech'\n",
    "\n",
    "*Par exemple: Carbon Waters, non classée deep tech précédemment. Extrait de leur site internet.*\n",
    "\n",
    "Carbon Waters creates an **innovative** form of **graphene**. Our **unique** graphene dispersion **technology** enables **industry** to develop materials with enhanced and controlled performance. Carbon Waters offers its customers **industry-based** developments to optimize product performance through specific integration of **graphene** dispersion. Protected by three **patents**, this **disruptive innovation** is the result of 10 years of **R&D** efforts at the **CNRS** (the French National Center for **Scientific Research**) brought to the **industry** by Carbon Waters. Created in 2017 and based in Pessac, France, Carbon Waters now has strong financial backing from both public and private **investors**."
   ]
  },
  {
   "cell_type": "markdown",
   "metadata": {
    "slideshow": {
     "slide_type": "subslide"
    }
   },
   "source": [
    "### '*Uses* patented technologies'\n",
    "\n",
    "*Par exemple: Flying Whales,  6 brevets (launch 2012, 120 employés)*\n",
    "\n",
    "<img src ='https://i.imgur.com/fjy6MOQ.png' width=\"500\" height=\"600\">\n",
    "\n",
    "*New features: patents per employee, patents per dollar earned, patents licensed…*"
   ]
  },
  {
   "cell_type": "markdown",
   "metadata": {
    "slideshow": {
     "slide_type": "slide"
    }
   },
   "source": [
    "# Les données\n",
    "\n",
    "<img src ='https://i.imgur.com/P5Bpc8S.png' style=\"width: 500px;\">"
   ]
  },
  {
   "cell_type": "markdown",
   "metadata": {
    "slideshow": {
     "slide_type": "subslide"
    }
   },
   "source": [
    "\n",
    "## 'Has tech people'\n",
    "\n",
    "+ Données: noms d'institutions: écoles et formations (e.g. MIT), incubateurs (e.g. Entrepreneurs First) et fonds, entreprises (e.g. Google)\n",
    "+ A chercher où: dans le parcours des fondateurs, recrues (et potentiellement à terme investisseurs)\n",
    "\n",
    "### Données de référence\n",
    "+ Connues (à sourcer d'articles) pour former des profils deep tech\n",
    "+ Fréquentes parmi les start-ups déjà labellisées\n",
    "+ Institutions dont la présentation contient de nombreux marqueurs deep tech\n",
    "\n",
    "*En plus, le travail sur les données de description 'talks about tech' pourra être appliqué aux profils des équipes*"
   ]
  },
  {
   "cell_type": "markdown",
   "metadata": {
    "slideshow": {
     "slide_type": "subslide"
    }
   },
   "source": [
    "### Données sur les start-ups à évaluer\n",
    "\n",
    "+ **API Dealroom**\n",
    "    + La BPI (le client) a une souscription\n",
    "+ **LinkedIn scraping?** à confirmer\n",
    "    + A confirmer la possibilité de scraper une page en étant loggué et les limites\n",
    "+ **LinkedIn API?** à confirmer\n",
    "    + Les recherches initiales montrent que LinkedIn a 3 API faciles d'accès (sign in, share, marketing campaign)…\n",
    "    + Et une API qui permet de récupérer les données d'un profil, mais réservée aux développeurs autorisé"
   ]
  },
  {
   "cell_type": "markdown",
   "metadata": {
    "slideshow": {
     "slide_type": "subslide"
    }
   },
   "source": [
    "## 'Talks about tech'\n",
    "\n",
    "Marqueurs textuels de deep tech\n",
    "\n",
    "### Données de référence\n",
    "\n",
    "+ Mots-clés associés au deep tech ou textes de référence décrivant le deep tech, dans des domaines variés (biotechnologies, science des matériaux, healthtech…). \n",
    "\n",
    "### Données sur les start-ups à évaluer\n",
    "\n",
    "+ Scraping de sites Internet d'entreprises, LinkedIn, articles de news.\n",
    "\n",
    "### Méthodes \n",
    "\n",
    "+ NLP et métrique \"keywords\" ou Word2Vec\n"
   ]
  },
  {
   "cell_type": "markdown",
   "metadata": {
    "slideshow": {
     "slide_type": "subslide"
    }
   },
   "source": [
    "## 'Uses patented technologies'\n",
    "\n",
    "+ Data: APIs (Google Patents, European Patent Office)\n",
    "+ Méthode: feature engineering (ex: #brevets/effectifs?) et modèle de régression.\n",
    "+ Objectif: trouver des marqueurs deeptechs."
   ]
  },
  {
   "cell_type": "markdown",
   "metadata": {
    "slideshow": {
     "slide_type": "slide"
    }
   },
   "source": [
    "# Début du projet: redéfinir ou confirmer le pain point!\n",
    "\n",
    "+ Un atelier avec Alexandre de l'équipe précédente pour comprendre l'existant\n",
    "+ Un atelier avec le client Nicolas de la BPI et Yasmina (alternante qui travaille aussi sur le sujet)\n"
   ]
  },
  {
   "cell_type": "markdown",
   "metadata": {
    "slideshow": {
     "slide_type": "fragment"
    }
   },
   "source": [
    "   👉 **Faire évoluer l'objectif du project**? *Des idées:*\n",
    "+ Appliquer des méthodes de partitionnement pour générer des insights sur les start-ups 💻\n",
    "+ Se placer à l'intérieur de secteurs technologiques pour prédictions/clustering 🧬\n",
    "+ APIser les features et data générées par le projet 📲"
   ]
  },
  {
   "cell_type": "markdown",
   "metadata": {
    "slideshow": {
     "slide_type": "skip"
    }
   },
   "source": [
    "   \n",
    "# Emploi de ces données pour améliorer le modèle\n",
    "\n",
    "+ Extraction\n",
    "+ Preprocessing\n",
    "+ Vectorisation des données textuelles\n",
    "+ Création de features \n",
    "+ Usage de ces features pour la prédiction 'is deep tech'\n",
    "\n",
    "## Extraction\n",
    "\n",
    "+ Appels API\n",
    "+ Text scraping\n",
    "\n",
    "## Preprocessing\n",
    "\n",
    "## Vectorisation des données textuelles\n",
    "\n",
    "### Institutions\n",
    "\n",
    "+ Extraction du nom de l'institution\n",
    "+ Base de données d'institutions\n",
    "+ Base de données de personnes\n",
    "+ Base de données de couple \"personne-institution\"\n",
    "\n",
    "### Marqueurs textuels\n",
    "\n",
    "+ Vectorisation TfIdF ou Word2Vec\n",
    "\n",
    "## Création de features \n",
    "\n",
    "### Concernant l'équipe: \n",
    "\n",
    "+ Score deep tech de chaque institution\n",
    "+ Score deep tech des descriptions d'une personne\n",
    "+ Passer de score deep tech d'une personne à score deep tech de l'équipe d'une start-up considérée\n",
    "\n",
    "### Concernant la communication de l'entreprise:\n",
    "\n",
    "+ Score deep tech de l'auto-description de l'entreprise\n",
    "+ Score deep tech des articles publiés sur l'entreprise (news)\n",
    "\n",
    "## Usage de ces features pour la prédiction 'is deep tech'\n",
    "\n",
    "+ Intégration des features au modèle existant\n",
    "+ Fine tuning du modèle pour améliorer le score baseline\n",
    "\n",
    "## Possibilité aussi de redéfinir l'objectif (avec 'le client' BPI)"
   ]
  },
  {
   "cell_type": "markdown",
   "metadata": {
    "slideshow": {
     "slide_type": "notes"
    }
   },
   "source": [
    "https://i.imgur.com/QK38oQ3.png   \n",
    "jupyter nbconvert --to slides --post serve Projet_BPI_v2.ipynb"
   ]
  }
 ],
 "metadata": {
  "celltoolbar": "Diaporama",
  "kernelspec": {
   "display_name": "Python 3",
   "language": "python",
   "name": "python3"
  },
  "language_info": {
   "codemirror_mode": {
    "name": "ipython",
    "version": 3
   },
   "file_extension": ".py",
   "mimetype": "text/x-python",
   "name": "python",
   "nbconvert_exporter": "python",
   "pygments_lexer": "ipython3",
   "version": "3.8.5"
  },
  "toc": {
   "base_numbering": 1,
   "nav_menu": {},
   "number_sections": false,
   "sideBar": true,
   "skip_h1_title": false,
   "title_cell": "Table of Contents",
   "title_sidebar": "Contents",
   "toc_cell": false,
   "toc_position": {
    "height": "calc(100% - 180px)",
    "left": "10px",
    "top": "150px",
    "width": "165px"
   },
   "toc_section_display": true,
   "toc_window_display": true
  },
  "varInspector": {
   "cols": {
    "lenName": 16,
    "lenType": 16,
    "lenVar": 40
   },
   "kernels_config": {
    "python": {
     "delete_cmd_postfix": "",
     "delete_cmd_prefix": "del ",
     "library": "var_list.py",
     "varRefreshCmd": "print(var_dic_list())"
    },
    "r": {
     "delete_cmd_postfix": ") ",
     "delete_cmd_prefix": "rm(",
     "library": "var_list.r",
     "varRefreshCmd": "cat(var_dic_list()) "
    }
   },
   "types_to_exclude": [
    "module",
    "function",
    "builtin_function_or_method",
    "instance",
    "_Feature"
   ],
   "window_display": false
  }
 },
 "nbformat": 4,
 "nbformat_minor": 4
}

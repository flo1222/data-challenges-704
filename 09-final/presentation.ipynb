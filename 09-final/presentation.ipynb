{
 "cells": [
  {
   "cell_type": "markdown",
   "metadata": {
    "heading_collapsed": true,
    "slideshow": {
     "slide_type": "slide"
    }
   },
   "source": [
    "# Projet Deep4Deep Florent + accroche Clémence"
   ]
  },
  {
   "cell_type": "markdown",
   "metadata": {
    "hidden": true,
    "slideshow": {
     "slide_type": "fragment"
    }
   },
   "source": [
    " 🤖 Intro Starts-ups deeptech/BPI/Projet batch précédent\n",
    "\n",
    "\n",
    "<img src ='https://xo6kv.mjt.lu/tplimg/xo6kv/b/x8mk3/gwmis.jpeg' class=\"center\" style=\"width: 375px\">\n"
   ]
  },
  {
   "cell_type": "markdown",
   "metadata": {
    "slideshow": {
     "slide_type": "slide"
    }
   },
   "source": [
    "# La réponse Florent"
   ]
  },
  {
   "cell_type": "markdown",
   "metadata": {
    "slideshow": {
     "slide_type": "subslide"
    }
   },
   "source": [
    "nouvelles dimensions et optimisation du modèle précédent\n",
    "\n",
    "<img src ='https://i.imgur.com/DXwd1ZH.png' style=\"width: 500px;\">"
   ]
  },
  {
   "cell_type": "markdown",
   "metadata": {},
   "source": [
    "1 Projet Deep4Deep Florent + accroche Clémence\n",
    "2 La réponse Florent présent, Clémence prépare la diapo \n",
    "3 Les résultats/matrice Catherine\n",
    "4 Détails Data acquisition/modeling - Optimisation modèle Catherine\n",
    "5 Détails Data acquisition/modeling - NLP Clémence\n",
    "6 demo NLP Clémence\n",
    "7 Détails Data acquisition/modeling - Profiles Florent\n",
    "8 Conclusion - to be continued? Florent"
   ]
  },
  {
   "cell_type": "markdown",
   "metadata": {
    "ExecuteTime": {
     "end_time": "2020-12-09T13:57:33.577947Z",
     "start_time": "2020-12-09T13:57:33.571664Z"
    }
   },
   "source": [
    "# Les résultats/matrice Catherine\n",
    "\n",
    "1 slide Nouvelle matrice de confusion.\n",
    "\n",
    "#### Les résultats/nouveau predict\n",
    "1 slide Eventuellement predict sur nouveau set d'entreprises"
   ]
  },
  {
   "cell_type": "markdown",
   "metadata": {
    "slideshow": {
     "slide_type": "subslide"
    }
   },
   "source": [
    "# Détails Data acquisition/modeling - Optimisation modèle Catherine\n",
    "# Détails Data acquisition/modeling - NLP Clémence\n",
    "# demo NLP Clémence\n",
    "\n",
    "# Détails Data acquisition/modeling - Profiles Florent\n",
    "\n"
   ]
  },
  {
   "cell_type": "markdown",
   "metadata": {
    "slideshow": {
     "slide_type": "fragment"
    }
   },
   "source": [
    "# Conclusion - to be continued? Florent"
   ]
  },
  {
   "cell_type": "code",
   "execution_count": null,
   "metadata": {},
   "outputs": [],
   "source": []
  }
 ],
 "metadata": {
  "celltoolbar": "Diaporama",
  "kernelspec": {
   "display_name": "Python 3",
   "language": "python",
   "name": "python3"
  },
  "language_info": {
   "codemirror_mode": {
    "name": "ipython",
    "version": 3
   },
   "file_extension": ".py",
   "mimetype": "text/x-python",
   "name": "python",
   "nbconvert_exporter": "python",
   "pygments_lexer": "ipython3",
   "version": "3.8.5"
  },
  "toc": {
   "base_numbering": 1,
   "nav_menu": {},
   "number_sections": true,
   "sideBar": true,
   "skip_h1_title": false,
   "title_cell": "Table of Contents",
   "title_sidebar": "Contents",
   "toc_cell": false,
   "toc_position": {
    "height": "calc(100% - 180px)",
    "left": "10px",
    "top": "150px",
    "width": "165px"
   },
   "toc_section_display": true,
   "toc_window_display": true
  },
  "varInspector": {
   "cols": {
    "lenName": 16,
    "lenType": 16,
    "lenVar": 40
   },
   "kernels_config": {
    "python": {
     "delete_cmd_postfix": "",
     "delete_cmd_prefix": "del ",
     "library": "var_list.py",
     "varRefreshCmd": "print(var_dic_list())"
    },
    "r": {
     "delete_cmd_postfix": ") ",
     "delete_cmd_prefix": "rm(",
     "library": "var_list.r",
     "varRefreshCmd": "cat(var_dic_list()) "
    }
   },
   "types_to_exclude": [
    "module",
    "function",
    "builtin_function_or_method",
    "instance",
    "_Feature"
   ],
   "window_display": false
  }
 },
 "nbformat": 4,
 "nbformat_minor": 4
}

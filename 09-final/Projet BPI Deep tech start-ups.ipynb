{
 "cells": [
  {
   "cell_type": "markdown",
   "metadata": {
    "slideshow": {
     "slide_type": "notes"
    }
   },
   "source": [
    "https://i.imgur.com/QK38oQ3.png   \n",
    "jupyter nbconvert --to slides --post serve <your_notebook.ipynb>"
   ]
  },
  {
   "cell_type": "markdown",
   "metadata": {
    "slideshow": {
     "slide_type": "slide"
    }
   },
   "source": [
    "# **Le problème**"
   ]
  },
  {
   "cell_type": "markdown",
   "metadata": {
    "slideshow": {
     "slide_type": "fragment"
    }
   },
   "source": [
    " 🤖 Starts-ups deeptech: un enjeu pour la BPI (Banque Publique d'Investissement)\n",
    "\n",
    "<table class=\"center\"><tr>\n",
    "<td><img src ='https://xo6kv.mjt.lu/tplimg/xo6kv/b/x8mk3/gwmis.jpeg' class=\"center\" style=\"width: 375px\"></td></tr>\n",
    "<table class=\"center\">\n",
    "    <tr>\n",
    "        <td> <img src ='https://i.imgur.com/iwsEHhG.png' alt=\"Drawing\" style=\"width: 450px;\"/> </td>\n",
    "        <td> <img src ='https://i.imgur.com/mSmwGUg.png' alt=\"Drawing\" style=\"width: 450px;\"/> </td>\n",
    "    </tr>\n",
    "</table>"
   ]
  },
  {
   "cell_type": "markdown",
   "metadata": {},
   "source": [
    "💡 **Projet du batch précédent**: outil et app de labellisation des deeptechs 💡  \n",
    "*(By: Nicolas Tournaud (BPI), **Alexandre Huet (aka meme master)**, Antoine Planchon, Nicolas Rousselet)*  \n",
    "<a href =\"http://bpi-streamlit.herokuapp.com/\">http://bpi-streamlit.herokuapp.com/</a>\n",
    "\n",
    "+ Nombre de deeptechs connues en France: 1300 environ (sous-estimation).\n",
    "+ Nombre prédit par le deeptech predictor en prédit: **1300**!  👏  "
   ]
  },
  {
   "cell_type": "markdown",
   "metadata": {},
   "source": [
    "**Taux de vrais positifs: 75%** 👏👏👏 (25% de FP et 25% de FN).   \n",
    "Peut-on améliorer l'outil?  💪  \n",
    "<table class=\"center\">\n",
    "    <tr>\n",
    "        <td> <img src ='https://i.imgur.com/QK38oQ3.png'  style=\"width: 300px;\"/> </td>\n",
    "        <td> <img src ='https://i.imgur.com/1s2W42z.png'  style=\"width: 300px;\"/> </td>\n",
    "        <td> <img src ='https://i.imgur.com/a86ufei.png' style=\"width: 300px;\"/> </td>\n",
    "    </tr>\n",
    "</table>\n",
    "\n",
    "Projet proposé: **développer de nouvelles dimensions de scoring**."
   ]
  },
  {
   "cell_type": "markdown",
   "metadata": {},
   "source": [
    "Note: partie 2 \n",
    "# Affiner le modèle BPI en zoomant sur les personnes "
   ]
  },
  {
   "cell_type": "markdown",
   "metadata": {},
   "source": [
    "## Type de données recherchées\n"
   ]
  },
  {
   "cell_type": "markdown",
   "metadata": {},
   "source": [
    "### Marqueurs textuels de deep tech\n",
    "\n",
    "+ Données: mots-clés associés au deep tech ou textes de référence décrivant le deep tech, dans des domaines variés (biotechnologies, science des matériaux, healthtech…)\n",
    "+ A chercher où: dans les descriptions des personnes et de leur parcours par elles-mêmes"
   ]
  },
  {
   "cell_type": "markdown",
   "metadata": {},
   "source": [
    "### Institutions marqueurs de deep tech\n",
    "\n",
    "+ Données: noms d'institutions: écoles et formations (e.g. MIT), incubateurs (e.g. Entrepreneurs First) et fonds, entreprises (e.g. Google)\n",
    "+ A chercher où: dans le parcours des fondateurs, recrues (et potentiellement à terme investisseurs)"
   ]
  },
  {
   "cell_type": "markdown",
   "metadata": {},
   "source": [
    "## Sources de données\n",
    "\n",
    "### Données de référence pour entraînement\n",
    "\n",
    "**Sources des données marqueurs textuels de deep tech:**\n",
    "+ Corpus de textes de références type page wikipédia sur le deep tech\n",
    "+ Pitch des des start-ups déjà labellisées\n",
    "\n",
    "**Sources des données d'institutions deep tech:**\n",
    "+ Connues (à sourcer d'articles) pour former des profils deep tech\n",
    "+ Fréquentes parmi les start-ups déjà labellisées\n",
    "+ Institutions dont la présentation contient de nombreux marqueurs deep tech"
   ]
  },
  {
   "cell_type": "markdown",
   "metadata": {},
   "source": [
    "### Données sur les start-ups à évaluer\n",
    "\n",
    "+ **API Dealroom**\n",
    "    + La BPI (le client) a une souscription\n",
    "+ **LinkedIn scraping?** à confirmer\n",
    "    + A confirmer la possibilité de scraper une page en étant loggué et les limites\n",
    "+ **LinkedIn API?** à confirmer\n",
    "    + Les recherches initiales montrent que LinkedIn a 3 API (sign in, share, marketing campaign)…\n",
    "    + Mais pas d'API qui permet de récupérer les données d'un profil. LinkedIn se réserve l'exploitation de ces informations"
   ]
  },
  {
   "cell_type": "markdown",
   "metadata": {},
   "source": [
    "# La dimension \"description\""
   ]
  },
  {
   "cell_type": "markdown",
   "metadata": {},
   "source": [
    "+ Data: Scraping de sites Internet d'entreprises, LinkedIn, articles de news.\n",
    "+ Méthode: NLP et métrique \"keywords\"\n",
    "+ Objectif: générer  une banque de mots-clé et utiliser pour un prédicteur\n",
    "\n",
    "\n",
    "\n",
    "\n",
    "*Par exemple: Carbon Waters, extrait de leur site internet.*\n",
    "\n",
    "Carbon Waters creates an **innovative** form of **graphene**. Our **unique** graphene dispersion **technology** enables **industry** to develop materials with enhanced and controlled performance. Carbon Waters offers its customers **industry-based** developments to optimize product performance through specific integration of **graphene** dispersion. Protected by three **patents**, this **disruptive innovation** is the result of 10 years of **R&D** efforts at the **CNRS** (the French National Center for Scientific Research) brought to the **industry** by Carbon Waters. Created in 2017 and based in Pessac, France, Carbon Waters now has strong financial backing from both public and private **investors**."
   ]
  },
  {
   "cell_type": "markdown",
   "metadata": {},
   "source": [
    "# La dimension brevet/IP"
   ]
  },
  {
   "cell_type": "markdown",
   "metadata": {},
   "source": [
    "+ Data: APIs (Google Patents, European Patent Office)\n",
    "+ Méthode: feature engineering (ex: #brevets/effectifs?) et modèle de régression.\n",
    "+ Objectif: trouver des marqueurs deeptechs.\n",
    "\n",
    "*Par exemple: Flying Whales,  6 brevets (launch 2012, 120 employés)*\n",
    "\n",
    "<img src ='https://i.imgur.com/fjy6MOQ.png' width=\"500\" height=\"600\">"
   ]
  },
  {
   "cell_type": "markdown",
   "metadata": {},
   "source": [
    "Note: partie 4\n",
    "    \n",
    "# Emploi de ces données pour améliorer le modèle\n",
    "\n",
    "+ Extraction\n",
    "+ Preprocessing\n",
    "+ Vectorisation des données textuelles\n",
    "+ Création de features \n",
    "+ Usage de ces features pour la prédiction 'is deep tech'"
   ]
  },
  {
   "cell_type": "markdown",
   "metadata": {},
   "source": [
    "## Extraction\n",
    "\n",
    "+ Appels API\n",
    "+ Text scraping"
   ]
  },
  {
   "cell_type": "markdown",
   "metadata": {},
   "source": [
    "## Preprocessing"
   ]
  },
  {
   "cell_type": "markdown",
   "metadata": {},
   "source": [
    "## Vectorisation des données textuelles\n",
    "\n",
    "### Institutions\n",
    "\n",
    "+ Extraction du nom de l'institution\n",
    "+ Base de données d'institutions\n",
    "+ Base de données de personnes\n",
    "+ Base de données de couple \"personne-institution\"\n",
    "\n",
    "### Marqueurs textuels\n",
    "\n",
    "+ Vectorisation TfIdF ou Word2Vec"
   ]
  },
  {
   "cell_type": "markdown",
   "metadata": {},
   "source": [
    "## Création de features \n",
    "\n",
    "### Concernant l'équipe: \n",
    "\n",
    "+ Score deep tech de chaque institution\n",
    "+ Score deep tech des descriptions d'une personne\n",
    "+ Passer de score deep tech d'une personne à score deep tech de l'équipe d'une start-up considérée\n",
    "\n",
    "### Concernant la communication de l'entreprise:\n",
    "\n",
    "+ Score deep tech de l'auto-description de l'entreprise\n",
    "+ Score deep tech des articles publiés sur l'entreprise (news)"
   ]
  },
  {
   "cell_type": "markdown",
   "metadata": {},
   "source": [
    "## Usage de ces features pour la prédiction 'is deep tech'\n",
    "\n",
    "+ Intégration des features au modèle existant\n",
    "+ Fine tuning du modèle pour améliorer le score baseline"
   ]
  },
  {
   "cell_type": "code",
   "execution_count": null,
   "metadata": {},
   "outputs": [],
   "source": []
  }
 ],
 "metadata": {
  "celltoolbar": "Diaporama",
  "kernelspec": {
   "display_name": "Python 3",
   "language": "python",
   "name": "python3"
  },
  "language_info": {
   "codemirror_mode": {
    "name": "ipython",
    "version": 3
   },
   "file_extension": ".py",
   "mimetype": "text/x-python",
   "name": "python",
   "nbconvert_exporter": "python",
   "pygments_lexer": "ipython3",
   "version": "3.8.5"
  },
  "toc": {
   "base_numbering": 1,
   "nav_menu": {},
   "number_sections": true,
   "sideBar": true,
   "skip_h1_title": false,
   "title_cell": "Table of Contents",
   "title_sidebar": "Contents",
   "toc_cell": false,
   "toc_position": {
    "height": "calc(100% - 180px)",
    "left": "10px",
    "top": "150px",
    "width": "165px"
   },
   "toc_section_display": true,
   "toc_window_display": false
  },
  "varInspector": {
   "cols": {
    "lenName": 16,
    "lenType": 16,
    "lenVar": 40
   },
   "kernels_config": {
    "python": {
     "delete_cmd_postfix": "",
     "delete_cmd_prefix": "del ",
     "library": "var_list.py",
     "varRefreshCmd": "print(var_dic_list())"
    },
    "r": {
     "delete_cmd_postfix": ") ",
     "delete_cmd_prefix": "rm(",
     "library": "var_list.r",
     "varRefreshCmd": "cat(var_dic_list()) "
    }
   },
   "types_to_exclude": [
    "module",
    "function",
    "builtin_function_or_method",
    "instance",
    "_Feature"
   ],
   "window_display": false
  }
 },
 "nbformat": 4,
 "nbformat_minor": 4
}

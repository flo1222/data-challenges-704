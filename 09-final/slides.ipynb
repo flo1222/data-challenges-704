{
 "cells": [
  {
   "cell_type": "markdown",
   "metadata": {},
   "source": [
    "jupyter nbconvert --to slides --post serve <your_notebook.ipynb>"
   ]
  },
  {
   "cell_type": "markdown",
   "metadata": {
    "slideshow": {
     "slide_type": "slide"
    }
   },
   "source": [
    "## **1. Le problème**"
   ]
  },
  {
   "cell_type": "markdown",
   "metadata": {
    "slideshow": {
     "slide_type": "subslide"
    }
   },
   "source": [
    " 🤖 Starts-ups deeptech: un enjeu pour la BPI (Banque Publique d'Investissement)\n",
    "\n",
    "<table class=\"center\"><tr>\n",
    "<td><img src ='https://xo6kv.mjt.lu/tplimg/xo6kv/b/x8mk3/gwmis.jpeg' class=\"center\" style=\"width: 375px\"></td></tr>\n",
    "<table class=\"center\">\n",
    "    <tr>\n",
    "        <td> <img src ='images/exotec.PNG' alt=\"Drawing\" style=\"width: 450px;\"/> </td>\n",
    "        <td> <img src ='images/antaios.PNG' alt=\"Drawing\" style=\"width: 450px;\"/> </td>\n",
    "    </tr>\n",
    "</table>"
   ]
  },
  {
   "cell_type": "markdown",
   "metadata": {
    "slideshow": {
     "slide_type": "subslide"
    }
   },
   "source": [
    "💡 **Projet du batch précédent**: outil et app de labellisation des deeptechs 💡  \n",
    "*(By: Nicolas Tournaud (BPI), **Alexandre Huet (aka meme master)**, Antoine Planchon, Nicolas Rousselet)*  \n",
    "<a href =\"http://bpi-streamlit.herokuapp.com/\">http://bpi-streamlit.herokuapp.com/</a>\n",
    "\n",
    "+ Nombre de deeptechs connues en France: 1300 environ (sous-estimation).\n",
    "+ Nombre prédit par le deeptech predictor en prédit: **1300**!  👏  "
   ]
  },
  {
   "cell_type": "markdown",
   "metadata": {
    "slideshow": {
     "slide_type": "subslide"
    }
   },
   "source": [
    "**Taux de vrais positifs: 75%** 👏👏👏 (25% de FP et 25% de FN).   \n",
    "Peut-on améliorer l'outil?  💪  \n",
    "<table class=\"center\">\n",
    "    <tr>\n",
    "        <td> <img src ='https://i.imgur.com/QK38oQ3.png'  style=\"width: 300px;\"/> </td>\n",
    "        <td> <img src ='images/carbon waters.PNG'  style=\"width: 300px;\"/> </td>\n",
    "        <td> <img src ='images/mc phy.PNG' style=\"width: 300px;\"/> </td>\n",
    "    </tr>\n",
    "</table>\n",
    "\n",
    "Projet proposé: **développer de nouvelles dimensions de scoring**."
   ]
  },
  {
   "cell_type": "markdown",
   "metadata": {},
   "source": [
    "[Imgur](https://imgur.com/QK38oQ3)"
   ]
  },
  {
   "cell_type": "markdown",
   "metadata": {
    "slideshow": {
     "slide_type": "slide"
    }
   },
   "source": [
    "## 3. La dimension \"description\""
   ]
  },
  {
   "cell_type": "markdown",
   "metadata": {
    "slideshow": {
     "slide_type": "subslide"
    }
   },
   "source": [
    "+ Data: Scraping de sites Internet d'entreprises, LinkedIn, articles de news.\n",
    "+ Méthode: NLP et métrique \"keywords\"\n",
    "+ Objectif: générer  une banque de mots-clé et utiliser pour un prédicteur\n",
    "\n",
    "\n",
    "\n",
    "\n",
    "*Par exemple: Carbon Waters, extrait de leur site internet.*\n",
    "\n",
    "Carbon Waters creates an **innovative** form of **graphene**. Our **unique** graphene dispersion **technology** enables **industry** to develop materials with enhanced and controlled performance. Carbon Waters offers its customers **industry-based** developments to optimize product performance through specific integration of **graphene** dispersion. Protected by three **patents**, this **disruptive innovation** is the result of 10 years of **R&D** efforts at the **CNRS** (the French National Center for Scientific Research) brought to the **industry** by Carbon Waters. Created in 2017 and based in Pessac, France, Carbon Waters now has strong financial backing from both public and private **investors**."
   ]
  },
  {
   "cell_type": "markdown",
   "metadata": {
    "slideshow": {
     "slide_type": "skip"
    }
   },
   "source": [
    "Le challenge des description:\n",
    "+ Les deeptechs sont généralement associées à des mots clé, par exemple: rupture, technologie, croissance, industrialisation, innovant, et certains noms de technologies de pointe (deep learning, quantum computing etc...).\n",
    "+ Effectuer du NLP sur la description d'un pool d'entreprise (LinkedIn, site internet, articles de presse) peut faire ressortir ces mots.\n",
    "+ Risques de faux positifs (notamment entreprise se revendiquant \"deeptech\" sans satisfaire à la définition.\n"
   ]
  },
  {
   "cell_type": "markdown",
   "metadata": {
    "slideshow": {
     "slide_type": "slide"
    }
   },
   "source": [
    "## 4. La dimension brevet/IP"
   ]
  },
  {
   "cell_type": "markdown",
   "metadata": {
    "slideshow": {
     "slide_type": "subslide"
    }
   },
   "source": [
    "+ Data: APIs (Google Patents, European Patent Office)\n",
    "+ Méthode: feature engineering (ex: #brevets/effectifs?) et modèle de régression.\n",
    "+ Objectif: trouver des marqueurs deeptechs.\n",
    "\n",
    "*Par exemple: Flying Whales,  6 brevets (launch 2012, 120 employés)*\n",
    "\n",
    "<img src ='images/flying_whales_patent.PNG' width=\"500\" height=\"600\">"
   ]
  },
  {
   "cell_type": "markdown",
   "metadata": {
    "hide_input": true,
    "slideshow": {
     "slide_type": "skip"
    }
   },
   "source": [
    "Le challenge des brevets:\n",
    "+ certaines entreprises n'ont pas les brevets à leur nom, ex: carbon waters qui exploite des brevets cnrs. Mais en soit juste les brevets devraient nous permettre de prédir une deeptech. Les marqueurs: nombre de brevet sur chiffre d'affaire, trajectoire de dépôt (récente), partenariat cnrs dans les brevets, NLP sur les titres. Attention, potentiellement absent pour les jeunes pousses très récentes. \n",
    "+ c'est une de mes spécialités :)\n",
    "+ il faudra chercher les brevets des founders et trouver commment trouver l'info sur la license. \n"
   ]
  }
 ],
 "metadata": {
  "celltoolbar": "Diaporama",
  "kernelspec": {
   "display_name": "Python 3",
   "language": "python",
   "name": "python3"
  },
  "language_info": {
   "codemirror_mode": {
    "name": "ipython",
    "version": 3
   },
   "file_extension": ".py",
   "mimetype": "text/x-python",
   "name": "python",
   "nbconvert_exporter": "python",
   "pygments_lexer": "ipython3",
   "version": "3.8.5"
  },
  "toc": {
   "base_numbering": 1,
   "nav_menu": {},
   "number_sections": false,
   "sideBar": true,
   "skip_h1_title": false,
   "title_cell": "Table of Contents",
   "title_sidebar": "Contents",
   "toc_cell": false,
   "toc_position": {},
   "toc_section_display": true,
   "toc_window_display": true
  },
  "varInspector": {
   "cols": {
    "lenName": 16,
    "lenType": 16,
    "lenVar": 40
   },
   "kernels_config": {
    "python": {
     "delete_cmd_postfix": "",
     "delete_cmd_prefix": "del ",
     "library": "var_list.py",
     "varRefreshCmd": "print(var_dic_list())"
    },
    "r": {
     "delete_cmd_postfix": ") ",
     "delete_cmd_prefix": "rm(",
     "library": "var_list.r",
     "varRefreshCmd": "cat(var_dic_list()) "
    }
   },
   "types_to_exclude": [
    "module",
    "function",
    "builtin_function_or_method",
    "instance",
    "_Feature"
   ],
   "window_display": false
  }
 },
 "nbformat": 4,
 "nbformat_minor": 4
}

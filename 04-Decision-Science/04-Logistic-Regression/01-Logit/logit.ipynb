{
 "cells": [
  {
   "cell_type": "markdown",
   "metadata": {},
   "source": [
    "# Logit Orders - A warm-up challenge (~1h)"
   ]
  },
  {
   "cell_type": "markdown",
   "metadata": {},
   "source": [
    "Using our `orders` training_set, we will run two multivariate logistic regressions (`logit_one` and `logit_five`) to predict `dim_is_five_star` (and `dim_is_one_star`respectively)"
   ]
  },
  {
   "cell_type": "code",
   "execution_count": 7,
   "metadata": {},
   "outputs": [],
   "source": [
    "import pandas as pd\n",
    "import seaborn as sns\n",
    "import statsmodels.api as sm\n",
    "import statsmodels.formula.api as smf\n",
    "import matplotlib.pyplot as plt"
   ]
  },
  {
   "cell_type": "markdown",
   "metadata": {},
   "source": [
    "❓ Import your dataset"
   ]
  },
  {
   "cell_type": "code",
   "execution_count": 32,
   "metadata": {},
   "outputs": [],
   "source": [
    "from olist.data import Olist\n",
    "from olist.seller import Seller, Order\n",
    "orders = Order().get_training_data()"
   ]
  },
  {
   "cell_type": "code",
   "execution_count": 34,
   "metadata": {},
   "outputs": [
    {
     "data": {
      "text/plain": [
       "Index(['order_id', 'wait_time', 'expected_wait_time', 'delay_vs_expected',\n",
       "       'order_status', 'dim_is_five_star', 'dim_is_one_star', 'review_score',\n",
       "       'number_of_products', 'number_of_sellers', 'price', 'freight_value'],\n",
       "      dtype='object')"
      ]
     },
     "execution_count": 34,
     "metadata": {},
     "output_type": "execute_result"
    }
   ],
   "source": [
    "orders.columns\n",
    "# data.shape"
   ]
  },
  {
   "cell_type": "markdown",
   "metadata": {},
   "source": [
    "❓ Create a list with the features you want to use (avoid data-leaks)"
   ]
  },
  {
   "cell_type": "code",
   "execution_count": 35,
   "metadata": {},
   "outputs": [],
   "source": [
    "features = ['wait_time', 'expected_wait_time', 'number_of_products', 'price', 'freight_value']"
   ]
  },
  {
   "cell_type": "markdown",
   "metadata": {},
   "source": [
    "❓ Check multi-colinearity of your feature, using the `VIF index`. It shouldn't be too high (< 10 preferably) so as to trust the partial regression coefficent and their associated `p-values` "
   ]
  },
  {
   "cell_type": "code",
   "execution_count": 36,
   "metadata": {
    "scrolled": false
   },
   "outputs": [
    {
     "data": {
      "text/html": [
       "<div>\n",
       "<style scoped>\n",
       "    .dataframe tbody tr th:only-of-type {\n",
       "        vertical-align: middle;\n",
       "    }\n",
       "\n",
       "    .dataframe tbody tr th {\n",
       "        vertical-align: top;\n",
       "    }\n",
       "\n",
       "    .dataframe thead th {\n",
       "        text-align: right;\n",
       "    }\n",
       "</style>\n",
       "<table border=\"1\" class=\"dataframe\">\n",
       "  <thead>\n",
       "    <tr style=\"text-align: right;\">\n",
       "      <th></th>\n",
       "      <th>vif_index</th>\n",
       "      <th>features</th>\n",
       "    </tr>\n",
       "  </thead>\n",
       "  <tbody>\n",
       "    <tr>\n",
       "      <th>0</th>\n",
       "      <td>3.200850</td>\n",
       "      <td>wait_time</td>\n",
       "    </tr>\n",
       "    <tr>\n",
       "      <th>1</th>\n",
       "      <td>5.722460</td>\n",
       "      <td>expected_wait_time</td>\n",
       "    </tr>\n",
       "    <tr>\n",
       "      <th>2</th>\n",
       "      <td>4.517835</td>\n",
       "      <td>number_of_products</td>\n",
       "    </tr>\n",
       "    <tr>\n",
       "      <th>3</th>\n",
       "      <td>1.706016</td>\n",
       "      <td>price</td>\n",
       "    </tr>\n",
       "    <tr>\n",
       "      <th>4</th>\n",
       "      <td>3.205882</td>\n",
       "      <td>freight_value</td>\n",
       "    </tr>\n",
       "  </tbody>\n",
       "</table>\n",
       "</div>"
      ],
      "text/plain": [
       "   vif_index            features\n",
       "0   3.200850           wait_time\n",
       "1   5.722460  expected_wait_time\n",
       "2   4.517835  number_of_products\n",
       "3   1.706016               price\n",
       "4   3.205882       freight_value"
      ]
     },
     "execution_count": 36,
     "metadata": {},
     "output_type": "execute_result"
    }
   ],
   "source": [
    "from statsmodels.stats.outliers_influence import variance_inflation_factor as vif\n",
    "df = pd.DataFrame()\n",
    "data_features = orders[features]\n",
    "df[\"vif_index\"] = [vif(data_features.values, i) for i in range(data_features.shape[1])]\n",
    "df[\"features\"] = data_features.columns\n",
    "df"
   ]
  },
  {
   "cell_type": "markdown",
   "metadata": {},
   "source": [
    "❓ Fit two LOGIT models  `logit_one` and `logit_five` to predict `dim_is_five_star` (and `dim_is_one_star` respectively)"
   ]
  },
  {
   "cell_type": "code",
   "execution_count": 44,
   "metadata": {},
   "outputs": [],
   "source": [
    "def standardize(df, features):\n",
    "    df_standardized = df.copy()\n",
    "    for f in features:\n",
    "        mu = df[f].mean()\n",
    "        sigma = df[f].std()\n",
    "        df_standardized[f] = df[f].map(lambda x: (x - mu) / sigma)\n",
    "    return df_standardized"
   ]
  },
  {
   "cell_type": "code",
   "execution_count": 47,
   "metadata": {},
   "outputs": [],
   "source": [
    "orders_std = standardize(orders, features)\n",
    "# orders_std"
   ]
  },
  {
   "cell_type": "code",
   "execution_count": 48,
   "metadata": {},
   "outputs": [
    {
     "name": "stdout",
     "output_type": "stream",
     "text": [
      "Optimization terminated successfully.\n",
      "         Current function value: 0.282039\n",
      "         Iterations 7\n"
     ]
    },
    {
     "data": {
      "text/html": [
       "<table class=\"simpletable\">\n",
       "<caption>Logit Regression Results</caption>\n",
       "<tr>\n",
       "  <th>Dep. Variable:</th>    <td>dim_is_one_star</td> <th>  No. Observations:  </th>  <td> 97007</td> \n",
       "</tr>\n",
       "<tr>\n",
       "  <th>Model:</th>                 <td>Logit</td>      <th>  Df Residuals:      </th>  <td> 97001</td> \n",
       "</tr>\n",
       "<tr>\n",
       "  <th>Method:</th>                 <td>MLE</td>       <th>  Df Model:          </th>  <td>     5</td> \n",
       "</tr>\n",
       "<tr>\n",
       "  <th>Date:</th>            <td>Thu, 29 Oct 2020</td> <th>  Pseudo R-squ.:     </th>  <td>0.1356</td> \n",
       "</tr>\n",
       "<tr>\n",
       "  <th>Time:</th>                <td>12:55:48</td>     <th>  Log-Likelihood:    </th> <td> -27360.</td>\n",
       "</tr>\n",
       "<tr>\n",
       "  <th>converged:</th>             <td>True</td>       <th>  LL-Null:           </th> <td> -31650.</td>\n",
       "</tr>\n",
       "<tr>\n",
       "  <th>Covariance Type:</th>     <td>nonrobust</td>    <th>  LLR p-value:       </th>  <td> 0.000</td> \n",
       "</tr>\n",
       "</table>\n",
       "<table class=\"simpletable\">\n",
       "<tr>\n",
       "           <td></td>             <th>coef</th>     <th>std err</th>      <th>z</th>      <th>P>|z|</th>  <th>[0.025</th>    <th>0.975]</th>  \n",
       "</tr>\n",
       "<tr>\n",
       "  <th>Intercept</th>          <td>   -2.4455</td> <td>    0.013</td> <td> -194.482</td> <td> 0.000</td> <td>   -2.470</td> <td>   -2.421</td>\n",
       "</tr>\n",
       "<tr>\n",
       "  <th>wait_time</th>          <td>    0.8949</td> <td>    0.011</td> <td>   79.220</td> <td> 0.000</td> <td>    0.873</td> <td>    0.917</td>\n",
       "</tr>\n",
       "<tr>\n",
       "  <th>expected_wait_time</th> <td>   -0.2958</td> <td>    0.014</td> <td>  -21.682</td> <td> 0.000</td> <td>   -0.323</td> <td>   -0.269</td>\n",
       "</tr>\n",
       "<tr>\n",
       "  <th>number_of_products</th> <td>    0.3236</td> <td>    0.010</td> <td>   32.079</td> <td> 0.000</td> <td>    0.304</td> <td>    0.343</td>\n",
       "</tr>\n",
       "<tr>\n",
       "  <th>price</th>              <td>    0.0602</td> <td>    0.011</td> <td>    5.467</td> <td> 0.000</td> <td>    0.039</td> <td>    0.082</td>\n",
       "</tr>\n",
       "<tr>\n",
       "  <th>freight_value</th>      <td>   -0.0441</td> <td>    0.013</td> <td>   -3.429</td> <td> 0.001</td> <td>   -0.069</td> <td>   -0.019</td>\n",
       "</tr>\n",
       "</table>"
      ],
      "text/plain": [
       "<class 'statsmodels.iolib.summary.Summary'>\n",
       "\"\"\"\n",
       "                           Logit Regression Results                           \n",
       "==============================================================================\n",
       "Dep. Variable:        dim_is_one_star   No. Observations:                97007\n",
       "Model:                          Logit   Df Residuals:                    97001\n",
       "Method:                           MLE   Df Model:                            5\n",
       "Date:                Thu, 29 Oct 2020   Pseudo R-squ.:                  0.1356\n",
       "Time:                        12:55:48   Log-Likelihood:                -27360.\n",
       "converged:                       True   LL-Null:                       -31650.\n",
       "Covariance Type:            nonrobust   LLR p-value:                     0.000\n",
       "======================================================================================\n",
       "                         coef    std err          z      P>|z|      [0.025      0.975]\n",
       "--------------------------------------------------------------------------------------\n",
       "Intercept             -2.4455      0.013   -194.482      0.000      -2.470      -2.421\n",
       "wait_time              0.8949      0.011     79.220      0.000       0.873       0.917\n",
       "expected_wait_time    -0.2958      0.014    -21.682      0.000      -0.323      -0.269\n",
       "number_of_products     0.3236      0.010     32.079      0.000       0.304       0.343\n",
       "price                  0.0602      0.011      5.467      0.000       0.039       0.082\n",
       "freight_value         -0.0441      0.013     -3.429      0.001      -0.069      -0.019\n",
       "======================================================================================\n",
       "\"\"\""
      ]
     },
     "execution_count": 48,
     "metadata": {},
     "output_type": "execute_result"
    }
   ],
   "source": [
    "logit_one = smf.logit(formula='dim_is_one_star ~ wait_time + expected_wait_time +\\\n",
    "    number_of_products + price + freight_value', data=orders_std).fit();\n",
    "logit_one.summary()"
   ]
  },
  {
   "cell_type": "code",
   "execution_count": 49,
   "metadata": {},
   "outputs": [
    {
     "name": "stdout",
     "output_type": "stream",
     "text": [
      "Optimization terminated successfully.\n",
      "         Current function value: 0.641176\n",
      "         Iterations 5\n"
     ]
    },
    {
     "data": {
      "text/html": [
       "<table class=\"simpletable\">\n",
       "<caption>Logit Regression Results</caption>\n",
       "<tr>\n",
       "  <th>Dep. Variable:</th>   <td>dim_is_five_star</td> <th>  No. Observations:  </th>  <td> 97007</td> \n",
       "</tr>\n",
       "<tr>\n",
       "  <th>Model:</th>                 <td>Logit</td>      <th>  Df Residuals:      </th>  <td> 97001</td> \n",
       "</tr>\n",
       "<tr>\n",
       "  <th>Method:</th>                 <td>MLE</td>       <th>  Df Model:          </th>  <td>     5</td> \n",
       "</tr>\n",
       "<tr>\n",
       "  <th>Date:</th>            <td>Thu, 29 Oct 2020</td> <th>  Pseudo R-squ.:     </th>  <td>0.05319</td>\n",
       "</tr>\n",
       "<tr>\n",
       "  <th>Time:</th>                <td>12:55:58</td>     <th>  Log-Likelihood:    </th> <td> -62199.</td>\n",
       "</tr>\n",
       "<tr>\n",
       "  <th>converged:</th>             <td>True</td>       <th>  LL-Null:           </th> <td> -65693.</td>\n",
       "</tr>\n",
       "<tr>\n",
       "  <th>Covariance Type:</th>     <td>nonrobust</td>    <th>  LLR p-value:       </th>  <td> 0.000</td> \n",
       "</tr>\n",
       "</table>\n",
       "<table class=\"simpletable\">\n",
       "<tr>\n",
       "           <td></td>             <th>coef</th>     <th>std err</th>      <th>z</th>      <th>P>|z|</th>  <th>[0.025</th>    <th>0.975]</th>  \n",
       "</tr>\n",
       "<tr>\n",
       "  <th>Intercept</th>          <td>    0.3562</td> <td>    0.007</td> <td>   52.583</td> <td> 0.000</td> <td>    0.343</td> <td>    0.369</td>\n",
       "</tr>\n",
       "<tr>\n",
       "  <th>wait_time</th>          <td>   -0.6696</td> <td>    0.009</td> <td>  -70.551</td> <td> 0.000</td> <td>   -0.688</td> <td>   -0.651</td>\n",
       "</tr>\n",
       "<tr>\n",
       "  <th>expected_wait_time</th> <td>    0.1436</td> <td>    0.008</td> <td>   18.348</td> <td> 0.000</td> <td>    0.128</td> <td>    0.159</td>\n",
       "</tr>\n",
       "<tr>\n",
       "  <th>number_of_products</th> <td>   -0.1953</td> <td>    0.008</td> <td>  -23.797</td> <td> 0.000</td> <td>   -0.211</td> <td>   -0.179</td>\n",
       "</tr>\n",
       "<tr>\n",
       "  <th>price</th>              <td>    0.0128</td> <td>    0.008</td> <td>    1.687</td> <td> 0.092</td> <td>   -0.002</td> <td>    0.028</td>\n",
       "</tr>\n",
       "<tr>\n",
       "  <th>freight_value</th>      <td>    0.0242</td> <td>    0.009</td> <td>    2.802</td> <td> 0.005</td> <td>    0.007</td> <td>    0.041</td>\n",
       "</tr>\n",
       "</table>"
      ],
      "text/plain": [
       "<class 'statsmodels.iolib.summary.Summary'>\n",
       "\"\"\"\n",
       "                           Logit Regression Results                           \n",
       "==============================================================================\n",
       "Dep. Variable:       dim_is_five_star   No. Observations:                97007\n",
       "Model:                          Logit   Df Residuals:                    97001\n",
       "Method:                           MLE   Df Model:                            5\n",
       "Date:                Thu, 29 Oct 2020   Pseudo R-squ.:                 0.05319\n",
       "Time:                        12:55:58   Log-Likelihood:                -62199.\n",
       "converged:                       True   LL-Null:                       -65693.\n",
       "Covariance Type:            nonrobust   LLR p-value:                     0.000\n",
       "======================================================================================\n",
       "                         coef    std err          z      P>|z|      [0.025      0.975]\n",
       "--------------------------------------------------------------------------------------\n",
       "Intercept              0.3562      0.007     52.583      0.000       0.343       0.369\n",
       "wait_time             -0.6696      0.009    -70.551      0.000      -0.688      -0.651\n",
       "expected_wait_time     0.1436      0.008     18.348      0.000       0.128       0.159\n",
       "number_of_products    -0.1953      0.008    -23.797      0.000      -0.211      -0.179\n",
       "price                  0.0128      0.008      1.687      0.092      -0.002       0.028\n",
       "freight_value          0.0242      0.009      2.802      0.005       0.007       0.041\n",
       "======================================================================================\n",
       "\"\"\""
      ]
     },
     "execution_count": 49,
     "metadata": {},
     "output_type": "execute_result"
    }
   ],
   "source": [
    "logit_one = smf.logit(formula='dim_is_five_star ~ wait_time + expected_wait_time +\\\n",
    "    number_of_products + price + freight_value', data=orders_std).fit();\n",
    "logit_one.summary()"
   ]
  },
  {
   "cell_type": "markdown",
   "metadata": {},
   "source": [
    "❓Interpret your results:\n",
    "\n",
    "- Interpret the partial coefficients in your own words.\n",
    "\n",
    "- Do you notice any differences between `logit_one` and `logit_five` in terms of coefficient importance? \n",
    "\n",
    "- Check their statistical significance with `p-values`"
   ]
  },
  {
   "cell_type": "code",
   "execution_count": null,
   "metadata": {},
   "outputs": [],
   "source": []
  },
  {
   "cell_type": "markdown",
   "metadata": {},
   "source": [
    "☝️ It seems that `wait_time` influences `one_star` ratings even more more than `five_star`"
   ]
  },
  {
   "cell_type": "markdown",
   "metadata": {},
   "source": [
    "❓ How does these regression coefficients compare with an OLS on `review_score` with the same features? Double check that both OLS and Logit analysis tell approximatively \"the same story\"."
   ]
  },
  {
   "cell_type": "code",
   "execution_count": 50,
   "metadata": {},
   "outputs": [
    {
     "data": {
      "text/html": [
       "<table class=\"simpletable\">\n",
       "<caption>OLS Regression Results</caption>\n",
       "<tr>\n",
       "  <th>Dep. Variable:</th>      <td>review_score</td>   <th>  R-squared:         </th>  <td>   0.137</td>  \n",
       "</tr>\n",
       "<tr>\n",
       "  <th>Model:</th>                   <td>OLS</td>       <th>  Adj. R-squared:    </th>  <td>   0.137</td>  \n",
       "</tr>\n",
       "<tr>\n",
       "  <th>Method:</th>             <td>Least Squares</td>  <th>  F-statistic:       </th>  <td>   3072.</td>  \n",
       "</tr>\n",
       "<tr>\n",
       "  <th>Date:</th>             <td>Thu, 29 Oct 2020</td> <th>  Prob (F-statistic):</th>   <td>  0.00</td>   \n",
       "</tr>\n",
       "<tr>\n",
       "  <th>Time:</th>                 <td>12:56:05</td>     <th>  Log-Likelihood:    </th> <td>-1.5571e+05</td>\n",
       "</tr>\n",
       "<tr>\n",
       "  <th>No. Observations:</th>      <td> 97007</td>      <th>  AIC:               </th>  <td>3.114e+05</td> \n",
       "</tr>\n",
       "<tr>\n",
       "  <th>Df Residuals:</th>          <td> 97001</td>      <th>  BIC:               </th>  <td>3.115e+05</td> \n",
       "</tr>\n",
       "<tr>\n",
       "  <th>Df Model:</th>              <td>     5</td>      <th>                     </th>      <td> </td>     \n",
       "</tr>\n",
       "<tr>\n",
       "  <th>Covariance Type:</th>      <td>nonrobust</td>    <th>                     </th>      <td> </td>     \n",
       "</tr>\n",
       "</table>\n",
       "<table class=\"simpletable\">\n",
       "<tr>\n",
       "           <td></td>             <th>coef</th>     <th>std err</th>      <th>t</th>      <th>P>|t|</th>  <th>[0.025</th>    <th>0.975]</th>  \n",
       "</tr>\n",
       "<tr>\n",
       "  <th>Intercept</th>          <td>    4.1422</td> <td>    0.004</td> <td> 1070.917</td> <td> 0.000</td> <td>    4.135</td> <td>    4.150</td>\n",
       "</tr>\n",
       "<tr>\n",
       "  <th>wait_time</th>          <td>   -0.4851</td> <td>    0.004</td> <td> -115.102</td> <td> 0.000</td> <td>   -0.493</td> <td>   -0.477</td>\n",
       "</tr>\n",
       "<tr>\n",
       "  <th>expected_wait_time</th> <td>    0.1178</td> <td>    0.004</td> <td>   27.533</td> <td> 0.000</td> <td>    0.109</td> <td>    0.126</td>\n",
       "</tr>\n",
       "<tr>\n",
       "  <th>number_of_products</th> <td>   -0.1788</td> <td>    0.004</td> <td>  -41.146</td> <td> 0.000</td> <td>   -0.187</td> <td>   -0.170</td>\n",
       "</tr>\n",
       "<tr>\n",
       "  <th>price</th>              <td>   -0.0082</td> <td>    0.004</td> <td>   -1.922</td> <td> 0.055</td> <td>   -0.016</td> <td>    0.000</td>\n",
       "</tr>\n",
       "<tr>\n",
       "  <th>freight_value</th>      <td>    0.0168</td> <td>    0.005</td> <td>    3.461</td> <td> 0.001</td> <td>    0.007</td> <td>    0.026</td>\n",
       "</tr>\n",
       "</table>\n",
       "<table class=\"simpletable\">\n",
       "<tr>\n",
       "  <th>Omnibus:</th>       <td>18340.248</td> <th>  Durbin-Watson:     </th> <td>   2.008</td> \n",
       "</tr>\n",
       "<tr>\n",
       "  <th>Prob(Omnibus):</th>  <td> 0.000</td>   <th>  Jarque-Bera (JB):  </th> <td>33285.636</td>\n",
       "</tr>\n",
       "<tr>\n",
       "  <th>Skew:</th>           <td>-1.200</td>   <th>  Prob(JB):          </th> <td>    0.00</td> \n",
       "</tr>\n",
       "<tr>\n",
       "  <th>Kurtosis:</th>       <td> 4.574</td>   <th>  Cond. No.          </th> <td>    2.05</td> \n",
       "</tr>\n",
       "</table><br/><br/>Notes:<br/>[1] Standard Errors assume that the covariance matrix of the errors is correctly specified."
      ],
      "text/plain": [
       "<class 'statsmodels.iolib.summary.Summary'>\n",
       "\"\"\"\n",
       "                            OLS Regression Results                            \n",
       "==============================================================================\n",
       "Dep. Variable:           review_score   R-squared:                       0.137\n",
       "Model:                            OLS   Adj. R-squared:                  0.137\n",
       "Method:                 Least Squares   F-statistic:                     3072.\n",
       "Date:                Thu, 29 Oct 2020   Prob (F-statistic):               0.00\n",
       "Time:                        12:56:05   Log-Likelihood:            -1.5571e+05\n",
       "No. Observations:               97007   AIC:                         3.114e+05\n",
       "Df Residuals:                   97001   BIC:                         3.115e+05\n",
       "Df Model:                           5                                         \n",
       "Covariance Type:            nonrobust                                         \n",
       "======================================================================================\n",
       "                         coef    std err          t      P>|t|      [0.025      0.975]\n",
       "--------------------------------------------------------------------------------------\n",
       "Intercept              4.1422      0.004   1070.917      0.000       4.135       4.150\n",
       "wait_time             -0.4851      0.004   -115.102      0.000      -0.493      -0.477\n",
       "expected_wait_time     0.1178      0.004     27.533      0.000       0.109       0.126\n",
       "number_of_products    -0.1788      0.004    -41.146      0.000      -0.187      -0.170\n",
       "price                 -0.0082      0.004     -1.922      0.055      -0.016       0.000\n",
       "freight_value          0.0168      0.005      3.461      0.001       0.007       0.026\n",
       "==============================================================================\n",
       "Omnibus:                    18340.248   Durbin-Watson:                   2.008\n",
       "Prob(Omnibus):                  0.000   Jarque-Bera (JB):            33285.636\n",
       "Skew:                          -1.200   Prob(JB):                         0.00\n",
       "Kurtosis:                       4.574   Cond. No.                         2.05\n",
       "==============================================================================\n",
       "\n",
       "Notes:\n",
       "[1] Standard Errors assume that the covariance matrix of the errors is correctly specified.\n",
       "\"\"\""
      ]
     },
     "execution_count": 50,
     "metadata": {},
     "output_type": "execute_result"
    }
   ],
   "source": [
    "model_linear = smf.ols(formula = 'review_score ~ wait_time + expected_wait_time +\\\n",
    "    number_of_products + price + freight_value', data=orders_std).fit()\n",
    "model_linear.summary()"
   ]
  },
  {
   "cell_type": "code",
   "execution_count": null,
   "metadata": {},
   "outputs": [],
   "source": []
  }
 ],
 "metadata": {
  "kernelspec": {
   "display_name": "Python 3",
   "language": "python",
   "name": "python3"
  },
  "language_info": {
   "codemirror_mode": {
    "name": "ipython",
    "version": 3
   },
   "file_extension": ".py",
   "mimetype": "text/x-python",
   "name": "python",
   "nbconvert_exporter": "python",
   "pygments_lexer": "ipython3",
   "version": "3.8.5"
  },
  "toc": {
   "base_numbering": 1,
   "nav_menu": {},
   "number_sections": false,
   "sideBar": true,
   "skip_h1_title": false,
   "title_cell": "Table of Contents",
   "title_sidebar": "Contents",
   "toc_cell": false,
   "toc_position": {},
   "toc_section_display": true,
   "toc_window_display": false
  },
  "varInspector": {
   "cols": {
    "lenName": 16,
    "lenType": 16,
    "lenVar": 40
   },
   "kernels_config": {
    "python": {
     "delete_cmd_postfix": "",
     "delete_cmd_prefix": "del ",
     "library": "var_list.py",
     "varRefreshCmd": "print(var_dic_list())"
    },
    "r": {
     "delete_cmd_postfix": ") ",
     "delete_cmd_prefix": "rm(",
     "library": "var_list.r",
     "varRefreshCmd": "cat(var_dic_list()) "
    }
   },
   "types_to_exclude": [
    "module",
    "function",
    "builtin_function_or_method",
    "instance",
    "_Feature"
   ],
   "window_display": false
  }
 },
 "nbformat": 4,
 "nbformat_minor": 4
}

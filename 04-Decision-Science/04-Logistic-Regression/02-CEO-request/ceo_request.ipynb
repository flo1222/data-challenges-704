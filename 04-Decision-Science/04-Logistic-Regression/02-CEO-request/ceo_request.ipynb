{
 "cells": [
  {
   "cell_type": "markdown",
   "metadata": {},
   "source": [
    "# CEO-REQUEST CHALLENGE"
   ]
  },
  {
   "cell_type": "markdown",
   "metadata": {},
   "source": [
    "> Should Olist remove underperforming sellers from its marketplace?"
   ]
  },
  {
   "cell_type": "markdown",
   "metadata": {},
   "source": [
    "## Problem statement"
   ]
  },
  {
   "cell_type": "markdown",
   "metadata": {},
   "source": [
    "To analyse the impact of removing the worse sellers from the marketplace, we can start with a what-if analysis: What would have happened if Olist had never accepted these sellers in the past ? For that:\n",
    "\n",
    "Step ① Compute, for each `seller_id`, and cumulated since the beginning:\n",
    "- The `revenues` it brings\n",
    "- The `costs` associated with all its bad reviews\n",
    "- The resulting `profits` (revenues - costs)\n",
    "- The number of `orders` (it will impact overall IT costs)\n",
    "\n",
    "\n",
    "Step ② We can then sort sellers by increasing profits for Olist, and for each number of seller to remove, compute the financial impact it would have made had they never been accepted on the platform. We may find an optimal number of seller to remove that maximizes Olist's profit margin"
   ]
  },
  {
   "cell_type": "code",
   "execution_count": 6,
   "metadata": {},
   "outputs": [],
   "source": [
    "# Write down a detailed strategy (steps by step) to create the DataFrame you need for step (1)\n",
    "# Think about how to re-use or updated what logic you have already coded in your `olist` package"
   ]
  },
  {
   "cell_type": "markdown",
   "metadata": {},
   "source": [
    "Create a seller DF with the 4 features requested\n",
    "1. Compute revenues: -> create a series\n",
    "    composed of:\n",
    "        cut of 10% of price (or total payment?) -> yes, exludes freight -> alreadt a series\n",
    "        80 BRL/m/seller -> compute # of month between first and last -> create a series.\n",
    "2. Costs: composed of:\n",
    "    star penality -> do a complex aggregate with tailored function\n",
    "    IT : NOT INCLUDED HERE!\n",
    "3. Profits : easy substraction\n",
    "4. Number of orders : already available"
   ]
  },
  {
   "cell_type": "markdown",
   "metadata": {},
   "source": [
    "<details>\n",
    "    <summary>Hints</summary>\n",
    "\n",
    "\n",
    "Starting from your current `seller().get_training_data()` DataFrame:\n",
    "- Can you easily transform it to compute Olist's positive `revenue_per_seller`? \n",
    "- Can you easily transform it to compute Olist's `cost_of_bad_reviews`?\n",
    "\n",
    "❓Instead of starting again from scratch, investigate in your source code in `seller.py` how was computed the mean `review_score` per seller. Can you imagine a way to ammend your code so as to compute `cost_of_reviews` in the same process ? \n",
    "</details>\n"
   ]
  },
  {
   "cell_type": "markdown",
   "metadata": {},
   "source": [
    "## Your turn - step 1"
   ]
  },
  {
   "cell_type": "markdown",
   "metadata": {},
   "source": [
    "### Sellers revenue"
   ]
  },
  {
   "cell_type": "code",
   "execution_count": 11,
   "metadata": {},
   "outputs": [],
   "source": [
    "%load_ext autoreload\n",
    "%autoreload 2\n",
    "\n",
    "import pandas as pd\n",
    "import numpy as np \n",
    "import matplotlib.pyplot as plt\n",
    "import seaborn as sns\n",
    "import statsmodels.formula.api as smf"
   ]
  },
  {
   "cell_type": "code",
   "execution_count": 8,
   "metadata": {},
   "outputs": [],
   "source": [
    "from olist.data import Olist\n",
    "from olist.order import Order\n",
    "from olist.seller import Seller"
   ]
  },
  {
   "cell_type": "code",
   "execution_count": 16,
   "metadata": {},
   "outputs": [],
   "source": [
    "sellers = Seller().get_training_data()"
   ]
  },
  {
   "cell_type": "code",
   "execution_count": 320,
   "metadata": {},
   "outputs": [
    {
     "data": {
      "text/html": [
       "<div>\n",
       "<style scoped>\n",
       "    .dataframe tbody tr th:only-of-type {\n",
       "        vertical-align: middle;\n",
       "    }\n",
       "\n",
       "    .dataframe tbody tr th {\n",
       "        vertical-align: top;\n",
       "    }\n",
       "\n",
       "    .dataframe thead th {\n",
       "        text-align: right;\n",
       "    }\n",
       "</style>\n",
       "<table border=\"1\" class=\"dataframe\">\n",
       "  <thead>\n",
       "    <tr style=\"text-align: right;\">\n",
       "      <th></th>\n",
       "      <th>seller_id</th>\n",
       "      <th>seller_city</th>\n",
       "      <th>delay_to_carrier</th>\n",
       "      <th>wait_time</th>\n",
       "      <th>date_first_sale</th>\n",
       "      <th>date_last_sale</th>\n",
       "      <th>share_one_stars</th>\n",
       "      <th>share_of_five_stars</th>\n",
       "      <th>review_score</th>\n",
       "      <th>n_orders</th>\n",
       "      <th>quantity</th>\n",
       "      <th>sales</th>\n",
       "    </tr>\n",
       "    <tr>\n",
       "      <th>seller_state</th>\n",
       "      <th></th>\n",
       "      <th></th>\n",
       "      <th></th>\n",
       "      <th></th>\n",
       "      <th></th>\n",
       "      <th></th>\n",
       "      <th></th>\n",
       "      <th></th>\n",
       "      <th></th>\n",
       "      <th></th>\n",
       "      <th></th>\n",
       "      <th></th>\n",
       "    </tr>\n",
       "  </thead>\n",
       "  <tbody>\n",
       "    <tr>\n",
       "      <th>AM</th>\n",
       "      <td>1</td>\n",
       "      <td>1</td>\n",
       "      <td>1</td>\n",
       "      <td>1</td>\n",
       "      <td>1</td>\n",
       "      <td>1</td>\n",
       "      <td>1</td>\n",
       "      <td>1</td>\n",
       "      <td>1</td>\n",
       "      <td>1</td>\n",
       "      <td>1</td>\n",
       "      <td>1</td>\n",
       "    </tr>\n",
       "    <tr>\n",
       "      <th>BA</th>\n",
       "      <td>18</td>\n",
       "      <td>18</td>\n",
       "      <td>18</td>\n",
       "      <td>18</td>\n",
       "      <td>18</td>\n",
       "      <td>18</td>\n",
       "      <td>18</td>\n",
       "      <td>18</td>\n",
       "      <td>18</td>\n",
       "      <td>18</td>\n",
       "      <td>18</td>\n",
       "      <td>18</td>\n",
       "    </tr>\n",
       "    <tr>\n",
       "      <th>CE</th>\n",
       "      <td>12</td>\n",
       "      <td>12</td>\n",
       "      <td>12</td>\n",
       "      <td>12</td>\n",
       "      <td>12</td>\n",
       "      <td>12</td>\n",
       "      <td>12</td>\n",
       "      <td>12</td>\n",
       "      <td>12</td>\n",
       "      <td>12</td>\n",
       "      <td>12</td>\n",
       "      <td>12</td>\n",
       "    </tr>\n",
       "    <tr>\n",
       "      <th>DF</th>\n",
       "      <td>30</td>\n",
       "      <td>30</td>\n",
       "      <td>30</td>\n",
       "      <td>30</td>\n",
       "      <td>30</td>\n",
       "      <td>30</td>\n",
       "      <td>30</td>\n",
       "      <td>30</td>\n",
       "      <td>30</td>\n",
       "      <td>30</td>\n",
       "      <td>30</td>\n",
       "      <td>30</td>\n",
       "    </tr>\n",
       "    <tr>\n",
       "      <th>ES</th>\n",
       "      <td>22</td>\n",
       "      <td>22</td>\n",
       "      <td>22</td>\n",
       "      <td>22</td>\n",
       "      <td>22</td>\n",
       "      <td>22</td>\n",
       "      <td>22</td>\n",
       "      <td>22</td>\n",
       "      <td>22</td>\n",
       "      <td>22</td>\n",
       "      <td>22</td>\n",
       "      <td>22</td>\n",
       "    </tr>\n",
       "    <tr>\n",
       "      <th>GO</th>\n",
       "      <td>39</td>\n",
       "      <td>39</td>\n",
       "      <td>39</td>\n",
       "      <td>39</td>\n",
       "      <td>39</td>\n",
       "      <td>39</td>\n",
       "      <td>39</td>\n",
       "      <td>39</td>\n",
       "      <td>39</td>\n",
       "      <td>39</td>\n",
       "      <td>39</td>\n",
       "      <td>39</td>\n",
       "    </tr>\n",
       "    <tr>\n",
       "      <th>MA</th>\n",
       "      <td>1</td>\n",
       "      <td>1</td>\n",
       "      <td>1</td>\n",
       "      <td>1</td>\n",
       "      <td>1</td>\n",
       "      <td>1</td>\n",
       "      <td>1</td>\n",
       "      <td>1</td>\n",
       "      <td>1</td>\n",
       "      <td>1</td>\n",
       "      <td>1</td>\n",
       "      <td>1</td>\n",
       "    </tr>\n",
       "    <tr>\n",
       "      <th>MG</th>\n",
       "      <td>236</td>\n",
       "      <td>236</td>\n",
       "      <td>236</td>\n",
       "      <td>236</td>\n",
       "      <td>236</td>\n",
       "      <td>236</td>\n",
       "      <td>236</td>\n",
       "      <td>236</td>\n",
       "      <td>236</td>\n",
       "      <td>236</td>\n",
       "      <td>236</td>\n",
       "      <td>236</td>\n",
       "    </tr>\n",
       "    <tr>\n",
       "      <th>MS</th>\n",
       "      <td>5</td>\n",
       "      <td>5</td>\n",
       "      <td>5</td>\n",
       "      <td>5</td>\n",
       "      <td>5</td>\n",
       "      <td>5</td>\n",
       "      <td>5</td>\n",
       "      <td>5</td>\n",
       "      <td>5</td>\n",
       "      <td>5</td>\n",
       "      <td>5</td>\n",
       "      <td>5</td>\n",
       "    </tr>\n",
       "    <tr>\n",
       "      <th>MT</th>\n",
       "      <td>4</td>\n",
       "      <td>4</td>\n",
       "      <td>4</td>\n",
       "      <td>4</td>\n",
       "      <td>4</td>\n",
       "      <td>4</td>\n",
       "      <td>4</td>\n",
       "      <td>4</td>\n",
       "      <td>4</td>\n",
       "      <td>4</td>\n",
       "      <td>4</td>\n",
       "      <td>4</td>\n",
       "    </tr>\n",
       "    <tr>\n",
       "      <th>PA</th>\n",
       "      <td>1</td>\n",
       "      <td>1</td>\n",
       "      <td>1</td>\n",
       "      <td>1</td>\n",
       "      <td>1</td>\n",
       "      <td>1</td>\n",
       "      <td>1</td>\n",
       "      <td>1</td>\n",
       "      <td>1</td>\n",
       "      <td>1</td>\n",
       "      <td>1</td>\n",
       "      <td>1</td>\n",
       "    </tr>\n",
       "    <tr>\n",
       "      <th>PB</th>\n",
       "      <td>6</td>\n",
       "      <td>6</td>\n",
       "      <td>6</td>\n",
       "      <td>6</td>\n",
       "      <td>6</td>\n",
       "      <td>6</td>\n",
       "      <td>6</td>\n",
       "      <td>6</td>\n",
       "      <td>6</td>\n",
       "      <td>6</td>\n",
       "      <td>6</td>\n",
       "      <td>6</td>\n",
       "    </tr>\n",
       "    <tr>\n",
       "      <th>PE</th>\n",
       "      <td>9</td>\n",
       "      <td>9</td>\n",
       "      <td>9</td>\n",
       "      <td>9</td>\n",
       "      <td>9</td>\n",
       "      <td>9</td>\n",
       "      <td>9</td>\n",
       "      <td>9</td>\n",
       "      <td>9</td>\n",
       "      <td>9</td>\n",
       "      <td>9</td>\n",
       "      <td>9</td>\n",
       "    </tr>\n",
       "    <tr>\n",
       "      <th>PI</th>\n",
       "      <td>1</td>\n",
       "      <td>1</td>\n",
       "      <td>1</td>\n",
       "      <td>1</td>\n",
       "      <td>1</td>\n",
       "      <td>1</td>\n",
       "      <td>1</td>\n",
       "      <td>1</td>\n",
       "      <td>1</td>\n",
       "      <td>1</td>\n",
       "      <td>1</td>\n",
       "      <td>1</td>\n",
       "    </tr>\n",
       "    <tr>\n",
       "      <th>PR</th>\n",
       "      <td>335</td>\n",
       "      <td>335</td>\n",
       "      <td>335</td>\n",
       "      <td>335</td>\n",
       "      <td>335</td>\n",
       "      <td>335</td>\n",
       "      <td>335</td>\n",
       "      <td>335</td>\n",
       "      <td>335</td>\n",
       "      <td>335</td>\n",
       "      <td>335</td>\n",
       "      <td>335</td>\n",
       "    </tr>\n",
       "    <tr>\n",
       "      <th>RJ</th>\n",
       "      <td>163</td>\n",
       "      <td>163</td>\n",
       "      <td>163</td>\n",
       "      <td>163</td>\n",
       "      <td>163</td>\n",
       "      <td>163</td>\n",
       "      <td>163</td>\n",
       "      <td>163</td>\n",
       "      <td>163</td>\n",
       "      <td>163</td>\n",
       "      <td>163</td>\n",
       "      <td>163</td>\n",
       "    </tr>\n",
       "    <tr>\n",
       "      <th>RN</th>\n",
       "      <td>5</td>\n",
       "      <td>5</td>\n",
       "      <td>5</td>\n",
       "      <td>5</td>\n",
       "      <td>5</td>\n",
       "      <td>5</td>\n",
       "      <td>5</td>\n",
       "      <td>5</td>\n",
       "      <td>5</td>\n",
       "      <td>5</td>\n",
       "      <td>5</td>\n",
       "      <td>5</td>\n",
       "    </tr>\n",
       "    <tr>\n",
       "      <th>RO</th>\n",
       "      <td>2</td>\n",
       "      <td>2</td>\n",
       "      <td>2</td>\n",
       "      <td>2</td>\n",
       "      <td>2</td>\n",
       "      <td>2</td>\n",
       "      <td>2</td>\n",
       "      <td>2</td>\n",
       "      <td>2</td>\n",
       "      <td>2</td>\n",
       "      <td>2</td>\n",
       "      <td>2</td>\n",
       "    </tr>\n",
       "    <tr>\n",
       "      <th>RS</th>\n",
       "      <td>125</td>\n",
       "      <td>125</td>\n",
       "      <td>125</td>\n",
       "      <td>125</td>\n",
       "      <td>125</td>\n",
       "      <td>125</td>\n",
       "      <td>125</td>\n",
       "      <td>125</td>\n",
       "      <td>125</td>\n",
       "      <td>125</td>\n",
       "      <td>125</td>\n",
       "      <td>125</td>\n",
       "    </tr>\n",
       "    <tr>\n",
       "      <th>SC</th>\n",
       "      <td>184</td>\n",
       "      <td>184</td>\n",
       "      <td>184</td>\n",
       "      <td>184</td>\n",
       "      <td>184</td>\n",
       "      <td>184</td>\n",
       "      <td>184</td>\n",
       "      <td>184</td>\n",
       "      <td>184</td>\n",
       "      <td>184</td>\n",
       "      <td>184</td>\n",
       "      <td>184</td>\n",
       "    </tr>\n",
       "    <tr>\n",
       "      <th>SE</th>\n",
       "      <td>2</td>\n",
       "      <td>2</td>\n",
       "      <td>2</td>\n",
       "      <td>2</td>\n",
       "      <td>2</td>\n",
       "      <td>2</td>\n",
       "      <td>2</td>\n",
       "      <td>2</td>\n",
       "      <td>2</td>\n",
       "      <td>2</td>\n",
       "      <td>2</td>\n",
       "      <td>2</td>\n",
       "    </tr>\n",
       "    <tr>\n",
       "      <th>SP</th>\n",
       "      <td>1769</td>\n",
       "      <td>1769</td>\n",
       "      <td>1769</td>\n",
       "      <td>1769</td>\n",
       "      <td>1769</td>\n",
       "      <td>1769</td>\n",
       "      <td>1769</td>\n",
       "      <td>1769</td>\n",
       "      <td>1769</td>\n",
       "      <td>1769</td>\n",
       "      <td>1769</td>\n",
       "      <td>1769</td>\n",
       "    </tr>\n",
       "  </tbody>\n",
       "</table>\n",
       "</div>"
      ],
      "text/plain": [
       "              seller_id  seller_city  delay_to_carrier  wait_time  \\\n",
       "seller_state                                                        \n",
       "AM                    1            1                 1          1   \n",
       "BA                   18           18                18         18   \n",
       "CE                   12           12                12         12   \n",
       "DF                   30           30                30         30   \n",
       "ES                   22           22                22         22   \n",
       "GO                   39           39                39         39   \n",
       "MA                    1            1                 1          1   \n",
       "MG                  236          236               236        236   \n",
       "MS                    5            5                 5          5   \n",
       "MT                    4            4                 4          4   \n",
       "PA                    1            1                 1          1   \n",
       "PB                    6            6                 6          6   \n",
       "PE                    9            9                 9          9   \n",
       "PI                    1            1                 1          1   \n",
       "PR                  335          335               335        335   \n",
       "RJ                  163          163               163        163   \n",
       "RN                    5            5                 5          5   \n",
       "RO                    2            2                 2          2   \n",
       "RS                  125          125               125        125   \n",
       "SC                  184          184               184        184   \n",
       "SE                    2            2                 2          2   \n",
       "SP                 1769         1769              1769       1769   \n",
       "\n",
       "              date_first_sale  date_last_sale  share_one_stars  \\\n",
       "seller_state                                                     \n",
       "AM                          1               1                1   \n",
       "BA                         18              18               18   \n",
       "CE                         12              12               12   \n",
       "DF                         30              30               30   \n",
       "ES                         22              22               22   \n",
       "GO                         39              39               39   \n",
       "MA                          1               1                1   \n",
       "MG                        236             236              236   \n",
       "MS                          5               5                5   \n",
       "MT                          4               4                4   \n",
       "PA                          1               1                1   \n",
       "PB                          6               6                6   \n",
       "PE                          9               9                9   \n",
       "PI                          1               1                1   \n",
       "PR                        335             335              335   \n",
       "RJ                        163             163              163   \n",
       "RN                          5               5                5   \n",
       "RO                          2               2                2   \n",
       "RS                        125             125              125   \n",
       "SC                        184             184              184   \n",
       "SE                          2               2                2   \n",
       "SP                       1769            1769             1769   \n",
       "\n",
       "              share_of_five_stars  review_score  n_orders  quantity  sales  \n",
       "seller_state                                                                \n",
       "AM                              1             1         1         1      1  \n",
       "BA                             18            18        18        18     18  \n",
       "CE                             12            12        12        12     12  \n",
       "DF                             30            30        30        30     30  \n",
       "ES                             22            22        22        22     22  \n",
       "GO                             39            39        39        39     39  \n",
       "MA                              1             1         1         1      1  \n",
       "MG                            236           236       236       236    236  \n",
       "MS                              5             5         5         5      5  \n",
       "MT                              4             4         4         4      4  \n",
       "PA                              1             1         1         1      1  \n",
       "PB                              6             6         6         6      6  \n",
       "PE                              9             9         9         9      9  \n",
       "PI                              1             1         1         1      1  \n",
       "PR                            335           335       335       335    335  \n",
       "RJ                            163           163       163       163    163  \n",
       "RN                              5             5         5         5      5  \n",
       "RO                              2             2         2         2      2  \n",
       "RS                            125           125       125       125    125  \n",
       "SC                            184           184       184       184    184  \n",
       "SE                              2             2         2         2      2  \n",
       "SP                           1769          1769      1769      1769   1769  "
      ]
     },
     "execution_count": 320,
     "metadata": {},
     "output_type": "execute_result"
    }
   ],
   "source": [
    "sellers.groupby(\"seller_state\").count()"
   ]
  },
  {
   "cell_type": "code",
   "execution_count": 60,
   "metadata": {},
   "outputs": [],
   "source": [
    "seller_revenue = sellers[[\"seller_id\", \"sales\", \"date_first_sale\", \"date_last_sale\"]].copy()"
   ]
  },
  {
   "cell_type": "code",
   "execution_count": 61,
   "metadata": {},
   "outputs": [],
   "source": [
    "seller_revenue.loc[:, \"sales_cut\"] = seller_revenue[\"sales\"] * 0.1"
   ]
  },
  {
   "cell_type": "code",
   "execution_count": 62,
   "metadata": {},
   "outputs": [],
   "source": [
    "seller_revenue.loc[:, \"months_active\"] = \\\n",
    "    (seller_revenue[\"date_last_sale\"] - seller_revenue[\"date_first_sale\"])/np.timedelta64(365,'D')*12"
   ]
  },
  {
   "cell_type": "code",
   "execution_count": 63,
   "metadata": {},
   "outputs": [],
   "source": [
    "seller_revenue[\"rounder_active\"] = seller_revenue[\"months_active\"].apply(lambda x : int(x)+1 if x>0 else 1)"
   ]
  },
  {
   "cell_type": "code",
   "execution_count": 64,
   "metadata": {},
   "outputs": [],
   "source": [
    "seller_revenue.loc[:,\"revenue\"] = seller_revenue[\"sales_cut\"] + 80 * seller_revenue[\"rounder_active\"]"
   ]
  },
  {
   "cell_type": "code",
   "execution_count": 129,
   "metadata": {},
   "outputs": [
    {
     "data": {
      "text/html": [
       "<div>\n",
       "<style scoped>\n",
       "    .dataframe tbody tr th:only-of-type {\n",
       "        vertical-align: middle;\n",
       "    }\n",
       "\n",
       "    .dataframe tbody tr th {\n",
       "        vertical-align: top;\n",
       "    }\n",
       "\n",
       "    .dataframe thead th {\n",
       "        text-align: right;\n",
       "    }\n",
       "</style>\n",
       "<table border=\"1\" class=\"dataframe\">\n",
       "  <thead>\n",
       "    <tr style=\"text-align: right;\">\n",
       "      <th></th>\n",
       "      <th>seller_id</th>\n",
       "      <th>sales</th>\n",
       "      <th>date_first_sale</th>\n",
       "      <th>date_last_sale</th>\n",
       "      <th>sales_cut</th>\n",
       "      <th>months_active</th>\n",
       "      <th>rounder_active</th>\n",
       "      <th>revenue</th>\n",
       "    </tr>\n",
       "  </thead>\n",
       "  <tbody>\n",
       "    <tr>\n",
       "      <th>0</th>\n",
       "      <td>3442f8959a84dea7ee197c632cb2df15</td>\n",
       "      <td>218.70</td>\n",
       "      <td>2017-05-05 16:25:11</td>\n",
       "      <td>2017-08-30 12:50:19</td>\n",
       "      <td>21.870</td>\n",
       "      <td>3.841670</td>\n",
       "      <td>4</td>\n",
       "      <td>341.870</td>\n",
       "    </tr>\n",
       "    <tr>\n",
       "      <th>1</th>\n",
       "      <td>d1b65fc7debc3361ea86b5f14c68d2e2</td>\n",
       "      <td>11703.07</td>\n",
       "      <td>2017-03-29 02:10:34</td>\n",
       "      <td>2018-06-06 20:15:21</td>\n",
       "      <td>1170.307</td>\n",
       "      <td>14.293260</td>\n",
       "      <td>15</td>\n",
       "      <td>2370.307</td>\n",
       "    </tr>\n",
       "    <tr>\n",
       "      <th>2</th>\n",
       "      <td>ce3ad9de960102d0677a81f5d0bb7b2d</td>\n",
       "      <td>158.00</td>\n",
       "      <td>2018-07-30 12:44:49</td>\n",
       "      <td>2018-07-30 12:44:49</td>\n",
       "      <td>15.800</td>\n",
       "      <td>0.000000</td>\n",
       "      <td>1</td>\n",
       "      <td>95.800</td>\n",
       "    </tr>\n",
       "    <tr>\n",
       "      <th>3</th>\n",
       "      <td>c0f3eea2e14555b6faeea3dd58c1b1c3</td>\n",
       "      <td>79.99</td>\n",
       "      <td>2018-08-03 00:44:08</td>\n",
       "      <td>2018-08-03 00:44:08</td>\n",
       "      <td>7.999</td>\n",
       "      <td>0.000000</td>\n",
       "      <td>1</td>\n",
       "      <td>87.999</td>\n",
       "    </tr>\n",
       "    <tr>\n",
       "      <th>4</th>\n",
       "      <td>51a04a8a6bdcb23deccc82b0b80742cf</td>\n",
       "      <td>167.99</td>\n",
       "      <td>2017-11-14 12:15:25</td>\n",
       "      <td>2017-11-14 12:15:25</td>\n",
       "      <td>16.799</td>\n",
       "      <td>0.000000</td>\n",
       "      <td>1</td>\n",
       "      <td>96.799</td>\n",
       "    </tr>\n",
       "    <tr>\n",
       "      <th>...</th>\n",
       "      <td>...</td>\n",
       "      <td>...</td>\n",
       "      <td>...</td>\n",
       "      <td>...</td>\n",
       "      <td>...</td>\n",
       "      <td>...</td>\n",
       "      <td>...</td>\n",
       "      <td>...</td>\n",
       "    </tr>\n",
       "    <tr>\n",
       "      <th>2965</th>\n",
       "      <td>98dddbc4601dd4443ca174359b237166</td>\n",
       "      <td>158.00</td>\n",
       "      <td>2018-07-14 03:10:19</td>\n",
       "      <td>2018-07-23 15:34:03</td>\n",
       "      <td>15.800</td>\n",
       "      <td>0.312871</td>\n",
       "      <td>1</td>\n",
       "      <td>95.800</td>\n",
       "    </tr>\n",
       "    <tr>\n",
       "      <th>2966</th>\n",
       "      <td>f8201cab383e484733266d1906e2fdfa</td>\n",
       "      <td>889.00</td>\n",
       "      <td>2017-06-17 15:30:11</td>\n",
       "      <td>2018-08-11 19:55:17</td>\n",
       "      <td>88.900</td>\n",
       "      <td>13.814272</td>\n",
       "      <td>14</td>\n",
       "      <td>1208.900</td>\n",
       "    </tr>\n",
       "    <tr>\n",
       "      <th>2967</th>\n",
       "      <td>74871d19219c7d518d0090283e03c137</td>\n",
       "      <td>550.04</td>\n",
       "      <td>2018-04-05 17:09:46</td>\n",
       "      <td>2018-08-21 19:25:15</td>\n",
       "      <td>55.004</td>\n",
       "      <td>4.540080</td>\n",
       "      <td>5</td>\n",
       "      <td>455.004</td>\n",
       "    </tr>\n",
       "    <tr>\n",
       "      <th>2968</th>\n",
       "      <td>e603cf3fec55f8697c9059638d6c8eb5</td>\n",
       "      <td>297.00</td>\n",
       "      <td>2017-02-09 02:43:17</td>\n",
       "      <td>2017-06-16 17:30:16</td>\n",
       "      <td>29.700</td>\n",
       "      <td>4.195593</td>\n",
       "      <td>5</td>\n",
       "      <td>429.700</td>\n",
       "    </tr>\n",
       "    <tr>\n",
       "      <th>2969</th>\n",
       "      <td>9e25199f6ef7e7c347120ff175652c3b</td>\n",
       "      <td>12.50</td>\n",
       "      <td>2017-03-27 10:10:27</td>\n",
       "      <td>2017-03-27 10:10:27</td>\n",
       "      <td>1.250</td>\n",
       "      <td>0.000000</td>\n",
       "      <td>1</td>\n",
       "      <td>81.250</td>\n",
       "    </tr>\n",
       "  </tbody>\n",
       "</table>\n",
       "<p>2970 rows × 8 columns</p>\n",
       "</div>"
      ],
      "text/plain": [
       "                             seller_id     sales     date_first_sale  \\\n",
       "0     3442f8959a84dea7ee197c632cb2df15    218.70 2017-05-05 16:25:11   \n",
       "1     d1b65fc7debc3361ea86b5f14c68d2e2  11703.07 2017-03-29 02:10:34   \n",
       "2     ce3ad9de960102d0677a81f5d0bb7b2d    158.00 2018-07-30 12:44:49   \n",
       "3     c0f3eea2e14555b6faeea3dd58c1b1c3     79.99 2018-08-03 00:44:08   \n",
       "4     51a04a8a6bdcb23deccc82b0b80742cf    167.99 2017-11-14 12:15:25   \n",
       "...                                ...       ...                 ...   \n",
       "2965  98dddbc4601dd4443ca174359b237166    158.00 2018-07-14 03:10:19   \n",
       "2966  f8201cab383e484733266d1906e2fdfa    889.00 2017-06-17 15:30:11   \n",
       "2967  74871d19219c7d518d0090283e03c137    550.04 2018-04-05 17:09:46   \n",
       "2968  e603cf3fec55f8697c9059638d6c8eb5    297.00 2017-02-09 02:43:17   \n",
       "2969  9e25199f6ef7e7c347120ff175652c3b     12.50 2017-03-27 10:10:27   \n",
       "\n",
       "          date_last_sale  sales_cut  months_active  rounder_active   revenue  \n",
       "0    2017-08-30 12:50:19     21.870       3.841670               4   341.870  \n",
       "1    2018-06-06 20:15:21   1170.307      14.293260              15  2370.307  \n",
       "2    2018-07-30 12:44:49     15.800       0.000000               1    95.800  \n",
       "3    2018-08-03 00:44:08      7.999       0.000000               1    87.999  \n",
       "4    2017-11-14 12:15:25     16.799       0.000000               1    96.799  \n",
       "...                  ...        ...            ...             ...       ...  \n",
       "2965 2018-07-23 15:34:03     15.800       0.312871               1    95.800  \n",
       "2966 2018-08-11 19:55:17     88.900      13.814272              14  1208.900  \n",
       "2967 2018-08-21 19:25:15     55.004       4.540080               5   455.004  \n",
       "2968 2017-06-16 17:30:16     29.700       4.195593               5   429.700  \n",
       "2969 2017-03-27 10:10:27      1.250       0.000000               1    81.250  \n",
       "\n",
       "[2970 rows x 8 columns]"
      ]
     },
     "execution_count": 129,
     "metadata": {},
     "output_type": "execute_result"
    }
   ],
   "source": [
    "seller_revenue"
   ]
  },
  {
   "cell_type": "markdown",
   "metadata": {},
   "source": [
    "### Seller's cost"
   ]
  },
  {
   "cell_type": "code",
   "execution_count": 125,
   "metadata": {},
   "outputs": [],
   "source": [
    "matching_table = Olist().get_matching_table()"
   ]
  },
  {
   "cell_type": "code",
   "execution_count": 134,
   "metadata": {},
   "outputs": [
    {
     "data": {
      "text/plain": [
       "3096"
      ]
     },
     "execution_count": 134,
     "metadata": {},
     "output_type": "execute_result"
    }
   ],
   "source": [
    "len(matching_table[\"seller_id\"].unique())"
   ]
  },
  {
   "cell_type": "code",
   "execution_count": 170,
   "metadata": {},
   "outputs": [],
   "source": [
    "def cost(x):\n",
    "    cost = 0\n",
    "    for score in x:\n",
    "        if score == 1:\n",
    "            cost +=100\n",
    "        if score == 2:\n",
    "            cost += 50\n",
    "        if score == 3:\n",
    "            cost += 40\n",
    "    return cost"
   ]
  },
  {
   "cell_type": "code",
   "execution_count": 171,
   "metadata": {},
   "outputs": [],
   "source": [
    "orders_reviews = Order().get_review_score()\n",
    "matching_table = matching_table[['order_id','seller_id']].drop_duplicates()\n",
    "df = matching_table.merge(orders_reviews, on='order_id')\n",
    "\n",
    "df = df.groupby('seller_id',as_index=False).agg({'dim_is_one_star': 'mean',\\\n",
    "                                             'dim_is_five_star': 'mean',\\\n",
    "                                             'review_score': ['mean', cost, 'count']\n",
    "                                             })\n",
    "df.columns = ['seller_id', 'share_one_stars',\\\n",
    "                      'share_of_five_stars', 'review_score', 'review_cost', 'review_count']"
   ]
  },
  {
   "cell_type": "code",
   "execution_count": 323,
   "metadata": {},
   "outputs": [
    {
     "data": {
      "text/html": [
       "<div>\n",
       "<style scoped>\n",
       "    .dataframe tbody tr th:only-of-type {\n",
       "        vertical-align: middle;\n",
       "    }\n",
       "\n",
       "    .dataframe tbody tr th {\n",
       "        vertical-align: top;\n",
       "    }\n",
       "\n",
       "    .dataframe thead th {\n",
       "        text-align: right;\n",
       "    }\n",
       "</style>\n",
       "<table border=\"1\" class=\"dataframe\">\n",
       "  <thead>\n",
       "    <tr style=\"text-align: right;\">\n",
       "      <th></th>\n",
       "      <th>seller_id</th>\n",
       "      <th>share_one_stars_x</th>\n",
       "      <th>share_of_five_stars_x</th>\n",
       "      <th>review_score_x</th>\n",
       "      <th>review_cost</th>\n",
       "      <th>review_count</th>\n",
       "      <th>seller_city</th>\n",
       "      <th>seller_state</th>\n",
       "      <th>delay_to_carrier</th>\n",
       "      <th>wait_time</th>\n",
       "      <th>date_first_sale</th>\n",
       "      <th>date_last_sale</th>\n",
       "      <th>share_one_stars_y</th>\n",
       "      <th>share_of_five_stars_y</th>\n",
       "      <th>review_score_y</th>\n",
       "      <th>n_orders</th>\n",
       "      <th>quantity</th>\n",
       "      <th>sales</th>\n",
       "    </tr>\n",
       "  </thead>\n",
       "  <tbody>\n",
       "    <tr>\n",
       "      <th>0</th>\n",
       "      <td>7d81e74a4755b552267cd5e081563028</td>\n",
       "      <td>0.000000</td>\n",
       "      <td>0.000000</td>\n",
       "      <td>4.000000</td>\n",
       "      <td>0</td>\n",
       "      <td>1</td>\n",
       "      <td>sao paulo</td>\n",
       "      <td>SP</td>\n",
       "      <td>0.0</td>\n",
       "      <td>2.209491</td>\n",
       "      <td>2018-08-20 15:50:21</td>\n",
       "      <td>2018-08-20 15:50:21</td>\n",
       "      <td>0.000000</td>\n",
       "      <td>0.000000</td>\n",
       "      <td>4.000000</td>\n",
       "      <td>1</td>\n",
       "      <td>1</td>\n",
       "      <td>32.50</td>\n",
       "    </tr>\n",
       "    <tr>\n",
       "      <th>1</th>\n",
       "      <td>e503f22be6a4f456d9851920a5d9c670</td>\n",
       "      <td>0.000000</td>\n",
       "      <td>0.000000</td>\n",
       "      <td>4.000000</td>\n",
       "      <td>0</td>\n",
       "      <td>2</td>\n",
       "      <td>sao paulo</td>\n",
       "      <td>SP</td>\n",
       "      <td>0.0</td>\n",
       "      <td>5.669965</td>\n",
       "      <td>2018-07-30 12:44:51</td>\n",
       "      <td>2018-08-14 15:25:24</td>\n",
       "      <td>0.000000</td>\n",
       "      <td>0.000000</td>\n",
       "      <td>4.000000</td>\n",
       "      <td>2</td>\n",
       "      <td>2</td>\n",
       "      <td>198.90</td>\n",
       "    </tr>\n",
       "    <tr>\n",
       "      <th>2</th>\n",
       "      <td>a080fc8a850289b27500f6b49cca2553</td>\n",
       "      <td>0.000000</td>\n",
       "      <td>0.750000</td>\n",
       "      <td>4.750000</td>\n",
       "      <td>0</td>\n",
       "      <td>4</td>\n",
       "      <td>sao paulo</td>\n",
       "      <td>SP</td>\n",
       "      <td>0.0</td>\n",
       "      <td>5.423171</td>\n",
       "      <td>2018-03-13 21:08:04</td>\n",
       "      <td>2018-06-25 19:15:23</td>\n",
       "      <td>0.000000</td>\n",
       "      <td>0.750000</td>\n",
       "      <td>4.750000</td>\n",
       "      <td>4</td>\n",
       "      <td>4</td>\n",
       "      <td>383.00</td>\n",
       "    </tr>\n",
       "    <tr>\n",
       "      <th>3</th>\n",
       "      <td>447d377bdb757058acb569025ee18a93</td>\n",
       "      <td>0.000000</td>\n",
       "      <td>1.000000</td>\n",
       "      <td>5.000000</td>\n",
       "      <td>0</td>\n",
       "      <td>1</td>\n",
       "      <td>carazinho</td>\n",
       "      <td>RS</td>\n",
       "      <td>0.0</td>\n",
       "      <td>18.004062</td>\n",
       "      <td>2018-02-02 19:41:59</td>\n",
       "      <td>2018-02-02 19:41:59</td>\n",
       "      <td>0.000000</td>\n",
       "      <td>1.000000</td>\n",
       "      <td>5.000000</td>\n",
       "      <td>1</td>\n",
       "      <td>1</td>\n",
       "      <td>64.99</td>\n",
       "    </tr>\n",
       "    <tr>\n",
       "      <th>4</th>\n",
       "      <td>44ed138eca6214d572ce1d813fb0049b</td>\n",
       "      <td>0.000000</td>\n",
       "      <td>0.500000</td>\n",
       "      <td>4.500000</td>\n",
       "      <td>0</td>\n",
       "      <td>2</td>\n",
       "      <td>canoas</td>\n",
       "      <td>RS</td>\n",
       "      <td>0.0</td>\n",
       "      <td>8.585093</td>\n",
       "      <td>2018-08-08 01:05:13</td>\n",
       "      <td>2018-08-21 09:55:13</td>\n",
       "      <td>0.000000</td>\n",
       "      <td>0.500000</td>\n",
       "      <td>4.500000</td>\n",
       "      <td>2</td>\n",
       "      <td>3</td>\n",
       "      <td>129.79</td>\n",
       "    </tr>\n",
       "    <tr>\n",
       "      <th>...</th>\n",
       "      <td>...</td>\n",
       "      <td>...</td>\n",
       "      <td>...</td>\n",
       "      <td>...</td>\n",
       "      <td>...</td>\n",
       "      <td>...</td>\n",
       "      <td>...</td>\n",
       "      <td>...</td>\n",
       "      <td>...</td>\n",
       "      <td>...</td>\n",
       "      <td>...</td>\n",
       "      <td>...</td>\n",
       "      <td>...</td>\n",
       "      <td>...</td>\n",
       "      <td>...</td>\n",
       "      <td>...</td>\n",
       "      <td>...</td>\n",
       "      <td>...</td>\n",
       "    </tr>\n",
       "    <tr>\n",
       "      <th>2965</th>\n",
       "      <td>1f50f920176fa81dab994f9023523100</td>\n",
       "      <td>0.113556</td>\n",
       "      <td>0.598297</td>\n",
       "      <td>4.123492</td>\n",
       "      <td>22270</td>\n",
       "      <td>1409</td>\n",
       "      <td>sao jose do rio preto</td>\n",
       "      <td>SP</td>\n",
       "      <td>0.0</td>\n",
       "      <td>15.571831</td>\n",
       "      <td>2017-04-03 22:15:14</td>\n",
       "      <td>2018-08-28 03:45:18</td>\n",
       "      <td>0.113556</td>\n",
       "      <td>0.598297</td>\n",
       "      <td>4.123492</td>\n",
       "      <td>1404</td>\n",
       "      <td>1940</td>\n",
       "      <td>106939.21</td>\n",
       "    </tr>\n",
       "    <tr>\n",
       "      <th>2966</th>\n",
       "      <td>7c67e1448b00f6e969d365cea6b010ab</td>\n",
       "      <td>0.200405</td>\n",
       "      <td>0.350202</td>\n",
       "      <td>3.484818</td>\n",
       "      <td>28530</td>\n",
       "      <td>988</td>\n",
       "      <td>itaquaquecetuba</td>\n",
       "      <td>SP</td>\n",
       "      <td>0.0</td>\n",
       "      <td>22.392546</td>\n",
       "      <td>2017-01-26 22:55:10</td>\n",
       "      <td>2018-08-08 03:10:34</td>\n",
       "      <td>0.200405</td>\n",
       "      <td>0.350202</td>\n",
       "      <td>3.484818</td>\n",
       "      <td>982</td>\n",
       "      <td>1375</td>\n",
       "      <td>187923.89</td>\n",
       "    </tr>\n",
       "    <tr>\n",
       "      <th>2967</th>\n",
       "      <td>cc419e0650a3c5ba77189a1882b7556a</td>\n",
       "      <td>0.117277</td>\n",
       "      <td>0.581808</td>\n",
       "      <td>4.069222</td>\n",
       "      <td>30000</td>\n",
       "      <td>1748</td>\n",
       "      <td>santo andre</td>\n",
       "      <td>SP</td>\n",
       "      <td>0.0</td>\n",
       "      <td>11.539753</td>\n",
       "      <td>2017-02-02 17:10:21</td>\n",
       "      <td>2018-08-28 03:45:15</td>\n",
       "      <td>0.117277</td>\n",
       "      <td>0.581808</td>\n",
       "      <td>4.069222</td>\n",
       "      <td>1706</td>\n",
       "      <td>1819</td>\n",
       "      <td>104288.42</td>\n",
       "    </tr>\n",
       "    <tr>\n",
       "      <th>2968</th>\n",
       "      <td>6560211a19b47992c3666cc44a7e94c0</td>\n",
       "      <td>0.127957</td>\n",
       "      <td>0.510215</td>\n",
       "      <td>3.922043</td>\n",
       "      <td>36270</td>\n",
       "      <td>1860</td>\n",
       "      <td>sao paulo</td>\n",
       "      <td>SP</td>\n",
       "      <td>0.0</td>\n",
       "      <td>9.539486</td>\n",
       "      <td>2017-02-17 07:45:11</td>\n",
       "      <td>2018-08-29 09:25:12</td>\n",
       "      <td>0.127957</td>\n",
       "      <td>0.510215</td>\n",
       "      <td>3.922043</td>\n",
       "      <td>1854</td>\n",
       "      <td>2039</td>\n",
       "      <td>123304.83</td>\n",
       "    </tr>\n",
       "    <tr>\n",
       "      <th>2969</th>\n",
       "      <td>4a3ca9315b744ce9f8e9374361493884</td>\n",
       "      <td>0.147640</td>\n",
       "      <td>0.476948</td>\n",
       "      <td>3.804610</td>\n",
       "      <td>40890</td>\n",
       "      <td>1822</td>\n",
       "      <td>ibitinga</td>\n",
       "      <td>SP</td>\n",
       "      <td>0.0</td>\n",
       "      <td>14.416471</td>\n",
       "      <td>2017-01-08 09:45:12</td>\n",
       "      <td>2018-08-27 11:04:18</td>\n",
       "      <td>0.147640</td>\n",
       "      <td>0.476948</td>\n",
       "      <td>3.804610</td>\n",
       "      <td>1806</td>\n",
       "      <td>2009</td>\n",
       "      <td>200472.92</td>\n",
       "    </tr>\n",
       "  </tbody>\n",
       "</table>\n",
       "<p>2970 rows × 18 columns</p>\n",
       "</div>"
      ],
      "text/plain": [
       "                             seller_id  share_one_stars_x  \\\n",
       "0     7d81e74a4755b552267cd5e081563028           0.000000   \n",
       "1     e503f22be6a4f456d9851920a5d9c670           0.000000   \n",
       "2     a080fc8a850289b27500f6b49cca2553           0.000000   \n",
       "3     447d377bdb757058acb569025ee18a93           0.000000   \n",
       "4     44ed138eca6214d572ce1d813fb0049b           0.000000   \n",
       "...                                ...                ...   \n",
       "2965  1f50f920176fa81dab994f9023523100           0.113556   \n",
       "2966  7c67e1448b00f6e969d365cea6b010ab           0.200405   \n",
       "2967  cc419e0650a3c5ba77189a1882b7556a           0.117277   \n",
       "2968  6560211a19b47992c3666cc44a7e94c0           0.127957   \n",
       "2969  4a3ca9315b744ce9f8e9374361493884           0.147640   \n",
       "\n",
       "      share_of_five_stars_x  review_score_x  review_cost  review_count  \\\n",
       "0                  0.000000        4.000000            0             1   \n",
       "1                  0.000000        4.000000            0             2   \n",
       "2                  0.750000        4.750000            0             4   \n",
       "3                  1.000000        5.000000            0             1   \n",
       "4                  0.500000        4.500000            0             2   \n",
       "...                     ...             ...          ...           ...   \n",
       "2965               0.598297        4.123492        22270          1409   \n",
       "2966               0.350202        3.484818        28530           988   \n",
       "2967               0.581808        4.069222        30000          1748   \n",
       "2968               0.510215        3.922043        36270          1860   \n",
       "2969               0.476948        3.804610        40890          1822   \n",
       "\n",
       "                seller_city seller_state  delay_to_carrier  wait_time  \\\n",
       "0                 sao paulo           SP               0.0   2.209491   \n",
       "1                 sao paulo           SP               0.0   5.669965   \n",
       "2                 sao paulo           SP               0.0   5.423171   \n",
       "3                 carazinho           RS               0.0  18.004062   \n",
       "4                    canoas           RS               0.0   8.585093   \n",
       "...                     ...          ...               ...        ...   \n",
       "2965  sao jose do rio preto           SP               0.0  15.571831   \n",
       "2966        itaquaquecetuba           SP               0.0  22.392546   \n",
       "2967            santo andre           SP               0.0  11.539753   \n",
       "2968              sao paulo           SP               0.0   9.539486   \n",
       "2969               ibitinga           SP               0.0  14.416471   \n",
       "\n",
       "         date_first_sale      date_last_sale  share_one_stars_y  \\\n",
       "0    2018-08-20 15:50:21 2018-08-20 15:50:21           0.000000   \n",
       "1    2018-07-30 12:44:51 2018-08-14 15:25:24           0.000000   \n",
       "2    2018-03-13 21:08:04 2018-06-25 19:15:23           0.000000   \n",
       "3    2018-02-02 19:41:59 2018-02-02 19:41:59           0.000000   \n",
       "4    2018-08-08 01:05:13 2018-08-21 09:55:13           0.000000   \n",
       "...                  ...                 ...                ...   \n",
       "2965 2017-04-03 22:15:14 2018-08-28 03:45:18           0.113556   \n",
       "2966 2017-01-26 22:55:10 2018-08-08 03:10:34           0.200405   \n",
       "2967 2017-02-02 17:10:21 2018-08-28 03:45:15           0.117277   \n",
       "2968 2017-02-17 07:45:11 2018-08-29 09:25:12           0.127957   \n",
       "2969 2017-01-08 09:45:12 2018-08-27 11:04:18           0.147640   \n",
       "\n",
       "      share_of_five_stars_y  review_score_y  n_orders  quantity      sales  \n",
       "0                  0.000000        4.000000         1         1      32.50  \n",
       "1                  0.000000        4.000000         2         2     198.90  \n",
       "2                  0.750000        4.750000         4         4     383.00  \n",
       "3                  1.000000        5.000000         1         1      64.99  \n",
       "4                  0.500000        4.500000         2         3     129.79  \n",
       "...                     ...             ...       ...       ...        ...  \n",
       "2965               0.598297        4.123492      1404      1940  106939.21  \n",
       "2966               0.350202        3.484818       982      1375  187923.89  \n",
       "2967               0.581808        4.069222      1706      1819  104288.42  \n",
       "2968               0.510215        3.922043      1854      2039  123304.83  \n",
       "2969               0.476948        3.804610      1806      2009  200472.92  \n",
       "\n",
       "[2970 rows x 18 columns]"
      ]
     },
     "execution_count": 323,
     "metadata": {},
     "output_type": "execute_result"
    }
   ],
   "source": [
    "df = df.sort_values('review_cost')\n",
    "df = df.merge(sellers, on = \"seller_id\")\n",
    "df"
   ]
  },
  {
   "cell_type": "markdown",
   "metadata": {},
   "source": [
    "### Profit per seller"
   ]
  },
  {
   "cell_type": "code",
   "execution_count": 173,
   "metadata": {},
   "outputs": [],
   "source": [
    "seller_stat = seller_revenue.merge(df, on = 'seller_id')[[\"seller_id\", \"revenue\", \"review_cost\"]]"
   ]
  },
  {
   "cell_type": "code",
   "execution_count": 174,
   "metadata": {},
   "outputs": [],
   "source": [
    "seller_stat.loc[:, \"seller_profit\"] = seller_stat[\"revenue\"] - seller_stat[\"review_cost\"]"
   ]
  },
  {
   "cell_type": "code",
   "execution_count": 175,
   "metadata": {},
   "outputs": [
    {
     "data": {
      "text/plain": [
       "769    -22419.517\n",
       "2360   -19242.708\n",
       "1358   -18051.158\n",
       "946    -15952.248\n",
       "315    -13066.431\n",
       "          ...    \n",
       "9        6780.462\n",
       "2153     7288.455\n",
       "534     14254.203\n",
       "67      14603.187\n",
       "868     17967.605\n",
       "Name: seller_profit, Length: 2970, dtype: float64"
      ]
     },
     "execution_count": 175,
     "metadata": {},
     "output_type": "execute_result"
    }
   ],
   "source": [
    "seller_stat['seller_profit'].sort_values()"
   ]
  },
  {
   "cell_type": "markdown",
   "metadata": {},
   "source": [
    "### Total seller stat table"
   ]
  },
  {
   "cell_type": "code",
   "execution_count": 176,
   "metadata": {},
   "outputs": [],
   "source": [
    "seller_stat = seller_stat.merge(sellers, on = 'seller_id')[[\"seller_id\", \"seller_profit\", \"n_orders\"]]"
   ]
  },
  {
   "cell_type": "code",
   "execution_count": 177,
   "metadata": {
    "scrolled": true
   },
   "outputs": [
    {
     "data": {
      "text/html": [
       "<div>\n",
       "<style scoped>\n",
       "    .dataframe tbody tr th:only-of-type {\n",
       "        vertical-align: middle;\n",
       "    }\n",
       "\n",
       "    .dataframe tbody tr th {\n",
       "        vertical-align: top;\n",
       "    }\n",
       "\n",
       "    .dataframe thead th {\n",
       "        text-align: right;\n",
       "    }\n",
       "</style>\n",
       "<table border=\"1\" class=\"dataframe\">\n",
       "  <thead>\n",
       "    <tr style=\"text-align: right;\">\n",
       "      <th></th>\n",
       "      <th>seller_id</th>\n",
       "      <th>seller_profit</th>\n",
       "      <th>n_orders</th>\n",
       "    </tr>\n",
       "  </thead>\n",
       "  <tbody>\n",
       "    <tr>\n",
       "      <th>0</th>\n",
       "      <td>3442f8959a84dea7ee197c632cb2df15</td>\n",
       "      <td>201.870</td>\n",
       "      <td>3</td>\n",
       "    </tr>\n",
       "    <tr>\n",
       "      <th>1</th>\n",
       "      <td>d1b65fc7debc3361ea86b5f14c68d2e2</td>\n",
       "      <td>2130.307</td>\n",
       "      <td>40</td>\n",
       "    </tr>\n",
       "    <tr>\n",
       "      <th>2</th>\n",
       "      <td>ce3ad9de960102d0677a81f5d0bb7b2d</td>\n",
       "      <td>95.800</td>\n",
       "      <td>1</td>\n",
       "    </tr>\n",
       "    <tr>\n",
       "      <th>3</th>\n",
       "      <td>c0f3eea2e14555b6faeea3dd58c1b1c3</td>\n",
       "      <td>87.999</td>\n",
       "      <td>1</td>\n",
       "    </tr>\n",
       "    <tr>\n",
       "      <th>4</th>\n",
       "      <td>51a04a8a6bdcb23deccc82b0b80742cf</td>\n",
       "      <td>-3.201</td>\n",
       "      <td>1</td>\n",
       "    </tr>\n",
       "    <tr>\n",
       "      <th>...</th>\n",
       "      <td>...</td>\n",
       "      <td>...</td>\n",
       "      <td>...</td>\n",
       "    </tr>\n",
       "    <tr>\n",
       "      <th>2965</th>\n",
       "      <td>98dddbc4601dd4443ca174359b237166</td>\n",
       "      <td>95.800</td>\n",
       "      <td>2</td>\n",
       "    </tr>\n",
       "    <tr>\n",
       "      <th>2966</th>\n",
       "      <td>f8201cab383e484733266d1906e2fdfa</td>\n",
       "      <td>1068.900</td>\n",
       "      <td>10</td>\n",
       "    </tr>\n",
       "    <tr>\n",
       "      <th>2967</th>\n",
       "      <td>74871d19219c7d518d0090283e03c137</td>\n",
       "      <td>455.004</td>\n",
       "      <td>6</td>\n",
       "    </tr>\n",
       "    <tr>\n",
       "      <th>2968</th>\n",
       "      <td>e603cf3fec55f8697c9059638d6c8eb5</td>\n",
       "      <td>379.700</td>\n",
       "      <td>8</td>\n",
       "    </tr>\n",
       "    <tr>\n",
       "      <th>2969</th>\n",
       "      <td>9e25199f6ef7e7c347120ff175652c3b</td>\n",
       "      <td>81.250</td>\n",
       "      <td>1</td>\n",
       "    </tr>\n",
       "  </tbody>\n",
       "</table>\n",
       "<p>2970 rows × 3 columns</p>\n",
       "</div>"
      ],
      "text/plain": [
       "                             seller_id  seller_profit  n_orders\n",
       "0     3442f8959a84dea7ee197c632cb2df15        201.870         3\n",
       "1     d1b65fc7debc3361ea86b5f14c68d2e2       2130.307        40\n",
       "2     ce3ad9de960102d0677a81f5d0bb7b2d         95.800         1\n",
       "3     c0f3eea2e14555b6faeea3dd58c1b1c3         87.999         1\n",
       "4     51a04a8a6bdcb23deccc82b0b80742cf         -3.201         1\n",
       "...                                ...            ...       ...\n",
       "2965  98dddbc4601dd4443ca174359b237166         95.800         2\n",
       "2966  f8201cab383e484733266d1906e2fdfa       1068.900        10\n",
       "2967  74871d19219c7d518d0090283e03c137        455.004         6\n",
       "2968  e603cf3fec55f8697c9059638d6c8eb5        379.700         8\n",
       "2969  9e25199f6ef7e7c347120ff175652c3b         81.250         1\n",
       "\n",
       "[2970 rows x 3 columns]"
      ]
     },
     "execution_count": 177,
     "metadata": {},
     "output_type": "execute_result"
    }
   ],
   "source": [
    "seller_stat"
   ]
  },
  {
   "cell_type": "markdown",
   "metadata": {},
   "source": [
    "### IT costs per seller"
   ]
  },
  {
   "cell_type": "code",
   "execution_count": 213,
   "metadata": {},
   "outputs": [
    {
     "data": {
      "text/html": [
       "<div>\n",
       "<style scoped>\n",
       "    .dataframe tbody tr th:only-of-type {\n",
       "        vertical-align: middle;\n",
       "    }\n",
       "\n",
       "    .dataframe tbody tr th {\n",
       "        vertical-align: top;\n",
       "    }\n",
       "\n",
       "    .dataframe thead th {\n",
       "        text-align: right;\n",
       "    }\n",
       "</style>\n",
       "<table border=\"1\" class=\"dataframe\">\n",
       "  <thead>\n",
       "    <tr style=\"text-align: right;\">\n",
       "      <th></th>\n",
       "      <th>seller_id</th>\n",
       "      <th>seller_profit</th>\n",
       "      <th>n_orders</th>\n",
       "      <th>it_cost</th>\n",
       "    </tr>\n",
       "  </thead>\n",
       "  <tbody>\n",
       "    <tr>\n",
       "      <th>769</th>\n",
       "      <td>6560211a19b47992c3666cc44a7e94c0</td>\n",
       "      <td>-22419.517</td>\n",
       "      <td>1854</td>\n",
       "      <td>1806.997275</td>\n",
       "    </tr>\n",
       "    <tr>\n",
       "      <th>2360</th>\n",
       "      <td>4a3ca9315b744ce9f8e9374361493884</td>\n",
       "      <td>-19242.708</td>\n",
       "      <td>1806</td>\n",
       "      <td>1783.452331</td>\n",
       "    </tr>\n",
       "    <tr>\n",
       "      <th>1358</th>\n",
       "      <td>cc419e0650a3c5ba77189a1882b7556a</td>\n",
       "      <td>-18051.158</td>\n",
       "      <td>1706</td>\n",
       "      <td>1733.373474</td>\n",
       "    </tr>\n",
       "    <tr>\n",
       "      <th>946</th>\n",
       "      <td>ea8482cd71df3c1969d7b9473ff13abc</td>\n",
       "      <td>-15952.248</td>\n",
       "      <td>1146</td>\n",
       "      <td>1420.675665</td>\n",
       "    </tr>\n",
       "    <tr>\n",
       "      <th>315</th>\n",
       "      <td>8b321bb669392f5163d04c59e235e066</td>\n",
       "      <td>-13066.431</td>\n",
       "      <td>943</td>\n",
       "      <td>1288.719735</td>\n",
       "    </tr>\n",
       "    <tr>\n",
       "      <th>...</th>\n",
       "      <td>...</td>\n",
       "      <td>...</td>\n",
       "      <td>...</td>\n",
       "      <td>...</td>\n",
       "    </tr>\n",
       "    <tr>\n",
       "      <th>9</th>\n",
       "      <td>ccc4bbb5f32a6ab2b7066a4130f114e3</td>\n",
       "      <td>6780.462</td>\n",
       "      <td>187</td>\n",
       "      <td>573.883100</td>\n",
       "    </tr>\n",
       "    <tr>\n",
       "      <th>2153</th>\n",
       "      <td>edb1ef5e36e0c8cd84eb3c9b003e486d</td>\n",
       "      <td>7288.455</td>\n",
       "      <td>166</td>\n",
       "      <td>540.700382</td>\n",
       "    </tr>\n",
       "    <tr>\n",
       "      <th>534</th>\n",
       "      <td>fa1c13f2614d7b5c4749cbc52fecda94</td>\n",
       "      <td>14254.203</td>\n",
       "      <td>585</td>\n",
       "      <td>1015.033944</td>\n",
       "    </tr>\n",
       "    <tr>\n",
       "      <th>67</th>\n",
       "      <td>7e93a43ef30c4f03f38b393420bc753a</td>\n",
       "      <td>14603.187</td>\n",
       "      <td>336</td>\n",
       "      <td>769.258443</td>\n",
       "    </tr>\n",
       "    <tr>\n",
       "      <th>868</th>\n",
       "      <td>53243585a1d6dc2643021fd1853d8905</td>\n",
       "      <td>17967.605</td>\n",
       "      <td>358</td>\n",
       "      <td>794.043228</td>\n",
       "    </tr>\n",
       "  </tbody>\n",
       "</table>\n",
       "<p>2970 rows × 4 columns</p>\n",
       "</div>"
      ],
      "text/plain": [
       "                             seller_id  seller_profit  n_orders      it_cost\n",
       "769   6560211a19b47992c3666cc44a7e94c0     -22419.517      1854  1806.997275\n",
       "2360  4a3ca9315b744ce9f8e9374361493884     -19242.708      1806  1783.452331\n",
       "1358  cc419e0650a3c5ba77189a1882b7556a     -18051.158      1706  1733.373474\n",
       "946   ea8482cd71df3c1969d7b9473ff13abc     -15952.248      1146  1420.675665\n",
       "315   8b321bb669392f5163d04c59e235e066     -13066.431       943  1288.719735\n",
       "...                                ...            ...       ...          ...\n",
       "9     ccc4bbb5f32a6ab2b7066a4130f114e3       6780.462       187   573.883100\n",
       "2153  edb1ef5e36e0c8cd84eb3c9b003e486d       7288.455       166   540.700382\n",
       "534   fa1c13f2614d7b5c4749cbc52fecda94      14254.203       585  1015.033944\n",
       "67    7e93a43ef30c4f03f38b393420bc753a      14603.187       336   769.258443\n",
       "868   53243585a1d6dc2643021fd1853d8905      17967.605       358   794.043228\n",
       "\n",
       "[2970 rows x 4 columns]"
      ]
     },
     "execution_count": 213,
     "metadata": {},
     "output_type": "execute_result"
    }
   ],
   "source": [
    "seller_stat = seller_stat.sort_values(by = 'seller_profit')\n",
    "seller_stat"
   ]
  },
  {
   "cell_type": "code",
   "execution_count": 207,
   "metadata": {
    "scrolled": true
   },
   "outputs": [
    {
     "data": {
      "text/plain": [
       "11914.26818459575"
      ]
     },
     "execution_count": 207,
     "metadata": {},
     "output_type": "execute_result"
    }
   ],
   "source": [
    "tmp = seller_stat[\"n_orders\"].apply(lambda X:X**0.5)\n",
    "tmp.sum()"
   ]
  },
  {
   "cell_type": "code",
   "execution_count": 208,
   "metadata": {},
   "outputs": [
    {
     "data": {
      "text/plain": [
       "41.96648860451725"
      ]
     },
     "execution_count": 208,
     "metadata": {},
     "output_type": "execute_result"
    }
   ],
   "source": [
    "N_orders = matching_table[\"order_id\"].nunique()\n",
    "cst = 500000/(seller_stat[\"n_orders\"].apply(lambda X:X**0.5).sum())\n",
    "cst"
   ]
  },
  {
   "cell_type": "code",
   "execution_count": 190,
   "metadata": {},
   "outputs": [],
   "source": [
    "# def IT_costs(x):\n",
    "#     cst = 500000/N_orders**0.5\n",
    "#     return cst * x**0.5\n",
    "# def IT_savings(x):\n",
    "#     return 500000 - IT_costs(N_orders - x)"
   ]
  },
  {
   "cell_type": "code",
   "execution_count": 209,
   "metadata": {},
   "outputs": [],
   "source": [
    "def IT_costs(x):\n",
    "    return cst * x**0.5"
   ]
  },
  {
   "cell_type": "code",
   "execution_count": 210,
   "metadata": {},
   "outputs": [],
   "source": [
    "seller_stat.loc[:, \"it_cost\"] = seller_stat[\"n_orders\"].map(IT_costs)"
   ]
  },
  {
   "cell_type": "code",
   "execution_count": 215,
   "metadata": {},
   "outputs": [
    {
     "data": {
      "text/html": [
       "<div>\n",
       "<style scoped>\n",
       "    .dataframe tbody tr th:only-of-type {\n",
       "        vertical-align: middle;\n",
       "    }\n",
       "\n",
       "    .dataframe tbody tr th {\n",
       "        vertical-align: top;\n",
       "    }\n",
       "\n",
       "    .dataframe thead th {\n",
       "        text-align: right;\n",
       "    }\n",
       "</style>\n",
       "<table border=\"1\" class=\"dataframe\">\n",
       "  <thead>\n",
       "    <tr style=\"text-align: right;\">\n",
       "      <th></th>\n",
       "      <th>seller_id</th>\n",
       "      <th>seller_profit</th>\n",
       "      <th>n_orders</th>\n",
       "      <th>it_cost</th>\n",
       "      <th>final_profit</th>\n",
       "    </tr>\n",
       "  </thead>\n",
       "  <tbody>\n",
       "    <tr>\n",
       "      <th>769</th>\n",
       "      <td>6560211a19b47992c3666cc44a7e94c0</td>\n",
       "      <td>-22419.517</td>\n",
       "      <td>1854</td>\n",
       "      <td>1806.997275</td>\n",
       "      <td>-24226.514275</td>\n",
       "    </tr>\n",
       "    <tr>\n",
       "      <th>2360</th>\n",
       "      <td>4a3ca9315b744ce9f8e9374361493884</td>\n",
       "      <td>-19242.708</td>\n",
       "      <td>1806</td>\n",
       "      <td>1783.452331</td>\n",
       "      <td>-21026.160331</td>\n",
       "    </tr>\n",
       "    <tr>\n",
       "      <th>1358</th>\n",
       "      <td>cc419e0650a3c5ba77189a1882b7556a</td>\n",
       "      <td>-18051.158</td>\n",
       "      <td>1706</td>\n",
       "      <td>1733.373474</td>\n",
       "      <td>-19784.531474</td>\n",
       "    </tr>\n",
       "    <tr>\n",
       "      <th>946</th>\n",
       "      <td>ea8482cd71df3c1969d7b9473ff13abc</td>\n",
       "      <td>-15952.248</td>\n",
       "      <td>1146</td>\n",
       "      <td>1420.675665</td>\n",
       "      <td>-17372.923665</td>\n",
       "    </tr>\n",
       "    <tr>\n",
       "      <th>315</th>\n",
       "      <td>8b321bb669392f5163d04c59e235e066</td>\n",
       "      <td>-13066.431</td>\n",
       "      <td>943</td>\n",
       "      <td>1288.719735</td>\n",
       "      <td>-14355.150735</td>\n",
       "    </tr>\n",
       "    <tr>\n",
       "      <th>...</th>\n",
       "      <td>...</td>\n",
       "      <td>...</td>\n",
       "      <td>...</td>\n",
       "      <td>...</td>\n",
       "      <td>...</td>\n",
       "    </tr>\n",
       "    <tr>\n",
       "      <th>9</th>\n",
       "      <td>ccc4bbb5f32a6ab2b7066a4130f114e3</td>\n",
       "      <td>6780.462</td>\n",
       "      <td>187</td>\n",
       "      <td>573.883100</td>\n",
       "      <td>6206.578900</td>\n",
       "    </tr>\n",
       "    <tr>\n",
       "      <th>2153</th>\n",
       "      <td>edb1ef5e36e0c8cd84eb3c9b003e486d</td>\n",
       "      <td>7288.455</td>\n",
       "      <td>166</td>\n",
       "      <td>540.700382</td>\n",
       "      <td>6747.754618</td>\n",
       "    </tr>\n",
       "    <tr>\n",
       "      <th>534</th>\n",
       "      <td>fa1c13f2614d7b5c4749cbc52fecda94</td>\n",
       "      <td>14254.203</td>\n",
       "      <td>585</td>\n",
       "      <td>1015.033944</td>\n",
       "      <td>13239.169056</td>\n",
       "    </tr>\n",
       "    <tr>\n",
       "      <th>67</th>\n",
       "      <td>7e93a43ef30c4f03f38b393420bc753a</td>\n",
       "      <td>14603.187</td>\n",
       "      <td>336</td>\n",
       "      <td>769.258443</td>\n",
       "      <td>13833.928557</td>\n",
       "    </tr>\n",
       "    <tr>\n",
       "      <th>868</th>\n",
       "      <td>53243585a1d6dc2643021fd1853d8905</td>\n",
       "      <td>17967.605</td>\n",
       "      <td>358</td>\n",
       "      <td>794.043228</td>\n",
       "      <td>17173.561772</td>\n",
       "    </tr>\n",
       "  </tbody>\n",
       "</table>\n",
       "<p>2970 rows × 5 columns</p>\n",
       "</div>"
      ],
      "text/plain": [
       "                             seller_id  seller_profit  n_orders      it_cost  \\\n",
       "769   6560211a19b47992c3666cc44a7e94c0     -22419.517      1854  1806.997275   \n",
       "2360  4a3ca9315b744ce9f8e9374361493884     -19242.708      1806  1783.452331   \n",
       "1358  cc419e0650a3c5ba77189a1882b7556a     -18051.158      1706  1733.373474   \n",
       "946   ea8482cd71df3c1969d7b9473ff13abc     -15952.248      1146  1420.675665   \n",
       "315   8b321bb669392f5163d04c59e235e066     -13066.431       943  1288.719735   \n",
       "...                                ...            ...       ...          ...   \n",
       "9     ccc4bbb5f32a6ab2b7066a4130f114e3       6780.462       187   573.883100   \n",
       "2153  edb1ef5e36e0c8cd84eb3c9b003e486d       7288.455       166   540.700382   \n",
       "534   fa1c13f2614d7b5c4749cbc52fecda94      14254.203       585  1015.033944   \n",
       "67    7e93a43ef30c4f03f38b393420bc753a      14603.187       336   769.258443   \n",
       "868   53243585a1d6dc2643021fd1853d8905      17967.605       358   794.043228   \n",
       "\n",
       "      final_profit  \n",
       "769  -24226.514275  \n",
       "2360 -21026.160331  \n",
       "1358 -19784.531474  \n",
       "946  -17372.923665  \n",
       "315  -14355.150735  \n",
       "...            ...  \n",
       "9      6206.578900  \n",
       "2153   6747.754618  \n",
       "534   13239.169056  \n",
       "67    13833.928557  \n",
       "868   17173.561772  \n",
       "\n",
       "[2970 rows x 5 columns]"
      ]
     },
     "execution_count": 215,
     "metadata": {},
     "output_type": "execute_result"
    }
   ],
   "source": [
    "seller_stat.loc[:, \"final_profit\"] = seller_stat[\"seller_profit\"] - seller_stat[\"it_cost\"]\n",
    "seller_stat.sort_values(by = 'final_profit')"
   ]
  },
  {
   "cell_type": "markdown",
   "metadata": {},
   "source": [
    "## Your turn - step 2 (sorting through sellers)"
   ]
  },
  {
   "cell_type": "markdown",
   "metadata": {},
   "source": [
    "function that computes profit when removing n worst sellers, constant alpha (IT cost coef)"
   ]
  },
  {
   "cell_type": "code",
   "execution_count": null,
   "metadata": {},
   "outputs": [],
   "source": [
    "seller_stat.loc[:, \"cut \"] = seller_stat[\"seller_profit\"] - seller_stat[\"it_cost\"]"
   ]
  },
  {
   "cell_type": "code",
   "execution_count": 226,
   "metadata": {},
   "outputs": [],
   "source": [
    "def cut_losses(n):\n",
    "    return seller_stat[\"final_profit\"][n:].sum()"
   ]
  },
  {
   "cell_type": "code",
   "execution_count": 240,
   "metadata": {},
   "outputs": [],
   "source": [
    "x = np.linspace(0, 1000, 100)\n",
    "# y = [cut_losses(i) for i in x]\n",
    "y =[cut_losses(int(i)) for i in x]"
   ]
  },
  {
   "cell_type": "code",
   "execution_count": 241,
   "metadata": {
    "scrolled": true
   },
   "outputs": [
    {
     "data": {
      "text/plain": [
       "[<matplotlib.lines.Line2D at 0x7f12cc937ca0>]"
      ]
     },
     "execution_count": 241,
     "metadata": {},
     "output_type": "execute_result"
    },
    {
     "data": {
      "image/png": "[encoded data removed]",
      "text/plain": [
       "<Figure size 432x288 with 1 Axes>"
      ]
     },
     "metadata": {
      "needs_background": "light"
     },
     "output_type": "display_data"
    }
   ],
   "source": [
    "plt.plot(x , y)"
   ]
  },
  {
   "cell_type": "code",
   "execution_count": 251,
   "metadata": {},
   "outputs": [
    {
     "data": {
      "text/plain": [
       "431486.86710598296"
      ]
     },
     "execution_count": 251,
     "metadata": {},
     "output_type": "execute_result"
    }
   ],
   "source": [
    "cutting_losses = seller_stat[seller_stat[\"final_profit\"] > 0][\"final_profit\"].sum() - seller_stat[\"final_profit\"].sum()\n",
    "cutting_losses"
   ]
  },
  {
   "cell_type": "code",
   "execution_count": 254,
   "metadata": {},
   "outputs": [],
   "source": [
    "seller_stat.loc[:,\"profit_per_order\"] = seller_stat[\"final_profit\"]/seller_stat[\"n_orders\"]"
   ]
  },
  {
   "cell_type": "code",
   "execution_count": 272,
   "metadata": {},
   "outputs": [
    {
     "data": {
      "text/plain": [
       "<matplotlib.legend.Legend at 0x7f12b8aca4c0>"
      ]
     },
     "execution_count": 272,
     "metadata": {},
     "output_type": "execute_result"
    },
    {
     "data": {
      "image/png": "[encoded data removed]",
      "text/plain": [
       "<Figure size 432x288 with 1 Axes>"
      ]
     },
     "metadata": {
      "needs_background": "light"
     },
     "output_type": "display_data"
    }
   ],
   "source": [
    "seller_stat[\"profit_per_order\"].plot(kind = 'hist', label = 'profit per order', xlim = (-100,300), bins = 100)\n",
    "plt.legend()"
   ]
  },
  {
   "cell_type": "code",
   "execution_count": 275,
   "metadata": {},
   "outputs": [
    {
     "data": {
      "text/plain": [
       "<AxesSubplot:xlabel='n_orders', ylabel='profit_per_order'>"
      ]
     },
     "execution_count": 275,
     "metadata": {},
     "output_type": "execute_result"
    },
    {
     "data": {
      "image/png": "[encoded data removed]",
      "text/plain": [
       "<Figure size 432x288 with 1 Axes>"
      ]
     },
     "metadata": {
      "needs_background": "light"
     },
     "output_type": "display_data"
    }
   ],
   "source": [
    "seller_stat.plot( x = 'n_orders', y='profit_per_order', kind = 'scatter')"
   ]
  },
  {
   "cell_type": "code",
   "execution_count": 287,
   "metadata": {},
   "outputs": [
    {
     "data": {
      "text/plain": [
       "Index(['seller_id', 'seller_profit', 'n_orders', 'it_cost', 'final_profit',\n",
       "       'profit_per_order', 'sales', 'date_first_sale', 'date_last_sale',\n",
       "       'sales_cut', 'months_active', 'rounder_active', 'revenue'],\n",
       "      dtype='object')"
      ]
     },
     "execution_count": 287,
     "metadata": {},
     "output_type": "execute_result"
    }
   ],
   "source": [
    "total_seller = seller_stat.merge(seller_revenue, on = \"seller_id\")\n",
    "total_seller.columns"
   ]
  },
  {
   "cell_type": "code",
   "execution_count": 288,
   "metadata": {},
   "outputs": [
    {
     "data": {
      "text/plain": [
       "<AxesSubplot:xlabel='months_active', ylabel='profit_per_order'>"
      ]
     },
     "execution_count": 288,
     "metadata": {},
     "output_type": "execute_result"
    },
    {
     "data": {
      "image/png": "[encoded data removed]",
      "text/plain": [
       "<Figure size 432x288 with 1 Axes>"
      ]
     },
     "metadata": {
      "needs_background": "light"
     },
     "output_type": "display_data"
    }
   ],
   "source": [
    "total_seller.plot( x = 'months_active', y='profit_per_order', kind = 'scatter', ylim = (-100,100))"
   ]
  },
  {
   "cell_type": "code",
   "execution_count": 289,
   "metadata": {},
   "outputs": [
    {
     "data": {
      "text/plain": [
       "<AxesSubplot:xlabel='months_active', ylabel='final_profit'>"
      ]
     },
     "execution_count": 289,
     "metadata": {},
     "output_type": "execute_result"
    },
    {
     "data": {
      "image/png": "[encoded data removed]",
      "text/plain": [
       "<Figure size 432x288 with 1 Axes>"
      ]
     },
     "metadata": {
      "needs_background": "light"
     },
     "output_type": "display_data"
    }
   ],
   "source": [
    "total_seller.plot( x = 'months_active', y='final_profit', kind = 'scatter', ylim = (-1000,1000))"
   ]
  },
  {
   "cell_type": "code",
   "execution_count": 291,
   "metadata": {},
   "outputs": [
    {
     "data": {
      "text/plain": [
       "Index(['seller_id', 'seller_profit', 'n_orders_x', 'it_cost', 'final_profit',\n",
       "       'profit_per_order', 'seller_city', 'seller_state', 'delay_to_carrier',\n",
       "       'wait_time', 'date_first_sale', 'date_last_sale', 'share_one_stars',\n",
       "       'share_of_five_stars', 'review_score', 'n_orders_y', 'quantity',\n",
       "       'sales'],\n",
       "      dtype='object')"
      ]
     },
     "execution_count": 291,
     "metadata": {},
     "output_type": "execute_result"
    }
   ],
   "source": [
    "tmp = seller_stat.merge(sellers, on = \"seller_id\")\n",
    "tmp.columns"
   ]
  },
  {
   "cell_type": "code",
   "execution_count": 309,
   "metadata": {
    "collapsed": true
   },
   "outputs": [
    {
     "ename": "KeyboardInterrupt",
     "evalue": "",
     "output_type": "error",
     "traceback": [
      "\u001b[0;31m---------------------------------------------------------------------------\u001b[0m",
      "\u001b[0;31mKeyboardInterrupt\u001b[0m                         Traceback (most recent call last)",
      "\u001b[0;32m<ipython-input-309-66e261a9e0fa>\u001b[0m in \u001b[0;36m<module>\u001b[0;34m\u001b[0m\n\u001b[1;32m      1\u001b[0m \u001b[0mfig\u001b[0m\u001b[0;34m,\u001b[0m \u001b[0max1\u001b[0m \u001b[0;34m=\u001b[0m \u001b[0mplt\u001b[0m\u001b[0;34m.\u001b[0m\u001b[0msubplots\u001b[0m\u001b[0;34m(\u001b[0m\u001b[0;36m1\u001b[0m\u001b[0;34m,\u001b[0m\u001b[0;36m1\u001b[0m\u001b[0;34m,\u001b[0m \u001b[0mfigsize\u001b[0m \u001b[0;34m=\u001b[0m \u001b[0;34m(\u001b[0m\u001b[0;36m12\u001b[0m\u001b[0;34m,\u001b[0m\u001b[0;36m6\u001b[0m\u001b[0;34m)\u001b[0m\u001b[0;34m)\u001b[0m\u001b[0;34m\u001b[0m\u001b[0;34m\u001b[0m\u001b[0m\n\u001b[0;32m----> 2\u001b[0;31m \u001b[0msns\u001b[0m\u001b[0;34m.\u001b[0m\u001b[0mstripplot\u001b[0m\u001b[0;34m(\u001b[0m \u001b[0mx\u001b[0m\u001b[0;34m=\u001b[0m\u001b[0;34m'seller_state'\u001b[0m\u001b[0;34m,\u001b[0m \u001b[0my\u001b[0m \u001b[0;34m=\u001b[0m \u001b[0;34m'final_profit'\u001b[0m\u001b[0;34m,\u001b[0m \u001b[0mhue\u001b[0m \u001b[0;34m=\u001b[0m \u001b[0;34m'review_score'\u001b[0m\u001b[0;34m,\u001b[0m \u001b[0mdata\u001b[0m \u001b[0;34m=\u001b[0m \u001b[0mtmp\u001b[0m\u001b[0;34m,\u001b[0m \u001b[0max\u001b[0m \u001b[0;34m=\u001b[0m \u001b[0max1\u001b[0m\u001b[0;34m)\u001b[0m\u001b[0;34m\u001b[0m\u001b[0;34m\u001b[0m\u001b[0m\n\u001b[0m",
      "\u001b[0;32m~/.pyenv/versions/3.8.5/envs/lewagon/lib/python3.8/site-packages/seaborn/_decorators.py\u001b[0m in \u001b[0;36minner_f\u001b[0;34m(*args, **kwargs)\u001b[0m\n\u001b[1;32m     44\u001b[0m             )\n\u001b[1;32m     45\u001b[0m         \u001b[0mkwargs\u001b[0m\u001b[0;34m.\u001b[0m\u001b[0mupdate\u001b[0m\u001b[0;34m(\u001b[0m\u001b[0;34m{\u001b[0m\u001b[0mk\u001b[0m\u001b[0;34m:\u001b[0m \u001b[0marg\u001b[0m \u001b[0;32mfor\u001b[0m \u001b[0mk\u001b[0m\u001b[0;34m,\u001b[0m \u001b[0marg\u001b[0m \u001b[0;32min\u001b[0m \u001b[0mzip\u001b[0m\u001b[0;34m(\u001b[0m\u001b[0msig\u001b[0m\u001b[0;34m.\u001b[0m\u001b[0mparameters\u001b[0m\u001b[0;34m,\u001b[0m \u001b[0margs\u001b[0m\u001b[0;34m)\u001b[0m\u001b[0;34m}\u001b[0m\u001b[0;34m)\u001b[0m\u001b[0;34m\u001b[0m\u001b[0;34m\u001b[0m\u001b[0m\n\u001b[0;32m---> 46\u001b[0;31m         \u001b[0;32mreturn\u001b[0m \u001b[0mf\u001b[0m\u001b[0;34m(\u001b[0m\u001b[0;34m**\u001b[0m\u001b[0mkwargs\u001b[0m\u001b[0;34m)\u001b[0m\u001b[0;34m\u001b[0m\u001b[0;34m\u001b[0m\u001b[0m\n\u001b[0m\u001b[1;32m     47\u001b[0m     \u001b[0;32mreturn\u001b[0m \u001b[0minner_f\u001b[0m\u001b[0;34m\u001b[0m\u001b[0;34m\u001b[0m\u001b[0m\n\u001b[1;32m     48\u001b[0m \u001b[0;34m\u001b[0m\u001b[0m\n",
      "\u001b[0;32m~/.pyenv/versions/3.8.5/envs/lewagon/lib/python3.8/site-packages/seaborn/categorical.py\u001b[0m in \u001b[0;36mstripplot\u001b[0;34m(x, y, hue, data, order, hue_order, jitter, dodge, orient, color, palette, size, edgecolor, linewidth, ax, **kwargs)\u001b[0m\n\u001b[1;32m   2807\u001b[0m                        linewidth=linewidth))\n\u001b[1;32m   2808\u001b[0m \u001b[0;34m\u001b[0m\u001b[0m\n\u001b[0;32m-> 2809\u001b[0;31m     \u001b[0mplotter\u001b[0m\u001b[0;34m.\u001b[0m\u001b[0mplot\u001b[0m\u001b[0;34m(\u001b[0m\u001b[0max\u001b[0m\u001b[0;34m,\u001b[0m \u001b[0mkwargs\u001b[0m\u001b[0;34m)\u001b[0m\u001b[0;34m\u001b[0m\u001b[0;34m\u001b[0m\u001b[0m\n\u001b[0m\u001b[1;32m   2810\u001b[0m     \u001b[0;32mreturn\u001b[0m \u001b[0max\u001b[0m\u001b[0;34m\u001b[0m\u001b[0;34m\u001b[0m\u001b[0m\n\u001b[1;32m   2811\u001b[0m \u001b[0;34m\u001b[0m\u001b[0m\n",
      "\u001b[0;32m~/.pyenv/versions/3.8.5/envs/lewagon/lib/python3.8/site-packages/seaborn/categorical.py\u001b[0m in \u001b[0;36mplot\u001b[0;34m(self, ax, kws)\u001b[0m\n\u001b[1;32m   1158\u001b[0m     \u001b[0;32mdef\u001b[0m \u001b[0mplot\u001b[0m\u001b[0;34m(\u001b[0m\u001b[0mself\u001b[0m\u001b[0;34m,\u001b[0m \u001b[0max\u001b[0m\u001b[0;34m,\u001b[0m \u001b[0mkws\u001b[0m\u001b[0;34m)\u001b[0m\u001b[0;34m:\u001b[0m\u001b[0;34m\u001b[0m\u001b[0;34m\u001b[0m\u001b[0m\n\u001b[1;32m   1159\u001b[0m         \u001b[0;34m\"\"\"Make the plot.\"\"\"\u001b[0m\u001b[0;34m\u001b[0m\u001b[0;34m\u001b[0m\u001b[0m\n\u001b[0;32m-> 1160\u001b[0;31m         \u001b[0mself\u001b[0m\u001b[0;34m.\u001b[0m\u001b[0mdraw_stripplot\u001b[0m\u001b[0;34m(\u001b[0m\u001b[0max\u001b[0m\u001b[0;34m,\u001b[0m \u001b[0mkws\u001b[0m\u001b[0;34m)\u001b[0m\u001b[0;34m\u001b[0m\u001b[0;34m\u001b[0m\u001b[0m\n\u001b[0m\u001b[1;32m   1161\u001b[0m         \u001b[0mself\u001b[0m\u001b[0;34m.\u001b[0m\u001b[0madd_legend_data\u001b[0m\u001b[0;34m(\u001b[0m\u001b[0max\u001b[0m\u001b[0;34m)\u001b[0m\u001b[0;34m\u001b[0m\u001b[0;34m\u001b[0m\u001b[0m\n\u001b[1;32m   1162\u001b[0m         \u001b[0mself\u001b[0m\u001b[0;34m.\u001b[0m\u001b[0mannotate_axes\u001b[0m\u001b[0;34m(\u001b[0m\u001b[0max\u001b[0m\u001b[0;34m)\u001b[0m\u001b[0;34m\u001b[0m\u001b[0;34m\u001b[0m\u001b[0m\n",
      "\u001b[0;32m~/.pyenv/versions/3.8.5/envs/lewagon/lib/python3.8/site-packages/seaborn/categorical.py\u001b[0m in \u001b[0;36mdraw_stripplot\u001b[0;34m(self, ax, kws)\u001b[0m\n\u001b[1;32m   1127\u001b[0m \u001b[0;34m\u001b[0m\u001b[0m\n\u001b[1;32m   1128\u001b[0m                 \u001b[0mstrip_data\u001b[0m \u001b[0;34m=\u001b[0m \u001b[0mgroup_data\u001b[0m\u001b[0;34m[\u001b[0m\u001b[0mhue_mask\u001b[0m\u001b[0;34m]\u001b[0m\u001b[0;34m\u001b[0m\u001b[0;34m\u001b[0m\u001b[0m\n\u001b[0;32m-> 1129\u001b[0;31m                 \u001b[0mpoint_colors\u001b[0m \u001b[0;34m=\u001b[0m \u001b[0mnp\u001b[0m\u001b[0;34m.\u001b[0m\u001b[0masarray\u001b[0m\u001b[0;34m(\u001b[0m\u001b[0mself\u001b[0m\u001b[0;34m.\u001b[0m\u001b[0mpoint_colors\u001b[0m\u001b[0;34m[\u001b[0m\u001b[0mi\u001b[0m\u001b[0;34m]\u001b[0m\u001b[0;34m[\u001b[0m\u001b[0mhue_mask\u001b[0m\u001b[0;34m]\u001b[0m\u001b[0;34m)\u001b[0m\u001b[0;34m\u001b[0m\u001b[0;34m\u001b[0m\u001b[0m\n\u001b[0m\u001b[1;32m   1130\u001b[0m \u001b[0;34m\u001b[0m\u001b[0m\n\u001b[1;32m   1131\u001b[0m                 \u001b[0;31m# Plot the points in centered positions\u001b[0m\u001b[0;34m\u001b[0m\u001b[0;34m\u001b[0m\u001b[0;34m\u001b[0m\u001b[0m\n",
      "\u001b[0;32m~/.pyenv/versions/3.8.5/envs/lewagon/lib/python3.8/site-packages/seaborn/categorical.py\u001b[0m in \u001b[0;36mpoint_colors\u001b[0;34m(self)\u001b[0m\n\u001b[1;32m   1076\u001b[0m                     \u001b[0;31m# hue_color = self.colors[j]\u001b[0m\u001b[0;34m\u001b[0m\u001b[0;34m\u001b[0m\u001b[0;34m\u001b[0m\u001b[0m\n\u001b[1;32m   1077\u001b[0m                     \u001b[0;32mif\u001b[0m \u001b[0mgroup_data\u001b[0m\u001b[0;34m.\u001b[0m\u001b[0msize\u001b[0m\u001b[0;34m:\u001b[0m\u001b[0;34m\u001b[0m\u001b[0;34m\u001b[0m\u001b[0m\n\u001b[0;32m-> 1078\u001b[0;31m                         \u001b[0mgroup_colors\u001b[0m\u001b[0;34m[\u001b[0m\u001b[0mself\u001b[0m\u001b[0;34m.\u001b[0m\u001b[0mplot_hues\u001b[0m\u001b[0;34m[\u001b[0m\u001b[0mi\u001b[0m\u001b[0;34m]\u001b[0m \u001b[0;34m==\u001b[0m \u001b[0mlevel\u001b[0m\u001b[0;34m]\u001b[0m \u001b[0;34m=\u001b[0m \u001b[0mj\u001b[0m\u001b[0;34m\u001b[0m\u001b[0;34m\u001b[0m\u001b[0m\n\u001b[0m\u001b[1;32m   1079\u001b[0m \u001b[0;34m\u001b[0m\u001b[0m\n\u001b[1;32m   1080\u001b[0m             \u001b[0mpoint_colors\u001b[0m\u001b[0;34m.\u001b[0m\u001b[0mappend\u001b[0m\u001b[0;34m(\u001b[0m\u001b[0mgroup_colors\u001b[0m\u001b[0;34m)\u001b[0m\u001b[0;34m\u001b[0m\u001b[0;34m\u001b[0m\u001b[0m\n",
      "\u001b[0;32m~/.pyenv/versions/3.8.5/envs/lewagon/lib/python3.8/site-packages/pandas/core/series.py\u001b[0m in \u001b[0;36m__setitem__\u001b[0;34m(self, key, value)\u001b[0m\n\u001b[1;32m    998\u001b[0m \u001b[0;34m\u001b[0m\u001b[0m\n\u001b[1;32m    999\u001b[0m         \u001b[0;32mtry\u001b[0m\u001b[0;34m:\u001b[0m\u001b[0;34m\u001b[0m\u001b[0;34m\u001b[0m\u001b[0m\n\u001b[0;32m-> 1000\u001b[0;31m             \u001b[0mself\u001b[0m\u001b[0;34m.\u001b[0m\u001b[0m_set_with_engine\u001b[0m\u001b[0;34m(\u001b[0m\u001b[0mkey\u001b[0m\u001b[0;34m,\u001b[0m \u001b[0mvalue\u001b[0m\u001b[0;34m)\u001b[0m\u001b[0;34m\u001b[0m\u001b[0;34m\u001b[0m\u001b[0m\n\u001b[0m\u001b[1;32m   1001\u001b[0m         \u001b[0;32mexcept\u001b[0m \u001b[0;34m(\u001b[0m\u001b[0mKeyError\u001b[0m\u001b[0;34m,\u001b[0m \u001b[0mValueError\u001b[0m\u001b[0;34m)\u001b[0m\u001b[0;34m:\u001b[0m\u001b[0;34m\u001b[0m\u001b[0;34m\u001b[0m\u001b[0m\n\u001b[1;32m   1002\u001b[0m             \u001b[0mvalues\u001b[0m \u001b[0;34m=\u001b[0m \u001b[0mself\u001b[0m\u001b[0;34m.\u001b[0m\u001b[0m_values\u001b[0m\u001b[0;34m\u001b[0m\u001b[0;34m\u001b[0m\u001b[0m\n",
      "\u001b[0;32m~/.pyenv/versions/3.8.5/envs/lewagon/lib/python3.8/site-packages/pandas/core/series.py\u001b[0m in \u001b[0;36m_set_with_engine\u001b[0;34m(self, key, value)\u001b[0m\n\u001b[1;32m   1031\u001b[0m     \u001b[0;32mdef\u001b[0m \u001b[0m_set_with_engine\u001b[0m\u001b[0;34m(\u001b[0m\u001b[0mself\u001b[0m\u001b[0;34m,\u001b[0m \u001b[0mkey\u001b[0m\u001b[0;34m,\u001b[0m \u001b[0mvalue\u001b[0m\u001b[0;34m)\u001b[0m\u001b[0;34m:\u001b[0m\u001b[0;34m\u001b[0m\u001b[0;34m\u001b[0m\u001b[0m\n\u001b[1;32m   1032\u001b[0m         \u001b[0;31m# fails with AttributeError for IntervalIndex\u001b[0m\u001b[0;34m\u001b[0m\u001b[0;34m\u001b[0m\u001b[0;34m\u001b[0m\u001b[0m\n\u001b[0;32m-> 1033\u001b[0;31m         \u001b[0mloc\u001b[0m \u001b[0;34m=\u001b[0m \u001b[0mself\u001b[0m\u001b[0;34m.\u001b[0m\u001b[0mindex\u001b[0m\u001b[0;34m.\u001b[0m\u001b[0m_engine\u001b[0m\u001b[0;34m.\u001b[0m\u001b[0mget_loc\u001b[0m\u001b[0;34m(\u001b[0m\u001b[0mkey\u001b[0m\u001b[0;34m)\u001b[0m\u001b[0;34m\u001b[0m\u001b[0;34m\u001b[0m\u001b[0m\n\u001b[0m\u001b[1;32m   1034\u001b[0m         \u001b[0mvalidate_numeric_casting\u001b[0m\u001b[0;34m(\u001b[0m\u001b[0mself\u001b[0m\u001b[0;34m.\u001b[0m\u001b[0mdtype\u001b[0m\u001b[0;34m,\u001b[0m \u001b[0mvalue\u001b[0m\u001b[0;34m)\u001b[0m\u001b[0;34m\u001b[0m\u001b[0;34m\u001b[0m\u001b[0m\n\u001b[1;32m   1035\u001b[0m         \u001b[0mself\u001b[0m\u001b[0;34m.\u001b[0m\u001b[0m_values\u001b[0m\u001b[0;34m[\u001b[0m\u001b[0mloc\u001b[0m\u001b[0;34m]\u001b[0m \u001b[0;34m=\u001b[0m \u001b[0mvalue\u001b[0m\u001b[0;34m\u001b[0m\u001b[0;34m\u001b[0m\u001b[0m\n",
      "\u001b[0;32mpandas/_libs/index.pyx\u001b[0m in \u001b[0;36mpandas._libs.index.IndexEngine.get_loc\u001b[0;34m()\u001b[0m\n",
      "\u001b[0;32mpandas/_libs/index.pyx\u001b[0m in \u001b[0;36mpandas._libs.index.IndexEngine.get_loc\u001b[0;34m()\u001b[0m\n",
      "\u001b[0;32m~/.pyenv/versions/3.8.5/envs/lewagon/lib/python3.8/site-packages/pandas/core/series.py\u001b[0m in \u001b[0;36m__repr__\u001b[0;34m(self)\u001b[0m\n\u001b[1;32m   1313\u001b[0m         \u001b[0mshow_dimensions\u001b[0m \u001b[0;34m=\u001b[0m \u001b[0mget_option\u001b[0m\u001b[0;34m(\u001b[0m\u001b[0;34m\"display.show_dimensions\"\u001b[0m\u001b[0;34m)\u001b[0m\u001b[0;34m\u001b[0m\u001b[0;34m\u001b[0m\u001b[0m\n\u001b[1;32m   1314\u001b[0m \u001b[0;34m\u001b[0m\u001b[0m\n\u001b[0;32m-> 1315\u001b[0;31m         self.to_string(\n\u001b[0m\u001b[1;32m   1316\u001b[0m             \u001b[0mbuf\u001b[0m\u001b[0;34m=\u001b[0m\u001b[0mbuf\u001b[0m\u001b[0;34m,\u001b[0m\u001b[0;34m\u001b[0m\u001b[0;34m\u001b[0m\u001b[0m\n\u001b[1;32m   1317\u001b[0m             \u001b[0mname\u001b[0m\u001b[0;34m=\u001b[0m\u001b[0mself\u001b[0m\u001b[0;34m.\u001b[0m\u001b[0mname\u001b[0m\u001b[0;34m,\u001b[0m\u001b[0;34m\u001b[0m\u001b[0;34m\u001b[0m\u001b[0m\n",
      "\u001b[0;32m~/.pyenv/versions/3.8.5/envs/lewagon/lib/python3.8/site-packages/pandas/core/series.py\u001b[0m in \u001b[0;36mto_string\u001b[0;34m(self, buf, na_rep, float_format, header, index, length, dtype, name, max_rows, min_rows)\u001b[0m\n\u001b[1;32m   1384\u001b[0m             \u001b[0mmax_rows\u001b[0m\u001b[0;34m=\u001b[0m\u001b[0mmax_rows\u001b[0m\u001b[0;34m,\u001b[0m\u001b[0;34m\u001b[0m\u001b[0;34m\u001b[0m\u001b[0m\n\u001b[1;32m   1385\u001b[0m         )\n\u001b[0;32m-> 1386\u001b[0;31m         \u001b[0mresult\u001b[0m \u001b[0;34m=\u001b[0m \u001b[0mformatter\u001b[0m\u001b[0;34m.\u001b[0m\u001b[0mto_string\u001b[0m\u001b[0;34m(\u001b[0m\u001b[0;34m)\u001b[0m\u001b[0;34m\u001b[0m\u001b[0;34m\u001b[0m\u001b[0m\n\u001b[0m\u001b[1;32m   1387\u001b[0m \u001b[0;34m\u001b[0m\u001b[0m\n\u001b[1;32m   1388\u001b[0m         \u001b[0;31m# catch contract violations\u001b[0m\u001b[0;34m\u001b[0m\u001b[0;34m\u001b[0m\u001b[0;34m\u001b[0m\u001b[0m\n",
      "\u001b[0;32m~/.pyenv/versions/3.8.5/envs/lewagon/lib/python3.8/site-packages/pandas/io/formats/format.py\u001b[0m in \u001b[0;36mto_string\u001b[0;34m(self)\u001b[0m\n\u001b[1;32m    356\u001b[0m \u001b[0;34m\u001b[0m\u001b[0m\n\u001b[1;32m    357\u001b[0m         \u001b[0mfmt_index\u001b[0m\u001b[0;34m,\u001b[0m \u001b[0mhave_header\u001b[0m \u001b[0;34m=\u001b[0m \u001b[0mself\u001b[0m\u001b[0;34m.\u001b[0m\u001b[0m_get_formatted_index\u001b[0m\u001b[0;34m(\u001b[0m\u001b[0;34m)\u001b[0m\u001b[0;34m\u001b[0m\u001b[0;34m\u001b[0m\u001b[0m\n\u001b[0;32m--> 358\u001b[0;31m         \u001b[0mfmt_values\u001b[0m \u001b[0;34m=\u001b[0m \u001b[0mself\u001b[0m\u001b[0;34m.\u001b[0m\u001b[0m_get_formatted_values\u001b[0m\u001b[0;34m(\u001b[0m\u001b[0;34m)\u001b[0m\u001b[0;34m\u001b[0m\u001b[0;34m\u001b[0m\u001b[0m\n\u001b[0m\u001b[1;32m    359\u001b[0m \u001b[0;34m\u001b[0m\u001b[0m\n\u001b[1;32m    360\u001b[0m         \u001b[0;32mif\u001b[0m \u001b[0mself\u001b[0m\u001b[0;34m.\u001b[0m\u001b[0mtruncate_v\u001b[0m\u001b[0;34m:\u001b[0m\u001b[0;34m\u001b[0m\u001b[0;34m\u001b[0m\u001b[0m\n",
      "\u001b[0;32m~/.pyenv/versions/3.8.5/envs/lewagon/lib/python3.8/site-packages/pandas/io/formats/format.py\u001b[0m in \u001b[0;36m_get_formatted_values\u001b[0;34m(self)\u001b[0m\n\u001b[1;32m    341\u001b[0m \u001b[0;34m\u001b[0m\u001b[0m\n\u001b[1;32m    342\u001b[0m     \u001b[0;32mdef\u001b[0m \u001b[0m_get_formatted_values\u001b[0m\u001b[0;34m(\u001b[0m\u001b[0mself\u001b[0m\u001b[0;34m)\u001b[0m \u001b[0;34m->\u001b[0m \u001b[0mList\u001b[0m\u001b[0;34m[\u001b[0m\u001b[0mstr\u001b[0m\u001b[0;34m]\u001b[0m\u001b[0;34m:\u001b[0m\u001b[0;34m\u001b[0m\u001b[0;34m\u001b[0m\u001b[0m\n\u001b[0;32m--> 343\u001b[0;31m         return format_array(\n\u001b[0m\u001b[1;32m    344\u001b[0m             \u001b[0mself\u001b[0m\u001b[0;34m.\u001b[0m\u001b[0mtr_series\u001b[0m\u001b[0;34m.\u001b[0m\u001b[0m_values\u001b[0m\u001b[0;34m,\u001b[0m\u001b[0;34m\u001b[0m\u001b[0;34m\u001b[0m\u001b[0m\n\u001b[1;32m    345\u001b[0m             \u001b[0;32mNone\u001b[0m\u001b[0;34m,\u001b[0m\u001b[0;34m\u001b[0m\u001b[0;34m\u001b[0m\u001b[0m\n",
      "\u001b[0;32m~/.pyenv/versions/3.8.5/envs/lewagon/lib/python3.8/site-packages/pandas/io/formats/format.py\u001b[0m in \u001b[0;36mformat_array\u001b[0;34m(values, formatter, float_format, na_rep, digits, space, justify, decimal, leading_space, quoting)\u001b[0m\n\u001b[1;32m   1177\u001b[0m     )\n\u001b[1;32m   1178\u001b[0m \u001b[0;34m\u001b[0m\u001b[0m\n\u001b[0;32m-> 1179\u001b[0;31m     \u001b[0;32mreturn\u001b[0m \u001b[0mfmt_obj\u001b[0m\u001b[0;34m.\u001b[0m\u001b[0mget_result\u001b[0m\u001b[0;34m(\u001b[0m\u001b[0;34m)\u001b[0m\u001b[0;34m\u001b[0m\u001b[0;34m\u001b[0m\u001b[0m\n\u001b[0m\u001b[1;32m   1180\u001b[0m \u001b[0;34m\u001b[0m\u001b[0m\n\u001b[1;32m   1181\u001b[0m \u001b[0;34m\u001b[0m\u001b[0m\n",
      "\u001b[0;32m~/.pyenv/versions/3.8.5/envs/lewagon/lib/python3.8/site-packages/pandas/io/formats/format.py\u001b[0m in \u001b[0;36mget_result\u001b[0;34m(self)\u001b[0m\n\u001b[1;32m   1208\u001b[0m \u001b[0;34m\u001b[0m\u001b[0m\n\u001b[1;32m   1209\u001b[0m     \u001b[0;32mdef\u001b[0m \u001b[0mget_result\u001b[0m\u001b[0;34m(\u001b[0m\u001b[0mself\u001b[0m\u001b[0;34m)\u001b[0m \u001b[0;34m->\u001b[0m \u001b[0mList\u001b[0m\u001b[0;34m[\u001b[0m\u001b[0mstr\u001b[0m\u001b[0;34m]\u001b[0m\u001b[0;34m:\u001b[0m\u001b[0;34m\u001b[0m\u001b[0;34m\u001b[0m\u001b[0m\n\u001b[0;32m-> 1210\u001b[0;31m         \u001b[0mfmt_values\u001b[0m \u001b[0;34m=\u001b[0m \u001b[0mself\u001b[0m\u001b[0;34m.\u001b[0m\u001b[0m_format_strings\u001b[0m\u001b[0;34m(\u001b[0m\u001b[0;34m)\u001b[0m\u001b[0;34m\u001b[0m\u001b[0;34m\u001b[0m\u001b[0m\n\u001b[0m\u001b[1;32m   1211\u001b[0m         \u001b[0;32mreturn\u001b[0m \u001b[0m_make_fixed_width\u001b[0m\u001b[0;34m(\u001b[0m\u001b[0mfmt_values\u001b[0m\u001b[0;34m,\u001b[0m \u001b[0mself\u001b[0m\u001b[0;34m.\u001b[0m\u001b[0mjustify\u001b[0m\u001b[0;34m)\u001b[0m\u001b[0;34m\u001b[0m\u001b[0;34m\u001b[0m\u001b[0m\n\u001b[1;32m   1212\u001b[0m \u001b[0;34m\u001b[0m\u001b[0m\n",
      "\u001b[0;32m~/.pyenv/versions/3.8.5/envs/lewagon/lib/python3.8/site-packages/pandas/io/formats/format.py\u001b[0m in \u001b[0;36m_format_strings\u001b[0;34m(self)\u001b[0m\n\u001b[1;32m   1275\u001b[0m                 \u001b[0;32melse\u001b[0m\u001b[0;34m:\u001b[0m\u001b[0;34m\u001b[0m\u001b[0;34m\u001b[0m\u001b[0m\n\u001b[1;32m   1276\u001b[0m                     \u001b[0mtpl\u001b[0m \u001b[0;34m=\u001b[0m \u001b[0;34m\" {v}\"\u001b[0m\u001b[0;34m\u001b[0m\u001b[0;34m\u001b[0m\u001b[0m\n\u001b[0;32m-> 1277\u001b[0;31m                 \u001b[0mfmt_values\u001b[0m\u001b[0;34m.\u001b[0m\u001b[0mappend\u001b[0m\u001b[0;34m(\u001b[0m\u001b[0mtpl\u001b[0m\u001b[0;34m.\u001b[0m\u001b[0mformat\u001b[0m\u001b[0;34m(\u001b[0m\u001b[0mv\u001b[0m\u001b[0;34m=\u001b[0m\u001b[0m_format\u001b[0m\u001b[0;34m(\u001b[0m\u001b[0mv\u001b[0m\u001b[0;34m)\u001b[0m\u001b[0;34m)\u001b[0m\u001b[0;34m)\u001b[0m\u001b[0;34m\u001b[0m\u001b[0;34m\u001b[0m\u001b[0m\n\u001b[0m\u001b[1;32m   1278\u001b[0m \u001b[0;34m\u001b[0m\u001b[0m\n\u001b[1;32m   1279\u001b[0m         \u001b[0;32mreturn\u001b[0m \u001b[0mfmt_values\u001b[0m\u001b[0;34m\u001b[0m\u001b[0;34m\u001b[0m\u001b[0m\n",
      "\u001b[0;32m~/.pyenv/versions/3.8.5/envs/lewagon/lib/python3.8/site-packages/pandas/io/formats/format.py\u001b[0m in \u001b[0;36m_format\u001b[0;34m(x)\u001b[0m\n\u001b[1;32m   1249\u001b[0m             \u001b[0;32melse\u001b[0m\u001b[0;34m:\u001b[0m\u001b[0;34m\u001b[0m\u001b[0;34m\u001b[0m\u001b[0m\n\u001b[1;32m   1250\u001b[0m                 \u001b[0;31m# object dtype\u001b[0m\u001b[0;34m\u001b[0m\u001b[0;34m\u001b[0m\u001b[0;34m\u001b[0m\u001b[0m\n\u001b[0;32m-> 1251\u001b[0;31m                 \u001b[0;32mreturn\u001b[0m \u001b[0mstr\u001b[0m\u001b[0;34m(\u001b[0m\u001b[0mformatter\u001b[0m\u001b[0;34m(\u001b[0m\u001b[0mx\u001b[0m\u001b[0;34m)\u001b[0m\u001b[0;34m)\u001b[0m\u001b[0;34m\u001b[0m\u001b[0;34m\u001b[0m\u001b[0m\n\u001b[0m\u001b[1;32m   1252\u001b[0m \u001b[0;34m\u001b[0m\u001b[0m\n\u001b[1;32m   1253\u001b[0m         \u001b[0mvals\u001b[0m \u001b[0;34m=\u001b[0m \u001b[0mextract_array\u001b[0m\u001b[0;34m(\u001b[0m\u001b[0mself\u001b[0m\u001b[0;34m.\u001b[0m\u001b[0mvalues\u001b[0m\u001b[0;34m,\u001b[0m \u001b[0mextract_numpy\u001b[0m\u001b[0;34m=\u001b[0m\u001b[0;32mTrue\u001b[0m\u001b[0;34m)\u001b[0m\u001b[0;34m\u001b[0m\u001b[0;34m\u001b[0m\u001b[0m\n",
      "\u001b[0;32m~/.pyenv/versions/3.8.5/envs/lewagon/lib/python3.8/site-packages/pandas/io/formats/printing.py\u001b[0m in \u001b[0;36mpprint_thing\u001b[0;34m(thing, _nest_lvl, escape_chars, default_escapes, quote_strings, max_seq_items)\u001b[0m\n\u001b[1;32m    232\u001b[0m         \u001b[0mresult\u001b[0m \u001b[0;34m=\u001b[0m \u001b[0;34mf\"'{as_escaped_string(thing)}'\"\u001b[0m\u001b[0;34m\u001b[0m\u001b[0;34m\u001b[0m\u001b[0m\n\u001b[1;32m    233\u001b[0m     \u001b[0;32melse\u001b[0m\u001b[0;34m:\u001b[0m\u001b[0;34m\u001b[0m\u001b[0;34m\u001b[0m\u001b[0m\n\u001b[0;32m--> 234\u001b[0;31m         \u001b[0mresult\u001b[0m \u001b[0;34m=\u001b[0m \u001b[0mas_escaped_string\u001b[0m\u001b[0;34m(\u001b[0m\u001b[0mthing\u001b[0m\u001b[0;34m)\u001b[0m\u001b[0;34m\u001b[0m\u001b[0;34m\u001b[0m\u001b[0m\n\u001b[0m\u001b[1;32m    235\u001b[0m \u001b[0;34m\u001b[0m\u001b[0m\n\u001b[1;32m    236\u001b[0m     \u001b[0;32mreturn\u001b[0m \u001b[0mresult\u001b[0m\u001b[0;34m\u001b[0m\u001b[0;34m\u001b[0m\u001b[0m\n",
      "\u001b[0;32m~/.pyenv/versions/3.8.5/envs/lewagon/lib/python3.8/site-packages/pandas/io/formats/printing.py\u001b[0m in \u001b[0;36mas_escaped_string\u001b[0;34m(thing, escape_chars)\u001b[0m\n\u001b[1;32m    208\u001b[0m             \u001b[0mescape_chars\u001b[0m \u001b[0;34m=\u001b[0m \u001b[0mescape_chars\u001b[0m \u001b[0;32mor\u001b[0m \u001b[0mtuple\u001b[0m\u001b[0;34m(\u001b[0m\u001b[0;34m)\u001b[0m\u001b[0;34m\u001b[0m\u001b[0;34m\u001b[0m\u001b[0m\n\u001b[1;32m    209\u001b[0m \u001b[0;34m\u001b[0m\u001b[0m\n\u001b[0;32m--> 210\u001b[0;31m         \u001b[0mresult\u001b[0m \u001b[0;34m=\u001b[0m \u001b[0mstr\u001b[0m\u001b[0;34m(\u001b[0m\u001b[0mthing\u001b[0m\u001b[0;34m)\u001b[0m\u001b[0;34m\u001b[0m\u001b[0;34m\u001b[0m\u001b[0m\n\u001b[0m\u001b[1;32m    211\u001b[0m         \u001b[0;32mfor\u001b[0m \u001b[0mc\u001b[0m \u001b[0;32min\u001b[0m \u001b[0mescape_chars\u001b[0m\u001b[0;34m:\u001b[0m\u001b[0;34m\u001b[0m\u001b[0;34m\u001b[0m\u001b[0m\n\u001b[1;32m    212\u001b[0m             \u001b[0mresult\u001b[0m \u001b[0;34m=\u001b[0m \u001b[0mresult\u001b[0m\u001b[0;34m.\u001b[0m\u001b[0mreplace\u001b[0m\u001b[0;34m(\u001b[0m\u001b[0mc\u001b[0m\u001b[0;34m,\u001b[0m \u001b[0mtranslate\u001b[0m\u001b[0;34m[\u001b[0m\u001b[0mc\u001b[0m\u001b[0;34m]\u001b[0m\u001b[0;34m)\u001b[0m\u001b[0;34m\u001b[0m\u001b[0;34m\u001b[0m\u001b[0m\n",
      "\u001b[0;31mKeyboardInterrupt\u001b[0m: "
     ]
    },
    {
     "data": {
      "image/png": "[encoded data removed]",
      "text/plain": [
       "<Figure size 864x432 with 1 Axes>"
      ]
     },
     "metadata": {
      "needs_background": "light"
     },
     "output_type": "display_data"
    }
   ],
   "source": [
    "fig, ax1 = plt.subplots(1,1, figsize = (12,6))\n",
    "sns.stripplot( x='seller_state', y = 'final_profit', hue = 'review_score', data = tmp, ax = ax1)"
   ]
  },
  {
   "cell_type": "code",
   "execution_count": 319,
   "metadata": {},
   "outputs": [
    {
     "data": {
      "text/plain": [
       "<AxesSubplot:xlabel='seller_state', ylabel='final_profit'>"
      ]
     },
     "execution_count": 319,
     "metadata": {},
     "output_type": "execute_result"
    },
    {
     "data": {
      "image/png": "[encoded data removed]",
      "text/plain": [
       "<Figure size 864x576 with 1 Axes>"
      ]
     },
     "metadata": {
      "needs_background": "light"
     },
     "output_type": "display_data"
    }
   ],
   "source": [
    "fig, ax1 = plt.subplots(1,1, figsize = (12,8))\n",
    "sns.boxplot( x='seller_state', y = 'final_profit', data = tmp, ax = ax1)"
   ]
  },
  {
   "cell_type": "code",
   "execution_count": 310,
   "metadata": {
    "scrolled": true
   },
   "outputs": [
    {
     "data": {
      "text/plain": [
       "<AxesSubplot:xlabel='review_score', ylabel='final_profit'>"
      ]
     },
     "execution_count": 310,
     "metadata": {},
     "output_type": "execute_result"
    },
    {
     "data": {
      "image/png": "[encoded data removed]",
      "text/plain": [
       "<Figure size 864x432 with 1 Axes>"
      ]
     },
     "metadata": {
      "needs_background": "light"
     },
     "output_type": "display_data"
    }
   ],
   "source": [
    "fig, ax1 = plt.subplots(1,1, figsize = (12,6))\n",
    "sns.scatterplot( x='review_score', y = 'final_profit', data = tmp, ax = ax1)"
   ]
  },
  {
   "cell_type": "code",
   "execution_count": 318,
   "metadata": {},
   "outputs": [
    {
     "data": {
      "text/plain": [
       "Index(['seller_id', 'seller_profit', 'n_orders', 'it_cost', 'final_profit',\n",
       "       'profit_per_order', 'sales', 'date_first_sale', 'date_last_sale',\n",
       "       'sales_cut', 'months_active', 'rounder_active', 'revenue'],\n",
       "      dtype='object')"
      ]
     },
     "execution_count": 318,
     "metadata": {},
     "output_type": "execute_result"
    }
   ],
   "source": [
    "total_seller.columns"
   ]
  },
  {
   "cell_type": "code",
   "execution_count": 317,
   "metadata": {},
   "outputs": [
    {
     "data": {
      "text/plain": [
       "[(-100.0, 100.0)]"
      ]
     },
     "execution_count": 317,
     "metadata": {},
     "output_type": "execute_result"
    },
    {
     "data": {
      "image/png": "[encoded data removed]",
      "text/plain": [
       "<Figure size 864x432 with 1 Axes>"
      ]
     },
     "metadata": {
      "needs_background": "light"
     },
     "output_type": "display_data"
    }
   ],
   "source": [
    "fig, ax1 = plt.subplots(1,1, figsize = (12,6))\n",
    "sns.scatterplot( x='months_active', y = 'profit_per_order', data = total_seller, ax = ax1)\n",
    "ax1.set(ylim =(-100, 100))"
   ]
  },
  {
   "cell_type": "code",
   "execution_count": null,
   "metadata": {},
   "outputs": [],
   "source": []
  }
 ],
 "metadata": {
  "kernelspec": {
   "display_name": "Python 3",
   "language": "python",
   "name": "python3"
  },
  "language_info": {
   "codemirror_mode": {
    "name": "ipython",
    "version": 3
   },
   "file_extension": ".py",
   "mimetype": "text/x-python",
   "name": "python",
   "nbconvert_exporter": "python",
   "pygments_lexer": "ipython3",
   "version": "3.8.5"
  },
  "toc": {
   "base_numbering": 1,
   "nav_menu": {},
   "number_sections": true,
   "sideBar": true,
   "skip_h1_title": true,
   "title_cell": "Table of Contents",
   "title_sidebar": "Contents",
   "toc_cell": false,
   "toc_position": {},
   "toc_section_display": true,
   "toc_window_display": true
  },
  "varInspector": {
   "cols": {
    "lenName": 16,
    "lenType": 16,
    "lenVar": 40
   },
   "kernels_config": {
    "python": {
     "delete_cmd_postfix": "",
     "delete_cmd_prefix": "del ",
     "library": "var_list.py",
     "varRefreshCmd": "print(var_dic_list())"
    },
    "r": {
     "delete_cmd_postfix": ") ",
     "delete_cmd_prefix": "rm(",
     "library": "var_list.r",
     "varRefreshCmd": "cat(var_dic_list()) "
    }
   },
   "types_to_exclude": [
    "module",
    "function",
    "builtin_function_or_method",
    "instance",
    "_Feature"
   ],
   "window_display": false
  }
 },
 "nbformat": 4,
 "nbformat_minor": 4
}
